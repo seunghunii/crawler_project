{
 "cells": [
  {
   "cell_type": "code",
   "execution_count": 13,
   "id": "8b4368ce",
   "metadata": {
    "ExecuteTime": {
     "end_time": "2021-08-06T07:16:04.171288Z",
     "start_time": "2021-08-06T07:16:04.152368Z"
    }
   },
   "outputs": [],
   "source": [
    "import pandas as pd\n",
    "import requests\n",
    "from bs4 import BeautifulSoup\n",
    "import re"
   ]
  },
  {
   "cell_type": "code",
   "execution_count": 2,
   "id": "06507f75",
   "metadata": {
    "ExecuteTime": {
     "end_time": "2021-08-06T07:11:10.523225Z",
     "start_time": "2021-08-06T07:11:10.519236Z"
    }
   },
   "outputs": [],
   "source": [
    "urll = 'https://news.naver.com/main/read.naver?mode=LSD&mid=sec&sid1=101&oid=119&aid=0002518256'"
   ]
  },
  {
   "cell_type": "code",
   "execution_count": 3,
   "id": "b790a7b3",
   "metadata": {
    "ExecuteTime": {
     "end_time": "2021-08-06T07:11:32.899144Z",
     "start_time": "2021-08-06T07:11:32.883392Z"
    }
   },
   "outputs": [],
   "source": [
    "header = {\n",
    "    'User-Agent':'Mozilla/5.0 (Windows NT 10.0; Win64; x64) AppleWebKit/537.36 (KHTML, like Gecko) Chrome/91.0.4472.124 Safari/537.36'\n",
    "}"
   ]
  },
  {
   "cell_type": "code",
   "execution_count": 5,
   "id": "ba53de3a",
   "metadata": {
    "ExecuteTime": {
     "end_time": "2021-08-06T07:11:52.947083Z",
     "start_time": "2021-08-06T07:11:52.677685Z"
    }
   },
   "outputs": [],
   "source": [
    "reqq = requests.get(urll,headers=header)"
   ]
  },
  {
   "cell_type": "code",
   "execution_count": 6,
   "id": "ef67391d",
   "metadata": {
    "ExecuteTime": {
     "end_time": "2021-08-06T07:12:08.453940Z",
     "start_time": "2021-08-06T07:12:08.371180Z"
    }
   },
   "outputs": [],
   "source": [
    "soup = BeautifulSoup(reqq.text,'html.parser')"
   ]
  },
  {
   "cell_type": "code",
   "execution_count": 16,
   "id": "6140849b",
   "metadata": {
    "ExecuteTime": {
     "end_time": "2021-08-06T07:16:21.699309Z",
     "start_time": "2021-08-06T07:16:21.691331Z"
    }
   },
   "outputs": [
    {
     "data": {
      "text/plain": [
       "'데일리안'"
      ]
     },
     "execution_count": 16,
     "metadata": {},
     "output_type": "execute_result"
    }
   ],
   "source": [
    "soup.find('div',class_='article_header').find('img',src=re.compile('.png$'))['title']"
   ]
  },
  {
   "cell_type": "code",
   "execution_count": 17,
   "id": "2886f18b",
   "metadata": {
    "ExecuteTime": {
     "end_time": "2021-08-06T07:21:38.394213Z",
     "start_time": "2021-08-06T07:21:38.387231Z"
    }
   },
   "outputs": [
    {
     "data": {
      "text/plain": [
       "<img alt=\"데일리안\" class=\"\" height=\"35\" src=\"https://mimgnews.pstatic.net/image/upload/office_logo/119/2017/12/27/logo_119_38_20171227163327.png\" title=\"데일리안\"/>"
      ]
     },
     "execution_count": 17,
     "metadata": {},
     "output_type": "execute_result"
    }
   ],
   "source": [
    "soup.find('div',class_='article_header').find('img',src=re.compile('.png$'))"
   ]
  },
  {
   "cell_type": "code",
   "execution_count": null,
   "id": "c447a5ab",
   "metadata": {},
   "outputs": [],
   "source": []
  }
 ],
 "metadata": {
  "kernelspec": {
   "display_name": "simon_env",
   "language": "python",
   "name": "simon_env"
  },
  "language_info": {
   "codemirror_mode": {
    "name": "ipython",
    "version": 3
   },
   "file_extension": ".py",
   "mimetype": "text/x-python",
   "name": "python",
   "nbconvert_exporter": "python",
   "pygments_lexer": "ipython3",
   "version": "3.7.10"
  },
  "varInspector": {
   "cols": {
    "lenName": 16,
    "lenType": 16,
    "lenVar": 40
   },
   "kernels_config": {
    "python": {
     "delete_cmd_postfix": "",
     "delete_cmd_prefix": "del ",
     "library": "var_list.py",
     "varRefreshCmd": "print(var_dic_list())"
    },
    "r": {
     "delete_cmd_postfix": ") ",
     "delete_cmd_prefix": "rm(",
     "library": "var_list.r",
     "varRefreshCmd": "cat(var_dic_list()) "
    }
   },
   "types_to_exclude": [
    "module",
    "function",
    "builtin_function_or_method",
    "instance",
    "_Feature"
   ],
   "window_display": false
  }
 },
 "nbformat": 4,
 "nbformat_minor": 5
}
