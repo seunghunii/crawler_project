{
 "cells": [
  {
   "cell_type": "code",
   "execution_count": 48,
   "id": "1d9d47d5",
   "metadata": {
    "ExecuteTime": {
     "end_time": "2021-08-04T04:33:06.573085Z",
     "start_time": "2021-08-04T04:33:06.557127Z"
    }
   },
   "outputs": [],
   "source": [
    "import pandas as pd"
   ]
  },
  {
   "cell_type": "code",
   "execution_count": 49,
   "id": "adaca3e4",
   "metadata": {
    "ExecuteTime": {
     "end_time": "2021-08-04T04:33:06.589069Z",
     "start_time": "2021-08-04T04:33:06.574081Z"
    }
   },
   "outputs": [],
   "source": [
    "dirr = 'C:/Users/shic/Desktop/shinhan_simon/google_drive/crawler_data/stock/'"
   ]
  },
  {
   "cell_type": "code",
   "execution_count": 50,
   "id": "48e71b77",
   "metadata": {
    "ExecuteTime": {
     "end_time": "2021-08-04T04:33:12.134065Z",
     "start_time": "2021-08-04T04:33:06.590038Z"
    }
   },
   "outputs": [],
   "source": [
    "df = pd.read_csv(dirr+'/stock_price_record.csv',dtype={'code':'str'})\n",
    "kospi_code = pd.read_csv(dirr+'/kospi_code.csv',encoding='CP949',dtype={'종목코드':'str'})\n",
    "kosdaq_code = pd.read_csv(dirr+'/kosdaq_code.csv',encoding='CP949',dtype={'종목코드':'str'})"
   ]
  },
  {
   "cell_type": "code",
   "execution_count": 51,
   "id": "c7649b48",
   "metadata": {
    "ExecuteTime": {
     "end_time": "2021-08-04T04:33:15.836470Z",
     "start_time": "2021-08-04T04:33:12.135062Z"
    }
   },
   "outputs": [],
   "source": [
    "df = df.dropna(axis=0)\n",
    "df = df.reset_index(drop=True)\n",
    "df = df.rename(columns = {'code':'종목코드','type':'시장구분'})\n",
    "df['날짜'] = df['날짜'].str.replace('.','',regex=False)"
   ]
  },
  {
   "cell_type": "code",
   "execution_count": 52,
   "id": "e3848bf0",
   "metadata": {
    "ExecuteTime": {
     "end_time": "2021-08-04T04:33:17.161751Z",
     "start_time": "2021-08-04T04:33:15.839470Z"
    }
   },
   "outputs": [],
   "source": [
    "df['시장구분'] = df['시장구분'].str.upper()"
   ]
  },
  {
   "cell_type": "code",
   "execution_count": 53,
   "id": "041aa154",
   "metadata": {
    "ExecuteTime": {
     "end_time": "2021-08-04T04:33:17.177613Z",
     "start_time": "2021-08-04T04:33:17.162653Z"
    }
   },
   "outputs": [
    {
     "data": {
      "text/html": [
       "<div>\n",
       "<style scoped>\n",
       "    .dataframe tbody tr th:only-of-type {\n",
       "        vertical-align: middle;\n",
       "    }\n",
       "\n",
       "    .dataframe tbody tr th {\n",
       "        vertical-align: top;\n",
       "    }\n",
       "\n",
       "    .dataframe thead th {\n",
       "        text-align: right;\n",
       "    }\n",
       "</style>\n",
       "<table border=\"1\" class=\"dataframe\">\n",
       "  <thead>\n",
       "    <tr style=\"text-align: right;\">\n",
       "      <th></th>\n",
       "      <th>종목코드</th>\n",
       "      <th>종목명</th>\n",
       "      <th>시장구분</th>\n",
       "      <th>업종명</th>\n",
       "    </tr>\n",
       "  </thead>\n",
       "  <tbody>\n",
       "    <tr>\n",
       "      <th>0</th>\n",
       "      <td>095570</td>\n",
       "      <td>AJ네트웍스</td>\n",
       "      <td>KOSPI</td>\n",
       "      <td>서비스업</td>\n",
       "    </tr>\n",
       "    <tr>\n",
       "      <th>1</th>\n",
       "      <td>006840</td>\n",
       "      <td>AK홀딩스</td>\n",
       "      <td>KOSPI</td>\n",
       "      <td>기타금융</td>\n",
       "    </tr>\n",
       "    <tr>\n",
       "      <th>2</th>\n",
       "      <td>027410</td>\n",
       "      <td>BGF</td>\n",
       "      <td>KOSPI</td>\n",
       "      <td>기타금융</td>\n",
       "    </tr>\n",
       "    <tr>\n",
       "      <th>3</th>\n",
       "      <td>282330</td>\n",
       "      <td>BGF리테일</td>\n",
       "      <td>KOSPI</td>\n",
       "      <td>유통업</td>\n",
       "    </tr>\n",
       "    <tr>\n",
       "      <th>4</th>\n",
       "      <td>138930</td>\n",
       "      <td>BNK금융지주</td>\n",
       "      <td>KOSPI</td>\n",
       "      <td>기타금융</td>\n",
       "    </tr>\n",
       "    <tr>\n",
       "      <th>...</th>\n",
       "      <td>...</td>\n",
       "      <td>...</td>\n",
       "      <td>...</td>\n",
       "      <td>...</td>\n",
       "    </tr>\n",
       "    <tr>\n",
       "      <th>1503</th>\n",
       "      <td>024060</td>\n",
       "      <td>흥구석유</td>\n",
       "      <td>KOSDAQ</td>\n",
       "      <td>유통</td>\n",
       "    </tr>\n",
       "    <tr>\n",
       "      <th>1504</th>\n",
       "      <td>010240</td>\n",
       "      <td>흥국</td>\n",
       "      <td>KOSDAQ</td>\n",
       "      <td>기계·장비</td>\n",
       "    </tr>\n",
       "    <tr>\n",
       "      <th>1505</th>\n",
       "      <td>189980</td>\n",
       "      <td>흥국에프엔비</td>\n",
       "      <td>KOSDAQ</td>\n",
       "      <td>음식료·담배</td>\n",
       "    </tr>\n",
       "    <tr>\n",
       "      <th>1506</th>\n",
       "      <td>037440</td>\n",
       "      <td>희림</td>\n",
       "      <td>KOSDAQ</td>\n",
       "      <td>기타서비스</td>\n",
       "    </tr>\n",
       "    <tr>\n",
       "      <th>1507</th>\n",
       "      <td>238490</td>\n",
       "      <td>힘스</td>\n",
       "      <td>KOSDAQ</td>\n",
       "      <td>반도체</td>\n",
       "    </tr>\n",
       "  </tbody>\n",
       "</table>\n",
       "<p>2437 rows × 4 columns</p>\n",
       "</div>"
      ],
      "text/plain": [
       "        종목코드      종목명    시장구분     업종명\n",
       "0     095570   AJ네트웍스   KOSPI    서비스업\n",
       "1     006840    AK홀딩스   KOSPI    기타금융\n",
       "2     027410      BGF   KOSPI    기타금융\n",
       "3     282330   BGF리테일   KOSPI     유통업\n",
       "4     138930  BNK금융지주   KOSPI    기타금융\n",
       "...      ...      ...     ...     ...\n",
       "1503  024060     흥구석유  KOSDAQ      유통\n",
       "1504  010240       흥국  KOSDAQ   기계·장비\n",
       "1505  189980   흥국에프엔비  KOSDAQ  음식료·담배\n",
       "1506  037440       희림  KOSDAQ   기타서비스\n",
       "1507  238490       힘스  KOSDAQ     반도체\n",
       "\n",
       "[2437 rows x 4 columns]"
      ]
     },
     "execution_count": 53,
     "metadata": {},
     "output_type": "execute_result"
    }
   ],
   "source": [
    "code_df = pd.concat([kospi_code,kosdaq_code],axis=0)\n",
    "code_df = code_df[['종목코드','종목명','시장구분','업종명']]\n",
    "code_df"
   ]
  },
  {
   "cell_type": "code",
   "execution_count": 54,
   "id": "16683884",
   "metadata": {
    "ExecuteTime": {
     "end_time": "2021-08-04T04:33:18.904995Z",
     "start_time": "2021-08-04T04:33:17.178611Z"
    }
   },
   "outputs": [
    {
     "data": {
      "text/html": [
       "<div>\n",
       "<style scoped>\n",
       "    .dataframe tbody tr th:only-of-type {\n",
       "        vertical-align: middle;\n",
       "    }\n",
       "\n",
       "    .dataframe tbody tr th {\n",
       "        vertical-align: top;\n",
       "    }\n",
       "\n",
       "    .dataframe thead th {\n",
       "        text-align: right;\n",
       "    }\n",
       "</style>\n",
       "<table border=\"1\" class=\"dataframe\">\n",
       "  <thead>\n",
       "    <tr style=\"text-align: right;\">\n",
       "      <th></th>\n",
       "      <th>날짜</th>\n",
       "      <th>종가</th>\n",
       "      <th>전일비</th>\n",
       "      <th>시가</th>\n",
       "      <th>고가</th>\n",
       "      <th>저가</th>\n",
       "      <th>거래량</th>\n",
       "      <th>종목코드</th>\n",
       "      <th>시장구분</th>\n",
       "      <th>종목명</th>\n",
       "      <th>업종명</th>\n",
       "    </tr>\n",
       "  </thead>\n",
       "  <tbody>\n",
       "    <tr>\n",
       "      <th>0</th>\n",
       "      <td>20210729</td>\n",
       "      <td>3275.0</td>\n",
       "      <td>0.0</td>\n",
       "      <td>3275.0</td>\n",
       "      <td>3275.0</td>\n",
       "      <td>3275.0</td>\n",
       "      <td>0.0</td>\n",
       "      <td>060310</td>\n",
       "      <td>KOSDAQ</td>\n",
       "      <td>3S</td>\n",
       "      <td>기계·장비</td>\n",
       "    </tr>\n",
       "    <tr>\n",
       "      <th>1</th>\n",
       "      <td>20210728</td>\n",
       "      <td>3275.0</td>\n",
       "      <td>85.0</td>\n",
       "      <td>3345.0</td>\n",
       "      <td>3390.0</td>\n",
       "      <td>3220.0</td>\n",
       "      <td>551351.0</td>\n",
       "      <td>060310</td>\n",
       "      <td>KOSDAQ</td>\n",
       "      <td>3S</td>\n",
       "      <td>기계·장비</td>\n",
       "    </tr>\n",
       "    <tr>\n",
       "      <th>2</th>\n",
       "      <td>20210727</td>\n",
       "      <td>3360.0</td>\n",
       "      <td>55.0</td>\n",
       "      <td>3305.0</td>\n",
       "      <td>3435.0</td>\n",
       "      <td>3275.0</td>\n",
       "      <td>676552.0</td>\n",
       "      <td>060310</td>\n",
       "      <td>KOSDAQ</td>\n",
       "      <td>3S</td>\n",
       "      <td>기계·장비</td>\n",
       "    </tr>\n",
       "    <tr>\n",
       "      <th>3</th>\n",
       "      <td>20210726</td>\n",
       "      <td>3305.0</td>\n",
       "      <td>105.0</td>\n",
       "      <td>3395.0</td>\n",
       "      <td>3400.0</td>\n",
       "      <td>3245.0</td>\n",
       "      <td>772081.0</td>\n",
       "      <td>060310</td>\n",
       "      <td>KOSDAQ</td>\n",
       "      <td>3S</td>\n",
       "      <td>기계·장비</td>\n",
       "    </tr>\n",
       "    <tr>\n",
       "      <th>4</th>\n",
       "      <td>20210723</td>\n",
       "      <td>3410.0</td>\n",
       "      <td>50.0</td>\n",
       "      <td>3405.0</td>\n",
       "      <td>3625.0</td>\n",
       "      <td>3325.0</td>\n",
       "      <td>4123591.0</td>\n",
       "      <td>060310</td>\n",
       "      <td>KOSDAQ</td>\n",
       "      <td>3S</td>\n",
       "      <td>기계·장비</td>\n",
       "    </tr>\n",
       "    <tr>\n",
       "      <th>...</th>\n",
       "      <td>...</td>\n",
       "      <td>...</td>\n",
       "      <td>...</td>\n",
       "      <td>...</td>\n",
       "      <td>...</td>\n",
       "      <td>...</td>\n",
       "      <td>...</td>\n",
       "      <td>...</td>\n",
       "      <td>...</td>\n",
       "      <td>...</td>\n",
       "      <td>...</td>\n",
       "    </tr>\n",
       "    <tr>\n",
       "      <th>5546009</th>\n",
       "      <td>20110630</td>\n",
       "      <td>872.0</td>\n",
       "      <td>7.0</td>\n",
       "      <td>883.0</td>\n",
       "      <td>883.0</td>\n",
       "      <td>864.0</td>\n",
       "      <td>102536.0</td>\n",
       "      <td>003280</td>\n",
       "      <td>KOSPI</td>\n",
       "      <td>흥아해운</td>\n",
       "      <td>운수창고업</td>\n",
       "    </tr>\n",
       "    <tr>\n",
       "      <th>5546010</th>\n",
       "      <td>20110629</td>\n",
       "      <td>879.0</td>\n",
       "      <td>1.0</td>\n",
       "      <td>873.0</td>\n",
       "      <td>880.0</td>\n",
       "      <td>868.0</td>\n",
       "      <td>112486.0</td>\n",
       "      <td>003280</td>\n",
       "      <td>KOSPI</td>\n",
       "      <td>흥아해운</td>\n",
       "      <td>운수창고업</td>\n",
       "    </tr>\n",
       "    <tr>\n",
       "      <th>5546011</th>\n",
       "      <td>20110628</td>\n",
       "      <td>880.0</td>\n",
       "      <td>18.0</td>\n",
       "      <td>887.0</td>\n",
       "      <td>909.0</td>\n",
       "      <td>875.0</td>\n",
       "      <td>123722.0</td>\n",
       "      <td>003280</td>\n",
       "      <td>KOSPI</td>\n",
       "      <td>흥아해운</td>\n",
       "      <td>운수창고업</td>\n",
       "    </tr>\n",
       "    <tr>\n",
       "      <th>5546012</th>\n",
       "      <td>20110627</td>\n",
       "      <td>898.0</td>\n",
       "      <td>6.0</td>\n",
       "      <td>894.0</td>\n",
       "      <td>910.0</td>\n",
       "      <td>875.0</td>\n",
       "      <td>129440.0</td>\n",
       "      <td>003280</td>\n",
       "      <td>KOSPI</td>\n",
       "      <td>흥아해운</td>\n",
       "      <td>운수창고업</td>\n",
       "    </tr>\n",
       "    <tr>\n",
       "      <th>5546013</th>\n",
       "      <td>20110624</td>\n",
       "      <td>892.0</td>\n",
       "      <td>25.0</td>\n",
       "      <td>870.0</td>\n",
       "      <td>918.0</td>\n",
       "      <td>870.0</td>\n",
       "      <td>277287.0</td>\n",
       "      <td>003280</td>\n",
       "      <td>KOSPI</td>\n",
       "      <td>흥아해운</td>\n",
       "      <td>운수창고업</td>\n",
       "    </tr>\n",
       "  </tbody>\n",
       "</table>\n",
       "<p>5546014 rows × 11 columns</p>\n",
       "</div>"
      ],
      "text/plain": [
       "               날짜      종가    전일비      시가      고가      저가        거래량    종목코드  \\\n",
       "0        20210729  3275.0    0.0  3275.0  3275.0  3275.0        0.0  060310   \n",
       "1        20210728  3275.0   85.0  3345.0  3390.0  3220.0   551351.0  060310   \n",
       "2        20210727  3360.0   55.0  3305.0  3435.0  3275.0   676552.0  060310   \n",
       "3        20210726  3305.0  105.0  3395.0  3400.0  3245.0   772081.0  060310   \n",
       "4        20210723  3410.0   50.0  3405.0  3625.0  3325.0  4123591.0  060310   \n",
       "...           ...     ...    ...     ...     ...     ...        ...     ...   \n",
       "5546009  20110630   872.0    7.0   883.0   883.0   864.0   102536.0  003280   \n",
       "5546010  20110629   879.0    1.0   873.0   880.0   868.0   112486.0  003280   \n",
       "5546011  20110628   880.0   18.0   887.0   909.0   875.0   123722.0  003280   \n",
       "5546012  20110627   898.0    6.0   894.0   910.0   875.0   129440.0  003280   \n",
       "5546013  20110624   892.0   25.0   870.0   918.0   870.0   277287.0  003280   \n",
       "\n",
       "           시장구분   종목명    업종명  \n",
       "0        KOSDAQ    3S  기계·장비  \n",
       "1        KOSDAQ    3S  기계·장비  \n",
       "2        KOSDAQ    3S  기계·장비  \n",
       "3        KOSDAQ    3S  기계·장비  \n",
       "4        KOSDAQ    3S  기계·장비  \n",
       "...         ...   ...    ...  \n",
       "5546009   KOSPI  흥아해운  운수창고업  \n",
       "5546010   KOSPI  흥아해운  운수창고업  \n",
       "5546011   KOSPI  흥아해운  운수창고업  \n",
       "5546012   KOSPI  흥아해운  운수창고업  \n",
       "5546013   KOSPI  흥아해운  운수창고업  \n",
       "\n",
       "[5546014 rows x 11 columns]"
      ]
     },
     "execution_count": 54,
     "metadata": {},
     "output_type": "execute_result"
    }
   ],
   "source": [
    "df_bind = pd.merge(df,code_df,how='left',on=['종목코드','시장구분'])\n",
    "df_bind"
   ]
  },
  {
   "cell_type": "code",
   "execution_count": 57,
   "id": "6df0a4cf",
   "metadata": {
    "ExecuteTime": {
     "end_time": "2021-08-04T04:35:40.893301Z",
     "start_time": "2021-08-04T04:35:15.426770Z"
    }
   },
   "outputs": [],
   "source": [
    "df_bind.to_csv('C:/Users/shic/Desktop/shinhan_simon/google_drive/crawler_data/stock/stock_preprocessed.csv',index=0)"
   ]
  }
 ],
 "metadata": {
  "kernelspec": {
   "display_name": "simon_env",
   "language": "python",
   "name": "simon_env"
  },
  "language_info": {
   "codemirror_mode": {
    "name": "ipython",
    "version": 3
   },
   "file_extension": ".py",
   "mimetype": "text/x-python",
   "name": "python",
   "nbconvert_exporter": "python",
   "pygments_lexer": "ipython3",
   "version": "3.7.10"
  },
  "varInspector": {
   "cols": {
    "lenName": 16,
    "lenType": 16,
    "lenVar": 40
   },
   "kernels_config": {
    "python": {
     "delete_cmd_postfix": "",
     "delete_cmd_prefix": "del ",
     "library": "var_list.py",
     "varRefreshCmd": "print(var_dic_list())"
    },
    "r": {
     "delete_cmd_postfix": ") ",
     "delete_cmd_prefix": "rm(",
     "library": "var_list.r",
     "varRefreshCmd": "cat(var_dic_list()) "
    }
   },
   "types_to_exclude": [
    "module",
    "function",
    "builtin_function_or_method",
    "instance",
    "_Feature"
   ],
   "window_display": false
  }
 },
 "nbformat": 4,
 "nbformat_minor": 5
}
