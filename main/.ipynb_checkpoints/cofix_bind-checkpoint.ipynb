{
 "cells": [
  {
   "cell_type": "code",
   "execution_count": 1,
   "id": "f3fdfb47",
   "metadata": {
    "ExecuteTime": {
     "end_time": "2021-08-23T00:42:34.460708Z",
     "start_time": "2021-08-23T00:42:34.098832Z"
    }
   },
   "outputs": [],
   "source": [
    "import pandas as pd\n",
    "from glob import glob"
   ]
  },
  {
   "cell_type": "code",
   "execution_count": 2,
   "id": "2c603e09",
   "metadata": {
    "ExecuteTime": {
     "end_time": "2021-08-23T00:42:38.554103Z",
     "start_time": "2021-08-23T00:42:38.543108Z"
    }
   },
   "outputs": [],
   "source": [
    "dirr = 'C:/Users/shic/Desktop/shinhan_simon/google_drive/crawler_data/cofix/'"
   ]
  },
  {
   "cell_type": "code",
   "execution_count": 4,
   "id": "53c3c175",
   "metadata": {
    "ExecuteTime": {
     "end_time": "2021-08-23T00:43:00.462815Z",
     "start_time": "2021-08-23T00:43:00.452842Z"
    }
   },
   "outputs": [
    {
     "data": {
      "text/plain": [
       "['C:/Users/shic/Desktop/shinhan_simon/google_drive/crawler_data/cofix\\\\COFIX통계(2012년도)_20210823.xlsx',\n",
       " 'C:/Users/shic/Desktop/shinhan_simon/google_drive/crawler_data/cofix\\\\COFIX통계(2013년도)_20210823.xlsx',\n",
       " 'C:/Users/shic/Desktop/shinhan_simon/google_drive/crawler_data/cofix\\\\COFIX통계(2014년도)_20210823.xlsx',\n",
       " 'C:/Users/shic/Desktop/shinhan_simon/google_drive/crawler_data/cofix\\\\COFIX통계(2015년도)_20210823.xlsx',\n",
       " 'C:/Users/shic/Desktop/shinhan_simon/google_drive/crawler_data/cofix\\\\COFIX통계(2016년도)_20210823.xlsx',\n",
       " 'C:/Users/shic/Desktop/shinhan_simon/google_drive/crawler_data/cofix\\\\COFIX통계(2017년도)_20210823.xlsx',\n",
       " 'C:/Users/shic/Desktop/shinhan_simon/google_drive/crawler_data/cofix\\\\COFIX통계(2018년도)_20210823.xlsx',\n",
       " 'C:/Users/shic/Desktop/shinhan_simon/google_drive/crawler_data/cofix\\\\COFIX통계(2019년도)_20210823.xlsx',\n",
       " 'C:/Users/shic/Desktop/shinhan_simon/google_drive/crawler_data/cofix\\\\COFIX통계(2020년도)_20210823.xlsx',\n",
       " 'C:/Users/shic/Desktop/shinhan_simon/google_drive/crawler_data/cofix\\\\COFIX통계(2021년도)_20210823.xlsx']"
      ]
     },
     "execution_count": 4,
     "metadata": {},
     "output_type": "execute_result"
    }
   ],
   "source": [
    "dir_list = glob(dirr+'*.xlsx')\n",
    "dir_list"
   ]
  },
  {
   "cell_type": "code",
   "execution_count": 8,
   "id": "b3a995fe",
   "metadata": {
    "ExecuteTime": {
     "end_time": "2021-08-23T00:44:29.120271Z",
     "start_time": "2021-08-23T00:44:29.091781Z"
    }
   },
   "outputs": [
    {
     "data": {
      "text/html": [
       "<div>\n",
       "<style scoped>\n",
       "    .dataframe tbody tr th:only-of-type {\n",
       "        vertical-align: middle;\n",
       "    }\n",
       "\n",
       "    .dataframe tbody tr th {\n",
       "        vertical-align: top;\n",
       "    }\n",
       "\n",
       "    .dataframe thead th {\n",
       "        text-align: right;\n",
       "    }\n",
       "</style>\n",
       "<table border=\"1\" class=\"dataframe\">\n",
       "  <thead>\n",
       "    <tr style=\"text-align: right;\">\n",
       "      <th></th>\n",
       "      <th>공시일</th>\n",
       "      <th>대상월</th>\n",
       "      <th>신규취급액기준 COFIX</th>\n",
       "      <th>잔액기준 COFIX</th>\n",
       "      <th>신 잔액기준 COFIX</th>\n",
       "    </tr>\n",
       "  </thead>\n",
       "  <tbody>\n",
       "    <tr>\n",
       "      <th>0</th>\n",
       "      <td>2012/12/17</td>\n",
       "      <td>2012/11</td>\n",
       "      <td>3.01</td>\n",
       "      <td>3.57</td>\n",
       "      <td>-</td>\n",
       "    </tr>\n",
       "    <tr>\n",
       "      <th>1</th>\n",
       "      <td>2012/11/15</td>\n",
       "      <td>2012/10</td>\n",
       "      <td>3.08</td>\n",
       "      <td>3.64</td>\n",
       "      <td>-</td>\n",
       "    </tr>\n",
       "    <tr>\n",
       "      <th>2</th>\n",
       "      <td>2012/10/15</td>\n",
       "      <td>2012/09</td>\n",
       "      <td>3.18</td>\n",
       "      <td>3.72</td>\n",
       "      <td>-</td>\n",
       "    </tr>\n",
       "    <tr>\n",
       "      <th>3</th>\n",
       "      <td>2012/09/17</td>\n",
       "      <td>2012/08</td>\n",
       "      <td>3.18</td>\n",
       "      <td>3.78</td>\n",
       "      <td>-</td>\n",
       "    </tr>\n",
       "    <tr>\n",
       "      <th>4</th>\n",
       "      <td>2012/08/16</td>\n",
       "      <td>2012/07</td>\n",
       "      <td>3.40</td>\n",
       "      <td>3.85</td>\n",
       "      <td>-</td>\n",
       "    </tr>\n",
       "    <tr>\n",
       "      <th>5</th>\n",
       "      <td>2012/07/16</td>\n",
       "      <td>2012/06</td>\n",
       "      <td>3.62</td>\n",
       "      <td>3.90</td>\n",
       "      <td>-</td>\n",
       "    </tr>\n",
       "    <tr>\n",
       "      <th>6</th>\n",
       "      <td>2012/06/15</td>\n",
       "      <td>2012/05</td>\n",
       "      <td>3.63</td>\n",
       "      <td>3.91</td>\n",
       "      <td>-</td>\n",
       "    </tr>\n",
       "    <tr>\n",
       "      <th>7</th>\n",
       "      <td>2012/05/15</td>\n",
       "      <td>2012/04</td>\n",
       "      <td>3.69</td>\n",
       "      <td>3.92</td>\n",
       "      <td>-</td>\n",
       "    </tr>\n",
       "    <tr>\n",
       "      <th>8</th>\n",
       "      <td>2012/04/16</td>\n",
       "      <td>2012/03</td>\n",
       "      <td>3.72</td>\n",
       "      <td>3.93</td>\n",
       "      <td>-</td>\n",
       "    </tr>\n",
       "    <tr>\n",
       "      <th>9</th>\n",
       "      <td>2012/03/15</td>\n",
       "      <td>2012/02</td>\n",
       "      <td>3.73</td>\n",
       "      <td>3.94</td>\n",
       "      <td>-</td>\n",
       "    </tr>\n",
       "    <tr>\n",
       "      <th>10</th>\n",
       "      <td>2012/02/15</td>\n",
       "      <td>2012/01</td>\n",
       "      <td>3.75</td>\n",
       "      <td>3.96</td>\n",
       "      <td>-</td>\n",
       "    </tr>\n",
       "    <tr>\n",
       "      <th>11</th>\n",
       "      <td>2012/01/16</td>\n",
       "      <td>2011/12</td>\n",
       "      <td>3.77</td>\n",
       "      <td>3.97</td>\n",
       "      <td>-</td>\n",
       "    </tr>\n",
       "  </tbody>\n",
       "</table>\n",
       "</div>"
      ],
      "text/plain": [
       "           공시일      대상월  신규취급액기준 COFIX  잔액기준 COFIX 신 잔액기준 COFIX\n",
       "0   2012/12/17  2012/11           3.01        3.57            -\n",
       "1   2012/11/15  2012/10           3.08        3.64            -\n",
       "2   2012/10/15  2012/09           3.18        3.72            -\n",
       "3   2012/09/17  2012/08           3.18        3.78            -\n",
       "4   2012/08/16  2012/07           3.40        3.85            -\n",
       "5   2012/07/16  2012/06           3.62        3.90            -\n",
       "6   2012/06/15  2012/05           3.63        3.91            -\n",
       "7   2012/05/15  2012/04           3.69        3.92            -\n",
       "8   2012/04/16  2012/03           3.72        3.93            -\n",
       "9   2012/03/15  2012/02           3.73        3.94            -\n",
       "10  2012/02/15  2012/01           3.75        3.96            -\n",
       "11  2012/01/16  2011/12           3.77        3.97            -"
      ]
     },
     "execution_count": 8,
     "metadata": {},
     "output_type": "execute_result"
    }
   ],
   "source": [
    "pd.read_excel(dir_list[0],skiprows=1)"
   ]
  },
  {
   "cell_type": "code",
   "execution_count": 12,
   "id": "9aff4cbe",
   "metadata": {
    "ExecuteTime": {
     "end_time": "2021-08-23T00:45:53.410391Z",
     "start_time": "2021-08-23T00:45:53.317430Z"
    }
   },
   "outputs": [],
   "source": [
    "df_list = []\n",
    "for dd in dir_list:\n",
    "    tmp_df = pd.read_excel(dd,skiprows=1)\n",
    "    df_list.append(tmp_df)"
   ]
  },
  {
   "cell_type": "code",
   "execution_count": 21,
   "id": "708863f1",
   "metadata": {
    "ExecuteTime": {
     "end_time": "2021-08-23T00:47:58.266946Z",
     "start_time": "2021-08-23T00:47:58.246033Z"
    }
   },
   "outputs": [
    {
     "data": {
      "text/html": [
       "<div>\n",
       "<style scoped>\n",
       "    .dataframe tbody tr th:only-of-type {\n",
       "        vertical-align: middle;\n",
       "    }\n",
       "\n",
       "    .dataframe tbody tr th {\n",
       "        vertical-align: top;\n",
       "    }\n",
       "\n",
       "    .dataframe thead th {\n",
       "        text-align: right;\n",
       "    }\n",
       "</style>\n",
       "<table border=\"1\" class=\"dataframe\">\n",
       "  <thead>\n",
       "    <tr style=\"text-align: right;\">\n",
       "      <th></th>\n",
       "      <th>공시일</th>\n",
       "      <th>대상월</th>\n",
       "      <th>신규취급액기준 COFIX</th>\n",
       "      <th>잔액기준 COFIX</th>\n",
       "      <th>신 잔액기준 COFIX</th>\n",
       "    </tr>\n",
       "  </thead>\n",
       "  <tbody>\n",
       "    <tr>\n",
       "      <th>0</th>\n",
       "      <td>2012/12/17</td>\n",
       "      <td>2012/11</td>\n",
       "      <td>3.01</td>\n",
       "      <td>3.57</td>\n",
       "      <td>-</td>\n",
       "    </tr>\n",
       "    <tr>\n",
       "      <th>1</th>\n",
       "      <td>2012/11/15</td>\n",
       "      <td>2012/10</td>\n",
       "      <td>3.08</td>\n",
       "      <td>3.64</td>\n",
       "      <td>-</td>\n",
       "    </tr>\n",
       "    <tr>\n",
       "      <th>2</th>\n",
       "      <td>2012/10/15</td>\n",
       "      <td>2012/09</td>\n",
       "      <td>3.18</td>\n",
       "      <td>3.72</td>\n",
       "      <td>-</td>\n",
       "    </tr>\n",
       "    <tr>\n",
       "      <th>3</th>\n",
       "      <td>2012/09/17</td>\n",
       "      <td>2012/08</td>\n",
       "      <td>3.18</td>\n",
       "      <td>3.78</td>\n",
       "      <td>-</td>\n",
       "    </tr>\n",
       "    <tr>\n",
       "      <th>4</th>\n",
       "      <td>2012/08/16</td>\n",
       "      <td>2012/07</td>\n",
       "      <td>3.40</td>\n",
       "      <td>3.85</td>\n",
       "      <td>-</td>\n",
       "    </tr>\n",
       "    <tr>\n",
       "      <th>...</th>\n",
       "      <td>...</td>\n",
       "      <td>...</td>\n",
       "      <td>...</td>\n",
       "      <td>...</td>\n",
       "      <td>...</td>\n",
       "    </tr>\n",
       "    <tr>\n",
       "      <th>3</th>\n",
       "      <td>2021/05/17</td>\n",
       "      <td>2021/04</td>\n",
       "      <td>0.82</td>\n",
       "      <td>1.04</td>\n",
       "      <td>0.81</td>\n",
       "    </tr>\n",
       "    <tr>\n",
       "      <th>4</th>\n",
       "      <td>2021/04/15</td>\n",
       "      <td>2021/03</td>\n",
       "      <td>0.84</td>\n",
       "      <td>1.06</td>\n",
       "      <td>0.84</td>\n",
       "    </tr>\n",
       "    <tr>\n",
       "      <th>5</th>\n",
       "      <td>2021/03/15</td>\n",
       "      <td>2021/02</td>\n",
       "      <td>0.83</td>\n",
       "      <td>1.09</td>\n",
       "      <td>0.87</td>\n",
       "    </tr>\n",
       "    <tr>\n",
       "      <th>6</th>\n",
       "      <td>2021/02/15</td>\n",
       "      <td>2021/01</td>\n",
       "      <td>0.86</td>\n",
       "      <td>1.13</td>\n",
       "      <td>0.9</td>\n",
       "    </tr>\n",
       "    <tr>\n",
       "      <th>7</th>\n",
       "      <td>2021/01/15</td>\n",
       "      <td>2020/12</td>\n",
       "      <td>0.90</td>\n",
       "      <td>1.17</td>\n",
       "      <td>0.93</td>\n",
       "    </tr>\n",
       "  </tbody>\n",
       "</table>\n",
       "<p>116 rows × 5 columns</p>\n",
       "</div>"
      ],
      "text/plain": [
       "           공시일      대상월  신규취급액기준 COFIX  잔액기준 COFIX 신 잔액기준 COFIX\n",
       "0   2012/12/17  2012/11           3.01        3.57            -\n",
       "1   2012/11/15  2012/10           3.08        3.64            -\n",
       "2   2012/10/15  2012/09           3.18        3.72            -\n",
       "3   2012/09/17  2012/08           3.18        3.78            -\n",
       "4   2012/08/16  2012/07           3.40        3.85            -\n",
       "..         ...      ...            ...         ...          ...\n",
       "3   2021/05/17  2021/04           0.82        1.04         0.81\n",
       "4   2021/04/15  2021/03           0.84        1.06         0.84\n",
       "5   2021/03/15  2021/02           0.83        1.09         0.87\n",
       "6   2021/02/15  2021/01           0.86        1.13          0.9\n",
       "7   2021/01/15  2020/12           0.90        1.17         0.93\n",
       "\n",
       "[116 rows x 5 columns]"
      ]
     },
     "execution_count": 21,
     "metadata": {},
     "output_type": "execute_result"
    }
   ],
   "source": [
    "df = pd.concat(df_list)\n",
    "df"
   ]
  },
  {
   "cell_type": "code",
   "execution_count": 26,
   "id": "97f90a65",
   "metadata": {
    "ExecuteTime": {
     "end_time": "2021-08-23T00:49:20.008687Z",
     "start_time": "2021-08-23T00:49:19.996719Z"
    }
   },
   "outputs": [],
   "source": [
    "df.to_csv(dirr + 'cofix_bind.csv',index=False,encoding='UTF-8-sig')"
   ]
  }
 ],
 "metadata": {
  "kernelspec": {
   "display_name": "simon_env",
   "language": "python",
   "name": "simon_env"
  },
  "language_info": {
   "codemirror_mode": {
    "name": "ipython",
    "version": 3
   },
   "file_extension": ".py",
   "mimetype": "text/x-python",
   "name": "python",
   "nbconvert_exporter": "python",
   "pygments_lexer": "ipython3",
   "version": "3.7.11"
  },
  "varInspector": {
   "cols": {
    "lenName": 16,
    "lenType": 16,
    "lenVar": 40
   },
   "kernels_config": {
    "python": {
     "delete_cmd_postfix": "",
     "delete_cmd_prefix": "del ",
     "library": "var_list.py",
     "varRefreshCmd": "print(var_dic_list())"
    },
    "r": {
     "delete_cmd_postfix": ") ",
     "delete_cmd_prefix": "rm(",
     "library": "var_list.r",
     "varRefreshCmd": "cat(var_dic_list()) "
    }
   },
   "types_to_exclude": [
    "module",
    "function",
    "builtin_function_or_method",
    "instance",
    "_Feature"
   ],
   "window_display": false
  }
 },
 "nbformat": 4,
 "nbformat_minor": 5
}
