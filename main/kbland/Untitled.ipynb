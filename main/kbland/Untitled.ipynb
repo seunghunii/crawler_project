{
 "cells": [
  {
   "cell_type": "code",
   "execution_count": 8,
   "metadata": {
    "ExecuteTime": {
     "end_time": "2021-08-05T12:51:02.561075Z",
     "start_time": "2021-08-05T12:51:02.550088Z"
    }
   },
   "outputs": [],
   "source": [
    "import pandas as pd\n",
    "from glob import glob"
   ]
  },
  {
   "cell_type": "code",
   "execution_count": 9,
   "metadata": {
    "ExecuteTime": {
     "end_time": "2021-08-05T12:51:02.576565Z",
     "start_time": "2021-08-05T12:51:02.565077Z"
    }
   },
   "outputs": [],
   "source": [
    "dirr = 'C:/Users/rsh15/Google Drive/crawler_data/kbland/original/'"
   ]
  },
  {
   "cell_type": "code",
   "execution_count": 10,
   "metadata": {
    "ExecuteTime": {
     "end_time": "2021-08-05T12:51:02.591695Z",
     "start_time": "2021-08-05T12:51:02.578565Z"
    }
   },
   "outputs": [
    {
     "data": {
      "text/plain": [
       "['C:/Users/rsh15/Google Drive/crawler_data/kbland/original\\\\매매가격_변화율_original.csv',\n",
       " 'C:/Users/rsh15/Google Drive/crawler_data/kbland/original\\\\매매가격_지수_original.csv',\n",
       " 'C:/Users/rsh15/Google Drive/crawler_data/kbland/original\\\\매매시장_매매거래_original.csv',\n",
       " 'C:/Users/rsh15/Google Drive/crawler_data/kbland/original\\\\매매시장_매수우위_original.csv']"
      ]
     },
     "execution_count": 10,
     "metadata": {},
     "output_type": "execute_result"
    }
   ],
   "source": [
    "list_files = glob(dirr+'*.csv')\n",
    "list_files"
   ]
  },
  {
   "cell_type": "code",
   "execution_count": 11,
   "metadata": {
    "ExecuteTime": {
     "end_time": "2021-08-05T12:51:07.274860Z",
     "start_time": "2021-08-05T12:51:02.593525Z"
    }
   },
   "outputs": [],
   "source": [
    "d1 = pd.read_csv(list_files[0],names=['year','month','region_b','region_s','ref_date','date_100','meme_rate','base_date'],header=0)\n",
    "d2 = pd.read_csv(list_files[1],names=['year','month','region_b','region_s','ref_date','date_100','meme_jisu','base_date'],header=0)\n",
    "d3 = pd.read_csv(list_files[2],names=['year','month','region_b','region_s','ref_date','date_100','market_meme','base_date'],header=0)\n",
    "d4 = pd.read_csv(list_files[3],names=['year','month','region_b','region_s','ref_date','date_100','market_mesu','base_date'],header=0)"
   ]
  },
  {
   "cell_type": "markdown",
   "metadata": {},
   "source": [
    "## 상단 그래프인 매매가격 그래프 데이터"
   ]
  },
  {
   "cell_type": "code",
   "execution_count": 12,
   "metadata": {
    "ExecuteTime": {
     "end_time": "2021-08-05T12:51:08.099337Z",
     "start_time": "2021-08-05T12:51:07.277281Z"
    }
   },
   "outputs": [
    {
     "data": {
      "text/html": [
       "<div>\n",
       "<style scoped>\n",
       "    .dataframe tbody tr th:only-of-type {\n",
       "        vertical-align: middle;\n",
       "    }\n",
       "\n",
       "    .dataframe tbody tr th {\n",
       "        vertical-align: top;\n",
       "    }\n",
       "\n",
       "    .dataframe thead th {\n",
       "        text-align: right;\n",
       "    }\n",
       "</style>\n",
       "<table border=\"1\" class=\"dataframe\">\n",
       "  <thead>\n",
       "    <tr style=\"text-align: right;\">\n",
       "      <th></th>\n",
       "      <th>year</th>\n",
       "      <th>month</th>\n",
       "      <th>region_b</th>\n",
       "      <th>region_s</th>\n",
       "      <th>meme_jisu</th>\n",
       "      <th>base_date</th>\n",
       "      <th>meme_rate</th>\n",
       "    </tr>\n",
       "  </thead>\n",
       "  <tbody>\n",
       "    <tr>\n",
       "      <th>0</th>\n",
       "      <td>2012</td>\n",
       "      <td>1</td>\n",
       "      <td>서울</td>\n",
       "      <td>서울강북</td>\n",
       "      <td>82.2</td>\n",
       "      <td>2011,2,28</td>\n",
       "      <td>0.05</td>\n",
       "    </tr>\n",
       "    <tr>\n",
       "      <th>1</th>\n",
       "      <td>2012</td>\n",
       "      <td>1</td>\n",
       "      <td>서울</td>\n",
       "      <td>서울강북</td>\n",
       "      <td>82.2</td>\n",
       "      <td>2011,3,7</td>\n",
       "      <td>0.02</td>\n",
       "    </tr>\n",
       "    <tr>\n",
       "      <th>2</th>\n",
       "      <td>2012</td>\n",
       "      <td>1</td>\n",
       "      <td>서울</td>\n",
       "      <td>서울강북</td>\n",
       "      <td>82.3</td>\n",
       "      <td>2011,3,14</td>\n",
       "      <td>0.02</td>\n",
       "    </tr>\n",
       "    <tr>\n",
       "      <th>3</th>\n",
       "      <td>2012</td>\n",
       "      <td>1</td>\n",
       "      <td>서울</td>\n",
       "      <td>서울강북</td>\n",
       "      <td>82.3</td>\n",
       "      <td>2011,3,21</td>\n",
       "      <td>0.02</td>\n",
       "    </tr>\n",
       "    <tr>\n",
       "      <th>4</th>\n",
       "      <td>2012</td>\n",
       "      <td>1</td>\n",
       "      <td>서울</td>\n",
       "      <td>서울강북</td>\n",
       "      <td>82.3</td>\n",
       "      <td>2011,3,28</td>\n",
       "      <td>0.00</td>\n",
       "    </tr>\n",
       "    <tr>\n",
       "      <th>...</th>\n",
       "      <td>...</td>\n",
       "      <td>...</td>\n",
       "      <td>...</td>\n",
       "      <td>...</td>\n",
       "      <td>...</td>\n",
       "      <td>...</td>\n",
       "      <td>...</td>\n",
       "    </tr>\n",
       "    <tr>\n",
       "      <th>856732</th>\n",
       "      <td>2021</td>\n",
       "      <td>6</td>\n",
       "      <td>경남</td>\n",
       "      <td>통영</td>\n",
       "      <td>100.7</td>\n",
       "      <td>2021,5,31</td>\n",
       "      <td>0.14</td>\n",
       "    </tr>\n",
       "    <tr>\n",
       "      <th>856733</th>\n",
       "      <td>2021</td>\n",
       "      <td>6</td>\n",
       "      <td>경남</td>\n",
       "      <td>통영</td>\n",
       "      <td>100.9</td>\n",
       "      <td>2021,6,7</td>\n",
       "      <td>0.21</td>\n",
       "    </tr>\n",
       "    <tr>\n",
       "      <th>856734</th>\n",
       "      <td>2021</td>\n",
       "      <td>6</td>\n",
       "      <td>경남</td>\n",
       "      <td>통영</td>\n",
       "      <td>100.9</td>\n",
       "      <td>2021,6,14</td>\n",
       "      <td>0.07</td>\n",
       "    </tr>\n",
       "    <tr>\n",
       "      <th>856735</th>\n",
       "      <td>2021</td>\n",
       "      <td>6</td>\n",
       "      <td>경남</td>\n",
       "      <td>통영</td>\n",
       "      <td>101.0</td>\n",
       "      <td>2021,6,21</td>\n",
       "      <td>0.01</td>\n",
       "    </tr>\n",
       "    <tr>\n",
       "      <th>856736</th>\n",
       "      <td>2021</td>\n",
       "      <td>6</td>\n",
       "      <td>경남</td>\n",
       "      <td>통영</td>\n",
       "      <td>101.0</td>\n",
       "      <td>2021,6,28</td>\n",
       "      <td>0.06</td>\n",
       "    </tr>\n",
       "  </tbody>\n",
       "</table>\n",
       "<p>856737 rows × 7 columns</p>\n",
       "</div>"
      ],
      "text/plain": [
       "        year  month region_b region_s  meme_jisu  base_date  meme_rate\n",
       "0       2012      1       서울     서울강북       82.2  2011,2,28       0.05\n",
       "1       2012      1       서울     서울강북       82.2   2011,3,7       0.02\n",
       "2       2012      1       서울     서울강북       82.3  2011,3,14       0.02\n",
       "3       2012      1       서울     서울강북       82.3  2011,3,21       0.02\n",
       "4       2012      1       서울     서울강북       82.3  2011,3,28       0.00\n",
       "...      ...    ...      ...      ...        ...        ...        ...\n",
       "856732  2021      6       경남       통영      100.7  2021,5,31       0.14\n",
       "856733  2021      6       경남       통영      100.9   2021,6,7       0.21\n",
       "856734  2021      6       경남       통영      100.9  2021,6,14       0.07\n",
       "856735  2021      6       경남       통영      101.0  2021,6,21       0.01\n",
       "856736  2021      6       경남       통영      101.0  2021,6,28       0.06\n",
       "\n",
       "[856737 rows x 7 columns]"
      ]
     },
     "execution_count": 12,
     "metadata": {},
     "output_type": "execute_result"
    }
   ],
   "source": [
    "# d2는 지수, d1은 변화율의 데이터.\n",
    "# 같은 그래프에 있는 데이터이나, 지수만 있고 변화율은 기록되지 않은 경우가 있음.\n",
    "# 따라서 지수 데이터를 기준으로 join하고, 변화율이 기록되지 않은 NA에 대해서 0 처리.\n",
    "df_a = pd.merge(d2.drop(['ref_date','date_100'],axis=1),\n",
    "                d1.drop(['ref_date','date_100'],axis=1),how='left',on=['year','month','region_b','region_s','base_date'])\n",
    "df_a"
   ]
  },
  {
   "cell_type": "code",
   "execution_count": 13,
   "metadata": {
    "ExecuteTime": {
     "end_time": "2021-08-05T12:51:08.129494Z",
     "start_time": "2021-08-05T12:51:08.103330Z"
    }
   },
   "outputs": [],
   "source": [
    "df_a.loc[df_a['meme_rate'].isna(),'meme_rate'] = 0"
   ]
  },
  {
   "cell_type": "code",
   "execution_count": 14,
   "metadata": {
    "ExecuteTime": {
     "end_time": "2021-08-05T12:51:08.444469Z",
     "start_time": "2021-08-05T12:51:08.133520Z"
    }
   },
   "outputs": [
    {
     "data": {
      "text/html": [
       "<div>\n",
       "<style scoped>\n",
       "    .dataframe tbody tr th:only-of-type {\n",
       "        vertical-align: middle;\n",
       "    }\n",
       "\n",
       "    .dataframe tbody tr th {\n",
       "        vertical-align: top;\n",
       "    }\n",
       "\n",
       "    .dataframe thead th {\n",
       "        text-align: right;\n",
       "    }\n",
       "</style>\n",
       "<table border=\"1\" class=\"dataframe\">\n",
       "  <thead>\n",
       "    <tr style=\"text-align: right;\">\n",
       "      <th></th>\n",
       "      <th>base_date</th>\n",
       "      <th>region_b</th>\n",
       "      <th>region_s</th>\n",
       "      <th>week_num</th>\n",
       "      <th>meme_rate</th>\n",
       "      <th>meme_jisu</th>\n",
       "    </tr>\n",
       "  </thead>\n",
       "  <tbody>\n",
       "    <tr>\n",
       "      <th>0</th>\n",
       "      <td>2011-02-28</td>\n",
       "      <td>서울</td>\n",
       "      <td>서울강북</td>\n",
       "      <td>9</td>\n",
       "      <td>0.05</td>\n",
       "      <td>82.2</td>\n",
       "    </tr>\n",
       "    <tr>\n",
       "      <th>1</th>\n",
       "      <td>2011-03-07</td>\n",
       "      <td>서울</td>\n",
       "      <td>서울강북</td>\n",
       "      <td>10</td>\n",
       "      <td>0.02</td>\n",
       "      <td>82.2</td>\n",
       "    </tr>\n",
       "    <tr>\n",
       "      <th>2</th>\n",
       "      <td>2011-03-14</td>\n",
       "      <td>서울</td>\n",
       "      <td>서울강북</td>\n",
       "      <td>11</td>\n",
       "      <td>0.02</td>\n",
       "      <td>82.3</td>\n",
       "    </tr>\n",
       "    <tr>\n",
       "      <th>3</th>\n",
       "      <td>2011-03-21</td>\n",
       "      <td>서울</td>\n",
       "      <td>서울강북</td>\n",
       "      <td>12</td>\n",
       "      <td>0.02</td>\n",
       "      <td>82.3</td>\n",
       "    </tr>\n",
       "    <tr>\n",
       "      <th>4</th>\n",
       "      <td>2011-03-28</td>\n",
       "      <td>서울</td>\n",
       "      <td>서울강북</td>\n",
       "      <td>13</td>\n",
       "      <td>0.00</td>\n",
       "      <td>82.3</td>\n",
       "    </tr>\n",
       "    <tr>\n",
       "      <th>...</th>\n",
       "      <td>...</td>\n",
       "      <td>...</td>\n",
       "      <td>...</td>\n",
       "      <td>...</td>\n",
       "      <td>...</td>\n",
       "      <td>...</td>\n",
       "    </tr>\n",
       "    <tr>\n",
       "      <th>856732</th>\n",
       "      <td>2021-05-31</td>\n",
       "      <td>경남</td>\n",
       "      <td>통영</td>\n",
       "      <td>22</td>\n",
       "      <td>0.14</td>\n",
       "      <td>100.7</td>\n",
       "    </tr>\n",
       "    <tr>\n",
       "      <th>856733</th>\n",
       "      <td>2021-06-07</td>\n",
       "      <td>경남</td>\n",
       "      <td>통영</td>\n",
       "      <td>23</td>\n",
       "      <td>0.21</td>\n",
       "      <td>100.9</td>\n",
       "    </tr>\n",
       "    <tr>\n",
       "      <th>856734</th>\n",
       "      <td>2021-06-14</td>\n",
       "      <td>경남</td>\n",
       "      <td>통영</td>\n",
       "      <td>24</td>\n",
       "      <td>0.07</td>\n",
       "      <td>100.9</td>\n",
       "    </tr>\n",
       "    <tr>\n",
       "      <th>856735</th>\n",
       "      <td>2021-06-21</td>\n",
       "      <td>경남</td>\n",
       "      <td>통영</td>\n",
       "      <td>25</td>\n",
       "      <td>0.01</td>\n",
       "      <td>101.0</td>\n",
       "    </tr>\n",
       "    <tr>\n",
       "      <th>856736</th>\n",
       "      <td>2021-06-28</td>\n",
       "      <td>경남</td>\n",
       "      <td>통영</td>\n",
       "      <td>26</td>\n",
       "      <td>0.06</td>\n",
       "      <td>101.0</td>\n",
       "    </tr>\n",
       "  </tbody>\n",
       "</table>\n",
       "<p>856737 rows × 6 columns</p>\n",
       "</div>"
      ],
      "text/plain": [
       "        base_date region_b region_s  week_num  meme_rate  meme_jisu\n",
       "0      2011-02-28       서울     서울강북         9       0.05       82.2\n",
       "1      2011-03-07       서울     서울강북        10       0.02       82.2\n",
       "2      2011-03-14       서울     서울강북        11       0.02       82.3\n",
       "3      2011-03-21       서울     서울강북        12       0.02       82.3\n",
       "4      2011-03-28       서울     서울강북        13       0.00       82.3\n",
       "...           ...      ...      ...       ...        ...        ...\n",
       "856732 2021-05-31       경남       통영        22       0.14      100.7\n",
       "856733 2021-06-07       경남       통영        23       0.21      100.9\n",
       "856734 2021-06-14       경남       통영        24       0.07      100.9\n",
       "856735 2021-06-21       경남       통영        25       0.01      101.0\n",
       "856736 2021-06-28       경남       통영        26       0.06      101.0\n",
       "\n",
       "[856737 rows x 6 columns]"
      ]
     },
     "execution_count": 14,
     "metadata": {},
     "output_type": "execute_result"
    }
   ],
   "source": [
    "df_a['base_date'] = pd.to_datetime(df_a['base_date'],format='%Y,%m,%d')\n",
    "df_a.drop(['year','month'],axis=1,inplace=True)\n",
    "df_a['week_num'] = df_a['base_date'].dt.isocalendar().week\n",
    "df_a = df_a[['base_date','region_b','region_s','week_num','meme_rate','meme_jisu']]\n",
    "df_a"
   ]
  },
  {
   "cell_type": "markdown",
   "metadata": {},
   "source": [
    "## 하단 그래프인 매매시장 그래프 데이터"
   ]
  },
  {
   "cell_type": "code",
   "execution_count": 15,
   "metadata": {
    "ExecuteTime": {
     "end_time": "2021-08-05T12:51:09.207470Z",
     "start_time": "2021-08-05T12:51:08.448465Z"
    }
   },
   "outputs": [
    {
     "data": {
      "text/html": [
       "<div>\n",
       "<style scoped>\n",
       "    .dataframe tbody tr th:only-of-type {\n",
       "        vertical-align: middle;\n",
       "    }\n",
       "\n",
       "    .dataframe tbody tr th {\n",
       "        vertical-align: top;\n",
       "    }\n",
       "\n",
       "    .dataframe thead th {\n",
       "        text-align: right;\n",
       "    }\n",
       "</style>\n",
       "<table border=\"1\" class=\"dataframe\">\n",
       "  <thead>\n",
       "    <tr style=\"text-align: right;\">\n",
       "      <th></th>\n",
       "      <th>year</th>\n",
       "      <th>month</th>\n",
       "      <th>region_b</th>\n",
       "      <th>region_s</th>\n",
       "      <th>market_meme</th>\n",
       "      <th>base_date</th>\n",
       "      <th>market_mesu</th>\n",
       "    </tr>\n",
       "  </thead>\n",
       "  <tbody>\n",
       "    <tr>\n",
       "      <th>0</th>\n",
       "      <td>2012</td>\n",
       "      <td>1</td>\n",
       "      <td>서울</td>\n",
       "      <td>서울강북</td>\n",
       "      <td>22.3</td>\n",
       "      <td>2011,2,28</td>\n",
       "      <td>34.7</td>\n",
       "    </tr>\n",
       "    <tr>\n",
       "      <th>1</th>\n",
       "      <td>2012</td>\n",
       "      <td>1</td>\n",
       "      <td>서울</td>\n",
       "      <td>서울강북</td>\n",
       "      <td>16.5</td>\n",
       "      <td>2011,3,7</td>\n",
       "      <td>32.3</td>\n",
       "    </tr>\n",
       "    <tr>\n",
       "      <th>2</th>\n",
       "      <td>2012</td>\n",
       "      <td>1</td>\n",
       "      <td>서울</td>\n",
       "      <td>서울강북</td>\n",
       "      <td>15.2</td>\n",
       "      <td>2011,3,14</td>\n",
       "      <td>27.4</td>\n",
       "    </tr>\n",
       "    <tr>\n",
       "      <th>3</th>\n",
       "      <td>2012</td>\n",
       "      <td>1</td>\n",
       "      <td>서울</td>\n",
       "      <td>서울강북</td>\n",
       "      <td>11.0</td>\n",
       "      <td>2011,3,21</td>\n",
       "      <td>26.8</td>\n",
       "    </tr>\n",
       "    <tr>\n",
       "      <th>4</th>\n",
       "      <td>2012</td>\n",
       "      <td>1</td>\n",
       "      <td>서울</td>\n",
       "      <td>서울강북</td>\n",
       "      <td>9.7</td>\n",
       "      <td>2011,3,28</td>\n",
       "      <td>21.0</td>\n",
       "    </tr>\n",
       "    <tr>\n",
       "      <th>...</th>\n",
       "      <td>...</td>\n",
       "      <td>...</td>\n",
       "      <td>...</td>\n",
       "      <td>...</td>\n",
       "      <td>...</td>\n",
       "      <td>...</td>\n",
       "      <td>...</td>\n",
       "    </tr>\n",
       "    <tr>\n",
       "      <th>817466</th>\n",
       "      <td>2021</td>\n",
       "      <td>6</td>\n",
       "      <td>경남</td>\n",
       "      <td>통영</td>\n",
       "      <td>37.7</td>\n",
       "      <td>2021,5,31</td>\n",
       "      <td>79.5</td>\n",
       "    </tr>\n",
       "    <tr>\n",
       "      <th>817467</th>\n",
       "      <td>2021</td>\n",
       "      <td>6</td>\n",
       "      <td>경남</td>\n",
       "      <td>통영</td>\n",
       "      <td>39.3</td>\n",
       "      <td>2021,6,7</td>\n",
       "      <td>80.1</td>\n",
       "    </tr>\n",
       "    <tr>\n",
       "      <th>817468</th>\n",
       "      <td>2021</td>\n",
       "      <td>6</td>\n",
       "      <td>경남</td>\n",
       "      <td>통영</td>\n",
       "      <td>37.9</td>\n",
       "      <td>2021,6,14</td>\n",
       "      <td>79.5</td>\n",
       "    </tr>\n",
       "    <tr>\n",
       "      <th>817469</th>\n",
       "      <td>2021</td>\n",
       "      <td>6</td>\n",
       "      <td>경남</td>\n",
       "      <td>통영</td>\n",
       "      <td>35.6</td>\n",
       "      <td>2021,6,21</td>\n",
       "      <td>82.5</td>\n",
       "    </tr>\n",
       "    <tr>\n",
       "      <th>817470</th>\n",
       "      <td>2021</td>\n",
       "      <td>6</td>\n",
       "      <td>경남</td>\n",
       "      <td>통영</td>\n",
       "      <td>30.5</td>\n",
       "      <td>2021,6,28</td>\n",
       "      <td>89.2</td>\n",
       "    </tr>\n",
       "  </tbody>\n",
       "</table>\n",
       "<p>817471 rows × 7 columns</p>\n",
       "</div>"
      ],
      "text/plain": [
       "        year  month region_b region_s  market_meme  base_date  market_mesu\n",
       "0       2012      1       서울     서울강북         22.3  2011,2,28         34.7\n",
       "1       2012      1       서울     서울강북         16.5   2011,3,7         32.3\n",
       "2       2012      1       서울     서울강북         15.2  2011,3,14         27.4\n",
       "3       2012      1       서울     서울강북         11.0  2011,3,21         26.8\n",
       "4       2012      1       서울     서울강북          9.7  2011,3,28         21.0\n",
       "...      ...    ...      ...      ...          ...        ...          ...\n",
       "817466  2021      6       경남       통영         37.7  2021,5,31         79.5\n",
       "817467  2021      6       경남       통영         39.3   2021,6,7         80.1\n",
       "817468  2021      6       경남       통영         37.9  2021,6,14         79.5\n",
       "817469  2021      6       경남       통영         35.6  2021,6,21         82.5\n",
       "817470  2021      6       경남       통영         30.5  2021,6,28         89.2\n",
       "\n",
       "[817471 rows x 7 columns]"
      ]
     },
     "execution_count": 15,
     "metadata": {},
     "output_type": "execute_result"
    }
   ],
   "source": [
    "df_b = pd.merge(d3.drop(['ref_date','date_100'],axis=1),\n",
    "                d4.drop(['ref_date','date_100'],axis=1),how='left',on=['year','month','region_b','region_s','base_date'])\n",
    "df_b"
   ]
  },
  {
   "cell_type": "code",
   "execution_count": 16,
   "metadata": {
    "ExecuteTime": {
     "end_time": "2021-08-05T12:51:09.476988Z",
     "start_time": "2021-08-05T12:51:09.209465Z"
    }
   },
   "outputs": [
    {
     "data": {
      "text/html": [
       "<div>\n",
       "<style scoped>\n",
       "    .dataframe tbody tr th:only-of-type {\n",
       "        vertical-align: middle;\n",
       "    }\n",
       "\n",
       "    .dataframe tbody tr th {\n",
       "        vertical-align: top;\n",
       "    }\n",
       "\n",
       "    .dataframe thead th {\n",
       "        text-align: right;\n",
       "    }\n",
       "</style>\n",
       "<table border=\"1\" class=\"dataframe\">\n",
       "  <thead>\n",
       "    <tr style=\"text-align: right;\">\n",
       "      <th></th>\n",
       "      <th>base_date</th>\n",
       "      <th>region_b</th>\n",
       "      <th>region_s</th>\n",
       "      <th>week_num</th>\n",
       "      <th>market_meme</th>\n",
       "      <th>market_mesu</th>\n",
       "    </tr>\n",
       "  </thead>\n",
       "  <tbody>\n",
       "    <tr>\n",
       "      <th>0</th>\n",
       "      <td>2011-02-28</td>\n",
       "      <td>서울</td>\n",
       "      <td>서울강북</td>\n",
       "      <td>9</td>\n",
       "      <td>22.3</td>\n",
       "      <td>34.7</td>\n",
       "    </tr>\n",
       "    <tr>\n",
       "      <th>1</th>\n",
       "      <td>2011-03-07</td>\n",
       "      <td>서울</td>\n",
       "      <td>서울강북</td>\n",
       "      <td>10</td>\n",
       "      <td>16.5</td>\n",
       "      <td>32.3</td>\n",
       "    </tr>\n",
       "    <tr>\n",
       "      <th>2</th>\n",
       "      <td>2011-03-14</td>\n",
       "      <td>서울</td>\n",
       "      <td>서울강북</td>\n",
       "      <td>11</td>\n",
       "      <td>15.2</td>\n",
       "      <td>27.4</td>\n",
       "    </tr>\n",
       "    <tr>\n",
       "      <th>3</th>\n",
       "      <td>2011-03-21</td>\n",
       "      <td>서울</td>\n",
       "      <td>서울강북</td>\n",
       "      <td>12</td>\n",
       "      <td>11.0</td>\n",
       "      <td>26.8</td>\n",
       "    </tr>\n",
       "    <tr>\n",
       "      <th>4</th>\n",
       "      <td>2011-03-28</td>\n",
       "      <td>서울</td>\n",
       "      <td>서울강북</td>\n",
       "      <td>13</td>\n",
       "      <td>9.7</td>\n",
       "      <td>21.0</td>\n",
       "    </tr>\n",
       "    <tr>\n",
       "      <th>...</th>\n",
       "      <td>...</td>\n",
       "      <td>...</td>\n",
       "      <td>...</td>\n",
       "      <td>...</td>\n",
       "      <td>...</td>\n",
       "      <td>...</td>\n",
       "    </tr>\n",
       "    <tr>\n",
       "      <th>817466</th>\n",
       "      <td>2021-05-31</td>\n",
       "      <td>경남</td>\n",
       "      <td>통영</td>\n",
       "      <td>22</td>\n",
       "      <td>37.7</td>\n",
       "      <td>79.5</td>\n",
       "    </tr>\n",
       "    <tr>\n",
       "      <th>817467</th>\n",
       "      <td>2021-06-07</td>\n",
       "      <td>경남</td>\n",
       "      <td>통영</td>\n",
       "      <td>23</td>\n",
       "      <td>39.3</td>\n",
       "      <td>80.1</td>\n",
       "    </tr>\n",
       "    <tr>\n",
       "      <th>817468</th>\n",
       "      <td>2021-06-14</td>\n",
       "      <td>경남</td>\n",
       "      <td>통영</td>\n",
       "      <td>24</td>\n",
       "      <td>37.9</td>\n",
       "      <td>79.5</td>\n",
       "    </tr>\n",
       "    <tr>\n",
       "      <th>817469</th>\n",
       "      <td>2021-06-21</td>\n",
       "      <td>경남</td>\n",
       "      <td>통영</td>\n",
       "      <td>25</td>\n",
       "      <td>35.6</td>\n",
       "      <td>82.5</td>\n",
       "    </tr>\n",
       "    <tr>\n",
       "      <th>817470</th>\n",
       "      <td>2021-06-28</td>\n",
       "      <td>경남</td>\n",
       "      <td>통영</td>\n",
       "      <td>26</td>\n",
       "      <td>30.5</td>\n",
       "      <td>89.2</td>\n",
       "    </tr>\n",
       "  </tbody>\n",
       "</table>\n",
       "<p>817471 rows × 6 columns</p>\n",
       "</div>"
      ],
      "text/plain": [
       "        base_date region_b region_s  week_num  market_meme  market_mesu\n",
       "0      2011-02-28       서울     서울강북         9         22.3         34.7\n",
       "1      2011-03-07       서울     서울강북        10         16.5         32.3\n",
       "2      2011-03-14       서울     서울강북        11         15.2         27.4\n",
       "3      2011-03-21       서울     서울강북        12         11.0         26.8\n",
       "4      2011-03-28       서울     서울강북        13          9.7         21.0\n",
       "...           ...      ...      ...       ...          ...          ...\n",
       "817466 2021-05-31       경남       통영        22         37.7         79.5\n",
       "817467 2021-06-07       경남       통영        23         39.3         80.1\n",
       "817468 2021-06-14       경남       통영        24         37.9         79.5\n",
       "817469 2021-06-21       경남       통영        25         35.6         82.5\n",
       "817470 2021-06-28       경남       통영        26         30.5         89.2\n",
       "\n",
       "[817471 rows x 6 columns]"
      ]
     },
     "execution_count": 16,
     "metadata": {},
     "output_type": "execute_result"
    }
   ],
   "source": [
    "df_b['base_date'] = pd.to_datetime(df_b['base_date'],format='%Y,%m,%d')\n",
    "df_b.drop(['year','month'],axis=1,inplace=True)\n",
    "df_b['week_num'] = df_b['base_date'].dt.isocalendar().week\n",
    "df_b = df_b[['base_date','region_b','region_s','week_num','market_meme','market_mesu']]\n",
    "df_b"
   ]
  },
  {
   "cell_type": "markdown",
   "metadata": {},
   "source": [
    "## 두개 합치기"
   ]
  },
  {
   "cell_type": "code",
   "execution_count": 21,
   "metadata": {
    "ExecuteTime": {
     "end_time": "2021-08-05T13:00:10.737315Z",
     "start_time": "2021-08-05T13:00:09.119640Z"
    }
   },
   "outputs": [
    {
     "data": {
      "text/html": [
       "<div>\n",
       "<style scoped>\n",
       "    .dataframe tbody tr th:only-of-type {\n",
       "        vertical-align: middle;\n",
       "    }\n",
       "\n",
       "    .dataframe tbody tr th {\n",
       "        vertical-align: top;\n",
       "    }\n",
       "\n",
       "    .dataframe thead th {\n",
       "        text-align: right;\n",
       "    }\n",
       "</style>\n",
       "<table border=\"1\" class=\"dataframe\">\n",
       "  <thead>\n",
       "    <tr style=\"text-align: right;\">\n",
       "      <th></th>\n",
       "      <th>base_date</th>\n",
       "      <th>region_b</th>\n",
       "      <th>region_s</th>\n",
       "      <th>week_num</th>\n",
       "      <th>meme_rate</th>\n",
       "      <th>meme_jisu</th>\n",
       "      <th>market_meme</th>\n",
       "      <th>market_mesu</th>\n",
       "    </tr>\n",
       "  </thead>\n",
       "  <tbody>\n",
       "    <tr>\n",
       "      <th>0</th>\n",
       "      <td>2011-02-28</td>\n",
       "      <td>서울</td>\n",
       "      <td>서울강북</td>\n",
       "      <td>9</td>\n",
       "      <td>0.05</td>\n",
       "      <td>82.2</td>\n",
       "      <td>22.3</td>\n",
       "      <td>34.7</td>\n",
       "    </tr>\n",
       "    <tr>\n",
       "      <th>1</th>\n",
       "      <td>2011-03-07</td>\n",
       "      <td>서울</td>\n",
       "      <td>서울강북</td>\n",
       "      <td>10</td>\n",
       "      <td>0.02</td>\n",
       "      <td>82.2</td>\n",
       "      <td>16.5</td>\n",
       "      <td>32.3</td>\n",
       "    </tr>\n",
       "    <tr>\n",
       "      <th>2</th>\n",
       "      <td>2011-03-14</td>\n",
       "      <td>서울</td>\n",
       "      <td>서울강북</td>\n",
       "      <td>11</td>\n",
       "      <td>0.02</td>\n",
       "      <td>82.3</td>\n",
       "      <td>15.2</td>\n",
       "      <td>27.4</td>\n",
       "    </tr>\n",
       "    <tr>\n",
       "      <th>3</th>\n",
       "      <td>2011-03-21</td>\n",
       "      <td>서울</td>\n",
       "      <td>서울강북</td>\n",
       "      <td>12</td>\n",
       "      <td>0.02</td>\n",
       "      <td>82.3</td>\n",
       "      <td>11.0</td>\n",
       "      <td>26.8</td>\n",
       "    </tr>\n",
       "    <tr>\n",
       "      <th>4</th>\n",
       "      <td>2011-03-28</td>\n",
       "      <td>서울</td>\n",
       "      <td>서울강북</td>\n",
       "      <td>13</td>\n",
       "      <td>0.00</td>\n",
       "      <td>82.3</td>\n",
       "      <td>9.7</td>\n",
       "      <td>21.0</td>\n",
       "    </tr>\n",
       "    <tr>\n",
       "      <th>...</th>\n",
       "      <td>...</td>\n",
       "      <td>...</td>\n",
       "      <td>...</td>\n",
       "      <td>...</td>\n",
       "      <td>...</td>\n",
       "      <td>...</td>\n",
       "      <td>...</td>\n",
       "      <td>...</td>\n",
       "    </tr>\n",
       "    <tr>\n",
       "      <th>8813700</th>\n",
       "      <td>2021-05-31</td>\n",
       "      <td>경남</td>\n",
       "      <td>통영</td>\n",
       "      <td>22</td>\n",
       "      <td>0.14</td>\n",
       "      <td>100.7</td>\n",
       "      <td>37.7</td>\n",
       "      <td>79.5</td>\n",
       "    </tr>\n",
       "    <tr>\n",
       "      <th>8813701</th>\n",
       "      <td>2021-06-07</td>\n",
       "      <td>경남</td>\n",
       "      <td>통영</td>\n",
       "      <td>23</td>\n",
       "      <td>0.21</td>\n",
       "      <td>100.9</td>\n",
       "      <td>39.3</td>\n",
       "      <td>80.1</td>\n",
       "    </tr>\n",
       "    <tr>\n",
       "      <th>8813702</th>\n",
       "      <td>2021-06-14</td>\n",
       "      <td>경남</td>\n",
       "      <td>통영</td>\n",
       "      <td>24</td>\n",
       "      <td>0.07</td>\n",
       "      <td>100.9</td>\n",
       "      <td>37.9</td>\n",
       "      <td>79.5</td>\n",
       "    </tr>\n",
       "    <tr>\n",
       "      <th>8813703</th>\n",
       "      <td>2021-06-21</td>\n",
       "      <td>경남</td>\n",
       "      <td>통영</td>\n",
       "      <td>25</td>\n",
       "      <td>0.01</td>\n",
       "      <td>101.0</td>\n",
       "      <td>35.6</td>\n",
       "      <td>82.5</td>\n",
       "    </tr>\n",
       "    <tr>\n",
       "      <th>8813704</th>\n",
       "      <td>2021-06-28</td>\n",
       "      <td>경남</td>\n",
       "      <td>통영</td>\n",
       "      <td>26</td>\n",
       "      <td>0.06</td>\n",
       "      <td>101.0</td>\n",
       "      <td>30.5</td>\n",
       "      <td>89.2</td>\n",
       "    </tr>\n",
       "  </tbody>\n",
       "</table>\n",
       "<p>8813705 rows × 8 columns</p>\n",
       "</div>"
      ],
      "text/plain": [
       "         base_date region_b region_s  week_num  meme_rate  meme_jisu  \\\n",
       "0       2011-02-28       서울     서울강북         9       0.05       82.2   \n",
       "1       2011-03-07       서울     서울강북        10       0.02       82.2   \n",
       "2       2011-03-14       서울     서울강북        11       0.02       82.3   \n",
       "3       2011-03-21       서울     서울강북        12       0.02       82.3   \n",
       "4       2011-03-28       서울     서울강북        13       0.00       82.3   \n",
       "...            ...      ...      ...       ...        ...        ...   \n",
       "8813700 2021-05-31       경남       통영        22       0.14      100.7   \n",
       "8813701 2021-06-07       경남       통영        23       0.21      100.9   \n",
       "8813702 2021-06-14       경남       통영        24       0.07      100.9   \n",
       "8813703 2021-06-21       경남       통영        25       0.01      101.0   \n",
       "8813704 2021-06-28       경남       통영        26       0.06      101.0   \n",
       "\n",
       "         market_meme  market_mesu  \n",
       "0               22.3         34.7  \n",
       "1               16.5         32.3  \n",
       "2               15.2         27.4  \n",
       "3               11.0         26.8  \n",
       "4                9.7         21.0  \n",
       "...              ...          ...  \n",
       "8813700         37.7         79.5  \n",
       "8813701         39.3         80.1  \n",
       "8813702         37.9         79.5  \n",
       "8813703         35.6         82.5  \n",
       "8813704         30.5         89.2  \n",
       "\n",
       "[8813705 rows x 8 columns]"
      ]
     },
     "execution_count": 21,
     "metadata": {},
     "output_type": "execute_result"
    }
   ],
   "source": [
    "df_bind = pd.merge(df_a,df_b,how='left',\n",
    "                  on=['base_date','region_b','region_s','week_num'])\n",
    "df_bind"
   ]
  },
  {
   "cell_type": "code",
   "execution_count": 24,
   "metadata": {
    "ExecuteTime": {
     "end_time": "2021-08-05T13:01:37.979129Z",
     "start_time": "2021-08-05T13:01:37.782107Z"
    }
   },
   "outputs": [],
   "source": [
    "# 상단의 그래프(meme_rate,meme_jisu)는 있지만,\n",
    "# 하단의 그래프(market_meme,market_mesu)는 없는 경우\n",
    "df_bind.loc[df_bind['market_meme'].isna(),'market_meme'] = 0\n",
    "df_bind.loc[df_bind['market_mesu'].isna(),'market_mesu'] = 0"
   ]
  },
  {
   "cell_type": "markdown",
   "metadata": {},
   "source": [
    "## 지역 전처리"
   ]
  },
  {
   "cell_type": "code",
   "execution_count": 27,
   "metadata": {
    "ExecuteTime": {
     "end_time": "2021-08-05T13:09:24.145129Z",
     "start_time": "2021-08-05T13:09:23.531187Z"
    }
   },
   "outputs": [
    {
     "data": {
      "text/plain": [
       "array(['서울', '경기', '인천', '부산', '대구', '광주', '대전', '울산', '강원', '충북', '충남',\n",
       "       '전북', '전남', '경북', '경남'], dtype=object)"
      ]
     },
     "execution_count": 27,
     "metadata": {},
     "output_type": "execute_result"
    }
   ],
   "source": [
    "df_bind['region_b'].unique()"
   ]
  },
  {
   "cell_type": "code",
   "execution_count": 33,
   "metadata": {
    "ExecuteTime": {
     "end_time": "2021-08-05T13:13:39.450048Z",
     "start_time": "2021-08-05T13:13:32.854558Z"
    }
   },
   "outputs": [
    {
     "data": {
      "text/plain": [
       "array(['강원도', '경기도', '경상남도', '경상북도', '광주광역시', '대구광역시', '대전광역시', '부산광역시',\n",
       "       '서울특별시', '울산광역시', '인천광역시', '전라남도', '전라북도', '충청남도', '충청북도'],\n",
       "      dtype=object)"
      ]
     },
     "execution_count": 33,
     "metadata": {},
     "output_type": "execute_result"
    }
   ],
   "source": [
    "np.sort(df_bind['region_b'].replace({\n",
    "    '서울':'서울특별시','경기':'경기도','인천':'인천광역시','부산':'부산광역시','대구':'대구광역시',\n",
    "    '광주':'광주광역시','대전':'대전광역시','울산':'울산광역시','강원':'강원도','충북':'충청북도',\n",
    "    '충남':'충청남도','전북':'전라북도','전남':'전라남도','경북':'경상북도','경남':'경상남도'\n",
    "}).unique())"
   ]
  },
  {
   "cell_type": "code",
   "execution_count": 34,
   "metadata": {
    "ExecuteTime": {
     "end_time": "2021-08-05T13:14:52.642069Z",
     "start_time": "2021-08-05T13:14:52.099570Z"
    }
   },
   "outputs": [
    {
     "data": {
      "text/plain": [
       "15"
      ]
     },
     "execution_count": 34,
     "metadata": {},
     "output_type": "execute_result"
    }
   ],
   "source": [
    "len(df_bind['region_b'].unique())"
   ]
  },
  {
   "cell_type": "code",
   "execution_count": 36,
   "metadata": {
    "ExecuteTime": {
     "end_time": "2021-08-05T13:21:43.315682Z",
     "start_time": "2021-08-05T13:21:43.239882Z"
    }
   },
   "outputs": [
    {
     "data": {
      "text/plain": [
       "array(['서울', '경기', '인천', '부산', '대구', '광주', '대전', '울산', '강원', '충북', '충남',\n",
       "       '전북', '전남', '경북', '경남'], dtype=object)"
      ]
     },
     "execution_count": 36,
     "metadata": {},
     "output_type": "execute_result"
    }
   ],
   "source": [
    "d1['region_b'].unique()"
   ]
  }
 ],
 "metadata": {
  "kernelspec": {
   "display_name": "simon_env",
   "language": "python",
   "name": "simon_env"
  },
  "language_info": {
   "codemirror_mode": {
    "name": "ipython",
    "version": 3
   },
   "file_extension": ".py",
   "mimetype": "text/x-python",
   "name": "python",
   "nbconvert_exporter": "python",
   "pygments_lexer": "ipython3",
   "version": "3.8.8"
  },
  "toc": {
   "base_numbering": 1,
   "nav_menu": {},
   "number_sections": true,
   "sideBar": true,
   "skip_h1_title": true,
   "title_cell": "Table of Contents",
   "title_sidebar": "Contents",
   "toc_cell": false,
   "toc_position": {},
   "toc_section_display": true,
   "toc_window_display": false
  },
  "varInspector": {
   "cols": {
    "lenName": 16,
    "lenType": 16,
    "lenVar": 40
   },
   "kernels_config": {
    "python": {
     "delete_cmd_postfix": "",
     "delete_cmd_prefix": "del ",
     "library": "var_list.py",
     "varRefreshCmd": "print(var_dic_list())"
    },
    "r": {
     "delete_cmd_postfix": ") ",
     "delete_cmd_prefix": "rm(",
     "library": "var_list.r",
     "varRefreshCmd": "cat(var_dic_list()) "
    }
   },
   "types_to_exclude": [
    "module",
    "function",
    "builtin_function_or_method",
    "instance",
    "_Feature"
   ],
   "window_display": false
  }
 },
 "nbformat": 4,
 "nbformat_minor": 5
}
