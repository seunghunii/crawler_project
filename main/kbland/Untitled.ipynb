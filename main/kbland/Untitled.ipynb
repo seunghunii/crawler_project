{
 "cells": [
  {
   "cell_type": "code",
   "execution_count": 98,
   "metadata": {
    "ExecuteTime": {
     "end_time": "2021-08-05T14:39:08.574696Z",
     "start_time": "2021-08-05T14:39:08.566717Z"
    }
   },
   "outputs": [],
   "source": [
    "import pandas as pd\n",
    "from glob import glob\n",
    "import warnings\n",
    "warnings.filterwarnings('ignore')"
   ]
  },
  {
   "cell_type": "code",
   "execution_count": 71,
   "metadata": {
    "ExecuteTime": {
     "end_time": "2021-08-05T14:29:15.846381Z",
     "start_time": "2021-08-05T14:29:15.835409Z"
    }
   },
   "outputs": [],
   "source": [
    "dirr = 'C:/Users/rsh15/Google Drive/crawler_data/kbland/original/'"
   ]
  },
  {
   "cell_type": "code",
   "execution_count": 72,
   "metadata": {
    "ExecuteTime": {
     "end_time": "2021-08-05T14:29:15.861339Z",
     "start_time": "2021-08-05T14:29:15.850370Z"
    }
   },
   "outputs": [
    {
     "data": {
      "text/plain": [
       "['C:/Users/rsh15/Google Drive/crawler_data/kbland/original\\\\매매가격_변화율_original.csv',\n",
       " 'C:/Users/rsh15/Google Drive/crawler_data/kbland/original\\\\매매가격_지수_original.csv',\n",
       " 'C:/Users/rsh15/Google Drive/crawler_data/kbland/original\\\\매매시장_매매거래_original.csv',\n",
       " 'C:/Users/rsh15/Google Drive/crawler_data/kbland/original\\\\매매시장_매수우위_original.csv']"
      ]
     },
     "execution_count": 72,
     "metadata": {},
     "output_type": "execute_result"
    }
   ],
   "source": [
    "list_files = glob(dirr+'*.csv')\n",
    "list_files"
   ]
  },
  {
   "cell_type": "code",
   "execution_count": 73,
   "metadata": {
    "ExecuteTime": {
     "end_time": "2021-08-05T14:29:15.876332Z",
     "start_time": "2021-08-05T14:29:15.865330Z"
    }
   },
   "outputs": [],
   "source": [
    "seju_dir = 'C:/Users/rsh15/Google Drive/crawler_data/kbland/seju/'"
   ]
  },
  {
   "cell_type": "code",
   "execution_count": 74,
   "metadata": {
    "ExecuteTime": {
     "end_time": "2021-08-05T14:29:15.891261Z",
     "start_time": "2021-08-05T14:29:15.879292Z"
    }
   },
   "outputs": [
    {
     "data": {
      "text/plain": [
       "['C:/Users/rsh15/Google Drive/crawler_data/kbland/seju\\\\매매가격_변화율_original_seju.csv',\n",
       " 'C:/Users/rsh15/Google Drive/crawler_data/kbland/seju\\\\매매가격_지수_original_seju.csv',\n",
       " 'C:/Users/rsh15/Google Drive/crawler_data/kbland/seju\\\\매매시장_매매거래_original_seju.csv',\n",
       " 'C:/Users/rsh15/Google Drive/crawler_data/kbland/seju\\\\매매시장_매수우위_original_seju.csv']"
      ]
     },
     "execution_count": 74,
     "metadata": {},
     "output_type": "execute_result"
    }
   ],
   "source": [
    "seju_files = glob(seju_dir +'*.csv')\n",
    "seju_files"
   ]
  },
  {
   "cell_type": "code",
   "execution_count": 75,
   "metadata": {
    "ExecuteTime": {
     "end_time": "2021-08-05T14:29:16.026549Z",
     "start_time": "2021-08-05T14:29:15.894252Z"
    }
   },
   "outputs": [],
   "source": [
    "d1_seju = pd.read_csv(seju_files[0],names=['year','month','region_b','region_s','ref_date','date_100','meme_rate','base_date'],header=0)\n",
    "d2_seju = pd.read_csv(seju_files[1],names=['year','month','region_b','region_s','ref_date','date_100','meme_jisu','base_date'],header=0)\n",
    "d3_seju = pd.read_csv(seju_files[2],names=['year','month','region_b','region_s','ref_date','date_100','market_meme','base_date'],header=0)\n",
    "d4_seju = pd.read_csv(seju_files[3],names=['year','month','region_b','region_s','ref_date','date_100','market_mesu','base_date'],header=0)"
   ]
  },
  {
   "cell_type": "code",
   "execution_count": 76,
   "metadata": {
    "ExecuteTime": {
     "end_time": "2021-08-05T14:29:21.865189Z",
     "start_time": "2021-08-05T14:29:16.028509Z"
    }
   },
   "outputs": [],
   "source": [
    "d1 = pd.read_csv(list_files[0],names=['year','month','region_b','region_s','ref_date','date_100','meme_rate','base_date'],header=0)\n",
    "d2 = pd.read_csv(list_files[1],names=['year','month','region_b','region_s','ref_date','date_100','meme_jisu','base_date'],header=0)\n",
    "d3 = pd.read_csv(list_files[2],names=['year','month','region_b','region_s','ref_date','date_100','market_meme','base_date'],header=0)\n",
    "d4 = pd.read_csv(list_files[3],names=['year','month','region_b','region_s','ref_date','date_100','market_mesu','base_date'],header=0)"
   ]
  },
  {
   "cell_type": "markdown",
   "metadata": {},
   "source": [
    "## 상단 그래프인 매매가격 그래프 데이터"
   ]
  },
  {
   "cell_type": "code",
   "execution_count": 77,
   "metadata": {
    "ExecuteTime": {
     "end_time": "2021-08-05T14:29:23.181633Z",
     "start_time": "2021-08-05T14:29:21.869133Z"
    }
   },
   "outputs": [],
   "source": [
    "# d2는 지수, d1은 변화율의 데이터.\n",
    "# 같은 그래프에 있는 데이터이나, 지수만 있고 변화율은 기록되지 않은 경우가 있음.\n",
    "# 따라서 지수 데이터를 기준으로 join하고, 변화율이 기록되지 않은 NA에 대해서 0 처리.\n",
    "d1 = pd.concat([d1,d1_seju],axis=0)\n",
    "d2 = pd.concat([d2,d2_seju],axis=0)\n",
    "\n",
    "df_a = pd.merge(d2.drop(['ref_date','date_100'],axis=1),\n",
    "                d1.drop(['ref_date','date_100'],axis=1),how='left',on=['year','month','region_b','region_s','base_date'])"
   ]
  },
  {
   "cell_type": "code",
   "execution_count": 78,
   "metadata": {
    "ExecuteTime": {
     "end_time": "2021-08-05T14:29:23.600500Z",
     "start_time": "2021-08-05T14:29:23.185615Z"
    }
   },
   "outputs": [
    {
     "data": {
      "text/html": [
       "<div>\n",
       "<style scoped>\n",
       "    .dataframe tbody tr th:only-of-type {\n",
       "        vertical-align: middle;\n",
       "    }\n",
       "\n",
       "    .dataframe tbody tr th {\n",
       "        vertical-align: top;\n",
       "    }\n",
       "\n",
       "    .dataframe thead th {\n",
       "        text-align: right;\n",
       "    }\n",
       "</style>\n",
       "<table border=\"1\" class=\"dataframe\">\n",
       "  <thead>\n",
       "    <tr style=\"text-align: right;\">\n",
       "      <th></th>\n",
       "      <th>base_date</th>\n",
       "      <th>region_b</th>\n",
       "      <th>region_s</th>\n",
       "      <th>week_num</th>\n",
       "      <th>meme_rate</th>\n",
       "      <th>meme_jisu</th>\n",
       "    </tr>\n",
       "  </thead>\n",
       "  <tbody>\n",
       "    <tr>\n",
       "      <th>0</th>\n",
       "      <td>2011-02-28</td>\n",
       "      <td>서울</td>\n",
       "      <td>서울강북</td>\n",
       "      <td>9</td>\n",
       "      <td>0.05</td>\n",
       "      <td>82.2</td>\n",
       "    </tr>\n",
       "    <tr>\n",
       "      <th>1</th>\n",
       "      <td>2011-03-07</td>\n",
       "      <td>서울</td>\n",
       "      <td>서울강북</td>\n",
       "      <td>10</td>\n",
       "      <td>0.02</td>\n",
       "      <td>82.2</td>\n",
       "    </tr>\n",
       "    <tr>\n",
       "      <th>2</th>\n",
       "      <td>2011-03-14</td>\n",
       "      <td>서울</td>\n",
       "      <td>서울강북</td>\n",
       "      <td>11</td>\n",
       "      <td>0.02</td>\n",
       "      <td>82.3</td>\n",
       "    </tr>\n",
       "    <tr>\n",
       "      <th>3</th>\n",
       "      <td>2011-03-21</td>\n",
       "      <td>서울</td>\n",
       "      <td>서울강북</td>\n",
       "      <td>12</td>\n",
       "      <td>0.02</td>\n",
       "      <td>82.3</td>\n",
       "    </tr>\n",
       "    <tr>\n",
       "      <th>4</th>\n",
       "      <td>2011-03-28</td>\n",
       "      <td>서울</td>\n",
       "      <td>서울강북</td>\n",
       "      <td>13</td>\n",
       "      <td>0.00</td>\n",
       "      <td>82.3</td>\n",
       "    </tr>\n",
       "    <tr>\n",
       "      <th>...</th>\n",
       "      <td>...</td>\n",
       "      <td>...</td>\n",
       "      <td>...</td>\n",
       "      <td>...</td>\n",
       "      <td>...</td>\n",
       "      <td>...</td>\n",
       "    </tr>\n",
       "    <tr>\n",
       "      <th>867294</th>\n",
       "      <td>2021-05-31</td>\n",
       "      <td>제주/서귀포</td>\n",
       "      <td>제주/서귀포</td>\n",
       "      <td>22</td>\n",
       "      <td>0.55</td>\n",
       "      <td>101.8</td>\n",
       "    </tr>\n",
       "    <tr>\n",
       "      <th>867295</th>\n",
       "      <td>2021-06-07</td>\n",
       "      <td>제주/서귀포</td>\n",
       "      <td>제주/서귀포</td>\n",
       "      <td>23</td>\n",
       "      <td>0.71</td>\n",
       "      <td>102.6</td>\n",
       "    </tr>\n",
       "    <tr>\n",
       "      <th>867296</th>\n",
       "      <td>2021-06-14</td>\n",
       "      <td>제주/서귀포</td>\n",
       "      <td>제주/서귀포</td>\n",
       "      <td>24</td>\n",
       "      <td>0.91</td>\n",
       "      <td>103.5</td>\n",
       "    </tr>\n",
       "    <tr>\n",
       "      <th>867297</th>\n",
       "      <td>2021-06-21</td>\n",
       "      <td>제주/서귀포</td>\n",
       "      <td>제주/서귀포</td>\n",
       "      <td>25</td>\n",
       "      <td>0.61</td>\n",
       "      <td>104.1</td>\n",
       "    </tr>\n",
       "    <tr>\n",
       "      <th>867298</th>\n",
       "      <td>2021-06-28</td>\n",
       "      <td>제주/서귀포</td>\n",
       "      <td>제주/서귀포</td>\n",
       "      <td>26</td>\n",
       "      <td>0.66</td>\n",
       "      <td>104.8</td>\n",
       "    </tr>\n",
       "  </tbody>\n",
       "</table>\n",
       "<p>867299 rows × 6 columns</p>\n",
       "</div>"
      ],
      "text/plain": [
       "        base_date region_b region_s  week_num  meme_rate  meme_jisu\n",
       "0      2011-02-28       서울     서울강북         9       0.05       82.2\n",
       "1      2011-03-07       서울     서울강북        10       0.02       82.2\n",
       "2      2011-03-14       서울     서울강북        11       0.02       82.3\n",
       "3      2011-03-21       서울     서울강북        12       0.02       82.3\n",
       "4      2011-03-28       서울     서울강북        13       0.00       82.3\n",
       "...           ...      ...      ...       ...        ...        ...\n",
       "867294 2021-05-31   제주/서귀포   제주/서귀포        22       0.55      101.8\n",
       "867295 2021-06-07   제주/서귀포   제주/서귀포        23       0.71      102.6\n",
       "867296 2021-06-14   제주/서귀포   제주/서귀포        24       0.91      103.5\n",
       "867297 2021-06-21   제주/서귀포   제주/서귀포        25       0.61      104.1\n",
       "867298 2021-06-28   제주/서귀포   제주/서귀포        26       0.66      104.8\n",
       "\n",
       "[867299 rows x 6 columns]"
      ]
     },
     "execution_count": 78,
     "metadata": {},
     "output_type": "execute_result"
    }
   ],
   "source": [
    "df_a.loc[df_a['meme_rate'].isna(),'meme_rate'] = 0\n",
    "df_a['base_date'] = pd.to_datetime(df_a['base_date'],format='%Y,%m,%d')\n",
    "df_a.drop(['year','month'],axis=1,inplace=True)\n",
    "df_a['week_num'] = df_a['base_date'].dt.isocalendar().week\n",
    "df_a = df_a[['base_date','region_b','region_s','week_num','meme_rate','meme_jisu']]\n",
    "df_a"
   ]
  },
  {
   "cell_type": "markdown",
   "metadata": {},
   "source": [
    "## 하단 그래프인 매매시장 그래프 데이터"
   ]
  },
  {
   "cell_type": "code",
   "execution_count": 79,
   "metadata": {
    "ExecuteTime": {
     "end_time": "2021-08-05T14:29:24.949385Z",
     "start_time": "2021-08-05T14:29:23.603493Z"
    }
   },
   "outputs": [],
   "source": [
    "d3 = pd.concat([d3,d3_seju],axis=0)\n",
    "d4 = pd.concat([d4,d4_seju],axis=0)\n",
    "\n",
    "df_b = pd.merge(d3.drop(['ref_date','date_100'],axis=1),\n",
    "                d4.drop(['ref_date','date_100'],axis=1),how='left',on=['year','month','region_b','region_s','base_date'])"
   ]
  },
  {
   "cell_type": "code",
   "execution_count": 80,
   "metadata": {
    "ExecuteTime": {
     "end_time": "2021-08-05T14:29:25.323391Z",
     "start_time": "2021-08-05T14:29:24.953375Z"
    }
   },
   "outputs": [
    {
     "data": {
      "text/html": [
       "<div>\n",
       "<style scoped>\n",
       "    .dataframe tbody tr th:only-of-type {\n",
       "        vertical-align: middle;\n",
       "    }\n",
       "\n",
       "    .dataframe tbody tr th {\n",
       "        vertical-align: top;\n",
       "    }\n",
       "\n",
       "    .dataframe thead th {\n",
       "        text-align: right;\n",
       "    }\n",
       "</style>\n",
       "<table border=\"1\" class=\"dataframe\">\n",
       "  <thead>\n",
       "    <tr style=\"text-align: right;\">\n",
       "      <th></th>\n",
       "      <th>base_date</th>\n",
       "      <th>region_b</th>\n",
       "      <th>region_s</th>\n",
       "      <th>week_num</th>\n",
       "      <th>market_meme</th>\n",
       "      <th>market_mesu</th>\n",
       "    </tr>\n",
       "  </thead>\n",
       "  <tbody>\n",
       "    <tr>\n",
       "      <th>0</th>\n",
       "      <td>2011-02-28</td>\n",
       "      <td>서울</td>\n",
       "      <td>서울강북</td>\n",
       "      <td>9</td>\n",
       "      <td>22.3</td>\n",
       "      <td>34.7</td>\n",
       "    </tr>\n",
       "    <tr>\n",
       "      <th>1</th>\n",
       "      <td>2011-03-07</td>\n",
       "      <td>서울</td>\n",
       "      <td>서울강북</td>\n",
       "      <td>10</td>\n",
       "      <td>16.5</td>\n",
       "      <td>32.3</td>\n",
       "    </tr>\n",
       "    <tr>\n",
       "      <th>2</th>\n",
       "      <td>2011-03-14</td>\n",
       "      <td>서울</td>\n",
       "      <td>서울강북</td>\n",
       "      <td>11</td>\n",
       "      <td>15.2</td>\n",
       "      <td>27.4</td>\n",
       "    </tr>\n",
       "    <tr>\n",
       "      <th>3</th>\n",
       "      <td>2011-03-21</td>\n",
       "      <td>서울</td>\n",
       "      <td>서울강북</td>\n",
       "      <td>12</td>\n",
       "      <td>11.0</td>\n",
       "      <td>26.8</td>\n",
       "    </tr>\n",
       "    <tr>\n",
       "      <th>4</th>\n",
       "      <td>2011-03-28</td>\n",
       "      <td>서울</td>\n",
       "      <td>서울강북</td>\n",
       "      <td>13</td>\n",
       "      <td>9.7</td>\n",
       "      <td>21.0</td>\n",
       "    </tr>\n",
       "    <tr>\n",
       "      <th>...</th>\n",
       "      <td>...</td>\n",
       "      <td>...</td>\n",
       "      <td>...</td>\n",
       "      <td>...</td>\n",
       "      <td>...</td>\n",
       "      <td>...</td>\n",
       "    </tr>\n",
       "    <tr>\n",
       "      <th>825090</th>\n",
       "      <td>2021-05-31</td>\n",
       "      <td>제주/서귀포</td>\n",
       "      <td>제주/서귀포</td>\n",
       "      <td>22</td>\n",
       "      <td>13.6</td>\n",
       "      <td>122.7</td>\n",
       "    </tr>\n",
       "    <tr>\n",
       "      <th>825091</th>\n",
       "      <td>2021-06-07</td>\n",
       "      <td>제주/서귀포</td>\n",
       "      <td>제주/서귀포</td>\n",
       "      <td>23</td>\n",
       "      <td>9.5</td>\n",
       "      <td>119.0</td>\n",
       "    </tr>\n",
       "    <tr>\n",
       "      <th>825092</th>\n",
       "      <td>2021-06-14</td>\n",
       "      <td>제주/서귀포</td>\n",
       "      <td>제주/서귀포</td>\n",
       "      <td>24</td>\n",
       "      <td>4.8</td>\n",
       "      <td>123.8</td>\n",
       "    </tr>\n",
       "    <tr>\n",
       "      <th>825093</th>\n",
       "      <td>2021-06-21</td>\n",
       "      <td>제주/서귀포</td>\n",
       "      <td>제주/서귀포</td>\n",
       "      <td>25</td>\n",
       "      <td>9.1</td>\n",
       "      <td>127.3</td>\n",
       "    </tr>\n",
       "    <tr>\n",
       "      <th>825094</th>\n",
       "      <td>2021-06-28</td>\n",
       "      <td>제주/서귀포</td>\n",
       "      <td>제주/서귀포</td>\n",
       "      <td>26</td>\n",
       "      <td>4.5</td>\n",
       "      <td>118.2</td>\n",
       "    </tr>\n",
       "  </tbody>\n",
       "</table>\n",
       "<p>825095 rows × 6 columns</p>\n",
       "</div>"
      ],
      "text/plain": [
       "        base_date region_b region_s  week_num  market_meme  market_mesu\n",
       "0      2011-02-28       서울     서울강북         9         22.3         34.7\n",
       "1      2011-03-07       서울     서울강북        10         16.5         32.3\n",
       "2      2011-03-14       서울     서울강북        11         15.2         27.4\n",
       "3      2011-03-21       서울     서울강북        12         11.0         26.8\n",
       "4      2011-03-28       서울     서울강북        13          9.7         21.0\n",
       "...           ...      ...      ...       ...          ...          ...\n",
       "825090 2021-05-31   제주/서귀포   제주/서귀포        22         13.6        122.7\n",
       "825091 2021-06-07   제주/서귀포   제주/서귀포        23          9.5        119.0\n",
       "825092 2021-06-14   제주/서귀포   제주/서귀포        24          4.8        123.8\n",
       "825093 2021-06-21   제주/서귀포   제주/서귀포        25          9.1        127.3\n",
       "825094 2021-06-28   제주/서귀포   제주/서귀포        26          4.5        118.2\n",
       "\n",
       "[825095 rows x 6 columns]"
      ]
     },
     "execution_count": 80,
     "metadata": {},
     "output_type": "execute_result"
    }
   ],
   "source": [
    "df_b['base_date'] = pd.to_datetime(df_b['base_date'],format='%Y,%m,%d')\n",
    "df_b.drop(['year','month'],axis=1,inplace=True)\n",
    "df_b['week_num'] = df_b['base_date'].dt.isocalendar().week\n",
    "df_b = df_b[['base_date','region_b','region_s','week_num','market_meme','market_mesu']]\n",
    "df_b"
   ]
  },
  {
   "cell_type": "markdown",
   "metadata": {},
   "source": [
    "## 두개 합치기"
   ]
  },
  {
   "cell_type": "code",
   "execution_count": 81,
   "metadata": {
    "ExecuteTime": {
     "end_time": "2021-08-05T14:29:27.059100Z",
     "start_time": "2021-08-05T14:29:25.325380Z"
    }
   },
   "outputs": [],
   "source": [
    "df_bind = pd.merge(df_a,df_b,how='left',\n",
    "                  on=['base_date','region_b','region_s','week_num'])"
   ]
  },
  {
   "cell_type": "code",
   "execution_count": 82,
   "metadata": {
    "ExecuteTime": {
     "end_time": "2021-08-05T14:29:27.283500Z",
     "start_time": "2021-08-05T14:29:27.063089Z"
    }
   },
   "outputs": [],
   "source": [
    "# 상단의 그래프(meme_rate,meme_jisu)는 있지만,\n",
    "# 하단의 그래프(market_meme,market_mesu)는 없는 경우\n",
    "df_bind.loc[df_bind['market_meme'].isna(),'market_meme'] = 0\n",
    "df_bind.loc[df_bind['market_mesu'].isna(),'market_mesu'] = 0"
   ]
  },
  {
   "cell_type": "markdown",
   "metadata": {},
   "source": [
    "## 지역 전처리"
   ]
  },
  {
   "cell_type": "code",
   "execution_count": 89,
   "metadata": {
    "ExecuteTime": {
     "end_time": "2021-08-05T14:31:51.622488Z",
     "start_time": "2021-08-05T14:31:44.630700Z"
    }
   },
   "outputs": [],
   "source": [
    "df_bind['region_b'] = df_bind['region_b'].replace({\n",
    "    '서울':'서울특별시','경기':'경기도','인천':'인천광역시','부산':'부산광역시','대구':'대구광역시',\n",
    "    '광주':'광주광역시','대전':'대전광역시','울산':'울산광역시','강원':'강원도','충북':'충청북도',\n",
    "    '충남':'충청남도','전북':'전라북도','전남':'전라남도','경북':'경상북도','경남':'경상남도',\n",
    "    '세종':'세종특별자치시','제주/서귀포':'제주특별자치도'\n",
    "})"
   ]
  },
  {
   "cell_type": "code",
   "execution_count": 99,
   "metadata": {
    "ExecuteTime": {
     "end_time": "2021-08-05T14:39:25.864506Z",
     "start_time": "2021-08-05T14:39:16.373669Z"
    }
   },
   "outputs": [
    {
     "data": {
      "text/plain": [
       "array(['강북', '강북구', '광진구', '노원구', '도봉구', '동대문구', '마포구', '서대문구', '성동구',\n",
       "       '성북구', '용산구', '은평구', '종로구', '중구', '중랑구', '강남', '강남구', '강동구', '강서구',\n",
       "       '관악구', '구로구', '금천구', '동작구', '서초구', '송파구', '양천구', '영등포구', '수원',\n",
       "       '수원장안구', '수원권선구', '수원팔달구', '수원영통구', '성남', '성남수정구', '성남중원구',\n",
       "       '성남분당구', '고양', '고양덕양구', '고양일산동구', '고양일산서구', '안양', '안양만안구', '안양동안구',\n",
       "       '부천', '의정부', '광명', '평택', '안산', '안산단원구', '안산상록구', '과천', '구리', '남양주',\n",
       "       '용인', '용인처인구', '용인기흥구', '용인수지구', '시흥', '군포', '의왕', '하남', '오산',\n",
       "       '파주', '이천', '안성', '김포', '양주', '동두천', '', '화성', '인천중구', '인천동구',\n",
       "       '인천미추홀구', '인천연수구', '인천남동구', '인천부평구', '인천계양구', '인천서구', '서구', '동구',\n",
       "       '영도구', '진구', '동래구', '남구', '북구', '해운', '사하구', '금정구', '연제구', '수영구',\n",
       "       '사상구', '기장군', '수성구', '달서구', '달성군', '광산구', '유성구', '대덕구', '울주군',\n",
       "       '춘천', '강릉', '원주', '청주', '청주상당구', '청주서원구', '청주청원구', '청주흥덕구', '충주',\n",
       "       '제천', '천안', '천안동남구', '천안서북구', '공주', '아산', '논산', '계룡', '당진', '서산',\n",
       "       '전주', '전주완산구', '전주덕진구', '익산', '군산', '목포', '순천', '광양', '여수', '포항',\n",
       "       '포항남구', '포항북구', '김천', '구미', '경산', '안동', '창원', '창원마산합포구', '창원마산회원구',\n",
       "       '창원성산구', '창원의창구', '창원진해구', '양산', '거제', '진주', '김해', '통영', '세종',\n",
       "       '제주/서귀포'], dtype=object)"
      ]
     },
     "execution_count": 99,
     "metadata": {},
     "output_type": "execute_result"
    }
   ],
   "source": [
    "df_bind['region_s'].str.replace(r'서울|부산|대구|광주|대전|울산','').unique()"
   ]
  },
  {
   "cell_type": "code",
   "execution_count": 101,
   "metadata": {
    "ExecuteTime": {
     "end_time": "2021-08-05T14:40:57.674618Z",
     "start_time": "2021-08-05T14:40:57.052283Z"
    }
   },
   "outputs": [
    {
     "data": {
      "text/html": [
       "<div>\n",
       "<style scoped>\n",
       "    .dataframe tbody tr th:only-of-type {\n",
       "        vertical-align: middle;\n",
       "    }\n",
       "\n",
       "    .dataframe tbody tr th {\n",
       "        vertical-align: top;\n",
       "    }\n",
       "\n",
       "    .dataframe thead th {\n",
       "        text-align: right;\n",
       "    }\n",
       "</style>\n",
       "<table border=\"1\" class=\"dataframe\">\n",
       "  <thead>\n",
       "    <tr style=\"text-align: right;\">\n",
       "      <th></th>\n",
       "      <th>base_date</th>\n",
       "      <th>region_b</th>\n",
       "      <th>region_s</th>\n",
       "      <th>week_num</th>\n",
       "      <th>meme_rate</th>\n",
       "      <th>meme_jisu</th>\n",
       "      <th>market_meme</th>\n",
       "      <th>market_mesu</th>\n",
       "    </tr>\n",
       "  </thead>\n",
       "  <tbody>\n",
       "    <tr>\n",
       "      <th>19040</th>\n",
       "      <td>2011-02-28</td>\n",
       "      <td>경기도</td>\n",
       "      <td>광주</td>\n",
       "      <td>9</td>\n",
       "      <td>0.00</td>\n",
       "      <td>98.6</td>\n",
       "      <td>30.6</td>\n",
       "      <td>47.2</td>\n",
       "    </tr>\n",
       "    <tr>\n",
       "      <th>19041</th>\n",
       "      <td>2011-03-07</td>\n",
       "      <td>경기도</td>\n",
       "      <td>광주</td>\n",
       "      <td>10</td>\n",
       "      <td>0.00</td>\n",
       "      <td>98.6</td>\n",
       "      <td>37.4</td>\n",
       "      <td>41.0</td>\n",
       "    </tr>\n",
       "    <tr>\n",
       "      <th>19042</th>\n",
       "      <td>2011-03-14</td>\n",
       "      <td>경기도</td>\n",
       "      <td>광주</td>\n",
       "      <td>11</td>\n",
       "      <td>0.00</td>\n",
       "      <td>98.6</td>\n",
       "      <td>33.8</td>\n",
       "      <td>41.4</td>\n",
       "    </tr>\n",
       "    <tr>\n",
       "      <th>19043</th>\n",
       "      <td>2011-03-21</td>\n",
       "      <td>경기도</td>\n",
       "      <td>광주</td>\n",
       "      <td>12</td>\n",
       "      <td>0.00</td>\n",
       "      <td>98.7</td>\n",
       "      <td>22.3</td>\n",
       "      <td>41.1</td>\n",
       "    </tr>\n",
       "    <tr>\n",
       "      <th>19044</th>\n",
       "      <td>2011-03-28</td>\n",
       "      <td>경기도</td>\n",
       "      <td>광주</td>\n",
       "      <td>13</td>\n",
       "      <td>0.01</td>\n",
       "      <td>98.7</td>\n",
       "      <td>26.2</td>\n",
       "      <td>50.4</td>\n",
       "    </tr>\n",
       "    <tr>\n",
       "      <th>...</th>\n",
       "      <td>...</td>\n",
       "      <td>...</td>\n",
       "      <td>...</td>\n",
       "      <td>...</td>\n",
       "      <td>...</td>\n",
       "      <td>...</td>\n",
       "      <td>...</td>\n",
       "      <td>...</td>\n",
       "    </tr>\n",
       "    <tr>\n",
       "      <th>8787944</th>\n",
       "      <td>2021-05-31</td>\n",
       "      <td>경기도</td>\n",
       "      <td>광주</td>\n",
       "      <td>22</td>\n",
       "      <td>0.69</td>\n",
       "      <td>122.5</td>\n",
       "      <td>15.7</td>\n",
       "      <td>97.0</td>\n",
       "    </tr>\n",
       "    <tr>\n",
       "      <th>8787945</th>\n",
       "      <td>2021-06-07</td>\n",
       "      <td>경기도</td>\n",
       "      <td>광주</td>\n",
       "      <td>23</td>\n",
       "      <td>0.68</td>\n",
       "      <td>123.3</td>\n",
       "      <td>16.8</td>\n",
       "      <td>102.1</td>\n",
       "    </tr>\n",
       "    <tr>\n",
       "      <th>8787946</th>\n",
       "      <td>2021-06-14</td>\n",
       "      <td>경기도</td>\n",
       "      <td>광주</td>\n",
       "      <td>24</td>\n",
       "      <td>0.38</td>\n",
       "      <td>123.8</td>\n",
       "      <td>16.4</td>\n",
       "      <td>101.9</td>\n",
       "    </tr>\n",
       "    <tr>\n",
       "      <th>8787947</th>\n",
       "      <td>2021-06-21</td>\n",
       "      <td>경기도</td>\n",
       "      <td>광주</td>\n",
       "      <td>25</td>\n",
       "      <td>0.64</td>\n",
       "      <td>124.6</td>\n",
       "      <td>19.1</td>\n",
       "      <td>104.4</td>\n",
       "    </tr>\n",
       "    <tr>\n",
       "      <th>8787948</th>\n",
       "      <td>2021-06-28</td>\n",
       "      <td>경기도</td>\n",
       "      <td>광주</td>\n",
       "      <td>26</td>\n",
       "      <td>0.30</td>\n",
       "      <td>125.0</td>\n",
       "      <td>18.2</td>\n",
       "      <td>105.9</td>\n",
       "    </tr>\n",
       "  </tbody>\n",
       "</table>\n",
       "<p>56747 rows × 8 columns</p>\n",
       "</div>"
      ],
      "text/plain": [
       "         base_date region_b region_s  week_num  meme_rate  meme_jisu  \\\n",
       "19040   2011-02-28      경기도       광주         9       0.00       98.6   \n",
       "19041   2011-03-07      경기도       광주        10       0.00       98.6   \n",
       "19042   2011-03-14      경기도       광주        11       0.00       98.6   \n",
       "19043   2011-03-21      경기도       광주        12       0.00       98.7   \n",
       "19044   2011-03-28      경기도       광주        13       0.01       98.7   \n",
       "...            ...      ...      ...       ...        ...        ...   \n",
       "8787944 2021-05-31      경기도       광주        22       0.69      122.5   \n",
       "8787945 2021-06-07      경기도       광주        23       0.68      123.3   \n",
       "8787946 2021-06-14      경기도       광주        24       0.38      123.8   \n",
       "8787947 2021-06-21      경기도       광주        25       0.64      124.6   \n",
       "8787948 2021-06-28      경기도       광주        26       0.30      125.0   \n",
       "\n",
       "         market_meme  market_mesu  \n",
       "19040           30.6         47.2  \n",
       "19041           37.4         41.0  \n",
       "19042           33.8         41.4  \n",
       "19043           22.3         41.1  \n",
       "19044           26.2         50.4  \n",
       "...              ...          ...  \n",
       "8787944         15.7         97.0  \n",
       "8787945         16.8        102.1  \n",
       "8787946         16.4        101.9  \n",
       "8787947         19.1        104.4  \n",
       "8787948         18.2        105.9  \n",
       "\n",
       "[56747 rows x 8 columns]"
      ]
     },
     "execution_count": 101,
     "metadata": {},
     "output_type": "execute_result"
    }
   ],
   "source": [
    "df_bind[df_bind['region_s']=='광주']"
   ]
  },
  {
   "cell_type": "code",
   "execution_count": null,
   "metadata": {},
   "outputs": [],
   "source": []
  }
 ],
 "metadata": {
  "kernelspec": {
   "display_name": "simon_env",
   "language": "python",
   "name": "simon_env"
  },
  "language_info": {
   "codemirror_mode": {
    "name": "ipython",
    "version": 3
   },
   "file_extension": ".py",
   "mimetype": "text/x-python",
   "name": "python",
   "nbconvert_exporter": "python",
   "pygments_lexer": "ipython3",
   "version": "3.8.8"
  },
  "toc": {
   "base_numbering": 1,
   "nav_menu": {},
   "number_sections": true,
   "sideBar": true,
   "skip_h1_title": true,
   "title_cell": "Table of Contents",
   "title_sidebar": "Contents",
   "toc_cell": false,
   "toc_position": {},
   "toc_section_display": true,
   "toc_window_display": false
  },
  "varInspector": {
   "cols": {
    "lenName": 16,
    "lenType": 16,
    "lenVar": 40
   },
   "kernels_config": {
    "python": {
     "delete_cmd_postfix": "",
     "delete_cmd_prefix": "del ",
     "library": "var_list.py",
     "varRefreshCmd": "print(var_dic_list())"
    },
    "r": {
     "delete_cmd_postfix": ") ",
     "delete_cmd_prefix": "rm(",
     "library": "var_list.r",
     "varRefreshCmd": "cat(var_dic_list()) "
    }
   },
   "types_to_exclude": [
    "module",
    "function",
    "builtin_function_or_method",
    "instance",
    "_Feature"
   ],
   "window_display": false
  }
 },
 "nbformat": 4,
 "nbformat_minor": 5
}
