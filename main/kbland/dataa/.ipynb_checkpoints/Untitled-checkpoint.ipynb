{
 "cells": [
  {
   "cell_type": "code",
   "execution_count": 3,
   "id": "124f37c2",
   "metadata": {
    "ExecuteTime": {
     "end_time": "2021-08-02T00:52:39.357508Z",
     "start_time": "2021-08-02T00:52:39.345569Z"
    }
   },
   "outputs": [],
   "source": [
    "import pandas as pd\n",
    "import numpy as np\n",
    "from glob import glob"
   ]
  },
  {
   "cell_type": "code",
   "execution_count": 33,
   "id": "b816709a",
   "metadata": {
    "ExecuteTime": {
     "end_time": "2021-08-02T01:20:14.755460Z",
     "start_time": "2021-08-02T01:20:14.748478Z"
    }
   },
   "outputs": [],
   "source": [
    "dirr = 'C:/Users/shic/Desktop/crawler_project/main/kbland/dataa/original/'"
   ]
  },
  {
   "cell_type": "code",
   "execution_count": 34,
   "id": "9ef31fbb",
   "metadata": {
    "ExecuteTime": {
     "end_time": "2021-08-02T01:20:14.941562Z",
     "start_time": "2021-08-02T01:20:14.934579Z"
    }
   },
   "outputs": [
    {
     "data": {
      "text/plain": [
       "['C:/Users/shic/Desktop/crawler_project/main/kbland/dataa/original\\\\매매가격_변화율_original.csv',\n",
       " 'C:/Users/shic/Desktop/crawler_project/main/kbland/dataa/original\\\\매매가격_지수_original.csv',\n",
       " 'C:/Users/shic/Desktop/crawler_project/main/kbland/dataa/original\\\\매매시장_매매거래_original.csv',\n",
       " 'C:/Users/shic/Desktop/crawler_project/main/kbland/dataa/original\\\\매매시장_매수우위_original.csv']"
      ]
     },
     "execution_count": 34,
     "metadata": {},
     "output_type": "execute_result"
    }
   ],
   "source": [
    "list_file = glob(dirr + '*.csv')\n",
    "list_file"
   ]
  },
  {
   "cell_type": "code",
   "execution_count": 35,
   "id": "9e0d490b",
   "metadata": {
    "ExecuteTime": {
     "end_time": "2021-08-02T01:20:18.454170Z",
     "start_time": "2021-08-02T01:20:15.254426Z"
    }
   },
   "outputs": [],
   "source": [
    "df1 = pd.read_csv(list_file[0])\n",
    "df2 = pd.read_csv(list_file[1])\n",
    "df3 = pd.read_csv(list_file[2])\n",
    "df4 = pd.read_csv(list_file[3])"
   ]
  },
  {
   "cell_type": "code",
   "execution_count": 36,
   "id": "e865edd2",
   "metadata": {
    "ExecuteTime": {
     "end_time": "2021-08-02T01:20:18.532898Z",
     "start_time": "2021-08-02T01:20:18.517938Z"
    }
   },
   "outputs": [
    {
     "name": "stdout",
     "output_type": "stream",
     "text": [
      "Index(['year', 'month', 'region_b', 'region_s', 'ref_date', 'date_100',\n",
      "       'rate_v', 'rate_d'],\n",
      "      dtype='object')\n",
      "Index(['year', 'month', 'region_b', 'region_s', 'ref_date', 'date_100',\n",
      "       'jisu_v', 'jisu_d'],\n",
      "      dtype='object')\n",
      "Index(['year', 'month', 'region_b', 'region_s', 'ref_date', 'date_100',\n",
      "       'rate_v', 'rate_d'],\n",
      "      dtype='object')\n",
      "Index(['year', 'month', 'region_b', 'region_s', 'ref_date', 'date_100',\n",
      "       'jisu_v', 'jisu_d'],\n",
      "      dtype='object')\n"
     ]
    }
   ],
   "source": [
    "for a in [df1,df2,df3,df4]:\n",
    "    print(a.columns)"
   ]
  },
  {
   "cell_type": "code",
   "execution_count": 37,
   "id": "ed98ead5",
   "metadata": {
    "ExecuteTime": {
     "end_time": "2021-08-02T01:20:19.021904Z",
     "start_time": "2021-08-02T01:20:18.596728Z"
    }
   },
   "outputs": [],
   "source": [
    "df1['rate_d'] = pd.to_datetime(df1['rate_d'],format='%Y,%m,%d')\n",
    "df2['jisu_d'] = pd.to_datetime(df2['jisu_d'],format='%Y,%m,%d')\n",
    "df3['rate_d'] = pd.to_datetime(df3['rate_d'],format='%Y,%m,%d')\n",
    "df4['jisu_d'] = pd.to_datetime(df4['jisu_d'],format='%Y,%m,%d')"
   ]
  },
  {
   "cell_type": "code",
   "execution_count": 55,
   "id": "a2d0e063",
   "metadata": {
    "ExecuteTime": {
     "end_time": "2021-08-02T01:27:42.780245Z",
     "start_time": "2021-08-02T01:27:42.462040Z"
    }
   },
   "outputs": [],
   "source": [
    "df1['week_num'] = df1['rate_d'].dt.isocalendar().iloc[:,1]\n",
    "df2['week_num'] = df2['jisu_d'].dt.isocalendar().iloc[:,1]\n",
    "df3['week_num'] = df3['rate_d'].dt.isocalendar().iloc[:,1]\n",
    "df4['week_num'] = df4['jisu_d'].dt.isocalendar().iloc[:,1]"
   ]
  },
  {
   "cell_type": "code",
   "execution_count": 59,
   "id": "dfa97dd6",
   "metadata": {
    "ExecuteTime": {
     "end_time": "2021-08-02T01:29:19.367704Z",
     "start_time": "2021-08-02T01:29:16.437538Z"
    }
   },
   "outputs": [],
   "source": [
    "df1_pro = df1.groupby(['year','month','region_b','region_s','rate_d','week_num'],as_index=False)['rate_v'].mean()\n",
    "df2_pro = df2.groupby(['year','month','region_b','region_s','jisu_d','week_num'],as_index=False)['jisu_v'].mean()\n",
    "df3_pro = df3.groupby(['year','month','region_b','region_s','rate_d','week_num'],as_index=False)['rate_v'].mean()\n",
    "df4_pro = df4.groupby(['year','month','region_b','region_s','jisu_d','week_num'],as_index=False)['jisu_v'].mean()"
   ]
  },
  {
   "cell_type": "code",
   "execution_count": 64,
   "id": "93e3d40e",
   "metadata": {
    "ExecuteTime": {
     "end_time": "2021-08-02T01:32:14.781663Z",
     "start_time": "2021-08-02T01:32:13.830189Z"
    }
   },
   "outputs": [],
   "source": [
    "sold_price = pd.merge(df1_pro,df2_pro,how='inner',\n",
    "                      left_on=['year','month','region_b','region_s','rate_d','week_num'],\n",
    "                      right_on=['year','month','region_b','region_s','jisu_d','week_num'])\n",
    "sold_market = pd.merge(df3_pro,df4_pro,how='inner',\n",
    "                      left_on=['year','month','region_b','region_s','rate_d','week_num'],\n",
    "                      right_on=['year','month','region_b','region_s','jisu_d','week_num'])"
   ]
  },
  {
   "cell_type": "code",
   "execution_count": 65,
   "id": "29c1a3c9",
   "metadata": {
    "ExecuteTime": {
     "end_time": "2021-08-02T01:33:24.056987Z",
     "start_time": "2021-08-02T01:33:24.044021Z"
    }
   },
   "outputs": [
    {
     "name": "stdout",
     "output_type": "stream",
     "text": [
      "(837042, 9)\n",
      "(817471, 9)\n"
     ]
    }
   ],
   "source": [
    "print(sold_price.shape)\n",
    "print(sold_market.shape)"
   ]
  },
  {
   "cell_type": "code",
   "execution_count": 78,
   "id": "1a3f659f",
   "metadata": {
    "ExecuteTime": {
     "end_time": "2021-08-02T02:19:54.671742Z",
     "start_time": "2021-08-02T02:19:54.158788Z"
    }
   },
   "outputs": [
    {
     "data": {
      "text/html": [
       "<div>\n",
       "<style scoped>\n",
       "    .dataframe tbody tr th:only-of-type {\n",
       "        vertical-align: middle;\n",
       "    }\n",
       "\n",
       "    .dataframe tbody tr th {\n",
       "        vertical-align: top;\n",
       "    }\n",
       "\n",
       "    .dataframe thead th {\n",
       "        text-align: right;\n",
       "    }\n",
       "</style>\n",
       "<table border=\"1\" class=\"dataframe\">\n",
       "  <thead>\n",
       "    <tr style=\"text-align: right;\">\n",
       "      <th></th>\n",
       "      <th>year</th>\n",
       "      <th>month</th>\n",
       "      <th>region_b</th>\n",
       "      <th>region_s</th>\n",
       "      <th>rate_d</th>\n",
       "      <th>week_num_x</th>\n",
       "      <th>rate_v_x</th>\n",
       "      <th>jisu_d_x</th>\n",
       "      <th>jisu_v_x</th>\n",
       "      <th>week_num_y</th>\n",
       "      <th>rate_v_y</th>\n",
       "      <th>jisu_d_y</th>\n",
       "      <th>jisu_v_y</th>\n",
       "    </tr>\n",
       "  </thead>\n",
       "  <tbody>\n",
       "    <tr>\n",
       "      <th>0</th>\n",
       "      <td>2012</td>\n",
       "      <td>1</td>\n",
       "      <td>경기</td>\n",
       "      <td>고양</td>\n",
       "      <td>2011-02-28</td>\n",
       "      <td>9</td>\n",
       "      <td>0.08</td>\n",
       "      <td>2011-02-28</td>\n",
       "      <td>94.8</td>\n",
       "      <td>9</td>\n",
       "      <td>30.6</td>\n",
       "      <td>2011-02-28</td>\n",
       "      <td>47.2</td>\n",
       "    </tr>\n",
       "    <tr>\n",
       "      <th>1</th>\n",
       "      <td>2012</td>\n",
       "      <td>1</td>\n",
       "      <td>경기</td>\n",
       "      <td>고양</td>\n",
       "      <td>2011-03-07</td>\n",
       "      <td>10</td>\n",
       "      <td>0.05</td>\n",
       "      <td>2011-03-07</td>\n",
       "      <td>94.9</td>\n",
       "      <td>10</td>\n",
       "      <td>37.4</td>\n",
       "      <td>2011-03-07</td>\n",
       "      <td>41.0</td>\n",
       "    </tr>\n",
       "    <tr>\n",
       "      <th>2</th>\n",
       "      <td>2012</td>\n",
       "      <td>1</td>\n",
       "      <td>경기</td>\n",
       "      <td>고양</td>\n",
       "      <td>2011-03-14</td>\n",
       "      <td>11</td>\n",
       "      <td>0.05</td>\n",
       "      <td>2011-03-14</td>\n",
       "      <td>94.8</td>\n",
       "      <td>11</td>\n",
       "      <td>33.8</td>\n",
       "      <td>2011-03-14</td>\n",
       "      <td>41.4</td>\n",
       "    </tr>\n",
       "    <tr>\n",
       "      <th>3</th>\n",
       "      <td>2012</td>\n",
       "      <td>1</td>\n",
       "      <td>경기</td>\n",
       "      <td>고양</td>\n",
       "      <td>2011-03-21</td>\n",
       "      <td>12</td>\n",
       "      <td>-0.02</td>\n",
       "      <td>2011-03-21</td>\n",
       "      <td>94.8</td>\n",
       "      <td>12</td>\n",
       "      <td>22.3</td>\n",
       "      <td>2011-03-21</td>\n",
       "      <td>41.1</td>\n",
       "    </tr>\n",
       "    <tr>\n",
       "      <th>4</th>\n",
       "      <td>2012</td>\n",
       "      <td>1</td>\n",
       "      <td>경기</td>\n",
       "      <td>고양</td>\n",
       "      <td>2011-03-28</td>\n",
       "      <td>13</td>\n",
       "      <td>-0.01</td>\n",
       "      <td>2011-03-28</td>\n",
       "      <td>94.8</td>\n",
       "      <td>13</td>\n",
       "      <td>26.2</td>\n",
       "      <td>2011-03-28</td>\n",
       "      <td>50.4</td>\n",
       "    </tr>\n",
       "    <tr>\n",
       "      <th>...</th>\n",
       "      <td>...</td>\n",
       "      <td>...</td>\n",
       "      <td>...</td>\n",
       "      <td>...</td>\n",
       "      <td>...</td>\n",
       "      <td>...</td>\n",
       "      <td>...</td>\n",
       "      <td>...</td>\n",
       "      <td>...</td>\n",
       "      <td>...</td>\n",
       "      <td>...</td>\n",
       "      <td>...</td>\n",
       "      <td>...</td>\n",
       "    </tr>\n",
       "    <tr>\n",
       "      <th>800750</th>\n",
       "      <td>2021</td>\n",
       "      <td>6</td>\n",
       "      <td>충북</td>\n",
       "      <td>충주</td>\n",
       "      <td>2021-05-31</td>\n",
       "      <td>22</td>\n",
       "      <td>0.23</td>\n",
       "      <td>2021-05-31</td>\n",
       "      <td>102.9</td>\n",
       "      <td>22</td>\n",
       "      <td>20.7</td>\n",
       "      <td>2021-05-31</td>\n",
       "      <td>118.3</td>\n",
       "    </tr>\n",
       "    <tr>\n",
       "      <th>800751</th>\n",
       "      <td>2021</td>\n",
       "      <td>6</td>\n",
       "      <td>충북</td>\n",
       "      <td>충주</td>\n",
       "      <td>2021-06-07</td>\n",
       "      <td>23</td>\n",
       "      <td>0.41</td>\n",
       "      <td>2021-06-07</td>\n",
       "      <td>103.3</td>\n",
       "      <td>23</td>\n",
       "      <td>17.6</td>\n",
       "      <td>2021-06-07</td>\n",
       "      <td>128.5</td>\n",
       "    </tr>\n",
       "    <tr>\n",
       "      <th>800752</th>\n",
       "      <td>2021</td>\n",
       "      <td>6</td>\n",
       "      <td>충북</td>\n",
       "      <td>충주</td>\n",
       "      <td>2021-06-14</td>\n",
       "      <td>24</td>\n",
       "      <td>0.27</td>\n",
       "      <td>2021-06-14</td>\n",
       "      <td>103.6</td>\n",
       "      <td>24</td>\n",
       "      <td>16.3</td>\n",
       "      <td>2021-06-14</td>\n",
       "      <td>129.7</td>\n",
       "    </tr>\n",
       "    <tr>\n",
       "      <th>800753</th>\n",
       "      <td>2021</td>\n",
       "      <td>6</td>\n",
       "      <td>충북</td>\n",
       "      <td>충주</td>\n",
       "      <td>2021-06-21</td>\n",
       "      <td>25</td>\n",
       "      <td>0.49</td>\n",
       "      <td>2021-06-21</td>\n",
       "      <td>104.1</td>\n",
       "      <td>25</td>\n",
       "      <td>15.4</td>\n",
       "      <td>2021-06-21</td>\n",
       "      <td>122.2</td>\n",
       "    </tr>\n",
       "    <tr>\n",
       "      <th>800754</th>\n",
       "      <td>2021</td>\n",
       "      <td>6</td>\n",
       "      <td>충북</td>\n",
       "      <td>충주</td>\n",
       "      <td>2021-06-28</td>\n",
       "      <td>26</td>\n",
       "      <td>0.29</td>\n",
       "      <td>2021-06-28</td>\n",
       "      <td>104.4</td>\n",
       "      <td>26</td>\n",
       "      <td>15.7</td>\n",
       "      <td>2021-06-28</td>\n",
       "      <td>122.4</td>\n",
       "    </tr>\n",
       "  </tbody>\n",
       "</table>\n",
       "<p>800755 rows × 13 columns</p>\n",
       "</div>"
      ],
      "text/plain": [
       "        year  month region_b region_s     rate_d  week_num_x  rate_v_x  \\\n",
       "0       2012      1       경기       고양 2011-02-28           9      0.08   \n",
       "1       2012      1       경기       고양 2011-03-07          10      0.05   \n",
       "2       2012      1       경기       고양 2011-03-14          11      0.05   \n",
       "3       2012      1       경기       고양 2011-03-21          12     -0.02   \n",
       "4       2012      1       경기       고양 2011-03-28          13     -0.01   \n",
       "...      ...    ...      ...      ...        ...         ...       ...   \n",
       "800750  2021      6       충북       충주 2021-05-31          22      0.23   \n",
       "800751  2021      6       충북       충주 2021-06-07          23      0.41   \n",
       "800752  2021      6       충북       충주 2021-06-14          24      0.27   \n",
       "800753  2021      6       충북       충주 2021-06-21          25      0.49   \n",
       "800754  2021      6       충북       충주 2021-06-28          26      0.29   \n",
       "\n",
       "         jisu_d_x  jisu_v_x  week_num_y  rate_v_y   jisu_d_y  jisu_v_y  \n",
       "0      2011-02-28      94.8           9      30.6 2011-02-28      47.2  \n",
       "1      2011-03-07      94.9          10      37.4 2011-03-07      41.0  \n",
       "2      2011-03-14      94.8          11      33.8 2011-03-14      41.4  \n",
       "3      2011-03-21      94.8          12      22.3 2011-03-21      41.1  \n",
       "4      2011-03-28      94.8          13      26.2 2011-03-28      50.4  \n",
       "...           ...       ...         ...       ...        ...       ...  \n",
       "800750 2021-05-31     102.9          22      20.7 2021-05-31     118.3  \n",
       "800751 2021-06-07     103.3          23      17.6 2021-06-07     128.5  \n",
       "800752 2021-06-14     103.6          24      16.3 2021-06-14     129.7  \n",
       "800753 2021-06-21     104.1          25      15.4 2021-06-21     122.2  \n",
       "800754 2021-06-28     104.4          26      15.7 2021-06-28     122.4  \n",
       "\n",
       "[800755 rows x 13 columns]"
      ]
     },
     "execution_count": 78,
     "metadata": {},
     "output_type": "execute_result"
    }
   ],
   "source": [
    "df_final = pd.merge(sold_price,sold_market,how='inner',\n",
    "                    on=['year','month','region_b','region_s','rate_d'])\n",
    "df_final"
   ]
  },
  {
   "cell_type": "code",
   "execution_count": 79,
   "id": "2ca52886",
   "metadata": {
    "ExecuteTime": {
     "end_time": "2021-08-02T02:22:38.429975Z",
     "start_time": "2021-08-02T02:21:39.322386Z"
    }
   },
   "outputs": [],
   "source": [
    "base_ym = []\n",
    "for roww in df_final.iterrows():\n",
    "    yy = str(roww[1]['year'])\n",
    "    mm = str(roww[1]['month'])\n",
    "    \n",
    "    if len(mm) == 1:\n",
    "        mm = '0' + mm\n",
    "    else:\n",
    "        mm = mm\n",
    "    \n",
    "    base_ym.append(yy+mm)"
   ]
  },
  {
   "cell_type": "code",
   "execution_count": 81,
   "id": "bb862971",
   "metadata": {
    "ExecuteTime": {
     "end_time": "2021-08-02T04:07:23.392315Z",
     "start_time": "2021-08-02T04:07:23.360138Z"
    }
   },
   "outputs": [],
   "source": [
    "df_final['BASE_YM'] = base_ym "
   ]
  },
  {
   "cell_type": "code",
   "execution_count": 83,
   "id": "225f4411",
   "metadata": {
    "ExecuteTime": {
     "end_time": "2021-08-02T04:08:09.208829Z",
     "start_time": "2021-08-02T04:08:09.123863Z"
    }
   },
   "outputs": [
    {
     "data": {
      "text/html": [
       "<div>\n",
       "<style scoped>\n",
       "    .dataframe tbody tr th:only-of-type {\n",
       "        vertical-align: middle;\n",
       "    }\n",
       "\n",
       "    .dataframe tbody tr th {\n",
       "        vertical-align: top;\n",
       "    }\n",
       "\n",
       "    .dataframe thead th {\n",
       "        text-align: right;\n",
       "    }\n",
       "</style>\n",
       "<table border=\"1\" class=\"dataframe\">\n",
       "  <thead>\n",
       "    <tr style=\"text-align: right;\">\n",
       "      <th></th>\n",
       "      <th>BASE_YM</th>\n",
       "      <th>region_b</th>\n",
       "      <th>region_s</th>\n",
       "      <th>week_num_x</th>\n",
       "      <th>rate_v_x</th>\n",
       "      <th>jisu_v_x</th>\n",
       "      <th>rate_v_y</th>\n",
       "      <th>jisu_v_y</th>\n",
       "    </tr>\n",
       "  </thead>\n",
       "  <tbody>\n",
       "    <tr>\n",
       "      <th>0</th>\n",
       "      <td>201201</td>\n",
       "      <td>경기</td>\n",
       "      <td>고양</td>\n",
       "      <td>9</td>\n",
       "      <td>0.08</td>\n",
       "      <td>94.8</td>\n",
       "      <td>30.6</td>\n",
       "      <td>47.2</td>\n",
       "    </tr>\n",
       "    <tr>\n",
       "      <th>1</th>\n",
       "      <td>201201</td>\n",
       "      <td>경기</td>\n",
       "      <td>고양</td>\n",
       "      <td>10</td>\n",
       "      <td>0.05</td>\n",
       "      <td>94.9</td>\n",
       "      <td>37.4</td>\n",
       "      <td>41.0</td>\n",
       "    </tr>\n",
       "    <tr>\n",
       "      <th>2</th>\n",
       "      <td>201201</td>\n",
       "      <td>경기</td>\n",
       "      <td>고양</td>\n",
       "      <td>11</td>\n",
       "      <td>0.05</td>\n",
       "      <td>94.8</td>\n",
       "      <td>33.8</td>\n",
       "      <td>41.4</td>\n",
       "    </tr>\n",
       "    <tr>\n",
       "      <th>3</th>\n",
       "      <td>201201</td>\n",
       "      <td>경기</td>\n",
       "      <td>고양</td>\n",
       "      <td>12</td>\n",
       "      <td>-0.02</td>\n",
       "      <td>94.8</td>\n",
       "      <td>22.3</td>\n",
       "      <td>41.1</td>\n",
       "    </tr>\n",
       "    <tr>\n",
       "      <th>4</th>\n",
       "      <td>201201</td>\n",
       "      <td>경기</td>\n",
       "      <td>고양</td>\n",
       "      <td>13</td>\n",
       "      <td>-0.01</td>\n",
       "      <td>94.8</td>\n",
       "      <td>26.2</td>\n",
       "      <td>50.4</td>\n",
       "    </tr>\n",
       "    <tr>\n",
       "      <th>...</th>\n",
       "      <td>...</td>\n",
       "      <td>...</td>\n",
       "      <td>...</td>\n",
       "      <td>...</td>\n",
       "      <td>...</td>\n",
       "      <td>...</td>\n",
       "      <td>...</td>\n",
       "      <td>...</td>\n",
       "    </tr>\n",
       "    <tr>\n",
       "      <th>800750</th>\n",
       "      <td>202106</td>\n",
       "      <td>충북</td>\n",
       "      <td>충주</td>\n",
       "      <td>22</td>\n",
       "      <td>0.23</td>\n",
       "      <td>102.9</td>\n",
       "      <td>20.7</td>\n",
       "      <td>118.3</td>\n",
       "    </tr>\n",
       "    <tr>\n",
       "      <th>800751</th>\n",
       "      <td>202106</td>\n",
       "      <td>충북</td>\n",
       "      <td>충주</td>\n",
       "      <td>23</td>\n",
       "      <td>0.41</td>\n",
       "      <td>103.3</td>\n",
       "      <td>17.6</td>\n",
       "      <td>128.5</td>\n",
       "    </tr>\n",
       "    <tr>\n",
       "      <th>800752</th>\n",
       "      <td>202106</td>\n",
       "      <td>충북</td>\n",
       "      <td>충주</td>\n",
       "      <td>24</td>\n",
       "      <td>0.27</td>\n",
       "      <td>103.6</td>\n",
       "      <td>16.3</td>\n",
       "      <td>129.7</td>\n",
       "    </tr>\n",
       "    <tr>\n",
       "      <th>800753</th>\n",
       "      <td>202106</td>\n",
       "      <td>충북</td>\n",
       "      <td>충주</td>\n",
       "      <td>25</td>\n",
       "      <td>0.49</td>\n",
       "      <td>104.1</td>\n",
       "      <td>15.4</td>\n",
       "      <td>122.2</td>\n",
       "    </tr>\n",
       "    <tr>\n",
       "      <th>800754</th>\n",
       "      <td>202106</td>\n",
       "      <td>충북</td>\n",
       "      <td>충주</td>\n",
       "      <td>26</td>\n",
       "      <td>0.29</td>\n",
       "      <td>104.4</td>\n",
       "      <td>15.7</td>\n",
       "      <td>122.4</td>\n",
       "    </tr>\n",
       "  </tbody>\n",
       "</table>\n",
       "<p>800755 rows × 8 columns</p>\n",
       "</div>"
      ],
      "text/plain": [
       "       BASE_YM region_b region_s  week_num_x  rate_v_x  jisu_v_x  rate_v_y  \\\n",
       "0       201201       경기       고양           9      0.08      94.8      30.6   \n",
       "1       201201       경기       고양          10      0.05      94.9      37.4   \n",
       "2       201201       경기       고양          11      0.05      94.8      33.8   \n",
       "3       201201       경기       고양          12     -0.02      94.8      22.3   \n",
       "4       201201       경기       고양          13     -0.01      94.8      26.2   \n",
       "...        ...      ...      ...         ...       ...       ...       ...   \n",
       "800750  202106       충북       충주          22      0.23     102.9      20.7   \n",
       "800751  202106       충북       충주          23      0.41     103.3      17.6   \n",
       "800752  202106       충북       충주          24      0.27     103.6      16.3   \n",
       "800753  202106       충북       충주          25      0.49     104.1      15.4   \n",
       "800754  202106       충북       충주          26      0.29     104.4      15.7   \n",
       "\n",
       "        jisu_v_y  \n",
       "0           47.2  \n",
       "1           41.0  \n",
       "2           41.4  \n",
       "3           41.1  \n",
       "4           50.4  \n",
       "...          ...  \n",
       "800750     118.3  \n",
       "800751     128.5  \n",
       "800752     129.7  \n",
       "800753     122.2  \n",
       "800754     122.4  \n",
       "\n",
       "[800755 rows x 8 columns]"
      ]
     },
     "execution_count": 83,
     "metadata": {},
     "output_type": "execute_result"
    }
   ],
   "source": [
    "df_save = df_final[['BASE_YM','region_b','region_s','week_num_x','rate_v_x','jisu_v_x','rate_v_y','jisu_v_y']]\n",
    "df_save.columns = ['BASE_YM','SIDONM','SIGUNGU_NM','WK_DG']"
   ]
  },
  {
   "cell_type": "code",
   "execution_count": null,
   "id": "3981a8f1",
   "metadata": {},
   "outputs": [],
   "source": []
  }
 ],
 "metadata": {
  "kernelspec": {
   "display_name": "simon_env",
   "language": "python",
   "name": "simon_env"
  },
  "language_info": {
   "codemirror_mode": {
    "name": "ipython",
    "version": 3
   },
   "file_extension": ".py",
   "mimetype": "text/x-python",
   "name": "python",
   "nbconvert_exporter": "python",
   "pygments_lexer": "ipython3",
   "version": "3.7.10"
  },
  "varInspector": {
   "cols": {
    "lenName": 16,
    "lenType": 16,
    "lenVar": 40
   },
   "kernels_config": {
    "python": {
     "delete_cmd_postfix": "",
     "delete_cmd_prefix": "del ",
     "library": "var_list.py",
     "varRefreshCmd": "print(var_dic_list())"
    },
    "r": {
     "delete_cmd_postfix": ") ",
     "delete_cmd_prefix": "rm(",
     "library": "var_list.r",
     "varRefreshCmd": "cat(var_dic_list()) "
    }
   },
   "types_to_exclude": [
    "module",
    "function",
    "builtin_function_or_method",
    "instance",
    "_Feature"
   ],
   "window_display": false
  }
 },
 "nbformat": 4,
 "nbformat_minor": 5
}
