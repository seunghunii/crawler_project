{
 "cells": [
  {
   "cell_type": "code",
   "execution_count": 1,
   "id": "b7581a0f",
   "metadata": {
    "ExecuteTime": {
     "end_time": "2021-08-20T04:13:30.056603Z",
     "start_time": "2021-08-20T04:13:29.701603Z"
    }
   },
   "outputs": [],
   "source": [
    "import pandas as pd"
   ]
  },
  {
   "cell_type": "code",
   "execution_count": 2,
   "id": "bce3aafb",
   "metadata": {
    "ExecuteTime": {
     "end_time": "2021-08-20T04:13:35.432326Z",
     "start_time": "2021-08-20T04:13:35.424355Z"
    }
   },
   "outputs": [],
   "source": [
    "dirr = 'C:/Users/shic/Desktop/shinhan_simon/google_drive/crawler_data/estate_registration/'"
   ]
  },
  {
   "cell_type": "code",
   "execution_count": 3,
   "id": "ef6a269d",
   "metadata": {
    "ExecuteTime": {
     "end_time": "2021-08-20T04:14:43.856835Z",
     "start_time": "2021-08-20T04:14:43.801568Z"
    }
   },
   "outputs": [],
   "source": [
    "df_land = pd.read_csv(dirr + 'regist_trade_avg_price(land)_preprocessed.csv')\n",
    "df_apt  = pd.read_csv(dirr + 'regist_trade_avg_price_preprocessed.csv')"
   ]
  },
  {
   "cell_type": "code",
   "execution_count": 9,
   "id": "1c9b3a8f",
   "metadata": {
    "ExecuteTime": {
     "end_time": "2021-08-20T04:27:05.178898Z",
     "start_time": "2021-08-20T04:27:05.165956Z"
    }
   },
   "outputs": [],
   "source": [
    "df_land.columns = ['BASE_YM', 'SIDONM', 'SIGNGU_NM', 'land_avg_price', 'land_trade_count']\n",
    "df_apt.columns  = ['BASE_YM', 'SIDONM', 'SIGNGU_NM', 'apt_avg_price', 'apt_trade_count']"
   ]
  },
  {
   "cell_type": "code",
   "execution_count": 13,
   "id": "a39f46d3",
   "metadata": {
    "ExecuteTime": {
     "end_time": "2021-08-20T04:28:57.521952Z",
     "start_time": "2021-08-20T04:28:57.514941Z"
    }
   },
   "outputs": [
    {
     "name": "stdout",
     "output_type": "stream",
     "text": [
      "(28551, 5)\n",
      "(28605, 5)\n"
     ]
    }
   ],
   "source": [
    "print(df_land.shape)\n",
    "print(df_apt.shape)"
   ]
  },
  {
   "cell_type": "code",
   "execution_count": 21,
   "id": "845f6183",
   "metadata": {
    "ExecuteTime": {
     "end_time": "2021-08-20T04:34:41.277952Z",
     "start_time": "2021-08-20T04:34:41.239801Z"
    }
   },
   "outputs": [
    {
     "data": {
      "text/html": [
       "<div>\n",
       "<style scoped>\n",
       "    .dataframe tbody tr th:only-of-type {\n",
       "        vertical-align: middle;\n",
       "    }\n",
       "\n",
       "    .dataframe tbody tr th {\n",
       "        vertical-align: top;\n",
       "    }\n",
       "\n",
       "    .dataframe thead th {\n",
       "        text-align: right;\n",
       "    }\n",
       "</style>\n",
       "<table border=\"1\" class=\"dataframe\">\n",
       "  <thead>\n",
       "    <tr style=\"text-align: right;\">\n",
       "      <th></th>\n",
       "      <th>BASE_YM</th>\n",
       "      <th>SIDONM</th>\n",
       "      <th>SIGNGU_NM</th>\n",
       "    </tr>\n",
       "  </thead>\n",
       "  <tbody>\n",
       "    <tr>\n",
       "      <th>0</th>\n",
       "      <td>201201</td>\n",
       "      <td>서울특별시</td>\n",
       "      <td>강남구</td>\n",
       "    </tr>\n",
       "    <tr>\n",
       "      <th>1</th>\n",
       "      <td>201201</td>\n",
       "      <td>서울특별시</td>\n",
       "      <td>강동구</td>\n",
       "    </tr>\n",
       "    <tr>\n",
       "      <th>2</th>\n",
       "      <td>201201</td>\n",
       "      <td>서울특별시</td>\n",
       "      <td>강북구</td>\n",
       "    </tr>\n",
       "    <tr>\n",
       "      <th>3</th>\n",
       "      <td>201201</td>\n",
       "      <td>서울특별시</td>\n",
       "      <td>강서구</td>\n",
       "    </tr>\n",
       "    <tr>\n",
       "      <th>4</th>\n",
       "      <td>201201</td>\n",
       "      <td>서울특별시</td>\n",
       "      <td>관악구</td>\n",
       "    </tr>\n",
       "    <tr>\n",
       "      <th>...</th>\n",
       "      <td>...</td>\n",
       "      <td>...</td>\n",
       "      <td>...</td>\n",
       "    </tr>\n",
       "    <tr>\n",
       "      <th>27451</th>\n",
       "      <td>202103</td>\n",
       "      <td>경기도</td>\n",
       "      <td>수원시 영통구</td>\n",
       "    </tr>\n",
       "    <tr>\n",
       "      <th>27708</th>\n",
       "      <td>202104</td>\n",
       "      <td>경기도</td>\n",
       "      <td>안양시 동안구</td>\n",
       "    </tr>\n",
       "    <tr>\n",
       "      <th>27950</th>\n",
       "      <td>202105</td>\n",
       "      <td>경기도</td>\n",
       "      <td>수원시 영통구</td>\n",
       "    </tr>\n",
       "    <tr>\n",
       "      <th>28116</th>\n",
       "      <td>202106</td>\n",
       "      <td>서울특별시</td>\n",
       "      <td>노원구</td>\n",
       "    </tr>\n",
       "    <tr>\n",
       "      <th>28364</th>\n",
       "      <td>202107</td>\n",
       "      <td>서울특별시</td>\n",
       "      <td>금천구</td>\n",
       "    </tr>\n",
       "  </tbody>\n",
       "</table>\n",
       "<p>28748 rows × 3 columns</p>\n",
       "</div>"
      ],
      "text/plain": [
       "       BASE_YM SIDONM SIGNGU_NM\n",
       "0       201201  서울특별시       강남구\n",
       "1       201201  서울특별시       강동구\n",
       "2       201201  서울특별시       강북구\n",
       "3       201201  서울특별시       강서구\n",
       "4       201201  서울특별시       관악구\n",
       "...        ...    ...       ...\n",
       "27451   202103    경기도   수원시 영통구\n",
       "27708   202104    경기도   안양시 동안구\n",
       "27950   202105    경기도   수원시 영통구\n",
       "28116   202106  서울특별시       노원구\n",
       "28364   202107  서울특별시       금천구\n",
       "\n",
       "[28748 rows x 3 columns]"
      ]
     },
     "execution_count": 21,
     "metadata": {},
     "output_type": "execute_result"
    }
   ],
   "source": [
    "idxx = pd.concat([df_land[['BASE_YM', 'SIDONM', 'SIGNGU_NM']],\n",
    "                  df_apt[['BASE_YM', 'SIDONM', 'SIGNGU_NM']]]).drop_duplicates()\n",
    "idxx"
   ]
  },
  {
   "cell_type": "code",
   "execution_count": 24,
   "id": "26ada6c6",
   "metadata": {
    "ExecuteTime": {
     "end_time": "2021-08-20T04:37:24.415418Z",
     "start_time": "2021-08-20T04:37:24.370510Z"
    }
   },
   "outputs": [
    {
     "data": {
      "text/html": [
       "<div>\n",
       "<style scoped>\n",
       "    .dataframe tbody tr th:only-of-type {\n",
       "        vertical-align: middle;\n",
       "    }\n",
       "\n",
       "    .dataframe tbody tr th {\n",
       "        vertical-align: top;\n",
       "    }\n",
       "\n",
       "    .dataframe thead th {\n",
       "        text-align: right;\n",
       "    }\n",
       "</style>\n",
       "<table border=\"1\" class=\"dataframe\">\n",
       "  <thead>\n",
       "    <tr style=\"text-align: right;\">\n",
       "      <th></th>\n",
       "      <th>BASE_YM</th>\n",
       "      <th>SIDONM</th>\n",
       "      <th>SIGNGU_NM</th>\n",
       "      <th>land_avg_price</th>\n",
       "      <th>land_trade_count</th>\n",
       "      <th>apt_avg_price</th>\n",
       "      <th>apt_trade_count</th>\n",
       "    </tr>\n",
       "  </thead>\n",
       "  <tbody>\n",
       "    <tr>\n",
       "      <th>0</th>\n",
       "      <td>201201</td>\n",
       "      <td>서울특별시</td>\n",
       "      <td>강남구</td>\n",
       "      <td>3022353.0</td>\n",
       "      <td>5.0</td>\n",
       "      <td>8511188.0</td>\n",
       "      <td>128.0</td>\n",
       "    </tr>\n",
       "    <tr>\n",
       "      <th>1</th>\n",
       "      <td>201201</td>\n",
       "      <td>서울특별시</td>\n",
       "      <td>강동구</td>\n",
       "      <td>423162.0</td>\n",
       "      <td>2.0</td>\n",
       "      <td>6376436.0</td>\n",
       "      <td>123.0</td>\n",
       "    </tr>\n",
       "    <tr>\n",
       "      <th>2</th>\n",
       "      <td>201201</td>\n",
       "      <td>서울특별시</td>\n",
       "      <td>강북구</td>\n",
       "      <td>2482330.0</td>\n",
       "      <td>10.0</td>\n",
       "      <td>3401652.0</td>\n",
       "      <td>63.0</td>\n",
       "    </tr>\n",
       "    <tr>\n",
       "      <th>3</th>\n",
       "      <td>201201</td>\n",
       "      <td>서울특별시</td>\n",
       "      <td>강서구</td>\n",
       "      <td>287156.0</td>\n",
       "      <td>1.0</td>\n",
       "      <td>3711284.0</td>\n",
       "      <td>169.0</td>\n",
       "    </tr>\n",
       "    <tr>\n",
       "      <th>4</th>\n",
       "      <td>201201</td>\n",
       "      <td>서울특별시</td>\n",
       "      <td>관악구</td>\n",
       "      <td>2787434.0</td>\n",
       "      <td>2.0</td>\n",
       "      <td>4351614.0</td>\n",
       "      <td>81.0</td>\n",
       "    </tr>\n",
       "    <tr>\n",
       "      <th>...</th>\n",
       "      <td>...</td>\n",
       "      <td>...</td>\n",
       "      <td>...</td>\n",
       "      <td>...</td>\n",
       "      <td>...</td>\n",
       "      <td>...</td>\n",
       "      <td>...</td>\n",
       "    </tr>\n",
       "    <tr>\n",
       "      <th>28743</th>\n",
       "      <td>202103</td>\n",
       "      <td>경기도</td>\n",
       "      <td>수원시 영통구</td>\n",
       "      <td>NaN</td>\n",
       "      <td>NaN</td>\n",
       "      <td>6581282.0</td>\n",
       "      <td>1247.0</td>\n",
       "    </tr>\n",
       "    <tr>\n",
       "      <th>28744</th>\n",
       "      <td>202104</td>\n",
       "      <td>경기도</td>\n",
       "      <td>안양시 동안구</td>\n",
       "      <td>NaN</td>\n",
       "      <td>NaN</td>\n",
       "      <td>7105759.0</td>\n",
       "      <td>534.0</td>\n",
       "    </tr>\n",
       "    <tr>\n",
       "      <th>28745</th>\n",
       "      <td>202105</td>\n",
       "      <td>경기도</td>\n",
       "      <td>수원시 영통구</td>\n",
       "      <td>NaN</td>\n",
       "      <td>NaN</td>\n",
       "      <td>7449763.0</td>\n",
       "      <td>1087.0</td>\n",
       "    </tr>\n",
       "    <tr>\n",
       "      <th>28746</th>\n",
       "      <td>202106</td>\n",
       "      <td>서울특별시</td>\n",
       "      <td>노원구</td>\n",
       "      <td>NaN</td>\n",
       "      <td>NaN</td>\n",
       "      <td>8664263.0</td>\n",
       "      <td>373.0</td>\n",
       "    </tr>\n",
       "    <tr>\n",
       "      <th>28747</th>\n",
       "      <td>202107</td>\n",
       "      <td>서울특별시</td>\n",
       "      <td>금천구</td>\n",
       "      <td>NaN</td>\n",
       "      <td>NaN</td>\n",
       "      <td>6246875.0</td>\n",
       "      <td>401.0</td>\n",
       "    </tr>\n",
       "  </tbody>\n",
       "</table>\n",
       "<p>28748 rows × 7 columns</p>\n",
       "</div>"
      ],
      "text/plain": [
       "       BASE_YM SIDONM SIGNGU_NM  land_avg_price  land_trade_count  \\\n",
       "0       201201  서울특별시       강남구       3022353.0               5.0   \n",
       "1       201201  서울특별시       강동구        423162.0               2.0   \n",
       "2       201201  서울특별시       강북구       2482330.0              10.0   \n",
       "3       201201  서울특별시       강서구        287156.0               1.0   \n",
       "4       201201  서울특별시       관악구       2787434.0               2.0   \n",
       "...        ...    ...       ...             ...               ...   \n",
       "28743   202103    경기도   수원시 영통구             NaN               NaN   \n",
       "28744   202104    경기도   안양시 동안구             NaN               NaN   \n",
       "28745   202105    경기도   수원시 영통구             NaN               NaN   \n",
       "28746   202106  서울특별시       노원구             NaN               NaN   \n",
       "28747   202107  서울특별시       금천구             NaN               NaN   \n",
       "\n",
       "       apt_avg_price  apt_trade_count  \n",
       "0          8511188.0            128.0  \n",
       "1          6376436.0            123.0  \n",
       "2          3401652.0             63.0  \n",
       "3          3711284.0            169.0  \n",
       "4          4351614.0             81.0  \n",
       "...              ...              ...  \n",
       "28743      6581282.0           1247.0  \n",
       "28744      7105759.0            534.0  \n",
       "28745      7449763.0           1087.0  \n",
       "28746      8664263.0            373.0  \n",
       "28747      6246875.0            401.0  \n",
       "\n",
       "[28748 rows x 7 columns]"
      ]
     },
     "execution_count": 24,
     "metadata": {},
     "output_type": "execute_result"
    }
   ],
   "source": [
    "df = pd.merge(idxx,df_land,how='left',on=['BASE_YM', 'SIDONM', 'SIGNGU_NM'])\n",
    "df = pd.merge(df,df_apt,how='left',on=['BASE_YM', 'SIDONM', 'SIGNGU_NM'])\n",
    "df"
   ]
  },
  {
   "cell_type": "code",
   "execution_count": 28,
   "id": "25e46906",
   "metadata": {
    "ExecuteTime": {
     "end_time": "2021-08-20T04:38:50.409821Z",
     "start_time": "2021-08-20T04:38:50.397853Z"
    }
   },
   "outputs": [],
   "source": [
    "num_cols = ['land_avg_price','land_trade_count','apt_avg_price','apt_trade_count']\n",
    "df[num_cols] = df[num_cols].fillna(0)"
   ]
  },
  {
   "cell_type": "code",
   "execution_count": 29,
   "id": "4be9ef33",
   "metadata": {
    "ExecuteTime": {
     "end_time": "2021-08-20T04:38:52.840793Z",
     "start_time": "2021-08-20T04:38:52.817855Z"
    }
   },
   "outputs": [
    {
     "data": {
      "text/html": [
       "<div>\n",
       "<style scoped>\n",
       "    .dataframe tbody tr th:only-of-type {\n",
       "        vertical-align: middle;\n",
       "    }\n",
       "\n",
       "    .dataframe tbody tr th {\n",
       "        vertical-align: top;\n",
       "    }\n",
       "\n",
       "    .dataframe thead th {\n",
       "        text-align: right;\n",
       "    }\n",
       "</style>\n",
       "<table border=\"1\" class=\"dataframe\">\n",
       "  <thead>\n",
       "    <tr style=\"text-align: right;\">\n",
       "      <th></th>\n",
       "      <th>BASE_YM</th>\n",
       "      <th>SIDONM</th>\n",
       "      <th>SIGNGU_NM</th>\n",
       "      <th>land_avg_price</th>\n",
       "      <th>land_trade_count</th>\n",
       "      <th>apt_avg_price</th>\n",
       "      <th>apt_trade_count</th>\n",
       "    </tr>\n",
       "  </thead>\n",
       "  <tbody>\n",
       "    <tr>\n",
       "      <th>0</th>\n",
       "      <td>201201</td>\n",
       "      <td>서울특별시</td>\n",
       "      <td>강남구</td>\n",
       "      <td>3022353.0</td>\n",
       "      <td>5.0</td>\n",
       "      <td>8511188.0</td>\n",
       "      <td>128.0</td>\n",
       "    </tr>\n",
       "    <tr>\n",
       "      <th>1</th>\n",
       "      <td>201201</td>\n",
       "      <td>서울특별시</td>\n",
       "      <td>강동구</td>\n",
       "      <td>423162.0</td>\n",
       "      <td>2.0</td>\n",
       "      <td>6376436.0</td>\n",
       "      <td>123.0</td>\n",
       "    </tr>\n",
       "    <tr>\n",
       "      <th>2</th>\n",
       "      <td>201201</td>\n",
       "      <td>서울특별시</td>\n",
       "      <td>강북구</td>\n",
       "      <td>2482330.0</td>\n",
       "      <td>10.0</td>\n",
       "      <td>3401652.0</td>\n",
       "      <td>63.0</td>\n",
       "    </tr>\n",
       "    <tr>\n",
       "      <th>3</th>\n",
       "      <td>201201</td>\n",
       "      <td>서울특별시</td>\n",
       "      <td>강서구</td>\n",
       "      <td>287156.0</td>\n",
       "      <td>1.0</td>\n",
       "      <td>3711284.0</td>\n",
       "      <td>169.0</td>\n",
       "    </tr>\n",
       "    <tr>\n",
       "      <th>4</th>\n",
       "      <td>201201</td>\n",
       "      <td>서울특별시</td>\n",
       "      <td>관악구</td>\n",
       "      <td>2787434.0</td>\n",
       "      <td>2.0</td>\n",
       "      <td>4351614.0</td>\n",
       "      <td>81.0</td>\n",
       "    </tr>\n",
       "    <tr>\n",
       "      <th>...</th>\n",
       "      <td>...</td>\n",
       "      <td>...</td>\n",
       "      <td>...</td>\n",
       "      <td>...</td>\n",
       "      <td>...</td>\n",
       "      <td>...</td>\n",
       "      <td>...</td>\n",
       "    </tr>\n",
       "    <tr>\n",
       "      <th>28743</th>\n",
       "      <td>202103</td>\n",
       "      <td>경기도</td>\n",
       "      <td>수원시 영통구</td>\n",
       "      <td>0.0</td>\n",
       "      <td>0.0</td>\n",
       "      <td>6581282.0</td>\n",
       "      <td>1247.0</td>\n",
       "    </tr>\n",
       "    <tr>\n",
       "      <th>28744</th>\n",
       "      <td>202104</td>\n",
       "      <td>경기도</td>\n",
       "      <td>안양시 동안구</td>\n",
       "      <td>0.0</td>\n",
       "      <td>0.0</td>\n",
       "      <td>7105759.0</td>\n",
       "      <td>534.0</td>\n",
       "    </tr>\n",
       "    <tr>\n",
       "      <th>28745</th>\n",
       "      <td>202105</td>\n",
       "      <td>경기도</td>\n",
       "      <td>수원시 영통구</td>\n",
       "      <td>0.0</td>\n",
       "      <td>0.0</td>\n",
       "      <td>7449763.0</td>\n",
       "      <td>1087.0</td>\n",
       "    </tr>\n",
       "    <tr>\n",
       "      <th>28746</th>\n",
       "      <td>202106</td>\n",
       "      <td>서울특별시</td>\n",
       "      <td>노원구</td>\n",
       "      <td>0.0</td>\n",
       "      <td>0.0</td>\n",
       "      <td>8664263.0</td>\n",
       "      <td>373.0</td>\n",
       "    </tr>\n",
       "    <tr>\n",
       "      <th>28747</th>\n",
       "      <td>202107</td>\n",
       "      <td>서울특별시</td>\n",
       "      <td>금천구</td>\n",
       "      <td>0.0</td>\n",
       "      <td>0.0</td>\n",
       "      <td>6246875.0</td>\n",
       "      <td>401.0</td>\n",
       "    </tr>\n",
       "  </tbody>\n",
       "</table>\n",
       "<p>28748 rows × 7 columns</p>\n",
       "</div>"
      ],
      "text/plain": [
       "       BASE_YM SIDONM SIGNGU_NM  land_avg_price  land_trade_count  \\\n",
       "0       201201  서울특별시       강남구       3022353.0               5.0   \n",
       "1       201201  서울특별시       강동구        423162.0               2.0   \n",
       "2       201201  서울특별시       강북구       2482330.0              10.0   \n",
       "3       201201  서울특별시       강서구        287156.0               1.0   \n",
       "4       201201  서울특별시       관악구       2787434.0               2.0   \n",
       "...        ...    ...       ...             ...               ...   \n",
       "28743   202103    경기도   수원시 영통구             0.0               0.0   \n",
       "28744   202104    경기도   안양시 동안구             0.0               0.0   \n",
       "28745   202105    경기도   수원시 영통구             0.0               0.0   \n",
       "28746   202106  서울특별시       노원구             0.0               0.0   \n",
       "28747   202107  서울특별시       금천구             0.0               0.0   \n",
       "\n",
       "       apt_avg_price  apt_trade_count  \n",
       "0          8511188.0            128.0  \n",
       "1          6376436.0            123.0  \n",
       "2          3401652.0             63.0  \n",
       "3          3711284.0            169.0  \n",
       "4          4351614.0             81.0  \n",
       "...              ...              ...  \n",
       "28743      6581282.0           1247.0  \n",
       "28744      7105759.0            534.0  \n",
       "28745      7449763.0           1087.0  \n",
       "28746      8664263.0            373.0  \n",
       "28747      6246875.0            401.0  \n",
       "\n",
       "[28748 rows x 7 columns]"
      ]
     },
     "execution_count": 29,
     "metadata": {},
     "output_type": "execute_result"
    }
   ],
   "source": [
    "df"
   ]
  },
  {
   "cell_type": "code",
   "execution_count": 30,
   "id": "9f3aa772",
   "metadata": {
    "ExecuteTime": {
     "end_time": "2021-08-20T04:39:08.066402Z",
     "start_time": "2021-08-20T04:39:08.044491Z"
    }
   },
   "outputs": [
    {
     "data": {
      "text/plain": [
       "BASE_YM             0\n",
       "SIDONM              0\n",
       "SIGNGU_NM           0\n",
       "land_avg_price      0\n",
       "land_trade_count    0\n",
       "apt_avg_price       0\n",
       "apt_trade_count     0\n",
       "dtype: int64"
      ]
     },
     "execution_count": 30,
     "metadata": {},
     "output_type": "execute_result"
    }
   ],
   "source": [
    "df.isna().sum()"
   ]
  },
  {
   "cell_type": "code",
   "execution_count": 31,
   "id": "9bdd3f54",
   "metadata": {
    "ExecuteTime": {
     "end_time": "2021-08-20T04:39:45.984837Z",
     "start_time": "2021-08-20T04:39:45.863015Z"
    }
   },
   "outputs": [],
   "source": [
    "df.to_csv('C:/Users/shic/Desktop/shinhan_simon/google_drive/crawler_data/estate_registration/regist_trade_apt_land_bind.csv',\n",
    "          index=False,encoding='UTF-8-sig')"
   ]
  },
  {
   "cell_type": "code",
   "execution_count": null,
   "id": "85c1d6ab",
   "metadata": {},
   "outputs": [],
   "source": []
  }
 ],
 "metadata": {
  "kernelspec": {
   "display_name": "simon_env",
   "language": "python",
   "name": "simon_env"
  },
  "language_info": {
   "codemirror_mode": {
    "name": "ipython",
    "version": 3
   },
   "file_extension": ".py",
   "mimetype": "text/x-python",
   "name": "python",
   "nbconvert_exporter": "python",
   "pygments_lexer": "ipython3",
   "version": "3.7.11"
  },
  "varInspector": {
   "cols": {
    "lenName": 16,
    "lenType": 16,
    "lenVar": 40
   },
   "kernels_config": {
    "python": {
     "delete_cmd_postfix": "",
     "delete_cmd_prefix": "del ",
     "library": "var_list.py",
     "varRefreshCmd": "print(var_dic_list())"
    },
    "r": {
     "delete_cmd_postfix": ") ",
     "delete_cmd_prefix": "rm(",
     "library": "var_list.r",
     "varRefreshCmd": "cat(var_dic_list()) "
    }
   },
   "types_to_exclude": [
    "module",
    "function",
    "builtin_function_or_method",
    "instance",
    "_Feature"
   ],
   "window_display": false
  }
 },
 "nbformat": 4,
 "nbformat_minor": 5
}
