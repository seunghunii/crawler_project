{
 "cells": [
  {
   "cell_type": "code",
   "execution_count": 105,
   "metadata": {
    "ExecuteTime": {
     "end_time": "2021-08-10T01:06:28.856281Z",
     "start_time": "2021-08-10T01:06:28.851295Z"
    }
   },
   "outputs": [],
   "source": [
    "import pandas as pd\n",
    "from selenium import webdriver\n",
    "from bs4 import BeautifulSoup\n",
    "from selenium.webdriver.common.by import By\n",
    "import requests\n",
    "import json\n",
    "import time\n",
    "import re\n",
    "from random import uniform"
   ]
  },
  {
   "cell_type": "code",
   "execution_count": 99,
   "metadata": {
    "ExecuteTime": {
     "end_time": "2021-08-10T01:02:52.610499Z",
     "start_time": "2021-08-10T01:02:52.599560Z"
    }
   },
   "outputs": [],
   "source": [
    "dirr = 'C:/Users/shic/Desktop/shinhan_simon/google_drive/crawler_data/'\n",
    "dir_for_seunghun = 'C:/Users/shic/Desktop/shinhan_simon/chromedriver/chromedriver.exe'"
   ]
  },
  {
   "cell_type": "code",
   "execution_count": 92,
   "metadata": {
    "ExecuteTime": {
     "end_time": "2021-08-10T00:49:19.282431Z",
     "start_time": "2021-08-10T00:49:19.273455Z"
    }
   },
   "outputs": [],
   "source": [
    "header = {\n",
    "    'Accept' : 'application/json, text/javascript, */*; q=0.01',\n",
    "    'Accept-Encoding' : 'gzip, deflate',\n",
    "    'Accept-Language' : 'ko-KR,ko;q=0.9,en-US;q=0.8,en;q=0.7',\n",
    "    'Connection' : 'keep-alive',\n",
    "    'Content-Type' : 'application/json; charset=UTF-8',\n",
    "    'Host' : 'app1.reb.or.kr:8082',\n",
    "    'Referer' : 'http://app1.reb.or.kr:8082/stat004.html',\n",
    "    'User-Agent' : 'Mozilla/5.0 (Windows NT 10.0; Win64; x64) AppleWebKit/537.36 (KHTML, like Gecko) Chrome/92.0.4515.131 Safari/537.36'\n",
    "}"
   ]
  },
  {
   "cell_type": "code",
   "execution_count": 93,
   "metadata": {
    "ExecuteTime": {
     "end_time": "2021-08-10T00:49:19.871320Z",
     "start_time": "2021-08-10T00:49:19.807405Z"
    }
   },
   "outputs": [],
   "source": [
    "code_df = pd.read_csv(dirr+'법정동코드 전체자료.txt',encoding='CP949',sep='\\t',\n",
    "                      dtype={'법정동코드':'str',\n",
    "                             '법정동명'  :'str',\n",
    "                             '폐지여부'  :'str'})\n",
    "code_df = code_df[['법정동코드','법정동명']]"
   ]
  },
  {
   "cell_type": "code",
   "execution_count": 94,
   "metadata": {
    "ExecuteTime": {
     "end_time": "2021-08-10T00:49:20.307729Z",
     "start_time": "2021-08-10T00:49:20.273820Z"
    }
   },
   "outputs": [
    {
     "data": {
      "text/html": [
       "<div>\n",
       "<style scoped>\n",
       "    .dataframe tbody tr th:only-of-type {\n",
       "        vertical-align: middle;\n",
       "    }\n",
       "\n",
       "    .dataframe tbody tr th {\n",
       "        vertical-align: top;\n",
       "    }\n",
       "\n",
       "    .dataframe thead th {\n",
       "        text-align: right;\n",
       "    }\n",
       "</style>\n",
       "<table border=\"1\" class=\"dataframe\">\n",
       "  <thead>\n",
       "    <tr style=\"text-align: right;\">\n",
       "      <th></th>\n",
       "      <th>법정동코드</th>\n",
       "      <th>법정동명</th>\n",
       "      <th>params</th>\n",
       "    </tr>\n",
       "  </thead>\n",
       "  <tbody>\n",
       "    <tr>\n",
       "      <th>0</th>\n",
       "      <td>1100000000</td>\n",
       "      <td>서울특별시</td>\n",
       "      <td>11000</td>\n",
       "    </tr>\n",
       "    <tr>\n",
       "      <th>1</th>\n",
       "      <td>1111000000</td>\n",
       "      <td>서울특별시 종로구</td>\n",
       "      <td>11110</td>\n",
       "    </tr>\n",
       "    <tr>\n",
       "      <th>2</th>\n",
       "      <td>1114000000</td>\n",
       "      <td>서울특별시 중구</td>\n",
       "      <td>11140</td>\n",
       "    </tr>\n",
       "    <tr>\n",
       "      <th>3</th>\n",
       "      <td>1117000000</td>\n",
       "      <td>서울특별시 용산구</td>\n",
       "      <td>11170</td>\n",
       "    </tr>\n",
       "    <tr>\n",
       "      <th>4</th>\n",
       "      <td>1120000000</td>\n",
       "      <td>서울특별시 성동구</td>\n",
       "      <td>11200</td>\n",
       "    </tr>\n",
       "    <tr>\n",
       "      <th>...</th>\n",
       "      <td>...</td>\n",
       "      <td>...</td>\n",
       "      <td>...</td>\n",
       "    </tr>\n",
       "    <tr>\n",
       "      <th>456</th>\n",
       "      <td>4971000000</td>\n",
       "      <td>제주도 북제주군</td>\n",
       "      <td>49710</td>\n",
       "    </tr>\n",
       "    <tr>\n",
       "      <th>457</th>\n",
       "      <td>4972000000</td>\n",
       "      <td>제주도 남제주군</td>\n",
       "      <td>49720</td>\n",
       "    </tr>\n",
       "    <tr>\n",
       "      <th>458</th>\n",
       "      <td>5000000000</td>\n",
       "      <td>제주특별자치도</td>\n",
       "      <td>50000</td>\n",
       "    </tr>\n",
       "    <tr>\n",
       "      <th>459</th>\n",
       "      <td>5011000000</td>\n",
       "      <td>제주특별자치도 제주시</td>\n",
       "      <td>50110</td>\n",
       "    </tr>\n",
       "    <tr>\n",
       "      <th>460</th>\n",
       "      <td>5013000000</td>\n",
       "      <td>제주특별자치도 서귀포시</td>\n",
       "      <td>50130</td>\n",
       "    </tr>\n",
       "  </tbody>\n",
       "</table>\n",
       "<p>461 rows × 3 columns</p>\n",
       "</div>"
      ],
      "text/plain": [
       "          법정동코드          법정동명 params\n",
       "0    1100000000         서울특별시  11000\n",
       "1    1111000000     서울특별시 종로구  11110\n",
       "2    1114000000      서울특별시 중구  11140\n",
       "3    1117000000     서울특별시 용산구  11170\n",
       "4    1120000000     서울특별시 성동구  11200\n",
       "..          ...           ...    ...\n",
       "456  4971000000      제주도 북제주군  49710\n",
       "457  4972000000      제주도 남제주군  49720\n",
       "458  5000000000       제주특별자치도  50000\n",
       "459  5011000000   제주특별자치도 제주시  50110\n",
       "460  5013000000  제주특별자치도 서귀포시  50130\n",
       "\n",
       "[461 rows x 3 columns]"
      ]
     },
     "execution_count": 94,
     "metadata": {},
     "output_type": "execute_result"
    }
   ],
   "source": [
    "code_df['cut'] = code_df['법정동코드'].str.slice(start=5)\n",
    "code_df = code_df.loc[code_df['cut']=='00000',['법정동코드','법정동명']].reset_index(drop=True)\n",
    "code_df['params'] = code_df['법정동코드'].str.slice(stop=5)\n",
    "code_df"
   ]
  },
  {
   "cell_type": "code",
   "execution_count": null,
   "metadata": {
    "ExecuteTime": {
     "start_time": "2021-08-10T01:08:04.781Z"
    }
   },
   "outputs": [],
   "source": [
    "df_list = []\n",
    "urll = 'http://app1.reb.or.kr:8082/APPSTASTICS004/001.json?provinceCode={}&period=10'\n",
    "driver = webdriver.Chrome(dir_for_seunghun)\n",
    "\n",
    "for roww in code_df.iterrows():\n",
    "    url_now = urll.format(roww[1]['params'])\n",
    "    driver.get(url_now)\n",
    "    \n",
    "    req_text = re.sub('<.*?>','',driver.page_source)\n",
    "    \n",
    "    req_json = json.loads(req_text)\n",
    "    tmp_df = pd.DataFrame(req_json['list'])\n",
    "    tmp_df['address'] = roww[1]['법정동명']\n",
    "    \n",
    "    time.sleep(uniform(0,2))\n",
    "    \n",
    "    df_list.append(tmp_df)"
   ]
  },
  {
   "cell_type": "code",
   "execution_count": null,
   "metadata": {},
   "outputs": [],
   "source": []
  }
 ],
 "metadata": {
  "kernelspec": {
   "display_name": "simon_env",
   "language": "python",
   "name": "simon_env"
  },
  "language_info": {
   "codemirror_mode": {
    "name": "ipython",
    "version": 3
   },
   "file_extension": ".py",
   "mimetype": "text/x-python",
   "name": "python",
   "nbconvert_exporter": "python",
   "pygments_lexer": "ipython3",
   "version": "3.7.10"
  },
  "toc": {
   "base_numbering": 1,
   "nav_menu": {},
   "number_sections": true,
   "sideBar": true,
   "skip_h1_title": true,
   "title_cell": "Table of Contents",
   "title_sidebar": "Contents",
   "toc_cell": false,
   "toc_position": {},
   "toc_section_display": true,
   "toc_window_display": false
  },
  "varInspector": {
   "cols": {
    "lenName": 16,
    "lenType": 16,
    "lenVar": 40
   },
   "kernels_config": {
    "python": {
     "delete_cmd_postfix": "",
     "delete_cmd_prefix": "del ",
     "library": "var_list.py",
     "varRefreshCmd": "print(var_dic_list())"
    },
    "r": {
     "delete_cmd_postfix": ") ",
     "delete_cmd_prefix": "rm(",
     "library": "var_list.r",
     "varRefreshCmd": "cat(var_dic_list()) "
    }
   },
   "types_to_exclude": [
    "module",
    "function",
    "builtin_function_or_method",
    "instance",
    "_Feature"
   ],
   "window_display": false
  }
 },
 "nbformat": 4,
 "nbformat_minor": 4
}
