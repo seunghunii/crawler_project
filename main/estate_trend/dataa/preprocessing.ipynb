{
 "cells": [
  {
   "cell_type": "code",
   "execution_count": 28,
   "id": "254e797a",
   "metadata": {
    "ExecuteTime": {
     "end_time": "2021-08-02T00:41:11.208208Z",
     "start_time": "2021-08-02T00:41:11.195216Z"
    }
   },
   "outputs": [],
   "source": [
    "import pandas as pd\n",
    "import numpy as np"
   ]
  },
  {
   "cell_type": "code",
   "execution_count": 29,
   "id": "cf05e06f",
   "metadata": {
    "ExecuteTime": {
     "end_time": "2021-08-02T00:41:11.224165Z",
     "start_time": "2021-08-02T00:41:11.209178Z"
    }
   },
   "outputs": [],
   "source": [
    "dirr = 'C:/Users/shic/Desktop/crawler_project/main/estate_trend/dataa/estate_trend.csv'"
   ]
  },
  {
   "cell_type": "code",
   "execution_count": 30,
   "id": "ea5a8e78",
   "metadata": {
    "ExecuteTime": {
     "end_time": "2021-08-02T00:41:11.255114Z",
     "start_time": "2021-08-02T00:41:11.226132Z"
    }
   },
   "outputs": [
    {
     "data": {
      "text/html": [
       "<div>\n",
       "<style scoped>\n",
       "    .dataframe tbody tr th:only-of-type {\n",
       "        vertical-align: middle;\n",
       "    }\n",
       "\n",
       "    .dataframe tbody tr th {\n",
       "        vertical-align: top;\n",
       "    }\n",
       "\n",
       "    .dataframe thead th {\n",
       "        text-align: right;\n",
       "    }\n",
       "</style>\n",
       "<table border=\"1\" class=\"dataframe\">\n",
       "  <thead>\n",
       "    <tr style=\"text-align: right;\">\n",
       "      <th></th>\n",
       "      <th>PRD_DE</th>\n",
       "      <th>C1_NM</th>\n",
       "      <th>DT</th>\n",
       "    </tr>\n",
       "  </thead>\n",
       "  <tbody>\n",
       "    <tr>\n",
       "      <th>0</th>\n",
       "      <td>2012-01-01</td>\n",
       "      <td>전국</td>\n",
       "      <td>111.2</td>\n",
       "    </tr>\n",
       "    <tr>\n",
       "      <th>1</th>\n",
       "      <td>2012-01-01</td>\n",
       "      <td>수도권</td>\n",
       "      <td>106.0</td>\n",
       "    </tr>\n",
       "    <tr>\n",
       "      <th>2</th>\n",
       "      <td>2012-01-01</td>\n",
       "      <td>서울특별시</td>\n",
       "      <td>107.8</td>\n",
       "    </tr>\n",
       "    <tr>\n",
       "      <th>3</th>\n",
       "      <td>2012-01-01</td>\n",
       "      <td>인천광역시</td>\n",
       "      <td>101.5</td>\n",
       "    </tr>\n",
       "    <tr>\n",
       "      <th>4</th>\n",
       "      <td>2012-01-01</td>\n",
       "      <td>경기도</td>\n",
       "      <td>105.9</td>\n",
       "    </tr>\n",
       "    <tr>\n",
       "      <th>...</th>\n",
       "      <td>...</td>\n",
       "      <td>...</td>\n",
       "      <td>...</td>\n",
       "    </tr>\n",
       "    <tr>\n",
       "      <th>2069</th>\n",
       "      <td>2021-04-01</td>\n",
       "      <td>전라남도</td>\n",
       "      <td>112.1</td>\n",
       "    </tr>\n",
       "    <tr>\n",
       "      <th>2070</th>\n",
       "      <td>2021-04-01</td>\n",
       "      <td>경상북도</td>\n",
       "      <td>121.1</td>\n",
       "    </tr>\n",
       "    <tr>\n",
       "      <th>2071</th>\n",
       "      <td>2021-04-01</td>\n",
       "      <td>경상남도</td>\n",
       "      <td>115.4</td>\n",
       "    </tr>\n",
       "    <tr>\n",
       "      <th>2072</th>\n",
       "      <td>2021-04-01</td>\n",
       "      <td>세종특별자치시</td>\n",
       "      <td>93.3</td>\n",
       "    </tr>\n",
       "    <tr>\n",
       "      <th>2073</th>\n",
       "      <td>2021-04-01</td>\n",
       "      <td>제주특별자치도</td>\n",
       "      <td>120.0</td>\n",
       "    </tr>\n",
       "  </tbody>\n",
       "</table>\n",
       "<p>2074 rows × 3 columns</p>\n",
       "</div>"
      ],
      "text/plain": [
       "          PRD_DE    C1_NM     DT\n",
       "0     2012-01-01       전국  111.2\n",
       "1     2012-01-01      수도권  106.0\n",
       "2     2012-01-01    서울특별시  107.8\n",
       "3     2012-01-01    인천광역시  101.5\n",
       "4     2012-01-01      경기도  105.9\n",
       "...          ...      ...    ...\n",
       "2069  2021-04-01     전라남도  112.1\n",
       "2070  2021-04-01     경상북도  121.1\n",
       "2071  2021-04-01     경상남도  115.4\n",
       "2072  2021-04-01  세종특별자치시   93.3\n",
       "2073  2021-04-01  제주특별자치도  120.0\n",
       "\n",
       "[2074 rows x 3 columns]"
      ]
     },
     "execution_count": 30,
     "metadata": {},
     "output_type": "execute_result"
    }
   ],
   "source": [
    "df = pd.read_csv(dirr)[['PRD_DE','C1_NM','DT']]\n",
    "df"
   ]
  },
  {
   "cell_type": "code",
   "execution_count": 31,
   "id": "134fe5ec",
   "metadata": {
    "ExecuteTime": {
     "end_time": "2021-08-02T00:41:11.270124Z",
     "start_time": "2021-08-02T00:41:11.256112Z"
    }
   },
   "outputs": [
    {
     "data": {
      "text/plain": [
       "array(['전국', '수도권', '서울특별시', '인천광역시', '경기도', '비수도권', '부산광역시', '대구광역시',\n",
       "       '광주광역시', '대전광역시', '울산광역시', '강원도', '충청북도', '충청남도', '전라북도', '전라남도',\n",
       "       '경상북도', '경상남도', '세종특별자치시', '제주특별자치도'], dtype=object)"
      ]
     },
     "execution_count": 31,
     "metadata": {},
     "output_type": "execute_result"
    }
   ],
   "source": [
    "df['C1_NM'].unique()"
   ]
  },
  {
   "cell_type": "code",
   "execution_count": 32,
   "id": "f6161245",
   "metadata": {
    "ExecuteTime": {
     "end_time": "2021-08-02T00:41:11.286151Z",
     "start_time": "2021-08-02T00:41:11.271065Z"
    }
   },
   "outputs": [
    {
     "data": {
      "text/plain": [
       "array(['전국', '수도권', '비수도권'], dtype=object)"
      ]
     },
     "execution_count": 32,
     "metadata": {},
     "output_type": "execute_result"
    }
   ],
   "source": [
    "# C1_NM이 전국, 수도권, 비수도권으로 되어 있는 집계 여부 컬럼\n",
    "df['SUM_YN'] = np.where(df['C1_NM'].isin(['전국','수도권','비수도권']),'Y','N')\n",
    "df.loc[df['SUM_YN'] == 'Y']['C1_NM'].unique()"
   ]
  },
  {
   "cell_type": "code",
   "execution_count": 33,
   "id": "59b36997",
   "metadata": {
    "ExecuteTime": {
     "end_time": "2021-08-02T00:41:11.301826Z",
     "start_time": "2021-08-02T00:41:11.287181Z"
    }
   },
   "outputs": [
    {
     "data": {
      "text/plain": [
       "array(['201201', '201202', '201203', '201204', '201205', '201206',\n",
       "       '201207', '201208', '201209', '201210', '201211', '201212',\n",
       "       '201301', '201302', '201303', '201304', '201305', '201306',\n",
       "       '201307', '201308', '201309', '201310', '201311', '201312',\n",
       "       '201401', '201402', '201403', '201404', '201405', '201406',\n",
       "       '201407', '201408', '201409', '201410', '201411', '201412',\n",
       "       '201501', '201502', '201503', '201504', '201505', '201506',\n",
       "       '201507', '201508', '201509', '201510', '201511', '201512',\n",
       "       '201601', '201602', '201603', '201604', '201605', '201606',\n",
       "       '201607', '201608', '201609', '201610', '201611', '201612',\n",
       "       '201701', '201702', '201703', '201704', '201705', '201706',\n",
       "       '201707', '201708', '201709', '201710', '201711', '201712',\n",
       "       '201801', '201802', '201803', '201804', '201805', '201806',\n",
       "       '201807', '201808', '201809', '201810', '201811', '201812',\n",
       "       '201901', '201902', '201903', '201904', '201905', '201906',\n",
       "       '201907', '201908', '201909', '201910', '201911', '201912',\n",
       "       '202001', '202002', '202003', '202004', '202005', '202006',\n",
       "       '202007', '202008', '202009', '202010', '202011', '202012',\n",
       "       '202101', '202102', '202103', '202104'], dtype=object)"
      ]
     },
     "execution_count": 33,
     "metadata": {},
     "output_type": "execute_result"
    }
   ],
   "source": [
    "# 월별데이터이므로 날짜를 년-월-일에서 년-월로.\n",
    "df['PRD_DE'] = df['PRD_DE'].str.replace('-','').str.slice(stop=6)\n",
    "df['PRD_DE'].unique()"
   ]
  },
  {
   "cell_type": "code",
   "execution_count": 34,
   "id": "2fed9f55",
   "metadata": {
    "ExecuteTime": {
     "end_time": "2021-08-02T00:41:11.317323Z",
     "start_time": "2021-08-02T00:41:11.302827Z"
    }
   },
   "outputs": [
    {
     "data": {
      "text/html": [
       "<div>\n",
       "<style scoped>\n",
       "    .dataframe tbody tr th:only-of-type {\n",
       "        vertical-align: middle;\n",
       "    }\n",
       "\n",
       "    .dataframe tbody tr th {\n",
       "        vertical-align: top;\n",
       "    }\n",
       "\n",
       "    .dataframe thead th {\n",
       "        text-align: right;\n",
       "    }\n",
       "</style>\n",
       "<table border=\"1\" class=\"dataframe\">\n",
       "  <thead>\n",
       "    <tr style=\"text-align: right;\">\n",
       "      <th></th>\n",
       "      <th>MESR_YM</th>\n",
       "      <th>SIDONM</th>\n",
       "      <th>SUM_YN</th>\n",
       "      <th>INDX_VALU</th>\n",
       "    </tr>\n",
       "  </thead>\n",
       "  <tbody>\n",
       "    <tr>\n",
       "      <th>0</th>\n",
       "      <td>201201</td>\n",
       "      <td>전국</td>\n",
       "      <td>Y</td>\n",
       "      <td>111.2</td>\n",
       "    </tr>\n",
       "    <tr>\n",
       "      <th>1</th>\n",
       "      <td>201201</td>\n",
       "      <td>수도권</td>\n",
       "      <td>Y</td>\n",
       "      <td>106.0</td>\n",
       "    </tr>\n",
       "    <tr>\n",
       "      <th>2</th>\n",
       "      <td>201201</td>\n",
       "      <td>서울특별시</td>\n",
       "      <td>N</td>\n",
       "      <td>107.8</td>\n",
       "    </tr>\n",
       "    <tr>\n",
       "      <th>3</th>\n",
       "      <td>201201</td>\n",
       "      <td>인천광역시</td>\n",
       "      <td>N</td>\n",
       "      <td>101.5</td>\n",
       "    </tr>\n",
       "    <tr>\n",
       "      <th>4</th>\n",
       "      <td>201201</td>\n",
       "      <td>경기도</td>\n",
       "      <td>N</td>\n",
       "      <td>105.9</td>\n",
       "    </tr>\n",
       "    <tr>\n",
       "      <th>...</th>\n",
       "      <td>...</td>\n",
       "      <td>...</td>\n",
       "      <td>...</td>\n",
       "      <td>...</td>\n",
       "    </tr>\n",
       "    <tr>\n",
       "      <th>2069</th>\n",
       "      <td>202104</td>\n",
       "      <td>전라남도</td>\n",
       "      <td>N</td>\n",
       "      <td>112.1</td>\n",
       "    </tr>\n",
       "    <tr>\n",
       "      <th>2070</th>\n",
       "      <td>202104</td>\n",
       "      <td>경상북도</td>\n",
       "      <td>N</td>\n",
       "      <td>121.1</td>\n",
       "    </tr>\n",
       "    <tr>\n",
       "      <th>2071</th>\n",
       "      <td>202104</td>\n",
       "      <td>경상남도</td>\n",
       "      <td>N</td>\n",
       "      <td>115.4</td>\n",
       "    </tr>\n",
       "    <tr>\n",
       "      <th>2072</th>\n",
       "      <td>202104</td>\n",
       "      <td>세종특별자치시</td>\n",
       "      <td>N</td>\n",
       "      <td>93.3</td>\n",
       "    </tr>\n",
       "    <tr>\n",
       "      <th>2073</th>\n",
       "      <td>202104</td>\n",
       "      <td>제주특별자치도</td>\n",
       "      <td>N</td>\n",
       "      <td>120.0</td>\n",
       "    </tr>\n",
       "  </tbody>\n",
       "</table>\n",
       "<p>2074 rows × 4 columns</p>\n",
       "</div>"
      ],
      "text/plain": [
       "     MESR_YM   SIDONM SUM_YN  INDX_VALU\n",
       "0     201201       전국      Y      111.2\n",
       "1     201201      수도권      Y      106.0\n",
       "2     201201    서울특별시      N      107.8\n",
       "3     201201    인천광역시      N      101.5\n",
       "4     201201      경기도      N      105.9\n",
       "...      ...      ...    ...        ...\n",
       "2069  202104     전라남도      N      112.1\n",
       "2070  202104     경상북도      N      121.1\n",
       "2071  202104     경상남도      N      115.4\n",
       "2072  202104  세종특별자치시      N       93.3\n",
       "2073  202104  제주특별자치도      N      120.0\n",
       "\n",
       "[2074 rows x 4 columns]"
      ]
     },
     "execution_count": 34,
     "metadata": {},
     "output_type": "execute_result"
    }
   ],
   "source": [
    "df_save = df[['PRD_DE','C1_NM','SUM_YN','DT']]\n",
    "df_save.columns = ['MESR_YM','SIDONM','SUM_YN','INDX_VALU']\n",
    "df_save"
   ]
  },
  {
   "cell_type": "code",
   "execution_count": 35,
   "id": "5186f56f",
   "metadata": {
    "ExecuteTime": {
     "end_time": "2021-08-02T00:42:01.803674Z",
     "start_time": "2021-08-02T00:42:01.778739Z"
    }
   },
   "outputs": [],
   "source": [
    "df_save.to_csv('C:/Users/shic/Desktop/crawler_project/main/estate_trend/dataa/estate_trend_preprocessed.csv',index=False)"
   ]
  },
  {
   "cell_type": "code",
   "execution_count": null,
   "id": "380569ac",
   "metadata": {},
   "outputs": [],
   "source": []
  }
 ],
 "metadata": {
  "kernelspec": {
   "display_name": "simon_env",
   "language": "python",
   "name": "simon_env"
  },
  "language_info": {
   "codemirror_mode": {
    "name": "ipython",
    "version": 3
   },
   "file_extension": ".py",
   "mimetype": "text/x-python",
   "name": "python",
   "nbconvert_exporter": "python",
   "pygments_lexer": "ipython3",
   "version": "3.7.10"
  },
  "varInspector": {
   "cols": {
    "lenName": 16,
    "lenType": 16,
    "lenVar": 40
   },
   "kernels_config": {
    "python": {
     "delete_cmd_postfix": "",
     "delete_cmd_prefix": "del ",
     "library": "var_list.py",
     "varRefreshCmd": "print(var_dic_list())"
    },
    "r": {
     "delete_cmd_postfix": ") ",
     "delete_cmd_prefix": "rm(",
     "library": "var_list.r",
     "varRefreshCmd": "cat(var_dic_list()) "
    }
   },
   "types_to_exclude": [
    "module",
    "function",
    "builtin_function_or_method",
    "instance",
    "_Feature"
   ],
   "window_display": false
  }
 },
 "nbformat": 4,
 "nbformat_minor": 5
}
