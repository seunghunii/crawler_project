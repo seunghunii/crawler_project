{
 "cells": [
  {
   "cell_type": "code",
   "execution_count": 32,
   "id": "2bf79f48",
   "metadata": {
    "ExecuteTime": {
     "end_time": "2021-08-03T00:58:29.569632Z",
     "start_time": "2021-08-03T00:58:29.566612Z"
    }
   },
   "outputs": [],
   "source": [
    "import pandas as pd"
   ]
  },
  {
   "cell_type": "code",
   "execution_count": 33,
   "id": "d7d01eb2",
   "metadata": {
    "ExecuteTime": {
     "end_time": "2021-08-03T00:58:29.584681Z",
     "start_time": "2021-08-03T00:58:29.570602Z"
    }
   },
   "outputs": [],
   "source": [
    "dirr = 'C:/Users/shic/Desktop/shinhan_simon/google_drive/crawler_data/estate_trend/'"
   ]
  },
  {
   "cell_type": "code",
   "execution_count": 34,
   "id": "d8ee1149",
   "metadata": {
    "ExecuteTime": {
     "end_time": "2021-08-03T00:58:29.599883Z",
     "start_time": "2021-08-03T00:58:29.585283Z"
    }
   },
   "outputs": [],
   "source": [
    "df = pd.read_csv(dirr + 'estate_trend.csv')"
   ]
  },
  {
   "cell_type": "code",
   "execution_count": 35,
   "id": "5302844a",
   "metadata": {
    "ExecuteTime": {
     "end_time": "2021-08-03T00:58:29.615151Z",
     "start_time": "2021-08-03T00:58:29.600892Z"
    }
   },
   "outputs": [],
   "source": [
    "df = df[['PRD_DE','C1_NM','PRD_SE','DT']]"
   ]
  },
  {
   "cell_type": "code",
   "execution_count": 36,
   "id": "10f69205",
   "metadata": {
    "ExecuteTime": {
     "end_time": "2021-08-03T00:58:29.630657Z",
     "start_time": "2021-08-03T00:58:29.616180Z"
    }
   },
   "outputs": [],
   "source": [
    "df['PRD_DE'] = df['PRD_DE'].str.replace(r'-','').str.slice(stop=6)\n",
    "df['PRD_SE'] = np.where(df['C1_NM'].isin(['전국','수도권','비수도권']),'Y','N')"
   ]
  },
  {
   "cell_type": "code",
   "execution_count": 38,
   "id": "350cd424",
   "metadata": {
    "ExecuteTime": {
     "end_time": "2021-08-03T00:58:56.079923Z",
     "start_time": "2021-08-03T00:58:56.056018Z"
    }
   },
   "outputs": [
    {
     "data": {
      "text/html": [
       "<div>\n",
       "<style scoped>\n",
       "    .dataframe tbody tr th:only-of-type {\n",
       "        vertical-align: middle;\n",
       "    }\n",
       "\n",
       "    .dataframe tbody tr th {\n",
       "        vertical-align: top;\n",
       "    }\n",
       "\n",
       "    .dataframe thead th {\n",
       "        text-align: right;\n",
       "    }\n",
       "</style>\n",
       "<table border=\"1\" class=\"dataframe\">\n",
       "  <thead>\n",
       "    <tr style=\"text-align: right;\">\n",
       "      <th></th>\n",
       "      <th>BASE_YM</th>\n",
       "      <th>SIDONM</th>\n",
       "      <th>SUM_YN</th>\n",
       "      <th>M1_INDX_VALU</th>\n",
       "    </tr>\n",
       "  </thead>\n",
       "  <tbody>\n",
       "    <tr>\n",
       "      <th>0</th>\n",
       "      <td>201201</td>\n",
       "      <td>전국</td>\n",
       "      <td>Y</td>\n",
       "      <td>111.2</td>\n",
       "    </tr>\n",
       "    <tr>\n",
       "      <th>1</th>\n",
       "      <td>201201</td>\n",
       "      <td>수도권</td>\n",
       "      <td>Y</td>\n",
       "      <td>106.0</td>\n",
       "    </tr>\n",
       "    <tr>\n",
       "      <th>2</th>\n",
       "      <td>201201</td>\n",
       "      <td>서울특별시</td>\n",
       "      <td>N</td>\n",
       "      <td>107.8</td>\n",
       "    </tr>\n",
       "    <tr>\n",
       "      <th>3</th>\n",
       "      <td>201201</td>\n",
       "      <td>인천광역시</td>\n",
       "      <td>N</td>\n",
       "      <td>101.5</td>\n",
       "    </tr>\n",
       "    <tr>\n",
       "      <th>4</th>\n",
       "      <td>201201</td>\n",
       "      <td>경기도</td>\n",
       "      <td>N</td>\n",
       "      <td>105.9</td>\n",
       "    </tr>\n",
       "    <tr>\n",
       "      <th>...</th>\n",
       "      <td>...</td>\n",
       "      <td>...</td>\n",
       "      <td>...</td>\n",
       "      <td>...</td>\n",
       "    </tr>\n",
       "    <tr>\n",
       "      <th>2069</th>\n",
       "      <td>202104</td>\n",
       "      <td>전라남도</td>\n",
       "      <td>N</td>\n",
       "      <td>112.1</td>\n",
       "    </tr>\n",
       "    <tr>\n",
       "      <th>2070</th>\n",
       "      <td>202104</td>\n",
       "      <td>경상북도</td>\n",
       "      <td>N</td>\n",
       "      <td>121.1</td>\n",
       "    </tr>\n",
       "    <tr>\n",
       "      <th>2071</th>\n",
       "      <td>202104</td>\n",
       "      <td>경상남도</td>\n",
       "      <td>N</td>\n",
       "      <td>115.4</td>\n",
       "    </tr>\n",
       "    <tr>\n",
       "      <th>2072</th>\n",
       "      <td>202104</td>\n",
       "      <td>세종특별자치시</td>\n",
       "      <td>N</td>\n",
       "      <td>93.3</td>\n",
       "    </tr>\n",
       "    <tr>\n",
       "      <th>2073</th>\n",
       "      <td>202104</td>\n",
       "      <td>제주특별자치도</td>\n",
       "      <td>N</td>\n",
       "      <td>120.0</td>\n",
       "    </tr>\n",
       "  </tbody>\n",
       "</table>\n",
       "<p>2074 rows × 4 columns</p>\n",
       "</div>"
      ],
      "text/plain": [
       "     BASE_YM   SIDONM SUM_YN  M1_INDX_VALU\n",
       "0     201201       전국      Y         111.2\n",
       "1     201201      수도권      Y         106.0\n",
       "2     201201    서울특별시      N         107.8\n",
       "3     201201    인천광역시      N         101.5\n",
       "4     201201      경기도      N         105.9\n",
       "...      ...      ...    ...           ...\n",
       "2069  202104     전라남도      N         112.1\n",
       "2070  202104     경상북도      N         121.1\n",
       "2071  202104     경상남도      N         115.4\n",
       "2072  202104  세종특별자치시      N          93.3\n",
       "2073  202104  제주특별자치도      N         120.0\n",
       "\n",
       "[2074 rows x 4 columns]"
      ]
     },
     "execution_count": 38,
     "metadata": {},
     "output_type": "execute_result"
    }
   ],
   "source": [
    "df.columns = ['BASE_YM','SIDONM','SUM_YN','M1_INDX_VALU']\n",
    "df"
   ]
  },
  {
   "cell_type": "code",
   "execution_count": 39,
   "id": "58ce68f5",
   "metadata": {
    "ExecuteTime": {
     "end_time": "2021-08-03T00:59:20.195392Z",
     "start_time": "2021-08-03T00:59:20.170458Z"
    }
   },
   "outputs": [],
   "source": [
    "df.to_csv(dirr + 'estate_trend_preprocessed.csv',index=0)"
   ]
  }
 ],
 "metadata": {
  "kernelspec": {
   "display_name": "simon_env",
   "language": "python",
   "name": "simon_env"
  },
  "language_info": {
   "codemirror_mode": {
    "name": "ipython",
    "version": 3
   },
   "file_extension": ".py",
   "mimetype": "text/x-python",
   "name": "python",
   "nbconvert_exporter": "python",
   "pygments_lexer": "ipython3",
   "version": "3.7.10"
  },
  "varInspector": {
   "cols": {
    "lenName": 16,
    "lenType": 16,
    "lenVar": 40
   },
   "kernels_config": {
    "python": {
     "delete_cmd_postfix": "",
     "delete_cmd_prefix": "del ",
     "library": "var_list.py",
     "varRefreshCmd": "print(var_dic_list())"
    },
    "r": {
     "delete_cmd_postfix": ") ",
     "delete_cmd_prefix": "rm(",
     "library": "var_list.r",
     "varRefreshCmd": "cat(var_dic_list()) "
    }
   },
   "types_to_exclude": [
    "module",
    "function",
    "builtin_function_or_method",
    "instance",
    "_Feature"
   ],
   "window_display": false
  }
 },
 "nbformat": 4,
 "nbformat_minor": 5
}
