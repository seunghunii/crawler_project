{
 "cells": [
  {
   "cell_type": "code",
   "execution_count": 1,
   "metadata": {
    "ExecuteTime": {
     "end_time": "2021-08-03T12:10:04.529457Z",
     "start_time": "2021-08-03T12:10:04.015830Z"
    }
   },
   "outputs": [],
   "source": [
    "import pandas as pd"
   ]
  },
  {
   "cell_type": "code",
   "execution_count": 2,
   "metadata": {
    "ExecuteTime": {
     "end_time": "2021-08-03T12:10:21.736448Z",
     "start_time": "2021-08-03T12:10:21.730464Z"
    }
   },
   "outputs": [],
   "source": [
    "dirr = 'C:/Users/rsh15/Google Drive/crawler_data/kbland/meta'"
   ]
  },
  {
   "cell_type": "code",
   "execution_count": 3,
   "metadata": {
    "ExecuteTime": {
     "end_time": "2021-08-03T12:10:32.763851Z",
     "start_time": "2021-08-03T12:10:32.746863Z"
    }
   },
   "outputs": [],
   "source": [
    "tmp = pd.read_csv(dirr+'/region_code.csv')"
   ]
  },
  {
   "cell_type": "code",
   "execution_count": 4,
   "metadata": {
    "ExecuteTime": {
     "end_time": "2021-08-03T12:10:34.020405Z",
     "start_time": "2021-08-03T12:10:33.986499Z"
    }
   },
   "outputs": [
    {
     "data": {
      "text/html": [
       "<div>\n",
       "<style scoped>\n",
       "    .dataframe tbody tr th:only-of-type {\n",
       "        vertical-align: middle;\n",
       "    }\n",
       "\n",
       "    .dataframe tbody tr th {\n",
       "        vertical-align: top;\n",
       "    }\n",
       "\n",
       "    .dataframe thead th {\n",
       "        text-align: right;\n",
       "    }\n",
       "</style>\n",
       "<table border=\"1\" class=\"dataframe\">\n",
       "  <thead>\n",
       "    <tr style=\"text-align: right;\">\n",
       "      <th></th>\n",
       "      <th>big_region_code</th>\n",
       "      <th>big_region_name</th>\n",
       "      <th>small_region_code</th>\n",
       "      <th>small_region_name</th>\n",
       "    </tr>\n",
       "  </thead>\n",
       "  <tbody>\n",
       "    <tr>\n",
       "      <th>0</th>\n",
       "      <td>9800000000</td>\n",
       "      <td>전국</td>\n",
       "      <td></td>\n",
       "      <td>(전체)</td>\n",
       "    </tr>\n",
       "    <tr>\n",
       "      <th>1</th>\n",
       "      <td>1100000000</td>\n",
       "      <td>서울</td>\n",
       "      <td></td>\n",
       "      <td>(전체)</td>\n",
       "    </tr>\n",
       "    <tr>\n",
       "      <th>2</th>\n",
       "      <td>1100000000</td>\n",
       "      <td>서울</td>\n",
       "      <td>1199000000</td>\n",
       "      <td>서울강북</td>\n",
       "    </tr>\n",
       "    <tr>\n",
       "      <th>3</th>\n",
       "      <td>1100000000</td>\n",
       "      <td>서울</td>\n",
       "      <td>1130500000</td>\n",
       "      <td>서울강북구</td>\n",
       "    </tr>\n",
       "    <tr>\n",
       "      <th>4</th>\n",
       "      <td>1100000000</td>\n",
       "      <td>서울</td>\n",
       "      <td>1121500000</td>\n",
       "      <td>서울광진구</td>\n",
       "    </tr>\n",
       "    <tr>\n",
       "      <th>...</th>\n",
       "      <td>...</td>\n",
       "      <td>...</td>\n",
       "      <td>...</td>\n",
       "      <td>...</td>\n",
       "    </tr>\n",
       "    <tr>\n",
       "      <th>180</th>\n",
       "      <td>4800000000</td>\n",
       "      <td>경남</td>\n",
       "      <td>4817000000</td>\n",
       "      <td>진주</td>\n",
       "    </tr>\n",
       "    <tr>\n",
       "      <th>181</th>\n",
       "      <td>4800000000</td>\n",
       "      <td>경남</td>\n",
       "      <td>4825000000</td>\n",
       "      <td>김해</td>\n",
       "    </tr>\n",
       "    <tr>\n",
       "      <th>182</th>\n",
       "      <td>4800000000</td>\n",
       "      <td>경남</td>\n",
       "      <td>4822000000</td>\n",
       "      <td>통영</td>\n",
       "    </tr>\n",
       "    <tr>\n",
       "      <th>183</th>\n",
       "      <td>5000000000</td>\n",
       "      <td>제주/서귀포</td>\n",
       "      <td></td>\n",
       "      <td>(전체)</td>\n",
       "    </tr>\n",
       "    <tr>\n",
       "      <th>184</th>\n",
       "      <td>9804000000</td>\n",
       "      <td>기타지방</td>\n",
       "      <td></td>\n",
       "      <td>(전체)</td>\n",
       "    </tr>\n",
       "  </tbody>\n",
       "</table>\n",
       "<p>185 rows × 4 columns</p>\n",
       "</div>"
      ],
      "text/plain": [
       "     big_region_code big_region_name small_region_code small_region_name\n",
       "0         9800000000              전국                                (전체)\n",
       "1         1100000000              서울                                (전체)\n",
       "2         1100000000              서울        1199000000              서울강북\n",
       "3         1100000000              서울        1130500000             서울강북구\n",
       "4         1100000000              서울        1121500000             서울광진구\n",
       "..               ...             ...               ...               ...\n",
       "180       4800000000              경남        4817000000                진주\n",
       "181       4800000000              경남        4825000000                김해\n",
       "182       4800000000              경남        4822000000                통영\n",
       "183       5000000000          제주/서귀포                                (전체)\n",
       "184       9804000000            기타지방                                (전체)\n",
       "\n",
       "[185 rows x 4 columns]"
      ]
     },
     "execution_count": 4,
     "metadata": {},
     "output_type": "execute_result"
    }
   ],
   "source": [
    "tmp"
   ]
  },
  {
   "cell_type": "code",
   "execution_count": null,
   "metadata": {},
   "outputs": [],
   "source": []
  }
 ],
 "metadata": {
  "kernelspec": {
   "display_name": "simon_env",
   "language": "python",
   "name": "simon_env"
  },
  "language_info": {
   "codemirror_mode": {
    "name": "ipython",
    "version": 3
   },
   "file_extension": ".py",
   "mimetype": "text/x-python",
   "name": "python",
   "nbconvert_exporter": "python",
   "pygments_lexer": "ipython3",
   "version": "3.8.8"
  },
  "toc": {
   "base_numbering": 1,
   "nav_menu": {},
   "number_sections": true,
   "sideBar": true,
   "skip_h1_title": true,
   "title_cell": "Table of Contents",
   "title_sidebar": "Contents",
   "toc_cell": false,
   "toc_position": {},
   "toc_section_display": true,
   "toc_window_display": false
  },
  "varInspector": {
   "cols": {
    "lenName": 16,
    "lenType": 16,
    "lenVar": 40
   },
   "kernels_config": {
    "python": {
     "delete_cmd_postfix": "",
     "delete_cmd_prefix": "del ",
     "library": "var_list.py",
     "varRefreshCmd": "print(var_dic_list())"
    },
    "r": {
     "delete_cmd_postfix": ") ",
     "delete_cmd_prefix": "rm(",
     "library": "var_list.r",
     "varRefreshCmd": "cat(var_dic_list()) "
    }
   },
   "types_to_exclude": [
    "module",
    "function",
    "builtin_function_or_method",
    "instance",
    "_Feature"
   ],
   "window_display": false
  }
 },
 "nbformat": 4,
 "nbformat_minor": 4
}
