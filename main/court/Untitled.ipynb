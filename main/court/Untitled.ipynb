{
 "cells": [
  {
   "cell_type": "code",
   "execution_count": 1,
   "id": "dfb10ddb",
   "metadata": {
    "ExecuteTime": {
     "end_time": "2021-08-09T05:27:21.275116Z",
     "start_time": "2021-08-09T05:27:20.839313Z"
    }
   },
   "outputs": [],
   "source": [
    "import pandas as pd"
   ]
  },
  {
   "cell_type": "code",
   "execution_count": 2,
   "id": "8ce193f0",
   "metadata": {
    "ExecuteTime": {
     "end_time": "2021-08-09T05:27:25.034066Z",
     "start_time": "2021-08-09T05:27:25.030077Z"
    }
   },
   "outputs": [],
   "source": [
    "dirr = 'C:/Users/shic/Desktop/shinhan_simon/google_drive/crawler_data/court/'"
   ]
  },
  {
   "cell_type": "code",
   "execution_count": 3,
   "id": "8679d159",
   "metadata": {
    "ExecuteTime": {
     "end_time": "2021-08-09T05:27:40.719710Z",
     "start_time": "2021-08-09T05:27:40.054489Z"
    }
   },
   "outputs": [],
   "source": [
    "df = pd.read_csv(dirr + 'RAA_법원경매통계_유승훈.csv')"
   ]
  },
  {
   "cell_type": "code",
   "execution_count": 9,
   "id": "f28d16ff",
   "metadata": {
    "ExecuteTime": {
     "end_time": "2021-08-09T05:28:36.852053Z",
     "start_time": "2021-08-09T05:28:36.799196Z"
    }
   },
   "outputs": [
    {
     "data": {
      "text/html": [
       "<div>\n",
       "<style scoped>\n",
       "    .dataframe tbody tr th:only-of-type {\n",
       "        vertical-align: middle;\n",
       "    }\n",
       "\n",
       "    .dataframe tbody tr th {\n",
       "        vertical-align: top;\n",
       "    }\n",
       "\n",
       "    .dataframe thead th {\n",
       "        text-align: right;\n",
       "    }\n",
       "</style>\n",
       "<table border=\"1\" class=\"dataframe\">\n",
       "  <thead>\n",
       "    <tr style=\"text-align: right;\">\n",
       "      <th></th>\n",
       "      <th>ACTN_THNG_PRPS_BCLAS_CODE</th>\n",
       "      <th>ACTN_THNG_PRPS_SCLAS_CODE</th>\n",
       "      <th>SIDONM</th>\n",
       "      <th>SIGNGU_NM</th>\n",
       "      <th>BASE_YM</th>\n",
       "      <th>ACTN_ITMN</th>\n",
       "      <th>DISP_ITMN</th>\n",
       "      <th>ESTM_PRICE</th>\n",
       "      <th>DISP_PRICE</th>\n",
       "      <th>DISP_RT</th>\n",
       "      <th>DISP_VLUE_RT</th>\n",
       "    </tr>\n",
       "  </thead>\n",
       "  <tbody>\n",
       "  </tbody>\n",
       "</table>\n",
       "</div>"
      ],
      "text/plain": [
       "Empty DataFrame\n",
       "Columns: [ACTN_THNG_PRPS_BCLAS_CODE, ACTN_THNG_PRPS_SCLAS_CODE, SIDONM, SIGNGU_NM, BASE_YM, ACTN_ITMN, DISP_ITMN, ESTM_PRICE, DISP_PRICE, DISP_RT, DISP_VLUE_RT]\n",
       "Index: []"
      ]
     },
     "execution_count": 9,
     "metadata": {},
     "output_type": "execute_result"
    }
   ],
   "source": [
    "df[(df['SIDONM']=='세종특별자치시') & (df['BASE_YM']=='201208')]"
   ]
  },
  {
   "cell_type": "code",
   "execution_count": null,
   "id": "35089853",
   "metadata": {},
   "outputs": [],
   "source": []
  }
 ],
 "metadata": {
  "kernelspec": {
   "display_name": "simon_env",
   "language": "python",
   "name": "simon_env"
  },
  "language_info": {
   "codemirror_mode": {
    "name": "ipython",
    "version": 3
   },
   "file_extension": ".py",
   "mimetype": "text/x-python",
   "name": "python",
   "nbconvert_exporter": "python",
   "pygments_lexer": "ipython3",
   "version": "3.7.10"
  },
  "varInspector": {
   "cols": {
    "lenName": 16,
    "lenType": 16,
    "lenVar": 40
   },
   "kernels_config": {
    "python": {
     "delete_cmd_postfix": "",
     "delete_cmd_prefix": "del ",
     "library": "var_list.py",
     "varRefreshCmd": "print(var_dic_list())"
    },
    "r": {
     "delete_cmd_postfix": ") ",
     "delete_cmd_prefix": "rm(",
     "library": "var_list.r",
     "varRefreshCmd": "cat(var_dic_list()) "
    }
   },
   "types_to_exclude": [
    "module",
    "function",
    "builtin_function_or_method",
    "instance",
    "_Feature"
   ],
   "window_display": false
  }
 },
 "nbformat": 4,
 "nbformat_minor": 5
}
