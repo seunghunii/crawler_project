{
 "cells": [
  {
   "cell_type": "code",
   "execution_count": 3,
   "metadata": {
    "ExecuteTime": {
     "end_time": "2021-08-18T13:46:25.466543Z",
     "start_time": "2021-08-18T13:46:23.988732Z"
    }
   },
   "outputs": [],
   "source": [
    "import pandas as pd\n",
    "import re\n",
    "from eunjeon import Mecab\n",
    "import collections"
   ]
  },
  {
   "cell_type": "code",
   "execution_count": 4,
   "metadata": {
    "ExecuteTime": {
     "end_time": "2021-08-18T13:47:29.036333Z",
     "start_time": "2021-08-18T13:47:29.030349Z"
    }
   },
   "outputs": [],
   "source": [
    "dirr = 'C:/Users/rsh15/Google Drive/crawler_data/estate_news/'\n",
    "#'C:/Users/rsh15/Google Drive/crawler_data/estate_news/'\n",
    "#'C:/Users/shic/Desktop/shinhan_simon/google_drive/crawler_data/estate_news/'"
   ]
  },
  {
   "cell_type": "code",
   "execution_count": 5,
   "metadata": {
    "ExecuteTime": {
     "end_time": "2021-08-18T13:47:33.153920Z",
     "start_time": "2021-08-18T13:47:29.725744Z"
    }
   },
   "outputs": [],
   "source": [
    "news_df = pd.read_csv(dirr+'RAA_부동산114뉴스기사_유승훈.csv')\n",
    "news_df = news_df.dropna()"
   ]
  },
  {
   "cell_type": "code",
   "execution_count": 7,
   "metadata": {
    "ExecuteTime": {
     "end_time": "2021-08-18T13:47:53.496585Z",
     "start_time": "2021-08-18T13:47:53.413806Z"
    }
   },
   "outputs": [
    {
     "data": {
      "text/html": [
       "<div>\n",
       "<style scoped>\n",
       "    .dataframe tbody tr th:only-of-type {\n",
       "        vertical-align: middle;\n",
       "    }\n",
       "\n",
       "    .dataframe tbody tr th {\n",
       "        vertical-align: top;\n",
       "    }\n",
       "\n",
       "    .dataframe thead th {\n",
       "        text-align: right;\n",
       "    }\n",
       "</style>\n",
       "<table border=\"1\" class=\"dataframe\">\n",
       "  <thead>\n",
       "    <tr style=\"text-align: right;\">\n",
       "      <th></th>\n",
       "      <th>NEWS_TITLE_NM</th>\n",
       "      <th>NEWS_WRT_YMD</th>\n",
       "      <th>NEWS_MEDIA_NM</th>\n",
       "      <th>NEWS_BODY_CNTT</th>\n",
       "      <th>yearmonth</th>\n",
       "    </tr>\n",
       "  </thead>\n",
       "  <tbody>\n",
       "    <tr>\n",
       "      <th>0</th>\n",
       "      <td>[주간부동산] 매매·전세, 연말연시 맞아 `한산`</td>\n",
       "      <td>2012.01.01</td>\n",
       "      <td>이데일리</td>\n",
       "      <td>- 매매, 서울 0.05%↓, 신도시 0.02%↓, 수도권 0.02%↓- 전세, 서...</td>\n",
       "      <td>201201</td>\n",
       "    </tr>\n",
       "    <tr>\n",
       "      <th>1</th>\n",
       "      <td>연말 거래 한산, 매매도 전세도 약세 지속</td>\n",
       "      <td>2012.01.01</td>\n",
       "      <td>조선비즈</td>\n",
       "      <td>서울 아파트 값이 2주 연속 하락세다. 2011년 마지막 주 시장은 비수기로 한산했...</td>\n",
       "      <td>201201</td>\n",
       "    </tr>\n",
       "    <tr>\n",
       "      <th>2</th>\n",
       "      <td>2012년 아파트 공급 줄고, 오피스텔 늘고</td>\n",
       "      <td>2012.01.01</td>\n",
       "      <td>헤럴드POP</td>\n",
       "      <td>새해에는 브랜드 아파트 공급은 작년보다 줄고, 대표적인 수익형부동산 상품인 오피스텔...</td>\n",
       "      <td>201201</td>\n",
       "    </tr>\n",
       "    <tr>\n",
       "      <th>3</th>\n",
       "      <td>수도권 집 한 채에 지방 아파트 몇 채 산다고?</td>\n",
       "      <td>2012.01.01</td>\n",
       "      <td>헤럴드POP</td>\n",
       "      <td>수도권 아파트 한 채 값에 지방 아파트 여러 채를 산다는 말도 옛말이 됐다. 지방 ...</td>\n",
       "      <td>201201</td>\n",
       "    </tr>\n",
       "    <tr>\n",
       "      <th>4</th>\n",
       "      <td>고급빌라 맞수 청담동 vs 한남동…“유엔빌리지(한남동) 살아요” ‘70억 펜트하우스...</td>\n",
       "      <td>2012.01.01</td>\n",
       "      <td>매경이코노미</td>\n",
       "      <td>한남동 유엔빌리지. / 청담동 마크힐스. TV 드라마 속 부잣집에서 전화를 받는 사...</td>\n",
       "      <td>201201</td>\n",
       "    </tr>\n",
       "    <tr>\n",
       "      <th>...</th>\n",
       "      <td>...</td>\n",
       "      <td>...</td>\n",
       "      <td>...</td>\n",
       "      <td>...</td>\n",
       "      <td>...</td>\n",
       "    </tr>\n",
       "    <tr>\n",
       "      <th>45907</th>\n",
       "      <td>[부동산캘린더] 3기 신도시 사전청약 1순위 접수…분양시장 후끈</td>\n",
       "      <td>2021.07.31</td>\n",
       "      <td>연합뉴스</td>\n",
       "      <td>(서울=연합뉴스) 김동규 기자 = 다음 주에는 3기 신도시 사전청약 1순위 접수를 ...</td>\n",
       "      <td>202107</td>\n",
       "    </tr>\n",
       "    <tr>\n",
       "      <th>45908</th>\n",
       "      <td>[분양캘린더]8월 첫째 주 1만4368가구 분양…견본주택 3곳 개관</td>\n",
       "      <td>2021.07.31</td>\n",
       "      <td>뉴시스</td>\n",
       "      <td>전국 20개 단지…일반분양 1만86가구[서울=뉴시스] 31일 부동산114에 따르면 ...</td>\n",
       "      <td>202107</td>\n",
       "    </tr>\n",
       "    <tr>\n",
       "      <th>45909</th>\n",
       "      <td>올 상반기 청약률 상위 단지는 초등학교 도보 통학권</td>\n",
       "      <td>2021.07.31</td>\n",
       "      <td>데일리안</td>\n",
       "      <td>분양 시장 주 수요층 3040세대, 자녀 교육 우선안전한 통학 환경 선호해올해 상반...</td>\n",
       "      <td>202107</td>\n",
       "    </tr>\n",
       "    <tr>\n",
       "      <th>45910</th>\n",
       "      <td>집값에 치이고 전셋값에 또 치이고</td>\n",
       "      <td>2021.07.31</td>\n",
       "      <td>비즈니스워치</td>\n",
       "      <td>[집값 톡톡]전셋값→집값 상승 악순환서울·수도권·지방까지 전셋값 상승 확산집값은 '...</td>\n",
       "      <td>202107</td>\n",
       "    </tr>\n",
       "    <tr>\n",
       "      <th>45911</th>\n",
       "      <td>전셋값 폭등에 임대 아파트에 눈길… 호반건설, '호반써밋 그랜드파크 II, IV' 공급</td>\n",
       "      <td>2021.07.31</td>\n",
       "      <td>머니S</td>\n",
       "      <td>━최장 10년간 거주 가능… 교통, 생활 편의, 쾌적성 두루 갖춘 입지에 합리적인 ...</td>\n",
       "      <td>202107</td>\n",
       "    </tr>\n",
       "  </tbody>\n",
       "</table>\n",
       "<p>45845 rows × 5 columns</p>\n",
       "</div>"
      ],
      "text/plain": [
       "                                           NEWS_TITLE_NM NEWS_WRT_YMD  \\\n",
       "0                            [주간부동산] 매매·전세, 연말연시 맞아 `한산`   2012.01.01   \n",
       "1                                연말 거래 한산, 매매도 전세도 약세 지속   2012.01.01   \n",
       "2                               2012년 아파트 공급 줄고, 오피스텔 늘고   2012.01.01   \n",
       "3                             수도권 집 한 채에 지방 아파트 몇 채 산다고?   2012.01.01   \n",
       "4      고급빌라 맞수 청담동 vs 한남동…“유엔빌리지(한남동) 살아요” ‘70억 펜트하우스...   2012.01.01   \n",
       "...                                                  ...          ...   \n",
       "45907                [부동산캘린더] 3기 신도시 사전청약 1순위 접수…분양시장 후끈   2021.07.31   \n",
       "45908              [분양캘린더]8월 첫째 주 1만4368가구 분양…견본주택 3곳 개관   2021.07.31   \n",
       "45909                       올 상반기 청약률 상위 단지는 초등학교 도보 통학권   2021.07.31   \n",
       "45910                                 집값에 치이고 전셋값에 또 치이고   2021.07.31   \n",
       "45911   전셋값 폭등에 임대 아파트에 눈길… 호반건설, '호반써밋 그랜드파크 II, IV' 공급   2021.07.31   \n",
       "\n",
       "      NEWS_MEDIA_NM                                     NEWS_BODY_CNTT  \\\n",
       "0              이데일리  - 매매, 서울 0.05%↓, 신도시 0.02%↓, 수도권 0.02%↓- 전세, 서...   \n",
       "1              조선비즈  서울 아파트 값이 2주 연속 하락세다. 2011년 마지막 주 시장은 비수기로 한산했...   \n",
       "2            헤럴드POP  새해에는 브랜드 아파트 공급은 작년보다 줄고, 대표적인 수익형부동산 상품인 오피스텔...   \n",
       "3            헤럴드POP  수도권 아파트 한 채 값에 지방 아파트 여러 채를 산다는 말도 옛말이 됐다. 지방 ...   \n",
       "4            매경이코노미  한남동 유엔빌리지. / 청담동 마크힐스. TV 드라마 속 부잣집에서 전화를 받는 사...   \n",
       "...             ...                                                ...   \n",
       "45907          연합뉴스  (서울=연합뉴스) 김동규 기자 = 다음 주에는 3기 신도시 사전청약 1순위 접수를 ...   \n",
       "45908           뉴시스  전국 20개 단지…일반분양 1만86가구[서울=뉴시스] 31일 부동산114에 따르면 ...   \n",
       "45909          데일리안  분양 시장 주 수요층 3040세대, 자녀 교육 우선안전한 통학 환경 선호해올해 상반...   \n",
       "45910        비즈니스워치  [집값 톡톡]전셋값→집값 상승 악순환서울·수도권·지방까지 전셋값 상승 확산집값은 '...   \n",
       "45911           머니S  ━최장 10년간 거주 가능… 교통, 생활 편의, 쾌적성 두루 갖춘 입지에 합리적인 ...   \n",
       "\n",
       "      yearmonth  \n",
       "0        201201  \n",
       "1        201201  \n",
       "2        201201  \n",
       "3        201201  \n",
       "4        201201  \n",
       "...         ...  \n",
       "45907    202107  \n",
       "45908    202107  \n",
       "45909    202107  \n",
       "45910    202107  \n",
       "45911    202107  \n",
       "\n",
       "[45845 rows x 5 columns]"
      ]
     },
     "execution_count": 7,
     "metadata": {},
     "output_type": "execute_result"
    }
   ],
   "source": [
    "news_df['yearmonth'] = news_df['NEWS_WRT_YMD'].str.slice(stop=7).str.replace('.','',regex=False)\n",
    "news_df"
   ]
  },
  {
   "cell_type": "code",
   "execution_count": 22,
   "metadata": {
    "ExecuteTime": {
     "end_time": "2021-08-18T13:51:10.817811Z",
     "start_time": "2021-08-18T13:51:10.803847Z"
    }
   },
   "outputs": [
    {
     "data": {
      "text/plain": [
       "['201201',\n",
       " '201202',\n",
       " '201203',\n",
       " '201204',\n",
       " '201205',\n",
       " '201206',\n",
       " '201207',\n",
       " '201208',\n",
       " '201209',\n",
       " '201210']"
      ]
     },
     "execution_count": 22,
     "metadata": {},
     "output_type": "execute_result"
    }
   ],
   "source": [
    "dates = news_df['yearmonth'].unique().tolist()\n",
    "dates[0:10]"
   ]
  },
  {
   "cell_type": "code",
   "execution_count": 75,
   "metadata": {
    "ExecuteTime": {
     "end_time": "2021-08-18T14:26:07.770681Z",
     "start_time": "2021-08-18T14:26:07.750741Z"
    }
   },
   "outputs": [],
   "source": [
    "def news_article_preprocess(article_cnt):\n",
    "    content_txt = re.sub(r'[\\(\\[].*?[\\)\\]]','',article_cnt)\n",
    "    content_txt = re.sub('<.*?>','',content_txt)\n",
    "    content_txt = re.sub('＜.*?＞','',content_txt)\n",
    "    content_txt = re.sub('\\s{2,}','',content_txt)\n",
    "    content_txt = content_txt.replace('부동산114','')\n",
    "    return content_txt"
   ]
  },
  {
   "cell_type": "code",
   "execution_count": 76,
   "metadata": {
    "ExecuteTime": {
     "end_time": "2021-08-18T14:26:09.552128Z",
     "start_time": "2021-08-18T14:26:09.539925Z"
    }
   },
   "outputs": [
    {
     "data": {
      "text/plain": [
       "'부산지역 주간 아파트 가격이 2년 11개월 만에 하락해 부산 부동산 시장이 본격 하락세에 접어든 것이 아니냐는 우려를 낳고 있다.부산지역 주간 아파트 평균 가격은 지난 6일 기준으로 0.01% 하락했다. 이는 지난해 10월 28일에 나타났던 일부 지역의 하락세가 부산 전체로 확산된 것으로 장기 하락의 신호탄으로 분석된다. △아파트 가격 하락의 확산과 원인=부산지역 아파트 하락세는 서부산권에서 먼저 시작됐다. 지난해 10월 28일 기준으로 주간 아파트 가격을 살펴보면 부산 북구와 부산진구가 각각 0.01%와 0.04% 하락했다. 부산지역 아파트 가격이 3년 만에 하락한 것은 이때부터다. 이후 하락세는 사상구·강서구·사하구로 확산됐다.3년간 급등세 이후 매수 실종 유럽발 재정위기도 악재 작용 경기 침체로 하향세 지속될 듯지난해 10월 28일 이후 지난 6일까지 북구는 0.16%, 강서구는 0.24%, 사상구는 0.40% 하락했다. 반면 부산진구와 사하구는 하락과 상승을 반복하면서 0.33%와 0.06% 상승했다. 이들 지역이 먼저 하락한 것은 우선 지난 3년간 상승폭이 가장 컸기 때문이다. 지난 2009년 2월 6일 대비 지난해 10월 28일 기준으로 북구는 52.98%, 사상구는 65.15%, 사하구는 55.38% 상승했었다. 이는 같은 기간 부산지역 전체 상승률의 배 가까운 것이다.여기에 주거 환경이 개발 호재를 뒷받침 못했기 때문이라는 분석이다. 사상구는 부산~김해 경전철, 사상~하단 도시철도 개발로 인해 복합 역세권에 대한 기대가 강하게 작용했다. 강서구는 신항개발, 을숙도대교, 거가대로 개통으로 접근성이 개선되면서 큰 폭으로 가격이 상승했다. 하지만 사상구의 경우 최근 10년간 신축된 아파트가 없을 정도로 주거 환경이 낙후돼 높게 형성된 가격에 이사할 인구가 유입되지 않으면서 가격이 하락하기 시작한 것으로 분석된다. 강서구는 신규 입주 아파트들의 분양가가 높아 전체 가격이 올랐으나 입주 이후 가격이 하락하면서 조정을 받고 있다. 북구는 화명 주공 재건축과 신시가지를 선호하는 수요가 증가하면서 가격이 상승했지만, 오는 6월 예정된 롯데캐슬카이저 입주가 악재로 작용하고 있다.△향후 전망과 대책=부산지역 아파트는 지난 2009년 2월 6일 대비 지난 6일 기준 37% 상승했다. 이 기간 동안 전국 최고의 상승률을 보이면서 수도권을 제외한 지방 아파트 가격 상승의 원천이 되었다. 이에 따라 건설사들은 부산에서 밀어내기식 분양을 쏟아부었다. 분양가 대비해 상대적으로 낮은 기존 아파트 가격이 분양가에 근접하기 위해 더 상승했고 현재 일부 거품이 형성됐다는 것이 전문가들의 분석이다. 이런 상황에서 지난해 중순 시작된 유럽발 재정위기에 경기 침체가 겹치면서 지난해 말부터 매수 주체가 없는 거래 실종 사태가 빚어졌다. 그러면서 향후 가격 하락을 우려한 급매물이 상대적으로 가격이 많이 오른 서부산권에서부터 풀리면서 가격이 떨어지기 시작했다는 것이 전문가들의 일치된 견해다.부동산리서치 지음 김수엽 대표는 \"부산은 지난 3년 동안 상승세를 보이면서 그 어느 때보다 급등세를 이어왔다. 하지만 지금은 이같은 급등이 시장에 가장 큰 악재로 작용하고 있고, 유럽의 재정위기가 실물로 전이되고 있어 경기 침체까지 겹치고 있어 향후 하향세는 지속될 것\"이라고 전망했다. 이영래 부산지사장은 \"단기간에 급등한 부담이 있긴 하지만 울산 등 주변 지역과 비교할 경우 최고점 대비 10~20% 정도에서 조정이 이루어질 가능성이 높다\"면서 \"꼭 집을 팔아야 하는 매도자는 시세보다 조금 싼 가격에 내놓으면서 일찍 처분하는 전략을 가져야하고, 실수요자라면 장기적 관점에서 지역과 가격대를 정해 급매물 중심으로 접근하는 것이 바람직하다\"고 충고했다. 김수진 기자 kscii@busan.com'"
      ]
     },
     "execution_count": 76,
     "metadata": {},
     "output_type": "execute_result"
    }
   ],
   "source": [
    "news_article_preprocess(news_df['NEWS_BODY_CNTT'][100])"
   ]
  },
  {
   "cell_type": "code",
   "execution_count": 74,
   "metadata": {
    "ExecuteTime": {
     "end_time": "2021-08-18T14:25:02.108817Z",
     "start_time": "2021-08-18T14:25:00.909029Z"
    }
   },
   "outputs": [
    {
     "data": {
      "text/plain": [
       "'조세소위원회의     백승렬 기자 = 기획재정위원회 조세소위원장인 새누리당 강석훈 의원이 22일 국회에서 열린 조세소위원회의를 주재하고 있다.민주당 \\'임대소득 과세 2년 유예\\' 정부안에 제동…세법개정안 통과 불투명11.3대책 등 잇단 규제에 시장 위축…공급과잉속 \\'경착륙\\' 우려도 서미숙 기자 = 최근 침체 조짐을 보이는 주택시장에 또다른 대형 악재가 터질 전망이다.    정부가 세법개정안을 통해 오는 2018년 말까지 2년간 시행을 유예하기로 했던 2천만원 이하 주택 전월세 임대소득 과세가 야당의 반대로 무산될 위기에 놓인 때문이다.     부동산 업계는 앞으로 아파트 입주물량이 급증하고 11·3 등 정부의 잇따른 부동산 대책으로 주택시장이 얼어붙고 있는 가운데 내년부터 임대소득 과세마저 시행될 경우 주택시장이 급격하게 위축될 것으로 우려하고 있다.     27일 정부에 따르면 내달 초 열리는 국회 조세소위원회에서 2017년 세법개정안이 논의되는 가운데 임대소득 과세유예안의 운명이 갈릴 전망이다.     기재부는 지난 7월말 세법개정안을 발표하면서 당초 내년부터 시행될 2천만원 이하의 주택 임대소득자에 대한 과세를 2018년까지 2년간 유예하기로 했다.     임대소득자에 세 부담이 커질 경우 집주인들이 월세를 높이는 방법으로 세금을 전가할 수 있고 임대소득자의 건강보험이 직장보험에서 지역보험으로 전환돼 건강보험료 부담이 크게 늘어난다는 점에서 건보료 개편 이후 시행하는 것이 바람직하다는 판단에서다.     그러나 국회 다수당인 민주당이 이에 제동을 걸고 내년부터 즉시 과세를 요구하고 나서면서 법안 통과가 어려운 상황에 놓였다.    민주당은 \"임대소득자에 대해 애초 계획대로 세금을 걷어야 한다\"며 올해로 끝나는 일몰 연장에 반대하고 있다.    당초 비과세 일몰이 2년 유예될 것으로 기대했던 주택시장은 초긴장 상태다.     부동산 전문가들은 임대소득 과세에 대한 취지는 인정하지만 당장 시행할 경우 주택시장의 하방 리스크가 가속화할 것으로 우려하고 있다.    내년 이후 2018년까지 입주 물량이 70만 가구를 넘어설 것으로 예상되면서 공급과잉 우려가 커져 있는데, 임대소득 과세마저 시행되면 세부담을 느낀 집주인들이 임대하던 집을 팔려고 내놓으면서 매물이 급증하고 집값이 급락할 수 있다는 것이다.    실제 2014년 2월 임대소득 과세 계획이 발표된 후 주택시장은 주택거래가 중단되고 급매물이 속출하는 등 냉각되면서 그 해 6월 당초안에서 후퇴한 완화방안을 내놔야 했다.     국민은행 박원갑 수석부동산전문위원은 \"정부의 11·3 부동산 대책 이후 재건축 단지의 시세가 1억∼2억원씩 떨어지고 일반 아파트도 거래가 끊기는 등 주택시장이 위축되고 있는데 당초 2년 유예될 것으로 믿었던 임대소득 과세마저 시행되면 시장에 커다란 충격파를 줄 것\"이라며 \"내년부터는 수도권의 입주물량도 크게 늘기 때문에 주택시장이 예상보다 더 급랭할 수 있다\"고 말했다.    최순실 사태로 인한 국정공백이 장기화하고 미국 트럼프 대통령 당선으로 인한 경제 불확설싱이 커진 점, 금리 인상 가능성이 확대된 점 등도 모두 주택시장에 악재로 작용하고 있다.      함영진 리서치센터장은 \"정부가 8·25 후속대책으로 발표한 잔금대출 분할상환과 소득심사 강화 등의 조치로 인해 분양시장과 일반 주택시장이 더욱 위축될 조짐을 보이고 있다\"며 \"주택시장을 둘러싼 변수들이 비관적인데 임대소득자에 대한 과세가 시행되면 집을 팔려고 내놓는 사람이 많아질 것\"이라고 말했다.    반면 서울 등 주택 공급물량은 제한돼 있지만 주택 임차수요가 많은 곳에선 늘어난 집주인들의 세부담만큼 세입자의 월세로 전가되는 것은 물론 집주인이 임대사업을 포기할 경우 전월세 공급물량이 줄어 전세난이 심화될 것이라는 지적도 있다.    한국주택협회 김동수 실장은 \"다주택자는 민간 임대시장을 활성화하는 순기능도 갖고 있는데 임대사업에 대한 매력이 사라지면 임대를 놓으려는 수요자들이 줄어들고 전월세 물량도 감소할 것\"이라며 \"서울을 비롯한 일부 지역은 공급보다 수요가 많은 만큼 임대소득 과세로 인한 세부담이 세입자에게 전가될 수 있다\"고 말했다.     임대소득자에 대한 건강보험료가 급증하면서 조세저항도 거셀 전망이다. 현재 2천만원 이하의 임대소득자는 소득세를 내지 않고 직장보험 가입자의 피부양자로 등재된 경우가 많지만 임대소득 과세로 소득이 노출되면 지역보험 가입자로 바뀌어 거액의 건보료가 부과된다.     업계에 따르면 시가 5억원짜리 주택 2가구를 보유하고 있는 은퇴자가 다른 소득없이 임대소득으로만 연간 2천만원을 번다고 가정할 경우 소득세로 56만원이 부과되는데 건강보험료는 연간 274만원을 내야 하는 것으로 나타났다. 건보료가 소득세의 약 5배에 달하는 셈이다.     주택 임대수입이 전부인 \\'생계형\\' 임대사업자에게는 임대사업의 지속 여부가 고민이 될 수밖에 없다.     이 때문에 정부와 국민의당 등 야당 일각에서는 건강보험료 체계 개편 이후 과세하는 것이 바람직하다는 입장이다.    국토교통부 관계자는 \"2014년 6월 임대소득 과세 보완방안 발표시 과세 이전에 추진하기로 했던 2천만원 이하 임대소득자에 대한 건강보험료 부담 경감방안이 이듬해 건보료 부과체계 개편이 백지화되면서 추진되지 못하는 상황\"이라며 \"2년여전 주택시장의 침체와 혼란을 되풀이하지 않기 위해 과세 유예를 일정기간 연장할 필요가 있다\"고 말했다.    우리은행 안명숙 고객자문센터장은 \"2천만원 이하의 임대소득이 전부인 임대사업자는 임대소득세에다 건보료 부담까지 커질 경우 임대사업 자체에 대한 매력이 감소하면서 주택 임대에 소극적일 수밖에 없을 것\"이라며 \"임대소득 과세에 대한 취지는 인정하지만 주택시장이 경착륙할 경우 금융이 부실해지고 국가 경제에도 큰 부담이 되는 만큼 세심한 판단이 필요해 보인다\"고 말했다.    sms@yna.co.kr'"
      ]
     },
     "execution_count": 74,
     "metadata": {},
     "output_type": "execute_result"
    }
   ],
   "source": [
    "news_df['NEWS_BODY_CNTT'].map(news_article_preprocess)[23122]"
   ]
  },
  {
   "cell_type": "code",
   "execution_count": 66,
   "metadata": {
    "ExecuteTime": {
     "end_time": "2021-08-18T14:18:36.613082Z",
     "start_time": "2021-08-18T14:18:36.526316Z"
    }
   },
   "outputs": [
    {
     "data": {
      "text/html": [
       "<div>\n",
       "<style scoped>\n",
       "    .dataframe tbody tr th:only-of-type {\n",
       "        vertical-align: middle;\n",
       "    }\n",
       "\n",
       "    .dataframe tbody tr th {\n",
       "        vertical-align: top;\n",
       "    }\n",
       "\n",
       "    .dataframe thead th {\n",
       "        text-align: right;\n",
       "    }\n",
       "</style>\n",
       "<table border=\"1\" class=\"dataframe\">\n",
       "  <thead>\n",
       "    <tr style=\"text-align: right;\">\n",
       "      <th></th>\n",
       "      <th>dates</th>\n",
       "      <th>content</th>\n",
       "    </tr>\n",
       "  </thead>\n",
       "  <tbody>\n",
       "    <tr>\n",
       "      <th>0</th>\n",
       "      <td>201201</td>\n",
       "      <td>- 매매, 서울 0.05%↓, 신도시 0.02%↓, 수도권 0.02%↓- 전세, 서...</td>\n",
       "    </tr>\n",
       "    <tr>\n",
       "      <th>1</th>\n",
       "      <td>201202</td>\n",
       "      <td>투자분석 보고서분담금 9000만원까지 절감1만 가구가 넘는 대단지로 변모하는 서울...</td>\n",
       "    </tr>\n",
       "    <tr>\n",
       "      <th>2</th>\n",
       "      <td>201203</td>\n",
       "      <td>동영상 뉴스【 앵커멘트 】  김포 한강과 파주 운정, 그리고 인천 송도·청라 지구....</td>\n",
       "    </tr>\n",
       "    <tr>\n",
       "      <th>3</th>\n",
       "      <td>201204</td>\n",
       "      <td>국내 최대 포털 네이버가 오픈마켓 서비스 ‘샵N’의 문을 열고 업계로부터 뭇매를 ...</td>\n",
       "    </tr>\n",
       "    <tr>\n",
       "      <th>4</th>\n",
       "      <td>201205</td>\n",
       "      <td>2008년 금융위기 이후 가격이 크게 내린 아파트 중에서 소액 투자가 가능한 중소형...</td>\n",
       "    </tr>\n",
       "    <tr>\n",
       "      <th>...</th>\n",
       "      <td>...</td>\n",
       "      <td>...</td>\n",
       "    </tr>\n",
       "    <tr>\n",
       "      <th>110</th>\n",
       "      <td>202103</td>\n",
       "      <td>잠실 엘스, 2억 내린 전세매물 등장두달새 25% 증가…서울·경기 비슷“다만 입주 ...</td>\n",
       "    </tr>\n",
       "    <tr>\n",
       "      <th>111</th>\n",
       "      <td>202104</td>\n",
       "      <td>- 대전 하늘채 스카이앤 2차, 5월중 분양일정 순항… 상담 가능한 ‘사전홍보관’ ...</td>\n",
       "    </tr>\n",
       "    <tr>\n",
       "      <th>112</th>\n",
       "      <td>202105</td>\n",
       "      <td>동영상 뉴스서울 아파트값이 재건축 단지를 중심으로 다시 들썩이는 조짐이 나타나자 오...</td>\n",
       "    </tr>\n",
       "    <tr>\n",
       "      <th>113</th>\n",
       "      <td>202106</td>\n",
       "      <td>매년 6월 1일 기준 보유세 부과6월부터 매물잠김 시작되는 이유올해는 양도세 중과까...</td>\n",
       "    </tr>\n",
       "    <tr>\n",
       "      <th>114</th>\n",
       "      <td>202107</td>\n",
       "      <td>- 입주 5년 내 새 아파트 가격 확 뛰어…분양권 억대 웃돈 예사- ‘울산 뉴시티 ...</td>\n",
       "    </tr>\n",
       "  </tbody>\n",
       "</table>\n",
       "<p>115 rows × 2 columns</p>\n",
       "</div>"
      ],
      "text/plain": [
       "      dates                                            content\n",
       "0    201201  - 매매, 서울 0.05%↓, 신도시 0.02%↓, 수도권 0.02%↓- 전세, 서...\n",
       "1    201202   투자분석 보고서분담금 9000만원까지 절감1만 가구가 넘는 대단지로 변모하는 서울...\n",
       "2    201203  동영상 뉴스【 앵커멘트 】  김포 한강과 파주 운정, 그리고 인천 송도·청라 지구....\n",
       "3    201204   국내 최대 포털 네이버가 오픈마켓 서비스 ‘샵N’의 문을 열고 업계로부터 뭇매를 ...\n",
       "4    201205  2008년 금융위기 이후 가격이 크게 내린 아파트 중에서 소액 투자가 가능한 중소형...\n",
       "..      ...                                                ...\n",
       "110  202103  잠실 엘스, 2억 내린 전세매물 등장두달새 25% 증가…서울·경기 비슷“다만 입주 ...\n",
       "111  202104  - 대전 하늘채 스카이앤 2차, 5월중 분양일정 순항… 상담 가능한 ‘사전홍보관’ ...\n",
       "112  202105  동영상 뉴스서울 아파트값이 재건축 단지를 중심으로 다시 들썩이는 조짐이 나타나자 오...\n",
       "113  202106  매년 6월 1일 기준 보유세 부과6월부터 매물잠김 시작되는 이유올해는 양도세 중과까...\n",
       "114  202107  - 입주 5년 내 새 아파트 가격 확 뛰어…분양권 억대 웃돈 예사- ‘울산 뉴시티 ...\n",
       "\n",
       "[115 rows x 2 columns]"
      ]
     },
     "execution_count": 66,
     "metadata": {},
     "output_type": "execute_result"
    }
   ],
   "source": [
    "df_content = pd.concat(list_tmp).reset_index(drop=True)\n",
    "df_content"
   ]
  },
  {
   "cell_type": "code",
   "execution_count": 67,
   "metadata": {
    "ExecuteTime": {
     "end_time": "2021-08-18T14:20:53.453922Z",
     "start_time": "2021-08-18T14:18:57.829685Z"
    }
   },
   "outputs": [],
   "source": [
    "tagger = Mecab()\n",
    "tagger_list = []\n",
    "for roww in df_content.iterrows():\n",
    "    tagged = tagger.nouns(roww[1]['content'])\n",
    "    tagged = [s for s in tagged if len(s) > 1]\n",
    "    tagged_counter = collections.Counter(tagged)\n",
    "    tagged_common  = tagged_counter.most_common(100)\n",
    "    \n",
    "    word_list = []\n",
    "    count_list = []\n",
    "    for word,count in tagged_common:\n",
    "        word_list.append(word)\n",
    "        count_list.append(count)\n",
    "    \n",
    "    tagger_list.append(pd.DataFrame({\n",
    "        'date'  : roww[1]['dates'],\n",
    "        'word'  : word_list,\n",
    "        'count' : count_list\n",
    "    }))"
   ]
  },
  {
   "cell_type": "code",
   "execution_count": 68,
   "metadata": {
    "ExecuteTime": {
     "end_time": "2021-08-18T14:20:58.541006Z",
     "start_time": "2021-08-18T14:20:58.527043Z"
    }
   },
   "outputs": [
    {
     "data": {
      "text/html": [
       "<div>\n",
       "<style scoped>\n",
       "    .dataframe tbody tr th:only-of-type {\n",
       "        vertical-align: middle;\n",
       "    }\n",
       "\n",
       "    .dataframe tbody tr th {\n",
       "        vertical-align: top;\n",
       "    }\n",
       "\n",
       "    .dataframe thead th {\n",
       "        text-align: right;\n",
       "    }\n",
       "</style>\n",
       "<table border=\"1\" class=\"dataframe\">\n",
       "  <thead>\n",
       "    <tr style=\"text-align: right;\">\n",
       "      <th></th>\n",
       "      <th>date</th>\n",
       "      <th>word</th>\n",
       "      <th>count</th>\n",
       "    </tr>\n",
       "  </thead>\n",
       "  <tbody>\n",
       "    <tr>\n",
       "      <th>0</th>\n",
       "      <td>201204</td>\n",
       "      <td>성폭행</td>\n",
       "      <td>1</td>\n",
       "    </tr>\n",
       "    <tr>\n",
       "      <th>1</th>\n",
       "      <td>201204</td>\n",
       "      <td>가담</td>\n",
       "      <td>1</td>\n",
       "    </tr>\n",
       "    <tr>\n",
       "      <th>2</th>\n",
       "      <td>201204</td>\n",
       "      <td>아이돌</td>\n",
       "      <td>1</td>\n",
       "    </tr>\n",
       "    <tr>\n",
       "      <th>3</th>\n",
       "      <td>201204</td>\n",
       "      <td>멤버</td>\n",
       "      <td>1</td>\n",
       "    </tr>\n",
       "    <tr>\n",
       "      <th>4</th>\n",
       "      <td>201204</td>\n",
       "      <td>형사</td>\n",
       "      <td>1</td>\n",
       "    </tr>\n",
       "    <tr>\n",
       "      <th>5</th>\n",
       "      <td>201204</td>\n",
       "      <td>처벌</td>\n",
       "      <td>1</td>\n",
       "    </tr>\n",
       "    <tr>\n",
       "      <th>6</th>\n",
       "      <td>201204</td>\n",
       "      <td>검토</td>\n",
       "      <td>1</td>\n",
       "    </tr>\n",
       "    <tr>\n",
       "      <th>7</th>\n",
       "      <td>201204</td>\n",
       "      <td>이하이</td>\n",
       "      <td>1</td>\n",
       "    </tr>\n",
       "    <tr>\n",
       "      <th>8</th>\n",
       "      <td>201204</td>\n",
       "      <td>박지민</td>\n",
       "      <td>1</td>\n",
       "    </tr>\n",
       "    <tr>\n",
       "      <th>9</th>\n",
       "      <td>201204</td>\n",
       "      <td>백아연</td>\n",
       "      <td>1</td>\n",
       "    </tr>\n",
       "    <tr>\n",
       "      <th>10</th>\n",
       "      <td>201204</td>\n",
       "      <td>공항</td>\n",
       "      <td>1</td>\n",
       "    </tr>\n",
       "    <tr>\n",
       "      <th>11</th>\n",
       "      <td>201204</td>\n",
       "      <td>흡연</td>\n",
       "      <td>1</td>\n",
       "    </tr>\n",
       "    <tr>\n",
       "      <th>12</th>\n",
       "      <td>201204</td>\n",
       "      <td>제지</td>\n",
       "      <td>1</td>\n",
       "    </tr>\n",
       "    <tr>\n",
       "      <th>13</th>\n",
       "      <td>201204</td>\n",
       "      <td>버스커버스커</td>\n",
       "      <td>1</td>\n",
       "    </tr>\n",
       "    <tr>\n",
       "      <th>14</th>\n",
       "      <td>201204</td>\n",
       "      <td>이승기</td>\n",
       "      <td>1</td>\n",
       "    </tr>\n",
       "    <tr>\n",
       "      <th>15</th>\n",
       "      <td>201204</td>\n",
       "      <td>박유천</td>\n",
       "      <td>1</td>\n",
       "    </tr>\n",
       "    <tr>\n",
       "      <th>16</th>\n",
       "      <td>201204</td>\n",
       "      <td>장근석</td>\n",
       "      <td>1</td>\n",
       "    </tr>\n",
       "    <tr>\n",
       "      <th>17</th>\n",
       "      <td>201204</td>\n",
       "      <td>실화</td>\n",
       "      <td>1</td>\n",
       "    </tr>\n",
       "    <tr>\n",
       "      <th>18</th>\n",
       "      <td>201204</td>\n",
       "      <td>도가니</td>\n",
       "      <td>1</td>\n",
       "    </tr>\n",
       "    <tr>\n",
       "      <th>19</th>\n",
       "      <td>201204</td>\n",
       "      <td>대한민국</td>\n",
       "      <td>1</td>\n",
       "    </tr>\n",
       "    <tr>\n",
       "      <th>20</th>\n",
       "      <td>201204</td>\n",
       "      <td>오후</td>\n",
       "      <td>1</td>\n",
       "    </tr>\n",
       "    <tr>\n",
       "      <th>21</th>\n",
       "      <td>201204</td>\n",
       "      <td>유일</td>\n",
       "      <td>1</td>\n",
       "    </tr>\n",
       "    <tr>\n",
       "      <th>22</th>\n",
       "      <td>201204</td>\n",
       "      <td>석간</td>\n",
       "      <td>1</td>\n",
       "    </tr>\n",
       "    <tr>\n",
       "      <th>23</th>\n",
       "      <td>201204</td>\n",
       "      <td>문화일보</td>\n",
       "      <td>1</td>\n",
       "    </tr>\n",
       "    <tr>\n",
       "      <th>24</th>\n",
       "      <td>201204</td>\n",
       "      <td>무단</td>\n",
       "      <td>1</td>\n",
       "    </tr>\n",
       "    <tr>\n",
       "      <th>25</th>\n",
       "      <td>201204</td>\n",
       "      <td>전재</td>\n",
       "      <td>1</td>\n",
       "    </tr>\n",
       "    <tr>\n",
       "      <th>26</th>\n",
       "      <td>201204</td>\n",
       "      <td>배포</td>\n",
       "      <td>1</td>\n",
       "    </tr>\n",
       "    <tr>\n",
       "      <th>27</th>\n",
       "      <td>201204</td>\n",
       "      <td>금지</td>\n",
       "      <td>1</td>\n",
       "    </tr>\n",
       "    <tr>\n",
       "      <th>28</th>\n",
       "      <td>201204</td>\n",
       "      <td>모바일</td>\n",
       "      <td>1</td>\n",
       "    </tr>\n",
       "  </tbody>\n",
       "</table>\n",
       "</div>"
      ],
      "text/plain": [
       "      date    word  count\n",
       "0   201204     성폭행      1\n",
       "1   201204      가담      1\n",
       "2   201204     아이돌      1\n",
       "3   201204      멤버      1\n",
       "4   201204      형사      1\n",
       "5   201204      처벌      1\n",
       "6   201204      검토      1\n",
       "7   201204     이하이      1\n",
       "8   201204     박지민      1\n",
       "9   201204     백아연      1\n",
       "10  201204      공항      1\n",
       "11  201204      흡연      1\n",
       "12  201204      제지      1\n",
       "13  201204  버스커버스커      1\n",
       "14  201204     이승기      1\n",
       "15  201204     박유천      1\n",
       "16  201204     장근석      1\n",
       "17  201204      실화      1\n",
       "18  201204     도가니      1\n",
       "19  201204    대한민국      1\n",
       "20  201204      오후      1\n",
       "21  201204      유일      1\n",
       "22  201204      석간      1\n",
       "23  201204    문화일보      1\n",
       "24  201204      무단      1\n",
       "25  201204      전재      1\n",
       "26  201204      배포      1\n",
       "27  201204      금지      1\n",
       "28  201204     모바일      1"
      ]
     },
     "execution_count": 68,
     "metadata": {},
     "output_type": "execute_result"
    }
   ],
   "source": [
    "tagger_100[tagger_100['date']=='201204']"
   ]
  },
  {
   "cell_type": "code",
   "execution_count": 12,
   "metadata": {
    "ExecuteTime": {
     "end_time": "2021-08-18T13:48:06.289454Z",
     "start_time": "2021-08-18T13:48:06.232522Z"
    }
   },
   "outputs": [],
   "source": [
    "tagger_100 = pd.concat(tagger_list)\n",
    "tagger_100.to_csv(dirr+'wordcount_df_100.csv',index=False,encoding='UTF-8-sig')"
   ]
  },
  {
   "cell_type": "code",
   "execution_count": 118,
   "metadata": {
    "ExecuteTime": {
     "end_time": "2021-08-13T06:48:15.788615Z",
     "start_time": "2021-08-13T06:48:13.598686Z"
    }
   },
   "outputs": [],
   "source": [
    "tagger = Mecab()\n",
    "tagger_list = []\n",
    "for roww in df_content.iterrows():\n",
    "    tagged = tagger.nouns(roww[1]['content'])\n",
    "    tagged = [s for s in tagged if len(s) > 1]\n",
    "    tagged_counter = collections.Counter(tagged)\n",
    "    tagged_common  = tagged_counter.most_common(50)\n",
    "    \n",
    "    word_list = []\n",
    "    count_list = []\n",
    "    for word,count in tagged_common:\n",
    "        word_list.append(word)\n",
    "        count_list.append(count)\n",
    "    \n",
    "    tagger_list.append(pd.DataFrame({\n",
    "        'date'  : roww[1]['dates'],\n",
    "        'word'  : word_list,\n",
    "        'count' : count_list\n",
    "    }))"
   ]
  },
  {
   "cell_type": "code",
   "execution_count": 119,
   "metadata": {
    "ExecuteTime": {
     "end_time": "2021-08-13T06:48:15.819764Z",
     "start_time": "2021-08-13T06:48:15.789645Z"
    }
   },
   "outputs": [],
   "source": [
    "tagger_50 = pd.concat(tagger_list)\n",
    "tagger_50.to_csv(dirr+'wordcount_df_50.csv',index=False,encoding='UTF-8-sig')"
   ]
  },
  {
   "cell_type": "code",
   "execution_count": null,
   "metadata": {},
   "outputs": [],
   "source": []
  }
 ],
 "metadata": {
  "kernelspec": {
   "display_name": "simon_env",
   "language": "python",
   "name": "simon_env"
  },
  "language_info": {
   "codemirror_mode": {
    "name": "ipython",
    "version": 3
   },
   "file_extension": ".py",
   "mimetype": "text/x-python",
   "name": "python",
   "nbconvert_exporter": "python",
   "pygments_lexer": "ipython3",
   "version": "3.8.11"
  },
  "toc": {
   "base_numbering": 1,
   "nav_menu": {},
   "number_sections": true,
   "sideBar": true,
   "skip_h1_title": true,
   "title_cell": "Table of Contents",
   "title_sidebar": "Contents",
   "toc_cell": false,
   "toc_position": {},
   "toc_section_display": true,
   "toc_window_display": false
  },
  "varInspector": {
   "cols": {
    "lenName": 16,
    "lenType": 16,
    "lenVar": 40
   },
   "kernels_config": {
    "python": {
     "delete_cmd_postfix": "",
     "delete_cmd_prefix": "del ",
     "library": "var_list.py",
     "varRefreshCmd": "print(var_dic_list())"
    },
    "r": {
     "delete_cmd_postfix": ") ",
     "delete_cmd_prefix": "rm(",
     "library": "var_list.r",
     "varRefreshCmd": "cat(var_dic_list()) "
    }
   },
   "types_to_exclude": [
    "module",
    "function",
    "builtin_function_or_method",
    "instance",
    "_Feature"
   ],
   "window_display": false
  }
 },
 "nbformat": 4,
 "nbformat_minor": 5
}
