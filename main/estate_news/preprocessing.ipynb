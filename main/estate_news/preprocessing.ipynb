{
 "cells": [
  {
   "cell_type": "code",
   "execution_count": 32,
   "id": "e1e23832",
   "metadata": {
    "ExecuteTime": {
     "end_time": "2021-08-09T05:18:35.575208Z",
     "start_time": "2021-08-09T05:18:35.568198Z"
    }
   },
   "outputs": [],
   "source": [
    "import pandas as pd"
   ]
  },
  {
   "cell_type": "code",
   "execution_count": 33,
   "id": "a231fa41",
   "metadata": {
    "ExecuteTime": {
     "end_time": "2021-08-09T05:18:35.591137Z",
     "start_time": "2021-08-09T05:18:35.576178Z"
    }
   },
   "outputs": [],
   "source": [
    "dirr = 'C:/Users/shic/Desktop/shinhan_simon/google_drive/crawler_data/estate_news/'"
   ]
  },
  {
   "cell_type": "code",
   "execution_count": 34,
   "id": "9c7f61e4",
   "metadata": {
    "ExecuteTime": {
     "end_time": "2021-08-09T05:18:38.869378Z",
     "start_time": "2021-08-09T05:18:35.594129Z"
    }
   },
   "outputs": [],
   "source": [
    "df_a = pd.read_csv(dirr + 'article_df2.csv')\n",
    "df_b = pd.read_csv(dirr + 'article_df_after715.csv')"
   ]
  },
  {
   "cell_type": "code",
   "execution_count": 35,
   "id": "36706bdc",
   "metadata": {
    "ExecuteTime": {
     "end_time": "2021-08-09T05:18:39.117713Z",
     "start_time": "2021-08-09T05:18:38.871372Z"
    }
   },
   "outputs": [],
   "source": [
    "df = pd.concat([df_a,df_b],axis=0)\n",
    "df = df.drop_duplicates().sort_values('write_time')\n",
    "df = df[df['article_title'] != 'no article title']\n",
    "df = df.reset_index(drop=True)"
   ]
  },
  {
   "cell_type": "code",
   "execution_count": 36,
   "id": "797c9f5d",
   "metadata": {
    "ExecuteTime": {
     "end_time": "2021-08-09T05:18:39.133670Z",
     "start_time": "2021-08-09T05:18:39.118710Z"
    }
   },
   "outputs": [
    {
     "data": {
      "text/html": [
       "<div>\n",
       "<style scoped>\n",
       "    .dataframe tbody tr th:only-of-type {\n",
       "        vertical-align: middle;\n",
       "    }\n",
       "\n",
       "    .dataframe tbody tr th {\n",
       "        vertical-align: top;\n",
       "    }\n",
       "\n",
       "    .dataframe thead th {\n",
       "        text-align: right;\n",
       "    }\n",
       "</style>\n",
       "<table border=\"1\" class=\"dataframe\">\n",
       "  <thead>\n",
       "    <tr style=\"text-align: right;\">\n",
       "      <th></th>\n",
       "      <th>article_title</th>\n",
       "      <th>article_content</th>\n",
       "      <th>article_writer</th>\n",
       "      <th>write_time</th>\n",
       "    </tr>\n",
       "  </thead>\n",
       "  <tbody>\n",
       "    <tr>\n",
       "      <th>0</th>\n",
       "      <td>[주간부동산] 매매·전세, 연말연시 맞아 `한산`</td>\n",
       "      <td>- 매매, 서울 0.05%↓, 신도시 0.02%↓, 수도권 0.02%↓- 전세, 서...</td>\n",
       "      <td>이데일리</td>\n",
       "      <td>2012.01.01. 오전 10:34</td>\n",
       "    </tr>\n",
       "    <tr>\n",
       "      <th>1</th>\n",
       "      <td>연말 거래 한산, 매매도 전세도 약세 지속</td>\n",
       "      <td>서울 아파트 값이 2주 연속 하락세다. 2011년 마지막 주 시장은 비수기로 한산했...</td>\n",
       "      <td>조선비즈</td>\n",
       "      <td>2012.01.01. 오전 10:49</td>\n",
       "    </tr>\n",
       "    <tr>\n",
       "      <th>2</th>\n",
       "      <td>2012년 아파트 공급 줄고, 오피스텔 늘고</td>\n",
       "      <td>새해에는 브랜드 아파트 공급은 작년보다 줄고, 대표적인 수익형부동산 상품인 오피스텔...</td>\n",
       "      <td>헤럴드POP</td>\n",
       "      <td>2012.01.01. 오전 8:06</td>\n",
       "    </tr>\n",
       "    <tr>\n",
       "      <th>3</th>\n",
       "      <td>수도권 집 한 채에 지방 아파트 몇 채 산다고?</td>\n",
       "      <td>수도권 아파트 한 채 값에 지방 아파트 여러 채를 산다는 말도 옛말이 됐다. 지방 ...</td>\n",
       "      <td>헤럴드POP</td>\n",
       "      <td>2012.01.01. 오전 8:06</td>\n",
       "    </tr>\n",
       "    <tr>\n",
       "      <th>4</th>\n",
       "      <td>고급빌라 맞수 청담동 vs 한남동…“유엔빌리지(한남동) 살아요” ‘70억 펜트하우스...</td>\n",
       "      <td>한남동 유엔빌리지. / 청담동 마크힐스. TV 드라마 속 부잣집에서 전화를 받는 사...</td>\n",
       "      <td>매경이코노미</td>\n",
       "      <td>2012.01.01. 오전 9:18</td>\n",
       "    </tr>\n",
       "    <tr>\n",
       "      <th>...</th>\n",
       "      <td>...</td>\n",
       "      <td>...</td>\n",
       "      <td>...</td>\n",
       "      <td>...</td>\n",
       "    </tr>\n",
       "    <tr>\n",
       "      <th>45907</th>\n",
       "      <td>[부동산캘린더] 3기 신도시 사전청약 1순위 접수…분양시장 후끈</td>\n",
       "      <td>(서울=연합뉴스) 김동규 기자 = 다음 주에는 3기 신도시 사전청약 1순위 접수를 ...</td>\n",
       "      <td>연합뉴스</td>\n",
       "      <td>2021.07.31. 오전 6:00</td>\n",
       "    </tr>\n",
       "    <tr>\n",
       "      <th>45908</th>\n",
       "      <td>[분양캘린더]8월 첫째 주 1만4368가구 분양…견본주택 3곳 개관</td>\n",
       "      <td>전국 20개 단지…일반분양 1만86가구[서울=뉴시스] 31일 부동산114에 따르면 ...</td>\n",
       "      <td>뉴시스</td>\n",
       "      <td>2021.07.31. 오전 6:00</td>\n",
       "    </tr>\n",
       "    <tr>\n",
       "      <th>45909</th>\n",
       "      <td>올 상반기 청약률 상위 단지는 초등학교 도보 통학권</td>\n",
       "      <td>분양 시장 주 수요층 3040세대, 자녀 교육 우선안전한 통학 환경 선호해올해 상반...</td>\n",
       "      <td>데일리안</td>\n",
       "      <td>2021.07.31. 오전 6:03</td>\n",
       "    </tr>\n",
       "    <tr>\n",
       "      <th>45910</th>\n",
       "      <td>집값에 치이고 전셋값에 또 치이고</td>\n",
       "      <td>[집값 톡톡]전셋값→집값 상승 악순환서울·수도권·지방까지 전셋값 상승 확산집값은 '...</td>\n",
       "      <td>비즈니스워치</td>\n",
       "      <td>2021.07.31. 오전 6:30</td>\n",
       "    </tr>\n",
       "    <tr>\n",
       "      <th>45911</th>\n",
       "      <td>전셋값 폭등에 임대 아파트에 눈길… 호반건설, '호반써밋 그랜드파크 II, IV' 공급</td>\n",
       "      <td>━최장 10년간 거주 가능… 교통, 생활 편의, 쾌적성 두루 갖춘 입지에 합리적인 ...</td>\n",
       "      <td>머니S</td>\n",
       "      <td>2021.07.31. 오전 9:03</td>\n",
       "    </tr>\n",
       "  </tbody>\n",
       "</table>\n",
       "<p>45912 rows × 4 columns</p>\n",
       "</div>"
      ],
      "text/plain": [
       "                                           article_title  \\\n",
       "0                            [주간부동산] 매매·전세, 연말연시 맞아 `한산`   \n",
       "1                                연말 거래 한산, 매매도 전세도 약세 지속   \n",
       "2                               2012년 아파트 공급 줄고, 오피스텔 늘고   \n",
       "3                             수도권 집 한 채에 지방 아파트 몇 채 산다고?   \n",
       "4      고급빌라 맞수 청담동 vs 한남동…“유엔빌리지(한남동) 살아요” ‘70억 펜트하우스...   \n",
       "...                                                  ...   \n",
       "45907                [부동산캘린더] 3기 신도시 사전청약 1순위 접수…분양시장 후끈   \n",
       "45908              [분양캘린더]8월 첫째 주 1만4368가구 분양…견본주택 3곳 개관   \n",
       "45909                       올 상반기 청약률 상위 단지는 초등학교 도보 통학권   \n",
       "45910                                 집값에 치이고 전셋값에 또 치이고   \n",
       "45911   전셋값 폭등에 임대 아파트에 눈길… 호반건설, '호반써밋 그랜드파크 II, IV' 공급   \n",
       "\n",
       "                                         article_content article_writer  \\\n",
       "0      - 매매, 서울 0.05%↓, 신도시 0.02%↓, 수도권 0.02%↓- 전세, 서...           이데일리   \n",
       "1      서울 아파트 값이 2주 연속 하락세다. 2011년 마지막 주 시장은 비수기로 한산했...           조선비즈   \n",
       "2      새해에는 브랜드 아파트 공급은 작년보다 줄고, 대표적인 수익형부동산 상품인 오피스텔...         헤럴드POP   \n",
       "3      수도권 아파트 한 채 값에 지방 아파트 여러 채를 산다는 말도 옛말이 됐다. 지방 ...         헤럴드POP   \n",
       "4      한남동 유엔빌리지. / 청담동 마크힐스. TV 드라마 속 부잣집에서 전화를 받는 사...         매경이코노미   \n",
       "...                                                  ...            ...   \n",
       "45907  (서울=연합뉴스) 김동규 기자 = 다음 주에는 3기 신도시 사전청약 1순위 접수를 ...           연합뉴스   \n",
       "45908  전국 20개 단지…일반분양 1만86가구[서울=뉴시스] 31일 부동산114에 따르면 ...            뉴시스   \n",
       "45909  분양 시장 주 수요층 3040세대, 자녀 교육 우선안전한 통학 환경 선호해올해 상반...           데일리안   \n",
       "45910  [집값 톡톡]전셋값→집값 상승 악순환서울·수도권·지방까지 전셋값 상승 확산집값은 '...         비즈니스워치   \n",
       "45911  ━최장 10년간 거주 가능… 교통, 생활 편의, 쾌적성 두루 갖춘 입지에 합리적인 ...            머니S   \n",
       "\n",
       "                 write_time  \n",
       "0      2012.01.01. 오전 10:34  \n",
       "1      2012.01.01. 오전 10:49  \n",
       "2       2012.01.01. 오전 8:06  \n",
       "3       2012.01.01. 오전 8:06  \n",
       "4       2012.01.01. 오전 9:18  \n",
       "...                     ...  \n",
       "45907   2021.07.31. 오전 6:00  \n",
       "45908   2021.07.31. 오전 6:00  \n",
       "45909   2021.07.31. 오전 6:03  \n",
       "45910   2021.07.31. 오전 6:30  \n",
       "45911   2021.07.31. 오전 9:03  \n",
       "\n",
       "[45912 rows x 4 columns]"
      ]
     },
     "execution_count": 36,
     "metadata": {},
     "output_type": "execute_result"
    }
   ],
   "source": [
    "df"
   ]
  },
  {
   "cell_type": "code",
   "execution_count": 37,
   "id": "88aef41b",
   "metadata": {
    "ExecuteTime": {
     "end_time": "2021-08-09T05:18:39.148631Z",
     "start_time": "2021-08-09T05:18:39.135665Z"
    }
   },
   "outputs": [],
   "source": [
    "df = df[['article_title','write_time','article_writer','article_content']]\n",
    "df.columns = ['NEWS_TITLE_NM','NEWS_WRT_YMD','NEWS_MEDIA_NM','NEWS_BODY_CNTT']"
   ]
  },
  {
   "cell_type": "code",
   "execution_count": 38,
   "id": "9695d58c",
   "metadata": {
    "ExecuteTime": {
     "end_time": "2021-08-09T05:18:39.195506Z",
     "start_time": "2021-08-09T05:18:39.150626Z"
    }
   },
   "outputs": [],
   "source": [
    "df['NEWS_WRT_YMD'] = df['NEWS_WRT_YMD'].str.slice(stop=10)"
   ]
  },
  {
   "cell_type": "code",
   "execution_count": 41,
   "id": "4c818f8d",
   "metadata": {
    "ExecuteTime": {
     "end_time": "2021-08-09T05:19:58.151236Z",
     "start_time": "2021-08-09T05:19:55.195135Z"
    }
   },
   "outputs": [],
   "source": [
    "df.to_csv(dirr + 'RAA_부동산114뉴스기사_유승훈.csv',index=0,encoding='UTF-8-sig')"
   ]
  }
 ],
 "metadata": {
  "kernelspec": {
   "display_name": "simon_env",
   "language": "python",
   "name": "simon_env"
  },
  "language_info": {
   "codemirror_mode": {
    "name": "ipython",
    "version": 3
   },
   "file_extension": ".py",
   "mimetype": "text/x-python",
   "name": "python",
   "nbconvert_exporter": "python",
   "pygments_lexer": "ipython3",
   "version": "3.7.10"
  },
  "varInspector": {
   "cols": {
    "lenName": 16,
    "lenType": 16,
    "lenVar": 40
   },
   "kernels_config": {
    "python": {
     "delete_cmd_postfix": "",
     "delete_cmd_prefix": "del ",
     "library": "var_list.py",
     "varRefreshCmd": "print(var_dic_list())"
    },
    "r": {
     "delete_cmd_postfix": ") ",
     "delete_cmd_prefix": "rm(",
     "library": "var_list.r",
     "varRefreshCmd": "cat(var_dic_list()) "
    }
   },
   "types_to_exclude": [
    "module",
    "function",
    "builtin_function_or_method",
    "instance",
    "_Feature"
   ],
   "window_display": false
  }
 },
 "nbformat": 4,
 "nbformat_minor": 5
}
