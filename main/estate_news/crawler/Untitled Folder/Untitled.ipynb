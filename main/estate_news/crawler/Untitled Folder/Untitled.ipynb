{
 "cells": [
  {
   "cell_type": "code",
   "execution_count": 63,
   "id": "9a093a7c",
   "metadata": {
    "ExecuteTime": {
     "end_time": "2021-08-03T02:11:32.835399Z",
     "start_time": "2021-08-03T02:11:32.819253Z"
    }
   },
   "outputs": [],
   "source": [
    "import requests\n",
    "import pandas as pd\n",
    "import datetime\n",
    "from selenium import webdriver\n",
    "from bs4 import BeautifulSoup\n",
    "import re\n",
    "import time\n",
    "from random import uniform"
   ]
  },
  {
   "cell_type": "code",
   "execution_count": 53,
   "id": "8ee3c8c5",
   "metadata": {
    "ExecuteTime": {
     "end_time": "2021-08-03T01:48:43.974987Z",
     "start_time": "2021-08-03T01:48:43.971026Z"
    }
   },
   "outputs": [],
   "source": [
    "header = {\n",
    "    'User-Agent':'Mozilla/5.0 (Windows NT 10.0; Win64; x64) AppleWebKit/537.36 (KHTML, like Gecko) Chrome/92.0.4515.107 Safari/537.36'\n",
    "}"
   ]
  },
  {
   "cell_type": "code",
   "execution_count": 66,
   "id": "79589e8e",
   "metadata": {
    "ExecuteTime": {
     "end_time": "2021-08-03T02:12:31.383944Z",
     "start_time": "2021-08-03T02:12:30.056452Z"
    }
   },
   "outputs": [],
   "source": [
    "dir_for_shinhan = 'C:/Users/shic/Desktop/shinhan_simon/chromedriver/chromedriver.exe'\n",
    "driver = webdriver.Chrome(dir_for_shinhan)"
   ]
  },
  {
   "cell_type": "code",
   "execution_count": 67,
   "id": "afd51e51",
   "metadata": {
    "ExecuteTime": {
     "end_time": "2021-08-03T02:12:31.430827Z",
     "start_time": "2021-08-03T02:12:31.416855Z"
    }
   },
   "outputs": [],
   "source": [
    "urll = 'https://realestate.daum.net/news/government?page={}'"
   ]
  },
  {
   "cell_type": "code",
   "execution_count": 74,
   "id": "e3b63781",
   "metadata": {
    "ExecuteTime": {
     "end_time": "2021-08-03T02:22:21.682129Z",
     "start_time": "2021-08-03T02:16:45.021887Z"
    }
   },
   "outputs": [],
   "source": [
    "driver = webdriver.Chrome(dir_for_shinhan)\n",
    "\n",
    "urls_list = []\n",
    "for p in range(1,141):\n",
    "    time.sleep(uniform(0,2))\n",
    "    \n",
    "    driver.get(urll.format(p))\n",
    "    \n",
    "    soup = BeautifulSoup(driver.page_source,'html.parser')\n",
    "    link_detect = soup.find_all('a',class_='link_txt')\n",
    "    \n",
    "    time.sleep(uniform(0,2))\n",
    "    \n",
    "    for parsed in link_detect:\n",
    "        urls_list.append(parsed['href'])"
   ]
  },
  {
   "cell_type": "code",
   "execution_count": 75,
   "id": "f858d7d1",
   "metadata": {
    "ExecuteTime": {
     "end_time": "2021-08-03T02:23:30.855041Z",
     "start_time": "2021-08-03T02:23:30.849057Z"
    }
   },
   "outputs": [
    {
     "data": {
      "text/plain": [
       "'/news/detail/government/2816'"
      ]
     },
     "execution_count": 75,
     "metadata": {},
     "output_type": "execute_result"
    }
   ],
   "source": [
    "urls_list[0]"
   ]
  },
  {
   "cell_type": "code",
   "execution_count": 77,
   "id": "3fe1f604",
   "metadata": {
    "ExecuteTime": {
     "end_time": "2021-08-03T02:23:53.946977Z",
     "start_time": "2021-08-03T02:23:53.931650Z"
    }
   },
   "outputs": [
    {
     "data": {
      "text/plain": [
       "'https://realestate.daum.net//news/detail/government/2816'"
      ]
     },
     "execution_count": 77,
     "metadata": {},
     "output_type": "execute_result"
    }
   ],
   "source": [
    "tmpp = 'https://realestate.daum.net/' + urls_list[0]\n",
    "tmpp"
   ]
  },
  {
   "cell_type": "code",
   "execution_count": null,
   "id": "3a584677",
   "metadata": {},
   "outputs": [],
   "source": [
    "h3 class='tit_account'\n",
    "span class=source\n",
    "span class=time\n",
    "div class=wrap_newsbody"
   ]
  },
  {
   "cell_type": "code",
   "execution_count": 78,
   "id": "d12b4cb7",
   "metadata": {
    "ExecuteTime": {
     "end_time": "2021-08-03T02:24:25.579320Z",
     "start_time": "2021-08-03T02:24:25.306682Z"
    }
   },
   "outputs": [],
   "source": [
    "driver.get(tmpp)"
   ]
  },
  {
   "cell_type": "code",
   "execution_count": 79,
   "id": "a848998e",
   "metadata": {
    "ExecuteTime": {
     "end_time": "2021-08-03T02:24:44.952020Z",
     "start_time": "2021-08-03T02:24:44.911075Z"
    }
   },
   "outputs": [],
   "source": [
    "pp = BeautifulSoup(driver.page_source,'html.parser')"
   ]
  },
  {
   "cell_type": "code",
   "execution_count": 81,
   "id": "4d86712d",
   "metadata": {
    "ExecuteTime": {
     "end_time": "2021-08-03T02:25:18.621218Z",
     "start_time": "2021-08-03T02:25:18.601585Z"
    }
   },
   "outputs": [
    {
     "data": {
      "text/plain": [
       "'경기북부에 33만호 공급 … 남양주왕숙, 고양창릉 등 신도시 17만호'"
      ]
     },
     "execution_count": 81,
     "metadata": {},
     "output_type": "execute_result"
    }
   ],
   "source": [
    "pp.find('h3',class_='tit_account').text"
   ]
  },
  {
   "cell_type": "code",
   "execution_count": 82,
   "id": "0948b4df",
   "metadata": {
    "ExecuteTime": {
     "end_time": "2021-08-03T02:25:35.594810Z",
     "start_time": "2021-08-03T02:25:35.588826Z"
    }
   },
   "outputs": [
    {
     "data": {
      "text/plain": [
       "'국토교통부'"
      ]
     },
     "execution_count": 82,
     "metadata": {},
     "output_type": "execute_result"
    }
   ],
   "source": [
    "pp.find('span',class_='source').text"
   ]
  },
  {
   "cell_type": "code",
   "execution_count": 83,
   "id": "db14f6a7",
   "metadata": {
    "ExecuteTime": {
     "end_time": "2021-08-03T02:25:45.842309Z",
     "start_time": "2021-08-03T02:25:45.830341Z"
    }
   },
   "outputs": [
    {
     "data": {
      "text/plain": [
       "'2020-09-02'"
      ]
     },
     "execution_count": 83,
     "metadata": {},
     "output_type": "execute_result"
    }
   ],
   "source": [
    "pp.find('span',class_='time').text"
   ]
  },
  {
   "cell_type": "code",
   "execution_count": 85,
   "id": "ed543365",
   "metadata": {
    "ExecuteTime": {
     "end_time": "2021-08-03T02:26:12.544262Z",
     "start_time": "2021-08-03T02:26:12.525313Z"
    }
   },
   "outputs": [
    {
     "data": {
      "text/plain": [
       "'\\n                        \\n                            경기북부에 33만호 공급 … 남양주왕숙, 고양창릉 등 신도시 17만호\\n\\n\\n① 공공택지 84만, 정비사업 39만, 제도개선 4만호 등 수도권 127만호 공급(8.4)\\n② 서울에 36만 신규주택, 공공택지는 강남6만ㆍ강북5만으로 균형공급(8.13)\\n③ 강남3구 연접지역(성남ㆍ과천ㆍ하남) 7.8만 등 경기남부ㆍ인천에 58만 공급(8.25)\\n④ 경기북부에 33만호 공급, 신도시 등 대규모택지에 17만호(9.2)\\n\\n\\n국토교통부(장관 김현미)는 실수요자 주거안정을 위해 경기도에 75만 6천호, 서울시에 36만 4천호, 인천시에 15만 1천호 등 127만호 신규주택*을 올해부터 순차적으로 청약(입주자모집)한다고 밝혔다.\\n\\n* (사업유형) 공공택지 84만호, 정비사업 39만호, 제도개선 등 기타 4만호\\n\\n\\n이중 남양주, 고양, 파주, 양주, 구리 등 경기북부에 33만호를 공급할 계획이며, 공공택지*를 통해 27만호, 정비사업**을 통해 6만호를 공급한다.\\n\\n* 입지선정 또는 지구지정이 완료되어 ‘20년 이후 입주자모집(공급 기준시점)이 예정된 부지\\n** 사업시행인가를 받아 ‘20년 이후 입주자 모집(공급 기준 시점)이 예정된 기존사업장\\n\\n\\n(주요 공공택지 입지) 입지가 확정된 공공택지의 경우 남양주시(10만 3천), 고양시(6만 7천), 양주시(3만 5천), 파주시(3만 6천), 구리시(7천) 등에 총 27만호를 공급한다.\\n\\n남양주시는 왕숙(6.6만호), 양정역세권(1.4만호), 진접2(1.0만호), 다산지금·진건(1.0만호) 등에 10만 3천호를 공급한다.\\n\\n왕숙지구는 GTX-B 신설역사 주변을 도시첨단산단으로 지정하여 수도권 동북부 경제중심도시로 조성하고, 왕숙2지구는 창작·전시·공연·창업교육 기능이 융합된 청년문화예술도시로 조성한다.\\n\\n고양시는 창릉(3.8만호), 장항(1.3만호), 방송영상밸리(0.4만호), 지축(0.3만호), 탄현(0.3만호) 등에 6만 7천호를 공급한다.\\n\\n창릉지구는 창릉천을 중심으로 주변과 같이 상생하는 자족도시로 계획하고, 고양선과 BRT가 연결되는 지구 중앙에 중심복합지구를 배치하여 창릉지구의 랜드마크로 조성한다.\\n\\n양주시는 양주회천(1.8만호), 양주광석(0.8만호), 양주옥정(0.8만호) 등에 3만 5천호, 파주시는 파주운정(3.3만호) 등에 3만 6천호를 공급한다.\\n\\n이밖에도, 구리갈매역세권(0.6만호), 의정부우정(0.4만호), 김포마송(0.4만호), 김포양곡(0.2만호) 등 구리·의정부·김포 등에 균형있게 공급한다.\\n\\n(공공택지 공급일정) 경기북부권 공공택지 입주자 모집은 올해 3만 9천호를 시작으로 ‘21년 2만 7천호, ’22년 3만 2천호가 계획되어 있다.\\n\\n올해 공급되는 입지는 파주운정3ㆍ양주회천ㆍ다산지금ㆍ양주옥정ㆍ김포마송ㆍ고양삼송ㆍ고양지축ㆍ남양주별내 등이 있고, ‘21년에 공급되는 입지는 파주운정3ㆍ남양주진접2ㆍ구리갈매역세권 등이 있다.\\n\\n(3기신도시 홈페이지) 국토교통부는 3기 신도시 홈페이지(www.3기신도시.kr)를 개설하여 남양주ㆍ창릉 등 주요지구에 대한 개발구상, 교통대책 등 정보를 제공하고 있으며, ‘청약일정 알리미’를 통해 청약 3~4개월 전 문자메시지로 관심지구에 대한 청약일정을 알려주는 서비스를 제공하고 있다.\\n\\n국토교통부는 공공택지기획과 김승범 과장은 “수도권 127만호를 적기에 공급하고, 전문가·지자체·주민들의 의견을 최대한 수렴하여 3기 신도시 등이 내실 있게 추진될 수 있도록 최선을 다할 것”이라고 밝혔다.\\n                        \\n                        \\n                    '"
      ]
     },
     "execution_count": 85,
     "metadata": {},
     "output_type": "execute_result"
    }
   ],
   "source": [
    "pp.find('div',class_='wrap_newsbody').text"
   ]
  },
  {
   "cell_type": "code",
   "execution_count": 86,
   "id": "5d6e86b8",
   "metadata": {
    "ExecuteTime": {
     "end_time": "2021-08-03T02:34:06.648421Z",
     "start_time": "2021-08-03T02:27:34.783174Z"
    }
   },
   "outputs": [],
   "source": [
    "tmpp = []\n",
    "for one_url in urls_list:\n",
    "    driver.get('https://realestate.daum.net/' + one_url)\n",
    "    \n",
    "    pp = BeautifulSoup(driver.page_source,'html.parser')\n",
    "    \n",
    "    tmpp.append([\n",
    "        pp.find('h3',class_='tit_account').text,\n",
    "        pp.find('span',class_='source').text,\n",
    "        pp.find('span',class_='time').text,\n",
    "        pp.find('div',class_='wrap_newsbody').text\n",
    "    ])\n",
    "    \n",
    "    "
   ]
  },
  {
   "cell_type": "code",
   "execution_count": 91,
   "id": "dbb18062",
   "metadata": {
    "ExecuteTime": {
     "end_time": "2021-08-03T04:42:51.588473Z",
     "start_time": "2021-08-03T04:42:51.582489Z"
    }
   },
   "outputs": [],
   "source": [
    "df = pd.DataFrame(tmpp)\n",
    "df.columns = ['title','writer','date','content']"
   ]
  },
  {
   "cell_type": "code",
   "execution_count": 100,
   "id": "8208d12b",
   "metadata": {
    "ExecuteTime": {
     "end_time": "2021-08-03T04:47:25.612145Z",
     "start_time": "2021-08-03T04:47:25.603157Z"
    }
   },
   "outputs": [
    {
     "data": {
      "text/plain": [
       "'                                                    경기북부에 33만호 공급 … 남양주왕숙, 고양창릉 등 신도시 17만호① 공공택지 84만, 정비사업 39만, 제도개선 4만호 등 수도권 127만호 공급(8.4)② 서울에 36만 신규주택, 공공택지는 강남6만ㆍ강북5만으로 균형공급(8.13)③ 강남3구 연접지역(성남ㆍ과천ㆍ하남) 7.8만 등 경기남부ㆍ인천에 58만 공급(8.25)④ 경기북부에 33만호 공급, 신도시 등 대규모택지에 17만호(9.2)국토교통부(장관 김현미)는 실수요자 주거안정을 위해 경기도에 75만 6천호, 서울시에 36만 4천호, 인천시에 15만 1천호 등 127만호 신규주택*을 올해부터 순차적으로 청약(입주자모집)한다고 밝혔다.* (사업유형) 공공택지 84만호, 정비사업 39만호, 제도개선 등 기타 4만호이중 남양주, 고양, 파주, 양주, 구리 등 경기북부에 33만호를 공급할 계획이며, 공공택지*를 통해 27만호, 정비사업**을 통해 6만호를 공급한다.* 입지선정 또는 지구지정이 완료되어 ‘20년 이후 입주자모집(공급 기준시점)이 예정된 부지** 사업시행인가를 받아 ‘20년 이후 입주자 모집(공급 기준 시점)이 예정된 기존사업장(주요 공공택지 입지) 입지가 확정된 공공택지의 경우 남양주시(10만 3천), 고양시(6만 7천), 양주시(3만 5천), 파주시(3만 6천), 구리시(7천) 등에 총 27만호를 공급한다.남양주시는 왕숙(6.6만호), 양정역세권(1.4만호), 진접2(1.0만호), 다산지금·진건(1.0만호) 등에 10만 3천호를 공급한다.왕숙지구는 GTX-B 신설역사 주변을 도시첨단산단으로 지정하여 수도권 동북부 경제중심도시로 조성하고, 왕숙2지구는 창작·전시·공연·창업교육 기능이 융합된 청년문화예술도시로 조성한다.고양시는 창릉(3.8만호), 장항(1.3만호), 방송영상밸리(0.4만호), 지축(0.3만호), 탄현(0.3만호) 등에 6만 7천호를 공급한다.창릉지구는 창릉천을 중심으로 주변과 같이 상생하는 자족도시로 계획하고, 고양선과 BRT가 연결되는 지구 중앙에 중심복합지구를 배치하여 창릉지구의 랜드마크로 조성한다.양주시는 양주회천(1.8만호), 양주광석(0.8만호), 양주옥정(0.8만호) 등에 3만 5천호, 파주시는 파주운정(3.3만호) 등에 3만 6천호를 공급한다.이밖에도, 구리갈매역세권(0.6만호), 의정부우정(0.4만호), 김포마송(0.4만호), 김포양곡(0.2만호) 등 구리·의정부·김포 등에 균형있게 공급한다.(공공택지 공급일정) 경기북부권 공공택지 입주자 모집은 올해 3만 9천호를 시작으로 ‘21년 2만 7천호, ’22년 3만 2천호가 계획되어 있다.올해 공급되는 입지는 파주운정3ㆍ양주회천ㆍ다산지금ㆍ양주옥정ㆍ김포마송ㆍ고양삼송ㆍ고양지축ㆍ남양주별내 등이 있고, ‘21년에 공급되는 입지는 파주운정3ㆍ남양주진접2ㆍ구리갈매역세권 등이 있다.(3기신도시 홈페이지) 국토교통부는 3기 신도시 홈페이지(www.3기신도시.kr)를 개설하여 남양주ㆍ창릉 등 주요지구에 대한 개발구상, 교통대책 등 정보를 제공하고 있으며, ‘청약일정 알리미’를 통해 청약 3~4개월 전 문자메시지로 관심지구에 대한 청약일정을 알려주는 서비스를 제공하고 있다.국토교통부는 공공택지기획과 김승범 과장은 “수도권 127만호를 적기에 공급하고, 전문가·지자체·주민들의 의견을 최대한 수렴하여 3기 신도시 등이 내실 있게 추진될 수 있도록 최선을 다할 것”이라고 밝혔다.                                                                    '"
      ]
     },
     "execution_count": 100,
     "metadata": {},
     "output_type": "execute_result"
    }
   ],
   "source": [
    "df['content'][0].replace('\\n','').replace(r' {2,}')"
   ]
  },
  {
   "cell_type": "code",
   "execution_count": 95,
   "id": "be435782",
   "metadata": {
    "ExecuteTime": {
     "end_time": "2021-08-03T04:44:47.266382Z",
     "start_time": "2021-08-03T04:44:47.061073Z"
    }
   },
   "outputs": [],
   "source": [
    "len_list = []\n",
    "for dd in df.iterrows():\n",
    "    len_list.append(len(dd[1]['content'].replace('\\n','')))"
   ]
  },
  {
   "cell_type": "code",
   "execution_count": 98,
   "id": "e2624d2c",
   "metadata": {
    "ExecuteTime": {
     "end_time": "2021-08-03T04:45:06.090744Z",
     "start_time": "2021-08-03T04:45:06.082766Z"
    }
   },
   "outputs": [
    {
     "data": {
      "text/plain": [
       "9765"
      ]
     },
     "execution_count": 98,
     "metadata": {},
     "output_type": "execute_result"
    }
   ],
   "source": [
    "np.max(len_list)"
   ]
  },
  {
   "cell_type": "code",
   "execution_count": 102,
   "id": "0e45f44b",
   "metadata": {
    "ExecuteTime": {
     "end_time": "2021-08-03T07:21:50.100610Z",
     "start_time": "2021-08-03T07:21:49.996625Z"
    }
   },
   "outputs": [],
   "source": [
    "df.to_csv('C:/Users/shic/Desktop/shinhan_simon/google_drive/crawler_data/estate_news/daum_estate_article.csv',index=0)"
   ]
  },
  {
   "cell_type": "code",
   "execution_count": null,
   "id": "fd99fdb0",
   "metadata": {},
   "outputs": [],
   "source": []
  }
 ],
 "metadata": {
  "kernelspec": {
   "display_name": "simon_env",
   "language": "python",
   "name": "simon_env"
  },
  "language_info": {
   "codemirror_mode": {
    "name": "ipython",
    "version": 3
   },
   "file_extension": ".py",
   "mimetype": "text/x-python",
   "name": "python",
   "nbconvert_exporter": "python",
   "pygments_lexer": "ipython3",
   "version": "3.7.10"
  },
  "varInspector": {
   "cols": {
    "lenName": 16,
    "lenType": 16,
    "lenVar": 40
   },
   "kernels_config": {
    "python": {
     "delete_cmd_postfix": "",
     "delete_cmd_prefix": "del ",
     "library": "var_list.py",
     "varRefreshCmd": "print(var_dic_list())"
    },
    "r": {
     "delete_cmd_postfix": ") ",
     "delete_cmd_prefix": "rm(",
     "library": "var_list.r",
     "varRefreshCmd": "cat(var_dic_list()) "
    }
   },
   "types_to_exclude": [
    "module",
    "function",
    "builtin_function_or_method",
    "instance",
    "_Feature"
   ],
   "window_display": false
  }
 },
 "nbformat": 4,
 "nbformat_minor": 5
}
