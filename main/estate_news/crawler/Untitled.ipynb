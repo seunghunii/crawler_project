{
 "cells": [
  {
   "cell_type": "code",
   "execution_count": 22,
   "metadata": {
    "ExecuteTime": {
     "end_time": "2021-08-08T09:02:40.397576Z",
     "start_time": "2021-08-08T09:02:40.380621Z"
    }
   },
   "outputs": [],
   "source": [
    "import pandas as pd\n",
    "import requests\n",
    "from bs4 import BeautifulSoup\n",
    "import re"
   ]
  },
  {
   "cell_type": "code",
   "execution_count": 2,
   "metadata": {
    "ExecuteTime": {
     "end_time": "2021-08-08T08:54:49.935011Z",
     "start_time": "2021-08-08T08:54:49.918026Z"
    }
   },
   "outputs": [],
   "source": [
    "dirr = 'C:/Users/rsh15/Google Drive/crawler_data/estate_news'"
   ]
  },
  {
   "cell_type": "code",
   "execution_count": 11,
   "metadata": {
    "ExecuteTime": {
     "end_time": "2021-08-08T08:59:13.093935Z",
     "start_time": "2021-08-08T08:59:13.084884Z"
    }
   },
   "outputs": [],
   "source": [
    "header = {\n",
    "    'User-Agent':'Mozilla/5.0 (Windows NT 10.0; Win64; x64) AppleWebKit/537.36 (KHTML, like Gecko) Chrome/92.0.4515.131 Safari/537.36'\n",
    "}"
   ]
  },
  {
   "cell_type": "code",
   "execution_count": 5,
   "metadata": {
    "ExecuteTime": {
     "end_time": "2021-08-08T08:55:31.118258Z",
     "start_time": "2021-08-08T08:55:30.981623Z"
    }
   },
   "outputs": [
    {
     "data": {
      "text/html": [
       "<div>\n",
       "<style scoped>\n",
       "    .dataframe tbody tr th:only-of-type {\n",
       "        vertical-align: middle;\n",
       "    }\n",
       "\n",
       "    .dataframe tbody tr th {\n",
       "        vertical-align: top;\n",
       "    }\n",
       "\n",
       "    .dataframe thead th {\n",
       "        text-align: right;\n",
       "    }\n",
       "</style>\n",
       "<table border=\"1\" class=\"dataframe\">\n",
       "  <thead>\n",
       "    <tr style=\"text-align: right;\">\n",
       "      <th></th>\n",
       "      <th>links</th>\n",
       "    </tr>\n",
       "  </thead>\n",
       "  <tbody>\n",
       "    <tr>\n",
       "      <th>0</th>\n",
       "      <td>https://news.naver.com/main/read.nhn?mode=LSD&amp;...</td>\n",
       "    </tr>\n",
       "    <tr>\n",
       "      <th>1</th>\n",
       "      <td>https://news.naver.com/main/read.nhn?mode=LSD&amp;...</td>\n",
       "    </tr>\n",
       "    <tr>\n",
       "      <th>2</th>\n",
       "      <td>https://news.naver.com/main/read.nhn?mode=LSD&amp;...</td>\n",
       "    </tr>\n",
       "    <tr>\n",
       "      <th>3</th>\n",
       "      <td>https://news.naver.com/main/read.nhn?mode=LSD&amp;...</td>\n",
       "    </tr>\n",
       "    <tr>\n",
       "      <th>4</th>\n",
       "      <td>https://news.naver.com/main/read.nhn?mode=LSD&amp;...</td>\n",
       "    </tr>\n",
       "    <tr>\n",
       "      <th>...</th>\n",
       "      <td>...</td>\n",
       "    </tr>\n",
       "    <tr>\n",
       "      <th>54252</th>\n",
       "      <td>https://news.naver.com/main/read.nhn?mode=LSD&amp;...</td>\n",
       "    </tr>\n",
       "    <tr>\n",
       "      <th>54253</th>\n",
       "      <td>https://news.naver.com/main/read.nhn?mode=LSD&amp;...</td>\n",
       "    </tr>\n",
       "    <tr>\n",
       "      <th>54254</th>\n",
       "      <td>https://news.naver.com/main/read.nhn?mode=LSD&amp;...</td>\n",
       "    </tr>\n",
       "    <tr>\n",
       "      <th>54255</th>\n",
       "      <td>https://news.naver.com/main/read.nhn?mode=LSD&amp;...</td>\n",
       "    </tr>\n",
       "    <tr>\n",
       "      <th>54256</th>\n",
       "      <td>https://news.naver.com/main/read.nhn?mode=LSD&amp;...</td>\n",
       "    </tr>\n",
       "  </tbody>\n",
       "</table>\n",
       "<p>54257 rows × 1 columns</p>\n",
       "</div>"
      ],
      "text/plain": [
       "                                                   links\n",
       "0      https://news.naver.com/main/read.nhn?mode=LSD&...\n",
       "1      https://news.naver.com/main/read.nhn?mode=LSD&...\n",
       "2      https://news.naver.com/main/read.nhn?mode=LSD&...\n",
       "3      https://news.naver.com/main/read.nhn?mode=LSD&...\n",
       "4      https://news.naver.com/main/read.nhn?mode=LSD&...\n",
       "...                                                  ...\n",
       "54252  https://news.naver.com/main/read.nhn?mode=LSD&...\n",
       "54253  https://news.naver.com/main/read.nhn?mode=LSD&...\n",
       "54254  https://news.naver.com/main/read.nhn?mode=LSD&...\n",
       "54255  https://news.naver.com/main/read.nhn?mode=LSD&...\n",
       "54256  https://news.naver.com/main/read.nhn?mode=LSD&...\n",
       "\n",
       "[54257 rows x 1 columns]"
      ]
     },
     "execution_count": 5,
     "metadata": {},
     "output_type": "execute_result"
    }
   ],
   "source": [
    "a = pd.read_csv(dirr + '/article_links.csv')\n",
    "a"
   ]
  },
  {
   "cell_type": "code",
   "execution_count": 16,
   "metadata": {
    "ExecuteTime": {
     "end_time": "2021-08-08T09:01:59.648284Z",
     "start_time": "2021-08-08T09:01:59.637313Z"
    }
   },
   "outputs": [
    {
     "data": {
      "text/plain": [
       "'https://news.naver.com/main/read.nhn?mode=LSD&mid=sec&sid1=101&oid=421&aid=0005476756'"
      ]
     },
     "execution_count": 16,
     "metadata": {},
     "output_type": "execute_result"
    }
   ],
   "source": [
    "tmp_url = a['links'][10]\n",
    "tmp_url"
   ]
  },
  {
   "cell_type": "code",
   "execution_count": 19,
   "metadata": {
    "ExecuteTime": {
     "end_time": "2021-08-08T09:02:25.837474Z",
     "start_time": "2021-08-08T09:02:25.564679Z"
    }
   },
   "outputs": [],
   "source": [
    "reqq = requests.get(tmp_url,headers=header)\n",
    "soup = BeautifulSoup(reqq.text,'html.parser')"
   ]
  },
  {
   "cell_type": "code",
   "execution_count": 36,
   "metadata": {
    "ExecuteTime": {
     "end_time": "2021-08-08T09:42:04.429747Z",
     "start_time": "2021-08-08T09:42:04.420771Z"
    }
   },
   "outputs": [
    {
     "data": {
      "text/plain": [
       "'뉴스1'"
      ]
     },
     "execution_count": 36,
     "metadata": {},
     "output_type": "execute_result"
    }
   ],
   "source": [
    "soup.find('div',class_='press_logo').find('img',src=re.compile('.png$'))['title']"
   ]
  },
  {
   "cell_type": "code",
   "execution_count": 42,
   "metadata": {
    "ExecuteTime": {
     "end_time": "2021-08-08T09:45:36.923208Z",
     "start_time": "2021-08-08T09:45:36.901267Z"
    }
   },
   "outputs": [
    {
     "data": {
      "text/plain": [
       "False"
      ]
     },
     "execution_count": 42,
     "metadata": {},
     "output_type": "execute_result"
    }
   ],
   "source": [
    "soup.find_all('div',class_='press_logo') == []"
   ]
  },
  {
   "cell_type": "code",
   "execution_count": 56,
   "metadata": {
    "ExecuteTime": {
     "end_time": "2021-08-08T10:20:02.750374Z",
     "start_time": "2021-08-08T10:20:02.698512Z"
    }
   },
   "outputs": [
    {
     "data": {
      "text/html": [
       "<div>\n",
       "<style scoped>\n",
       "    .dataframe tbody tr th:only-of-type {\n",
       "        vertical-align: middle;\n",
       "    }\n",
       "\n",
       "    .dataframe tbody tr th {\n",
       "        vertical-align: top;\n",
       "    }\n",
       "\n",
       "    .dataframe thead th {\n",
       "        text-align: right;\n",
       "    }\n",
       "</style>\n",
       "<table border=\"1\" class=\"dataframe\">\n",
       "  <thead>\n",
       "    <tr style=\"text-align: right;\">\n",
       "      <th></th>\n",
       "      <th>article_title</th>\n",
       "      <th>article_content</th>\n",
       "      <th>article_writer</th>\n",
       "      <th>write_time</th>\n",
       "    </tr>\n",
       "  </thead>\n",
       "  <tbody>\n",
       "    <tr>\n",
       "      <th>0</th>\n",
       "      <td>사전청약 관심 '후끈'…3기신도시 홈페이지 방문자 500만명 돌파</td>\n",
       "      <td>알리미 서비스 신청자도 50만 코 앞, 관심 높아져 16일 입주자 모집 공고, 28...</td>\n",
       "      <td>뉴시스</td>\n",
       "      <td>2021.07.14. 오후 1:40</td>\n",
       "    </tr>\n",
       "    <tr>\n",
       "      <th>1</th>\n",
       "      <td>수도권, 연이은 집값 상승…합리적 가격 갖춘 주거 단지는?</td>\n",
       "      <td>상반기 수도권 상승률 19년만에 최고치…'패닉바잉’에 교통 호재가 집값 견인합리적인...</td>\n",
       "      <td>뉴스1</td>\n",
       "      <td>2021.07.14. 오후 1:50</td>\n",
       "    </tr>\n",
       "    <tr>\n",
       "      <th>2</th>\n",
       "      <td>'청약난민'에···경기도 올 벌써 52만명 몰렸다</td>\n",
       "      <td>서울 공급 절벽에 청약급증상반기 평균 경쟁률 32대1파주 등 외곽도 고가점당첨 가점...</td>\n",
       "      <td>서울경제</td>\n",
       "      <td>2021.07.14. 오후 5:25</td>\n",
       "    </tr>\n",
       "    <tr>\n",
       "      <th>3</th>\n",
       "      <td>부담스러운 서울 집값…주택도 ‘소형‘이 뜬다</td>\n",
       "      <td>서울 집값 1년 13%상승, 평균 10억 돌파…수요자 부담 늘어가 현대건설, 힐스테...</td>\n",
       "      <td>한국경제</td>\n",
       "      <td>2021.07.14. 오전 11:11</td>\n",
       "    </tr>\n",
       "    <tr>\n",
       "      <th>4</th>\n",
       "      <td>서울 노후 아파트값 상승률, 신축의 2배 … \"재건축 규제의 역설\"</td>\n",
       "      <td>서울 강남구 압구정 현대아파트 모습. 뉴스1           재건축을 앞둔 노...</td>\n",
       "      <td>중앙일보</td>\n",
       "      <td>2021.07.14. 오후 4:19</td>\n",
       "    </tr>\n",
       "    <tr>\n",
       "      <th>...</th>\n",
       "      <td>...</td>\n",
       "      <td>...</td>\n",
       "      <td>...</td>\n",
       "      <td>...</td>\n",
       "    </tr>\n",
       "    <tr>\n",
       "      <th>95</th>\n",
       "      <td>여전히 싸다?…서울 중저가 소형 아파트서 2030 '패닉 바잉' 조짐</td>\n",
       "      <td>매물 품귀 현상에 '대기자 리스트'까지 등장\"나아질 여지 안 보여…지금이라도 매수\"...</td>\n",
       "      <td>뉴스1</td>\n",
       "      <td>2021.07.08. 오전 5:00</td>\n",
       "    </tr>\n",
       "    <tr>\n",
       "      <th>96</th>\n",
       "      <td>정부만 '전세난 곧 안정'···'호텔전세' 악몽 잊었나 [집슐랭]</td>\n",
       "      <td>새 임대차법 시행 후 정부 \"전세시장 안정\" 전망이후 시장 난리나자 부랴부랴 전세대...</td>\n",
       "      <td>서울경제</td>\n",
       "      <td>2021.07.08. 오전 6:31</td>\n",
       "    </tr>\n",
       "    <tr>\n",
       "      <th>97</th>\n",
       "      <td>서울-의정부 힘겨루기…도봉면허시험장 이전은 언제?</td>\n",
       "      <td>지난해 3월 이전 기본협약 체결500억 지원금 합의했으나 지급시기 이견사업 지연 가...</td>\n",
       "      <td>이데일리</td>\n",
       "      <td>2021.07.08. 오후 4:25</td>\n",
       "    </tr>\n",
       "    <tr>\n",
       "      <th>98</th>\n",
       "      <td>정부의 서울 아파트 입주물량 그때 그때 달라요</td>\n",
       "      <td>4.1만→4.2만→4.3만→4.2만 가구  입주물량 전망치 정책 신뢰도 문제  물량...</td>\n",
       "      <td>국민일보</td>\n",
       "      <td>2021.07.08. 오전 4:09</td>\n",
       "    </tr>\n",
       "    <tr>\n",
       "      <th>99</th>\n",
       "      <td>영구 오션뷰 확보 '시화MTV 웨이브엠'…특화 커뮤니티 조성</td>\n",
       "      <td>코로나19 기조가 장기화되면서 부동산 시장에서 조망권을 갖춘 부동산 상품에 대한 관...</td>\n",
       "      <td>조세일보</td>\n",
       "      <td>2021.07.08. 오후 12:02</td>\n",
       "    </tr>\n",
       "  </tbody>\n",
       "</table>\n",
       "<p>100 rows × 4 columns</p>\n",
       "</div>"
      ],
      "text/plain": [
       "                             article_title  \\\n",
       "0     사전청약 관심 '후끈'…3기신도시 홈페이지 방문자 500만명 돌파   \n",
       "1         수도권, 연이은 집값 상승…합리적 가격 갖춘 주거 단지는?   \n",
       "2              '청약난민'에···경기도 올 벌써 52만명 몰렸다   \n",
       "3                 부담스러운 서울 집값…주택도 ‘소형‘이 뜬다   \n",
       "4    서울 노후 아파트값 상승률, 신축의 2배 … \"재건축 규제의 역설\"   \n",
       "..                                     ...   \n",
       "95  여전히 싸다?…서울 중저가 소형 아파트서 2030 '패닉 바잉' 조짐   \n",
       "96    정부만 '전세난 곧 안정'···'호텔전세' 악몽 잊었나 [집슐랭]   \n",
       "97             서울-의정부 힘겨루기…도봉면허시험장 이전은 언제?   \n",
       "98               정부의 서울 아파트 입주물량 그때 그때 달라요   \n",
       "99       영구 오션뷰 확보 '시화MTV 웨이브엠'…특화 커뮤니티 조성   \n",
       "\n",
       "                                      article_content article_writer  \\\n",
       "0   알리미 서비스 신청자도 50만 코 앞, 관심 높아져 16일 입주자 모집 공고, 28...            뉴시스   \n",
       "1   상반기 수도권 상승률 19년만에 최고치…'패닉바잉’에 교통 호재가 집값 견인합리적인...            뉴스1   \n",
       "2   서울 공급 절벽에 청약급증상반기 평균 경쟁률 32대1파주 등 외곽도 고가점당첨 가점...           서울경제   \n",
       "3   서울 집값 1년 13%상승, 평균 10억 돌파…수요자 부담 늘어가 현대건설, 힐스테...           한국경제   \n",
       "4     서울 강남구 압구정 현대아파트 모습. 뉴스1           재건축을 앞둔 노...           중앙일보   \n",
       "..                                                ...            ...   \n",
       "95  매물 품귀 현상에 '대기자 리스트'까지 등장\"나아질 여지 안 보여…지금이라도 매수\"...            뉴스1   \n",
       "96  새 임대차법 시행 후 정부 \"전세시장 안정\" 전망이후 시장 난리나자 부랴부랴 전세대...           서울경제   \n",
       "97  지난해 3월 이전 기본협약 체결500억 지원금 합의했으나 지급시기 이견사업 지연 가...           이데일리   \n",
       "98  4.1만→4.2만→4.3만→4.2만 가구  입주물량 전망치 정책 신뢰도 문제  물량...           국민일보   \n",
       "99  코로나19 기조가 장기화되면서 부동산 시장에서 조망권을 갖춘 부동산 상품에 대한 관...           조세일보   \n",
       "\n",
       "              write_time  \n",
       "0    2021.07.14. 오후 1:40  \n",
       "1    2021.07.14. 오후 1:50  \n",
       "2    2021.07.14. 오후 5:25  \n",
       "3   2021.07.14. 오전 11:11  \n",
       "4    2021.07.14. 오후 4:19  \n",
       "..                   ...  \n",
       "95   2021.07.08. 오전 5:00  \n",
       "96   2021.07.08. 오전 6:31  \n",
       "97   2021.07.08. 오후 4:25  \n",
       "98   2021.07.08. 오전 4:09  \n",
       "99  2021.07.08. 오후 12:02  \n",
       "\n",
       "[100 rows x 4 columns]"
      ]
     },
     "execution_count": 56,
     "metadata": {},
     "output_type": "execute_result"
    }
   ],
   "source": [
    "b = pd.read_csv(dirr + '/article_df2.csv')\n",
    "b"
   ]
  },
  {
   "cell_type": "code",
   "execution_count": 54,
   "metadata": {
    "ExecuteTime": {
     "end_time": "2021-08-08T10:17:34.142963Z",
     "start_time": "2021-08-08T10:17:34.126007Z"
    }
   },
   "outputs": [
    {
     "data": {
      "text/plain": [
       "'\\n\\n\\n\\n\\n조망권 갖춘 부동산 상품, 분양시장서 인기 끌며 웃돈까지 붙어© 뉴스1(서울=뉴스1) 서영도 기자 = 코로나19 기조가 장기화되면서 부동산 시장에서 조망권을 갖춘 부동산 상품이 인기를 끌고 있다. 강, 숲, 바다를 내려다볼 수 있는 부동산 상품은 쾌적성이 보장된 것은 물론, 희소성까지 더해져 인기가 더욱 높아지고 있는 것이다.실제로 바다, 강, 산 등과 인접한 지역은 집값 상승도 꾸준한 것으로 나타났다. 부동산114 자료에 따르면, 한강변에 위치한 서울 광진구 자양동은 지난 2013년도부터 아파트값이 계속해서 상승하고 있다. 자양동의 연도별 3.3㎡당 평균 매매가는 지난 2020년 3476만원으로, 지난 2013년도 1590만원 대비 두 배 이상 올랐다. 이는 물가 변동에 따른 기본적인 가격 상승을 고려해도 상당한 수치다.아파트뿐만 아니라 수익형 부동산 시장 역시 마찬가지다. 지난해 6월 부산 해운대구에 공급된 생활형 숙박시설 ‘빌리브 패러그라프 해운대’의 전용 98㎡ 24층과 전용 159㎡ 33층은 각각 웃돈이 약 2억5000만원, 약 7억(2021.06.22 네이버 매물 기준)가량 올랐다. 해운대 앞 바다를 고층에서 조망 가능해 쾌적한 생활환경을 누릴 수 있는 만큼 1년여 만에 프리미엄이 빠르게 붙었다.마찬가지로 2019년 부산시에 위치한 기장군에서 공급된 ‘오시리아스위첸마티에’의 전용 74.28㎡는 네이버 매물 기준(2021.06.30) 7억2910만원에 올라와 초기 분양가 4억3150만원 대비 3억원 가까이 올랐다. 이 단지 역시 바다 바로 앞에 위치해 수변 조망이 가능해(일부 세대) 인기를 끌었다.부동산 관계자는 “조망권을 갖춘 부동산 상품들의 인기가 꾸준한 가운데, 코로나19 기조의 장기화로 조망권의 가치가 한층 더 높아졌다”며, “바다, 강 등 자연경관을 내려다볼 수 있는 부동산 상품은 쾌적성이 보장되며 희소성까지 누릴 수 있어 프리미엄도 빠르게 붙는 추세”라고 전했다.조망권을 갖춘 부동산 상품의 인기가 뜨거운 가운데, 시화MTV 거북섬에 들어서 시화호와 서해바다를 영구 조망이 가능한 ‘시화MTV 웨이브엠(WAVE M)’이 분양 중으로 관심이 모인다.특히 이 단지는 해양레저도시에 들어서는 만큼 오션프런트의 입지를 그대로 누릴 수 있는 설계를 적용해 눈길을 끈다. 우선 화려한 내부 구성을 자랑한다. 이스트(3BL)에는 고층에서 오션뷰가 가능한 스카이브리지와 인피니티풀이 합쳐진 스카이 인피니티풀이 조성되며, 내부 7층에는 프라이빗 객실 수영장을 만들어 독립적인 단독공간에서 미니 인피니티풀을 즐길 수 있다. 이 외에도 피트니스 센터, 스크린 골프장, 미니시네마룸, 사우나 시설, 플레이 키즈파크 등의 부대시설도 조성된다.웨스트(2-1BL)에는 서해바다를 향해 있는 인피니티풀과 피트니스 시설이 들어설 예정으로 바다와 일몰을 바라보며 수영 등 운동과 휴식을 즐길 수 있다. 또한 야외에는 수변 루프탑을 조성하며 부대 시설로는 스크린 골프장, 미니시네마룸 등이 적용되며 시화호가 한눈에 들어오는 조망 설계를 극대화했다.이 단지는 생활형 숙박시설의 본래 목적에 맞춰 호텔로 운영될 예정이다. 업계에 따르면 생활형숙박시설의 수익률은 운영에 달려 있다고 보는 만큼, 다수의 호텔 운영 경험과 흑자 운영으로 안정적인 수익을 제공하고 있는 전문업체 ‘이비즈네트웍스’가 호텔을 운영할 계획이다.한편, 시화MTV 웨이브엠(WAVE M)의 홍보관은 사업지 인근 경기 시흥시 거북섬길과 서울 강남구 도곡로 두 곳에 마련돼 있다.\\n\\t\\n'"
      ]
     },
     "execution_count": 54,
     "metadata": {},
     "output_type": "execute_result"
    }
   ],
   "source": [
    "b['article_content'][10].replace('\\n|\\t|\\r','')"
   ]
  },
  {
   "cell_type": "code",
   "execution_count": 55,
   "metadata": {
    "ExecuteTime": {
     "end_time": "2021-08-08T10:17:57.423040Z",
     "start_time": "2021-08-08T10:17:57.413065Z"
    }
   },
   "outputs": [
    {
     "data": {
      "text/plain": [
       "'조망권 갖춘 부동산 상품, 분양시장서 인기 끌며 웃돈까지 붙어© 뉴스1(서울=뉴스1) 서영도 기자 = 코로나19 기조가 장기화되면서 부동산 시장에서 조망권을 갖춘 부동산 상품이 인기를 끌고 있다. 강, 숲, 바다를 내려다볼 수 있는 부동산 상품은 쾌적성이 보장된 것은 물론, 희소성까지 더해져 인기가 더욱 높아지고 있는 것이다.실제로 바다, 강, 산 등과 인접한 지역은 집값 상승도 꾸준한 것으로 나타났다. 부동산114 자료에 따르면, 한강변에 위치한 서울 광진구 자양동은 지난 2013년도부터 아파트값이 계속해서 상승하고 있다. 자양동의 연도별 3.3㎡당 평균 매매가는 지난 2020년 3476만원으로, 지난 2013년도 1590만원 대비 두 배 이상 올랐다. 이는 물가 변동에 따른 기본적인 가격 상승을 고려해도 상당한 수치다.아파트뿐만 아니라 수익형 부동산 시장 역시 마찬가지다. 지난해 6월 부산 해운대구에 공급된 생활형 숙박시설 ‘빌리브 패러그라프 해운대’의 전용 98㎡ 24층과 전용 159㎡ 33층은 각각 웃돈이 약 2억5000만원, 약 7억(2021.06.22 네이버 매물 기준)가량 올랐다. 해운대 앞 바다를 고층에서 조망 가능해 쾌적한 생활환경을 누릴 수 있는 만큼 1년여 만에 프리미엄이 빠르게 붙었다.마찬가지로 2019년 부산시에 위치한 기장군에서 공급된 ‘오시리아스위첸마티에’의 전용 74.28㎡는 네이버 매물 기준(2021.06.30) 7억2910만원에 올라와 초기 분양가 4억3150만원 대비 3억원 가까이 올랐다. 이 단지 역시 바다 바로 앞에 위치해 수변 조망이 가능해(일부 세대) 인기를 끌었다.부동산 관계자는 “조망권을 갖춘 부동산 상품들의 인기가 꾸준한 가운데, 코로나19 기조의 장기화로 조망권의 가치가 한층 더 높아졌다”며, “바다, 강 등 자연경관을 내려다볼 수 있는 부동산 상품은 쾌적성이 보장되며 희소성까지 누릴 수 있어 프리미엄도 빠르게 붙는 추세”라고 전했다.조망권을 갖춘 부동산 상품의 인기가 뜨거운 가운데, 시화MTV 거북섬에 들어서 시화호와 서해바다를 영구 조망이 가능한 ‘시화MTV 웨이브엠(WAVE M)’이 분양 중으로 관심이 모인다.특히 이 단지는 해양레저도시에 들어서는 만큼 오션프런트의 입지를 그대로 누릴 수 있는 설계를 적용해 눈길을 끈다. 우선 화려한 내부 구성을 자랑한다. 이스트(3BL)에는 고층에서 오션뷰가 가능한 스카이브리지와 인피니티풀이 합쳐진 스카이 인피니티풀이 조성되며, 내부 7층에는 프라이빗 객실 수영장을 만들어 독립적인 단독공간에서 미니 인피니티풀을 즐길 수 있다. 이 외에도 피트니스 센터, 스크린 골프장, 미니시네마룸, 사우나 시설, 플레이 키즈파크 등의 부대시설도 조성된다.웨스트(2-1BL)에는 서해바다를 향해 있는 인피니티풀과 피트니스 시설이 들어설 예정으로 바다와 일몰을 바라보며 수영 등 운동과 휴식을 즐길 수 있다. 또한 야외에는 수변 루프탑을 조성하며 부대 시설로는 스크린 골프장, 미니시네마룸 등이 적용되며 시화호가 한눈에 들어오는 조망 설계를 극대화했다.이 단지는 생활형 숙박시설의 본래 목적에 맞춰 호텔로 운영될 예정이다. 업계에 따르면 생활형숙박시설의 수익률은 운영에 달려 있다고 보는 만큼, 다수의 호텔 운영 경험과 흑자 운영으로 안정적인 수익을 제공하고 있는 전문업체 ‘이비즈네트웍스’가 호텔을 운영할 계획이다.한편, 시화MTV 웨이브엠(WAVE M)의 홍보관은 사업지 인근 경기 시흥시 거북섬길과 서울 강남구 도곡로 두 곳에 마련돼 있다.'"
      ]
     },
     "execution_count": 55,
     "metadata": {},
     "output_type": "execute_result"
    }
   ],
   "source": [
    "re.sub('\\n|\\t|\\r','',b['article_content'][10])"
   ]
  },
  {
   "cell_type": "code",
   "execution_count": null,
   "metadata": {},
   "outputs": [],
   "source": []
  }
 ],
 "metadata": {
  "kernelspec": {
   "display_name": "simon_env",
   "language": "python",
   "name": "simon_env"
  },
  "language_info": {
   "codemirror_mode": {
    "name": "ipython",
    "version": 3
   },
   "file_extension": ".py",
   "mimetype": "text/x-python",
   "name": "python",
   "nbconvert_exporter": "python",
   "pygments_lexer": "ipython3",
   "version": "3.8.8"
  },
  "toc": {
   "base_numbering": 1,
   "nav_menu": {},
   "number_sections": true,
   "sideBar": true,
   "skip_h1_title": true,
   "title_cell": "Table of Contents",
   "title_sidebar": "Contents",
   "toc_cell": false,
   "toc_position": {},
   "toc_section_display": true,
   "toc_window_display": false
  },
  "varInspector": {
   "cols": {
    "lenName": 16,
    "lenType": 16,
    "lenVar": 40
   },
   "kernels_config": {
    "python": {
     "delete_cmd_postfix": "",
     "delete_cmd_prefix": "del ",
     "library": "var_list.py",
     "varRefreshCmd": "print(var_dic_list())"
    },
    "r": {
     "delete_cmd_postfix": ") ",
     "delete_cmd_prefix": "rm(",
     "library": "var_list.r",
     "varRefreshCmd": "cat(var_dic_list()) "
    }
   },
   "types_to_exclude": [
    "module",
    "function",
    "builtin_function_or_method",
    "instance",
    "_Feature"
   ],
   "window_display": false
  }
 },
 "nbformat": 4,
 "nbformat_minor": 4
}
