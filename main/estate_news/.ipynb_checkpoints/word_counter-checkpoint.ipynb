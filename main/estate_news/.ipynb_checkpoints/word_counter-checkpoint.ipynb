{
 "cells": [
  {
   "cell_type": "code",
   "execution_count": 109,
   "id": "ab0c59f9",
   "metadata": {
    "ExecuteTime": {
     "end_time": "2021-08-13T06:48:08.258967Z",
     "start_time": "2021-08-13T06:48:08.242984Z"
    }
   },
   "outputs": [],
   "source": [
    "import pandas as pd\n",
    "import re\n",
    "from eunjeon import Mecab\n",
    "import collections"
   ]
  },
  {
   "cell_type": "code",
   "execution_count": 110,
   "id": "2e20be63",
   "metadata": {
    "ExecuteTime": {
     "end_time": "2021-08-13T06:48:08.274900Z",
     "start_time": "2021-08-13T06:48:08.259939Z"
    }
   },
   "outputs": [],
   "source": [
    "dirr = 'C:/Users/shic/Desktop/shinhan_simon/google_drive/crawler_data/estate_news/'"
   ]
  },
  {
   "cell_type": "code",
   "execution_count": 111,
   "id": "649564ad",
   "metadata": {
    "ExecuteTime": {
     "end_time": "2021-08-13T06:48:10.616677Z",
     "start_time": "2021-08-13T06:48:08.275897Z"
    }
   },
   "outputs": [],
   "source": [
    "news_df = pd.read_csv(dirr+'RAA_부동산114뉴스기사_유승훈.csv')\n",
    "news_df = news_df.dropna()"
   ]
  },
  {
   "cell_type": "code",
   "execution_count": 112,
   "id": "fcb6c791",
   "metadata": {
    "ExecuteTime": {
     "end_time": "2021-08-13T06:48:10.664524Z",
     "start_time": "2021-08-13T06:48:10.617633Z"
    }
   },
   "outputs": [
    {
     "name": "stderr",
     "output_type": "stream",
     "text": [
      "C:\\Users\\shic\\anaconda3\\envs\\simon_env\\lib\\site-packages\\ipykernel_launcher.py:1: FutureWarning: The default value of regex will change from True to False in a future version. In addition, single character regular expressions will*not* be treated as literal strings when regex=True.\n",
      "  \"\"\"Entry point for launching an IPython kernel.\n"
     ]
    },
    {
     "data": {
      "text/html": [
       "<div>\n",
       "<style scoped>\n",
       "    .dataframe tbody tr th:only-of-type {\n",
       "        vertical-align: middle;\n",
       "    }\n",
       "\n",
       "    .dataframe tbody tr th {\n",
       "        vertical-align: top;\n",
       "    }\n",
       "\n",
       "    .dataframe thead th {\n",
       "        text-align: right;\n",
       "    }\n",
       "</style>\n",
       "<table border=\"1\" class=\"dataframe\">\n",
       "  <thead>\n",
       "    <tr style=\"text-align: right;\">\n",
       "      <th></th>\n",
       "      <th>NEWS_TITLE_NM</th>\n",
       "      <th>NEWS_WRT_YMD</th>\n",
       "      <th>NEWS_MEDIA_NM</th>\n",
       "      <th>NEWS_BODY_CNTT</th>\n",
       "      <th>yearmonth</th>\n",
       "    </tr>\n",
       "  </thead>\n",
       "  <tbody>\n",
       "    <tr>\n",
       "      <th>0</th>\n",
       "      <td>[주간부동산] 매매·전세, 연말연시 맞아 `한산`</td>\n",
       "      <td>2012.01.01</td>\n",
       "      <td>이데일리</td>\n",
       "      <td>- 매매, 서울 0.05%↓, 신도시 0.02%↓, 수도권 0.02%↓- 전세, 서...</td>\n",
       "      <td>201201</td>\n",
       "    </tr>\n",
       "    <tr>\n",
       "      <th>1</th>\n",
       "      <td>연말 거래 한산, 매매도 전세도 약세 지속</td>\n",
       "      <td>2012.01.01</td>\n",
       "      <td>조선비즈</td>\n",
       "      <td>서울 아파트 값이 2주 연속 하락세다. 2011년 마지막 주 시장은 비수기로 한산했...</td>\n",
       "      <td>201201</td>\n",
       "    </tr>\n",
       "    <tr>\n",
       "      <th>2</th>\n",
       "      <td>2012년 아파트 공급 줄고, 오피스텔 늘고</td>\n",
       "      <td>2012.01.01</td>\n",
       "      <td>헤럴드POP</td>\n",
       "      <td>새해에는 브랜드 아파트 공급은 작년보다 줄고, 대표적인 수익형부동산 상품인 오피스텔...</td>\n",
       "      <td>201201</td>\n",
       "    </tr>\n",
       "    <tr>\n",
       "      <th>3</th>\n",
       "      <td>수도권 집 한 채에 지방 아파트 몇 채 산다고?</td>\n",
       "      <td>2012.01.01</td>\n",
       "      <td>헤럴드POP</td>\n",
       "      <td>수도권 아파트 한 채 값에 지방 아파트 여러 채를 산다는 말도 옛말이 됐다. 지방 ...</td>\n",
       "      <td>201201</td>\n",
       "    </tr>\n",
       "    <tr>\n",
       "      <th>4</th>\n",
       "      <td>고급빌라 맞수 청담동 vs 한남동…“유엔빌리지(한남동) 살아요” ‘70억 펜트하우스...</td>\n",
       "      <td>2012.01.01</td>\n",
       "      <td>매경이코노미</td>\n",
       "      <td>한남동 유엔빌리지. / 청담동 마크힐스. TV 드라마 속 부잣집에서 전화를 받는 사...</td>\n",
       "      <td>201201</td>\n",
       "    </tr>\n",
       "    <tr>\n",
       "      <th>...</th>\n",
       "      <td>...</td>\n",
       "      <td>...</td>\n",
       "      <td>...</td>\n",
       "      <td>...</td>\n",
       "      <td>...</td>\n",
       "    </tr>\n",
       "    <tr>\n",
       "      <th>45907</th>\n",
       "      <td>[부동산캘린더] 3기 신도시 사전청약 1순위 접수…분양시장 후끈</td>\n",
       "      <td>2021.07.31</td>\n",
       "      <td>연합뉴스</td>\n",
       "      <td>(서울=연합뉴스) 김동규 기자 = 다음 주에는 3기 신도시 사전청약 1순위 접수를 ...</td>\n",
       "      <td>202107</td>\n",
       "    </tr>\n",
       "    <tr>\n",
       "      <th>45908</th>\n",
       "      <td>[분양캘린더]8월 첫째 주 1만4368가구 분양…견본주택 3곳 개관</td>\n",
       "      <td>2021.07.31</td>\n",
       "      <td>뉴시스</td>\n",
       "      <td>전국 20개 단지…일반분양 1만86가구[서울=뉴시스] 31일 부동산114에 따르면 ...</td>\n",
       "      <td>202107</td>\n",
       "    </tr>\n",
       "    <tr>\n",
       "      <th>45909</th>\n",
       "      <td>올 상반기 청약률 상위 단지는 초등학교 도보 통학권</td>\n",
       "      <td>2021.07.31</td>\n",
       "      <td>데일리안</td>\n",
       "      <td>분양 시장 주 수요층 3040세대, 자녀 교육 우선안전한 통학 환경 선호해올해 상반...</td>\n",
       "      <td>202107</td>\n",
       "    </tr>\n",
       "    <tr>\n",
       "      <th>45910</th>\n",
       "      <td>집값에 치이고 전셋값에 또 치이고</td>\n",
       "      <td>2021.07.31</td>\n",
       "      <td>비즈니스워치</td>\n",
       "      <td>[집값 톡톡]전셋값→집값 상승 악순환서울·수도권·지방까지 전셋값 상승 확산집값은 '...</td>\n",
       "      <td>202107</td>\n",
       "    </tr>\n",
       "    <tr>\n",
       "      <th>45911</th>\n",
       "      <td>전셋값 폭등에 임대 아파트에 눈길… 호반건설, '호반써밋 그랜드파크 II, IV' 공급</td>\n",
       "      <td>2021.07.31</td>\n",
       "      <td>머니S</td>\n",
       "      <td>━최장 10년간 거주 가능… 교통, 생활 편의, 쾌적성 두루 갖춘 입지에 합리적인 ...</td>\n",
       "      <td>202107</td>\n",
       "    </tr>\n",
       "  </tbody>\n",
       "</table>\n",
       "<p>45845 rows × 5 columns</p>\n",
       "</div>"
      ],
      "text/plain": [
       "                                           NEWS_TITLE_NM NEWS_WRT_YMD  \\\n",
       "0                            [주간부동산] 매매·전세, 연말연시 맞아 `한산`   2012.01.01   \n",
       "1                                연말 거래 한산, 매매도 전세도 약세 지속   2012.01.01   \n",
       "2                               2012년 아파트 공급 줄고, 오피스텔 늘고   2012.01.01   \n",
       "3                             수도권 집 한 채에 지방 아파트 몇 채 산다고?   2012.01.01   \n",
       "4      고급빌라 맞수 청담동 vs 한남동…“유엔빌리지(한남동) 살아요” ‘70억 펜트하우스...   2012.01.01   \n",
       "...                                                  ...          ...   \n",
       "45907                [부동산캘린더] 3기 신도시 사전청약 1순위 접수…분양시장 후끈   2021.07.31   \n",
       "45908              [분양캘린더]8월 첫째 주 1만4368가구 분양…견본주택 3곳 개관   2021.07.31   \n",
       "45909                       올 상반기 청약률 상위 단지는 초등학교 도보 통학권   2021.07.31   \n",
       "45910                                 집값에 치이고 전셋값에 또 치이고   2021.07.31   \n",
       "45911   전셋값 폭등에 임대 아파트에 눈길… 호반건설, '호반써밋 그랜드파크 II, IV' 공급   2021.07.31   \n",
       "\n",
       "      NEWS_MEDIA_NM                                     NEWS_BODY_CNTT  \\\n",
       "0              이데일리  - 매매, 서울 0.05%↓, 신도시 0.02%↓, 수도권 0.02%↓- 전세, 서...   \n",
       "1              조선비즈  서울 아파트 값이 2주 연속 하락세다. 2011년 마지막 주 시장은 비수기로 한산했...   \n",
       "2            헤럴드POP  새해에는 브랜드 아파트 공급은 작년보다 줄고, 대표적인 수익형부동산 상품인 오피스텔...   \n",
       "3            헤럴드POP  수도권 아파트 한 채 값에 지방 아파트 여러 채를 산다는 말도 옛말이 됐다. 지방 ...   \n",
       "4            매경이코노미  한남동 유엔빌리지. / 청담동 마크힐스. TV 드라마 속 부잣집에서 전화를 받는 사...   \n",
       "...             ...                                                ...   \n",
       "45907          연합뉴스  (서울=연합뉴스) 김동규 기자 = 다음 주에는 3기 신도시 사전청약 1순위 접수를 ...   \n",
       "45908           뉴시스  전국 20개 단지…일반분양 1만86가구[서울=뉴시스] 31일 부동산114에 따르면 ...   \n",
       "45909          데일리안  분양 시장 주 수요층 3040세대, 자녀 교육 우선안전한 통학 환경 선호해올해 상반...   \n",
       "45910        비즈니스워치  [집값 톡톡]전셋값→집값 상승 악순환서울·수도권·지방까지 전셋값 상승 확산집값은 '...   \n",
       "45911           머니S  ━최장 10년간 거주 가능… 교통, 생활 편의, 쾌적성 두루 갖춘 입지에 합리적인 ...   \n",
       "\n",
       "      yearmonth  \n",
       "0        201201  \n",
       "1        201201  \n",
       "2        201201  \n",
       "3        201201  \n",
       "4        201201  \n",
       "...         ...  \n",
       "45907    202107  \n",
       "45908    202107  \n",
       "45909    202107  \n",
       "45910    202107  \n",
       "45911    202107  \n",
       "\n",
       "[45845 rows x 5 columns]"
      ]
     },
     "execution_count": 112,
     "metadata": {},
     "output_type": "execute_result"
    }
   ],
   "source": [
    "news_df['yearmonth'] = news_df['NEWS_WRT_YMD'].str.slice(stop=7).str.replace('.','')\n",
    "news_df"
   ]
  },
  {
   "cell_type": "code",
   "execution_count": 113,
   "id": "bfca2479",
   "metadata": {
    "ExecuteTime": {
     "end_time": "2021-08-13T06:48:10.679232Z",
     "start_time": "2021-08-13T06:48:10.665257Z"
    }
   },
   "outputs": [],
   "source": [
    "dates = news_df['yearmonth'].unique().tolist()"
   ]
  },
  {
   "cell_type": "code",
   "execution_count": 114,
   "id": "6695c56c",
   "metadata": {
    "ExecuteTime": {
     "end_time": "2021-08-13T06:48:11.337817Z",
     "start_time": "2021-08-13T06:48:10.680231Z"
    }
   },
   "outputs": [],
   "source": [
    "list_tmp = []\n",
    "for dd in dates:\n",
    "    # empty dictionary\n",
    "    dict_tmp = {}\n",
    "    \n",
    "    # select data by date\n",
    "    df_tmp = news_df[news_df['yearmonth']==dd]\n",
    "    \n",
    "    dict_tmp['dates'] = dd\n",
    "    content_txt = ' '.join(df_tmp['NEWS_BODY_CNTT'])\n",
    "    content_txt = re.sub('\\([^)]*\\)','',content_txt)\n",
    "    content_txt = re.sub('\\[[^)]*\\]','',content_txt)\n",
    "    content_txt = re.sub('\\<[^)]*\\>','',content_txt)\n",
    "    content_txt = content_txt.replace('부동산114','')\n",
    "    dict_tmp['content'] = content_txt\n",
    "    \n",
    "    list_tmp.append(pd.DataFrame(dict_tmp,index=[0]))"
   ]
  },
  {
   "cell_type": "code",
   "execution_count": 115,
   "id": "04cfe8c2",
   "metadata": {
    "ExecuteTime": {
     "end_time": "2021-08-13T06:48:11.368958Z",
     "start_time": "2021-08-13T06:48:11.338815Z"
    }
   },
   "outputs": [
    {
     "data": {
      "text/html": [
       "<div>\n",
       "<style scoped>\n",
       "    .dataframe tbody tr th:only-of-type {\n",
       "        vertical-align: middle;\n",
       "    }\n",
       "\n",
       "    .dataframe tbody tr th {\n",
       "        vertical-align: top;\n",
       "    }\n",
       "\n",
       "    .dataframe thead th {\n",
       "        text-align: right;\n",
       "    }\n",
       "</style>\n",
       "<table border=\"1\" class=\"dataframe\">\n",
       "  <thead>\n",
       "    <tr style=\"text-align: right;\">\n",
       "      <th></th>\n",
       "      <th>dates</th>\n",
       "      <th>content</th>\n",
       "    </tr>\n",
       "  </thead>\n",
       "  <tbody>\n",
       "    <tr>\n",
       "      <th>0</th>\n",
       "      <td>201201</td>\n",
       "      <td>- 매매, 서울 0.05%↓, 신도시 0.02%↓, 수도권 0.02%↓- 전세, 서...</td>\n",
       "    </tr>\n",
       "    <tr>\n",
       "      <th>1</th>\n",
       "      <td>201202</td>\n",
       "      <td>투자분석 보고서분담금 9000만원까지 절감1만 가구가 넘는 대단지로 변모하는 서울...</td>\n",
       "    </tr>\n",
       "    <tr>\n",
       "      <th>2</th>\n",
       "      <td>201203</td>\n",
       "      <td>동영상 뉴스【 앵커멘트 】  김포 한강과 파주 운정, 그리고 인천 송도·청라 지구....</td>\n",
       "    </tr>\n",
       "    <tr>\n",
       "      <th>3</th>\n",
       "      <td>201204</td>\n",
       "      <td>▶ 성폭행 가담 男아이돌 멤버 형사처벌 검토▶ ‘K팝’ 이하이·박지민·백아연 3女만...</td>\n",
       "    </tr>\n",
       "    <tr>\n",
       "      <th>4</th>\n",
       "      <td>201205</td>\n",
       "      <td>▶ 히로뽕 먹인 여성 실신… ‘엉큼男’ 성추행 미수▶ 이번엔 ‘나체女’… ‘막가는’...</td>\n",
       "    </tr>\n",
       "    <tr>\n",
       "      <th>...</th>\n",
       "      <td>...</td>\n",
       "      <td>...</td>\n",
       "    </tr>\n",
       "    <tr>\n",
       "      <th>110</th>\n",
       "      <td>202103</td>\n",
       "      <td>잠실 엘스, 2억 내린 전세매물 등장두달새 25% 증가…서울·경기 비슷“다만 입주 ...</td>\n",
       "    </tr>\n",
       "    <tr>\n",
       "      <th>111</th>\n",
       "      <td>202104</td>\n",
       "      <td>- 대전 하늘채 스카이앤 2차, 5월중 분양일정 순항… 상담 가능한 ‘사전홍보관’ ...</td>\n",
       "    </tr>\n",
       "    <tr>\n",
       "      <th>112</th>\n",
       "      <td>202105</td>\n",
       "      <td>동영상 뉴스[Copyrightⓒmunhwa.com '대한민국 오후를 여는 유일석간 ...</td>\n",
       "    </tr>\n",
       "    <tr>\n",
       "      <th>113</th>\n",
       "      <td>202106</td>\n",
       "      <td>매년 6월 1일 기준 보유세 부과6월부터 매물잠김 시작되는 이유올해는 양도세 중과까...</td>\n",
       "    </tr>\n",
       "    <tr>\n",
       "      <th>114</th>\n",
       "      <td>202107</td>\n",
       "      <td>- 입주 5년 내 새 아파트 가격 확 뛰어…분양권 억대 웃돈 예사- ‘울산 뉴시티 ...</td>\n",
       "    </tr>\n",
       "  </tbody>\n",
       "</table>\n",
       "<p>115 rows × 2 columns</p>\n",
       "</div>"
      ],
      "text/plain": [
       "      dates                                            content\n",
       "0    201201  - 매매, 서울 0.05%↓, 신도시 0.02%↓, 수도권 0.02%↓- 전세, 서...\n",
       "1    201202   투자분석 보고서분담금 9000만원까지 절감1만 가구가 넘는 대단지로 변모하는 서울...\n",
       "2    201203  동영상 뉴스【 앵커멘트 】  김포 한강과 파주 운정, 그리고 인천 송도·청라 지구....\n",
       "3    201204  ▶ 성폭행 가담 男아이돌 멤버 형사처벌 검토▶ ‘K팝’ 이하이·박지민·백아연 3女만...\n",
       "4    201205  ▶ 히로뽕 먹인 여성 실신… ‘엉큼男’ 성추행 미수▶ 이번엔 ‘나체女’… ‘막가는’...\n",
       "..      ...                                                ...\n",
       "110  202103  잠실 엘스, 2억 내린 전세매물 등장두달새 25% 증가…서울·경기 비슷“다만 입주 ...\n",
       "111  202104  - 대전 하늘채 스카이앤 2차, 5월중 분양일정 순항… 상담 가능한 ‘사전홍보관’ ...\n",
       "112  202105  동영상 뉴스[Copyrightⓒmunhwa.com '대한민국 오후를 여는 유일석간 ...\n",
       "113  202106  매년 6월 1일 기준 보유세 부과6월부터 매물잠김 시작되는 이유올해는 양도세 중과까...\n",
       "114  202107  - 입주 5년 내 새 아파트 가격 확 뛰어…분양권 억대 웃돈 예사- ‘울산 뉴시티 ...\n",
       "\n",
       "[115 rows x 2 columns]"
      ]
     },
     "execution_count": 115,
     "metadata": {},
     "output_type": "execute_result"
    }
   ],
   "source": [
    "df_content = pd.concat(list_tmp).reset_index(drop=True)\n",
    "df_content"
   ]
  },
  {
   "cell_type": "code",
   "execution_count": 116,
   "id": "595d62f4",
   "metadata": {
    "ExecuteTime": {
     "end_time": "2021-08-13T06:48:13.550950Z",
     "start_time": "2021-08-13T06:48:11.370865Z"
    }
   },
   "outputs": [],
   "source": [
    "tagger = Mecab()\n",
    "tagger_list = []\n",
    "for roww in df_content.iterrows():\n",
    "    tagged = tagger.nouns(roww[1]['content'])\n",
    "    tagged = [s for s in tagged if len(s) > 1]\n",
    "    tagged_counter = collections.Counter(tagged)\n",
    "    tagged_common  = tagged_counter.most_common(100)\n",
    "    \n",
    "    word_list = []\n",
    "    count_list = []\n",
    "    for word,count in tagged_common:\n",
    "        word_list.append(word)\n",
    "        count_list.append(count)\n",
    "    \n",
    "    tagger_list.append(pd.DataFrame({\n",
    "        'date'  : roww[1]['dates'],\n",
    "        'word'  : word_list,\n",
    "        'count' : count_list\n",
    "    }))"
   ]
  },
  {
   "cell_type": "code",
   "execution_count": 117,
   "id": "07dc2eba",
   "metadata": {
    "ExecuteTime": {
     "end_time": "2021-08-13T06:48:13.597689Z",
     "start_time": "2021-08-13T06:48:13.551949Z"
    }
   },
   "outputs": [],
   "source": [
    "tagger_100 = pd.concat(tagger_list)\n",
    "tagger_100.to_csv(dirr+'wordcount_df_100.csv',index=False,encoding='UTF-8-sig')"
   ]
  },
  {
   "cell_type": "code",
   "execution_count": 118,
   "id": "06288a12",
   "metadata": {
    "ExecuteTime": {
     "end_time": "2021-08-13T06:48:15.788615Z",
     "start_time": "2021-08-13T06:48:13.598686Z"
    }
   },
   "outputs": [],
   "source": [
    "tagger = Mecab()\n",
    "tagger_list = []\n",
    "for roww in df_content.iterrows():\n",
    "    tagged = tagger.nouns(roww[1]['content'])\n",
    "    tagged = [s for s in tagged if len(s) > 1]\n",
    "    tagged_counter = collections.Counter(tagged)\n",
    "    tagged_common  = tagged_counter.most_common(50)\n",
    "    \n",
    "    word_list = []\n",
    "    count_list = []\n",
    "    for word,count in tagged_common:\n",
    "        word_list.append(word)\n",
    "        count_list.append(count)\n",
    "    \n",
    "    tagger_list.append(pd.DataFrame({\n",
    "        'date'  : roww[1]['dates'],\n",
    "        'word'  : word_list,\n",
    "        'count' : count_list\n",
    "    }))"
   ]
  },
  {
   "cell_type": "code",
   "execution_count": 119,
   "id": "a04c0929",
   "metadata": {
    "ExecuteTime": {
     "end_time": "2021-08-13T06:48:15.819764Z",
     "start_time": "2021-08-13T06:48:15.789645Z"
    }
   },
   "outputs": [],
   "source": [
    "tagger_50 = pd.concat(tagger_list)\n",
    "tagger_50.to_csv(dirr+'wordcount_df_50.csv',index=False,encoding='UTF-8-sig')"
   ]
  }
 ],
 "metadata": {
  "kernelspec": {
   "display_name": "simon_env",
   "language": "python",
   "name": "simon_env"
  },
  "language_info": {
   "codemirror_mode": {
    "name": "ipython",
    "version": 3
   },
   "file_extension": ".py",
   "mimetype": "text/x-python",
   "name": "python",
   "nbconvert_exporter": "python",
   "pygments_lexer": "ipython3",
   "version": "3.7.11"
  },
  "varInspector": {
   "cols": {
    "lenName": 16,
    "lenType": 16,
    "lenVar": 40
   },
   "kernels_config": {
    "python": {
     "delete_cmd_postfix": "",
     "delete_cmd_prefix": "del ",
     "library": "var_list.py",
     "varRefreshCmd": "print(var_dic_list())"
    },
    "r": {
     "delete_cmd_postfix": ") ",
     "delete_cmd_prefix": "rm(",
     "library": "var_list.r",
     "varRefreshCmd": "cat(var_dic_list()) "
    }
   },
   "types_to_exclude": [
    "module",
    "function",
    "builtin_function_or_method",
    "instance",
    "_Feature"
   ],
   "window_display": false
  }
 },
 "nbformat": 4,
 "nbformat_minor": 5
}
