{
 "cells": [
  {
   "cell_type": "code",
   "execution_count": 2,
   "id": "72a95603",
   "metadata": {
    "ExecuteTime": {
     "end_time": "2021-08-19T01:58:50.958397Z",
     "start_time": "2021-08-19T01:58:50.940444Z"
    }
   },
   "outputs": [],
   "source": [
    "import pandas as pd\n",
    "import re\n",
    "from eunjeon import Mecab\n",
    "import collections"
   ]
  },
  {
   "cell_type": "code",
   "execution_count": 3,
   "id": "c473f90d",
   "metadata": {
    "ExecuteTime": {
     "end_time": "2021-08-19T01:58:51.614306Z",
     "start_time": "2021-08-19T01:58:51.598446Z"
    }
   },
   "outputs": [],
   "source": [
    "#dirr = 'C:/Users/rsh15/Google Drive/crawler_data/estate_news/'\n",
    "dirr = 'C:/Users/shic/Desktop/shinhan_simon/google_drive/crawler_data/estate_news/'"
   ]
  },
  {
   "cell_type": "code",
   "execution_count": 4,
   "id": "601fafeb",
   "metadata": {
    "ExecuteTime": {
     "end_time": "2021-08-19T01:58:55.071554Z",
     "start_time": "2021-08-19T01:58:52.557108Z"
    }
   },
   "outputs": [],
   "source": [
    "news_df = pd.read_csv(dirr+'RAA_부동산114뉴스기사_유승훈.csv')\n",
    "news_df = news_df.dropna()"
   ]
  },
  {
   "cell_type": "code",
   "execution_count": 5,
   "id": "f092f0ae",
   "metadata": {
    "ExecuteTime": {
     "end_time": "2021-08-19T01:58:57.301450Z",
     "start_time": "2021-08-19T01:58:57.244602Z"
    }
   },
   "outputs": [
    {
     "data": {
      "text/html": [
       "<div>\n",
       "<style scoped>\n",
       "    .dataframe tbody tr th:only-of-type {\n",
       "        vertical-align: middle;\n",
       "    }\n",
       "\n",
       "    .dataframe tbody tr th {\n",
       "        vertical-align: top;\n",
       "    }\n",
       "\n",
       "    .dataframe thead th {\n",
       "        text-align: right;\n",
       "    }\n",
       "</style>\n",
       "<table border=\"1\" class=\"dataframe\">\n",
       "  <thead>\n",
       "    <tr style=\"text-align: right;\">\n",
       "      <th></th>\n",
       "      <th>NEWS_TITLE_NM</th>\n",
       "      <th>NEWS_WRT_YMD</th>\n",
       "      <th>NEWS_MEDIA_NM</th>\n",
       "      <th>NEWS_BODY_CNTT</th>\n",
       "      <th>yearmonth</th>\n",
       "    </tr>\n",
       "  </thead>\n",
       "  <tbody>\n",
       "    <tr>\n",
       "      <th>0</th>\n",
       "      <td>[주간부동산] 매매·전세, 연말연시 맞아 `한산`</td>\n",
       "      <td>2012.01.01</td>\n",
       "      <td>이데일리</td>\n",
       "      <td>- 매매, 서울 0.05%↓, 신도시 0.02%↓, 수도권 0.02%↓- 전세, 서...</td>\n",
       "      <td>201201</td>\n",
       "    </tr>\n",
       "    <tr>\n",
       "      <th>1</th>\n",
       "      <td>연말 거래 한산, 매매도 전세도 약세 지속</td>\n",
       "      <td>2012.01.01</td>\n",
       "      <td>조선비즈</td>\n",
       "      <td>서울 아파트 값이 2주 연속 하락세다. 2011년 마지막 주 시장은 비수기로 한산했...</td>\n",
       "      <td>201201</td>\n",
       "    </tr>\n",
       "    <tr>\n",
       "      <th>2</th>\n",
       "      <td>2012년 아파트 공급 줄고, 오피스텔 늘고</td>\n",
       "      <td>2012.01.01</td>\n",
       "      <td>헤럴드POP</td>\n",
       "      <td>새해에는 브랜드 아파트 공급은 작년보다 줄고, 대표적인 수익형부동산 상품인 오피스텔...</td>\n",
       "      <td>201201</td>\n",
       "    </tr>\n",
       "    <tr>\n",
       "      <th>3</th>\n",
       "      <td>수도권 집 한 채에 지방 아파트 몇 채 산다고?</td>\n",
       "      <td>2012.01.01</td>\n",
       "      <td>헤럴드POP</td>\n",
       "      <td>수도권 아파트 한 채 값에 지방 아파트 여러 채를 산다는 말도 옛말이 됐다. 지방 ...</td>\n",
       "      <td>201201</td>\n",
       "    </tr>\n",
       "    <tr>\n",
       "      <th>4</th>\n",
       "      <td>고급빌라 맞수 청담동 vs 한남동…“유엔빌리지(한남동) 살아요” ‘70억 펜트하우스...</td>\n",
       "      <td>2012.01.01</td>\n",
       "      <td>매경이코노미</td>\n",
       "      <td>한남동 유엔빌리지. / 청담동 마크힐스. TV 드라마 속 부잣집에서 전화를 받는 사...</td>\n",
       "      <td>201201</td>\n",
       "    </tr>\n",
       "    <tr>\n",
       "      <th>...</th>\n",
       "      <td>...</td>\n",
       "      <td>...</td>\n",
       "      <td>...</td>\n",
       "      <td>...</td>\n",
       "      <td>...</td>\n",
       "    </tr>\n",
       "    <tr>\n",
       "      <th>45907</th>\n",
       "      <td>[부동산캘린더] 3기 신도시 사전청약 1순위 접수…분양시장 후끈</td>\n",
       "      <td>2021.07.31</td>\n",
       "      <td>연합뉴스</td>\n",
       "      <td>(서울=연합뉴스) 김동규 기자 = 다음 주에는 3기 신도시 사전청약 1순위 접수를 ...</td>\n",
       "      <td>202107</td>\n",
       "    </tr>\n",
       "    <tr>\n",
       "      <th>45908</th>\n",
       "      <td>[분양캘린더]8월 첫째 주 1만4368가구 분양…견본주택 3곳 개관</td>\n",
       "      <td>2021.07.31</td>\n",
       "      <td>뉴시스</td>\n",
       "      <td>전국 20개 단지…일반분양 1만86가구[서울=뉴시스] 31일 부동산114에 따르면 ...</td>\n",
       "      <td>202107</td>\n",
       "    </tr>\n",
       "    <tr>\n",
       "      <th>45909</th>\n",
       "      <td>올 상반기 청약률 상위 단지는 초등학교 도보 통학권</td>\n",
       "      <td>2021.07.31</td>\n",
       "      <td>데일리안</td>\n",
       "      <td>분양 시장 주 수요층 3040세대, 자녀 교육 우선안전한 통학 환경 선호해올해 상반...</td>\n",
       "      <td>202107</td>\n",
       "    </tr>\n",
       "    <tr>\n",
       "      <th>45910</th>\n",
       "      <td>집값에 치이고 전셋값에 또 치이고</td>\n",
       "      <td>2021.07.31</td>\n",
       "      <td>비즈니스워치</td>\n",
       "      <td>[집값 톡톡]전셋값→집값 상승 악순환서울·수도권·지방까지 전셋값 상승 확산집값은 '...</td>\n",
       "      <td>202107</td>\n",
       "    </tr>\n",
       "    <tr>\n",
       "      <th>45911</th>\n",
       "      <td>전셋값 폭등에 임대 아파트에 눈길… 호반건설, '호반써밋 그랜드파크 II, IV' 공급</td>\n",
       "      <td>2021.07.31</td>\n",
       "      <td>머니S</td>\n",
       "      <td>━최장 10년간 거주 가능… 교통, 생활 편의, 쾌적성 두루 갖춘 입지에 합리적인 ...</td>\n",
       "      <td>202107</td>\n",
       "    </tr>\n",
       "  </tbody>\n",
       "</table>\n",
       "<p>45845 rows × 5 columns</p>\n",
       "</div>"
      ],
      "text/plain": [
       "                                           NEWS_TITLE_NM NEWS_WRT_YMD  \\\n",
       "0                            [주간부동산] 매매·전세, 연말연시 맞아 `한산`   2012.01.01   \n",
       "1                                연말 거래 한산, 매매도 전세도 약세 지속   2012.01.01   \n",
       "2                               2012년 아파트 공급 줄고, 오피스텔 늘고   2012.01.01   \n",
       "3                             수도권 집 한 채에 지방 아파트 몇 채 산다고?   2012.01.01   \n",
       "4      고급빌라 맞수 청담동 vs 한남동…“유엔빌리지(한남동) 살아요” ‘70억 펜트하우스...   2012.01.01   \n",
       "...                                                  ...          ...   \n",
       "45907                [부동산캘린더] 3기 신도시 사전청약 1순위 접수…분양시장 후끈   2021.07.31   \n",
       "45908              [분양캘린더]8월 첫째 주 1만4368가구 분양…견본주택 3곳 개관   2021.07.31   \n",
       "45909                       올 상반기 청약률 상위 단지는 초등학교 도보 통학권   2021.07.31   \n",
       "45910                                 집값에 치이고 전셋값에 또 치이고   2021.07.31   \n",
       "45911   전셋값 폭등에 임대 아파트에 눈길… 호반건설, '호반써밋 그랜드파크 II, IV' 공급   2021.07.31   \n",
       "\n",
       "      NEWS_MEDIA_NM                                     NEWS_BODY_CNTT  \\\n",
       "0              이데일리  - 매매, 서울 0.05%↓, 신도시 0.02%↓, 수도권 0.02%↓- 전세, 서...   \n",
       "1              조선비즈  서울 아파트 값이 2주 연속 하락세다. 2011년 마지막 주 시장은 비수기로 한산했...   \n",
       "2            헤럴드POP  새해에는 브랜드 아파트 공급은 작년보다 줄고, 대표적인 수익형부동산 상품인 오피스텔...   \n",
       "3            헤럴드POP  수도권 아파트 한 채 값에 지방 아파트 여러 채를 산다는 말도 옛말이 됐다. 지방 ...   \n",
       "4            매경이코노미  한남동 유엔빌리지. / 청담동 마크힐스. TV 드라마 속 부잣집에서 전화를 받는 사...   \n",
       "...             ...                                                ...   \n",
       "45907          연합뉴스  (서울=연합뉴스) 김동규 기자 = 다음 주에는 3기 신도시 사전청약 1순위 접수를 ...   \n",
       "45908           뉴시스  전국 20개 단지…일반분양 1만86가구[서울=뉴시스] 31일 부동산114에 따르면 ...   \n",
       "45909          데일리안  분양 시장 주 수요층 3040세대, 자녀 교육 우선안전한 통학 환경 선호해올해 상반...   \n",
       "45910        비즈니스워치  [집값 톡톡]전셋값→집값 상승 악순환서울·수도권·지방까지 전셋값 상승 확산집값은 '...   \n",
       "45911           머니S  ━최장 10년간 거주 가능… 교통, 생활 편의, 쾌적성 두루 갖춘 입지에 합리적인 ...   \n",
       "\n",
       "      yearmonth  \n",
       "0        201201  \n",
       "1        201201  \n",
       "2        201201  \n",
       "3        201201  \n",
       "4        201201  \n",
       "...         ...  \n",
       "45907    202107  \n",
       "45908    202107  \n",
       "45909    202107  \n",
       "45910    202107  \n",
       "45911    202107  \n",
       "\n",
       "[45845 rows x 5 columns]"
      ]
     },
     "execution_count": 5,
     "metadata": {},
     "output_type": "execute_result"
    }
   ],
   "source": [
    "news_df['yearmonth'] = news_df['NEWS_WRT_YMD'].str.slice(stop=7).str.replace('.','',regex=False)\n",
    "news_df"
   ]
  },
  {
   "cell_type": "code",
   "execution_count": 6,
   "id": "552e3405",
   "metadata": {
    "ExecuteTime": {
     "end_time": "2021-08-19T01:58:58.075531Z",
     "start_time": "2021-08-19T01:58:58.065558Z"
    }
   },
   "outputs": [
    {
     "data": {
      "text/plain": [
       "['201201',\n",
       " '201202',\n",
       " '201203',\n",
       " '201204',\n",
       " '201205',\n",
       " '201206',\n",
       " '201207',\n",
       " '201208',\n",
       " '201209',\n",
       " '201210']"
      ]
     },
     "execution_count": 6,
     "metadata": {},
     "output_type": "execute_result"
    }
   ],
   "source": [
    "dates = news_df['yearmonth'].unique().tolist()\n",
    "dates[0:10]"
   ]
  },
  {
   "cell_type": "code",
   "execution_count": 7,
   "id": "d405aee8",
   "metadata": {
    "ExecuteTime": {
     "end_time": "2021-08-19T01:58:59.298791Z",
     "start_time": "2021-08-19T01:58:59.280839Z"
    }
   },
   "outputs": [],
   "source": [
    "def news_article_preprocess(article_cnt):\n",
    "    content_txt = re.sub(r'[\\(\\[].*?[\\)\\]]','',article_cnt)\n",
    "    content_txt = re.sub('<.*?>','',content_txt)\n",
    "    content_txt = re.sub('＜.*?＞','',content_txt)\n",
    "    content_txt = re.sub('\\s{2,}','',content_txt)\n",
    "    content_txt = content_txt.replace('부동산114','')\n",
    "    return content_txt"
   ]
  },
  {
   "cell_type": "code",
   "execution_count": 13,
   "id": "030662dc",
   "metadata": {
    "ExecuteTime": {
     "end_time": "2021-08-19T02:18:30.801267Z",
     "start_time": "2021-08-19T02:18:28.347991Z"
    }
   },
   "outputs": [
    {
     "data": {
      "text/plain": [
       "\"평택 소사벌 푸르지오 투시도© News1대우건설·대림산업 컨소시엄, 택지지구내 메이저 브랜드전가구 중소형 4베이 설계에 혁신기술 도입 진희정 기자 = 다음달 개통하는 수서발고속철도 개통과 내년 4월 가동하는 고덕삼성산업단지에 대한 기대감으로 평택이 들썩이고 있다. SRT 개통 자체가 평택시 전체 인구를 끌어올리는 촉매가 될 것이라는 의미에서다. 또 산업단지와 지역 간 연계성과 성장 가능성을 고려하면 평택의 미래가치는 더 높아질 것이란 얘기다.각종 개발계획으로 주목받고 있는 평택 소사벌 택지개발지구에서 대우건설과 대림산업이 손잡고 '평택 소사벌 푸르지오'를 분양한다. 25일 모델하우스를 오픈한 평택 소사벌 푸르지오는 지하 1층~지상 25층 아파트 6개동 규모로 전용면적 Δ83㎡A 334가구 Δ83㎡A1 42가구 Δ83㎡B 78가구 Δ83㎡B1 21가구 Δ83㎡C 91가구 등 총 566가구로 전 세대가 수요층이 많은 중소형 규모로 구성돼 있다. 분양가는 3.3㎡ 당 평균 900만원 중반대로 예상되며 계약금정액제, 중도금 전액 무이자가 적용된다. ◇연이은 대형호재로 주목…아파트 값도 오르고 있어삼성 및 LG전자 등 대기업 산업단지 조성사업이 속도를 내고 있는 데다 서울권 접근성 향상에 기여할 SRT 지제역도 다음달 개통한다. 여기에 고덕산업단지 내에 삼성전자가 100조원 이상을 투자해 조성하는 아시아 최대 규모의 차세대 반도체 공장의 1기 라인이 내년 상반기에 가동을 앞두고 있다. LG전자가 조성 중인 99만여㎡ 규모의 평택 진위2산업단지도 내년 준공을 목표로 하고 있다. 실제 최근 5년간 평택시 집값은 상승세를 기록하고 있다.  자료를 보면 평택시의 지난달 3.3㎡당 아파트값은 평균 704만원으로 지난 2012년 10월 대비 14.66%의 상승률을 기록했다. 같은 기간 경기도 전체 3.3㎡당 아파트 평균 매매가 상승률인 10.22%를 웃도는 수치다. 최근 3년간 1~10월까지 평택시 아파트 거래량도 꾸준히 증가하고 있다. 국토교통부 통계누리 자료에 따르면 2014년 6959건이던 거래량은 꾸준히 증가해 올해 1만581건으로 52.05% 상승했다. 같은 기간 경기도 아파트 거래량 상승폭인 28.09%를 상회하고 있다. 평택 소사벌 택지지구 지역도© News1◇비전동과 택지지구의 인프라를 동시에…쾌적한 주거환경 마련평택 소사벌 푸르지오는 소사벌 택지지구 내 개발되고 있는 다양한 상업시설들과 병원, 신세계복합쇼핑몰을 이용할 수 있으며 뉴코아아울렛·CGV·평택시청 등 비전동의 편리한 인프라를 공유하고 있어 뛰어한 생활 환경을 갖추고 있다.단지 옆 통복천 및 소사벌 택지지구 내 배다리저수지 생태공원 등이 가까이 있고 비전중학교가 단지 바로 옆에 위치해 교육환경도 우수하다. 전가구 중소형 4베이 설계에 각종 혁신기술도 접목해 주거환경도 쾌적하다. 83㎡C는 탑상형 코너 타입 구조의 단점을 극복한 신평면을 도입해 채광과 통풍을 극대화시켰다. 층간소음 저감을 위한 최신 완충재를 설치해 경량 1급·중량 2급의 층간소음 수준을 유지할 예정이다. 욕실과 주방에 층별 직배기를 적용해 층간소음을 차단하고 신속한 배출이 가능하도록 했다.확장부위 외부창호를 복층 유리로 활용해 에너지 저감 성능을 개선하고 연속형 단열 설계를 통해 결로하자를 줄이기로 했다. 이밖에 드레스룸, 펜트리장 등 각종 수납공간 극대화시켜 생활의 편리함을 더하고 1층의 경우 천장 높이를 10㎝높여 공간감을 높이고 일부 가구는 통복천 방향 개방형 발코니를 적용해 쾌적한 생활 공간을 연출할 계획이다.모델하우스는 경기도 평택시 비전동 1030번지에 위치하고 있으며 입주예정일은 2019년 3월이다. 문의 : 1800-0026hj_jin@▶ 매일 업데이트 최신 만화 100% 무료, 무단 전재 및 재배포 금지]\""
      ]
     },
     "execution_count": 13,
     "metadata": {},
     "output_type": "execute_result"
    }
   ],
   "source": [
    "news_df['NEWS_BODY_CNTT'] = news_df['NEWS_BODY_CNTT'].map(news_article_preprocess)\n",
    "news_df['NEWS_BODY_CNTT'][23123]"
   ]
  },
  {
   "cell_type": "code",
   "execution_count": 19,
   "id": "603b6d92",
   "metadata": {
    "ExecuteTime": {
     "end_time": "2021-08-20T04:57:50.668423Z",
     "start_time": "2021-08-20T04:56:23.009248Z"
    }
   },
   "outputs": [],
   "source": [
    "tagger = Mecab()\n",
    "tagger_list = []\n",
    "for dd in dates:\n",
    "    tmp_df = news_df[news_df['yearmonth']==dd]\n",
    "    \n",
    "    tagged = []\n",
    "    for roww in tmp_df.iterrows():\n",
    "        tagged += tagger.nouns(roww[1]['NEWS_BODY_CNTT'])\n",
    "    \n",
    "    tagged = [s for s in tagged if len(s) > 1]\n",
    "    tagged_counter = collections.Counter(tagged)\n",
    "    tagged_common  = tagged_counter.most_common(100)\n",
    "    \n",
    "    word_list = []\n",
    "    count_list = []\n",
    "    \n",
    "    for word,count in tagged_common:\n",
    "        word_list.append(word)\n",
    "        count_list.append(count)\n",
    "    \n",
    "    tagger_list.append(pd.DataFrame({\n",
    "        'date'  : dd,\n",
    "        'word'  : word_list,\n",
    "        'count' : count_list\n",
    "    }))"
   ]
  },
  {
   "cell_type": "code",
   "execution_count": 22,
   "id": "95c25040",
   "metadata": {
    "ExecuteTime": {
     "end_time": "2021-08-20T05:00:30.749010Z",
     "start_time": "2021-08-20T05:00:30.724074Z"
    }
   },
   "outputs": [
    {
     "data": {
      "text/html": [
       "<div>\n",
       "<style scoped>\n",
       "    .dataframe tbody tr th:only-of-type {\n",
       "        vertical-align: middle;\n",
       "    }\n",
       "\n",
       "    .dataframe tbody tr th {\n",
       "        vertical-align: top;\n",
       "    }\n",
       "\n",
       "    .dataframe thead th {\n",
       "        text-align: right;\n",
       "    }\n",
       "</style>\n",
       "<table border=\"1\" class=\"dataframe\">\n",
       "  <thead>\n",
       "    <tr style=\"text-align: right;\">\n",
       "      <th></th>\n",
       "      <th>date</th>\n",
       "      <th>word</th>\n",
       "      <th>count</th>\n",
       "    </tr>\n",
       "  </thead>\n",
       "  <tbody>\n",
       "    <tr>\n",
       "      <th>0</th>\n",
       "      <td>201504</td>\n",
       "      <td>분양</td>\n",
       "      <td>2906</td>\n",
       "    </tr>\n",
       "    <tr>\n",
       "      <th>1</th>\n",
       "      <td>201504</td>\n",
       "      <td>아파트</td>\n",
       "      <td>2159</td>\n",
       "    </tr>\n",
       "    <tr>\n",
       "      <th>2</th>\n",
       "      <td>201504</td>\n",
       "      <td>서울</td>\n",
       "      <td>1556</td>\n",
       "    </tr>\n",
       "    <tr>\n",
       "      <th>3</th>\n",
       "      <td>201504</td>\n",
       "      <td>가구</td>\n",
       "      <td>1528</td>\n",
       "    </tr>\n",
       "    <tr>\n",
       "      <th>4</th>\n",
       "      <td>201504</td>\n",
       "      <td>상승</td>\n",
       "      <td>1161</td>\n",
       "    </tr>\n",
       "    <tr>\n",
       "      <th>...</th>\n",
       "      <td>...</td>\n",
       "      <td>...</td>\n",
       "      <td>...</td>\n",
       "    </tr>\n",
       "    <tr>\n",
       "      <th>95</th>\n",
       "      <td>201504</td>\n",
       "      <td>계획</td>\n",
       "      <td>201</td>\n",
       "    </tr>\n",
       "    <tr>\n",
       "      <th>96</th>\n",
       "      <td>201504</td>\n",
       "      <td>배포</td>\n",
       "      <td>201</td>\n",
       "    </tr>\n",
       "    <tr>\n",
       "      <th>97</th>\n",
       "      <td>201504</td>\n",
       "      <td>재건축</td>\n",
       "      <td>200</td>\n",
       "    </tr>\n",
       "    <tr>\n",
       "      <th>98</th>\n",
       "      <td>201504</td>\n",
       "      <td>주거</td>\n",
       "      <td>200</td>\n",
       "    </tr>\n",
       "    <tr>\n",
       "      <th>99</th>\n",
       "      <td>201504</td>\n",
       "      <td>파크</td>\n",
       "      <td>199</td>\n",
       "    </tr>\n",
       "  </tbody>\n",
       "</table>\n",
       "<p>100 rows × 3 columns</p>\n",
       "</div>"
      ],
      "text/plain": [
       "      date word  count\n",
       "0   201504   분양   2906\n",
       "1   201504  아파트   2159\n",
       "2   201504   서울   1556\n",
       "3   201504   가구   1528\n",
       "4   201504   상승   1161\n",
       "..     ...  ...    ...\n",
       "95  201504   계획    201\n",
       "96  201504   배포    201\n",
       "97  201504  재건축    200\n",
       "98  201504   주거    200\n",
       "99  201504   파크    199\n",
       "\n",
       "[100 rows x 3 columns]"
      ]
     },
     "execution_count": 22,
     "metadata": {},
     "output_type": "execute_result"
    }
   ],
   "source": [
    "tagger_100 = pd.concat(tagger_list)\n",
    "tagger_100[tagger_100['date']=='201504']"
   ]
  },
  {
   "cell_type": "code",
   "execution_count": 12,
   "id": "31523017",
   "metadata": {
    "ExecuteTime": {
     "end_time": "2021-08-18T13:48:06.289454Z",
     "start_time": "2021-08-18T13:48:06.232522Z"
    }
   },
   "outputs": [],
   "source": [
    "tagger_100.to_csv(dirr+'wordcount_df_100.csv',index=False,encoding='UTF-8-sig')"
   ]
  },
  {
   "cell_type": "code",
   "execution_count": 118,
   "id": "64623952",
   "metadata": {
    "ExecuteTime": {
     "end_time": "2021-08-13T06:48:15.788615Z",
     "start_time": "2021-08-13T06:48:13.598686Z"
    }
   },
   "outputs": [],
   "source": [
    "tagger = Mecab()\n",
    "tagger_list = []\n",
    "for dd in dates:\n",
    "    tmp_df = news_df[news_df['yearmonth']==dd]\n",
    "    \n",
    "    tagged = []\n",
    "    for roww in tmp_df.iterrows():\n",
    "        tagged += tagger.nouns(roww[1]['NEWS_BODY_CNTT'])\n",
    "    \n",
    "    tagged = [s for s in tagged if len(s) > 1]\n",
    "    tagged_counter = collections.Counter(tagged)\n",
    "    tagged_common  = tagged_counter.most_common(50)\n",
    "    \n",
    "    word_list = []\n",
    "    count_list = []\n",
    "    \n",
    "    for word,count in tagged_common:\n",
    "        word_list.append(word)\n",
    "        count_list.append(count)\n",
    "    \n",
    "    tagger_list.append(pd.DataFrame({\n",
    "        'date'  : dd,\n",
    "        'word'  : word_list,\n",
    "        'count' : count_list\n",
    "    }))"
   ]
  },
  {
   "cell_type": "code",
   "execution_count": 119,
   "id": "ba0e0957",
   "metadata": {
    "ExecuteTime": {
     "end_time": "2021-08-13T06:48:15.819764Z",
     "start_time": "2021-08-13T06:48:15.789645Z"
    }
   },
   "outputs": [],
   "source": [
    "tagger_50 = pd.concat(tagger_list)\n",
    "tagger_50.to_csv(dirr+'wordcount_df_50.csv',index=False,encoding='UTF-8-sig')"
   ]
  },
  {
   "cell_type": "code",
   "execution_count": null,
   "id": "7dd9d1bc",
   "metadata": {},
   "outputs": [],
   "source": []
  }
 ],
 "metadata": {
  "kernelspec": {
   "display_name": "simon_env",
   "language": "python",
   "name": "simon_env"
  },
  "language_info": {
   "codemirror_mode": {
    "name": "ipython",
    "version": 3
   },
   "file_extension": ".py",
   "mimetype": "text/x-python",
   "name": "python",
   "nbconvert_exporter": "python",
   "pygments_lexer": "ipython3",
   "version": "3.7.11"
  },
  "toc": {
   "base_numbering": 1,
   "nav_menu": {},
   "number_sections": true,
   "sideBar": true,
   "skip_h1_title": true,
   "title_cell": "Table of Contents",
   "title_sidebar": "Contents",
   "toc_cell": false,
   "toc_position": {},
   "toc_section_display": true,
   "toc_window_display": false
  },
  "varInspector": {
   "cols": {
    "lenName": 16,
    "lenType": 16,
    "lenVar": 40
   },
   "kernels_config": {
    "python": {
     "delete_cmd_postfix": "",
     "delete_cmd_prefix": "del ",
     "library": "var_list.py",
     "varRefreshCmd": "print(var_dic_list())"
    },
    "r": {
     "delete_cmd_postfix": ") ",
     "delete_cmd_prefix": "rm(",
     "library": "var_list.r",
     "varRefreshCmd": "cat(var_dic_list()) "
    }
   },
   "types_to_exclude": [
    "module",
    "function",
    "builtin_function_or_method",
    "instance",
    "_Feature"
   ],
   "window_display": false
  }
 },
 "nbformat": 4,
 "nbformat_minor": 5
}
