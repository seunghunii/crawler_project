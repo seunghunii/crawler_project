{
 "cells": [
  {
   "cell_type": "code",
   "execution_count": 37,
   "id": "2c89adcb",
   "metadata": {
    "ExecuteTime": {
     "end_time": "2021-07-22T23:26:18.163783Z",
     "start_time": "2021-07-22T23:26:18.146854Z"
    }
   },
   "outputs": [],
   "source": [
    "import selenium\n",
    "from selenium import webdriver\n",
    "import pandas as pd\n",
    "import json\n",
    "import re\n",
    "from bs4 import BeautifulSoup"
   ]
  },
  {
   "cell_type": "code",
   "execution_count": 99,
   "id": "d79bef9a",
   "metadata": {
    "ExecuteTime": {
     "end_time": "2021-07-23T00:18:18.645492Z",
     "start_time": "2021-07-23T00:18:18.620698Z"
    }
   },
   "outputs": [
    {
     "data": {
      "text/html": [
       "<div>\n",
       "<style scoped>\n",
       "    .dataframe tbody tr th:only-of-type {\n",
       "        vertical-align: middle;\n",
       "    }\n",
       "\n",
       "    .dataframe tbody tr th {\n",
       "        vertical-align: top;\n",
       "    }\n",
       "\n",
       "    .dataframe thead th {\n",
       "        text-align: right;\n",
       "    }\n",
       "</style>\n",
       "<table border=\"1\" class=\"dataframe\">\n",
       "  <thead>\n",
       "    <tr style=\"text-align: right;\">\n",
       "      <th></th>\n",
       "      <th>법정동코드</th>\n",
       "      <th>법정동명</th>\n",
       "      <th>폐지여부</th>\n",
       "      <th>법정동코드_cut</th>\n",
       "    </tr>\n",
       "  </thead>\n",
       "  <tbody>\n",
       "    <tr>\n",
       "      <th>0</th>\n",
       "      <td>1100000000</td>\n",
       "      <td>서울특별시</td>\n",
       "      <td>존재</td>\n",
       "      <td>11000</td>\n",
       "    </tr>\n",
       "    <tr>\n",
       "      <th>1</th>\n",
       "      <td>1111000000</td>\n",
       "      <td>서울특별시 종로구</td>\n",
       "      <td>존재</td>\n",
       "      <td>11110</td>\n",
       "    </tr>\n",
       "    <tr>\n",
       "      <th>2</th>\n",
       "      <td>1114000000</td>\n",
       "      <td>서울특별시 중구</td>\n",
       "      <td>존재</td>\n",
       "      <td>11140</td>\n",
       "    </tr>\n",
       "    <tr>\n",
       "      <th>3</th>\n",
       "      <td>1117000000</td>\n",
       "      <td>서울특별시 용산구</td>\n",
       "      <td>존재</td>\n",
       "      <td>11170</td>\n",
       "    </tr>\n",
       "    <tr>\n",
       "      <th>4</th>\n",
       "      <td>1120000000</td>\n",
       "      <td>서울특별시 성동구</td>\n",
       "      <td>존재</td>\n",
       "      <td>11200</td>\n",
       "    </tr>\n",
       "    <tr>\n",
       "      <th>...</th>\n",
       "      <td>...</td>\n",
       "      <td>...</td>\n",
       "      <td>...</td>\n",
       "      <td>...</td>\n",
       "    </tr>\n",
       "    <tr>\n",
       "      <th>451</th>\n",
       "      <td>4888000000</td>\n",
       "      <td>경상남도 거창군</td>\n",
       "      <td>존재</td>\n",
       "      <td>48880</td>\n",
       "    </tr>\n",
       "    <tr>\n",
       "      <th>452</th>\n",
       "      <td>4889000000</td>\n",
       "      <td>경상남도 합천군</td>\n",
       "      <td>존재</td>\n",
       "      <td>48890</td>\n",
       "    </tr>\n",
       "    <tr>\n",
       "      <th>458</th>\n",
       "      <td>5000000000</td>\n",
       "      <td>제주특별자치도</td>\n",
       "      <td>존재</td>\n",
       "      <td>50000</td>\n",
       "    </tr>\n",
       "    <tr>\n",
       "      <th>459</th>\n",
       "      <td>5011000000</td>\n",
       "      <td>제주특별자치도 제주시</td>\n",
       "      <td>존재</td>\n",
       "      <td>50110</td>\n",
       "    </tr>\n",
       "    <tr>\n",
       "      <th>460</th>\n",
       "      <td>5013000000</td>\n",
       "      <td>제주특별자치도 서귀포시</td>\n",
       "      <td>존재</td>\n",
       "      <td>50130</td>\n",
       "    </tr>\n",
       "  </tbody>\n",
       "</table>\n",
       "<p>277 rows × 4 columns</p>\n",
       "</div>"
      ],
      "text/plain": [
       "          법정동코드          법정동명 폐지여부  법정동코드_cut\n",
       "0    1100000000         서울특별시   존재      11000\n",
       "1    1111000000     서울특별시 종로구   존재      11110\n",
       "2    1114000000      서울특별시 중구   존재      11140\n",
       "3    1117000000     서울특별시 용산구   존재      11170\n",
       "4    1120000000     서울특별시 성동구   존재      11200\n",
       "..          ...           ...  ...        ...\n",
       "451  4888000000      경상남도 거창군   존재      48880\n",
       "452  4889000000      경상남도 합천군   존재      48890\n",
       "458  5000000000       제주특별자치도   존재      50000\n",
       "459  5011000000   제주특별자치도 제주시   존재      50110\n",
       "460  5013000000  제주특별자치도 서귀포시   존재      50130\n",
       "\n",
       "[277 rows x 4 columns]"
      ]
     },
     "execution_count": 99,
     "metadata": {},
     "output_type": "execute_result"
    }
   ],
   "source": [
    "# region code df\n",
    "region_code = pd.read_csv('C:/Users/shic/Desktop/crawler_project/data_save/estate_trade/region_code_parsed.csv')\n",
    "region_code = region_code[region_code['폐지여부'] != '폐지']\n",
    "region_code"
   ]
  },
  {
   "cell_type": "code",
   "execution_count": 100,
   "id": "897483bf",
   "metadata": {
    "ExecuteTime": {
     "end_time": "2021-07-23T00:18:20.843565Z",
     "start_time": "2021-07-23T00:18:20.840606Z"
    }
   },
   "outputs": [],
   "source": [
    "base_url = 'http://openapi.molit.go.kr/OpenAPI_ToolInstallPackage/service/rest/RTMSOBJSvc/getRTMSDataSvcAptTradeDev?serviceKey=OSuNRoNLvTbcIjbHj3pWw2WHibEa%2FhYBmhMnXocnaw6O%2Bg36NybrbO5jp38r%2BI646%2Fk9NLJoIVHRPWyKz%2Foiow%3D%3D&pageNo=1&numOfRows=10000&LAWD_CD={}&DEAL_YMD={}'"
   ]
  },
  {
   "cell_type": "code",
   "execution_count": 101,
   "id": "bd798f57",
   "metadata": {
    "ExecuteTime": {
     "end_time": "2021-07-23T00:18:21.312895Z",
     "start_time": "2021-07-23T00:18:21.302921Z"
    }
   },
   "outputs": [
    {
     "name": "stdout",
     "output_type": "stream",
     "text": [
      "http://openapi.molit.go.kr/OpenAPI_ToolInstallPackage/service/rest/RTMSOBJSvc/getRTMSDataSvcAptTradeDev?serviceKey=OSuNRoNLvTbcIjbHj3pWw2WHibEa%2FhYBmhMnXocnaw6O%2Bg36NybrbO5jp38r%2BI646%2Fk9NLJoIVHRPWyKz%2Foiow%3D%3D&pageNo=1&numOfRows=10000&LAWD_CD=11110&DEAL_YMD=200801\n"
     ]
    }
   ],
   "source": [
    "print(base_url.format('11110','200801'))"
   ]
  },
  {
   "cell_type": "code",
   "execution_count": 102,
   "id": "6a5af318",
   "metadata": {
    "ExecuteTime": {
     "end_time": "2021-07-23T00:18:21.483645Z",
     "start_time": "2021-07-23T00:18:21.469620Z"
    }
   },
   "outputs": [
    {
     "name": "stdout",
     "output_type": "stream",
     "text": [
      "http://openapi.molit.go.kr/OpenAPI_ToolInstallPackage/service/rest/RTMSOBJSvc/getRTMSDataSvcAptTradeDev?serviceKey=OSuNRoNLvTbcIjbHj3pWw2WHibEa%2FhYBmhMnXocnaw6O%2Bg36NybrbO5jp38r%2BI646%2Fk9NLJoIVHRPWyKz%2Foiow%3D%3D&pageNo=1&numOfRows=10000&LAWD_CD=11000&DEAL_YMD=200801\n"
     ]
    }
   ],
   "source": [
    "print(base_url.format('11000','200801'))"
   ]
  },
  {
   "cell_type": "code",
   "execution_count": 103,
   "id": "8dd7e432",
   "metadata": {
    "ExecuteTime": {
     "end_time": "2021-07-23T00:18:23.560882Z",
     "start_time": "2021-07-23T00:18:23.547938Z"
    }
   },
   "outputs": [],
   "source": [
    "date_list = []\n",
    "for year in range(2010,2022):\n",
    "    for month in range(1,13):\n",
    "        if year == 2021 and month == 7:\n",
    "            break\n",
    "        \n",
    "        if len(str(month)) == 1:\n",
    "            date_string = str(year) + '0' + str(month)\n",
    "        else:\n",
    "            date_string = str(year) + str(month)\n",
    "        \n",
    "        date_list.append(date_string)"
   ]
  },
  {
   "cell_type": "code",
   "execution_count": 104,
   "id": "7e23b97c",
   "metadata": {
    "ExecuteTime": {
     "end_time": "2021-07-23T00:18:26.189299Z",
     "start_time": "2021-07-23T00:18:26.183316Z"
    }
   },
   "outputs": [],
   "source": [
    "dir_for_shinhan = 'C:/Users/shic/Desktop/shinhan_simon/chromedriver/chromedriver.exe'"
   ]
  },
  {
   "cell_type": "code",
   "execution_count": 105,
   "id": "66267027",
   "metadata": {
    "ExecuteTime": {
     "end_time": "2021-07-23T00:18:26.503356Z",
     "start_time": "2021-07-23T00:18:26.491279Z"
    }
   },
   "outputs": [],
   "source": [
    "url_with_no_data = 'http://openapi.molit.go.kr/OpenAPI_ToolInstallPackage/service/rest/RTMSOBJSvc/getRTMSDataSvcAptTradeDev?serviceKey=OSuNRoNLvTbcIjbHj3pWw2WHibEa%2FhYBmhMnXocnaw6O%2Bg36NybrbO5jp38r%2BI646%2Fk9NLJoIVHRPWyKz%2Foiow%3D%3D&pageNo=1&numOfRows=10&LAWD_CD=11000&DEAL_YMD=200801'\n",
    "url_with_data    = 'http://openapi.molit.go.kr/OpenAPI_ToolInstallPackage/service/rest/RTMSOBJSvc/getRTMSDataSvcAptTradeDev?serviceKey=OSuNRoNLvTbcIjbHj3pWw2WHibEa%2FhYBmhMnXocnaw6O%2Bg36NybrbO5jp38r%2BI646%2Fk9NLJoIVHRPWyKz%2Foiow%3D%3D&pageNo=1&numOfRows=10&LAWD_CD=11140&DEAL_YMD=200801'"
   ]
  },
  {
   "cell_type": "code",
   "execution_count": 106,
   "id": "777afb1c",
   "metadata": {
    "ExecuteTime": {
     "end_time": "2021-07-23T00:18:27.263080Z",
     "start_time": "2021-07-23T00:18:27.221323Z"
    }
   },
   "outputs": [],
   "source": [
    "urls_list = []\n",
    "for date in date_list:\n",
    "    for region in region_code['법정동코드_cut']:\n",
    "        urls_list.append(base_url.format(region,date))"
   ]
  },
  {
   "cell_type": "code",
   "execution_count": 108,
   "id": "abc3024f",
   "metadata": {
    "ExecuteTime": {
     "end_time": "2021-07-23T00:18:35.713974Z",
     "start_time": "2021-07-23T00:18:35.706026Z"
    }
   },
   "outputs": [
    {
     "name": "stdout",
     "output_type": "stream",
     "text": [
      "http://openapi.molit.go.kr/OpenAPI_ToolInstallPackage/service/rest/RTMSOBJSvc/getRTMSDataSvcAptTradeDev?serviceKey=OSuNRoNLvTbcIjbHj3pWw2WHibEa%2FhYBmhMnXocnaw6O%2Bg36NybrbO5jp38r%2BI646%2Fk9NLJoIVHRPWyKz%2Foiow%3D%3D&pageNo=1&numOfRows=10000&LAWD_CD=46830&DEAL_YMD=201005\n"
     ]
    }
   ],
   "source": [
    "print(urls_list[1324])"
   ]
  },
  {
   "cell_type": "code",
   "execution_count": 98,
   "id": "9676b032",
   "metadata": {
    "ExecuteTime": {
     "end_time": "2021-07-23T00:17:48.534937Z",
     "start_time": "2021-07-23T00:17:48.512028Z"
    }
   },
   "outputs": [
    {
     "data": {
      "text/html": [
       "<div>\n",
       "<style scoped>\n",
       "    .dataframe tbody tr th:only-of-type {\n",
       "        vertical-align: middle;\n",
       "    }\n",
       "\n",
       "    .dataframe tbody tr th {\n",
       "        vertical-align: top;\n",
       "    }\n",
       "\n",
       "    .dataframe thead th {\n",
       "        text-align: right;\n",
       "    }\n",
       "</style>\n",
       "<table border=\"1\" class=\"dataframe\">\n",
       "  <thead>\n",
       "    <tr style=\"text-align: right;\">\n",
       "      <th></th>\n",
       "      <th>법정동코드</th>\n",
       "      <th>법정동명</th>\n",
       "      <th>폐지여부</th>\n",
       "      <th>법정동코드_cut</th>\n",
       "    </tr>\n",
       "  </thead>\n",
       "  <tbody>\n",
       "    <tr>\n",
       "      <th>402</th>\n",
       "      <td>4805000000</td>\n",
       "      <td>경상남도 창원군</td>\n",
       "      <td>폐지</td>\n",
       "      <td>48050</td>\n",
       "    </tr>\n",
       "  </tbody>\n",
       "</table>\n",
       "</div>"
      ],
      "text/plain": [
       "          법정동코드      법정동명 폐지여부  법정동코드_cut\n",
       "402  4805000000  경상남도 창원군   폐지      48050"
      ]
     },
     "execution_count": 98,
     "metadata": {},
     "output_type": "execute_result"
    }
   ],
   "source": [
    "region_code.loc[region_code['법정동코드_cut']==48050,:]"
   ]
  },
  {
   "cell_type": "code",
   "execution_count": null,
   "id": "3be8299f",
   "metadata": {},
   "outputs": [],
   "source": []
  }
 ],
 "metadata": {
  "kernelspec": {
   "display_name": "simon_env",
   "language": "python",
   "name": "simon_env"
  },
  "language_info": {
   "codemirror_mode": {
    "name": "ipython",
    "version": 3
   },
   "file_extension": ".py",
   "mimetype": "text/x-python",
   "name": "python",
   "nbconvert_exporter": "python",
   "pygments_lexer": "ipython3",
   "version": "3.7.10"
  },
  "varInspector": {
   "cols": {
    "lenName": 16,
    "lenType": 16,
    "lenVar": 40
   },
   "kernels_config": {
    "python": {
     "delete_cmd_postfix": "",
     "delete_cmd_prefix": "del ",
     "library": "var_list.py",
     "varRefreshCmd": "print(var_dic_list())"
    },
    "r": {
     "delete_cmd_postfix": ") ",
     "delete_cmd_prefix": "rm(",
     "library": "var_list.r",
     "varRefreshCmd": "cat(var_dic_list()) "
    }
   },
   "types_to_exclude": [
    "module",
    "function",
    "builtin_function_or_method",
    "instance",
    "_Feature"
   ],
   "window_display": false
  }
 },
 "nbformat": 4,
 "nbformat_minor": 5
}
