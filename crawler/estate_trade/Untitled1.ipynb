{
 "cells": [
  {
   "cell_type": "code",
   "execution_count": 10,
   "id": "364e744d",
   "metadata": {
    "ExecuteTime": {
     "end_time": "2021-07-23T01:00:41.616025Z",
     "start_time": "2021-07-23T01:00:41.608018Z"
    }
   },
   "outputs": [],
   "source": [
    "import multiprocessing as mp\n",
    "import pandas as pd\n",
    "import numpy as np\n",
    "from selenium import webdriver\n",
    "from bs4 import BeautifulSoup\n",
    "import re"
   ]
  },
  {
   "cell_type": "code",
   "execution_count": 11,
   "id": "da537740",
   "metadata": {
    "ExecuteTime": {
     "end_time": "2021-07-23T01:00:42.318712Z",
     "start_time": "2021-07-23T01:00:42.303755Z"
    }
   },
   "outputs": [],
   "source": [
    "dir_for_shinhan = 'C:/Users/shic/Desktop/shinhan_simon/chromedriver/chromedriver.exe'\n",
    "dir_for_seunghun = 'C:/Users/rsh15/Desktop/seunghuni/selenium/chromedriver.exe'\n"
   ]
  },
  {
   "cell_type": "code",
   "execution_count": 12,
   "id": "f6a3ef3b",
   "metadata": {
    "ExecuteTime": {
     "end_time": "2021-07-23T01:00:43.052228Z",
     "start_time": "2021-07-23T01:00:43.036130Z"
    }
   },
   "outputs": [],
   "source": [
    "tagg = [ '거래금액','건축년도','년','도로명','도로명건물본번호코드','도로명건물부번호코드',\n",
    "         '도로명시군구코드','도로명일련번호코드','도로명지상지하코드','도로명코드','법정동','법정동본번코드',\n",
    "         '법정동부번코드','법정동시군구코드','법정동읍면동코드','법정동지번코드','아파트',\n",
    "         '월','일','일련번호','전용면적','지번','지역코드','층','해제사유발생일','해제여부']"
   ]
  },
  {
   "cell_type": "code",
   "execution_count": 13,
   "id": "e05a892d",
   "metadata": {
    "ExecuteTime": {
     "end_time": "2021-07-23T01:00:43.936811Z",
     "start_time": "2021-07-23T01:00:43.920487Z"
    }
   },
   "outputs": [],
   "source": [
    "base_url = 'http://openapi.molit.go.kr/OpenAPI_ToolInstallPackage/service/rest/RTMSOBJSvc/getRTMSDataSvcAptTradeDev?serviceKey=OSuNRoNLvTbcIjbHj3pWw2WHibEa%2FhYBmhMnXocnaw6O%2Bg36NybrbO5jp38r%2BI646%2Fk9NLJoIVHRPWyKz%2Foiow%3D%3D&pageNo=1&numOfRows=10000&LAWD_CD={}&DEAL_YMD={}'"
   ]
  },
  {
   "cell_type": "code",
   "execution_count": 14,
   "id": "a05267ec",
   "metadata": {
    "ExecuteTime": {
     "end_time": "2021-07-23T01:00:44.277989Z",
     "start_time": "2021-07-23T01:00:44.270980Z"
    }
   },
   "outputs": [],
   "source": [
    "region_code = pd.read_csv('C:/Users/shic/Desktop/crawler_project/data_save/estate_trade/region_code_parsed.csv')\n",
    "region_code = region_code[region_code['폐지여부'] != '폐지']"
   ]
  },
  {
   "cell_type": "code",
   "execution_count": 15,
   "id": "9bbcc512",
   "metadata": {
    "ExecuteTime": {
     "end_time": "2021-07-23T01:00:45.893094Z",
     "start_time": "2021-07-23T01:00:45.885115Z"
    }
   },
   "outputs": [],
   "source": [
    "date_list = []\n",
    "for year in range(2010,2022):\n",
    "    for month in range(1,13):\n",
    "        if year == 2021 and month == 7:\n",
    "            break\n",
    "        \n",
    "        if len(str(month)) == 1:\n",
    "            date_string = str(year) + '0' + str(month)\n",
    "        else:\n",
    "            date_string = str(year) + str(month)\n",
    "        \n",
    "        date_list.append(date_string)"
   ]
  },
  {
   "cell_type": "code",
   "execution_count": 8,
   "id": "d2556ef5",
   "metadata": {
    "ExecuteTime": {
     "end_time": "2021-07-23T00:57:14.540884Z",
     "start_time": "2021-07-23T00:57:14.521964Z"
    }
   },
   "outputs": [
    {
     "data": {
      "text/plain": [
       "['http://openapi.molit.go.kr/OpenAPI_ToolInstallPackage/service/rest/RTMSOBJSvc/getRTMSDataSvcAptTradeDev?serviceKey=OSuNRoNLvTbcIjbHj3pWw2WHibEa%2FhYBmhMnXocnaw6O%2Bg36NybrbO5jp38r%2BI646%2Fk9NLJoIVHRPWyKz%2Foiow%3D%3D&pageNo=1&numOfRows=10000&LAWD_CD=11000&DEAL_YMD=201001',\n",
       " 'http://openapi.molit.go.kr/OpenAPI_ToolInstallPackage/service/rest/RTMSOBJSvc/getRTMSDataSvcAptTradeDev?serviceKey=OSuNRoNLvTbcIjbHj3pWw2WHibEa%2FhYBmhMnXocnaw6O%2Bg36NybrbO5jp38r%2BI646%2Fk9NLJoIVHRPWyKz%2Foiow%3D%3D&pageNo=1&numOfRows=10000&LAWD_CD=11110&DEAL_YMD=201001',\n",
       " 'http://openapi.molit.go.kr/OpenAPI_ToolInstallPackage/service/rest/RTMSOBJSvc/getRTMSDataSvcAptTradeDev?serviceKey=OSuNRoNLvTbcIjbHj3pWw2WHibEa%2FhYBmhMnXocnaw6O%2Bg36NybrbO5jp38r%2BI646%2Fk9NLJoIVHRPWyKz%2Foiow%3D%3D&pageNo=1&numOfRows=10000&LAWD_CD=11140&DEAL_YMD=201001',\n",
       " 'http://openapi.molit.go.kr/OpenAPI_ToolInstallPackage/service/rest/RTMSOBJSvc/getRTMSDataSvcAptTradeDev?serviceKey=OSuNRoNLvTbcIjbHj3pWw2WHibEa%2FhYBmhMnXocnaw6O%2Bg36NybrbO5jp38r%2BI646%2Fk9NLJoIVHRPWyKz%2Foiow%3D%3D&pageNo=1&numOfRows=10000&LAWD_CD=11170&DEAL_YMD=201001',\n",
       " 'http://openapi.molit.go.kr/OpenAPI_ToolInstallPackage/service/rest/RTMSOBJSvc/getRTMSDataSvcAptTradeDev?serviceKey=OSuNRoNLvTbcIjbHj3pWw2WHibEa%2FhYBmhMnXocnaw6O%2Bg36NybrbO5jp38r%2BI646%2Fk9NLJoIVHRPWyKz%2Foiow%3D%3D&pageNo=1&numOfRows=10000&LAWD_CD=11200&DEAL_YMD=201001',\n",
       " 'http://openapi.molit.go.kr/OpenAPI_ToolInstallPackage/service/rest/RTMSOBJSvc/getRTMSDataSvcAptTradeDev?serviceKey=OSuNRoNLvTbcIjbHj3pWw2WHibEa%2FhYBmhMnXocnaw6O%2Bg36NybrbO5jp38r%2BI646%2Fk9NLJoIVHRPWyKz%2Foiow%3D%3D&pageNo=1&numOfRows=10000&LAWD_CD=11215&DEAL_YMD=201001',\n",
       " 'http://openapi.molit.go.kr/OpenAPI_ToolInstallPackage/service/rest/RTMSOBJSvc/getRTMSDataSvcAptTradeDev?serviceKey=OSuNRoNLvTbcIjbHj3pWw2WHibEa%2FhYBmhMnXocnaw6O%2Bg36NybrbO5jp38r%2BI646%2Fk9NLJoIVHRPWyKz%2Foiow%3D%3D&pageNo=1&numOfRows=10000&LAWD_CD=11230&DEAL_YMD=201001',\n",
       " 'http://openapi.molit.go.kr/OpenAPI_ToolInstallPackage/service/rest/RTMSOBJSvc/getRTMSDataSvcAptTradeDev?serviceKey=OSuNRoNLvTbcIjbHj3pWw2WHibEa%2FhYBmhMnXocnaw6O%2Bg36NybrbO5jp38r%2BI646%2Fk9NLJoIVHRPWyKz%2Foiow%3D%3D&pageNo=1&numOfRows=10000&LAWD_CD=11260&DEAL_YMD=201001',\n",
       " 'http://openapi.molit.go.kr/OpenAPI_ToolInstallPackage/service/rest/RTMSOBJSvc/getRTMSDataSvcAptTradeDev?serviceKey=OSuNRoNLvTbcIjbHj3pWw2WHibEa%2FhYBmhMnXocnaw6O%2Bg36NybrbO5jp38r%2BI646%2Fk9NLJoIVHRPWyKz%2Foiow%3D%3D&pageNo=1&numOfRows=10000&LAWD_CD=11290&DEAL_YMD=201001',\n",
       " 'http://openapi.molit.go.kr/OpenAPI_ToolInstallPackage/service/rest/RTMSOBJSvc/getRTMSDataSvcAptTradeDev?serviceKey=OSuNRoNLvTbcIjbHj3pWw2WHibEa%2FhYBmhMnXocnaw6O%2Bg36NybrbO5jp38r%2BI646%2Fk9NLJoIVHRPWyKz%2Foiow%3D%3D&pageNo=1&numOfRows=10000&LAWD_CD=11305&DEAL_YMD=201001']"
      ]
     },
     "execution_count": 8,
     "metadata": {},
     "output_type": "execute_result"
    }
   ],
   "source": [
    "urls_list[0:10]"
   ]
  },
  {
   "cell_type": "code",
   "execution_count": 38,
   "id": "be1f5aba",
   "metadata": {
    "ExecuteTime": {
     "end_time": "2021-07-23T01:24:58.180671Z",
     "start_time": "2021-07-23T01:24:56.867298Z"
    }
   },
   "outputs": [],
   "source": [
    "driver = webdriver.Chrome(dir_for_shinhan)"
   ]
  },
  {
   "cell_type": "code",
   "execution_count": null,
   "id": "9413d478",
   "metadata": {
    "ExecuteTime": {
     "start_time": "2021-07-23T01:25:15.551Z"
    }
   },
   "outputs": [],
   "source": [
    "df_list = []\n",
    "\n",
    "for region in region_code.iterrows():\n",
    "    for date in date_list:\n",
    "        tmp_url = base_url.format(region[1]['법정동코드_cut'],date)\n",
    "        driver.get(tmp_url)\n",
    "\n",
    "        soup = BeautifulSoup(driver.page_source,'xml')\n",
    "        total_row = soup.find('totalCount').text\n",
    "\n",
    "        if total_row == '0':\n",
    "            pass\n",
    "\n",
    "        else:\n",
    "            return_list = []\n",
    "            for soup_parser in soup.find_all('item'):\n",
    "                data_parser = re.sub('\\<(.*?)\\>',' ',str(soup_parser))\n",
    "                data_parser = re.sub('\\s{2,}',' ',data_parser).strip().split(' ')\n",
    "\n",
    "                if len(data_parser) == 24:\n",
    "                    data_parser = data_parser + ['0','0']\n",
    "\n",
    "                add_df = pd.DataFrame(dict(zip(tagg,data_parser)),index=[0])\n",
    "                add_df['법정동명'] = region[1]['법정동명']\n",
    "                add_df['법정동코드_cut'] = region[1]['법정동코드_cut']\n",
    "\n",
    "                return_list.append(add_df)\n",
    "\n",
    "            df_list.append(pd.concat(return_list,axis=0))"
   ]
  },
  {
   "cell_type": "code",
   "execution_count": null,
   "id": "46798800",
   "metadata": {},
   "outputs": [],
   "source": []
  }
 ],
 "metadata": {
  "kernelspec": {
   "display_name": "simon_env",
   "language": "python",
   "name": "simon_env"
  },
  "language_info": {
   "codemirror_mode": {
    "name": "ipython",
    "version": 3
   },
   "file_extension": ".py",
   "mimetype": "text/x-python",
   "name": "python",
   "nbconvert_exporter": "python",
   "pygments_lexer": "ipython3",
   "version": "3.7.10"
  },
  "varInspector": {
   "cols": {
    "lenName": 16,
    "lenType": 16,
    "lenVar": 40
   },
   "kernels_config": {
    "python": {
     "delete_cmd_postfix": "",
     "delete_cmd_prefix": "del ",
     "library": "var_list.py",
     "varRefreshCmd": "print(var_dic_list())"
    },
    "r": {
     "delete_cmd_postfix": ") ",
     "delete_cmd_prefix": "rm(",
     "library": "var_list.r",
     "varRefreshCmd": "cat(var_dic_list()) "
    }
   },
   "types_to_exclude": [
    "module",
    "function",
    "builtin_function_or_method",
    "instance",
    "_Feature"
   ],
   "window_display": false
  }
 },
 "nbformat": 4,
 "nbformat_minor": 5
}
