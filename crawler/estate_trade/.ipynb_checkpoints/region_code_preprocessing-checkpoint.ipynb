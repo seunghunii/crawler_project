{
 "cells": [
  {
   "cell_type": "code",
   "execution_count": 1,
   "id": "f78d5006",
   "metadata": {
    "ExecuteTime": {
     "end_time": "2021-07-22T05:35:49.776382Z",
     "start_time": "2021-07-22T05:35:49.301767Z"
    }
   },
   "outputs": [],
   "source": [
    "from bs4 import BeautifulSoup\n",
    "import pandas as pd\n",
    "import numpy as np\n",
    "import selenium"
   ]
  },
  {
   "cell_type": "code",
   "execution_count": 2,
   "id": "3ba0f87a",
   "metadata": {
    "ExecuteTime": {
     "end_time": "2021-07-22T05:35:49.822389Z",
     "start_time": "2021-07-22T05:35:49.808398Z"
    }
   },
   "outputs": [],
   "source": [
    "dir_for_shinhan = 'C:/Users/shic/Desktop/shinhan_simon/chromedriver/chromedriver.exe'\n",
    "dir_for_seunghun = 'C:/Users/rsh15/Desktop/seunghuni/selenium/chromedriver.exe'\n",
    "\n",
    "header = {\n",
    "    'User-Agent':'Mozilla/5.0 (Windows NT 10.0; Win64; x64) AppleWebKit/537.36 (KHTML, like Gecko) Chrome/91.0.4472.124 Safari/537.36'\n",
    "}"
   ]
  },
  {
   "cell_type": "code",
   "execution_count": 15,
   "id": "d444c2c7",
   "metadata": {
    "ExecuteTime": {
     "end_time": "2021-07-22T05:43:53.155204Z",
     "start_time": "2021-07-22T05:43:53.064233Z"
    }
   },
   "outputs": [],
   "source": [
    "# region code\n",
    "f = open('C:/Users/shic/Desktop/crawler_project/data_save/estate_trade/region_code.txt','r')\n",
    "strr = f.readlines()\n",
    "region_list = []\n",
    "for sub_str in strr:\n",
    "    region_list.append(sub_str.replace('\\n','').split('\\t'))"
   ]
  },
  {
   "cell_type": "code",
   "execution_count": 43,
   "id": "58c99c24",
   "metadata": {
    "ExecuteTime": {
     "end_time": "2021-07-22T06:06:00.260510Z",
     "start_time": "2021-07-22T06:06:00.216633Z"
    }
   },
   "outputs": [
    {
     "data": {
      "text/html": [
       "<div>\n",
       "<style scoped>\n",
       "    .dataframe tbody tr th:only-of-type {\n",
       "        vertical-align: middle;\n",
       "    }\n",
       "\n",
       "    .dataframe tbody tr th {\n",
       "        vertical-align: top;\n",
       "    }\n",
       "\n",
       "    .dataframe thead th {\n",
       "        text-align: right;\n",
       "    }\n",
       "</style>\n",
       "<table border=\"1\" class=\"dataframe\">\n",
       "  <thead>\n",
       "    <tr style=\"text-align: right;\">\n",
       "      <th></th>\n",
       "      <th>법정동코드</th>\n",
       "      <th>법정동명</th>\n",
       "      <th>폐지여부</th>\n",
       "      <th>법정동코드_cut</th>\n",
       "    </tr>\n",
       "  </thead>\n",
       "  <tbody>\n",
       "    <tr>\n",
       "      <th>1</th>\n",
       "      <td>1100000000</td>\n",
       "      <td>서울특별시</td>\n",
       "      <td>존재</td>\n",
       "      <td>11000</td>\n",
       "    </tr>\n",
       "    <tr>\n",
       "      <th>2</th>\n",
       "      <td>1111000000</td>\n",
       "      <td>서울특별시 종로구</td>\n",
       "      <td>존재</td>\n",
       "      <td>11110</td>\n",
       "    </tr>\n",
       "    <tr>\n",
       "      <th>3</th>\n",
       "      <td>1111010100</td>\n",
       "      <td>서울특별시 종로구 청운동</td>\n",
       "      <td>존재</td>\n",
       "      <td>11110</td>\n",
       "    </tr>\n",
       "    <tr>\n",
       "      <th>4</th>\n",
       "      <td>1111010200</td>\n",
       "      <td>서울특별시 종로구 신교동</td>\n",
       "      <td>존재</td>\n",
       "      <td>11110</td>\n",
       "    </tr>\n",
       "    <tr>\n",
       "      <th>5</th>\n",
       "      <td>1111010300</td>\n",
       "      <td>서울특별시 종로구 궁정동</td>\n",
       "      <td>존재</td>\n",
       "      <td>11110</td>\n",
       "    </tr>\n",
       "    <tr>\n",
       "      <th>...</th>\n",
       "      <td>...</td>\n",
       "      <td>...</td>\n",
       "      <td>...</td>\n",
       "      <td>...</td>\n",
       "    </tr>\n",
       "    <tr>\n",
       "      <th>46288</th>\n",
       "      <td>5013032022</td>\n",
       "      <td>제주특별자치도 서귀포시 표선면 하천리</td>\n",
       "      <td>존재</td>\n",
       "      <td>50130</td>\n",
       "    </tr>\n",
       "    <tr>\n",
       "      <th>46289</th>\n",
       "      <td>5013032023</td>\n",
       "      <td>제주특별자치도 서귀포시 표선면 성읍리</td>\n",
       "      <td>존재</td>\n",
       "      <td>50130</td>\n",
       "    </tr>\n",
       "    <tr>\n",
       "      <th>46290</th>\n",
       "      <td>5013032024</td>\n",
       "      <td>제주특별자치도 서귀포시 표선면 가시리</td>\n",
       "      <td>존재</td>\n",
       "      <td>50130</td>\n",
       "    </tr>\n",
       "    <tr>\n",
       "      <th>46291</th>\n",
       "      <td>5013032025</td>\n",
       "      <td>제주특별자치도 서귀포시 표선면 세화리</td>\n",
       "      <td>존재</td>\n",
       "      <td>50130</td>\n",
       "    </tr>\n",
       "    <tr>\n",
       "      <th>46292</th>\n",
       "      <td>5013032026</td>\n",
       "      <td>제주특별자치도 서귀포시 표선면 토산리</td>\n",
       "      <td>존재</td>\n",
       "      <td>50130</td>\n",
       "    </tr>\n",
       "  </tbody>\n",
       "</table>\n",
       "<p>46292 rows × 4 columns</p>\n",
       "</div>"
      ],
      "text/plain": [
       "0           법정동코드                  법정동명 폐지여부 법정동코드_cut\n",
       "1      1100000000                 서울특별시   존재     11000\n",
       "2      1111000000             서울특별시 종로구   존재     11110\n",
       "3      1111010100         서울특별시 종로구 청운동   존재     11110\n",
       "4      1111010200         서울특별시 종로구 신교동   존재     11110\n",
       "5      1111010300         서울특별시 종로구 궁정동   존재     11110\n",
       "...           ...                   ...  ...       ...\n",
       "46288  5013032022  제주특별자치도 서귀포시 표선면 하천리   존재     50130\n",
       "46289  5013032023  제주특별자치도 서귀포시 표선면 성읍리   존재     50130\n",
       "46290  5013032024  제주특별자치도 서귀포시 표선면 가시리   존재     50130\n",
       "46291  5013032025  제주특별자치도 서귀포시 표선면 세화리   존재     50130\n",
       "46292  5013032026  제주특별자치도 서귀포시 표선면 토산리   존재     50130\n",
       "\n",
       "[46292 rows x 4 columns]"
      ]
     },
     "execution_count": 43,
     "metadata": {},
     "output_type": "execute_result"
    }
   ],
   "source": [
    "region_df = pd.DataFrame(region_list)\n",
    "region_df.columns = region_df.iloc[0,:]\n",
    "region_df.drop(0,axis=0,inplace=True)\n",
    "region_df['법정동코드_cut'] = region_df['법정동코드'].str.slice(stop=5)\n",
    "region_df"
   ]
  },
  {
   "cell_type": "code",
   "execution_count": 50,
   "id": "2f934daf",
   "metadata": {
    "ExecuteTime": {
     "end_time": "2021-07-22T06:07:10.305777Z",
     "start_time": "2021-07-22T06:07:10.236932Z"
    }
   },
   "outputs": [
    {
     "data": {
      "text/html": [
       "<div>\n",
       "<style scoped>\n",
       "    .dataframe tbody tr th:only-of-type {\n",
       "        vertical-align: middle;\n",
       "    }\n",
       "\n",
       "    .dataframe tbody tr th {\n",
       "        vertical-align: top;\n",
       "    }\n",
       "\n",
       "    .dataframe thead th {\n",
       "        text-align: right;\n",
       "    }\n",
       "</style>\n",
       "<table border=\"1\" class=\"dataframe\">\n",
       "  <thead>\n",
       "    <tr style=\"text-align: right;\">\n",
       "      <th></th>\n",
       "      <th>법정동코드</th>\n",
       "      <th>법정동명</th>\n",
       "      <th>폐지여부</th>\n",
       "      <th>법정동코드_cut</th>\n",
       "    </tr>\n",
       "  </thead>\n",
       "  <tbody>\n",
       "    <tr>\n",
       "      <th>0</th>\n",
       "      <td>1100000000</td>\n",
       "      <td>서울특별시</td>\n",
       "      <td>존재</td>\n",
       "      <td>11000</td>\n",
       "    </tr>\n",
       "    <tr>\n",
       "      <th>1</th>\n",
       "      <td>1111000000</td>\n",
       "      <td>서울특별시 종로구</td>\n",
       "      <td>존재</td>\n",
       "      <td>11110</td>\n",
       "    </tr>\n",
       "    <tr>\n",
       "      <th>2</th>\n",
       "      <td>1114000000</td>\n",
       "      <td>서울특별시 중구</td>\n",
       "      <td>존재</td>\n",
       "      <td>11140</td>\n",
       "    </tr>\n",
       "    <tr>\n",
       "      <th>3</th>\n",
       "      <td>1117000000</td>\n",
       "      <td>서울특별시 용산구</td>\n",
       "      <td>존재</td>\n",
       "      <td>11170</td>\n",
       "    </tr>\n",
       "    <tr>\n",
       "      <th>4</th>\n",
       "      <td>1120000000</td>\n",
       "      <td>서울특별시 성동구</td>\n",
       "      <td>존재</td>\n",
       "      <td>11200</td>\n",
       "    </tr>\n",
       "    <tr>\n",
       "      <th>...</th>\n",
       "      <td>...</td>\n",
       "      <td>...</td>\n",
       "      <td>...</td>\n",
       "      <td>...</td>\n",
       "    </tr>\n",
       "    <tr>\n",
       "      <th>456</th>\n",
       "      <td>4971000000</td>\n",
       "      <td>제주도 북제주군</td>\n",
       "      <td>폐지</td>\n",
       "      <td>49710</td>\n",
       "    </tr>\n",
       "    <tr>\n",
       "      <th>457</th>\n",
       "      <td>4972000000</td>\n",
       "      <td>제주도 남제주군</td>\n",
       "      <td>폐지</td>\n",
       "      <td>49720</td>\n",
       "    </tr>\n",
       "    <tr>\n",
       "      <th>458</th>\n",
       "      <td>5000000000</td>\n",
       "      <td>제주특별자치도</td>\n",
       "      <td>존재</td>\n",
       "      <td>50000</td>\n",
       "    </tr>\n",
       "    <tr>\n",
       "      <th>459</th>\n",
       "      <td>5011000000</td>\n",
       "      <td>제주특별자치도 제주시</td>\n",
       "      <td>존재</td>\n",
       "      <td>50110</td>\n",
       "    </tr>\n",
       "    <tr>\n",
       "      <th>460</th>\n",
       "      <td>5013000000</td>\n",
       "      <td>제주특별자치도 서귀포시</td>\n",
       "      <td>존재</td>\n",
       "      <td>50130</td>\n",
       "    </tr>\n",
       "  </tbody>\n",
       "</table>\n",
       "<p>461 rows × 4 columns</p>\n",
       "</div>"
      ],
      "text/plain": [
       "0         법정동코드          법정동명 폐지여부 법정동코드_cut\n",
       "0    1100000000         서울특별시   존재     11000\n",
       "1    1111000000     서울특별시 종로구   존재     11110\n",
       "2    1114000000      서울특별시 중구   존재     11140\n",
       "3    1117000000     서울특별시 용산구   존재     11170\n",
       "4    1120000000     서울특별시 성동구   존재     11200\n",
       "..          ...           ...  ...       ...\n",
       "456  4971000000      제주도 북제주군   폐지     49710\n",
       "457  4972000000      제주도 남제주군   폐지     49720\n",
       "458  5000000000       제주특별자치도   존재     50000\n",
       "459  5011000000   제주특별자치도 제주시   존재     50110\n",
       "460  5013000000  제주특별자치도 서귀포시   존재     50130\n",
       "\n",
       "[461 rows x 4 columns]"
      ]
     },
     "execution_count": 50,
     "metadata": {},
     "output_type": "execute_result"
    }
   ],
   "source": [
    "parsing_code = region_df.groupby('법정동코드_cut')['법정동코드'].min().tolist()\n",
    "parsed_region = region_df.loc[region_df['법정동코드'].isin(parsing_code),:]\n",
    "parsed_region.reset_index(drop=True,inplace=True)\n",
    "parsed_region"
   ]
  },
  {
   "cell_type": "code",
   "execution_count": 47,
   "id": "a0f0a44f",
   "metadata": {
    "ExecuteTime": {
     "end_time": "2021-07-22T06:06:41.379113Z",
     "start_time": "2021-07-22T06:06:41.359168Z"
    }
   },
   "outputs": [
    {
     "data": {
      "text/plain": [
       "461"
      ]
     },
     "execution_count": 47,
     "metadata": {},
     "output_type": "execute_result"
    }
   ],
   "source": [
    "len(region_df['법정동코드_cut'].unique())"
   ]
  },
  {
   "cell_type": "code",
   "execution_count": 51,
   "id": "e5fde303",
   "metadata": {
    "ExecuteTime": {
     "end_time": "2021-07-22T06:07:53.098981Z",
     "start_time": "2021-07-22T06:07:53.085019Z"
    }
   },
   "outputs": [],
   "source": [
    "parsed_region.to_csv('C:/Users/shic/Desktop/crawler_project/data_save/estate_trade/region_code_parsed.csv',index=False)"
   ]
  },
  {
   "cell_type": "code",
   "execution_count": null,
   "id": "894d42d2",
   "metadata": {},
   "outputs": [],
   "source": []
  }
 ],
 "metadata": {
  "kernelspec": {
   "display_name": "simon_env",
   "language": "python",
   "name": "simon_env"
  },
  "language_info": {
   "codemirror_mode": {
    "name": "ipython",
    "version": 3
   },
   "file_extension": ".py",
   "mimetype": "text/x-python",
   "name": "python",
   "nbconvert_exporter": "python",
   "pygments_lexer": "ipython3",
   "version": "3.7.10"
  },
  "varInspector": {
   "cols": {
    "lenName": 16,
    "lenType": 16,
    "lenVar": 40
   },
   "kernels_config": {
    "python": {
     "delete_cmd_postfix": "",
     "delete_cmd_prefix": "del ",
     "library": "var_list.py",
     "varRefreshCmd": "print(var_dic_list())"
    },
    "r": {
     "delete_cmd_postfix": ") ",
     "delete_cmd_prefix": "rm(",
     "library": "var_list.r",
     "varRefreshCmd": "cat(var_dic_list()) "
    }
   },
   "types_to_exclude": [
    "module",
    "function",
    "builtin_function_or_method",
    "instance",
    "_Feature"
   ],
   "window_display": false
  }
 },
 "nbformat": 4,
 "nbformat_minor": 5
}
