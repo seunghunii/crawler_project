{
 "cells": [
  {
   "cell_type": "code",
   "execution_count": 37,
   "id": "2c89adcb",
   "metadata": {
    "ExecuteTime": {
     "end_time": "2021-07-22T23:26:18.163783Z",
     "start_time": "2021-07-22T23:26:18.146854Z"
    }
   },
   "outputs": [],
   "source": [
    "import selenium\n",
    "from selenium import webdriver\n",
    "import pandas as pd\n",
    "import json\n",
    "import re\n",
    "from bs4 import BeautifulSoup"
   ]
  },
  {
   "cell_type": "code",
   "execution_count": 8,
   "id": "d79bef9a",
   "metadata": {
    "ExecuteTime": {
     "end_time": "2021-07-22T23:18:14.507816Z",
     "start_time": "2021-07-22T23:18:14.477526Z"
    }
   },
   "outputs": [
    {
     "data": {
      "text/html": [
       "<div>\n",
       "<style scoped>\n",
       "    .dataframe tbody tr th:only-of-type {\n",
       "        vertical-align: middle;\n",
       "    }\n",
       "\n",
       "    .dataframe tbody tr th {\n",
       "        vertical-align: top;\n",
       "    }\n",
       "\n",
       "    .dataframe thead th {\n",
       "        text-align: right;\n",
       "    }\n",
       "</style>\n",
       "<table border=\"1\" class=\"dataframe\">\n",
       "  <thead>\n",
       "    <tr style=\"text-align: right;\">\n",
       "      <th></th>\n",
       "      <th>법정동코드</th>\n",
       "      <th>법정동명</th>\n",
       "      <th>폐지여부</th>\n",
       "      <th>법정동코드_cut</th>\n",
       "    </tr>\n",
       "  </thead>\n",
       "  <tbody>\n",
       "    <tr>\n",
       "      <th>0</th>\n",
       "      <td>1100000000</td>\n",
       "      <td>서울특별시</td>\n",
       "      <td>존재</td>\n",
       "      <td>11000</td>\n",
       "    </tr>\n",
       "    <tr>\n",
       "      <th>1</th>\n",
       "      <td>1111000000</td>\n",
       "      <td>서울특별시 종로구</td>\n",
       "      <td>존재</td>\n",
       "      <td>11110</td>\n",
       "    </tr>\n",
       "    <tr>\n",
       "      <th>2</th>\n",
       "      <td>1114000000</td>\n",
       "      <td>서울특별시 중구</td>\n",
       "      <td>존재</td>\n",
       "      <td>11140</td>\n",
       "    </tr>\n",
       "    <tr>\n",
       "      <th>3</th>\n",
       "      <td>1117000000</td>\n",
       "      <td>서울특별시 용산구</td>\n",
       "      <td>존재</td>\n",
       "      <td>11170</td>\n",
       "    </tr>\n",
       "    <tr>\n",
       "      <th>4</th>\n",
       "      <td>1120000000</td>\n",
       "      <td>서울특별시 성동구</td>\n",
       "      <td>존재</td>\n",
       "      <td>11200</td>\n",
       "    </tr>\n",
       "    <tr>\n",
       "      <th>...</th>\n",
       "      <td>...</td>\n",
       "      <td>...</td>\n",
       "      <td>...</td>\n",
       "      <td>...</td>\n",
       "    </tr>\n",
       "    <tr>\n",
       "      <th>456</th>\n",
       "      <td>4971000000</td>\n",
       "      <td>제주도 북제주군</td>\n",
       "      <td>폐지</td>\n",
       "      <td>49710</td>\n",
       "    </tr>\n",
       "    <tr>\n",
       "      <th>457</th>\n",
       "      <td>4972000000</td>\n",
       "      <td>제주도 남제주군</td>\n",
       "      <td>폐지</td>\n",
       "      <td>49720</td>\n",
       "    </tr>\n",
       "    <tr>\n",
       "      <th>458</th>\n",
       "      <td>5000000000</td>\n",
       "      <td>제주특별자치도</td>\n",
       "      <td>존재</td>\n",
       "      <td>50000</td>\n",
       "    </tr>\n",
       "    <tr>\n",
       "      <th>459</th>\n",
       "      <td>5011000000</td>\n",
       "      <td>제주특별자치도 제주시</td>\n",
       "      <td>존재</td>\n",
       "      <td>50110</td>\n",
       "    </tr>\n",
       "    <tr>\n",
       "      <th>460</th>\n",
       "      <td>5013000000</td>\n",
       "      <td>제주특별자치도 서귀포시</td>\n",
       "      <td>존재</td>\n",
       "      <td>50130</td>\n",
       "    </tr>\n",
       "  </tbody>\n",
       "</table>\n",
       "<p>461 rows × 4 columns</p>\n",
       "</div>"
      ],
      "text/plain": [
       "          법정동코드          법정동명 폐지여부  법정동코드_cut\n",
       "0    1100000000         서울특별시   존재      11000\n",
       "1    1111000000     서울특별시 종로구   존재      11110\n",
       "2    1114000000      서울특별시 중구   존재      11140\n",
       "3    1117000000     서울특별시 용산구   존재      11170\n",
       "4    1120000000     서울특별시 성동구   존재      11200\n",
       "..          ...           ...  ...        ...\n",
       "456  4971000000      제주도 북제주군   폐지      49710\n",
       "457  4972000000      제주도 남제주군   폐지      49720\n",
       "458  5000000000       제주특별자치도   존재      50000\n",
       "459  5011000000   제주특별자치도 제주시   존재      50110\n",
       "460  5013000000  제주특별자치도 서귀포시   존재      50130\n",
       "\n",
       "[461 rows x 4 columns]"
      ]
     },
     "execution_count": 8,
     "metadata": {},
     "output_type": "execute_result"
    }
   ],
   "source": [
    "# region code df\n",
    "region_code = pd.read_csv('C:/Users/shic/Desktop/crawler_project/data_save/estate_trade/region_code_parsed.csv')\n",
    "region_code"
   ]
  },
  {
   "cell_type": "code",
   "execution_count": 9,
   "id": "897483bf",
   "metadata": {
    "ExecuteTime": {
     "end_time": "2021-07-22T23:18:14.522776Z",
     "start_time": "2021-07-22T23:18:14.508814Z"
    }
   },
   "outputs": [],
   "source": [
    "base_url = 'http://openapi.molit.go.kr/OpenAPI_ToolInstallPackage/service/rest/RTMSOBJSvc/getRTMSDataSvcAptTradeDev?serviceKey=OSuNRoNLvTbcIjbHj3pWw2WHibEa%2FhYBmhMnXocnaw6O%2Bg36NybrbO5jp38r%2BI646%2Fk9NLJoIVHRPWyKz%2Foiow%3D%3D&pageNo=1&numOfRows=10000&LAWD_CD={}&DEAL_YMD={}'"
   ]
  },
  {
   "cell_type": "code",
   "execution_count": 10,
   "id": "bd798f57",
   "metadata": {
    "ExecuteTime": {
     "end_time": "2021-07-22T23:18:14.537925Z",
     "start_time": "2021-07-22T23:18:14.523802Z"
    }
   },
   "outputs": [
    {
     "name": "stdout",
     "output_type": "stream",
     "text": [
      "http://openapi.molit.go.kr/OpenAPI_ToolInstallPackage/service/rest/RTMSOBJSvc/getRTMSDataSvcAptTradeDev?serviceKey=OSuNRoNLvTbcIjbHj3pWw2WHibEa%2FhYBmhMnXocnaw6O%2Bg36NybrbO5jp38r%2BI646%2Fk9NLJoIVHRPWyKz%2Foiow%3D%3D&pageNo=1&numOfRows=10000&LAWD_CD=11110&DEAL_YMD=200801\n"
     ]
    }
   ],
   "source": [
    "print(base_url.format('11110','200801'))"
   ]
  },
  {
   "cell_type": "code",
   "execution_count": 11,
   "id": "e328046b",
   "metadata": {
    "ExecuteTime": {
     "end_time": "2021-07-22T23:18:14.552945Z",
     "start_time": "2021-07-22T23:18:14.538922Z"
    }
   },
   "outputs": [
    {
     "name": "stdout",
     "output_type": "stream",
     "text": [
      "http://openapi.molit.go.kr/OpenAPI_ToolInstallPackage/service/rest/RTMSOBJSvc/getRTMSDataSvcAptTradeDev?serviceKey=OSuNRoNLvTbcIjbHj3pWw2WHibEa%2FhYBmhMnXocnaw6O%2Bg36NybrbO5jp38r%2BI646%2Fk9NLJoIVHRPWyKz%2Foiow%3D%3D&pageNo=1&numOfRows=10000&LAWD_CD=11000&DEAL_YMD=200801\n"
     ]
    }
   ],
   "source": [
    "print(base_url.format('11000','200801'))"
   ]
  },
  {
   "cell_type": "code",
   "execution_count": 12,
   "id": "8dd7e432",
   "metadata": {
    "ExecuteTime": {
     "end_time": "2021-07-22T23:18:14.568900Z",
     "start_time": "2021-07-22T23:18:14.553914Z"
    }
   },
   "outputs": [],
   "source": [
    "date_list = []\n",
    "for year in range(2010,2022):\n",
    "    for month in range(1,13):\n",
    "        if year == 2021 and month == 7:\n",
    "            break\n",
    "        \n",
    "        if len(str(month)) == 1:\n",
    "            date_string = str(year) + '0' + str(month)\n",
    "        else:\n",
    "            date_string = str(year) + str(month)\n",
    "        \n",
    "        date_list.append(date_string)\n",
    "        "
   ]
  },
  {
   "cell_type": "code",
   "execution_count": 13,
   "id": "7e23b97c",
   "metadata": {
    "ExecuteTime": {
     "end_time": "2021-07-22T23:18:14.584872Z",
     "start_time": "2021-07-22T23:18:14.569893Z"
    }
   },
   "outputs": [],
   "source": [
    "dir_for_shinhan = 'C:/Users/shic/Desktop/shinhan_simon/chromedriver/chromedriver.exe'"
   ]
  },
  {
   "cell_type": "code",
   "execution_count": 14,
   "id": "66267027",
   "metadata": {
    "ExecuteTime": {
     "end_time": "2021-07-22T23:18:14.600885Z",
     "start_time": "2021-07-22T23:18:14.586862Z"
    }
   },
   "outputs": [],
   "source": [
    "url_with_no_data = 'http://openapi.molit.go.kr/OpenAPI_ToolInstallPackage/service/rest/RTMSOBJSvc/getRTMSDataSvcAptTradeDev?serviceKey=OSuNRoNLvTbcIjbHj3pWw2WHibEa%2FhYBmhMnXocnaw6O%2Bg36NybrbO5jp38r%2BI646%2Fk9NLJoIVHRPWyKz%2Foiow%3D%3D&pageNo=1&numOfRows=10&LAWD_CD=11000&DEAL_YMD=200801'\n",
    "url_with_data    = 'http://openapi.molit.go.kr/OpenAPI_ToolInstallPackage/service/rest/RTMSOBJSvc/getRTMSDataSvcAptTradeDev?serviceKey=OSuNRoNLvTbcIjbHj3pWw2WHibEa%2FhYBmhMnXocnaw6O%2Bg36NybrbO5jp38r%2BI646%2Fk9NLJoIVHRPWyKz%2Foiow%3D%3D&pageNo=1&numOfRows=10&LAWD_CD=11140&DEAL_YMD=200801'"
   ]
  },
  {
   "cell_type": "code",
   "execution_count": 15,
   "id": "d4dcd996",
   "metadata": {
    "ExecuteTime": {
     "end_time": "2021-07-22T23:18:16.004501Z",
     "start_time": "2021-07-22T23:18:14.601860Z"
    }
   },
   "outputs": [],
   "source": [
    "driver = webdriver.Chrome(dir_for_shinhan)"
   ]
  },
  {
   "cell_type": "code",
   "execution_count": 16,
   "id": "03d25458",
   "metadata": {
    "ExecuteTime": {
     "end_time": "2021-07-22T23:18:16.329471Z",
     "start_time": "2021-07-22T23:18:16.006498Z"
    }
   },
   "outputs": [],
   "source": [
    "driver.get(url_with_data)"
   ]
  },
  {
   "cell_type": "code",
   "execution_count": 21,
   "id": "ecc37327",
   "metadata": {
    "ExecuteTime": {
     "end_time": "2021-07-22T23:22:17.579148Z",
     "start_time": "2021-07-22T23:22:17.535251Z"
    }
   },
   "outputs": [
    {
     "data": {
      "text/plain": [
       "'52'"
      ]
     },
     "execution_count": 21,
     "metadata": {},
     "output_type": "execute_result"
    }
   ],
   "source": [
    "soup = BeautifulSoup(driver.page_source,'xml')\n",
    "total_row = soup.find_all('totalCount')[0].text\n",
    "total_row"
   ]
  },
  {
   "cell_type": "code",
   "execution_count": 36,
   "id": "ad1eaada",
   "metadata": {
    "ExecuteTime": {
     "end_time": "2021-07-22T23:25:32.316068Z",
     "start_time": "2021-07-22T23:25:32.308089Z"
    }
   },
   "outputs": [
    {
     "data": {
      "text/plain": [
       "<item><거래금액>     4,800</거래금액><건축년도>1981</건축년도><년>2008</년><도로명>동호로25길</도로명><도로명건물본번호코드>00036</도로명건물본번호코드><도로명건물부번호코드>00000</도로명건물부번호코드><도로명시군구코드>11140</도로명시군구코드><도로명일련번호코드>01</도로명일련번호코드><도로명지상지하코드>0</도로명지상지하코드><도로명코드>4103104</도로명코드><법정동> 장충동2가</법정동><법정동본번코드>0193</법정동본번코드><법정동부번코드>0029</법정동부번코드><법정동시군구코드>11140</법정동시군구코드><법정동읍면동코드>14400</법정동읍면동코드><법정동지번코드>1</법정동지번코드><아파트>장충</아파트><월>1</월><일>2</일><일련번호>11140-21</일련번호><전용면적>31.24</전용면적><지번>193-29</지번><지역코드>11140</지역코드><층>6</층><해제사유발생일> </해제사유발생일><해제여부> </해제여부></item>"
      ]
     },
     "execution_count": 36,
     "metadata": {},
     "output_type": "execute_result"
    }
   ],
   "source": [
    "tmp_parsed = soup.find_all('item')\n",
    "tmp_parsed[0]"
   ]
  },
  {
   "cell_type": "code",
   "execution_count": 68,
   "id": "90968b1b",
   "metadata": {
    "ExecuteTime": {
     "end_time": "2021-07-22T23:34:27.335587Z",
     "start_time": "2021-07-22T23:34:27.323617Z"
    }
   },
   "outputs": [
    {
     "data": {
      "text/plain": [
       "['4,800',\n",
       " '1981',\n",
       " '2008',\n",
       " '동호로25길',\n",
       " '00036',\n",
       " '00000',\n",
       " '11140',\n",
       " '01',\n",
       " '0',\n",
       " '4103104',\n",
       " '장충동2가',\n",
       " '0193',\n",
       " '0029',\n",
       " '11140',\n",
       " '14400',\n",
       " '1',\n",
       " '장충',\n",
       " '1',\n",
       " '2',\n",
       " '11140-21',\n",
       " '31.24',\n",
       " '193-29',\n",
       " '11140',\n",
       " '6']"
      ]
     },
     "execution_count": 68,
     "metadata": {},
     "output_type": "execute_result"
    }
   ],
   "source": [
    "parser_one = re.sub('\\<(.*?)\\>',' ',str(tmp_parsed[0]))\n",
    "parser_one = re.sub('\\s{2,}',' ',parser_one).strip().split(' ')\n",
    "parser_one"
   ]
  },
  {
   "cell_type": "code",
   "execution_count": 88,
   "id": "7298bcfb",
   "metadata": {
    "ExecuteTime": {
     "end_time": "2021-07-22T23:55:37.116732Z",
     "start_time": "2021-07-22T23:55:37.097812Z"
    }
   },
   "outputs": [
    {
     "data": {
      "text/plain": [
       "24"
      ]
     },
     "execution_count": 88,
     "metadata": {},
     "output_type": "execute_result"
    }
   ],
   "source": [
    "len(parser_one)"
   ]
  },
  {
   "cell_type": "code",
   "execution_count": 86,
   "id": "d597a0d2",
   "metadata": {
    "ExecuteTime": {
     "end_time": "2021-07-22T23:50:20.651394Z",
     "start_time": "2021-07-22T23:50:20.633441Z"
    }
   },
   "outputs": [],
   "source": [
    "tagg = [ '거래금액','건축년도','년','도로명','도로명건물본번호코드','도로명건물부번호코드',\n",
    "         '도로명시군구코드','도로명일련번호코드','도로명지상지하코드','도로명코드','법정동','법정동본번코드',\n",
    "         '법정동부번코드','법정동시군구코드','법정동읍면동코드','법정동지번코드','아파트',\n",
    "         '월','일','일련번호','전용면적','지번','지역코드','층','해제사유발생일','해제여부']"
   ]
  },
  {
   "cell_type": "code",
   "execution_count": 89,
   "id": "59c05c92",
   "metadata": {
    "ExecuteTime": {
     "end_time": "2021-07-22T23:57:19.541835Z",
     "start_time": "2021-07-22T23:57:19.532859Z"
    }
   },
   "outputs": [
    {
     "data": {
      "text/plain": [
       "26"
      ]
     },
     "execution_count": 89,
     "metadata": {},
     "output_type": "execute_result"
    }
   ],
   "source": [
    "len(tagg)"
   ]
  },
  {
   "cell_type": "code",
   "execution_count": null,
   "id": "1569c33a",
   "metadata": {},
   "outputs": [],
   "source": []
  }
 ],
 "metadata": {
  "kernelspec": {
   "display_name": "simon_env",
   "language": "python",
   "name": "simon_env"
  },
  "language_info": {
   "codemirror_mode": {
    "name": "ipython",
    "version": 3
   },
   "file_extension": ".py",
   "mimetype": "text/x-python",
   "name": "python",
   "nbconvert_exporter": "python",
   "pygments_lexer": "ipython3",
   "version": "3.7.10"
  },
  "varInspector": {
   "cols": {
    "lenName": 16,
    "lenType": 16,
    "lenVar": 40
   },
   "kernels_config": {
    "python": {
     "delete_cmd_postfix": "",
     "delete_cmd_prefix": "del ",
     "library": "var_list.py",
     "varRefreshCmd": "print(var_dic_list())"
    },
    "r": {
     "delete_cmd_postfix": ") ",
     "delete_cmd_prefix": "rm(",
     "library": "var_list.r",
     "varRefreshCmd": "cat(var_dic_list()) "
    }
   },
   "types_to_exclude": [
    "module",
    "function",
    "builtin_function_or_method",
    "instance",
    "_Feature"
   ],
   "window_display": false
  }
 },
 "nbformat": 4,
 "nbformat_minor": 5
}
