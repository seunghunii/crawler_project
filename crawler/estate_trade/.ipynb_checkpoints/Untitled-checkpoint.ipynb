{
 "cells": [
  {
   "cell_type": "code",
   "execution_count": 43,
   "id": "ece77149",
   "metadata": {
    "ExecuteTime": {
     "end_time": "2021-07-22T06:30:50.557585Z",
     "start_time": "2021-07-22T06:30:48.369148Z"
    }
   },
   "outputs": [],
   "source": [
    "import selenium\n",
    "from selenium import webdriver\n",
    "import pandas as pd\n",
    "import json\n",
    "from bs4 import BeautifulSoup"
   ]
  },
  {
   "cell_type": "code",
   "execution_count": 3,
   "id": "0ea6602a",
   "metadata": {
    "ExecuteTime": {
     "end_time": "2021-07-22T06:09:30.818948Z",
     "start_time": "2021-07-22T06:09:30.793027Z"
    }
   },
   "outputs": [
    {
     "data": {
      "text/html": [
       "<div>\n",
       "<style scoped>\n",
       "    .dataframe tbody tr th:only-of-type {\n",
       "        vertical-align: middle;\n",
       "    }\n",
       "\n",
       "    .dataframe tbody tr th {\n",
       "        vertical-align: top;\n",
       "    }\n",
       "\n",
       "    .dataframe thead th {\n",
       "        text-align: right;\n",
       "    }\n",
       "</style>\n",
       "<table border=\"1\" class=\"dataframe\">\n",
       "  <thead>\n",
       "    <tr style=\"text-align: right;\">\n",
       "      <th></th>\n",
       "      <th>법정동코드</th>\n",
       "      <th>법정동명</th>\n",
       "      <th>폐지여부</th>\n",
       "      <th>법정동코드_cut</th>\n",
       "    </tr>\n",
       "  </thead>\n",
       "  <tbody>\n",
       "    <tr>\n",
       "      <th>0</th>\n",
       "      <td>1100000000</td>\n",
       "      <td>서울특별시</td>\n",
       "      <td>존재</td>\n",
       "      <td>11000</td>\n",
       "    </tr>\n",
       "    <tr>\n",
       "      <th>1</th>\n",
       "      <td>1111000000</td>\n",
       "      <td>서울특별시 종로구</td>\n",
       "      <td>존재</td>\n",
       "      <td>11110</td>\n",
       "    </tr>\n",
       "    <tr>\n",
       "      <th>2</th>\n",
       "      <td>1114000000</td>\n",
       "      <td>서울특별시 중구</td>\n",
       "      <td>존재</td>\n",
       "      <td>11140</td>\n",
       "    </tr>\n",
       "    <tr>\n",
       "      <th>3</th>\n",
       "      <td>1117000000</td>\n",
       "      <td>서울특별시 용산구</td>\n",
       "      <td>존재</td>\n",
       "      <td>11170</td>\n",
       "    </tr>\n",
       "    <tr>\n",
       "      <th>4</th>\n",
       "      <td>1120000000</td>\n",
       "      <td>서울특별시 성동구</td>\n",
       "      <td>존재</td>\n",
       "      <td>11200</td>\n",
       "    </tr>\n",
       "    <tr>\n",
       "      <th>...</th>\n",
       "      <td>...</td>\n",
       "      <td>...</td>\n",
       "      <td>...</td>\n",
       "      <td>...</td>\n",
       "    </tr>\n",
       "    <tr>\n",
       "      <th>456</th>\n",
       "      <td>4971000000</td>\n",
       "      <td>제주도 북제주군</td>\n",
       "      <td>폐지</td>\n",
       "      <td>49710</td>\n",
       "    </tr>\n",
       "    <tr>\n",
       "      <th>457</th>\n",
       "      <td>4972000000</td>\n",
       "      <td>제주도 남제주군</td>\n",
       "      <td>폐지</td>\n",
       "      <td>49720</td>\n",
       "    </tr>\n",
       "    <tr>\n",
       "      <th>458</th>\n",
       "      <td>5000000000</td>\n",
       "      <td>제주특별자치도</td>\n",
       "      <td>존재</td>\n",
       "      <td>50000</td>\n",
       "    </tr>\n",
       "    <tr>\n",
       "      <th>459</th>\n",
       "      <td>5011000000</td>\n",
       "      <td>제주특별자치도 제주시</td>\n",
       "      <td>존재</td>\n",
       "      <td>50110</td>\n",
       "    </tr>\n",
       "    <tr>\n",
       "      <th>460</th>\n",
       "      <td>5013000000</td>\n",
       "      <td>제주특별자치도 서귀포시</td>\n",
       "      <td>존재</td>\n",
       "      <td>50130</td>\n",
       "    </tr>\n",
       "  </tbody>\n",
       "</table>\n",
       "<p>461 rows × 4 columns</p>\n",
       "</div>"
      ],
      "text/plain": [
       "          법정동코드          법정동명 폐지여부  법정동코드_cut\n",
       "0    1100000000         서울특별시   존재      11000\n",
       "1    1111000000     서울특별시 종로구   존재      11110\n",
       "2    1114000000      서울특별시 중구   존재      11140\n",
       "3    1117000000     서울특별시 용산구   존재      11170\n",
       "4    1120000000     서울특별시 성동구   존재      11200\n",
       "..          ...           ...  ...        ...\n",
       "456  4971000000      제주도 북제주군   폐지      49710\n",
       "457  4972000000      제주도 남제주군   폐지      49720\n",
       "458  5000000000       제주특별자치도   존재      50000\n",
       "459  5011000000   제주특별자치도 제주시   존재      50110\n",
       "460  5013000000  제주특별자치도 서귀포시   존재      50130\n",
       "\n",
       "[461 rows x 4 columns]"
      ]
     },
     "execution_count": 3,
     "metadata": {},
     "output_type": "execute_result"
    }
   ],
   "source": [
    "# region code df\n",
    "region_code = pd.read_csv('C:/Users/shic/Desktop/crawler_project/data_save/estate_trade/region_code_parsed.csv')\n",
    "region_code"
   ]
  },
  {
   "cell_type": "code",
   "execution_count": 16,
   "id": "8494115d",
   "metadata": {
    "ExecuteTime": {
     "end_time": "2021-07-22T06:20:23.543668Z",
     "start_time": "2021-07-22T06:20:23.536718Z"
    }
   },
   "outputs": [],
   "source": [
    "base_url = 'http://openapi.molit.go.kr/OpenAPI_ToolInstallPackage/service/rest/RTMSOBJSvc/getRTMSDataSvcAptTradeDev?serviceKey=OSuNRoNLvTbcIjbHj3pWw2WHibEa%2FhYBmhMnXocnaw6O%2Bg36NybrbO5jp38r%2BI646%2Fk9NLJoIVHRPWyKz%2Foiow%3D%3D&pageNo=1&numOfRows=10&LAWD_CD={}&DEAL_YMD={}'"
   ]
  },
  {
   "cell_type": "code",
   "execution_count": 35,
   "id": "e94d84b0",
   "metadata": {
    "ExecuteTime": {
     "end_time": "2021-07-22T06:27:59.583755Z",
     "start_time": "2021-07-22T06:27:59.578768Z"
    }
   },
   "outputs": [
    {
     "name": "stdout",
     "output_type": "stream",
     "text": [
      "http://openapi.molit.go.kr/OpenAPI_ToolInstallPackage/service/rest/RTMSOBJSvc/getRTMSDataSvcAptTradeDev?serviceKey=OSuNRoNLvTbcIjbHj3pWw2WHibEa%2FhYBmhMnXocnaw6O%2Bg36NybrbO5jp38r%2BI646%2Fk9NLJoIVHRPWyKz%2Foiow%3D%3D&pageNo=1&numOfRows=10&LAWD_CD=11000&DEAL_YMD=200801\n"
     ]
    }
   ],
   "source": [
    "print(base_url.format('11000','200801'))"
   ]
  },
  {
   "cell_type": "code",
   "execution_count": 26,
   "id": "8dd09f8f",
   "metadata": {
    "ExecuteTime": {
     "end_time": "2021-07-22T06:24:53.814974Z",
     "start_time": "2021-07-22T06:24:53.809959Z"
    }
   },
   "outputs": [],
   "source": [
    "date_list = []\n",
    "for year in range(2010,2022):\n",
    "    for month in range(1,13):\n",
    "        if year == 2021 and month == 7:\n",
    "            break\n",
    "        \n",
    "        if len(str(month)) == 1:\n",
    "            date_string = str(year) + '0' + str(month)\n",
    "        else:\n",
    "            date_string = str(year) + str(month)\n",
    "        \n",
    "        date_list.append(date_string)\n",
    "        "
   ]
  },
  {
   "cell_type": "code",
   "execution_count": 33,
   "id": "50911c07",
   "metadata": {
    "ExecuteTime": {
     "end_time": "2021-07-22T06:27:29.035130Z",
     "start_time": "2021-07-22T06:27:29.023162Z"
    }
   },
   "outputs": [],
   "source": [
    "dir_for_shinhan = 'C:/Users/shic/Desktop/shinhan_simon/chromedriver/chromedriver.exe'"
   ]
  },
  {
   "cell_type": "code",
   "execution_count": 36,
   "id": "ed681dfa",
   "metadata": {
    "ExecuteTime": {
     "end_time": "2021-07-22T06:28:45.537831Z",
     "start_time": "2021-07-22T06:28:45.530849Z"
    }
   },
   "outputs": [],
   "source": [
    "url_with_no_data = 'http://openapi.molit.go.kr/OpenAPI_ToolInstallPackage/service/rest/RTMSOBJSvc/getRTMSDataSvcAptTradeDev?serviceKey=OSuNRoNLvTbcIjbHj3pWw2WHibEa%2FhYBmhMnXocnaw6O%2Bg36NybrbO5jp38r%2BI646%2Fk9NLJoIVHRPWyKz%2Foiow%3D%3D&pageNo=1&numOfRows=10&LAWD_CD=11000&DEAL_YMD=200801'\n",
    "url_with_data    = 'http://openapi.molit.go.kr/OpenAPI_ToolInstallPackage/service/rest/RTMSOBJSvc/getRTMSDataSvcAptTradeDev?serviceKey=OSuNRoNLvTbcIjbHj3pWw2WHibEa%2FhYBmhMnXocnaw6O%2Bg36NybrbO5jp38r%2BI646%2Fk9NLJoIVHRPWyKz%2Foiow%3D%3D&pageNo=1&numOfRows=10&LAWD_CD=11140&DEAL_YMD=200801'"
   ]
  },
  {
   "cell_type": "code",
   "execution_count": 55,
   "id": "d03a84af",
   "metadata": {
    "ExecuteTime": {
     "end_time": "2021-07-22T06:37:39.001425Z",
     "start_time": "2021-07-22T06:37:37.300147Z"
    }
   },
   "outputs": [],
   "source": [
    "driver = webdriver.Chrome(dir_for_shinhan)"
   ]
  },
  {
   "cell_type": "code",
   "execution_count": null,
   "id": "939b6e34",
   "metadata": {},
   "outputs": [],
   "source": [
    "driver.get(url_with_data)"
   ]
  },
  {
   "cell_type": "code",
   "execution_count": 57,
   "id": "00fdbfbe",
   "metadata": {
    "ExecuteTime": {
     "end_time": "2021-07-22T06:38:16.759639Z",
     "start_time": "2021-07-22T06:38:16.702791Z"
    }
   },
   "outputs": [
    {
     "data": {
      "text/plain": [
       "'52'"
      ]
     },
     "execution_count": 57,
     "metadata": {},
     "output_type": "execute_result"
    }
   ],
   "source": [
    "soup = BeautifulSoup(driver.page_source,'xml')\n",
    "soup.find_all('totalCount')[0].text"
   ]
  },
  {
   "cell_type": "code",
   "execution_count": null,
   "id": "96d836aa",
   "metadata": {},
   "outputs": [],
   "source": [
    "for date in date_list:\n",
    "    for region_data in region_code.itterows():\n",
    "        tmp_url = base_url.format(date,region_data[1]['법정동코드_cut'])\n",
    "        \n",
    "        driver.get(tmp_url)\n",
    "        \n",
    "        soup = BeautifulSoup(driver.page_source,'xml')\n",
    "        total_row = soup.find_all('totalCount')[0].text\n",
    "        \n",
    "        df_dict = {}\n",
    "        if total_row == '0':\n",
    "            pass\n",
    "        else:\n",
    "            for row in range(int(total_row)):\n",
    "                \n",
    "            \n",
    "        \n",
    "        "
   ]
  },
  {
   "cell_type": "code",
   "execution_count": 67,
   "id": "14fb5ecc",
   "metadata": {
    "ExecuteTime": {
     "end_time": "2021-07-22T07:20:32.887378Z",
     "start_time": "2021-07-22T07:20:32.870422Z"
    }
   },
   "outputs": [
    {
     "data": {
      "text/plain": [
       "'     4,800'"
      ]
     },
     "execution_count": 67,
     "metadata": {},
     "output_type": "execute_result"
    }
   ],
   "source": [
    "tmp_item = soup.find_all('거래금액')[0].text\n",
    "tmp_item"
   ]
  },
  {
   "cell_type": "code",
   "execution_count": null,
   "id": "f3833705",
   "metadata": {},
   "outputs": [],
   "source": []
  }
 ],
 "metadata": {
  "kernelspec": {
   "display_name": "simon_env",
   "language": "python",
   "name": "simon_env"
  },
  "language_info": {
   "codemirror_mode": {
    "name": "ipython",
    "version": 3
   },
   "file_extension": ".py",
   "mimetype": "text/x-python",
   "name": "python",
   "nbconvert_exporter": "python",
   "pygments_lexer": "ipython3",
   "version": "3.7.10"
  },
  "varInspector": {
   "cols": {
    "lenName": 16,
    "lenType": 16,
    "lenVar": 40
   },
   "kernels_config": {
    "python": {
     "delete_cmd_postfix": "",
     "delete_cmd_prefix": "del ",
     "library": "var_list.py",
     "varRefreshCmd": "print(var_dic_list())"
    },
    "r": {
     "delete_cmd_postfix": ") ",
     "delete_cmd_prefix": "rm(",
     "library": "var_list.r",
     "varRefreshCmd": "cat(var_dic_list()) "
    }
   },
   "types_to_exclude": [
    "module",
    "function",
    "builtin_function_or_method",
    "instance",
    "_Feature"
   ],
   "window_display": false
  }
 },
 "nbformat": 4,
 "nbformat_minor": 5
}
