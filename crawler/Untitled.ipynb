{
 "cells": [
  {
   "cell_type": "code",
   "execution_count": 12,
   "id": "13fb8071",
   "metadata": {
    "ExecuteTime": {
     "end_time": "2021-07-25T23:59:27.946887Z",
     "start_time": "2021-07-25T23:59:27.324093Z"
    }
   },
   "outputs": [],
   "source": [
    "import pandas as pd\n",
    "from selenium import webdriver\n",
    "import numpy as np\n",
    "from bs4 import BeautifulSoup\n",
    "import re\n",
    "import requests\n",
    "from time import sleep\n",
    "import json\n",
    "import multiprocessing as mp\n",
    "from multiprocessing import freeze_support"
   ]
  },
  {
   "cell_type": "code",
   "execution_count": 13,
   "id": "f0db5ef7",
   "metadata": {
    "ExecuteTime": {
     "end_time": "2021-07-25T23:59:40.008808Z",
     "start_time": "2021-07-25T23:59:28.478464Z"
    }
   },
   "outputs": [],
   "source": [
    "dirr = 'C:/Users/shic/Desktop/kb_land_req_text.csv'\n",
    "dataa = pd.read_csv(dirr).reset_index(drop=True)"
   ]
  },
  {
   "cell_type": "code",
   "execution_count": 55,
   "id": "8a79ee89",
   "metadata": {
    "ExecuteTime": {
     "end_time": "2021-07-26T00:57:16.066794Z",
     "start_time": "2021-07-26T00:57:16.051834Z"
    }
   },
   "outputs": [
    {
     "data": {
      "text/plain": [
       "Index(['year', 'month', 'region_b', 'region_s', 'req_text'], dtype='object')"
      ]
     },
     "execution_count": 55,
     "metadata": {},
     "output_type": "execute_result"
    }
   ],
   "source": [
    "dataa.columns"
   ]
  },
  {
   "cell_type": "code",
   "execution_count": 225,
   "id": "9be37da8",
   "metadata": {
    "ExecuteTime": {
     "end_time": "2021-07-26T04:18:59.068751Z",
     "start_time": "2021-07-26T04:18:39.461151Z"
    }
   },
   "outputs": [],
   "source": [
    "tmp_list = []\n",
    "df_list = []\n",
    "for datum in dataa.iterrows():\n",
    "    year  = str(datum[1]['year'])\n",
    "    month = str(datum[1]['month']) \n",
    "    \n",
    "    if re.search(\"graphYn1\",datum[1]['req_text']) is None:\n",
    "            no_return_dataframe = pd.DataFrame({'년' : year,\n",
    "                                                '월' : month,\n",
    "                                                '시/도' : datum[1]['region_b'],\n",
    "                                                '시/군/구': datum[1]['region_s'],\n",
    "                                                '지수_date' : 0,\n",
    "                                                '지수'   : 0,\n",
    "                                                'len_a' : 0,\n",
    "                                                'len_b' : 0\n",
    "            },index=[0])\n",
    "            df_list.append(no_return_dataframe)\n",
    "    else:\n",
    "        ret_a = re.search(\"var graphYn1 = [$](.+?);\", datum[1]['req_text'], re.S).group(1)\n",
    "        ret_a = ret_a.replace(\".trim('[\", \"\").replace(\"') == '' ? false: true\", \"\").replace('Date.UTC(', '')\n",
    "        \n",
    "        date_list_jisu = []\n",
    "        data_list_jisu = []\n",
    "\n",
    "        jisu_split = ret_a.split('], [')\n",
    "\n",
    "        for jisu in jisu_split:\n",
    "            jisu_parser = jisu.split('), ')\n",
    "\n",
    "            jisu_date_parser = jisu_parser[0].replace(' ','').split(',')\n",
    "            \n",
    "            date_list_jisu.append(','.join([\n",
    "                jisu_date_parser[0], str(int(jisu_date_parser[1]) + 1), jisu_date_parser[2]\n",
    "            ]))\n",
    "            data_list_jisu.append(jisu_parser[1].replace(']','').replace(',',''))\n",
    "            \n",
    "        date_list_rate = []\n",
    "        data_list_rate = []\n",
    "        \n",
    "        if re.search(\"var graphYn2 = [$].trim\\(.{1,2}\\)\", datum[1]['req_text'], re.S) is not None:\n",
    "            date_list_rate = np.repeat(0,len(date_list_jisu)).tolist()\n",
    "            data_list_rate = np.repeat(0,len(data_list_jisu)).tolist()\n",
    "        else:\n",
    "            ret_b = re.search('var graphYn2 = [$](.+?);', datum[1]['req_text'], re.S).group(1)\n",
    "            ret_b = ret_b.replace(\".trim('[\", \"\").replace(\"') == '' ? false: true\", \"\").replace('Date.UTC(', '')\n",
    "        \n",
    "            rate_split = ret_b.split('], [')\n",
    "        \n",
    "            for rate in rate_split:\n",
    "                rate_parser = rate.split('), ')\n",
    "\n",
    "                rate_date_parser = rate_parser[0].replace(' ','').split(',')\n",
    "\n",
    "                date_list_rate.append(','.join([\n",
    "                    rate_date_parser[0], str(int(rate_date_parser[1]) + 1), rate_date_parser[2]\n",
    "                    ]))\n",
    "                \n",
    "                data_list_rate.append(rate_parser[1].replace(']','').replace(',',''))\n",
    "                \n",
    "        return_dataframe = pd.DataFrame({\n",
    "                '년'      : year,\n",
    "                '월'     : month,\n",
    "                '시/도'  : datum[1]['region_b'],\n",
    "                '시/군/구': datum[1]['region_s'],\n",
    "                '지수_date'   : date_list_jisu,\n",
    "                '지수'   : data_list_jisu,\n",
    "                'len_a' : len(date_list_rate),\n",
    "                'len_b' : len(data_list_rate)\n",
    "            })\n",
    "        df_list.append(return_dataframe)"
   ]
  },
  {
   "cell_type": "code",
   "execution_count": 226,
   "id": "a8017f8f",
   "metadata": {
    "ExecuteTime": {
     "end_time": "2021-07-26T04:20:13.217388Z",
     "start_time": "2021-07-26T04:20:10.117108Z"
    }
   },
   "outputs": [],
   "source": [
    "df_bind = pd.concat(df_list,axis=0)"
   ]
  },
  {
   "cell_type": "code",
   "execution_count": 227,
   "id": "e81f6a4a",
   "metadata": {
    "ExecuteTime": {
     "end_time": "2021-07-26T04:21:23.403538Z",
     "start_time": "2021-07-26T04:21:23.372622Z"
    }
   },
   "outputs": [
    {
     "name": "stdout",
     "output_type": "stream",
     "text": [
      "[47  0 31 35 46 39 44 48  3  7 11 16 20 24 28 32 37 40 45  2  6 10 14 18\n",
      " 23 27 36  5  9 22 43]\n",
      "[47  0 31 35 46 39 44 48  3  7 11 16 20 24 28 32 37 40 45  2  6 10 14 18\n",
      " 23 27 36  5  9 22 43]\n"
     ]
    }
   ],
   "source": [
    "print(df_bind['len_a'].unique())\n",
    "print(df_bind['len_b'].unique())"
   ]
  },
  {
   "cell_type": "code",
   "execution_count": 228,
   "id": "eaef13c4",
   "metadata": {
    "ExecuteTime": {
     "end_time": "2021-07-26T04:22:33.543990Z",
     "start_time": "2021-07-26T04:22:33.529031Z"
    }
   },
   "outputs": [
    {
     "data": {
      "text/plain": [
       "46"
      ]
     },
     "execution_count": 228,
     "metadata": {},
     "output_type": "execute_result"
    }
   ],
   "source": [
    "len(data_list_rate)"
   ]
  }
 ],
 "metadata": {
  "kernelspec": {
   "display_name": "simon_env",
   "language": "python",
   "name": "simon_env"
  },
  "language_info": {
   "codemirror_mode": {
    "name": "ipython",
    "version": 3
   },
   "file_extension": ".py",
   "mimetype": "text/x-python",
   "name": "python",
   "nbconvert_exporter": "python",
   "pygments_lexer": "ipython3",
   "version": "3.7.10"
  },
  "varInspector": {
   "cols": {
    "lenName": 16,
    "lenType": 16,
    "lenVar": 40
   },
   "kernels_config": {
    "python": {
     "delete_cmd_postfix": "",
     "delete_cmd_prefix": "del ",
     "library": "var_list.py",
     "varRefreshCmd": "print(var_dic_list())"
    },
    "r": {
     "delete_cmd_postfix": ") ",
     "delete_cmd_prefix": "rm(",
     "library": "var_list.r",
     "varRefreshCmd": "cat(var_dic_list()) "
    }
   },
   "types_to_exclude": [
    "module",
    "function",
    "builtin_function_or_method",
    "instance",
    "_Feature"
   ],
   "window_display": false
  }
 },
 "nbformat": 4,
 "nbformat_minor": 5
}
