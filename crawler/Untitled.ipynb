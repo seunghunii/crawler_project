{
 "cells": [
  {
   "cell_type": "code",
   "execution_count": 63,
   "id": "0c23d49c",
   "metadata": {
    "ExecuteTime": {
     "end_time": "2021-07-14T06:59:40.379392Z",
     "start_time": "2021-07-14T06:59:40.362439Z"
    }
   },
   "outputs": [],
   "source": [
    "import pandas as pd\n",
    "import numpy as np\n",
    "import requests\n",
    "from bs4 import BeautifulSoup\n",
    "from selenium import webdriver\n",
    "import json"
   ]
  },
  {
   "cell_type": "code",
   "execution_count": 85,
   "id": "a9244d00",
   "metadata": {
    "ExecuteTime": {
     "end_time": "2021-07-14T07:18:27.108326Z",
     "start_time": "2021-07-14T07:18:27.091458Z"
    }
   },
   "outputs": [],
   "source": [
    "urll = 'https://kosis.kr/openapi/statisticsData.do?method=getList&apiKey=Yjg5YjZmNTU0OThkMWNmYTE3MDY0ZWQzZjUyNjQ0YzY=&format=json&jsonVD=Y&userStatsId=rsh1502/110/TX_11007_A065/2/1/20210714110402&prdSe=Y&startPrdDe=2017&endPrdDe=2019'"
   ]
  },
  {
   "cell_type": "code",
   "execution_count": 86,
   "id": "7bab1d59",
   "metadata": {
    "ExecuteTime": {
     "end_time": "2021-07-14T07:18:28.631181Z",
     "start_time": "2021-07-14T07:18:28.614226Z"
    }
   },
   "outputs": [],
   "source": [
    "dir_for_shinhan = 'C:/Users/shic/Desktop/shinhan_simon/chromedriver/chromedriver.exe'\n",
    "dir_for_seunghun = 'C:/Users/rsh15/Desktop/seunghuni/selenium/chromedriver.exe'"
   ]
  },
  {
   "cell_type": "code",
   "execution_count": 78,
   "id": "8f87dc97",
   "metadata": {
    "ExecuteTime": {
     "end_time": "2021-07-14T07:05:31.200517Z",
     "start_time": "2021-07-14T07:05:29.864082Z"
    }
   },
   "outputs": [],
   "source": [
    "driver = webdriver.Chrome(dir_for_shinhan)"
   ]
  },
  {
   "cell_type": "code",
   "execution_count": 88,
   "id": "8e0d1424",
   "metadata": {
    "ExecuteTime": {
     "end_time": "2021-07-14T07:20:31.435646Z",
     "start_time": "2021-07-14T07:20:31.421683Z"
    }
   },
   "outputs": [
    {
     "name": "stdout",
     "output_type": "stream",
     "text": [
      "https://kosis.kr/openapi/statisticsData.do?method=getList&apiKey=Yjg5YjZmNTU0OThkMWNmYTE3MDY0ZWQzZjUyNjQ0YzY=&format=json&jsonVD=Y&userStatsId=rsh1502/110/TX_11007_A058/2/1/20210714110402&prdSe=Y&startPrdDe=2017&endPrdDe=2017\n",
      "https://kosis.kr/openapi/statisticsData.do?method=getList&apiKey=Yjg5YjZmNTU0OThkMWNmYTE3MDY0ZWQzZjUyNjQ0YzY=&format=json&jsonVD=Y&userStatsId=rsh1502/110/TX_11007_A059/2/1/20210714110402&prdSe=Y&startPrdDe=2017&endPrdDe=2017\n",
      "https://kosis.kr/openapi/statisticsData.do?method=getList&apiKey=Yjg5YjZmNTU0OThkMWNmYTE3MDY0ZWQzZjUyNjQ0YzY=&format=json&jsonVD=Y&userStatsId=rsh1502/110/TX_11007_A060/2/1/20210714110402&prdSe=Y&startPrdDe=2017&endPrdDe=2017\n",
      "https://kosis.kr/openapi/statisticsData.do?method=getList&apiKey=Yjg5YjZmNTU0OThkMWNmYTE3MDY0ZWQzZjUyNjQ0YzY=&format=json&jsonVD=Y&userStatsId=rsh1502/110/TX_11007_A061/2/1/20210714110402&prdSe=Y&startPrdDe=2017&endPrdDe=2017\n",
      "https://kosis.kr/openapi/statisticsData.do?method=getList&apiKey=Yjg5YjZmNTU0OThkMWNmYTE3MDY0ZWQzZjUyNjQ0YzY=&format=json&jsonVD=Y&userStatsId=rsh1502/110/TX_11007_A062/2/1/20210714110402&prdSe=Y&startPrdDe=2017&endPrdDe=2017\n",
      "https://kosis.kr/openapi/statisticsData.do?method=getList&apiKey=Yjg5YjZmNTU0OThkMWNmYTE3MDY0ZWQzZjUyNjQ0YzY=&format=json&jsonVD=Y&userStatsId=rsh1502/110/TX_11007_A063/2/1/20210714110402&prdSe=Y&startPrdDe=2017&endPrdDe=2017\n",
      "https://kosis.kr/openapi/statisticsData.do?method=getList&apiKey=Yjg5YjZmNTU0OThkMWNmYTE3MDY0ZWQzZjUyNjQ0YzY=&format=json&jsonVD=Y&userStatsId=rsh1502/110/TX_11007_A064/2/1/20210714110402&prdSe=Y&startPrdDe=2017&endPrdDe=2017\n",
      "https://kosis.kr/openapi/statisticsData.do?method=getList&apiKey=Yjg5YjZmNTU0OThkMWNmYTE3MDY0ZWQzZjUyNjQ0YzY=&format=json&jsonVD=Y&userStatsId=rsh1502/110/TX_11007_A065/2/1/20210714110402&prdSe=Y&startPrdDe=2017&endPrdDe=2017\n",
      "https://kosis.kr/openapi/statisticsData.do?method=getList&apiKey=Yjg5YjZmNTU0OThkMWNmYTE3MDY0ZWQzZjUyNjQ0YzY=&format=json&jsonVD=Y&userStatsId=rsh1502/110/TX_11007_A066/2/1/20210714110402&prdSe=Y&startPrdDe=2017&endPrdDe=2017\n",
      "https://kosis.kr/openapi/statisticsData.do?method=getList&apiKey=Yjg5YjZmNTU0OThkMWNmYTE3MDY0ZWQzZjUyNjQ0YzY=&format=json&jsonVD=Y&userStatsId=rsh1502/110/TX_11007_A067/2/1/20210714110402&prdSe=Y&startPrdDe=2017&endPrdDe=2017\n",
      "https://kosis.kr/openapi/statisticsData.do?method=getList&apiKey=Yjg5YjZmNTU0OThkMWNmYTE3MDY0ZWQzZjUyNjQ0YzY=&format=json&jsonVD=Y&userStatsId=rsh1502/110/TX_11007_A068/2/1/20210714110402&prdSe=Y&startPrdDe=2017&endPrdDe=2017\n",
      "https://kosis.kr/openapi/statisticsData.do?method=getList&apiKey=Yjg5YjZmNTU0OThkMWNmYTE3MDY0ZWQzZjUyNjQ0YzY=&format=json&jsonVD=Y&userStatsId=rsh1502/110/TX_11007_A069/2/1/20210714110402&prdSe=Y&startPrdDe=2017&endPrdDe=2017\n",
      "https://kosis.kr/openapi/statisticsData.do?method=getList&apiKey=Yjg5YjZmNTU0OThkMWNmYTE3MDY0ZWQzZjUyNjQ0YzY=&format=json&jsonVD=Y&userStatsId=rsh1502/110/TX_11007_A070/2/1/20210714110402&prdSe=Y&startPrdDe=2017&endPrdDe=2017\n",
      "https://kosis.kr/openapi/statisticsData.do?method=getList&apiKey=Yjg5YjZmNTU0OThkMWNmYTE3MDY0ZWQzZjUyNjQ0YzY=&format=json&jsonVD=Y&userStatsId=rsh1502/110/TX_11007_A071/2/1/20210714110402&prdSe=Y&startPrdDe=2017&endPrdDe=2017\n",
      "https://kosis.kr/openapi/statisticsData.do?method=getList&apiKey=Yjg5YjZmNTU0OThkMWNmYTE3MDY0ZWQzZjUyNjQ0YzY=&format=json&jsonVD=Y&userStatsId=rsh1502/110/TX_11007_A072/2/1/20210714110402&prdSe=Y&startPrdDe=2017&endPrdDe=2017\n",
      "https://kosis.kr/openapi/statisticsData.do?method=getList&apiKey=Yjg5YjZmNTU0OThkMWNmYTE3MDY0ZWQzZjUyNjQ0YzY=&format=json&jsonVD=Y&userStatsId=rsh1502/110/TX_11007_A073/2/1/20210714110402&prdSe=Y&startPrdDe=2017&endPrdDe=2017\n"
     ]
    }
   ],
   "source": [
    "for code in code_list:\n",
    "    print(urll.format(code))"
   ]
  },
  {
   "cell_type": "code",
   "execution_count": 95,
   "id": "c4c6f013",
   "metadata": {
    "ExecuteTime": {
     "end_time": "2021-07-14T07:35:00.977518Z",
     "start_time": "2021-07-14T07:35:00.965550Z"
    }
   },
   "outputs": [],
   "source": [
    "link_a = 'https://kosis.kr/openapi/statisticsData.do?method=getList&apiKey=Yjg5YjZmNTU0OThkMWNmYTE3MDY0ZWQzZjUyNjQ0YzY=&format=json&jsonVD=Y&userStatsId=rsh1502/110/TX_11007_A058/2/1/20210714110402&prdSe=Y&startPrdDe=2017&endPrdDe=2017'"
   ]
  },
  {
   "cell_type": "code",
   "execution_count": 96,
   "id": "6e55b573",
   "metadata": {
    "ExecuteTime": {
     "end_time": "2021-07-14T07:35:01.598397Z",
     "start_time": "2021-07-14T07:35:01.583437Z"
    }
   },
   "outputs": [],
   "source": [
    "link_b = 'https://kosis.kr/openapi/statisticsData.do?method=getList&apiKey=Yjg5YjZmNTU0OThkMWNmYTE3MDY0ZWQzZjUyNjQ0YzY=&format=json&jsonVD=Y&userStatsId=rsh1502/110/TX_11007_A058/2/1/20210714162031&prdSe=Y&startPrdDe=2019&endPrdDe=2019'"
   ]
  },
  {
   "cell_type": "code",
   "execution_count": 97,
   "id": "341a5f31",
   "metadata": {
    "ExecuteTime": {
     "end_time": "2021-07-14T07:35:01.945405Z",
     "start_time": "2021-07-14T07:35:01.931621Z"
    }
   },
   "outputs": [
    {
     "name": "stdout",
     "output_type": "stream",
     "text": [
      "https://kosis.kr/openapi/statisticsData.do?method=getList&apiKey=Yjg5YjZmNTU0OThkMWNmYTE3MDY0ZWQzZjUyNjQ0YzY=&format=json&jsonVD=Y&userStatsId=rsh1502/110/TX_11007_A058/2/1/20210714110402&prdSe=Y&startPrdDe=2017&endPrdDe=2017\n",
      "https://kosis.kr/openapi/statisticsData.do?method=getList&apiKey=Yjg5YjZmNTU0OThkMWNmYTE3MDY0ZWQzZjUyNjQ0YzY=&format=json&jsonVD=Y&userStatsId=rsh1502/110/TX_11007_A058/2/1/20210714162031&prdSe=Y&startPrdDe=2019&endPrdDe=2019\n"
     ]
    }
   ],
   "source": [
    "print(link_a)\n",
    "print(link_b)"
   ]
  },
  {
   "cell_type": "code",
   "execution_count": 100,
   "id": "7333a39a",
   "metadata": {
    "ExecuteTime": {
     "end_time": "2021-07-14T07:40:02.599339Z",
     "start_time": "2021-07-14T07:40:02.596320Z"
    }
   },
   "outputs": [],
   "source": [
    "link_c = \"http://kosis.kr/openapi/statisticsData.do?method=getMeta&apiKey=ZjZjOTI3MjRjNmU1YzdhZTMwOWRjNjgxN2MzNDgwNmY=&format=xml&type=TBL&orgId=101&tblId=DT_1B01003\""
   ]
  },
  {
   "cell_type": "code",
   "execution_count": 101,
   "id": "7e169da1",
   "metadata": {
    "ExecuteTime": {
     "end_time": "2021-07-14T07:40:02.989236Z",
     "start_time": "2021-07-14T07:40:02.978267Z"
    }
   },
   "outputs": [
    {
     "name": "stdout",
     "output_type": "stream",
     "text": [
      "http://kosis.kr/openapi/statisticsData.do?method=getMeta&apiKey=ZjZjOTI3MjRjNmU1YzdhZTMwOWRjNjgxN2MzNDgwNmY=&format=xml&type=TBL&orgId=101&tblId=DT_1B01003\n"
     ]
    }
   ],
   "source": [
    "print(link_c)"
   ]
  },
  {
   "cell_type": "code",
   "execution_count": 80,
   "id": "23022f10",
   "metadata": {
    "ExecuteTime": {
     "end_time": "2021-07-14T07:05:37.825134Z",
     "start_time": "2021-07-14T07:05:37.808204Z"
    }
   },
   "outputs": [],
   "source": [
    "a = BeautifulSoup(driver.page_source,'html.parser')\n",
    "a = a.find_all('body')[0].text"
   ]
  },
  {
   "cell_type": "code",
   "execution_count": 81,
   "id": "b4e49b80",
   "metadata": {
    "ExecuteTime": {
     "end_time": "2021-07-14T07:05:38.384583Z",
     "start_time": "2021-07-14T07:05:38.358652Z"
    }
   },
   "outputs": [
    {
     "data": {
      "text/html": [
       "<div>\n",
       "<style scoped>\n",
       "    .dataframe tbody tr th:only-of-type {\n",
       "        vertical-align: middle;\n",
       "    }\n",
       "\n",
       "    .dataframe tbody tr th {\n",
       "        vertical-align: top;\n",
       "    }\n",
       "\n",
       "    .dataframe thead th {\n",
       "        text-align: right;\n",
       "    }\n",
       "</style>\n",
       "<table border=\"1\" class=\"dataframe\">\n",
       "  <thead>\n",
       "    <tr style=\"text-align: right;\">\n",
       "      <th></th>\n",
       "      <th>TBL_NM</th>\n",
       "      <th>PRD_DE</th>\n",
       "      <th>TBL_ID</th>\n",
       "      <th>ITM_NM</th>\n",
       "      <th>ITM_ID</th>\n",
       "      <th>UNIT_NM</th>\n",
       "      <th>ORG_ID</th>\n",
       "      <th>UNIT_NM_ENG</th>\n",
       "      <th>C1_OBJ_NM</th>\n",
       "      <th>C2_OBJ_NM</th>\n",
       "      <th>DT</th>\n",
       "      <th>C2</th>\n",
       "      <th>PRD_SE</th>\n",
       "      <th>C1</th>\n",
       "      <th>C1_NM</th>\n",
       "      <th>C2_NM</th>\n",
       "    </tr>\n",
       "  </thead>\n",
       "  <tbody>\n",
       "    <tr>\n",
       "      <th>0</th>\n",
       "      <td>1-11. 경기도</td>\n",
       "      <td>2017</td>\n",
       "      <td>TX_11007_A065</td>\n",
       "      <td>경기도</td>\n",
       "      <td>16110ABC9</td>\n",
       "      <td>천원</td>\n",
       "      <td>110</td>\n",
       "      <td>Thousand Won</td>\n",
       "      <td>시군구별</td>\n",
       "      <td>세목별</td>\n",
       "      <td>2803982786</td>\n",
       "      <td>15110AD6ABAB</td>\n",
       "      <td>A</td>\n",
       "      <td>15110AR000</td>\n",
       "      <td>합계</td>\n",
       "      <td>재산세</td>\n",
       "    </tr>\n",
       "    <tr>\n",
       "      <th>1</th>\n",
       "      <td>1-11. 경기도</td>\n",
       "      <td>2017</td>\n",
       "      <td>TX_11007_A065</td>\n",
       "      <td>경기도</td>\n",
       "      <td>16110ABC9</td>\n",
       "      <td>천원</td>\n",
       "      <td>110</td>\n",
       "      <td>Thousand Won</td>\n",
       "      <td>시군구별</td>\n",
       "      <td>세목별</td>\n",
       "      <td>52248600</td>\n",
       "      <td>15110AD6BAAD</td>\n",
       "      <td>A</td>\n",
       "      <td>15110AR000</td>\n",
       "      <td>합계</td>\n",
       "      <td>재산세</td>\n",
       "    </tr>\n",
       "    <tr>\n",
       "      <th>2</th>\n",
       "      <td>1-11. 경기도</td>\n",
       "      <td>2017</td>\n",
       "      <td>TX_11007_A065</td>\n",
       "      <td>경기도</td>\n",
       "      <td>16110ABC9</td>\n",
       "      <td>천원</td>\n",
       "      <td>110</td>\n",
       "      <td>1000 won</td>\n",
       "      <td>시군구별</td>\n",
       "      <td>세목별</td>\n",
       "      <td>0</td>\n",
       "      <td>15110AD6ABAB</td>\n",
       "      <td>A</td>\n",
       "      <td>15110AR001</td>\n",
       "      <td>경기도</td>\n",
       "      <td>재산세</td>\n",
       "    </tr>\n",
       "    <tr>\n",
       "      <th>3</th>\n",
       "      <td>1-11. 경기도</td>\n",
       "      <td>2017</td>\n",
       "      <td>TX_11007_A065</td>\n",
       "      <td>경기도</td>\n",
       "      <td>16110ABC9</td>\n",
       "      <td>천원</td>\n",
       "      <td>110</td>\n",
       "      <td>1000 won</td>\n",
       "      <td>시군구별</td>\n",
       "      <td>세목별</td>\n",
       "      <td>0</td>\n",
       "      <td>15110AD6BAAD</td>\n",
       "      <td>A</td>\n",
       "      <td>15110AR001</td>\n",
       "      <td>경기도</td>\n",
       "      <td>재산세</td>\n",
       "    </tr>\n",
       "    <tr>\n",
       "      <th>4</th>\n",
       "      <td>1-11. 경기도</td>\n",
       "      <td>2017</td>\n",
       "      <td>TX_11007_A065</td>\n",
       "      <td>경기도</td>\n",
       "      <td>16110ABC9</td>\n",
       "      <td>천원</td>\n",
       "      <td>110</td>\n",
       "      <td>Thousand Won</td>\n",
       "      <td>시군구별</td>\n",
       "      <td>세목별</td>\n",
       "      <td>79713948</td>\n",
       "      <td>15110AD6ABAB</td>\n",
       "      <td>A</td>\n",
       "      <td>15110AR0BB</td>\n",
       "      <td>광주시</td>\n",
       "      <td>재산세</td>\n",
       "    </tr>\n",
       "    <tr>\n",
       "      <th>...</th>\n",
       "      <td>...</td>\n",
       "      <td>...</td>\n",
       "      <td>...</td>\n",
       "      <td>...</td>\n",
       "      <td>...</td>\n",
       "      <td>...</td>\n",
       "      <td>...</td>\n",
       "      <td>...</td>\n",
       "      <td>...</td>\n",
       "      <td>...</td>\n",
       "      <td>...</td>\n",
       "      <td>...</td>\n",
       "      <td>...</td>\n",
       "      <td>...</td>\n",
       "      <td>...</td>\n",
       "      <td>...</td>\n",
       "    </tr>\n",
       "    <tr>\n",
       "      <th>61</th>\n",
       "      <td>1-11. 경기도</td>\n",
       "      <td>2017</td>\n",
       "      <td>TX_11007_A065</td>\n",
       "      <td>경기도</td>\n",
       "      <td>16110ABC9</td>\n",
       "      <td>천원</td>\n",
       "      <td>110</td>\n",
       "      <td>Thousand Won</td>\n",
       "      <td>시군구별</td>\n",
       "      <td>세목별</td>\n",
       "      <td>0</td>\n",
       "      <td>15110AD6BAAD</td>\n",
       "      <td>A</td>\n",
       "      <td>15110AR0Bu</td>\n",
       "      <td>과천시</td>\n",
       "      <td>재산세</td>\n",
       "    </tr>\n",
       "    <tr>\n",
       "      <th>62</th>\n",
       "      <td>1-11. 경기도</td>\n",
       "      <td>2017</td>\n",
       "      <td>TX_11007_A065</td>\n",
       "      <td>경기도</td>\n",
       "      <td>16110ABC9</td>\n",
       "      <td>천원</td>\n",
       "      <td>110</td>\n",
       "      <td>Thousand Won</td>\n",
       "      <td>시군구별</td>\n",
       "      <td>세목별</td>\n",
       "      <td>0</td>\n",
       "      <td>15110AD6ABAB</td>\n",
       "      <td>A</td>\n",
       "      <td>15110AR0Bx</td>\n",
       "      <td>가평군</td>\n",
       "      <td>재산세</td>\n",
       "    </tr>\n",
       "    <tr>\n",
       "      <th>63</th>\n",
       "      <td>1-11. 경기도</td>\n",
       "      <td>2017</td>\n",
       "      <td>TX_11007_A065</td>\n",
       "      <td>경기도</td>\n",
       "      <td>16110ABC9</td>\n",
       "      <td>천원</td>\n",
       "      <td>110</td>\n",
       "      <td>Thousand Won</td>\n",
       "      <td>시군구별</td>\n",
       "      <td>세목별</td>\n",
       "      <td>21795926</td>\n",
       "      <td>15110AD6BAAD</td>\n",
       "      <td>A</td>\n",
       "      <td>15110AR0Bx</td>\n",
       "      <td>가평군</td>\n",
       "      <td>재산세</td>\n",
       "    </tr>\n",
       "    <tr>\n",
       "      <th>64</th>\n",
       "      <td>1-11. 경기도</td>\n",
       "      <td>2017</td>\n",
       "      <td>TX_11007_A065</td>\n",
       "      <td>경기도</td>\n",
       "      <td>16110ABC9</td>\n",
       "      <td>천원</td>\n",
       "      <td>110</td>\n",
       "      <td>Thousand Won</td>\n",
       "      <td>시군구별</td>\n",
       "      <td>세목별</td>\n",
       "      <td>0</td>\n",
       "      <td>15110AD6ABAB</td>\n",
       "      <td>A</td>\n",
       "      <td>15110AR0Bz</td>\n",
       "      <td>연천군</td>\n",
       "      <td>재산세</td>\n",
       "    </tr>\n",
       "    <tr>\n",
       "      <th>65</th>\n",
       "      <td>1-11. 경기도</td>\n",
       "      <td>2017</td>\n",
       "      <td>TX_11007_A065</td>\n",
       "      <td>경기도</td>\n",
       "      <td>16110ABC9</td>\n",
       "      <td>천원</td>\n",
       "      <td>110</td>\n",
       "      <td>Thousand Won</td>\n",
       "      <td>시군구별</td>\n",
       "      <td>세목별</td>\n",
       "      <td>5645494</td>\n",
       "      <td>15110AD6BAAD</td>\n",
       "      <td>A</td>\n",
       "      <td>15110AR0Bz</td>\n",
       "      <td>연천군</td>\n",
       "      <td>재산세</td>\n",
       "    </tr>\n",
       "  </tbody>\n",
       "</table>\n",
       "<p>66 rows × 16 columns</p>\n",
       "</div>"
      ],
      "text/plain": [
       "       TBL_NM PRD_DE         TBL_ID ITM_NM     ITM_ID UNIT_NM ORG_ID  \\\n",
       "0   1-11. 경기도   2017  TX_11007_A065    경기도  16110ABC9      천원    110   \n",
       "1   1-11. 경기도   2017  TX_11007_A065    경기도  16110ABC9      천원    110   \n",
       "2   1-11. 경기도   2017  TX_11007_A065    경기도  16110ABC9      천원    110   \n",
       "3   1-11. 경기도   2017  TX_11007_A065    경기도  16110ABC9      천원    110   \n",
       "4   1-11. 경기도   2017  TX_11007_A065    경기도  16110ABC9      천원    110   \n",
       "..        ...    ...            ...    ...        ...     ...    ...   \n",
       "61  1-11. 경기도   2017  TX_11007_A065    경기도  16110ABC9      천원    110   \n",
       "62  1-11. 경기도   2017  TX_11007_A065    경기도  16110ABC9      천원    110   \n",
       "63  1-11. 경기도   2017  TX_11007_A065    경기도  16110ABC9      천원    110   \n",
       "64  1-11. 경기도   2017  TX_11007_A065    경기도  16110ABC9      천원    110   \n",
       "65  1-11. 경기도   2017  TX_11007_A065    경기도  16110ABC9      천원    110   \n",
       "\n",
       "     UNIT_NM_ENG C1_OBJ_NM C2_OBJ_NM          DT            C2 PRD_SE  \\\n",
       "0   Thousand Won      시군구별       세목별  2803982786  15110AD6ABAB      A   \n",
       "1   Thousand Won      시군구별       세목별    52248600  15110AD6BAAD      A   \n",
       "2       1000 won      시군구별       세목별           0  15110AD6ABAB      A   \n",
       "3       1000 won      시군구별       세목별           0  15110AD6BAAD      A   \n",
       "4   Thousand Won      시군구별       세목별    79713948  15110AD6ABAB      A   \n",
       "..           ...       ...       ...         ...           ...    ...   \n",
       "61  Thousand Won      시군구별       세목별           0  15110AD6BAAD      A   \n",
       "62  Thousand Won      시군구별       세목별           0  15110AD6ABAB      A   \n",
       "63  Thousand Won      시군구별       세목별    21795926  15110AD6BAAD      A   \n",
       "64  Thousand Won      시군구별       세목별           0  15110AD6ABAB      A   \n",
       "65  Thousand Won      시군구별       세목별     5645494  15110AD6BAAD      A   \n",
       "\n",
       "            C1 C1_NM C2_NM  \n",
       "0   15110AR000    합계   재산세  \n",
       "1   15110AR000    합계   재산세  \n",
       "2   15110AR001   경기도   재산세  \n",
       "3   15110AR001   경기도   재산세  \n",
       "4   15110AR0BB   광주시   재산세  \n",
       "..         ...   ...   ...  \n",
       "61  15110AR0Bu   과천시   재산세  \n",
       "62  15110AR0Bx   가평군   재산세  \n",
       "63  15110AR0Bx   가평군   재산세  \n",
       "64  15110AR0Bz   연천군   재산세  \n",
       "65  15110AR0Bz   연천군   재산세  \n",
       "\n",
       "[66 rows x 16 columns]"
      ]
     },
     "execution_count": 81,
     "metadata": {},
     "output_type": "execute_result"
    }
   ],
   "source": [
    "tmp_df = pd.DataFrame(json.loads(a))\n",
    "tmp_df"
   ]
  },
  {
   "cell_type": "code",
   "execution_count": 84,
   "id": "1b404e4f",
   "metadata": {
    "ExecuteTime": {
     "end_time": "2021-07-14T07:17:52.699912Z",
     "start_time": "2021-07-14T07:17:52.679998Z"
    }
   },
   "outputs": [
    {
     "data": {
      "text/plain": [
       "['TX_11007_A058',\n",
       " 'TX_11007_A059',\n",
       " 'TX_11007_A060',\n",
       " 'TX_11007_A061',\n",
       " 'TX_11007_A062',\n",
       " 'TX_11007_A063',\n",
       " 'TX_11007_A064',\n",
       " 'TX_11007_A065',\n",
       " 'TX_11007_A066',\n",
       " 'TX_11007_A067',\n",
       " 'TX_11007_A068',\n",
       " 'TX_11007_A069',\n",
       " 'TX_11007_A070',\n",
       " 'TX_11007_A071',\n",
       " 'TX_11007_A072',\n",
       " 'TX_11007_A073']"
      ]
     },
     "execution_count": 84,
     "metadata": {},
     "output_type": "execute_result"
    }
   ],
   "source": [
    "code_list = ['TX_11007_A0' + str(code) for code in range(58,74)]\n",
    "code_list"
   ]
  },
  {
   "cell_type": "code",
   "execution_count": null,
   "id": "4c6afa98",
   "metadata": {},
   "outputs": [],
   "source": []
  }
 ],
 "metadata": {
  "kernelspec": {
   "display_name": "simon_env",
   "language": "python",
   "name": "simon_env"
  },
  "language_info": {
   "codemirror_mode": {
    "name": "ipython",
    "version": 3
   },
   "file_extension": ".py",
   "mimetype": "text/x-python",
   "name": "python",
   "nbconvert_exporter": "python",
   "pygments_lexer": "ipython3",
   "version": "3.7.10"
  }
 },
 "nbformat": 4,
 "nbformat_minor": 5
}
