{
 "cells": [
  {
   "cell_type": "code",
   "execution_count": 15,
   "id": "e154dffc",
   "metadata": {
    "ExecuteTime": {
     "end_time": "2021-07-15T07:19:37.703099Z",
     "start_time": "2021-07-15T07:19:37.685145Z"
    }
   },
   "outputs": [],
   "source": [
    "import pandas as pd\n",
    "import numpy as np\n",
    "from selenium import webdriver\n",
    "import datetime\n",
    "from bs4 import BeautifulSoup\n",
    "import requests\n",
    "import re\n",
    "import multiprocessing as mp\n",
    "from IPython.core.interactiveshell import InteractiveShell\n",
    "InteractiveShell.ast_node_interactivity = 'all'"
   ]
  },
  {
   "cell_type": "code",
   "execution_count": 2,
   "id": "a981c4a9",
   "metadata": {
    "ExecuteTime": {
     "end_time": "2021-07-15T05:52:18.573624Z",
     "start_time": "2021-07-15T05:52:18.558616Z"
    }
   },
   "outputs": [],
   "source": [
    "date_list = []\n",
    "today = datetime.datetime.today()\n",
    "# 코드를 작성하고 있는 2021년 7월 15일 부터 2017년 1월 1일까지 date range.\n",
    "for num_day in range(1,1657):\n",
    "    tmp_date = today - datetime.timedelta(days = num_day)\n",
    "    tmp_date = str(tmp_date).split(' ')[0].replace('-','.')\n",
    "    date_list.append(tmp_date)"
   ]
  },
  {
   "cell_type": "code",
   "execution_count": 3,
   "id": "9dc3cd27",
   "metadata": {
    "ExecuteTime": {
     "end_time": "2021-07-15T05:52:19.119770Z",
     "start_time": "2021-07-15T05:52:19.101895Z"
    }
   },
   "outputs": [],
   "source": [
    "dir_for_shinhan = 'C:/Users/shic/Desktop/shinhan_simon/chromedriver/chromedriver.exe'\n",
    "dir_for_seunghun = 'C:/Users/rsh15/Desktop/seunghuni/selenium/chromedriver.exe'"
   ]
  },
  {
   "cell_type": "code",
   "execution_count": 4,
   "id": "cc53e6ab",
   "metadata": {
    "ExecuteTime": {
     "end_time": "2021-07-15T05:52:20.613655Z",
     "start_time": "2021-07-15T05:52:20.598097Z"
    }
   },
   "outputs": [],
   "source": [
    "options = webdriver.ChromeOptions()\n",
    "options.add_argument('user-agent=Mozilla/5.0 (Windows NT 10.0; Win64; x64) AppleWebKit/537.36 (KHTML, like Gecko) Chrome/91.0.4472.124 Safari/537.36')"
   ]
  },
  {
   "cell_type": "code",
   "execution_count": 6,
   "id": "e29c03f1",
   "metadata": {
    "ExecuteTime": {
     "end_time": "2021-07-15T05:54:13.284336Z",
     "start_time": "2021-07-15T05:54:13.278352Z"
    }
   },
   "outputs": [],
   "source": [
    "base_url = 'https://search.naver.com/search.naver?where=news&query=%EB%B6%80%EB%8F%99%EC%82%B0114&sm=tab_opt&sort=0&photo=0&field=0&pd=3&ds={}&de={}&start={}'"
   ]
  },
  {
   "cell_type": "code",
   "execution_count": 7,
   "id": "08cb08b9",
   "metadata": {
    "ExecuteTime": {
     "end_time": "2021-07-15T06:45:36.656277Z",
     "start_time": "2021-07-15T05:54:15.027779Z"
    }
   },
   "outputs": [],
   "source": [
    "driver = webdriver.Chrome(dir_for_shinhan,options=options)\n",
    "links_list = []\n",
    "\n",
    "for day in date_list:\n",
    "    for num_start in [1,11,21]:\n",
    "        driver.get(base_url.format(day,day,str(num_start)))\n",
    "        soup = BeautifulSoup(driver.page_source,'html')\n",
    "        search_info_group = soup.find_all('div',class_='info_group')\n",
    "\n",
    "        for parts in search_info_group:\n",
    "            if parts.find_all('a',href=re.compile('^https://news.naver.com')) == []:\n",
    "                 pass\n",
    "            else:\n",
    "                link_found = parts.find_all('a',href=re.compile('^https://news.naver.com'))[0]['href']\n",
    "                links_list.append(link_found)"
   ]
  },
  {
   "cell_type": "code",
   "execution_count": 11,
   "id": "ed375b50",
   "metadata": {
    "ExecuteTime": {
     "end_time": "2021-07-15T06:59:16.358241Z",
     "start_time": "2021-07-15T06:59:16.279359Z"
    }
   },
   "outputs": [
    {
     "data": {
      "text/html": [
       "<div>\n",
       "<style scoped>\n",
       "    .dataframe tbody tr th:only-of-type {\n",
       "        vertical-align: middle;\n",
       "    }\n",
       "\n",
       "    .dataframe tbody tr th {\n",
       "        vertical-align: top;\n",
       "    }\n",
       "\n",
       "    .dataframe thead th {\n",
       "        text-align: right;\n",
       "    }\n",
       "</style>\n",
       "<table border=\"1\" class=\"dataframe\">\n",
       "  <thead>\n",
       "    <tr style=\"text-align: right;\">\n",
       "      <th></th>\n",
       "      <th>links</th>\n",
       "    </tr>\n",
       "  </thead>\n",
       "  <tbody>\n",
       "    <tr>\n",
       "      <th>0</th>\n",
       "      <td>https://news.naver.com/main/read.nhn?mode=LSD&amp;...</td>\n",
       "    </tr>\n",
       "    <tr>\n",
       "      <th>1</th>\n",
       "      <td>https://news.naver.com/main/read.nhn?mode=LSD&amp;...</td>\n",
       "    </tr>\n",
       "    <tr>\n",
       "      <th>2</th>\n",
       "      <td>https://news.naver.com/main/read.nhn?mode=LSD&amp;...</td>\n",
       "    </tr>\n",
       "    <tr>\n",
       "      <th>3</th>\n",
       "      <td>https://news.naver.com/main/read.nhn?mode=LSD&amp;...</td>\n",
       "    </tr>\n",
       "    <tr>\n",
       "      <th>4</th>\n",
       "      <td>https://news.naver.com/main/read.nhn?mode=LSD&amp;...</td>\n",
       "    </tr>\n",
       "    <tr>\n",
       "      <th>...</th>\n",
       "      <td>...</td>\n",
       "    </tr>\n",
       "    <tr>\n",
       "      <th>22489</th>\n",
       "      <td>https://news.naver.com/main/read.nhn?mode=LSD&amp;...</td>\n",
       "    </tr>\n",
       "    <tr>\n",
       "      <th>22490</th>\n",
       "      <td>https://news.naver.com/main/read.nhn?mode=LSD&amp;...</td>\n",
       "    </tr>\n",
       "    <tr>\n",
       "      <th>22491</th>\n",
       "      <td>https://news.naver.com/main/read.nhn?mode=LSD&amp;...</td>\n",
       "    </tr>\n",
       "    <tr>\n",
       "      <th>22492</th>\n",
       "      <td>https://news.naver.com/main/read.nhn?mode=LSD&amp;...</td>\n",
       "    </tr>\n",
       "    <tr>\n",
       "      <th>22493</th>\n",
       "      <td>https://news.naver.com/main/read.nhn?mode=LSD&amp;...</td>\n",
       "    </tr>\n",
       "  </tbody>\n",
       "</table>\n",
       "<p>22494 rows × 1 columns</p>\n",
       "</div>"
      ],
      "text/plain": [
       "                                                   links\n",
       "0      https://news.naver.com/main/read.nhn?mode=LSD&...\n",
       "1      https://news.naver.com/main/read.nhn?mode=LSD&...\n",
       "2      https://news.naver.com/main/read.nhn?mode=LSD&...\n",
       "3      https://news.naver.com/main/read.nhn?mode=LSD&...\n",
       "4      https://news.naver.com/main/read.nhn?mode=LSD&...\n",
       "...                                                  ...\n",
       "22489  https://news.naver.com/main/read.nhn?mode=LSD&...\n",
       "22490  https://news.naver.com/main/read.nhn?mode=LSD&...\n",
       "22491  https://news.naver.com/main/read.nhn?mode=LSD&...\n",
       "22492  https://news.naver.com/main/read.nhn?mode=LSD&...\n",
       "22493  https://news.naver.com/main/read.nhn?mode=LSD&...\n",
       "\n",
       "[22494 rows x 1 columns]"
      ]
     },
     "execution_count": 11,
     "metadata": {},
     "output_type": "execute_result"
    }
   ],
   "source": [
    "links_df = pd.DataFrame({\n",
    "    'links' : links_list\n",
    "})\n",
    "links_df.to_csv('C:/Users/shic/Desktop/crawler_project/data_save/estate_news/links_df.csv',index=False)\n",
    "links_df"
   ]
  },
  {
   "cell_type": "code",
   "execution_count": 12,
   "id": "028d1ef9",
   "metadata": {
    "ExecuteTime": {
     "end_time": "2021-07-15T06:59:29.805144Z",
     "start_time": "2021-07-15T06:59:29.802122Z"
    }
   },
   "outputs": [],
   "source": [
    "header = {\n",
    "    'User-Agent':'Mozilla/5.0 (Windows NT 10.0; Win64; x64) AppleWebKit/537.36 (KHTML, like Gecko) Chrome/91.0.4472.124 Safari/537.36'\n",
    "}"
   ]
  },
  {
   "cell_type": "code",
   "execution_count": 14,
   "id": "749caabd",
   "metadata": {
    "ExecuteTime": {
     "end_time": "2021-07-15T07:18:50.962876Z",
     "start_time": "2021-07-15T07:18:50.948913Z"
    }
   },
   "outputs": [],
   "source": [
    "article_title    = []\n",
    "article_contents = []\n",
    "\n",
    "def estate_news_crawler(links_list):\n",
    "    for url_num in range(len(links_list)):\n",
    "        url_now = links_list[url_num]\n",
    "        soup = BeautifulSoup(requests.get(url_now,headers=header).text,'html')\n",
    "\n",
    "        for soup_rm in soup.find_all('strong',class_='median_and_summary'):\n",
    "            soup_rm.decompose()\n",
    "\n",
    "        if soup.find_all('h3',id='articleTitle') == []:\n",
    "            article_title.append('no article title')\n",
    "        else:\n",
    "            article_title.append(soup.find_all('h3',id='articleTitle')[0].text)\n",
    "\n",
    "        if soup.find_all('div',id='articleBodyContents') == []:\n",
    "            article_contents.append('no article contents')\n",
    "        else:\n",
    "            article_contents.append(soup.find_all('div',id='articleBodyContents')[0].text)\n",
    "\n",
    "        if url_num % 1000 == 0:\n",
    "            remain = len(links_list) - url_num\n",
    "            percentage = round(url_num / len(links_list) * 100,2)\n",
    "            print(str(percentage),'% complete.',str(remain),'remains')\n",
    "        else:\n",
    "            pass\n",
    "    \n",
    "        return None"
   ]
  },
  {
   "cell_type": "code",
   "execution_count": null,
   "id": "e709ea07",
   "metadata": {
    "ExecuteTime": {
     "start_time": "2021-07-15T07:20:43.370Z"
    }
   },
   "outputs": [],
   "source": [
    "pool = mp.Pool(mp.cpu_count())\n",
    "pool.map(estate_news_crawler,range(len(links_list)))"
   ]
  },
  {
   "cell_type": "code",
   "execution_count": null,
   "id": "273f86c7",
   "metadata": {
    "ExecuteTime": {
     "start_time": "2021-07-15T07:21:44.336Z"
    }
   },
   "outputs": [],
   "source": [
    "mp"
   ]
  },
  {
   "cell_type": "code",
   "execution_count": null,
   "id": "14e48485",
   "metadata": {},
   "outputs": [],
   "source": []
  }
 ],
 "metadata": {
  "kernelspec": {
   "display_name": "simon_env",
   "language": "python",
   "name": "simon_env"
  },
  "language_info": {
   "codemirror_mode": {
    "name": "ipython",
    "version": 3
   },
   "file_extension": ".py",
   "mimetype": "text/x-python",
   "name": "python",
   "nbconvert_exporter": "python",
   "pygments_lexer": "ipython3",
   "version": "3.7.10"
  },
  "varInspector": {
   "cols": {
    "lenName": 16,
    "lenType": 16,
    "lenVar": 40
   },
   "kernels_config": {
    "python": {
     "delete_cmd_postfix": "",
     "delete_cmd_prefix": "del ",
     "library": "var_list.py",
     "varRefreshCmd": "print(var_dic_list())"
    },
    "r": {
     "delete_cmd_postfix": ") ",
     "delete_cmd_prefix": "rm(",
     "library": "var_list.r",
     "varRefreshCmd": "cat(var_dic_list()) "
    }
   },
   "types_to_exclude": [
    "module",
    "function",
    "builtin_function_or_method",
    "instance",
    "_Feature"
   ],
   "window_display": false
  }
 },
 "nbformat": 4,
 "nbformat_minor": 5
}
