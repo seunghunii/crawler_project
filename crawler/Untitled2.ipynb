{
 "cells": [
  {
   "cell_type": "code",
   "execution_count": 1,
   "id": "e154dffc",
   "metadata": {
    "ExecuteTime": {
     "end_time": "2021-07-15T05:52:18.511142Z",
     "start_time": "2021-07-15T05:52:17.918595Z"
    }
   },
   "outputs": [],
   "source": [
    "import pandas as pd\n",
    "import numpy as np\n",
    "from selenium import webdriver\n",
    "import datetime\n",
    "from bs4 import BeautifulSoup\n",
    "import requests\n",
    "import re\n",
    "import multiprocessing as mp\n",
    "from IPython.core.interactiveshell import InteractiveShell\n",
    "InteractiveShell.ast_node_interactivity = 'all'"
   ]
  },
  {
   "cell_type": "code",
   "execution_count": 2,
   "id": "a981c4a9",
   "metadata": {
    "ExecuteTime": {
     "end_time": "2021-07-15T05:52:18.573624Z",
     "start_time": "2021-07-15T05:52:18.558616Z"
    }
   },
   "outputs": [],
   "source": [
    "date_list = []\n",
    "today = datetime.datetime.today()\n",
    "# 코드를 작성하고 있는 2021년 7월 15일 부터 2017년 1월 1일까지 date range.\n",
    "for num_day in range(1,1657):\n",
    "    tmp_date = today - datetime.timedelta(days = num_day)\n",
    "    tmp_date = str(tmp_date).split(' ')[0].replace('-','.')\n",
    "    date_list.append(tmp_date)"
   ]
  },
  {
   "cell_type": "code",
   "execution_count": 3,
   "id": "9dc3cd27",
   "metadata": {
    "ExecuteTime": {
     "end_time": "2021-07-15T05:52:19.119770Z",
     "start_time": "2021-07-15T05:52:19.101895Z"
    }
   },
   "outputs": [],
   "source": [
    "dir_for_shinhan = 'C:/Users/shic/Desktop/shinhan_simon/chromedriver/chromedriver.exe'\n",
    "dir_for_seunghun = 'C:/Users/rsh15/Desktop/seunghuni/selenium/chromedriver.exe'"
   ]
  },
  {
   "cell_type": "code",
   "execution_count": 4,
   "id": "cc53e6ab",
   "metadata": {
    "ExecuteTime": {
     "end_time": "2021-07-15T05:52:20.613655Z",
     "start_time": "2021-07-15T05:52:20.598097Z"
    }
   },
   "outputs": [],
   "source": [
    "options = webdriver.ChromeOptions()\n",
    "options.add_argument('user-agent=Mozilla/5.0 (Windows NT 10.0; Win64; x64) AppleWebKit/537.36 (KHTML, like Gecko) Chrome/91.0.4472.124 Safari/537.36')"
   ]
  },
  {
   "cell_type": "code",
   "execution_count": 6,
   "id": "e29c03f1",
   "metadata": {
    "ExecuteTime": {
     "end_time": "2021-07-15T05:54:13.284336Z",
     "start_time": "2021-07-15T05:54:13.278352Z"
    }
   },
   "outputs": [],
   "source": [
    "base_url = 'https://search.naver.com/search.naver?where=news&query=%EB%B6%80%EB%8F%99%EC%82%B0114&sm=tab_opt&sort=0&photo=0&field=0&pd=3&ds={}&de={}&start={}'"
   ]
  },
  {
   "cell_type": "code",
   "execution_count": null,
   "id": "08cb08b9",
   "metadata": {
    "ExecuteTime": {
     "start_time": "2021-07-15T05:54:15.027Z"
    }
   },
   "outputs": [],
   "source": [
    "driver = webdriver.Chrome(dir_for_shinhan,options=options)\n",
    "links_list = []\n",
    "\n",
    "for day in date_list:\n",
    "    for num_start in [1,11,21]:\n",
    "        driver.get(base_url.format(day,day,str(num_start)))\n",
    "        soup = BeautifulSoup(driver.page_source,'html')\n",
    "        search_info_group = soup.find_all('div',class_='info_group')\n",
    "\n",
    "        for parts in search_info_group:\n",
    "            if parts.find_all('a',href=re.compile('^https://news.naver.com')) == []:\n",
    "                 pass\n",
    "            else:\n",
    "                link_found = parts.find_all('a',href=re.compile('^https://news.naver.com'))[0]['href']\n",
    "                links_list.append(link_found)"
   ]
  },
  {
   "cell_type": "code",
   "execution_count": null,
   "id": "a89d537c",
   "metadata": {},
   "outputs": [],
   "source": [
    "# links_list 먼저 save 해 둘것."
   ]
  },
  {
   "cell_type": "code",
   "execution_count": 110,
   "id": "028d1ef9",
   "metadata": {
    "ExecuteTime": {
     "end_time": "2021-07-15T02:21:07.531884Z",
     "start_time": "2021-07-15T02:21:07.523906Z"
    }
   },
   "outputs": [],
   "source": [
    "header = {\n",
    "    'User-Agent':'Mozilla/5.0 (Windows NT 10.0; Win64; x64) AppleWebKit/537.36 (KHTML, like Gecko) Chrome/91.0.4472.124 Safari/537.36'\n",
    "}"
   ]
  },
  {
   "cell_type": "code",
   "execution_count": 10,
   "id": "749caabd",
   "metadata": {
    "ExecuteTime": {
     "end_time": "2021-07-15T05:41:45.936165Z",
     "start_time": "2021-07-15T05:41:45.918241Z"
    }
   },
   "outputs": [],
   "source": [
    "article_title    = []\n",
    "article_contents = []\n",
    "\n",
    "def estate_news_crawler(links_list):\n",
    "    for url_num in range(len(links_list)):\n",
    "        url_now = links_list[url_num]\n",
    "        soup = BeautifulSoup(requests.get(url_now,headers=header).text,'html')\n",
    "\n",
    "        for soup_rm in soup.find_all('strong',class_='median_and_summary'):\n",
    "            soup_rm.decompose()\n",
    "\n",
    "        if soup.find_all('h3',id='articleTitle') == []:\n",
    "            article_title.append('no article title')\n",
    "        else:\n",
    "            article_title.append(soup.find_all('h3',id='articleTitle')[0].text)\n",
    "\n",
    "        if soup.find_all('div',id='articleBodyContents') == []:\n",
    "            article_contents.append('no article contents')\n",
    "        else:\n",
    "            article_contents.append(soup.find_all('div',id='articleBodyContents')[0].text)\n",
    "\n",
    "        if url_num % 1000 == 0:\n",
    "            remain = len(links_list) - url_num\n",
    "            percentage = round(url_num / len(links_list) * 100,2)\n",
    "            print(str(percentage),'% complete.',str(remain),'remains')\n",
    "        else:\n",
    "            pass"
   ]
  },
  {
   "cell_type": "code",
   "execution_count": 9,
   "id": "80288d95",
   "metadata": {
    "ExecuteTime": {
     "end_time": "2021-07-15T05:38:55.035716Z",
     "start_time": "2021-07-15T05:38:55.020756Z"
    }
   },
   "outputs": [
    {
     "data": {
      "text/plain": [
       "12"
      ]
     },
     "execution_count": 9,
     "metadata": {},
     "output_type": "execute_result"
    }
   ],
   "source": [
    "def main():\n",
    "    num_cores = mp.num_cores\n",
    "    pool = mp.pool(num_cores)\n",
    "    print(pool.map(estate_news_crawler))"
   ]
  },
  {
   "cell_type": "code",
   "execution_count": 19,
   "id": "65949077",
   "metadata": {
    "ExecuteTime": {
     "end_time": "2021-07-15T05:44:26.073323Z",
     "start_time": "2021-07-15T05:44:26.065345Z"
    }
   },
   "outputs": [
    {
     "ename": "AttributeError",
     "evalue": "module 'multiprocessing' has no attribute 'num_cores'",
     "output_type": "error",
     "traceback": [
      "\u001b[1;31m---------------------------------------------------------------------------\u001b[0m",
      "\u001b[1;31mAttributeError\u001b[0m                            Traceback (most recent call last)",
      "\u001b[1;32m<ipython-input-19-c6d97f3b3e13>\u001b[0m in \u001b[0;36m<module>\u001b[1;34m\u001b[0m\n\u001b[1;32m----> 1\u001b[1;33m \u001b[0mmp\u001b[0m\u001b[1;33m.\u001b[0m\u001b[0mnum_cores\u001b[0m\u001b[1;33m\u001b[0m\u001b[1;33m\u001b[0m\u001b[0m\n\u001b[0m",
      "\u001b[1;31mAttributeError\u001b[0m: module 'multiprocessing' has no attribute 'num_cores'"
     ]
    }
   ],
   "source": [
    "mp.num_cores"
   ]
  },
  {
   "cell_type": "code",
   "execution_count": null,
   "id": "0b352437",
   "metadata": {},
   "outputs": [],
   "source": []
  }
 ],
 "metadata": {
  "kernelspec": {
   "display_name": "simon_env",
   "language": "python",
   "name": "simon_env"
  },
  "language_info": {
   "codemirror_mode": {
    "name": "ipython",
    "version": 3
   },
   "file_extension": ".py",
   "mimetype": "text/x-python",
   "name": "python",
   "nbconvert_exporter": "python",
   "pygments_lexer": "ipython3",
   "version": "3.7.10"
  },
  "varInspector": {
   "cols": {
    "lenName": 16,
    "lenType": 16,
    "lenVar": 40
   },
   "kernels_config": {
    "python": {
     "delete_cmd_postfix": "",
     "delete_cmd_prefix": "del ",
     "library": "var_list.py",
     "varRefreshCmd": "print(var_dic_list())"
    },
    "r": {
     "delete_cmd_postfix": ") ",
     "delete_cmd_prefix": "rm(",
     "library": "var_list.r",
     "varRefreshCmd": "cat(var_dic_list()) "
    }
   },
   "types_to_exclude": [
    "module",
    "function",
    "builtin_function_or_method",
    "instance",
    "_Feature"
   ],
   "window_display": false
  }
 },
 "nbformat": 4,
 "nbformat_minor": 5
}
