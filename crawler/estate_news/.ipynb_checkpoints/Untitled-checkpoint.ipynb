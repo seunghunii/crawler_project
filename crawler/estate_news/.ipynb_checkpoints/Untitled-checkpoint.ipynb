{
 "cells": [
  {
   "cell_type": "code",
   "execution_count": 8,
   "metadata": {
    "ExecuteTime": {
     "end_time": "2021-07-17T14:02:27.062331Z",
     "start_time": "2021-07-17T14:02:27.058342Z"
    }
   },
   "outputs": [],
   "source": [
    "import pandas as pd\n",
    "import re"
   ]
  },
  {
   "cell_type": "code",
   "execution_count": 2,
   "metadata": {
    "ExecuteTime": {
     "end_time": "2021-07-17T14:00:54.606025Z",
     "start_time": "2021-07-17T14:00:52.978828Z"
    }
   },
   "outputs": [],
   "source": [
    "news = pd.read_csv('C:/Users/rsh15/Desktop/seunghuni/crawler_project/data_save/result_df.csv')"
   ]
  },
  {
   "cell_type": "code",
   "execution_count": 7,
   "metadata": {
    "ExecuteTime": {
     "end_time": "2021-07-17T14:01:42.601161Z",
     "start_time": "2021-07-17T14:01:42.581190Z"
    }
   },
   "outputs": [
    {
     "data": {
      "text/plain": [
       "'\\n\\n\\n\\n\\n[앵커] 올 들어 서울 지역 전세가격이  꾸준히 오르고 있고,  공급과 수요를 나타내는 지수는 안정을 찾는 듯하다가  최근 다시 오름세입니다. 이러다가 가을 이사철에는  전세난이 오는 것 아니냐는 우려가 나오는데요. 허효진 기자가  현장을 다녀왔습니다. [리포트]  지난달부터 이주가 시작된 재건축 아파트 단지입니다. 2천여 가구가 옮겨갈 곳을 찾다 보니 근처에서 전세 구하기가 쉽지 않습니다. [반포동 공인중개사 : \"워낙 큰 단지가 이주를 하고 있기 때문에 그래서 이제 물량이 달리는 거죠.  기존에 이 학군에 속해있는 학부모들이  이 근처로 가려고 하니까  무리를 해서라도…\"]이런 재건축 이주 여파는 전셋값에도 영향을 줬습니다. 최근 서초구의  주간 상승률은 0.34%. 서울 평균보다 3배 넘게 높아 지수를 끌어올렸습니다.  모든 지역에서 전세난이 심한 것은 아닙니다. 일반적으로  전세 수요가 많은 목동이지만 전셋값 상승률은 강보합세 수준에 머물고 있습니다. [이현숙/목동 공인중개사 : \"지금은 전세대란은 그렇게 있는 것  같지는 않고요. /물건도 많지는 않고  또 찾는 손님도 많지 않고…\"] 서울을 다섯 개 권역으로 나누면 동남권 상승률이 두드러져 온도 차가 뚜렷합니다. 최근 재건축 이주 수요가 많은 곳이란 특징이 있습니다. 정부는 일부 지역을 제외한 전반적인 전세 시장은 안정적이라고 보고 있습니다. [노형욱/국토부 장관 : \"전세 물량이 전체적으로 공급 자체는 예년과 비슷한 수준을 유지하고 있어서  하반기 전체로 보면 수급상 문제는 해소가 될 것이라고...\"] 하지만 서울의 전세 거래량이 계속 줄고 있는 점을 들어 공급 부족의 신호탄이란 주장도 나옵니다. [임병철/부동산114 리서치팀장 : \"임대차3법 시행으로 재계약 사례가  증가하고 저금리에 따른 월세(반전세)화 현상이 가속화되고 있고 수도권의 경우 입주물량도 크게 감소합니다.\"] 다음 주로 다가온 3기 신도시 사전 청약은 매매 대기 수요를 늘려 전세 시장을 자극할 수 있다는 전망도 있습니다. KBS 뉴스 허효진입니다.촬영기자:강희준 김현태/영상편집:김대범/그래픽:이근희 한종헌\\n\\t\\n'"
      ]
     },
     "execution_count": 7,
     "metadata": {},
     "output_type": "execute_result"
    }
   ],
   "source": [
    "tmp_txt = news['article_content'][123]\n",
    "tmp_txt"
   ]
  },
  {
   "cell_type": "code",
   "execution_count": 9,
   "metadata": {
    "ExecuteTime": {
     "end_time": "2021-07-17T14:02:47.179606Z",
     "start_time": "2021-07-17T14:02:47.162651Z"
    }
   },
   "outputs": [
    {
     "data": {
      "text/plain": [
       "'[앵커] 올 들어 서울 지역 전세가격이  꾸준히 오르고 있고,  공급과 수요를 나타내는 지수는 안정을 찾는 듯하다가  최근 다시 오름세입니다. 이러다가 가을 이사철에는  전세난이 오는 것 아니냐는 우려가 나오는데요. 허효진 기자가  현장을 다녀왔습니다. [리포트]  지난달부터 이주가 시작된 재건축 아파트 단지입니다. 2천여 가구가 옮겨갈 곳을 찾다 보니 근처에서 전세 구하기가 쉽지 않습니다. [반포동 공인중개사 : \"워낙 큰 단지가 이주를 하고 있기 때문에 그래서 이제 물량이 달리는 거죠.  기존에 이 학군에 속해있는 학부모들이  이 근처로 가려고 하니까  무리를 해서라도…\"]이런 재건축 이주 여파는 전셋값에도 영향을 줬습니다. 최근 서초구의  주간 상승률은 0.34%. 서울 평균보다 3배 넘게 높아 지수를 끌어올렸습니다.  모든 지역에서 전세난이 심한 것은 아닙니다. 일반적으로  전세 수요가 많은 목동이지만 전셋값 상승률은 강보합세 수준에 머물고 있습니다. [이현숙/목동 공인중개사 : \"지금은 전세대란은 그렇게 있는 것  같지는 않고요. /물건도 많지는 않고  또 찾는 손님도 많지 않고…\"] 서울을 다섯 개 권역으로 나누면 동남권 상승률이 두드러져 온도 차가 뚜렷합니다. 최근 재건축 이주 수요가 많은 곳이란 특징이 있습니다. 정부는 일부 지역을 제외한 전반적인 전세 시장은 안정적이라고 보고 있습니다. [노형욱/국토부 장관 : \"전세 물량이 전체적으로 공급 자체는 예년과 비슷한 수준을 유지하고 있어서  하반기 전체로 보면 수급상 문제는 해소가 될 것이라고...\"] 하지만 서울의 전세 거래량이 계속 줄고 있는 점을 들어 공급 부족의 신호탄이란 주장도 나옵니다. [임병철/부동산114 리서치팀장 : \"임대차3법 시행으로 재계약 사례가  증가하고 저금리에 따른 월세(반전세)화 현상이 가속화되고 있고 수도권의 경우 입주물량도 크게 감소합니다.\"] 다음 주로 다가온 3기 신도시 사전 청약은 매매 대기 수요를 늘려 전세 시장을 자극할 수 있다는 전망도 있습니다. KBS 뉴스 허효진입니다.촬영기자:강희준 김현태/영상편집:김대범/그래픽:이근희 한종헌'"
      ]
     },
     "execution_count": 9,
     "metadata": {},
     "output_type": "execute_result"
    }
   ],
   "source": [
    "re.sub('\\t|\\n','',tmp_txt)"
   ]
  },
  {
   "cell_type": "code",
   "execution_count": null,
   "metadata": {},
   "outputs": [],
   "source": []
  }
 ],
 "metadata": {
  "kernelspec": {
   "display_name": "simon_env",
   "language": "python",
   "name": "simon_env"
  },
  "language_info": {
   "codemirror_mode": {
    "name": "ipython",
    "version": 3
   },
   "file_extension": ".py",
   "mimetype": "text/x-python",
   "name": "python",
   "nbconvert_exporter": "python",
   "pygments_lexer": "ipython3",
   "version": "3.8.8"
  },
  "toc": {
   "base_numbering": 1,
   "nav_menu": {},
   "number_sections": true,
   "sideBar": true,
   "skip_h1_title": true,
   "title_cell": "Table of Contents",
   "title_sidebar": "Contents",
   "toc_cell": false,
   "toc_position": {},
   "toc_section_display": true,
   "toc_window_display": false
  },
  "varInspector": {
   "cols": {
    "lenName": 16,
    "lenType": 16,
    "lenVar": 40
   },
   "kernels_config": {
    "python": {
     "delete_cmd_postfix": "",
     "delete_cmd_prefix": "del ",
     "library": "var_list.py",
     "varRefreshCmd": "print(var_dic_list())"
    },
    "r": {
     "delete_cmd_postfix": ") ",
     "delete_cmd_prefix": "rm(",
     "library": "var_list.r",
     "varRefreshCmd": "cat(var_dic_list()) "
    }
   },
   "types_to_exclude": [
    "module",
    "function",
    "builtin_function_or_method",
    "instance",
    "_Feature"
   ],
   "window_display": false
  }
 },
 "nbformat": 4,
 "nbformat_minor": 4
}
