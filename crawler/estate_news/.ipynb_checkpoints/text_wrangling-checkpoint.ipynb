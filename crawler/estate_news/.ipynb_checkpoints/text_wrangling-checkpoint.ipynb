{
 "cells": [
  {
   "cell_type": "code",
   "execution_count": 2,
   "metadata": {
    "ExecuteTime": {
     "end_time": "2021-07-19T06:59:19.307151Z",
     "start_time": "2021-07-19T06:59:18.726051Z"
    }
   },
   "outputs": [],
   "source": [
    "import pandas as pd\n",
    "import re\n",
    "import requests\n",
    "from bs4 import BeautifulSoup\n",
    "import datetime"
   ]
  },
  {
   "cell_type": "code",
   "execution_count": 11,
   "metadata": {
    "ExecuteTime": {
     "end_time": "2021-07-19T07:03:12.043619Z",
     "start_time": "2021-07-19T07:03:09.409399Z"
    }
   },
   "outputs": [],
   "source": [
    "news = pd.read_csv('C:/Users/shic/Desktop/crawler_project/data_save/estate_news/article_df.csv')\n",
    "news.reset_index(drop=True,inplace=True)"
   ]
  },
  {
   "cell_type": "code",
   "execution_count": 14,
   "metadata": {
    "ExecuteTime": {
     "end_time": "2021-07-19T07:04:24.633861Z",
     "start_time": "2021-07-19T07:04:15.682021Z"
    }
   },
   "outputs": [],
   "source": [
    "for row_num in range(len(news['article_content'])):\n",
    "    news.loc[row_num,'article_content'] = re.sub(\"\\n|\\r|\\t|\\'\",\"\",news.loc[row_num,'article_content'])"
   ]
  },
  {
   "cell_type": "code",
   "execution_count": 15,
   "metadata": {
    "ExecuteTime": {
     "end_time": "2021-07-19T07:04:29.951373Z",
     "start_time": "2021-07-19T07:04:29.932424Z"
    }
   },
   "outputs": [
    {
     "data": {
      "text/html": [
       "<div>\n",
       "<style scoped>\n",
       "    .dataframe tbody tr th:only-of-type {\n",
       "        vertical-align: middle;\n",
       "    }\n",
       "\n",
       "    .dataframe tbody tr th {\n",
       "        vertical-align: top;\n",
       "    }\n",
       "\n",
       "    .dataframe thead th {\n",
       "        text-align: right;\n",
       "    }\n",
       "</style>\n",
       "<table border=\"1\" class=\"dataframe\">\n",
       "  <thead>\n",
       "    <tr style=\"text-align: right;\">\n",
       "      <th></th>\n",
       "      <th>article_title</th>\n",
       "      <th>article_content</th>\n",
       "      <th>article_author</th>\n",
       "    </tr>\n",
       "  </thead>\n",
       "  <tbody>\n",
       "    <tr>\n",
       "      <th>0</th>\n",
       "      <td>사전청약 관심 '후끈'…3기신도시 홈페이지 방문자 500만명 돌파</td>\n",
       "      <td>알리미 서비스 신청자도 50만 코 앞, 관심 높아져 16일 입주자 모집 공고, 28...</td>\n",
       "      <td>2021.07.14. 오후 1:40</td>\n",
       "    </tr>\n",
       "    <tr>\n",
       "      <th>1</th>\n",
       "      <td>수도권, 연이은 집값 상승…합리적 가격 갖춘 주거 단지는?</td>\n",
       "      <td>상반기 수도권 상승률 19년만에 최고치…패닉바잉’에 교통 호재가 집값 견인합리적인 ...</td>\n",
       "      <td>2021.07.14. 오후 1:50</td>\n",
       "    </tr>\n",
       "    <tr>\n",
       "      <th>2</th>\n",
       "      <td>'청약난민'에···경기도 올 벌써 52만명 몰렸다</td>\n",
       "      <td>서울 공급 절벽에 청약급증상반기 평균 경쟁률 32대1파주 등 외곽도 고가점당첨 가점...</td>\n",
       "      <td>2021.07.14. 오후 5:25</td>\n",
       "    </tr>\n",
       "    <tr>\n",
       "      <th>3</th>\n",
       "      <td>부담스러운 서울 집값…주택도 ‘소형‘이 뜬다</td>\n",
       "      <td>서울 집값 1년 13%상승, 평균 10억 돌파…수요자 부담 늘어가 현대건설, 힐스테...</td>\n",
       "      <td>2021.07.14. 오전 11:11</td>\n",
       "    </tr>\n",
       "    <tr>\n",
       "      <th>4</th>\n",
       "      <td>서울 노후 아파트값 상승률, 신축의 2배 … \"재건축 규제의 역설\"</td>\n",
       "      <td>서울 강남구 압구정 현대아파트 모습. 뉴스1           재건축을 앞둔 노...</td>\n",
       "      <td>2021.07.14. 오후 4:19</td>\n",
       "    </tr>\n",
       "    <tr>\n",
       "      <th>...</th>\n",
       "      <td>...</td>\n",
       "      <td>...</td>\n",
       "      <td>...</td>\n",
       "    </tr>\n",
       "    <tr>\n",
       "      <th>54252</th>\n",
       "      <td>연말 거래 한산, 매매도 전세도 약세 지속</td>\n",
       "      <td>서울 아파트 값이 2주 연속 하락세다. 2011년 마지막 주 시장은 비수기로 한산했...</td>\n",
       "      <td>2012.01.01. 오전 10:49</td>\n",
       "    </tr>\n",
       "    <tr>\n",
       "      <th>54253</th>\n",
       "      <td>주목받는 ‘마곡지구’ 어떻게 개발되나…LG타운 들어서고 아파트도 1만여채</td>\n",
       "      <td>서울 강서구 마곡·가양동의 마곡지구 산업단지 내 제2 LG타운이 건립될 예정이다. ...</td>\n",
       "      <td>2012.01.01. 오전 9:29</td>\n",
       "    </tr>\n",
       "    <tr>\n",
       "      <th>54254</th>\n",
       "      <td>2012년 아파트 공급 줄고, 오피스텔 늘고</td>\n",
       "      <td>새해에는 브랜드 아파트 공급은 작년보다 줄고, 대표적인 수익형부동산 상품인 오피스텔...</td>\n",
       "      <td>2012.01.01. 오전 8:06</td>\n",
       "    </tr>\n",
       "    <tr>\n",
       "      <th>54255</th>\n",
       "      <td>2012년 아파트 공급 줄고, 오피스텔 늘고</td>\n",
       "      <td>새해에는 브랜드 아파트 공급은 작년보다 줄고, 대표적인 수익형부동산 상품인 오피스텔...</td>\n",
       "      <td>2012.01.01. 오전 8:06</td>\n",
       "    </tr>\n",
       "    <tr>\n",
       "      <th>54256</th>\n",
       "      <td>2012년 아파트 공급 줄고, 오피스텔 늘고</td>\n",
       "      <td>새해에는 브랜드 아파트 공급은 작년보다 줄고, 대표적인 수익형부동산 상품인 오피스텔...</td>\n",
       "      <td>2012.01.01. 오전 8:06</td>\n",
       "    </tr>\n",
       "  </tbody>\n",
       "</table>\n",
       "<p>54257 rows × 3 columns</p>\n",
       "</div>"
      ],
      "text/plain": [
       "                                  article_title  \\\n",
       "0          사전청약 관심 '후끈'…3기신도시 홈페이지 방문자 500만명 돌파   \n",
       "1              수도권, 연이은 집값 상승…합리적 가격 갖춘 주거 단지는?   \n",
       "2                   '청약난민'에···경기도 올 벌써 52만명 몰렸다   \n",
       "3                      부담스러운 서울 집값…주택도 ‘소형‘이 뜬다   \n",
       "4         서울 노후 아파트값 상승률, 신축의 2배 … \"재건축 규제의 역설\"   \n",
       "...                                         ...   \n",
       "54252                   연말 거래 한산, 매매도 전세도 약세 지속   \n",
       "54253  주목받는 ‘마곡지구’ 어떻게 개발되나…LG타운 들어서고 아파트도 1만여채   \n",
       "54254                  2012년 아파트 공급 줄고, 오피스텔 늘고   \n",
       "54255                  2012년 아파트 공급 줄고, 오피스텔 늘고   \n",
       "54256                  2012년 아파트 공급 줄고, 오피스텔 늘고   \n",
       "\n",
       "                                         article_content        article_author  \n",
       "0      알리미 서비스 신청자도 50만 코 앞, 관심 높아져 16일 입주자 모집 공고, 28...   2021.07.14. 오후 1:40  \n",
       "1      상반기 수도권 상승률 19년만에 최고치…패닉바잉’에 교통 호재가 집값 견인합리적인 ...   2021.07.14. 오후 1:50  \n",
       "2      서울 공급 절벽에 청약급증상반기 평균 경쟁률 32대1파주 등 외곽도 고가점당첨 가점...   2021.07.14. 오후 5:25  \n",
       "3      서울 집값 1년 13%상승, 평균 10억 돌파…수요자 부담 늘어가 현대건설, 힐스테...  2021.07.14. 오전 11:11  \n",
       "4        서울 강남구 압구정 현대아파트 모습. 뉴스1           재건축을 앞둔 노...   2021.07.14. 오후 4:19  \n",
       "...                                                  ...                   ...  \n",
       "54252  서울 아파트 값이 2주 연속 하락세다. 2011년 마지막 주 시장은 비수기로 한산했...  2012.01.01. 오전 10:49  \n",
       "54253  서울 강서구 마곡·가양동의 마곡지구 산업단지 내 제2 LG타운이 건립될 예정이다. ...   2012.01.01. 오전 9:29  \n",
       "54254  새해에는 브랜드 아파트 공급은 작년보다 줄고, 대표적인 수익형부동산 상품인 오피스텔...   2012.01.01. 오전 8:06  \n",
       "54255  새해에는 브랜드 아파트 공급은 작년보다 줄고, 대표적인 수익형부동산 상품인 오피스텔...   2012.01.01. 오전 8:06  \n",
       "54256  새해에는 브랜드 아파트 공급은 작년보다 줄고, 대표적인 수익형부동산 상품인 오피스텔...   2012.01.01. 오전 8:06  \n",
       "\n",
       "[54257 rows x 3 columns]"
      ]
     },
     "execution_count": 15,
     "metadata": {},
     "output_type": "execute_result"
    }
   ],
   "source": [
    "news"
   ]
  },
  {
   "cell_type": "code",
   "execution_count": null,
   "metadata": {},
   "outputs": [],
   "source": []
  }
 ],
 "metadata": {
  "kernelspec": {
   "display_name": "simon_env",
   "language": "python",
   "name": "simon_env"
  },
  "language_info": {
   "codemirror_mode": {
    "name": "ipython",
    "version": 3
   },
   "file_extension": ".py",
   "mimetype": "text/x-python",
   "name": "python",
   "nbconvert_exporter": "python",
   "pygments_lexer": "ipython3",
   "version": "3.7.10"
  },
  "toc": {
   "base_numbering": 1,
   "nav_menu": {},
   "number_sections": true,
   "sideBar": true,
   "skip_h1_title": true,
   "title_cell": "Table of Contents",
   "title_sidebar": "Contents",
   "toc_cell": false,
   "toc_position": {},
   "toc_section_display": true,
   "toc_window_display": false
  },
  "varInspector": {
   "cols": {
    "lenName": 16,
    "lenType": 16,
    "lenVar": 40
   },
   "kernels_config": {
    "python": {
     "delete_cmd_postfix": "",
     "delete_cmd_prefix": "del ",
     "library": "var_list.py",
     "varRefreshCmd": "print(var_dic_list())"
    },
    "r": {
     "delete_cmd_postfix": ") ",
     "delete_cmd_prefix": "rm(",
     "library": "var_list.r",
     "varRefreshCmd": "cat(var_dic_list()) "
    }
   },
   "types_to_exclude": [
    "module",
    "function",
    "builtin_function_or_method",
    "instance",
    "_Feature"
   ],
   "window_display": false
  }
 },
 "nbformat": 4,
 "nbformat_minor": 4
}
