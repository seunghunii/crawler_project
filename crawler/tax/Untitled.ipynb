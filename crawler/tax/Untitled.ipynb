{
 "cells": [
  {
   "cell_type": "code",
   "execution_count": 16,
   "id": "f2506a1e",
   "metadata": {
    "ExecuteTime": {
     "end_time": "2021-07-23T06:54:33.491891Z",
     "start_time": "2021-07-23T06:54:33.384869Z"
    }
   },
   "outputs": [],
   "source": [
    "import pandas as pd\n",
    "import requests"
   ]
  },
  {
   "cell_type": "code",
   "execution_count": null,
   "id": "2eaa8b30",
   "metadata": {},
   "outputs": [],
   "source": [
    "base_url = 'https://onland.kbstar.com/quics?page=C060737&%EB%B2%95%EC%A0%95%EB%8F%99%EB%8C%80%EC%A7%80%EC%97%AD%EC%BD%94%EB%93%9C={}&%EB%B2%95%EC%A0%95%EB%8F%99%EC%A4%91%EC%A7%80%EC%97%AD%EC%BD%94%EB%93%9C={}&%EA%B8%B0%EC%A4%80%EB%85%84={}&%EA%B8%B0%EC%A4%80%EC%9B%94={}&QSL=F'"
   ]
  },
  {
   "cell_type": "code",
   "execution_count": 22,
   "id": "8bc5e070",
   "metadata": {
    "ExecuteTime": {
     "end_time": "2021-07-23T07:10:03.228698Z",
     "start_time": "2021-07-23T07:10:03.223711Z"
    }
   },
   "outputs": [],
   "source": [
    "date_list = []\n",
    "for year in range(2012,2022):\n",
    "    year = str(year)\n",
    "    for month in range(1,13):\n",
    "        if int(month) < 10:\n",
    "            month = '0' + str(month)\n",
    "        else:\n",
    "            month = str(month)\n",
    "\n",
    "        if year == '2021' and month == '07':\n",
    "            break\n",
    "\n",
    "        date_list.append([year,month])"
   ]
  },
  {
   "cell_type": "code",
   "execution_count": 30,
   "id": "ec5b879f",
   "metadata": {
    "ExecuteTime": {
     "end_time": "2021-07-23T07:11:48.986598Z",
     "start_time": "2021-07-23T07:11:48.971638Z"
    }
   },
   "outputs": [
    {
     "name": "stdout",
     "output_type": "stream",
     "text": [
      "    big_region_code big_region_name small_region_code small_region_name\n",
      "2        1100000000              서울        1199000000              서울강북\n",
      "3        1100000000              서울        1130500000             서울강북구\n",
      "4        1100000000              서울        1121500000             서울광진구\n",
      "5        1100000000              서울        1135000000             서울노원구\n",
      "6        1100000000              서울        1132000000             서울도봉구\n",
      "..              ...             ...               ...               ...\n",
      "178      4800000000              경남        4833000000                양산\n",
      "179      4800000000              경남        4831000000                거제\n",
      "180      4800000000              경남        4817000000                진주\n",
      "181      4800000000              경남        4825000000                김해\n",
      "182      4800000000              경남        4822000000                통영\n",
      "\n",
      "[163 rows x 4 columns]\n"
     ]
    }
   ],
   "source": [
    "# region code\n",
    "region_data = pd.read_csv('C:/Users/shic/Desktop/crawler_project/data_save/kb_land/region_code.csv',\n",
    "                          dtype = {'big_region_code' : str,\n",
    "                                   'big_region_name' : str,\n",
    "                                   'small_region_code' : str,\n",
    "                                   'small_region_name' : str})\n",
    "region_data = region_data[region_data['small_region_name']!='(전체)']"
   ]
  },
  {
   "cell_type": "code",
   "execution_count": 31,
   "id": "d82a9cd6",
   "metadata": {
    "ExecuteTime": {
     "end_time": "2021-07-23T07:12:28.641229Z",
     "start_time": "2021-07-23T07:12:28.621307Z"
    }
   },
   "outputs": [
    {
     "data": {
      "text/plain": [
       "'    big_region_code big_region_name small_region_code small_region_name\\n2        1100000000              서울        1199000000              서울강북\\n3        1100000000              서울        1130500000             서울강북구\\n4        1100000000              서울        1121500000             서울광진구\\n5        1100000000              서울        1135000000             서울노원구\\n6        1100000000              서울        1132000000             서울도봉구\\n7        1100000000              서울        1123000000            서울동대문구\\n8        1100000000              서울        1144000000             서울마포구\\n9        1100000000              서울        1141000000            서울서대문구\\n10       1100000000              서울        1120000000             서울성동구\\n11       1100000000              서울        1129000000             서울성북구\\n12       1100000000              서울        1117000000             서울용산구\\n13       1100000000              서울        1138000000             서울은평구\\n14       1100000000              서울        1111000000             서울종로구\\n15       1100000000              서울        1114000000              서울중구\\n16       1100000000              서울        1126000000             서울중랑구\\n17       1100000000              서울        1198000000              서울강남\\n18       1100000000              서울        1168000000             서울강남구\\n19       1100000000              서울        1174000000             서울강동구\\n20       1100000000              서울        1150000000             서울강서구\\n21       1100000000              서울        1162000000             서울관악구\\n22       1100000000              서울        1153000000             서울구로구\\n23       1100000000              서울        1154500000             서울금천구\\n24       1100000000              서울        1159000000             서울동작구\\n25       1100000000              서울        1165000000             서울서초구\\n26       1100000000              서울        1171000000             서울송파구\\n27       1100000000              서울        1147000000             서울양천구\\n28       1100000000              서울        1156000000            서울영등포구\\n30       4100000000              경기        4111000000                수원\\n31       4100000000              경기        4111100000             수원장안구\\n32       4100000000              경기        4111300000             수원권선구\\n33       4100000000              경기        4111500000             수원팔달구\\n34       4100000000              경기        4111700000             수원영통구\\n35       4100000000              경기        4113000000                성남\\n36       4100000000              경기        4113100000             성남수정구\\n37       4100000000              경기        4113300000             성남중원구\\n38       4100000000              경기        4113500000             성남분당구\\n39       4100000000              경기        4128000000                고양\\n40       4100000000              경기        4128100000             고양덕양구\\n41       4100000000              경기        4128500000            고양일산동구\\n42       4100000000              경기        4128700000            고양일산서구\\n43       4100000000              경기        4117000000                안양\\n44       4100000000              경기        4117100000             안양만안구\\n45       4100000000              경기        4117300000             안양동안구\\n46       4100000000              경기        4119000000                부천\\n47       4100000000              경기        4115000000               의정부\\n48       4100000000              경기        4121000000                광명\\n49       4100000000              경기        4122000000                평택\\n50       4100000000              경기        4127000000                안산\\n51       4100000000              경기        4127300000             안산단원구\\n52       4100000000              경기        4127100000             안산상록구\\n53       4100000000              경기        4129000000                과천\\n54       4100000000              경기        4131000000                구리\\n55       4100000000              경기        4136000000               남양주\\n56       4100000000              경기        4146000000                용인\\n57       4100000000              경기        4146100000             용인처인구\\n58       4100000000              경기        4146300000             용인기흥구\\n59       4100000000              경기        4146500000             용인수지구\\n60       4100000000              경기        4139000000                시흥\\n61       4100000000              경기        4141000000                군포\\n62       4100000000              경기        4143000000                의왕\\n63       4100000000              경기        4145000000                하남\\n64       4100000000              경기        4137000000                오산\\n65       4100000000              경기        4148000000                파주\\n66       4100000000              경기        4150000000                이천\\n67       4100000000              경기        4155000000                안성\\n68       4100000000              경기        4157000000                김포\\n69       4100000000              경기        4163000000                양주\\n70       4100000000              경기        4125000000               동두천\\n71       4100000000              경기        4161000000                광주\\n72       4100000000              경기        4159000000                화성\\n74       2800000000              인천        2811000000              인천중구\\n75       2800000000              인천        2814000000              인천동구\\n76       2800000000              인천        2817700000            인천미추홀구\\n77       2800000000              인천        2818500000             인천연수구\\n78       2800000000              인천        2820000000             인천남동구\\n79       2800000000              인천        2823700000             인천부평구\\n80       2800000000              인천        2824500000             인천계양구\\n81       2800000000              인천        2826000000              인천서구\\n84       2600000000              부산        2611000000              부산중구\\n85       2600000000              부산        2614000000              부산서구\\n86       2600000000              부산        2617000000              부산동구\\n87       2600000000              부산        2620000000             부산영도구\\n88       2600000000              부산        2623000000            부산부산진구\\n89       2600000000              부산        2626000000             부산동래구\\n90       2600000000              부산        2629000000              부산남구\\n91       2600000000              부산        2632000000              부산북구\\n92       2600000000              부산        2635000000            부산해운대구\\n93       2600000000              부산        2638000000             부산사하구\\n94       2600000000              부산        2641000000             부산금정구\\n95       2600000000              부산        2647000000             부산연제구\\n96       2600000000              부산        2650000000             부산수영구\\n97       2600000000              부산        2653000000             부산사상구\\n98       2600000000              부산        2671000000             부산기장군\\n99       2600000000              부산        2644000000             부산강서구\\n101      2700000000              대구        2711000000              대구중구\\n102      2700000000              대구        2714000000              대구동구\\n103      2700000000              대구        2717000000              대구서구\\n104      2700000000              대구        2720000000              대구남구\\n105      2700000000              대구        2723000000              대구북구\\n106      2700000000              대구        2726000000             대구수성구\\n107      2700000000              대구        2729000000             대구달서구\\n108      2700000000              대구        2771000000             대구달성군\\n110      2900000000              광주        2911000000              광주동구\\n111      2900000000              광주        2914000000              광주서구\\n112      2900000000              광주        2915500000              광주남구\\n113      2900000000              광주        2917000000              광주북구\\n114      2900000000              광주        2920000000             광주광산구\\n116      3000000000              대전        3011000000              대전동구\\n117      3000000000              대전        3014000000              대전중구\\n118      3000000000              대전        3017000000              대전서구\\n119      3000000000              대전        3020000000             대전유성구\\n120      3000000000              대전        3023000000             대전대덕구\\n122      3100000000              울산        3111000000              울산중구\\n123      3100000000              울산        3114000000              울산남구\\n124      3100000000              울산        3117000000              울산동구\\n125      3100000000              울산        3120000000              울산북구\\n126      3100000000              울산        3171000000             울산울주군\\n131      4200000000              강원        4211000000                춘천\\n132      4200000000              강원        4215000000                강릉\\n133      4200000000              강원        4213000000                원주\\n135      4300000000              충북        4311000000                청주\\n136      4300000000              충북        4311100000             청주상당구\\n137      4300000000              충북        4311200000             청주서원구\\n138      4300000000              충북        4311400000             청주청원구\\n139      4300000000              충북        4311300000             청주흥덕구\\n140      4300000000              충북        4313000000                충주\\n141      4300000000              충북        4315000000                제천\\n143      4400000000              충남        4413000000                천안\\n144      4400000000              충남        4413100000             천안동남구\\n145      4400000000              충남        4413300000             천안서북구\\n146      4400000000              충남        4415000000                공주\\n147      4400000000              충남        4420000000                아산\\n148      4400000000              충남        4423000000                논산\\n149      4400000000              충남        4425000000                계룡\\n150      4400000000              충남        4427000000                당진\\n151      4400000000              충남        4421000000                서산\\n153      4500000000              전북        4511000000                전주\\n154      4500000000              전북        4511100000             전주완산구\\n155      4500000000              전북        4511300000             전주덕진구\\n156      4500000000              전북        4514000000                익산\\n157      4500000000              전북        4513000000                군산\\n159      4600000000              전남        4611000000                목포\\n160      4600000000              전남        4615000000                순천\\n161      4600000000              전남        4623000000                광양\\n162      4600000000              전남        4613000000                여수\\n164      4700000000              경북        4711000000                포항\\n165      4700000000              경북        4711100000              포항남구\\n166      4700000000              경북        4711300000              포항북구\\n167      4700000000              경북        4715000000                김천\\n168      4700000000              경북        4719000000                구미\\n169      4700000000              경북        4729000000                경산\\n170      4700000000              경북        4717000000                안동\\n172      4800000000              경남        4812000000                창원\\n173      4800000000              경남        4812500000           창원마산합포구\\n174      4800000000              경남        4812700000           창원마산회원구\\n175      4800000000              경남        4812300000             창원성산구\\n176      4800000000              경남        4812100000             창원의창구\\n177      4800000000              경남        4812900000             창원진해구\\n178      4800000000              경남        4833000000                양산\\n179      4800000000              경남        4831000000                거제\\n180      4800000000              경남        4817000000                진주\\n181      4800000000              경남        4825000000                김해\\n182      4800000000              경남        4822000000                통영'"
      ]
     },
     "execution_count": 31,
     "metadata": {},
     "output_type": "execute_result"
    }
   ],
   "source": [
    "region_data.to_string()"
   ]
  },
  {
   "cell_type": "code",
   "execution_count": 27,
   "id": "61d7f532",
   "metadata": {
    "ExecuteTime": {
     "end_time": "2021-07-23T07:11:00.029284Z",
     "start_time": "2021-07-23T07:11:00.025294Z"
    }
   },
   "outputs": [],
   "source": [
    "base_url = 'https://onland.kbstar.com/quics?page=C060737&%EB%B2%95%EC%A0%95%EB%8F%99%EB%8C%80%EC%A7%80%EC%97%AD%EC%BD%94%EB%93%9C={}&%EB%B2%95%EC%A0%95%EB%8F%99%EC%A4%91%EC%A7%80%EC%97%AD%EC%BD%94%EB%93%9C={}&%EA%B8%B0%EC%A4%80%EB%85%84={}&%EA%B8%B0%EC%A4%80%EC%9B%94={}&QSL=F'"
   ]
  },
  {
   "cell_type": "code",
   "execution_count": 28,
   "id": "cefbf9d4",
   "metadata": {
    "ExecuteTime": {
     "end_time": "2021-07-23T07:11:00.606102Z",
     "start_time": "2021-07-23T07:11:00.582166Z"
    }
   },
   "outputs": [],
   "source": [
    "lab = []\n",
    "for region in region_data.iterrows():\n",
    "    tmp_url = base_url.format(region[1]['big_region_code'],  # 대지역코드\n",
    "                              region[1]['small_region_code'],  # 중지역코드\n",
    "                              date_list[0][0], date_list[0][1])\n",
    "    lab.append(tmp_url)"
   ]
  },
  {
   "cell_type": "code",
   "execution_count": 29,
   "id": "218a8a6c",
   "metadata": {
    "ExecuteTime": {
     "end_time": "2021-07-23T07:11:01.845174Z",
     "start_time": "2021-07-23T07:11:01.833206Z"
    }
   },
   "outputs": [
    {
     "data": {
      "text/plain": [
       "['https://onland.kbstar.com/quics?page=C060737&%EB%B2%95%EC%A0%95%EB%8F%99%EB%8C%80%EC%A7%80%EC%97%AD%EC%BD%94%EB%93%9C=1100000000&%EB%B2%95%EC%A0%95%EB%8F%99%EC%A4%91%EC%A7%80%EC%97%AD%EC%BD%94%EB%93%9C=1199000000&%EA%B8%B0%EC%A4%80%EB%85%84=2012&%EA%B8%B0%EC%A4%80%EC%9B%94=01&QSL=F',\n",
       " 'https://onland.kbstar.com/quics?page=C060737&%EB%B2%95%EC%A0%95%EB%8F%99%EB%8C%80%EC%A7%80%EC%97%AD%EC%BD%94%EB%93%9C=1100000000&%EB%B2%95%EC%A0%95%EB%8F%99%EC%A4%91%EC%A7%80%EC%97%AD%EC%BD%94%EB%93%9C=1130500000&%EA%B8%B0%EC%A4%80%EB%85%84=2012&%EA%B8%B0%EC%A4%80%EC%9B%94=01&QSL=F',\n",
       " 'https://onland.kbstar.com/quics?page=C060737&%EB%B2%95%EC%A0%95%EB%8F%99%EB%8C%80%EC%A7%80%EC%97%AD%EC%BD%94%EB%93%9C=1100000000&%EB%B2%95%EC%A0%95%EB%8F%99%EC%A4%91%EC%A7%80%EC%97%AD%EC%BD%94%EB%93%9C=1121500000&%EA%B8%B0%EC%A4%80%EB%85%84=2012&%EA%B8%B0%EC%A4%80%EC%9B%94=01&QSL=F',\n",
       " 'https://onland.kbstar.com/quics?page=C060737&%EB%B2%95%EC%A0%95%EB%8F%99%EB%8C%80%EC%A7%80%EC%97%AD%EC%BD%94%EB%93%9C=1100000000&%EB%B2%95%EC%A0%95%EB%8F%99%EC%A4%91%EC%A7%80%EC%97%AD%EC%BD%94%EB%93%9C=1135000000&%EA%B8%B0%EC%A4%80%EB%85%84=2012&%EA%B8%B0%EC%A4%80%EC%9B%94=01&QSL=F',\n",
       " 'https://onland.kbstar.com/quics?page=C060737&%EB%B2%95%EC%A0%95%EB%8F%99%EB%8C%80%EC%A7%80%EC%97%AD%EC%BD%94%EB%93%9C=1100000000&%EB%B2%95%EC%A0%95%EB%8F%99%EC%A4%91%EC%A7%80%EC%97%AD%EC%BD%94%EB%93%9C=1132000000&%EA%B8%B0%EC%A4%80%EB%85%84=2012&%EA%B8%B0%EC%A4%80%EC%9B%94=01&QSL=F',\n",
       " 'https://onland.kbstar.com/quics?page=C060737&%EB%B2%95%EC%A0%95%EB%8F%99%EB%8C%80%EC%A7%80%EC%97%AD%EC%BD%94%EB%93%9C=1100000000&%EB%B2%95%EC%A0%95%EB%8F%99%EC%A4%91%EC%A7%80%EC%97%AD%EC%BD%94%EB%93%9C=1123000000&%EA%B8%B0%EC%A4%80%EB%85%84=2012&%EA%B8%B0%EC%A4%80%EC%9B%94=01&QSL=F',\n",
       " 'https://onland.kbstar.com/quics?page=C060737&%EB%B2%95%EC%A0%95%EB%8F%99%EB%8C%80%EC%A7%80%EC%97%AD%EC%BD%94%EB%93%9C=1100000000&%EB%B2%95%EC%A0%95%EB%8F%99%EC%A4%91%EC%A7%80%EC%97%AD%EC%BD%94%EB%93%9C=1144000000&%EA%B8%B0%EC%A4%80%EB%85%84=2012&%EA%B8%B0%EC%A4%80%EC%9B%94=01&QSL=F',\n",
       " 'https://onland.kbstar.com/quics?page=C060737&%EB%B2%95%EC%A0%95%EB%8F%99%EB%8C%80%EC%A7%80%EC%97%AD%EC%BD%94%EB%93%9C=1100000000&%EB%B2%95%EC%A0%95%EB%8F%99%EC%A4%91%EC%A7%80%EC%97%AD%EC%BD%94%EB%93%9C=1141000000&%EA%B8%B0%EC%A4%80%EB%85%84=2012&%EA%B8%B0%EC%A4%80%EC%9B%94=01&QSL=F',\n",
       " 'https://onland.kbstar.com/quics?page=C060737&%EB%B2%95%EC%A0%95%EB%8F%99%EB%8C%80%EC%A7%80%EC%97%AD%EC%BD%94%EB%93%9C=1100000000&%EB%B2%95%EC%A0%95%EB%8F%99%EC%A4%91%EC%A7%80%EC%97%AD%EC%BD%94%EB%93%9C=1120000000&%EA%B8%B0%EC%A4%80%EB%85%84=2012&%EA%B8%B0%EC%A4%80%EC%9B%94=01&QSL=F',\n",
       " 'https://onland.kbstar.com/quics?page=C060737&%EB%B2%95%EC%A0%95%EB%8F%99%EB%8C%80%EC%A7%80%EC%97%AD%EC%BD%94%EB%93%9C=1100000000&%EB%B2%95%EC%A0%95%EB%8F%99%EC%A4%91%EC%A7%80%EC%97%AD%EC%BD%94%EB%93%9C=1129000000&%EA%B8%B0%EC%A4%80%EB%85%84=2012&%EA%B8%B0%EC%A4%80%EC%9B%94=01&QSL=F',\n",
       " 'https://onland.kbstar.com/quics?page=C060737&%EB%B2%95%EC%A0%95%EB%8F%99%EB%8C%80%EC%A7%80%EC%97%AD%EC%BD%94%EB%93%9C=1100000000&%EB%B2%95%EC%A0%95%EB%8F%99%EC%A4%91%EC%A7%80%EC%97%AD%EC%BD%94%EB%93%9C=1117000000&%EA%B8%B0%EC%A4%80%EB%85%84=2012&%EA%B8%B0%EC%A4%80%EC%9B%94=01&QSL=F',\n",
       " 'https://onland.kbstar.com/quics?page=C060737&%EB%B2%95%EC%A0%95%EB%8F%99%EB%8C%80%EC%A7%80%EC%97%AD%EC%BD%94%EB%93%9C=1100000000&%EB%B2%95%EC%A0%95%EB%8F%99%EC%A4%91%EC%A7%80%EC%97%AD%EC%BD%94%EB%93%9C=1138000000&%EA%B8%B0%EC%A4%80%EB%85%84=2012&%EA%B8%B0%EC%A4%80%EC%9B%94=01&QSL=F',\n",
       " 'https://onland.kbstar.com/quics?page=C060737&%EB%B2%95%EC%A0%95%EB%8F%99%EB%8C%80%EC%A7%80%EC%97%AD%EC%BD%94%EB%93%9C=1100000000&%EB%B2%95%EC%A0%95%EB%8F%99%EC%A4%91%EC%A7%80%EC%97%AD%EC%BD%94%EB%93%9C=1111000000&%EA%B8%B0%EC%A4%80%EB%85%84=2012&%EA%B8%B0%EC%A4%80%EC%9B%94=01&QSL=F',\n",
       " 'https://onland.kbstar.com/quics?page=C060737&%EB%B2%95%EC%A0%95%EB%8F%99%EB%8C%80%EC%A7%80%EC%97%AD%EC%BD%94%EB%93%9C=1100000000&%EB%B2%95%EC%A0%95%EB%8F%99%EC%A4%91%EC%A7%80%EC%97%AD%EC%BD%94%EB%93%9C=1114000000&%EA%B8%B0%EC%A4%80%EB%85%84=2012&%EA%B8%B0%EC%A4%80%EC%9B%94=01&QSL=F',\n",
       " 'https://onland.kbstar.com/quics?page=C060737&%EB%B2%95%EC%A0%95%EB%8F%99%EB%8C%80%EC%A7%80%EC%97%AD%EC%BD%94%EB%93%9C=1100000000&%EB%B2%95%EC%A0%95%EB%8F%99%EC%A4%91%EC%A7%80%EC%97%AD%EC%BD%94%EB%93%9C=1126000000&%EA%B8%B0%EC%A4%80%EB%85%84=2012&%EA%B8%B0%EC%A4%80%EC%9B%94=01&QSL=F',\n",
       " 'https://onland.kbstar.com/quics?page=C060737&%EB%B2%95%EC%A0%95%EB%8F%99%EB%8C%80%EC%A7%80%EC%97%AD%EC%BD%94%EB%93%9C=1100000000&%EB%B2%95%EC%A0%95%EB%8F%99%EC%A4%91%EC%A7%80%EC%97%AD%EC%BD%94%EB%93%9C=1198000000&%EA%B8%B0%EC%A4%80%EB%85%84=2012&%EA%B8%B0%EC%A4%80%EC%9B%94=01&QSL=F',\n",
       " 'https://onland.kbstar.com/quics?page=C060737&%EB%B2%95%EC%A0%95%EB%8F%99%EB%8C%80%EC%A7%80%EC%97%AD%EC%BD%94%EB%93%9C=1100000000&%EB%B2%95%EC%A0%95%EB%8F%99%EC%A4%91%EC%A7%80%EC%97%AD%EC%BD%94%EB%93%9C=1168000000&%EA%B8%B0%EC%A4%80%EB%85%84=2012&%EA%B8%B0%EC%A4%80%EC%9B%94=01&QSL=F',\n",
       " 'https://onland.kbstar.com/quics?page=C060737&%EB%B2%95%EC%A0%95%EB%8F%99%EB%8C%80%EC%A7%80%EC%97%AD%EC%BD%94%EB%93%9C=1100000000&%EB%B2%95%EC%A0%95%EB%8F%99%EC%A4%91%EC%A7%80%EC%97%AD%EC%BD%94%EB%93%9C=1174000000&%EA%B8%B0%EC%A4%80%EB%85%84=2012&%EA%B8%B0%EC%A4%80%EC%9B%94=01&QSL=F',\n",
       " 'https://onland.kbstar.com/quics?page=C060737&%EB%B2%95%EC%A0%95%EB%8F%99%EB%8C%80%EC%A7%80%EC%97%AD%EC%BD%94%EB%93%9C=1100000000&%EB%B2%95%EC%A0%95%EB%8F%99%EC%A4%91%EC%A7%80%EC%97%AD%EC%BD%94%EB%93%9C=1150000000&%EA%B8%B0%EC%A4%80%EB%85%84=2012&%EA%B8%B0%EC%A4%80%EC%9B%94=01&QSL=F',\n",
       " 'https://onland.kbstar.com/quics?page=C060737&%EB%B2%95%EC%A0%95%EB%8F%99%EB%8C%80%EC%A7%80%EC%97%AD%EC%BD%94%EB%93%9C=1100000000&%EB%B2%95%EC%A0%95%EB%8F%99%EC%A4%91%EC%A7%80%EC%97%AD%EC%BD%94%EB%93%9C=1162000000&%EA%B8%B0%EC%A4%80%EB%85%84=2012&%EA%B8%B0%EC%A4%80%EC%9B%94=01&QSL=F',\n",
       " 'https://onland.kbstar.com/quics?page=C060737&%EB%B2%95%EC%A0%95%EB%8F%99%EB%8C%80%EC%A7%80%EC%97%AD%EC%BD%94%EB%93%9C=1100000000&%EB%B2%95%EC%A0%95%EB%8F%99%EC%A4%91%EC%A7%80%EC%97%AD%EC%BD%94%EB%93%9C=1153000000&%EA%B8%B0%EC%A4%80%EB%85%84=2012&%EA%B8%B0%EC%A4%80%EC%9B%94=01&QSL=F',\n",
       " 'https://onland.kbstar.com/quics?page=C060737&%EB%B2%95%EC%A0%95%EB%8F%99%EB%8C%80%EC%A7%80%EC%97%AD%EC%BD%94%EB%93%9C=1100000000&%EB%B2%95%EC%A0%95%EB%8F%99%EC%A4%91%EC%A7%80%EC%97%AD%EC%BD%94%EB%93%9C=1154500000&%EA%B8%B0%EC%A4%80%EB%85%84=2012&%EA%B8%B0%EC%A4%80%EC%9B%94=01&QSL=F',\n",
       " 'https://onland.kbstar.com/quics?page=C060737&%EB%B2%95%EC%A0%95%EB%8F%99%EB%8C%80%EC%A7%80%EC%97%AD%EC%BD%94%EB%93%9C=1100000000&%EB%B2%95%EC%A0%95%EB%8F%99%EC%A4%91%EC%A7%80%EC%97%AD%EC%BD%94%EB%93%9C=1159000000&%EA%B8%B0%EC%A4%80%EB%85%84=2012&%EA%B8%B0%EC%A4%80%EC%9B%94=01&QSL=F',\n",
       " 'https://onland.kbstar.com/quics?page=C060737&%EB%B2%95%EC%A0%95%EB%8F%99%EB%8C%80%EC%A7%80%EC%97%AD%EC%BD%94%EB%93%9C=1100000000&%EB%B2%95%EC%A0%95%EB%8F%99%EC%A4%91%EC%A7%80%EC%97%AD%EC%BD%94%EB%93%9C=1165000000&%EA%B8%B0%EC%A4%80%EB%85%84=2012&%EA%B8%B0%EC%A4%80%EC%9B%94=01&QSL=F',\n",
       " 'https://onland.kbstar.com/quics?page=C060737&%EB%B2%95%EC%A0%95%EB%8F%99%EB%8C%80%EC%A7%80%EC%97%AD%EC%BD%94%EB%93%9C=1100000000&%EB%B2%95%EC%A0%95%EB%8F%99%EC%A4%91%EC%A7%80%EC%97%AD%EC%BD%94%EB%93%9C=1171000000&%EA%B8%B0%EC%A4%80%EB%85%84=2012&%EA%B8%B0%EC%A4%80%EC%9B%94=01&QSL=F',\n",
       " 'https://onland.kbstar.com/quics?page=C060737&%EB%B2%95%EC%A0%95%EB%8F%99%EB%8C%80%EC%A7%80%EC%97%AD%EC%BD%94%EB%93%9C=1100000000&%EB%B2%95%EC%A0%95%EB%8F%99%EC%A4%91%EC%A7%80%EC%97%AD%EC%BD%94%EB%93%9C=1147000000&%EA%B8%B0%EC%A4%80%EB%85%84=2012&%EA%B8%B0%EC%A4%80%EC%9B%94=01&QSL=F',\n",
       " 'https://onland.kbstar.com/quics?page=C060737&%EB%B2%95%EC%A0%95%EB%8F%99%EB%8C%80%EC%A7%80%EC%97%AD%EC%BD%94%EB%93%9C=1100000000&%EB%B2%95%EC%A0%95%EB%8F%99%EC%A4%91%EC%A7%80%EC%97%AD%EC%BD%94%EB%93%9C=1156000000&%EA%B8%B0%EC%A4%80%EB%85%84=2012&%EA%B8%B0%EC%A4%80%EC%9B%94=01&QSL=F',\n",
       " 'https://onland.kbstar.com/quics?page=C060737&%EB%B2%95%EC%A0%95%EB%8F%99%EB%8C%80%EC%A7%80%EC%97%AD%EC%BD%94%EB%93%9C=4100000000&%EB%B2%95%EC%A0%95%EB%8F%99%EC%A4%91%EC%A7%80%EC%97%AD%EC%BD%94%EB%93%9C=4111000000&%EA%B8%B0%EC%A4%80%EB%85%84=2012&%EA%B8%B0%EC%A4%80%EC%9B%94=01&QSL=F',\n",
       " 'https://onland.kbstar.com/quics?page=C060737&%EB%B2%95%EC%A0%95%EB%8F%99%EB%8C%80%EC%A7%80%EC%97%AD%EC%BD%94%EB%93%9C=4100000000&%EB%B2%95%EC%A0%95%EB%8F%99%EC%A4%91%EC%A7%80%EC%97%AD%EC%BD%94%EB%93%9C=4111100000&%EA%B8%B0%EC%A4%80%EB%85%84=2012&%EA%B8%B0%EC%A4%80%EC%9B%94=01&QSL=F',\n",
       " 'https://onland.kbstar.com/quics?page=C060737&%EB%B2%95%EC%A0%95%EB%8F%99%EB%8C%80%EC%A7%80%EC%97%AD%EC%BD%94%EB%93%9C=4100000000&%EB%B2%95%EC%A0%95%EB%8F%99%EC%A4%91%EC%A7%80%EC%97%AD%EC%BD%94%EB%93%9C=4111300000&%EA%B8%B0%EC%A4%80%EB%85%84=2012&%EA%B8%B0%EC%A4%80%EC%9B%94=01&QSL=F',\n",
       " 'https://onland.kbstar.com/quics?page=C060737&%EB%B2%95%EC%A0%95%EB%8F%99%EB%8C%80%EC%A7%80%EC%97%AD%EC%BD%94%EB%93%9C=4100000000&%EB%B2%95%EC%A0%95%EB%8F%99%EC%A4%91%EC%A7%80%EC%97%AD%EC%BD%94%EB%93%9C=4111500000&%EA%B8%B0%EC%A4%80%EB%85%84=2012&%EA%B8%B0%EC%A4%80%EC%9B%94=01&QSL=F',\n",
       " 'https://onland.kbstar.com/quics?page=C060737&%EB%B2%95%EC%A0%95%EB%8F%99%EB%8C%80%EC%A7%80%EC%97%AD%EC%BD%94%EB%93%9C=4100000000&%EB%B2%95%EC%A0%95%EB%8F%99%EC%A4%91%EC%A7%80%EC%97%AD%EC%BD%94%EB%93%9C=4111700000&%EA%B8%B0%EC%A4%80%EB%85%84=2012&%EA%B8%B0%EC%A4%80%EC%9B%94=01&QSL=F',\n",
       " 'https://onland.kbstar.com/quics?page=C060737&%EB%B2%95%EC%A0%95%EB%8F%99%EB%8C%80%EC%A7%80%EC%97%AD%EC%BD%94%EB%93%9C=4100000000&%EB%B2%95%EC%A0%95%EB%8F%99%EC%A4%91%EC%A7%80%EC%97%AD%EC%BD%94%EB%93%9C=4113000000&%EA%B8%B0%EC%A4%80%EB%85%84=2012&%EA%B8%B0%EC%A4%80%EC%9B%94=01&QSL=F',\n",
       " 'https://onland.kbstar.com/quics?page=C060737&%EB%B2%95%EC%A0%95%EB%8F%99%EB%8C%80%EC%A7%80%EC%97%AD%EC%BD%94%EB%93%9C=4100000000&%EB%B2%95%EC%A0%95%EB%8F%99%EC%A4%91%EC%A7%80%EC%97%AD%EC%BD%94%EB%93%9C=4113100000&%EA%B8%B0%EC%A4%80%EB%85%84=2012&%EA%B8%B0%EC%A4%80%EC%9B%94=01&QSL=F',\n",
       " 'https://onland.kbstar.com/quics?page=C060737&%EB%B2%95%EC%A0%95%EB%8F%99%EB%8C%80%EC%A7%80%EC%97%AD%EC%BD%94%EB%93%9C=4100000000&%EB%B2%95%EC%A0%95%EB%8F%99%EC%A4%91%EC%A7%80%EC%97%AD%EC%BD%94%EB%93%9C=4113300000&%EA%B8%B0%EC%A4%80%EB%85%84=2012&%EA%B8%B0%EC%A4%80%EC%9B%94=01&QSL=F',\n",
       " 'https://onland.kbstar.com/quics?page=C060737&%EB%B2%95%EC%A0%95%EB%8F%99%EB%8C%80%EC%A7%80%EC%97%AD%EC%BD%94%EB%93%9C=4100000000&%EB%B2%95%EC%A0%95%EB%8F%99%EC%A4%91%EC%A7%80%EC%97%AD%EC%BD%94%EB%93%9C=4113500000&%EA%B8%B0%EC%A4%80%EB%85%84=2012&%EA%B8%B0%EC%A4%80%EC%9B%94=01&QSL=F',\n",
       " 'https://onland.kbstar.com/quics?page=C060737&%EB%B2%95%EC%A0%95%EB%8F%99%EB%8C%80%EC%A7%80%EC%97%AD%EC%BD%94%EB%93%9C=4100000000&%EB%B2%95%EC%A0%95%EB%8F%99%EC%A4%91%EC%A7%80%EC%97%AD%EC%BD%94%EB%93%9C=4128000000&%EA%B8%B0%EC%A4%80%EB%85%84=2012&%EA%B8%B0%EC%A4%80%EC%9B%94=01&QSL=F',\n",
       " 'https://onland.kbstar.com/quics?page=C060737&%EB%B2%95%EC%A0%95%EB%8F%99%EB%8C%80%EC%A7%80%EC%97%AD%EC%BD%94%EB%93%9C=4100000000&%EB%B2%95%EC%A0%95%EB%8F%99%EC%A4%91%EC%A7%80%EC%97%AD%EC%BD%94%EB%93%9C=4128100000&%EA%B8%B0%EC%A4%80%EB%85%84=2012&%EA%B8%B0%EC%A4%80%EC%9B%94=01&QSL=F',\n",
       " 'https://onland.kbstar.com/quics?page=C060737&%EB%B2%95%EC%A0%95%EB%8F%99%EB%8C%80%EC%A7%80%EC%97%AD%EC%BD%94%EB%93%9C=4100000000&%EB%B2%95%EC%A0%95%EB%8F%99%EC%A4%91%EC%A7%80%EC%97%AD%EC%BD%94%EB%93%9C=4128500000&%EA%B8%B0%EC%A4%80%EB%85%84=2012&%EA%B8%B0%EC%A4%80%EC%9B%94=01&QSL=F',\n",
       " 'https://onland.kbstar.com/quics?page=C060737&%EB%B2%95%EC%A0%95%EB%8F%99%EB%8C%80%EC%A7%80%EC%97%AD%EC%BD%94%EB%93%9C=4100000000&%EB%B2%95%EC%A0%95%EB%8F%99%EC%A4%91%EC%A7%80%EC%97%AD%EC%BD%94%EB%93%9C=4128700000&%EA%B8%B0%EC%A4%80%EB%85%84=2012&%EA%B8%B0%EC%A4%80%EC%9B%94=01&QSL=F',\n",
       " 'https://onland.kbstar.com/quics?page=C060737&%EB%B2%95%EC%A0%95%EB%8F%99%EB%8C%80%EC%A7%80%EC%97%AD%EC%BD%94%EB%93%9C=4100000000&%EB%B2%95%EC%A0%95%EB%8F%99%EC%A4%91%EC%A7%80%EC%97%AD%EC%BD%94%EB%93%9C=4117000000&%EA%B8%B0%EC%A4%80%EB%85%84=2012&%EA%B8%B0%EC%A4%80%EC%9B%94=01&QSL=F',\n",
       " 'https://onland.kbstar.com/quics?page=C060737&%EB%B2%95%EC%A0%95%EB%8F%99%EB%8C%80%EC%A7%80%EC%97%AD%EC%BD%94%EB%93%9C=4100000000&%EB%B2%95%EC%A0%95%EB%8F%99%EC%A4%91%EC%A7%80%EC%97%AD%EC%BD%94%EB%93%9C=4117100000&%EA%B8%B0%EC%A4%80%EB%85%84=2012&%EA%B8%B0%EC%A4%80%EC%9B%94=01&QSL=F',\n",
       " 'https://onland.kbstar.com/quics?page=C060737&%EB%B2%95%EC%A0%95%EB%8F%99%EB%8C%80%EC%A7%80%EC%97%AD%EC%BD%94%EB%93%9C=4100000000&%EB%B2%95%EC%A0%95%EB%8F%99%EC%A4%91%EC%A7%80%EC%97%AD%EC%BD%94%EB%93%9C=4117300000&%EA%B8%B0%EC%A4%80%EB%85%84=2012&%EA%B8%B0%EC%A4%80%EC%9B%94=01&QSL=F',\n",
       " 'https://onland.kbstar.com/quics?page=C060737&%EB%B2%95%EC%A0%95%EB%8F%99%EB%8C%80%EC%A7%80%EC%97%AD%EC%BD%94%EB%93%9C=4100000000&%EB%B2%95%EC%A0%95%EB%8F%99%EC%A4%91%EC%A7%80%EC%97%AD%EC%BD%94%EB%93%9C=4119000000&%EA%B8%B0%EC%A4%80%EB%85%84=2012&%EA%B8%B0%EC%A4%80%EC%9B%94=01&QSL=F',\n",
       " 'https://onland.kbstar.com/quics?page=C060737&%EB%B2%95%EC%A0%95%EB%8F%99%EB%8C%80%EC%A7%80%EC%97%AD%EC%BD%94%EB%93%9C=4100000000&%EB%B2%95%EC%A0%95%EB%8F%99%EC%A4%91%EC%A7%80%EC%97%AD%EC%BD%94%EB%93%9C=4115000000&%EA%B8%B0%EC%A4%80%EB%85%84=2012&%EA%B8%B0%EC%A4%80%EC%9B%94=01&QSL=F',\n",
       " 'https://onland.kbstar.com/quics?page=C060737&%EB%B2%95%EC%A0%95%EB%8F%99%EB%8C%80%EC%A7%80%EC%97%AD%EC%BD%94%EB%93%9C=4100000000&%EB%B2%95%EC%A0%95%EB%8F%99%EC%A4%91%EC%A7%80%EC%97%AD%EC%BD%94%EB%93%9C=4121000000&%EA%B8%B0%EC%A4%80%EB%85%84=2012&%EA%B8%B0%EC%A4%80%EC%9B%94=01&QSL=F',\n",
       " 'https://onland.kbstar.com/quics?page=C060737&%EB%B2%95%EC%A0%95%EB%8F%99%EB%8C%80%EC%A7%80%EC%97%AD%EC%BD%94%EB%93%9C=4100000000&%EB%B2%95%EC%A0%95%EB%8F%99%EC%A4%91%EC%A7%80%EC%97%AD%EC%BD%94%EB%93%9C=4122000000&%EA%B8%B0%EC%A4%80%EB%85%84=2012&%EA%B8%B0%EC%A4%80%EC%9B%94=01&QSL=F',\n",
       " 'https://onland.kbstar.com/quics?page=C060737&%EB%B2%95%EC%A0%95%EB%8F%99%EB%8C%80%EC%A7%80%EC%97%AD%EC%BD%94%EB%93%9C=4100000000&%EB%B2%95%EC%A0%95%EB%8F%99%EC%A4%91%EC%A7%80%EC%97%AD%EC%BD%94%EB%93%9C=4127000000&%EA%B8%B0%EC%A4%80%EB%85%84=2012&%EA%B8%B0%EC%A4%80%EC%9B%94=01&QSL=F',\n",
       " 'https://onland.kbstar.com/quics?page=C060737&%EB%B2%95%EC%A0%95%EB%8F%99%EB%8C%80%EC%A7%80%EC%97%AD%EC%BD%94%EB%93%9C=4100000000&%EB%B2%95%EC%A0%95%EB%8F%99%EC%A4%91%EC%A7%80%EC%97%AD%EC%BD%94%EB%93%9C=4127300000&%EA%B8%B0%EC%A4%80%EB%85%84=2012&%EA%B8%B0%EC%A4%80%EC%9B%94=01&QSL=F',\n",
       " 'https://onland.kbstar.com/quics?page=C060737&%EB%B2%95%EC%A0%95%EB%8F%99%EB%8C%80%EC%A7%80%EC%97%AD%EC%BD%94%EB%93%9C=4100000000&%EB%B2%95%EC%A0%95%EB%8F%99%EC%A4%91%EC%A7%80%EC%97%AD%EC%BD%94%EB%93%9C=4127100000&%EA%B8%B0%EC%A4%80%EB%85%84=2012&%EA%B8%B0%EC%A4%80%EC%9B%94=01&QSL=F',\n",
       " 'https://onland.kbstar.com/quics?page=C060737&%EB%B2%95%EC%A0%95%EB%8F%99%EB%8C%80%EC%A7%80%EC%97%AD%EC%BD%94%EB%93%9C=4100000000&%EB%B2%95%EC%A0%95%EB%8F%99%EC%A4%91%EC%A7%80%EC%97%AD%EC%BD%94%EB%93%9C=4129000000&%EA%B8%B0%EC%A4%80%EB%85%84=2012&%EA%B8%B0%EC%A4%80%EC%9B%94=01&QSL=F',\n",
       " 'https://onland.kbstar.com/quics?page=C060737&%EB%B2%95%EC%A0%95%EB%8F%99%EB%8C%80%EC%A7%80%EC%97%AD%EC%BD%94%EB%93%9C=4100000000&%EB%B2%95%EC%A0%95%EB%8F%99%EC%A4%91%EC%A7%80%EC%97%AD%EC%BD%94%EB%93%9C=4131000000&%EA%B8%B0%EC%A4%80%EB%85%84=2012&%EA%B8%B0%EC%A4%80%EC%9B%94=01&QSL=F',\n",
       " 'https://onland.kbstar.com/quics?page=C060737&%EB%B2%95%EC%A0%95%EB%8F%99%EB%8C%80%EC%A7%80%EC%97%AD%EC%BD%94%EB%93%9C=4100000000&%EB%B2%95%EC%A0%95%EB%8F%99%EC%A4%91%EC%A7%80%EC%97%AD%EC%BD%94%EB%93%9C=4136000000&%EA%B8%B0%EC%A4%80%EB%85%84=2012&%EA%B8%B0%EC%A4%80%EC%9B%94=01&QSL=F',\n",
       " 'https://onland.kbstar.com/quics?page=C060737&%EB%B2%95%EC%A0%95%EB%8F%99%EB%8C%80%EC%A7%80%EC%97%AD%EC%BD%94%EB%93%9C=4100000000&%EB%B2%95%EC%A0%95%EB%8F%99%EC%A4%91%EC%A7%80%EC%97%AD%EC%BD%94%EB%93%9C=4146000000&%EA%B8%B0%EC%A4%80%EB%85%84=2012&%EA%B8%B0%EC%A4%80%EC%9B%94=01&QSL=F',\n",
       " 'https://onland.kbstar.com/quics?page=C060737&%EB%B2%95%EC%A0%95%EB%8F%99%EB%8C%80%EC%A7%80%EC%97%AD%EC%BD%94%EB%93%9C=4100000000&%EB%B2%95%EC%A0%95%EB%8F%99%EC%A4%91%EC%A7%80%EC%97%AD%EC%BD%94%EB%93%9C=4146100000&%EA%B8%B0%EC%A4%80%EB%85%84=2012&%EA%B8%B0%EC%A4%80%EC%9B%94=01&QSL=F',\n",
       " 'https://onland.kbstar.com/quics?page=C060737&%EB%B2%95%EC%A0%95%EB%8F%99%EB%8C%80%EC%A7%80%EC%97%AD%EC%BD%94%EB%93%9C=4100000000&%EB%B2%95%EC%A0%95%EB%8F%99%EC%A4%91%EC%A7%80%EC%97%AD%EC%BD%94%EB%93%9C=4146300000&%EA%B8%B0%EC%A4%80%EB%85%84=2012&%EA%B8%B0%EC%A4%80%EC%9B%94=01&QSL=F',\n",
       " 'https://onland.kbstar.com/quics?page=C060737&%EB%B2%95%EC%A0%95%EB%8F%99%EB%8C%80%EC%A7%80%EC%97%AD%EC%BD%94%EB%93%9C=4100000000&%EB%B2%95%EC%A0%95%EB%8F%99%EC%A4%91%EC%A7%80%EC%97%AD%EC%BD%94%EB%93%9C=4146500000&%EA%B8%B0%EC%A4%80%EB%85%84=2012&%EA%B8%B0%EC%A4%80%EC%9B%94=01&QSL=F',\n",
       " 'https://onland.kbstar.com/quics?page=C060737&%EB%B2%95%EC%A0%95%EB%8F%99%EB%8C%80%EC%A7%80%EC%97%AD%EC%BD%94%EB%93%9C=4100000000&%EB%B2%95%EC%A0%95%EB%8F%99%EC%A4%91%EC%A7%80%EC%97%AD%EC%BD%94%EB%93%9C=4139000000&%EA%B8%B0%EC%A4%80%EB%85%84=2012&%EA%B8%B0%EC%A4%80%EC%9B%94=01&QSL=F',\n",
       " 'https://onland.kbstar.com/quics?page=C060737&%EB%B2%95%EC%A0%95%EB%8F%99%EB%8C%80%EC%A7%80%EC%97%AD%EC%BD%94%EB%93%9C=4100000000&%EB%B2%95%EC%A0%95%EB%8F%99%EC%A4%91%EC%A7%80%EC%97%AD%EC%BD%94%EB%93%9C=4141000000&%EA%B8%B0%EC%A4%80%EB%85%84=2012&%EA%B8%B0%EC%A4%80%EC%9B%94=01&QSL=F',\n",
       " 'https://onland.kbstar.com/quics?page=C060737&%EB%B2%95%EC%A0%95%EB%8F%99%EB%8C%80%EC%A7%80%EC%97%AD%EC%BD%94%EB%93%9C=4100000000&%EB%B2%95%EC%A0%95%EB%8F%99%EC%A4%91%EC%A7%80%EC%97%AD%EC%BD%94%EB%93%9C=4143000000&%EA%B8%B0%EC%A4%80%EB%85%84=2012&%EA%B8%B0%EC%A4%80%EC%9B%94=01&QSL=F',\n",
       " 'https://onland.kbstar.com/quics?page=C060737&%EB%B2%95%EC%A0%95%EB%8F%99%EB%8C%80%EC%A7%80%EC%97%AD%EC%BD%94%EB%93%9C=4100000000&%EB%B2%95%EC%A0%95%EB%8F%99%EC%A4%91%EC%A7%80%EC%97%AD%EC%BD%94%EB%93%9C=4145000000&%EA%B8%B0%EC%A4%80%EB%85%84=2012&%EA%B8%B0%EC%A4%80%EC%9B%94=01&QSL=F',\n",
       " 'https://onland.kbstar.com/quics?page=C060737&%EB%B2%95%EC%A0%95%EB%8F%99%EB%8C%80%EC%A7%80%EC%97%AD%EC%BD%94%EB%93%9C=4100000000&%EB%B2%95%EC%A0%95%EB%8F%99%EC%A4%91%EC%A7%80%EC%97%AD%EC%BD%94%EB%93%9C=4137000000&%EA%B8%B0%EC%A4%80%EB%85%84=2012&%EA%B8%B0%EC%A4%80%EC%9B%94=01&QSL=F',\n",
       " 'https://onland.kbstar.com/quics?page=C060737&%EB%B2%95%EC%A0%95%EB%8F%99%EB%8C%80%EC%A7%80%EC%97%AD%EC%BD%94%EB%93%9C=4100000000&%EB%B2%95%EC%A0%95%EB%8F%99%EC%A4%91%EC%A7%80%EC%97%AD%EC%BD%94%EB%93%9C=4148000000&%EA%B8%B0%EC%A4%80%EB%85%84=2012&%EA%B8%B0%EC%A4%80%EC%9B%94=01&QSL=F',\n",
       " 'https://onland.kbstar.com/quics?page=C060737&%EB%B2%95%EC%A0%95%EB%8F%99%EB%8C%80%EC%A7%80%EC%97%AD%EC%BD%94%EB%93%9C=4100000000&%EB%B2%95%EC%A0%95%EB%8F%99%EC%A4%91%EC%A7%80%EC%97%AD%EC%BD%94%EB%93%9C=4150000000&%EA%B8%B0%EC%A4%80%EB%85%84=2012&%EA%B8%B0%EC%A4%80%EC%9B%94=01&QSL=F',\n",
       " 'https://onland.kbstar.com/quics?page=C060737&%EB%B2%95%EC%A0%95%EB%8F%99%EB%8C%80%EC%A7%80%EC%97%AD%EC%BD%94%EB%93%9C=4100000000&%EB%B2%95%EC%A0%95%EB%8F%99%EC%A4%91%EC%A7%80%EC%97%AD%EC%BD%94%EB%93%9C=4155000000&%EA%B8%B0%EC%A4%80%EB%85%84=2012&%EA%B8%B0%EC%A4%80%EC%9B%94=01&QSL=F',\n",
       " 'https://onland.kbstar.com/quics?page=C060737&%EB%B2%95%EC%A0%95%EB%8F%99%EB%8C%80%EC%A7%80%EC%97%AD%EC%BD%94%EB%93%9C=4100000000&%EB%B2%95%EC%A0%95%EB%8F%99%EC%A4%91%EC%A7%80%EC%97%AD%EC%BD%94%EB%93%9C=4157000000&%EA%B8%B0%EC%A4%80%EB%85%84=2012&%EA%B8%B0%EC%A4%80%EC%9B%94=01&QSL=F',\n",
       " 'https://onland.kbstar.com/quics?page=C060737&%EB%B2%95%EC%A0%95%EB%8F%99%EB%8C%80%EC%A7%80%EC%97%AD%EC%BD%94%EB%93%9C=4100000000&%EB%B2%95%EC%A0%95%EB%8F%99%EC%A4%91%EC%A7%80%EC%97%AD%EC%BD%94%EB%93%9C=4163000000&%EA%B8%B0%EC%A4%80%EB%85%84=2012&%EA%B8%B0%EC%A4%80%EC%9B%94=01&QSL=F',\n",
       " 'https://onland.kbstar.com/quics?page=C060737&%EB%B2%95%EC%A0%95%EB%8F%99%EB%8C%80%EC%A7%80%EC%97%AD%EC%BD%94%EB%93%9C=4100000000&%EB%B2%95%EC%A0%95%EB%8F%99%EC%A4%91%EC%A7%80%EC%97%AD%EC%BD%94%EB%93%9C=4125000000&%EA%B8%B0%EC%A4%80%EB%85%84=2012&%EA%B8%B0%EC%A4%80%EC%9B%94=01&QSL=F',\n",
       " 'https://onland.kbstar.com/quics?page=C060737&%EB%B2%95%EC%A0%95%EB%8F%99%EB%8C%80%EC%A7%80%EC%97%AD%EC%BD%94%EB%93%9C=4100000000&%EB%B2%95%EC%A0%95%EB%8F%99%EC%A4%91%EC%A7%80%EC%97%AD%EC%BD%94%EB%93%9C=4161000000&%EA%B8%B0%EC%A4%80%EB%85%84=2012&%EA%B8%B0%EC%A4%80%EC%9B%94=01&QSL=F',\n",
       " 'https://onland.kbstar.com/quics?page=C060737&%EB%B2%95%EC%A0%95%EB%8F%99%EB%8C%80%EC%A7%80%EC%97%AD%EC%BD%94%EB%93%9C=4100000000&%EB%B2%95%EC%A0%95%EB%8F%99%EC%A4%91%EC%A7%80%EC%97%AD%EC%BD%94%EB%93%9C=4159000000&%EA%B8%B0%EC%A4%80%EB%85%84=2012&%EA%B8%B0%EC%A4%80%EC%9B%94=01&QSL=F',\n",
       " 'https://onland.kbstar.com/quics?page=C060737&%EB%B2%95%EC%A0%95%EB%8F%99%EB%8C%80%EC%A7%80%EC%97%AD%EC%BD%94%EB%93%9C=2800000000&%EB%B2%95%EC%A0%95%EB%8F%99%EC%A4%91%EC%A7%80%EC%97%AD%EC%BD%94%EB%93%9C=2811000000&%EA%B8%B0%EC%A4%80%EB%85%84=2012&%EA%B8%B0%EC%A4%80%EC%9B%94=01&QSL=F',\n",
       " 'https://onland.kbstar.com/quics?page=C060737&%EB%B2%95%EC%A0%95%EB%8F%99%EB%8C%80%EC%A7%80%EC%97%AD%EC%BD%94%EB%93%9C=2800000000&%EB%B2%95%EC%A0%95%EB%8F%99%EC%A4%91%EC%A7%80%EC%97%AD%EC%BD%94%EB%93%9C=2814000000&%EA%B8%B0%EC%A4%80%EB%85%84=2012&%EA%B8%B0%EC%A4%80%EC%9B%94=01&QSL=F',\n",
       " 'https://onland.kbstar.com/quics?page=C060737&%EB%B2%95%EC%A0%95%EB%8F%99%EB%8C%80%EC%A7%80%EC%97%AD%EC%BD%94%EB%93%9C=2800000000&%EB%B2%95%EC%A0%95%EB%8F%99%EC%A4%91%EC%A7%80%EC%97%AD%EC%BD%94%EB%93%9C=2817700000&%EA%B8%B0%EC%A4%80%EB%85%84=2012&%EA%B8%B0%EC%A4%80%EC%9B%94=01&QSL=F',\n",
       " 'https://onland.kbstar.com/quics?page=C060737&%EB%B2%95%EC%A0%95%EB%8F%99%EB%8C%80%EC%A7%80%EC%97%AD%EC%BD%94%EB%93%9C=2800000000&%EB%B2%95%EC%A0%95%EB%8F%99%EC%A4%91%EC%A7%80%EC%97%AD%EC%BD%94%EB%93%9C=2818500000&%EA%B8%B0%EC%A4%80%EB%85%84=2012&%EA%B8%B0%EC%A4%80%EC%9B%94=01&QSL=F',\n",
       " 'https://onland.kbstar.com/quics?page=C060737&%EB%B2%95%EC%A0%95%EB%8F%99%EB%8C%80%EC%A7%80%EC%97%AD%EC%BD%94%EB%93%9C=2800000000&%EB%B2%95%EC%A0%95%EB%8F%99%EC%A4%91%EC%A7%80%EC%97%AD%EC%BD%94%EB%93%9C=2820000000&%EA%B8%B0%EC%A4%80%EB%85%84=2012&%EA%B8%B0%EC%A4%80%EC%9B%94=01&QSL=F',\n",
       " 'https://onland.kbstar.com/quics?page=C060737&%EB%B2%95%EC%A0%95%EB%8F%99%EB%8C%80%EC%A7%80%EC%97%AD%EC%BD%94%EB%93%9C=2800000000&%EB%B2%95%EC%A0%95%EB%8F%99%EC%A4%91%EC%A7%80%EC%97%AD%EC%BD%94%EB%93%9C=2823700000&%EA%B8%B0%EC%A4%80%EB%85%84=2012&%EA%B8%B0%EC%A4%80%EC%9B%94=01&QSL=F',\n",
       " 'https://onland.kbstar.com/quics?page=C060737&%EB%B2%95%EC%A0%95%EB%8F%99%EB%8C%80%EC%A7%80%EC%97%AD%EC%BD%94%EB%93%9C=2800000000&%EB%B2%95%EC%A0%95%EB%8F%99%EC%A4%91%EC%A7%80%EC%97%AD%EC%BD%94%EB%93%9C=2824500000&%EA%B8%B0%EC%A4%80%EB%85%84=2012&%EA%B8%B0%EC%A4%80%EC%9B%94=01&QSL=F',\n",
       " 'https://onland.kbstar.com/quics?page=C060737&%EB%B2%95%EC%A0%95%EB%8F%99%EB%8C%80%EC%A7%80%EC%97%AD%EC%BD%94%EB%93%9C=2800000000&%EB%B2%95%EC%A0%95%EB%8F%99%EC%A4%91%EC%A7%80%EC%97%AD%EC%BD%94%EB%93%9C=2826000000&%EA%B8%B0%EC%A4%80%EB%85%84=2012&%EA%B8%B0%EC%A4%80%EC%9B%94=01&QSL=F',\n",
       " 'https://onland.kbstar.com/quics?page=C060737&%EB%B2%95%EC%A0%95%EB%8F%99%EB%8C%80%EC%A7%80%EC%97%AD%EC%BD%94%EB%93%9C=2600000000&%EB%B2%95%EC%A0%95%EB%8F%99%EC%A4%91%EC%A7%80%EC%97%AD%EC%BD%94%EB%93%9C=2611000000&%EA%B8%B0%EC%A4%80%EB%85%84=2012&%EA%B8%B0%EC%A4%80%EC%9B%94=01&QSL=F',\n",
       " 'https://onland.kbstar.com/quics?page=C060737&%EB%B2%95%EC%A0%95%EB%8F%99%EB%8C%80%EC%A7%80%EC%97%AD%EC%BD%94%EB%93%9C=2600000000&%EB%B2%95%EC%A0%95%EB%8F%99%EC%A4%91%EC%A7%80%EC%97%AD%EC%BD%94%EB%93%9C=2614000000&%EA%B8%B0%EC%A4%80%EB%85%84=2012&%EA%B8%B0%EC%A4%80%EC%9B%94=01&QSL=F',\n",
       " 'https://onland.kbstar.com/quics?page=C060737&%EB%B2%95%EC%A0%95%EB%8F%99%EB%8C%80%EC%A7%80%EC%97%AD%EC%BD%94%EB%93%9C=2600000000&%EB%B2%95%EC%A0%95%EB%8F%99%EC%A4%91%EC%A7%80%EC%97%AD%EC%BD%94%EB%93%9C=2617000000&%EA%B8%B0%EC%A4%80%EB%85%84=2012&%EA%B8%B0%EC%A4%80%EC%9B%94=01&QSL=F',\n",
       " 'https://onland.kbstar.com/quics?page=C060737&%EB%B2%95%EC%A0%95%EB%8F%99%EB%8C%80%EC%A7%80%EC%97%AD%EC%BD%94%EB%93%9C=2600000000&%EB%B2%95%EC%A0%95%EB%8F%99%EC%A4%91%EC%A7%80%EC%97%AD%EC%BD%94%EB%93%9C=2620000000&%EA%B8%B0%EC%A4%80%EB%85%84=2012&%EA%B8%B0%EC%A4%80%EC%9B%94=01&QSL=F',\n",
       " 'https://onland.kbstar.com/quics?page=C060737&%EB%B2%95%EC%A0%95%EB%8F%99%EB%8C%80%EC%A7%80%EC%97%AD%EC%BD%94%EB%93%9C=2600000000&%EB%B2%95%EC%A0%95%EB%8F%99%EC%A4%91%EC%A7%80%EC%97%AD%EC%BD%94%EB%93%9C=2623000000&%EA%B8%B0%EC%A4%80%EB%85%84=2012&%EA%B8%B0%EC%A4%80%EC%9B%94=01&QSL=F',\n",
       " 'https://onland.kbstar.com/quics?page=C060737&%EB%B2%95%EC%A0%95%EB%8F%99%EB%8C%80%EC%A7%80%EC%97%AD%EC%BD%94%EB%93%9C=2600000000&%EB%B2%95%EC%A0%95%EB%8F%99%EC%A4%91%EC%A7%80%EC%97%AD%EC%BD%94%EB%93%9C=2626000000&%EA%B8%B0%EC%A4%80%EB%85%84=2012&%EA%B8%B0%EC%A4%80%EC%9B%94=01&QSL=F',\n",
       " 'https://onland.kbstar.com/quics?page=C060737&%EB%B2%95%EC%A0%95%EB%8F%99%EB%8C%80%EC%A7%80%EC%97%AD%EC%BD%94%EB%93%9C=2600000000&%EB%B2%95%EC%A0%95%EB%8F%99%EC%A4%91%EC%A7%80%EC%97%AD%EC%BD%94%EB%93%9C=2629000000&%EA%B8%B0%EC%A4%80%EB%85%84=2012&%EA%B8%B0%EC%A4%80%EC%9B%94=01&QSL=F',\n",
       " 'https://onland.kbstar.com/quics?page=C060737&%EB%B2%95%EC%A0%95%EB%8F%99%EB%8C%80%EC%A7%80%EC%97%AD%EC%BD%94%EB%93%9C=2600000000&%EB%B2%95%EC%A0%95%EB%8F%99%EC%A4%91%EC%A7%80%EC%97%AD%EC%BD%94%EB%93%9C=2632000000&%EA%B8%B0%EC%A4%80%EB%85%84=2012&%EA%B8%B0%EC%A4%80%EC%9B%94=01&QSL=F',\n",
       " 'https://onland.kbstar.com/quics?page=C060737&%EB%B2%95%EC%A0%95%EB%8F%99%EB%8C%80%EC%A7%80%EC%97%AD%EC%BD%94%EB%93%9C=2600000000&%EB%B2%95%EC%A0%95%EB%8F%99%EC%A4%91%EC%A7%80%EC%97%AD%EC%BD%94%EB%93%9C=2635000000&%EA%B8%B0%EC%A4%80%EB%85%84=2012&%EA%B8%B0%EC%A4%80%EC%9B%94=01&QSL=F',\n",
       " 'https://onland.kbstar.com/quics?page=C060737&%EB%B2%95%EC%A0%95%EB%8F%99%EB%8C%80%EC%A7%80%EC%97%AD%EC%BD%94%EB%93%9C=2600000000&%EB%B2%95%EC%A0%95%EB%8F%99%EC%A4%91%EC%A7%80%EC%97%AD%EC%BD%94%EB%93%9C=2638000000&%EA%B8%B0%EC%A4%80%EB%85%84=2012&%EA%B8%B0%EC%A4%80%EC%9B%94=01&QSL=F',\n",
       " 'https://onland.kbstar.com/quics?page=C060737&%EB%B2%95%EC%A0%95%EB%8F%99%EB%8C%80%EC%A7%80%EC%97%AD%EC%BD%94%EB%93%9C=2600000000&%EB%B2%95%EC%A0%95%EB%8F%99%EC%A4%91%EC%A7%80%EC%97%AD%EC%BD%94%EB%93%9C=2641000000&%EA%B8%B0%EC%A4%80%EB%85%84=2012&%EA%B8%B0%EC%A4%80%EC%9B%94=01&QSL=F',\n",
       " 'https://onland.kbstar.com/quics?page=C060737&%EB%B2%95%EC%A0%95%EB%8F%99%EB%8C%80%EC%A7%80%EC%97%AD%EC%BD%94%EB%93%9C=2600000000&%EB%B2%95%EC%A0%95%EB%8F%99%EC%A4%91%EC%A7%80%EC%97%AD%EC%BD%94%EB%93%9C=2647000000&%EA%B8%B0%EC%A4%80%EB%85%84=2012&%EA%B8%B0%EC%A4%80%EC%9B%94=01&QSL=F',\n",
       " 'https://onland.kbstar.com/quics?page=C060737&%EB%B2%95%EC%A0%95%EB%8F%99%EB%8C%80%EC%A7%80%EC%97%AD%EC%BD%94%EB%93%9C=2600000000&%EB%B2%95%EC%A0%95%EB%8F%99%EC%A4%91%EC%A7%80%EC%97%AD%EC%BD%94%EB%93%9C=2650000000&%EA%B8%B0%EC%A4%80%EB%85%84=2012&%EA%B8%B0%EC%A4%80%EC%9B%94=01&QSL=F',\n",
       " 'https://onland.kbstar.com/quics?page=C060737&%EB%B2%95%EC%A0%95%EB%8F%99%EB%8C%80%EC%A7%80%EC%97%AD%EC%BD%94%EB%93%9C=2600000000&%EB%B2%95%EC%A0%95%EB%8F%99%EC%A4%91%EC%A7%80%EC%97%AD%EC%BD%94%EB%93%9C=2653000000&%EA%B8%B0%EC%A4%80%EB%85%84=2012&%EA%B8%B0%EC%A4%80%EC%9B%94=01&QSL=F',\n",
       " 'https://onland.kbstar.com/quics?page=C060737&%EB%B2%95%EC%A0%95%EB%8F%99%EB%8C%80%EC%A7%80%EC%97%AD%EC%BD%94%EB%93%9C=2600000000&%EB%B2%95%EC%A0%95%EB%8F%99%EC%A4%91%EC%A7%80%EC%97%AD%EC%BD%94%EB%93%9C=2671000000&%EA%B8%B0%EC%A4%80%EB%85%84=2012&%EA%B8%B0%EC%A4%80%EC%9B%94=01&QSL=F',\n",
       " 'https://onland.kbstar.com/quics?page=C060737&%EB%B2%95%EC%A0%95%EB%8F%99%EB%8C%80%EC%A7%80%EC%97%AD%EC%BD%94%EB%93%9C=2600000000&%EB%B2%95%EC%A0%95%EB%8F%99%EC%A4%91%EC%A7%80%EC%97%AD%EC%BD%94%EB%93%9C=2644000000&%EA%B8%B0%EC%A4%80%EB%85%84=2012&%EA%B8%B0%EC%A4%80%EC%9B%94=01&QSL=F',\n",
       " 'https://onland.kbstar.com/quics?page=C060737&%EB%B2%95%EC%A0%95%EB%8F%99%EB%8C%80%EC%A7%80%EC%97%AD%EC%BD%94%EB%93%9C=2700000000&%EB%B2%95%EC%A0%95%EB%8F%99%EC%A4%91%EC%A7%80%EC%97%AD%EC%BD%94%EB%93%9C=2711000000&%EA%B8%B0%EC%A4%80%EB%85%84=2012&%EA%B8%B0%EC%A4%80%EC%9B%94=01&QSL=F',\n",
       " 'https://onland.kbstar.com/quics?page=C060737&%EB%B2%95%EC%A0%95%EB%8F%99%EB%8C%80%EC%A7%80%EC%97%AD%EC%BD%94%EB%93%9C=2700000000&%EB%B2%95%EC%A0%95%EB%8F%99%EC%A4%91%EC%A7%80%EC%97%AD%EC%BD%94%EB%93%9C=2714000000&%EA%B8%B0%EC%A4%80%EB%85%84=2012&%EA%B8%B0%EC%A4%80%EC%9B%94=01&QSL=F',\n",
       " 'https://onland.kbstar.com/quics?page=C060737&%EB%B2%95%EC%A0%95%EB%8F%99%EB%8C%80%EC%A7%80%EC%97%AD%EC%BD%94%EB%93%9C=2700000000&%EB%B2%95%EC%A0%95%EB%8F%99%EC%A4%91%EC%A7%80%EC%97%AD%EC%BD%94%EB%93%9C=2717000000&%EA%B8%B0%EC%A4%80%EB%85%84=2012&%EA%B8%B0%EC%A4%80%EC%9B%94=01&QSL=F',\n",
       " 'https://onland.kbstar.com/quics?page=C060737&%EB%B2%95%EC%A0%95%EB%8F%99%EB%8C%80%EC%A7%80%EC%97%AD%EC%BD%94%EB%93%9C=2700000000&%EB%B2%95%EC%A0%95%EB%8F%99%EC%A4%91%EC%A7%80%EC%97%AD%EC%BD%94%EB%93%9C=2720000000&%EA%B8%B0%EC%A4%80%EB%85%84=2012&%EA%B8%B0%EC%A4%80%EC%9B%94=01&QSL=F',\n",
       " 'https://onland.kbstar.com/quics?page=C060737&%EB%B2%95%EC%A0%95%EB%8F%99%EB%8C%80%EC%A7%80%EC%97%AD%EC%BD%94%EB%93%9C=2700000000&%EB%B2%95%EC%A0%95%EB%8F%99%EC%A4%91%EC%A7%80%EC%97%AD%EC%BD%94%EB%93%9C=2723000000&%EA%B8%B0%EC%A4%80%EB%85%84=2012&%EA%B8%B0%EC%A4%80%EC%9B%94=01&QSL=F',\n",
       " 'https://onland.kbstar.com/quics?page=C060737&%EB%B2%95%EC%A0%95%EB%8F%99%EB%8C%80%EC%A7%80%EC%97%AD%EC%BD%94%EB%93%9C=2700000000&%EB%B2%95%EC%A0%95%EB%8F%99%EC%A4%91%EC%A7%80%EC%97%AD%EC%BD%94%EB%93%9C=2726000000&%EA%B8%B0%EC%A4%80%EB%85%84=2012&%EA%B8%B0%EC%A4%80%EC%9B%94=01&QSL=F',\n",
       " 'https://onland.kbstar.com/quics?page=C060737&%EB%B2%95%EC%A0%95%EB%8F%99%EB%8C%80%EC%A7%80%EC%97%AD%EC%BD%94%EB%93%9C=2700000000&%EB%B2%95%EC%A0%95%EB%8F%99%EC%A4%91%EC%A7%80%EC%97%AD%EC%BD%94%EB%93%9C=2729000000&%EA%B8%B0%EC%A4%80%EB%85%84=2012&%EA%B8%B0%EC%A4%80%EC%9B%94=01&QSL=F',\n",
       " 'https://onland.kbstar.com/quics?page=C060737&%EB%B2%95%EC%A0%95%EB%8F%99%EB%8C%80%EC%A7%80%EC%97%AD%EC%BD%94%EB%93%9C=2700000000&%EB%B2%95%EC%A0%95%EB%8F%99%EC%A4%91%EC%A7%80%EC%97%AD%EC%BD%94%EB%93%9C=2771000000&%EA%B8%B0%EC%A4%80%EB%85%84=2012&%EA%B8%B0%EC%A4%80%EC%9B%94=01&QSL=F',\n",
       " 'https://onland.kbstar.com/quics?page=C060737&%EB%B2%95%EC%A0%95%EB%8F%99%EB%8C%80%EC%A7%80%EC%97%AD%EC%BD%94%EB%93%9C=2900000000&%EB%B2%95%EC%A0%95%EB%8F%99%EC%A4%91%EC%A7%80%EC%97%AD%EC%BD%94%EB%93%9C=2911000000&%EA%B8%B0%EC%A4%80%EB%85%84=2012&%EA%B8%B0%EC%A4%80%EC%9B%94=01&QSL=F',\n",
       " 'https://onland.kbstar.com/quics?page=C060737&%EB%B2%95%EC%A0%95%EB%8F%99%EB%8C%80%EC%A7%80%EC%97%AD%EC%BD%94%EB%93%9C=2900000000&%EB%B2%95%EC%A0%95%EB%8F%99%EC%A4%91%EC%A7%80%EC%97%AD%EC%BD%94%EB%93%9C=2914000000&%EA%B8%B0%EC%A4%80%EB%85%84=2012&%EA%B8%B0%EC%A4%80%EC%9B%94=01&QSL=F',\n",
       " 'https://onland.kbstar.com/quics?page=C060737&%EB%B2%95%EC%A0%95%EB%8F%99%EB%8C%80%EC%A7%80%EC%97%AD%EC%BD%94%EB%93%9C=2900000000&%EB%B2%95%EC%A0%95%EB%8F%99%EC%A4%91%EC%A7%80%EC%97%AD%EC%BD%94%EB%93%9C=2915500000&%EA%B8%B0%EC%A4%80%EB%85%84=2012&%EA%B8%B0%EC%A4%80%EC%9B%94=01&QSL=F',\n",
       " 'https://onland.kbstar.com/quics?page=C060737&%EB%B2%95%EC%A0%95%EB%8F%99%EB%8C%80%EC%A7%80%EC%97%AD%EC%BD%94%EB%93%9C=2900000000&%EB%B2%95%EC%A0%95%EB%8F%99%EC%A4%91%EC%A7%80%EC%97%AD%EC%BD%94%EB%93%9C=2917000000&%EA%B8%B0%EC%A4%80%EB%85%84=2012&%EA%B8%B0%EC%A4%80%EC%9B%94=01&QSL=F',\n",
       " 'https://onland.kbstar.com/quics?page=C060737&%EB%B2%95%EC%A0%95%EB%8F%99%EB%8C%80%EC%A7%80%EC%97%AD%EC%BD%94%EB%93%9C=2900000000&%EB%B2%95%EC%A0%95%EB%8F%99%EC%A4%91%EC%A7%80%EC%97%AD%EC%BD%94%EB%93%9C=2920000000&%EA%B8%B0%EC%A4%80%EB%85%84=2012&%EA%B8%B0%EC%A4%80%EC%9B%94=01&QSL=F',\n",
       " 'https://onland.kbstar.com/quics?page=C060737&%EB%B2%95%EC%A0%95%EB%8F%99%EB%8C%80%EC%A7%80%EC%97%AD%EC%BD%94%EB%93%9C=3000000000&%EB%B2%95%EC%A0%95%EB%8F%99%EC%A4%91%EC%A7%80%EC%97%AD%EC%BD%94%EB%93%9C=3011000000&%EA%B8%B0%EC%A4%80%EB%85%84=2012&%EA%B8%B0%EC%A4%80%EC%9B%94=01&QSL=F',\n",
       " 'https://onland.kbstar.com/quics?page=C060737&%EB%B2%95%EC%A0%95%EB%8F%99%EB%8C%80%EC%A7%80%EC%97%AD%EC%BD%94%EB%93%9C=3000000000&%EB%B2%95%EC%A0%95%EB%8F%99%EC%A4%91%EC%A7%80%EC%97%AD%EC%BD%94%EB%93%9C=3014000000&%EA%B8%B0%EC%A4%80%EB%85%84=2012&%EA%B8%B0%EC%A4%80%EC%9B%94=01&QSL=F',\n",
       " 'https://onland.kbstar.com/quics?page=C060737&%EB%B2%95%EC%A0%95%EB%8F%99%EB%8C%80%EC%A7%80%EC%97%AD%EC%BD%94%EB%93%9C=3000000000&%EB%B2%95%EC%A0%95%EB%8F%99%EC%A4%91%EC%A7%80%EC%97%AD%EC%BD%94%EB%93%9C=3017000000&%EA%B8%B0%EC%A4%80%EB%85%84=2012&%EA%B8%B0%EC%A4%80%EC%9B%94=01&QSL=F',\n",
       " 'https://onland.kbstar.com/quics?page=C060737&%EB%B2%95%EC%A0%95%EB%8F%99%EB%8C%80%EC%A7%80%EC%97%AD%EC%BD%94%EB%93%9C=3000000000&%EB%B2%95%EC%A0%95%EB%8F%99%EC%A4%91%EC%A7%80%EC%97%AD%EC%BD%94%EB%93%9C=3020000000&%EA%B8%B0%EC%A4%80%EB%85%84=2012&%EA%B8%B0%EC%A4%80%EC%9B%94=01&QSL=F',\n",
       " 'https://onland.kbstar.com/quics?page=C060737&%EB%B2%95%EC%A0%95%EB%8F%99%EB%8C%80%EC%A7%80%EC%97%AD%EC%BD%94%EB%93%9C=3000000000&%EB%B2%95%EC%A0%95%EB%8F%99%EC%A4%91%EC%A7%80%EC%97%AD%EC%BD%94%EB%93%9C=3023000000&%EA%B8%B0%EC%A4%80%EB%85%84=2012&%EA%B8%B0%EC%A4%80%EC%9B%94=01&QSL=F',\n",
       " 'https://onland.kbstar.com/quics?page=C060737&%EB%B2%95%EC%A0%95%EB%8F%99%EB%8C%80%EC%A7%80%EC%97%AD%EC%BD%94%EB%93%9C=3100000000&%EB%B2%95%EC%A0%95%EB%8F%99%EC%A4%91%EC%A7%80%EC%97%AD%EC%BD%94%EB%93%9C=3111000000&%EA%B8%B0%EC%A4%80%EB%85%84=2012&%EA%B8%B0%EC%A4%80%EC%9B%94=01&QSL=F',\n",
       " 'https://onland.kbstar.com/quics?page=C060737&%EB%B2%95%EC%A0%95%EB%8F%99%EB%8C%80%EC%A7%80%EC%97%AD%EC%BD%94%EB%93%9C=3100000000&%EB%B2%95%EC%A0%95%EB%8F%99%EC%A4%91%EC%A7%80%EC%97%AD%EC%BD%94%EB%93%9C=3114000000&%EA%B8%B0%EC%A4%80%EB%85%84=2012&%EA%B8%B0%EC%A4%80%EC%9B%94=01&QSL=F',\n",
       " 'https://onland.kbstar.com/quics?page=C060737&%EB%B2%95%EC%A0%95%EB%8F%99%EB%8C%80%EC%A7%80%EC%97%AD%EC%BD%94%EB%93%9C=3100000000&%EB%B2%95%EC%A0%95%EB%8F%99%EC%A4%91%EC%A7%80%EC%97%AD%EC%BD%94%EB%93%9C=3117000000&%EA%B8%B0%EC%A4%80%EB%85%84=2012&%EA%B8%B0%EC%A4%80%EC%9B%94=01&QSL=F',\n",
       " 'https://onland.kbstar.com/quics?page=C060737&%EB%B2%95%EC%A0%95%EB%8F%99%EB%8C%80%EC%A7%80%EC%97%AD%EC%BD%94%EB%93%9C=3100000000&%EB%B2%95%EC%A0%95%EB%8F%99%EC%A4%91%EC%A7%80%EC%97%AD%EC%BD%94%EB%93%9C=3120000000&%EA%B8%B0%EC%A4%80%EB%85%84=2012&%EA%B8%B0%EC%A4%80%EC%9B%94=01&QSL=F',\n",
       " 'https://onland.kbstar.com/quics?page=C060737&%EB%B2%95%EC%A0%95%EB%8F%99%EB%8C%80%EC%A7%80%EC%97%AD%EC%BD%94%EB%93%9C=3100000000&%EB%B2%95%EC%A0%95%EB%8F%99%EC%A4%91%EC%A7%80%EC%97%AD%EC%BD%94%EB%93%9C=3171000000&%EA%B8%B0%EC%A4%80%EB%85%84=2012&%EA%B8%B0%EC%A4%80%EC%9B%94=01&QSL=F',\n",
       " 'https://onland.kbstar.com/quics?page=C060737&%EB%B2%95%EC%A0%95%EB%8F%99%EB%8C%80%EC%A7%80%EC%97%AD%EC%BD%94%EB%93%9C=4200000000&%EB%B2%95%EC%A0%95%EB%8F%99%EC%A4%91%EC%A7%80%EC%97%AD%EC%BD%94%EB%93%9C=4211000000&%EA%B8%B0%EC%A4%80%EB%85%84=2012&%EA%B8%B0%EC%A4%80%EC%9B%94=01&QSL=F',\n",
       " 'https://onland.kbstar.com/quics?page=C060737&%EB%B2%95%EC%A0%95%EB%8F%99%EB%8C%80%EC%A7%80%EC%97%AD%EC%BD%94%EB%93%9C=4200000000&%EB%B2%95%EC%A0%95%EB%8F%99%EC%A4%91%EC%A7%80%EC%97%AD%EC%BD%94%EB%93%9C=4215000000&%EA%B8%B0%EC%A4%80%EB%85%84=2012&%EA%B8%B0%EC%A4%80%EC%9B%94=01&QSL=F',\n",
       " 'https://onland.kbstar.com/quics?page=C060737&%EB%B2%95%EC%A0%95%EB%8F%99%EB%8C%80%EC%A7%80%EC%97%AD%EC%BD%94%EB%93%9C=4200000000&%EB%B2%95%EC%A0%95%EB%8F%99%EC%A4%91%EC%A7%80%EC%97%AD%EC%BD%94%EB%93%9C=4213000000&%EA%B8%B0%EC%A4%80%EB%85%84=2012&%EA%B8%B0%EC%A4%80%EC%9B%94=01&QSL=F',\n",
       " 'https://onland.kbstar.com/quics?page=C060737&%EB%B2%95%EC%A0%95%EB%8F%99%EB%8C%80%EC%A7%80%EC%97%AD%EC%BD%94%EB%93%9C=4300000000&%EB%B2%95%EC%A0%95%EB%8F%99%EC%A4%91%EC%A7%80%EC%97%AD%EC%BD%94%EB%93%9C=4311000000&%EA%B8%B0%EC%A4%80%EB%85%84=2012&%EA%B8%B0%EC%A4%80%EC%9B%94=01&QSL=F',\n",
       " 'https://onland.kbstar.com/quics?page=C060737&%EB%B2%95%EC%A0%95%EB%8F%99%EB%8C%80%EC%A7%80%EC%97%AD%EC%BD%94%EB%93%9C=4300000000&%EB%B2%95%EC%A0%95%EB%8F%99%EC%A4%91%EC%A7%80%EC%97%AD%EC%BD%94%EB%93%9C=4311100000&%EA%B8%B0%EC%A4%80%EB%85%84=2012&%EA%B8%B0%EC%A4%80%EC%9B%94=01&QSL=F',\n",
       " 'https://onland.kbstar.com/quics?page=C060737&%EB%B2%95%EC%A0%95%EB%8F%99%EB%8C%80%EC%A7%80%EC%97%AD%EC%BD%94%EB%93%9C=4300000000&%EB%B2%95%EC%A0%95%EB%8F%99%EC%A4%91%EC%A7%80%EC%97%AD%EC%BD%94%EB%93%9C=4311200000&%EA%B8%B0%EC%A4%80%EB%85%84=2012&%EA%B8%B0%EC%A4%80%EC%9B%94=01&QSL=F',\n",
       " 'https://onland.kbstar.com/quics?page=C060737&%EB%B2%95%EC%A0%95%EB%8F%99%EB%8C%80%EC%A7%80%EC%97%AD%EC%BD%94%EB%93%9C=4300000000&%EB%B2%95%EC%A0%95%EB%8F%99%EC%A4%91%EC%A7%80%EC%97%AD%EC%BD%94%EB%93%9C=4311400000&%EA%B8%B0%EC%A4%80%EB%85%84=2012&%EA%B8%B0%EC%A4%80%EC%9B%94=01&QSL=F',\n",
       " 'https://onland.kbstar.com/quics?page=C060737&%EB%B2%95%EC%A0%95%EB%8F%99%EB%8C%80%EC%A7%80%EC%97%AD%EC%BD%94%EB%93%9C=4300000000&%EB%B2%95%EC%A0%95%EB%8F%99%EC%A4%91%EC%A7%80%EC%97%AD%EC%BD%94%EB%93%9C=4311300000&%EA%B8%B0%EC%A4%80%EB%85%84=2012&%EA%B8%B0%EC%A4%80%EC%9B%94=01&QSL=F',\n",
       " 'https://onland.kbstar.com/quics?page=C060737&%EB%B2%95%EC%A0%95%EB%8F%99%EB%8C%80%EC%A7%80%EC%97%AD%EC%BD%94%EB%93%9C=4300000000&%EB%B2%95%EC%A0%95%EB%8F%99%EC%A4%91%EC%A7%80%EC%97%AD%EC%BD%94%EB%93%9C=4313000000&%EA%B8%B0%EC%A4%80%EB%85%84=2012&%EA%B8%B0%EC%A4%80%EC%9B%94=01&QSL=F',\n",
       " 'https://onland.kbstar.com/quics?page=C060737&%EB%B2%95%EC%A0%95%EB%8F%99%EB%8C%80%EC%A7%80%EC%97%AD%EC%BD%94%EB%93%9C=4300000000&%EB%B2%95%EC%A0%95%EB%8F%99%EC%A4%91%EC%A7%80%EC%97%AD%EC%BD%94%EB%93%9C=4315000000&%EA%B8%B0%EC%A4%80%EB%85%84=2012&%EA%B8%B0%EC%A4%80%EC%9B%94=01&QSL=F',\n",
       " 'https://onland.kbstar.com/quics?page=C060737&%EB%B2%95%EC%A0%95%EB%8F%99%EB%8C%80%EC%A7%80%EC%97%AD%EC%BD%94%EB%93%9C=4400000000&%EB%B2%95%EC%A0%95%EB%8F%99%EC%A4%91%EC%A7%80%EC%97%AD%EC%BD%94%EB%93%9C=4413000000&%EA%B8%B0%EC%A4%80%EB%85%84=2012&%EA%B8%B0%EC%A4%80%EC%9B%94=01&QSL=F',\n",
       " 'https://onland.kbstar.com/quics?page=C060737&%EB%B2%95%EC%A0%95%EB%8F%99%EB%8C%80%EC%A7%80%EC%97%AD%EC%BD%94%EB%93%9C=4400000000&%EB%B2%95%EC%A0%95%EB%8F%99%EC%A4%91%EC%A7%80%EC%97%AD%EC%BD%94%EB%93%9C=4413100000&%EA%B8%B0%EC%A4%80%EB%85%84=2012&%EA%B8%B0%EC%A4%80%EC%9B%94=01&QSL=F',\n",
       " 'https://onland.kbstar.com/quics?page=C060737&%EB%B2%95%EC%A0%95%EB%8F%99%EB%8C%80%EC%A7%80%EC%97%AD%EC%BD%94%EB%93%9C=4400000000&%EB%B2%95%EC%A0%95%EB%8F%99%EC%A4%91%EC%A7%80%EC%97%AD%EC%BD%94%EB%93%9C=4413300000&%EA%B8%B0%EC%A4%80%EB%85%84=2012&%EA%B8%B0%EC%A4%80%EC%9B%94=01&QSL=F',\n",
       " 'https://onland.kbstar.com/quics?page=C060737&%EB%B2%95%EC%A0%95%EB%8F%99%EB%8C%80%EC%A7%80%EC%97%AD%EC%BD%94%EB%93%9C=4400000000&%EB%B2%95%EC%A0%95%EB%8F%99%EC%A4%91%EC%A7%80%EC%97%AD%EC%BD%94%EB%93%9C=4415000000&%EA%B8%B0%EC%A4%80%EB%85%84=2012&%EA%B8%B0%EC%A4%80%EC%9B%94=01&QSL=F',\n",
       " 'https://onland.kbstar.com/quics?page=C060737&%EB%B2%95%EC%A0%95%EB%8F%99%EB%8C%80%EC%A7%80%EC%97%AD%EC%BD%94%EB%93%9C=4400000000&%EB%B2%95%EC%A0%95%EB%8F%99%EC%A4%91%EC%A7%80%EC%97%AD%EC%BD%94%EB%93%9C=4420000000&%EA%B8%B0%EC%A4%80%EB%85%84=2012&%EA%B8%B0%EC%A4%80%EC%9B%94=01&QSL=F',\n",
       " 'https://onland.kbstar.com/quics?page=C060737&%EB%B2%95%EC%A0%95%EB%8F%99%EB%8C%80%EC%A7%80%EC%97%AD%EC%BD%94%EB%93%9C=4400000000&%EB%B2%95%EC%A0%95%EB%8F%99%EC%A4%91%EC%A7%80%EC%97%AD%EC%BD%94%EB%93%9C=4423000000&%EA%B8%B0%EC%A4%80%EB%85%84=2012&%EA%B8%B0%EC%A4%80%EC%9B%94=01&QSL=F',\n",
       " 'https://onland.kbstar.com/quics?page=C060737&%EB%B2%95%EC%A0%95%EB%8F%99%EB%8C%80%EC%A7%80%EC%97%AD%EC%BD%94%EB%93%9C=4400000000&%EB%B2%95%EC%A0%95%EB%8F%99%EC%A4%91%EC%A7%80%EC%97%AD%EC%BD%94%EB%93%9C=4425000000&%EA%B8%B0%EC%A4%80%EB%85%84=2012&%EA%B8%B0%EC%A4%80%EC%9B%94=01&QSL=F',\n",
       " 'https://onland.kbstar.com/quics?page=C060737&%EB%B2%95%EC%A0%95%EB%8F%99%EB%8C%80%EC%A7%80%EC%97%AD%EC%BD%94%EB%93%9C=4400000000&%EB%B2%95%EC%A0%95%EB%8F%99%EC%A4%91%EC%A7%80%EC%97%AD%EC%BD%94%EB%93%9C=4427000000&%EA%B8%B0%EC%A4%80%EB%85%84=2012&%EA%B8%B0%EC%A4%80%EC%9B%94=01&QSL=F',\n",
       " 'https://onland.kbstar.com/quics?page=C060737&%EB%B2%95%EC%A0%95%EB%8F%99%EB%8C%80%EC%A7%80%EC%97%AD%EC%BD%94%EB%93%9C=4400000000&%EB%B2%95%EC%A0%95%EB%8F%99%EC%A4%91%EC%A7%80%EC%97%AD%EC%BD%94%EB%93%9C=4421000000&%EA%B8%B0%EC%A4%80%EB%85%84=2012&%EA%B8%B0%EC%A4%80%EC%9B%94=01&QSL=F',\n",
       " 'https://onland.kbstar.com/quics?page=C060737&%EB%B2%95%EC%A0%95%EB%8F%99%EB%8C%80%EC%A7%80%EC%97%AD%EC%BD%94%EB%93%9C=4500000000&%EB%B2%95%EC%A0%95%EB%8F%99%EC%A4%91%EC%A7%80%EC%97%AD%EC%BD%94%EB%93%9C=4511000000&%EA%B8%B0%EC%A4%80%EB%85%84=2012&%EA%B8%B0%EC%A4%80%EC%9B%94=01&QSL=F',\n",
       " 'https://onland.kbstar.com/quics?page=C060737&%EB%B2%95%EC%A0%95%EB%8F%99%EB%8C%80%EC%A7%80%EC%97%AD%EC%BD%94%EB%93%9C=4500000000&%EB%B2%95%EC%A0%95%EB%8F%99%EC%A4%91%EC%A7%80%EC%97%AD%EC%BD%94%EB%93%9C=4511100000&%EA%B8%B0%EC%A4%80%EB%85%84=2012&%EA%B8%B0%EC%A4%80%EC%9B%94=01&QSL=F',\n",
       " 'https://onland.kbstar.com/quics?page=C060737&%EB%B2%95%EC%A0%95%EB%8F%99%EB%8C%80%EC%A7%80%EC%97%AD%EC%BD%94%EB%93%9C=4500000000&%EB%B2%95%EC%A0%95%EB%8F%99%EC%A4%91%EC%A7%80%EC%97%AD%EC%BD%94%EB%93%9C=4511300000&%EA%B8%B0%EC%A4%80%EB%85%84=2012&%EA%B8%B0%EC%A4%80%EC%9B%94=01&QSL=F',\n",
       " 'https://onland.kbstar.com/quics?page=C060737&%EB%B2%95%EC%A0%95%EB%8F%99%EB%8C%80%EC%A7%80%EC%97%AD%EC%BD%94%EB%93%9C=4500000000&%EB%B2%95%EC%A0%95%EB%8F%99%EC%A4%91%EC%A7%80%EC%97%AD%EC%BD%94%EB%93%9C=4514000000&%EA%B8%B0%EC%A4%80%EB%85%84=2012&%EA%B8%B0%EC%A4%80%EC%9B%94=01&QSL=F',\n",
       " 'https://onland.kbstar.com/quics?page=C060737&%EB%B2%95%EC%A0%95%EB%8F%99%EB%8C%80%EC%A7%80%EC%97%AD%EC%BD%94%EB%93%9C=4500000000&%EB%B2%95%EC%A0%95%EB%8F%99%EC%A4%91%EC%A7%80%EC%97%AD%EC%BD%94%EB%93%9C=4513000000&%EA%B8%B0%EC%A4%80%EB%85%84=2012&%EA%B8%B0%EC%A4%80%EC%9B%94=01&QSL=F',\n",
       " 'https://onland.kbstar.com/quics?page=C060737&%EB%B2%95%EC%A0%95%EB%8F%99%EB%8C%80%EC%A7%80%EC%97%AD%EC%BD%94%EB%93%9C=4600000000&%EB%B2%95%EC%A0%95%EB%8F%99%EC%A4%91%EC%A7%80%EC%97%AD%EC%BD%94%EB%93%9C=4611000000&%EA%B8%B0%EC%A4%80%EB%85%84=2012&%EA%B8%B0%EC%A4%80%EC%9B%94=01&QSL=F',\n",
       " 'https://onland.kbstar.com/quics?page=C060737&%EB%B2%95%EC%A0%95%EB%8F%99%EB%8C%80%EC%A7%80%EC%97%AD%EC%BD%94%EB%93%9C=4600000000&%EB%B2%95%EC%A0%95%EB%8F%99%EC%A4%91%EC%A7%80%EC%97%AD%EC%BD%94%EB%93%9C=4615000000&%EA%B8%B0%EC%A4%80%EB%85%84=2012&%EA%B8%B0%EC%A4%80%EC%9B%94=01&QSL=F',\n",
       " 'https://onland.kbstar.com/quics?page=C060737&%EB%B2%95%EC%A0%95%EB%8F%99%EB%8C%80%EC%A7%80%EC%97%AD%EC%BD%94%EB%93%9C=4600000000&%EB%B2%95%EC%A0%95%EB%8F%99%EC%A4%91%EC%A7%80%EC%97%AD%EC%BD%94%EB%93%9C=4623000000&%EA%B8%B0%EC%A4%80%EB%85%84=2012&%EA%B8%B0%EC%A4%80%EC%9B%94=01&QSL=F',\n",
       " 'https://onland.kbstar.com/quics?page=C060737&%EB%B2%95%EC%A0%95%EB%8F%99%EB%8C%80%EC%A7%80%EC%97%AD%EC%BD%94%EB%93%9C=4600000000&%EB%B2%95%EC%A0%95%EB%8F%99%EC%A4%91%EC%A7%80%EC%97%AD%EC%BD%94%EB%93%9C=4613000000&%EA%B8%B0%EC%A4%80%EB%85%84=2012&%EA%B8%B0%EC%A4%80%EC%9B%94=01&QSL=F',\n",
       " 'https://onland.kbstar.com/quics?page=C060737&%EB%B2%95%EC%A0%95%EB%8F%99%EB%8C%80%EC%A7%80%EC%97%AD%EC%BD%94%EB%93%9C=4700000000&%EB%B2%95%EC%A0%95%EB%8F%99%EC%A4%91%EC%A7%80%EC%97%AD%EC%BD%94%EB%93%9C=4711000000&%EA%B8%B0%EC%A4%80%EB%85%84=2012&%EA%B8%B0%EC%A4%80%EC%9B%94=01&QSL=F',\n",
       " 'https://onland.kbstar.com/quics?page=C060737&%EB%B2%95%EC%A0%95%EB%8F%99%EB%8C%80%EC%A7%80%EC%97%AD%EC%BD%94%EB%93%9C=4700000000&%EB%B2%95%EC%A0%95%EB%8F%99%EC%A4%91%EC%A7%80%EC%97%AD%EC%BD%94%EB%93%9C=4711100000&%EA%B8%B0%EC%A4%80%EB%85%84=2012&%EA%B8%B0%EC%A4%80%EC%9B%94=01&QSL=F',\n",
       " 'https://onland.kbstar.com/quics?page=C060737&%EB%B2%95%EC%A0%95%EB%8F%99%EB%8C%80%EC%A7%80%EC%97%AD%EC%BD%94%EB%93%9C=4700000000&%EB%B2%95%EC%A0%95%EB%8F%99%EC%A4%91%EC%A7%80%EC%97%AD%EC%BD%94%EB%93%9C=4711300000&%EA%B8%B0%EC%A4%80%EB%85%84=2012&%EA%B8%B0%EC%A4%80%EC%9B%94=01&QSL=F',\n",
       " 'https://onland.kbstar.com/quics?page=C060737&%EB%B2%95%EC%A0%95%EB%8F%99%EB%8C%80%EC%A7%80%EC%97%AD%EC%BD%94%EB%93%9C=4700000000&%EB%B2%95%EC%A0%95%EB%8F%99%EC%A4%91%EC%A7%80%EC%97%AD%EC%BD%94%EB%93%9C=4715000000&%EA%B8%B0%EC%A4%80%EB%85%84=2012&%EA%B8%B0%EC%A4%80%EC%9B%94=01&QSL=F',\n",
       " 'https://onland.kbstar.com/quics?page=C060737&%EB%B2%95%EC%A0%95%EB%8F%99%EB%8C%80%EC%A7%80%EC%97%AD%EC%BD%94%EB%93%9C=4700000000&%EB%B2%95%EC%A0%95%EB%8F%99%EC%A4%91%EC%A7%80%EC%97%AD%EC%BD%94%EB%93%9C=4719000000&%EA%B8%B0%EC%A4%80%EB%85%84=2012&%EA%B8%B0%EC%A4%80%EC%9B%94=01&QSL=F',\n",
       " 'https://onland.kbstar.com/quics?page=C060737&%EB%B2%95%EC%A0%95%EB%8F%99%EB%8C%80%EC%A7%80%EC%97%AD%EC%BD%94%EB%93%9C=4700000000&%EB%B2%95%EC%A0%95%EB%8F%99%EC%A4%91%EC%A7%80%EC%97%AD%EC%BD%94%EB%93%9C=4729000000&%EA%B8%B0%EC%A4%80%EB%85%84=2012&%EA%B8%B0%EC%A4%80%EC%9B%94=01&QSL=F',\n",
       " 'https://onland.kbstar.com/quics?page=C060737&%EB%B2%95%EC%A0%95%EB%8F%99%EB%8C%80%EC%A7%80%EC%97%AD%EC%BD%94%EB%93%9C=4700000000&%EB%B2%95%EC%A0%95%EB%8F%99%EC%A4%91%EC%A7%80%EC%97%AD%EC%BD%94%EB%93%9C=4717000000&%EA%B8%B0%EC%A4%80%EB%85%84=2012&%EA%B8%B0%EC%A4%80%EC%9B%94=01&QSL=F',\n",
       " 'https://onland.kbstar.com/quics?page=C060737&%EB%B2%95%EC%A0%95%EB%8F%99%EB%8C%80%EC%A7%80%EC%97%AD%EC%BD%94%EB%93%9C=4800000000&%EB%B2%95%EC%A0%95%EB%8F%99%EC%A4%91%EC%A7%80%EC%97%AD%EC%BD%94%EB%93%9C=4812000000&%EA%B8%B0%EC%A4%80%EB%85%84=2012&%EA%B8%B0%EC%A4%80%EC%9B%94=01&QSL=F',\n",
       " 'https://onland.kbstar.com/quics?page=C060737&%EB%B2%95%EC%A0%95%EB%8F%99%EB%8C%80%EC%A7%80%EC%97%AD%EC%BD%94%EB%93%9C=4800000000&%EB%B2%95%EC%A0%95%EB%8F%99%EC%A4%91%EC%A7%80%EC%97%AD%EC%BD%94%EB%93%9C=4812500000&%EA%B8%B0%EC%A4%80%EB%85%84=2012&%EA%B8%B0%EC%A4%80%EC%9B%94=01&QSL=F',\n",
       " 'https://onland.kbstar.com/quics?page=C060737&%EB%B2%95%EC%A0%95%EB%8F%99%EB%8C%80%EC%A7%80%EC%97%AD%EC%BD%94%EB%93%9C=4800000000&%EB%B2%95%EC%A0%95%EB%8F%99%EC%A4%91%EC%A7%80%EC%97%AD%EC%BD%94%EB%93%9C=4812700000&%EA%B8%B0%EC%A4%80%EB%85%84=2012&%EA%B8%B0%EC%A4%80%EC%9B%94=01&QSL=F',\n",
       " 'https://onland.kbstar.com/quics?page=C060737&%EB%B2%95%EC%A0%95%EB%8F%99%EB%8C%80%EC%A7%80%EC%97%AD%EC%BD%94%EB%93%9C=4800000000&%EB%B2%95%EC%A0%95%EB%8F%99%EC%A4%91%EC%A7%80%EC%97%AD%EC%BD%94%EB%93%9C=4812300000&%EA%B8%B0%EC%A4%80%EB%85%84=2012&%EA%B8%B0%EC%A4%80%EC%9B%94=01&QSL=F',\n",
       " 'https://onland.kbstar.com/quics?page=C060737&%EB%B2%95%EC%A0%95%EB%8F%99%EB%8C%80%EC%A7%80%EC%97%AD%EC%BD%94%EB%93%9C=4800000000&%EB%B2%95%EC%A0%95%EB%8F%99%EC%A4%91%EC%A7%80%EC%97%AD%EC%BD%94%EB%93%9C=4812100000&%EA%B8%B0%EC%A4%80%EB%85%84=2012&%EA%B8%B0%EC%A4%80%EC%9B%94=01&QSL=F',\n",
       " 'https://onland.kbstar.com/quics?page=C060737&%EB%B2%95%EC%A0%95%EB%8F%99%EB%8C%80%EC%A7%80%EC%97%AD%EC%BD%94%EB%93%9C=4800000000&%EB%B2%95%EC%A0%95%EB%8F%99%EC%A4%91%EC%A7%80%EC%97%AD%EC%BD%94%EB%93%9C=4812900000&%EA%B8%B0%EC%A4%80%EB%85%84=2012&%EA%B8%B0%EC%A4%80%EC%9B%94=01&QSL=F',\n",
       " 'https://onland.kbstar.com/quics?page=C060737&%EB%B2%95%EC%A0%95%EB%8F%99%EB%8C%80%EC%A7%80%EC%97%AD%EC%BD%94%EB%93%9C=4800000000&%EB%B2%95%EC%A0%95%EB%8F%99%EC%A4%91%EC%A7%80%EC%97%AD%EC%BD%94%EB%93%9C=4833000000&%EA%B8%B0%EC%A4%80%EB%85%84=2012&%EA%B8%B0%EC%A4%80%EC%9B%94=01&QSL=F',\n",
       " 'https://onland.kbstar.com/quics?page=C060737&%EB%B2%95%EC%A0%95%EB%8F%99%EB%8C%80%EC%A7%80%EC%97%AD%EC%BD%94%EB%93%9C=4800000000&%EB%B2%95%EC%A0%95%EB%8F%99%EC%A4%91%EC%A7%80%EC%97%AD%EC%BD%94%EB%93%9C=4831000000&%EA%B8%B0%EC%A4%80%EB%85%84=2012&%EA%B8%B0%EC%A4%80%EC%9B%94=01&QSL=F',\n",
       " 'https://onland.kbstar.com/quics?page=C060737&%EB%B2%95%EC%A0%95%EB%8F%99%EB%8C%80%EC%A7%80%EC%97%AD%EC%BD%94%EB%93%9C=4800000000&%EB%B2%95%EC%A0%95%EB%8F%99%EC%A4%91%EC%A7%80%EC%97%AD%EC%BD%94%EB%93%9C=4817000000&%EA%B8%B0%EC%A4%80%EB%85%84=2012&%EA%B8%B0%EC%A4%80%EC%9B%94=01&QSL=F',\n",
       " 'https://onland.kbstar.com/quics?page=C060737&%EB%B2%95%EC%A0%95%EB%8F%99%EB%8C%80%EC%A7%80%EC%97%AD%EC%BD%94%EB%93%9C=4800000000&%EB%B2%95%EC%A0%95%EB%8F%99%EC%A4%91%EC%A7%80%EC%97%AD%EC%BD%94%EB%93%9C=4825000000&%EA%B8%B0%EC%A4%80%EB%85%84=2012&%EA%B8%B0%EC%A4%80%EC%9B%94=01&QSL=F',\n",
       " 'https://onland.kbstar.com/quics?page=C060737&%EB%B2%95%EC%A0%95%EB%8F%99%EB%8C%80%EC%A7%80%EC%97%AD%EC%BD%94%EB%93%9C=4800000000&%EB%B2%95%EC%A0%95%EB%8F%99%EC%A4%91%EC%A7%80%EC%97%AD%EC%BD%94%EB%93%9C=4822000000&%EA%B8%B0%EC%A4%80%EB%85%84=2012&%EA%B8%B0%EC%A4%80%EC%9B%94=01&QSL=F']"
      ]
     },
     "execution_count": 29,
     "metadata": {},
     "output_type": "execute_result"
    }
   ],
   "source": [
    "lab"
   ]
  },
  {
   "cell_type": "code",
   "execution_count": null,
   "id": "8f1eade1",
   "metadata": {},
   "outputs": [],
   "source": []
  }
 ],
 "metadata": {
  "kernelspec": {
   "display_name": "simon_env",
   "language": "python",
   "name": "simon_env"
  },
  "language_info": {
   "codemirror_mode": {
    "name": "ipython",
    "version": 3
   },
   "file_extension": ".py",
   "mimetype": "text/x-python",
   "name": "python",
   "nbconvert_exporter": "python",
   "pygments_lexer": "ipython3",
   "version": "3.7.10"
  },
  "varInspector": {
   "cols": {
    "lenName": 16,
    "lenType": 16,
    "lenVar": 40
   },
   "kernels_config": {
    "python": {
     "delete_cmd_postfix": "",
     "delete_cmd_prefix": "del ",
     "library": "var_list.py",
     "varRefreshCmd": "print(var_dic_list())"
    },
    "r": {
     "delete_cmd_postfix": ") ",
     "delete_cmd_prefix": "rm(",
     "library": "var_list.r",
     "varRefreshCmd": "cat(var_dic_list()) "
    }
   },
   "types_to_exclude": [
    "module",
    "function",
    "builtin_function_or_method",
    "instance",
    "_Feature"
   ],
   "window_display": false
  }
 },
 "nbformat": 4,
 "nbformat_minor": 5
}
