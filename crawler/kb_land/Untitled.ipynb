{
 "cells": [
  {
   "cell_type": "code",
   "execution_count": 52,
   "id": "458acbd5",
   "metadata": {
    "ExecuteTime": {
     "end_time": "2021-07-28T00:31:46.678047Z",
     "start_time": "2021-07-28T00:31:46.667105Z"
    }
   },
   "outputs": [],
   "source": [
    "import pandas as pd\n",
    "import numpy as np\n",
    "from glob import glob\n",
    "import re\n",
    "import datetime\n"
   ]
  },
  {
   "cell_type": "code",
   "execution_count": 53,
   "id": "769d7014",
   "metadata": {
    "ExecuteTime": {
     "end_time": "2021-07-28T00:31:46.941250Z",
     "start_time": "2021-07-28T00:31:46.931235Z"
    }
   },
   "outputs": [
    {
     "data": {
      "text/plain": [
       "['C:/Users/shic/Desktop/crawler_project/data_save/kb_land/final\\\\매매가격_변화율.csv',\n",
       " 'C:/Users/shic/Desktop/crawler_project/data_save/kb_land/final\\\\매매가격_지수.csv',\n",
       " 'C:/Users/shic/Desktop/crawler_project/data_save/kb_land/final\\\\매매시장_매매거래.csv',\n",
       " 'C:/Users/shic/Desktop/crawler_project/data_save/kb_land/final\\\\매매시장_매수우위.csv']"
      ]
     },
     "execution_count": 53,
     "metadata": {},
     "output_type": "execute_result"
    }
   ],
   "source": [
    "dirr = \"C:/Users/shic/Desktop/crawler_project/data_save/kb_land/final/\"\n",
    "list_files = glob(dirr+'*.csv')\n",
    "list_files"
   ]
  },
  {
   "cell_type": "code",
   "execution_count": 121,
   "id": "970c02e9",
   "metadata": {
    "ExecuteTime": {
     "end_time": "2021-07-28T01:24:25.640724Z",
     "start_time": "2021-07-28T01:24:24.054962Z"
    }
   },
   "outputs": [],
   "source": [
    "meme_diff = pd.read_csv(list_files[0])\n",
    "meme_jisu = pd.read_csv(list_files[1])"
   ]
  },
  {
   "cell_type": "code",
   "execution_count": 122,
   "id": "be9a0ba8",
   "metadata": {
    "ExecuteTime": {
     "end_time": "2021-07-28T01:24:26.362194Z",
     "start_time": "2021-07-28T01:24:26.189568Z"
    }
   },
   "outputs": [],
   "source": [
    "meme_diff['rate_d_conv'] = pd.to_datetime(meme_diff['rate_d'],format='%Y,%m,%d')\n",
    "meme_jisu['jisu_d_conv'] = pd.to_datetime(meme_jisu['jisu_d'],format='%Y,%m,%d')"
   ]
  },
  {
   "cell_type": "code",
   "execution_count": 123,
   "id": "23ae4b83",
   "metadata": {
    "ExecuteTime": {
     "end_time": "2021-07-28T01:24:26.921470Z",
     "start_time": "2021-07-28T01:24:26.908505Z"
    }
   },
   "outputs": [
    {
     "data": {
      "text/plain": [
       "9"
      ]
     },
     "execution_count": 123,
     "metadata": {},
     "output_type": "execute_result"
    }
   ],
   "source": [
    "meme_jisu['jisu_d_conv'][0].isocalendar()[1]"
   ]
  },
  {
   "cell_type": "code",
   "execution_count": 136,
   "id": "800a8ac9",
   "metadata": {
    "ExecuteTime": {
     "end_time": "2021-07-28T01:31:17.121503Z",
     "start_time": "2021-07-28T01:31:15.880820Z"
    }
   },
   "outputs": [
    {
     "data": {
      "text/html": [
       "<div>\n",
       "<style scoped>\n",
       "    .dataframe tbody tr th:only-of-type {\n",
       "        vertical-align: middle;\n",
       "    }\n",
       "\n",
       "    .dataframe tbody tr th {\n",
       "        vertical-align: top;\n",
       "    }\n",
       "\n",
       "    .dataframe thead th {\n",
       "        text-align: right;\n",
       "    }\n",
       "</style>\n",
       "<table border=\"1\" class=\"dataframe\">\n",
       "  <thead>\n",
       "    <tr style=\"text-align: right;\">\n",
       "      <th></th>\n",
       "      <th>year</th>\n",
       "      <th>month</th>\n",
       "      <th>region_b</th>\n",
       "      <th>region_s</th>\n",
       "      <th>ref_date</th>\n",
       "      <th>date_100</th>\n",
       "      <th>jisu_v</th>\n",
       "      <th>jisu_d</th>\n",
       "      <th>jisu_d_conv</th>\n",
       "      <th>jisu_d_week</th>\n",
       "    </tr>\n",
       "  </thead>\n",
       "  <tbody>\n",
       "    <tr>\n",
       "      <th>0</th>\n",
       "      <td>2012</td>\n",
       "      <td>1</td>\n",
       "      <td>서울</td>\n",
       "      <td>서울강북</td>\n",
       "      <td>(기준일: 2012.01.30)</td>\n",
       "      <td>(2019.01.14=100.0)</td>\n",
       "      <td>82.2</td>\n",
       "      <td>2011,2,28</td>\n",
       "      <td>2011-02-28</td>\n",
       "      <td>9</td>\n",
       "    </tr>\n",
       "    <tr>\n",
       "      <th>1</th>\n",
       "      <td>2012</td>\n",
       "      <td>1</td>\n",
       "      <td>서울</td>\n",
       "      <td>서울강북</td>\n",
       "      <td>(기준일: 2012.01.30)</td>\n",
       "      <td>(2019.01.14=100.0)</td>\n",
       "      <td>82.2</td>\n",
       "      <td>2011,3,7</td>\n",
       "      <td>2011-03-07</td>\n",
       "      <td>10</td>\n",
       "    </tr>\n",
       "    <tr>\n",
       "      <th>2</th>\n",
       "      <td>2012</td>\n",
       "      <td>1</td>\n",
       "      <td>서울</td>\n",
       "      <td>서울강북</td>\n",
       "      <td>(기준일: 2012.01.30)</td>\n",
       "      <td>(2019.01.14=100.0)</td>\n",
       "      <td>82.3</td>\n",
       "      <td>2011,3,14</td>\n",
       "      <td>2011-03-14</td>\n",
       "      <td>11</td>\n",
       "    </tr>\n",
       "    <tr>\n",
       "      <th>3</th>\n",
       "      <td>2012</td>\n",
       "      <td>1</td>\n",
       "      <td>서울</td>\n",
       "      <td>서울강북</td>\n",
       "      <td>(기준일: 2012.01.30)</td>\n",
       "      <td>(2019.01.14=100.0)</td>\n",
       "      <td>82.3</td>\n",
       "      <td>2011,3,21</td>\n",
       "      <td>2011-03-21</td>\n",
       "      <td>12</td>\n",
       "    </tr>\n",
       "    <tr>\n",
       "      <th>4</th>\n",
       "      <td>2012</td>\n",
       "      <td>1</td>\n",
       "      <td>서울</td>\n",
       "      <td>서울강북</td>\n",
       "      <td>(기준일: 2012.01.30)</td>\n",
       "      <td>(2019.01.14=100.0)</td>\n",
       "      <td>82.3</td>\n",
       "      <td>2011,3,28</td>\n",
       "      <td>2011-03-28</td>\n",
       "      <td>13</td>\n",
       "    </tr>\n",
       "    <tr>\n",
       "      <th>...</th>\n",
       "      <td>...</td>\n",
       "      <td>...</td>\n",
       "      <td>...</td>\n",
       "      <td>...</td>\n",
       "      <td>...</td>\n",
       "      <td>...</td>\n",
       "      <td>...</td>\n",
       "      <td>...</td>\n",
       "      <td>...</td>\n",
       "      <td>...</td>\n",
       "    </tr>\n",
       "    <tr>\n",
       "      <th>856732</th>\n",
       "      <td>2021</td>\n",
       "      <td>6</td>\n",
       "      <td>경남</td>\n",
       "      <td>통영</td>\n",
       "      <td>(기준일: 2021.06.28)</td>\n",
       "      <td>(2019.01.14=100.0)</td>\n",
       "      <td>100.7</td>\n",
       "      <td>2021,5,31</td>\n",
       "      <td>2021-05-31</td>\n",
       "      <td>22</td>\n",
       "    </tr>\n",
       "    <tr>\n",
       "      <th>856733</th>\n",
       "      <td>2021</td>\n",
       "      <td>6</td>\n",
       "      <td>경남</td>\n",
       "      <td>통영</td>\n",
       "      <td>(기준일: 2021.06.28)</td>\n",
       "      <td>(2019.01.14=100.0)</td>\n",
       "      <td>100.9</td>\n",
       "      <td>2021,6,7</td>\n",
       "      <td>2021-06-07</td>\n",
       "      <td>23</td>\n",
       "    </tr>\n",
       "    <tr>\n",
       "      <th>856734</th>\n",
       "      <td>2021</td>\n",
       "      <td>6</td>\n",
       "      <td>경남</td>\n",
       "      <td>통영</td>\n",
       "      <td>(기준일: 2021.06.28)</td>\n",
       "      <td>(2019.01.14=100.0)</td>\n",
       "      <td>100.9</td>\n",
       "      <td>2021,6,14</td>\n",
       "      <td>2021-06-14</td>\n",
       "      <td>24</td>\n",
       "    </tr>\n",
       "    <tr>\n",
       "      <th>856735</th>\n",
       "      <td>2021</td>\n",
       "      <td>6</td>\n",
       "      <td>경남</td>\n",
       "      <td>통영</td>\n",
       "      <td>(기준일: 2021.06.28)</td>\n",
       "      <td>(2019.01.14=100.0)</td>\n",
       "      <td>101.0</td>\n",
       "      <td>2021,6,21</td>\n",
       "      <td>2021-06-21</td>\n",
       "      <td>25</td>\n",
       "    </tr>\n",
       "    <tr>\n",
       "      <th>856736</th>\n",
       "      <td>2021</td>\n",
       "      <td>6</td>\n",
       "      <td>경남</td>\n",
       "      <td>통영</td>\n",
       "      <td>(기준일: 2021.06.28)</td>\n",
       "      <td>(2019.01.14=100.0)</td>\n",
       "      <td>101.0</td>\n",
       "      <td>2021,6,28</td>\n",
       "      <td>2021-06-28</td>\n",
       "      <td>26</td>\n",
       "    </tr>\n",
       "  </tbody>\n",
       "</table>\n",
       "<p>856737 rows × 10 columns</p>\n",
       "</div>"
      ],
      "text/plain": [
       "        year  month region_b region_s           ref_date            date_100  \\\n",
       "0       2012      1       서울     서울강북  (기준일: 2012.01.30)  (2019.01.14=100.0)   \n",
       "1       2012      1       서울     서울강북  (기준일: 2012.01.30)  (2019.01.14=100.0)   \n",
       "2       2012      1       서울     서울강북  (기준일: 2012.01.30)  (2019.01.14=100.0)   \n",
       "3       2012      1       서울     서울강북  (기준일: 2012.01.30)  (2019.01.14=100.0)   \n",
       "4       2012      1       서울     서울강북  (기준일: 2012.01.30)  (2019.01.14=100.0)   \n",
       "...      ...    ...      ...      ...                ...                 ...   \n",
       "856732  2021      6       경남       통영  (기준일: 2021.06.28)  (2019.01.14=100.0)   \n",
       "856733  2021      6       경남       통영  (기준일: 2021.06.28)  (2019.01.14=100.0)   \n",
       "856734  2021      6       경남       통영  (기준일: 2021.06.28)  (2019.01.14=100.0)   \n",
       "856735  2021      6       경남       통영  (기준일: 2021.06.28)  (2019.01.14=100.0)   \n",
       "856736  2021      6       경남       통영  (기준일: 2021.06.28)  (2019.01.14=100.0)   \n",
       "\n",
       "        jisu_v     jisu_d jisu_d_conv  jisu_d_week  \n",
       "0         82.2  2011,2,28  2011-02-28            9  \n",
       "1         82.2   2011,3,7  2011-03-07           10  \n",
       "2         82.3  2011,3,14  2011-03-14           11  \n",
       "3         82.3  2011,3,21  2011-03-21           12  \n",
       "4         82.3  2011,3,28  2011-03-28           13  \n",
       "...        ...        ...         ...          ...  \n",
       "856732   100.7  2021,5,31  2021-05-31           22  \n",
       "856733   100.9   2021,6,7  2021-06-07           23  \n",
       "856734   100.9  2021,6,14  2021-06-14           24  \n",
       "856735   101.0  2021,6,21  2021-06-21           25  \n",
       "856736   101.0  2021,6,28  2021-06-28           26  \n",
       "\n",
       "[856737 rows x 10 columns]"
      ]
     },
     "execution_count": 136,
     "metadata": {},
     "output_type": "execute_result"
    }
   ],
   "source": [
    "meme_jisu['jisu_d_week'] = [k.isocalendar()[1] for k in meme_jisu['jisu_d_conv']]\n",
    "meme_jisu"
   ]
  },
  {
   "cell_type": "code",
   "execution_count": 145,
   "id": "76477ba9",
   "metadata": {
    "ExecuteTime": {
     "end_time": "2021-07-28T01:45:43.638223Z",
     "start_time": "2021-07-28T01:45:42.941087Z"
    }
   },
   "outputs": [
    {
     "data": {
      "text/html": [
       "<div>\n",
       "<style scoped>\n",
       "    .dataframe tbody tr th:only-of-type {\n",
       "        vertical-align: middle;\n",
       "    }\n",
       "\n",
       "    .dataframe tbody tr th {\n",
       "        vertical-align: top;\n",
       "    }\n",
       "\n",
       "    .dataframe thead th {\n",
       "        text-align: right;\n",
       "    }\n",
       "</style>\n",
       "<table border=\"1\" class=\"dataframe\">\n",
       "  <thead>\n",
       "    <tr style=\"text-align: right;\">\n",
       "      <th></th>\n",
       "      <th>year</th>\n",
       "      <th>month</th>\n",
       "      <th>region_b</th>\n",
       "      <th>region_s</th>\n",
       "      <th>jisu_d_week</th>\n",
       "      <th>date_100</th>\n",
       "      <th>jisu_v</th>\n",
       "    </tr>\n",
       "  </thead>\n",
       "  <tbody>\n",
       "    <tr>\n",
       "      <th>0</th>\n",
       "      <td>2012</td>\n",
       "      <td>1</td>\n",
       "      <td>강원</td>\n",
       "      <td>강릉</td>\n",
       "      <td>1</td>\n",
       "      <td>(2019.01.14=100.0)</td>\n",
       "      <td>84.2</td>\n",
       "    </tr>\n",
       "    <tr>\n",
       "      <th>1</th>\n",
       "      <td>2012</td>\n",
       "      <td>1</td>\n",
       "      <td>강원</td>\n",
       "      <td>강릉</td>\n",
       "      <td>2</td>\n",
       "      <td>(2019.01.14=100.0)</td>\n",
       "      <td>84.3</td>\n",
       "    </tr>\n",
       "    <tr>\n",
       "      <th>2</th>\n",
       "      <td>2012</td>\n",
       "      <td>1</td>\n",
       "      <td>강원</td>\n",
       "      <td>강릉</td>\n",
       "      <td>3</td>\n",
       "      <td>(2019.01.14=100.0)</td>\n",
       "      <td>84.6</td>\n",
       "    </tr>\n",
       "    <tr>\n",
       "      <th>3</th>\n",
       "      <td>2012</td>\n",
       "      <td>1</td>\n",
       "      <td>강원</td>\n",
       "      <td>강릉</td>\n",
       "      <td>5</td>\n",
       "      <td>(2019.01.14=100.0)</td>\n",
       "      <td>84.8</td>\n",
       "    </tr>\n",
       "    <tr>\n",
       "      <th>4</th>\n",
       "      <td>2012</td>\n",
       "      <td>1</td>\n",
       "      <td>강원</td>\n",
       "      <td>강릉</td>\n",
       "      <td>9</td>\n",
       "      <td>(2019.01.14=100.0)</td>\n",
       "      <td>72.6</td>\n",
       "    </tr>\n",
       "    <tr>\n",
       "      <th>...</th>\n",
       "      <td>...</td>\n",
       "      <td>...</td>\n",
       "      <td>...</td>\n",
       "      <td>...</td>\n",
       "      <td>...</td>\n",
       "      <td>...</td>\n",
       "      <td>...</td>\n",
       "    </tr>\n",
       "    <tr>\n",
       "      <th>856732</th>\n",
       "      <td>2021</td>\n",
       "      <td>6</td>\n",
       "      <td>충북</td>\n",
       "      <td>충주</td>\n",
       "      <td>49</td>\n",
       "      <td>(2019.01.14=100.0)</td>\n",
       "      <td>96.3</td>\n",
       "    </tr>\n",
       "    <tr>\n",
       "      <th>856733</th>\n",
       "      <td>2021</td>\n",
       "      <td>6</td>\n",
       "      <td>충북</td>\n",
       "      <td>충주</td>\n",
       "      <td>50</td>\n",
       "      <td>(2019.01.14=100.0)</td>\n",
       "      <td>96.9</td>\n",
       "    </tr>\n",
       "    <tr>\n",
       "      <th>856734</th>\n",
       "      <td>2021</td>\n",
       "      <td>6</td>\n",
       "      <td>충북</td>\n",
       "      <td>충주</td>\n",
       "      <td>51</td>\n",
       "      <td>(2019.01.14=100.0)</td>\n",
       "      <td>97.3</td>\n",
       "    </tr>\n",
       "    <tr>\n",
       "      <th>856735</th>\n",
       "      <td>2021</td>\n",
       "      <td>6</td>\n",
       "      <td>충북</td>\n",
       "      <td>충주</td>\n",
       "      <td>52</td>\n",
       "      <td>(2019.01.14=100.0)</td>\n",
       "      <td>97.9</td>\n",
       "    </tr>\n",
       "    <tr>\n",
       "      <th>856736</th>\n",
       "      <td>2021</td>\n",
       "      <td>6</td>\n",
       "      <td>충북</td>\n",
       "      <td>충주</td>\n",
       "      <td>53</td>\n",
       "      <td>(2019.01.14=100.0)</td>\n",
       "      <td>98.5</td>\n",
       "    </tr>\n",
       "  </tbody>\n",
       "</table>\n",
       "<p>856737 rows × 7 columns</p>\n",
       "</div>"
      ],
      "text/plain": [
       "        year  month region_b region_s  jisu_d_week            date_100  jisu_v\n",
       "0       2012      1       강원       강릉            1  (2019.01.14=100.0)    84.2\n",
       "1       2012      1       강원       강릉            2  (2019.01.14=100.0)    84.3\n",
       "2       2012      1       강원       강릉            3  (2019.01.14=100.0)    84.6\n",
       "3       2012      1       강원       강릉            5  (2019.01.14=100.0)    84.8\n",
       "4       2012      1       강원       강릉            9  (2019.01.14=100.0)    72.6\n",
       "...      ...    ...      ...      ...          ...                 ...     ...\n",
       "856732  2021      6       충북       충주           49  (2019.01.14=100.0)    96.3\n",
       "856733  2021      6       충북       충주           50  (2019.01.14=100.0)    96.9\n",
       "856734  2021      6       충북       충주           51  (2019.01.14=100.0)    97.3\n",
       "856735  2021      6       충북       충주           52  (2019.01.14=100.0)    97.9\n",
       "856736  2021      6       충북       충주           53  (2019.01.14=100.0)    98.5\n",
       "\n",
       "[856737 rows x 7 columns]"
      ]
     },
     "execution_count": 145,
     "metadata": {},
     "output_type": "execute_result"
    }
   ],
   "source": [
    "meme_jisu.groupby(['year','month','region_b','region_s','jisu_d_week','date_100'],as_index=False)['jisu_v'].mean()"
   ]
  },
  {
   "cell_type": "code",
   "execution_count": null,
   "id": "3f7e8041",
   "metadata": {},
   "outputs": [],
   "source": []
  }
 ],
 "metadata": {
  "kernelspec": {
   "display_name": "simon_env",
   "language": "python",
   "name": "simon_env"
  },
  "language_info": {
   "codemirror_mode": {
    "name": "ipython",
    "version": 3
   },
   "file_extension": ".py",
   "mimetype": "text/x-python",
   "name": "python",
   "nbconvert_exporter": "python",
   "pygments_lexer": "ipython3",
   "version": "3.7.10"
  },
  "varInspector": {
   "cols": {
    "lenName": 16,
    "lenType": 16,
    "lenVar": 40
   },
   "kernels_config": {
    "python": {
     "delete_cmd_postfix": "",
     "delete_cmd_prefix": "del ",
     "library": "var_list.py",
     "varRefreshCmd": "print(var_dic_list())"
    },
    "r": {
     "delete_cmd_postfix": ") ",
     "delete_cmd_prefix": "rm(",
     "library": "var_list.r",
     "varRefreshCmd": "cat(var_dic_list()) "
    }
   },
   "types_to_exclude": [
    "module",
    "function",
    "builtin_function_or_method",
    "instance",
    "_Feature"
   ],
   "window_display": false
  }
 },
 "nbformat": 4,
 "nbformat_minor": 5
}
