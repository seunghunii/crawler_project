{
 "cells": [
  {
   "cell_type": "code",
   "execution_count": 22,
   "id": "9a5510da",
   "metadata": {
    "ExecuteTime": {
     "end_time": "2021-07-12T01:30:01.900950Z",
     "start_time": "2021-07-12T01:30:01.885989Z"
    }
   },
   "outputs": [],
   "source": [
    "import pandas as pd\n",
    "from selenium import webdriver\n",
    "import numpy as np\n",
    "from bs4 import BeautifulSoup\n",
    "import re\n",
    "import requests\n",
    "from time import sleep\n",
    "import json\n",
    "import warnings\n",
    "warnings.filterwarnings('ignore')"
   ]
  },
  {
   "cell_type": "code",
   "execution_count": 23,
   "id": "0c2ed3a5",
   "metadata": {
    "ExecuteTime": {
     "end_time": "2021-07-12T01:30:01.916907Z",
     "start_time": "2021-07-12T01:30:01.901948Z"
    }
   },
   "outputs": [],
   "source": [
    "dir_for_shinhan = 'C:/Users/shic/Desktop/shinhan_simon/chromedriver/chromedriver.exe'\n",
    "dir_for_seunghun = 'C:/Users/rsh15/Desktop/seunghuni/selenium/chromedriver.exe'"
   ]
  },
  {
   "cell_type": "code",
   "execution_count": 37,
   "id": "67ac80db",
   "metadata": {
    "ExecuteTime": {
     "end_time": "2021-07-12T02:27:00.595289Z",
     "start_time": "2021-07-12T02:27:00.572380Z"
    }
   },
   "outputs": [],
   "source": [
    "region_data = pd.read_csv('C:/Users/shic/Desktop/crawler_project/data_save/kb_land/region_code.csv')"
   ]
  },
  {
   "cell_type": "code",
   "execution_count": 38,
   "id": "d5ce1957",
   "metadata": {
    "ExecuteTime": {
     "end_time": "2021-07-12T02:27:01.015841Z",
     "start_time": "2021-07-12T02:27:01.011850Z"
    }
   },
   "outputs": [
    {
     "data": {
      "text/plain": [
       "array(['서울', '경기', '인천', '수도권', '부산', '대구', '광주', '대전', '울산', '5개광역시',\n",
       "       '6개광역시', '세종', '강원', '충북', '충남', '전북', '전남', '경북', '경남', '제주/서귀포',\n",
       "       '기타지방'], dtype=object)"
      ]
     },
     "execution_count": 38,
     "metadata": {},
     "output_type": "execute_result"
    }
   ],
   "source": [
    "region_data['big_region_name'].unique()"
   ]
  },
  {
   "cell_type": "code",
   "execution_count": 39,
   "id": "6e383915",
   "metadata": {
    "ExecuteTime": {
     "end_time": "2021-07-12T02:27:08.232011Z",
     "start_time": "2021-07-12T02:27:08.213090Z"
    }
   },
   "outputs": [
    {
     "data": {
      "text/html": [
       "<div>\n",
       "<style scoped>\n",
       "    .dataframe tbody tr th:only-of-type {\n",
       "        vertical-align: middle;\n",
       "    }\n",
       "\n",
       "    .dataframe tbody tr th {\n",
       "        vertical-align: top;\n",
       "    }\n",
       "\n",
       "    .dataframe thead th {\n",
       "        text-align: right;\n",
       "    }\n",
       "</style>\n",
       "<table border=\"1\" class=\"dataframe\">\n",
       "  <thead>\n",
       "    <tr style=\"text-align: right;\">\n",
       "      <th></th>\n",
       "      <th>big_region_code</th>\n",
       "      <th>big_region_name</th>\n",
       "      <th>small_region_code</th>\n",
       "      <th>small_region_name</th>\n",
       "    </tr>\n",
       "  </thead>\n",
       "  <tbody>\n",
       "    <tr>\n",
       "      <th>92</th>\n",
       "      <td>4100000000</td>\n",
       "      <td>경기</td>\n",
       "      <td>4157000000</td>\n",
       "      <td>김포</td>\n",
       "    </tr>\n",
       "    <tr>\n",
       "      <th>93</th>\n",
       "      <td>4100000000</td>\n",
       "      <td>경기</td>\n",
       "      <td>4163000000</td>\n",
       "      <td>양주</td>\n",
       "    </tr>\n",
       "    <tr>\n",
       "      <th>94</th>\n",
       "      <td>4100000000</td>\n",
       "      <td>경기</td>\n",
       "      <td>4125000000</td>\n",
       "      <td>동두천</td>\n",
       "    </tr>\n",
       "    <tr>\n",
       "      <th>95</th>\n",
       "      <td>4100000000</td>\n",
       "      <td>경기</td>\n",
       "      <td>4161000000</td>\n",
       "      <td>광주</td>\n",
       "    </tr>\n",
       "    <tr>\n",
       "      <th>96</th>\n",
       "      <td>4100000000</td>\n",
       "      <td>경기</td>\n",
       "      <td>4159000000</td>\n",
       "      <td>화성</td>\n",
       "    </tr>\n",
       "  </tbody>\n",
       "</table>\n",
       "</div>"
      ],
      "text/plain": [
       "    big_region_code big_region_name  small_region_code small_region_name\n",
       "92       4100000000              경기         4157000000                김포\n",
       "93       4100000000              경기         4163000000                양주\n",
       "94       4100000000              경기         4125000000               동두천\n",
       "95       4100000000              경기         4161000000                광주\n",
       "96       4100000000              경기         4159000000                화성"
      ]
     },
     "execution_count": 39,
     "metadata": {},
     "output_type": "execute_result"
    }
   ],
   "source": [
    "region_code = region_data[region_data['big_region_name'].isin(['서울','경기'])]\n",
    "pregion_code.head(5)\n",
    "region_code.tail(5)"
   ]
  },
  {
   "cell_type": "code",
   "execution_count": 26,
   "id": "80958fc3",
   "metadata": {
    "ExecuteTime": {
     "end_time": "2021-07-12T01:30:03.494677Z",
     "start_time": "2021-07-12T01:30:01.948821Z"
    }
   },
   "outputs": [],
   "source": [
    "driver = webdriver.Chrome(dir_for_shinhan)\n",
    "driver.maximize_window()\n",
    "driver.refresh()\n"
   ]
  },
  {
   "cell_type": "code",
   "execution_count": 40,
   "id": "a87a1c83",
   "metadata": {
    "ExecuteTime": {
     "end_time": "2021-07-12T03:28:04.257171Z",
     "start_time": "2021-07-12T02:27:26.433775Z"
    }
   },
   "outputs": [],
   "source": [
    "kb_list = []\n",
    "base_url = 'https://onland.kbstar.com/quics?page=C060737&%EB%B2%95%EC%A0%95%EB%8F%99%EB%8C%80%EC%A7%80%EC%97%AD%EC%BD%94%EB%93%9C={}&%EB%B2%95%EC%A0%95%EB%8F%99%EC%A4%91%EC%A7%80%EC%97%AD%EC%BD%94%EB%93%9C={}&%EA%B8%B0%EC%A4%80%EB%85%84={}&%EA%B8%B0%EC%A4%80%EC%9B%94={}&QSL=F'\n",
    "\n",
    "for year in range(2015,2022):\n",
    "    year = str(year)\n",
    "    for month in range(1,13):\n",
    "        if int(month) < 10:\n",
    "            month = '0' + str(month)\n",
    "        else:\n",
    "            month = str(month)\n",
    "        for region in region_code.iterrows():\n",
    "            # format은 대지역 코드, 중지역 코드, 년, 월 순.\n",
    "            tmp_url = base_url.format(region[1]['big_region_code'],region[1]['small_region_code'],year,month)\n",
    "            \n",
    "            # URL 접속\n",
    "            driver.get(url = tmp_url) \n",
    "            \n",
    "            # 그래프의 데이터 가져오기\n",
    "            soup = BeautifulSoup(driver.page_source,'html.parser')\n",
    "            \n",
    "            aa = re.search('var graphYn1 = [$](.+?);',driver.page_source,re.S).group(1)\n",
    "            aa = aa.replace(\".trim('[\",\"\").replace(\"') == '' ? false: true\",\"\").replace('Date.UTC(','')\n",
    "            aa = aa.split('], [')\n",
    "            \n",
    "            date_list_aa = []\n",
    "            data_list_aa = []\n",
    "            for k in aa:\n",
    "                tmpp = k.split('),')\n",
    "                data_wrangle = tmpp[0].split(', ')\n",
    "                data_wrangle[1] = str(int(data_wrangle[1]) + 1)\n",
    "                \n",
    "                date_list_aa.append(','.join(data_wrangle))\n",
    "                data_list_aa.append(float(tmpp[1].replace(']','')))\n",
    "                \n",
    "            bb = re.search('var graphYn2 = [$](.+?);',driver.page_source,re.S).group(1)\n",
    "            bb = bb.replace(\".trim('[\",\"\").replace(\"') == '' ? false: true\",\"\").replace('Date.UTC(','')\n",
    "            bb = bb.split('], [')\n",
    "            \n",
    "            date_list_bb = []\n",
    "            data_list_bb = []\n",
    "            for k in bb:\n",
    "                tmpp = k.split('),')\n",
    "                data_wrangle = tmpp[0].split(', ')\n",
    "                data_wrangle[1] = str(int(data_wrangle[1]) + 1)\n",
    "                \n",
    "                date_list_bb.append(','.join(data_wrangle))\n",
    "                data_list_bb.append(float(tmpp[1].replace(']','').replace(',','')))\n",
    "                \n",
    "            kb_list.append(pd.DataFrame({\n",
    "                'b_region' : region[1]['big_region_name'],\n",
    "                's_region' : region[1]['small_region_name'],\n",
    "                'date_a'   : pd.to_datetime(date_list_aa,format='%Y,%m,%d'),\n",
    "                'value1'   : data_list_aa,\n",
    "                'date_b'   : pd.to_datetime(date_list_bb,format='%Y,%m,%d'),\n",
    "                'value2'   : data_list_bb\n",
    "            }))\n",
    "            \n",
    "            # 일단 2021년 6월 까지의 데이터만 가져온다.\n",
    "            if year == '2021' and int(month) > 6:\n",
    "                break"
   ]
  },
  {
   "cell_type": "code",
   "execution_count": 46,
   "id": "6e3074d7",
   "metadata": {
    "ExecuteTime": {
     "end_time": "2021-07-12T05:57:46.233940Z",
     "start_time": "2021-07-12T05:57:43.147363Z"
    }
   },
   "outputs": [],
   "source": [
    "df = pd.concat(kb_list,axis=0).drop_duplicates()\n",
    "df['date_a'] = pd.to_datetime(df['date_a'],format='%Y-%m-%d')\n",
    "df['date_b'] = pd.to_datetime(df['date_b'],format='%Y-%m-%d')"
   ]
  },
  {
   "cell_type": "code",
   "execution_count": 47,
   "id": "ff3744c2",
   "metadata": {
    "ExecuteTime": {
     "end_time": "2021-07-12T05:57:46.249899Z",
     "start_time": "2021-07-12T05:57:46.234938Z"
    }
   },
   "outputs": [
    {
     "data": {
      "text/html": [
       "<div>\n",
       "<style scoped>\n",
       "    .dataframe tbody tr th:only-of-type {\n",
       "        vertical-align: middle;\n",
       "    }\n",
       "\n",
       "    .dataframe tbody tr th {\n",
       "        vertical-align: top;\n",
       "    }\n",
       "\n",
       "    .dataframe thead th {\n",
       "        text-align: right;\n",
       "    }\n",
       "</style>\n",
       "<table border=\"1\" class=\"dataframe\">\n",
       "  <thead>\n",
       "    <tr style=\"text-align: right;\">\n",
       "      <th></th>\n",
       "      <th>b_region</th>\n",
       "      <th>s_region</th>\n",
       "      <th>date_a</th>\n",
       "      <th>value1</th>\n",
       "      <th>date_b</th>\n",
       "      <th>value2</th>\n",
       "    </tr>\n",
       "  </thead>\n",
       "  <tbody>\n",
       "    <tr>\n",
       "      <th>0</th>\n",
       "      <td>서울</td>\n",
       "      <td>서울강북</td>\n",
       "      <td>2014-03-03</td>\n",
       "      <td>77.3</td>\n",
       "      <td>2014-03-03</td>\n",
       "      <td>0.05</td>\n",
       "    </tr>\n",
       "    <tr>\n",
       "      <th>1</th>\n",
       "      <td>서울</td>\n",
       "      <td>서울강북</td>\n",
       "      <td>2014-03-10</td>\n",
       "      <td>77.3</td>\n",
       "      <td>2014-03-10</td>\n",
       "      <td>0.04</td>\n",
       "    </tr>\n",
       "    <tr>\n",
       "      <th>2</th>\n",
       "      <td>서울</td>\n",
       "      <td>서울강북</td>\n",
       "      <td>2014-03-17</td>\n",
       "      <td>77.3</td>\n",
       "      <td>2014-03-17</td>\n",
       "      <td>0.05</td>\n",
       "    </tr>\n",
       "    <tr>\n",
       "      <th>3</th>\n",
       "      <td>서울</td>\n",
       "      <td>서울강북</td>\n",
       "      <td>2014-03-24</td>\n",
       "      <td>77.3</td>\n",
       "      <td>2014-03-24</td>\n",
       "      <td>0.03</td>\n",
       "    </tr>\n",
       "    <tr>\n",
       "      <th>4</th>\n",
       "      <td>서울</td>\n",
       "      <td>서울강북</td>\n",
       "      <td>2014-03-31</td>\n",
       "      <td>77.4</td>\n",
       "      <td>2014-03-31</td>\n",
       "      <td>0.02</td>\n",
       "    </tr>\n",
       "    <tr>\n",
       "      <th>...</th>\n",
       "      <td>...</td>\n",
       "      <td>...</td>\n",
       "      <td>...</td>\n",
       "      <td>...</td>\n",
       "      <td>...</td>\n",
       "      <td>...</td>\n",
       "    </tr>\n",
       "    <tr>\n",
       "      <th>45</th>\n",
       "      <td>경기</td>\n",
       "      <td>김포</td>\n",
       "      <td>2021-07-05</td>\n",
       "      <td>134.2</td>\n",
       "      <td>2021-07-05</td>\n",
       "      <td>0.15</td>\n",
       "    </tr>\n",
       "    <tr>\n",
       "      <th>45</th>\n",
       "      <td>경기</td>\n",
       "      <td>양주</td>\n",
       "      <td>2021-07-05</td>\n",
       "      <td>117.3</td>\n",
       "      <td>2021-07-05</td>\n",
       "      <td>0.46</td>\n",
       "    </tr>\n",
       "    <tr>\n",
       "      <th>45</th>\n",
       "      <td>경기</td>\n",
       "      <td>동두천</td>\n",
       "      <td>2021-07-05</td>\n",
       "      <td>120.9</td>\n",
       "      <td>2021-07-05</td>\n",
       "      <td>0.54</td>\n",
       "    </tr>\n",
       "    <tr>\n",
       "      <th>45</th>\n",
       "      <td>경기</td>\n",
       "      <td>광주</td>\n",
       "      <td>2021-07-05</td>\n",
       "      <td>125.8</td>\n",
       "      <td>2021-07-05</td>\n",
       "      <td>0.67</td>\n",
       "    </tr>\n",
       "    <tr>\n",
       "      <th>45</th>\n",
       "      <td>경기</td>\n",
       "      <td>화성</td>\n",
       "      <td>2021-07-05</td>\n",
       "      <td>129.3</td>\n",
       "      <td>2021-07-05</td>\n",
       "      <td>0.58</td>\n",
       "    </tr>\n",
       "  </tbody>\n",
       "</table>\n",
       "<p>35696 rows × 6 columns</p>\n",
       "</div>"
      ],
      "text/plain": [
       "   b_region s_region     date_a  value1     date_b  value2\n",
       "0        서울     서울강북 2014-03-03    77.3 2014-03-03    0.05\n",
       "1        서울     서울강북 2014-03-10    77.3 2014-03-10    0.04\n",
       "2        서울     서울강북 2014-03-17    77.3 2014-03-17    0.05\n",
       "3        서울     서울강북 2014-03-24    77.3 2014-03-24    0.03\n",
       "4        서울     서울강북 2014-03-31    77.4 2014-03-31    0.02\n",
       "..      ...      ...        ...     ...        ...     ...\n",
       "45       경기       김포 2021-07-05   134.2 2021-07-05    0.15\n",
       "45       경기       양주 2021-07-05   117.3 2021-07-05    0.46\n",
       "45       경기      동두천 2021-07-05   120.9 2021-07-05    0.54\n",
       "45       경기       광주 2021-07-05   125.8 2021-07-05    0.67\n",
       "45       경기       화성 2021-07-05   129.3 2021-07-05    0.58\n",
       "\n",
       "[35696 rows x 6 columns]"
      ]
     },
     "execution_count": 47,
     "metadata": {},
     "output_type": "execute_result"
    }
   ],
   "source": [
    "df"
   ]
  },
  {
   "cell_type": "code",
   "execution_count": 48,
   "id": "3e00c90c",
   "metadata": {
    "ExecuteTime": {
     "end_time": "2021-07-12T05:57:56.993965Z",
     "start_time": "2021-07-12T05:57:56.469562Z"
    }
   },
   "outputs": [],
   "source": [
    "# df.to_csv('C:/Users/shic/Desktop/crawler_project/data_save/kb_land/kb_land_df.csv',index=0)"
   ]
  }
 ],
 "metadata": {
  "kernelspec": {
   "display_name": "simon_env",
   "language": "python",
   "name": "simon_env"
  },
  "language_info": {
   "codemirror_mode": {
    "name": "ipython",
    "version": 3
   },
   "file_extension": ".py",
   "mimetype": "text/x-python",
   "name": "python",
   "nbconvert_exporter": "python",
   "pygments_lexer": "ipython3",
   "version": "3.7.10"
  }
 },
 "nbformat": 4,
 "nbformat_minor": 5
}
