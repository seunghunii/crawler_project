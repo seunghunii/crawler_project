{
 "cells": [
  {
   "cell_type": "code",
   "execution_count": 1,
   "id": "9a5510da",
   "metadata": {
    "ExecuteTime": {
     "end_time": "2021-07-14T01:21:59.171426Z",
     "start_time": "2021-07-14T01:21:57.958946Z"
    }
   },
   "outputs": [],
   "source": [
    "import pandas as pd\n",
    "from selenium import webdriver\n",
    "import numpy as np\n",
    "from bs4 import BeautifulSoup\n",
    "import re\n",
    "import requests\n",
    "from time import sleep\n",
    "import json\n",
    "import warnings\n",
    "warnings.filterwarnings('ignore')"
   ]
  },
  {
   "cell_type": "code",
   "execution_count": 2,
   "id": "0c2ed3a5",
   "metadata": {
    "ExecuteTime": {
     "end_time": "2021-07-14T01:21:59.327913Z",
     "start_time": "2021-07-14T01:21:59.320961Z"
    }
   },
   "outputs": [],
   "source": [
    "dir_for_shinhan = 'C:/Users/shic/Desktop/shinhan_simon/chromedriver/chromedriver.exe'\n",
    "dir_for_seunghun = 'C:/Users/rsh15/Desktop/seunghuni/selenium/chromedriver.exe'"
   ]
  },
  {
   "cell_type": "code",
   "execution_count": 3,
   "id": "67ac80db",
   "metadata": {
    "ExecuteTime": {
     "end_time": "2021-07-14T01:22:00.188492Z",
     "start_time": "2021-07-14T01:22:00.171567Z"
    }
   },
   "outputs": [],
   "source": [
    "region_data = pd.read_csv('C:/Users/shic/Desktop/crawler_project/data_save/kb_land/region_code.csv')"
   ]
  },
  {
   "cell_type": "code",
   "execution_count": 4,
   "id": "d5ce1957",
   "metadata": {
    "ExecuteTime": {
     "end_time": "2021-07-14T01:22:00.783120Z",
     "start_time": "2021-07-14T01:22:00.762176Z"
    }
   },
   "outputs": [
    {
     "data": {
      "text/plain": [
       "array(['서울', '경기', '인천', '수도권', '부산', '대구', '광주', '대전', '울산', '5개광역시',\n",
       "       '6개광역시', '세종', '강원', '충북', '충남', '전북', '전남', '경북', '경남', '제주/서귀포',\n",
       "       '기타지방'], dtype=object)"
      ]
     },
     "execution_count": 4,
     "metadata": {},
     "output_type": "execute_result"
    }
   ],
   "source": [
    "region_data['big_region_name'].unique()"
   ]
  },
  {
   "cell_type": "code",
   "execution_count": 6,
   "id": "6e383915",
   "metadata": {
    "ExecuteTime": {
     "end_time": "2021-07-14T01:22:09.901762Z",
     "start_time": "2021-07-14T01:22:09.884807Z"
    }
   },
   "outputs": [],
   "source": [
    "region_code = region_data[region_data['big_region_name'].isin(['서울','경기','인천'])]"
   ]
  },
  {
   "cell_type": "code",
   "execution_count": 7,
   "id": "80958fc3",
   "metadata": {
    "ExecuteTime": {
     "end_time": "2021-07-14T01:22:17.198090Z",
     "start_time": "2021-07-14T01:22:15.531218Z"
    }
   },
   "outputs": [],
   "source": [
    "driver = webdriver.Chrome(dir_for_shinhan)\n",
    "driver.maximize_window()\n",
    "driver.refresh()"
   ]
  },
  {
   "cell_type": "code",
   "execution_count": 8,
   "id": "a87a1c83",
   "metadata": {
    "ExecuteTime": {
     "end_time": "2021-07-14T03:02:47.050691Z",
     "start_time": "2021-07-14T01:22:43.546812Z"
    }
   },
   "outputs": [],
   "source": [
    "kb_list = []\n",
    "base_url = 'https://onland.kbstar.com/quics?page=C060737&%EB%B2%95%EC%A0%95%EB%8F%99%EB%8C%80%EC%A7%80%EC%97%AD%EC%BD%94%EB%93%9C={}&%EB%B2%95%EC%A0%95%EB%8F%99%EC%A4%91%EC%A7%80%EC%97%AD%EC%BD%94%EB%93%9C={}&%EA%B8%B0%EC%A4%80%EB%85%84={}&%EA%B8%B0%EC%A4%80%EC%9B%94={}&QSL=F'\n",
    "\n",
    "for year in range(2015,2022):\n",
    "    year = str(year)\n",
    "    for month in range(1,13):\n",
    "        if int(month) < 10:\n",
    "            month = '0' + str(month)\n",
    "        else:\n",
    "            month = str(month)\n",
    "        for region in region_code.iterrows():\n",
    "            # format은 대지역 코드, 중지역 코드, 년, 월 순.\n",
    "            tmp_url = base_url.format(region[1]['big_region_code'],region[1]['small_region_code'],year,month)\n",
    "            \n",
    "            # URL 접속\n",
    "            driver.get(url = tmp_url) \n",
    "            \n",
    "            # 그래프의 데이터 가져오기\n",
    "            soup = BeautifulSoup(driver.page_source,'html.parser')\n",
    "            \n",
    "            aa = re.search('var graphYn1 = [$](.+?);',driver.page_source,re.S).group(1)\n",
    "            aa = aa.replace(\".trim('[\",\"\").replace(\"') == '' ? false: true\",\"\").replace('Date.UTC(','')\n",
    "            aa = aa.split('], [')\n",
    "            \n",
    "            date_list_aa = []\n",
    "            data_list_aa = []\n",
    "            for k in aa:\n",
    "                tmpp = k.split('),')\n",
    "                data_wrangle = tmpp[0].split(', ')\n",
    "                data_wrangle[1] = str(int(data_wrangle[1]) + 1)\n",
    "                \n",
    "                date_list_aa.append(','.join(data_wrangle))\n",
    "                data_list_aa.append(float(tmpp[1].replace(']','')))\n",
    "                \n",
    "            bb = re.search('var graphYn2 = [$](.+?);',driver.page_source,re.S).group(1)\n",
    "            bb = bb.replace(\".trim('[\",\"\").replace(\"') == '' ? false: true\",\"\").replace('Date.UTC(','')\n",
    "            bb = bb.split('], [')\n",
    "            \n",
    "            date_list_bb = []\n",
    "            data_list_bb = []\n",
    "            for k in bb:\n",
    "                tmpp = k.split('),')\n",
    "                data_wrangle = tmpp[0].split(', ')\n",
    "                data_wrangle[1] = str(int(data_wrangle[1]) + 1)\n",
    "                \n",
    "                date_list_bb.append(','.join(data_wrangle))\n",
    "                data_list_bb.append(float(tmpp[1].replace(']','').replace(',','')))\n",
    "                \n",
    "            kb_list.append(pd.DataFrame({\n",
    "                'b_region' : region[1]['big_region_name'],\n",
    "                's_region' : region[1]['small_region_name'],\n",
    "                'date_a'   : pd.to_datetime(date_list_aa,format='%Y,%m,%d'),\n",
    "                'value1'   : data_list_aa,\n",
    "                'date_b'   : pd.to_datetime(date_list_bb,format='%Y,%m,%d'),\n",
    "                'value2'   : data_list_bb\n",
    "            }))\n",
    "            \n",
    "            # 일단 2021년 6월 까지의 데이터만 가져온다.\n",
    "            if year == '2021' and int(month) > 6:\n",
    "                break\n",
    "\n",
    "driver.close()"
   ]
  },
  {
   "cell_type": "code",
   "execution_count": 9,
   "id": "6e3074d7",
   "metadata": {
    "ExecuteTime": {
     "end_time": "2021-07-14T04:56:34.318198Z",
     "start_time": "2021-07-14T04:56:29.248390Z"
    }
   },
   "outputs": [],
   "source": [
    "df = pd.concat(kb_list,axis=0).drop_duplicates()\n",
    "df['date_a'] = pd.to_datetime(df['date_a'],format='%Y-%m-%d')\n",
    "df['date_b'] = pd.to_datetime(df['date_b'],format='%Y-%m-%d')"
   ]
  },
  {
   "cell_type": "code",
   "execution_count": 12,
   "id": "ff3744c2",
   "metadata": {
    "ExecuteTime": {
     "end_time": "2021-07-14T05:04:06.672264Z",
     "start_time": "2021-07-14T05:04:06.649346Z"
    }
   },
   "outputs": [
    {
     "name": "stdout",
     "output_type": "stream",
     "text": [
      "['서울' '경기' '인천']\n",
      "['서울강북' '서울강북구' '서울광진구' '서울노원구' '서울도봉구' '서울동대문구' '서울마포구' '서울서대문구' '서울성동구'\n",
      " '서울성북구' '서울용산구' '서울은평구' '서울종로구' '서울중구' '서울중랑구' '서울강남' '서울강남구' '서울강동구'\n",
      " '서울강서구' '서울관악구' '서울구로구' '서울금천구' '서울동작구' '서울서초구' '서울송파구' '서울양천구' '서울영등포구'\n",
      " '수원' '수원장안구' '수원권선구' '수원팔달구' '수원영통구' '성남' '성남수정구' '성남중원구' '성남분당구' '고양'\n",
      " '고양덕양구' '고양일산동구' '고양일산서구' '안양' '안양만안구' '안양동안구' '부천' '의정부' '광명' '평택' '안산'\n",
      " '안산단원구' '안산상록구' '과천' '구리' '남양주' '용인' '용인처인구' '용인기흥구' '용인수지구' '시흥' '군포'\n",
      " '의왕' '하남' '오산' '파주' '이천' '안성' '김포' '양주' '동두천' '광주' '화성' '인천중구' '인천동구'\n",
      " '인천미추홀구' '인천연수구' '인천남동구' '인천부평구' '인천계양구' '인천서구']\n"
     ]
    }
   ],
   "source": [
    "print(df['b_region'].unique())\n",
    "print(df['s_region'].unique())"
   ]
  },
  {
   "cell_type": "code",
   "execution_count": 14,
   "id": "3e00c90c",
   "metadata": {
    "ExecuteTime": {
     "end_time": "2021-07-14T05:07:51.185693Z",
     "start_time": "2021-07-14T05:07:50.226256Z"
    }
   },
   "outputs": [],
   "source": [
    "#df.to_csv('C:/Users/shic/Desktop/crawler_project/data_save/kb_land/kb_land_df.csv',index=0)"
   ]
  },
  {
   "cell_type": "code",
   "execution_count": 2,
   "id": "fceb74d1",
   "metadata": {
    "ExecuteTime": {
     "end_time": "2021-07-13T02:04:53.886720Z",
     "start_time": "2021-07-13T02:04:53.835947Z"
    }
   },
   "outputs": [],
   "source": [
    "tmp_df = pd.read_csv('C:/Users/shic/Desktop/crawler_project/data_save/kb_land/kb_land_df.csv')"
   ]
  },
  {
   "cell_type": "code",
   "execution_count": 3,
   "id": "f5753c62",
   "metadata": {
    "ExecuteTime": {
     "end_time": "2021-07-13T02:04:57.023569Z",
     "start_time": "2021-07-13T02:04:56.988687Z"
    }
   },
   "outputs": [
    {
     "data": {
      "text/html": [
       "<div>\n",
       "<style scoped>\n",
       "    .dataframe tbody tr th:only-of-type {\n",
       "        vertical-align: middle;\n",
       "    }\n",
       "\n",
       "    .dataframe tbody tr th {\n",
       "        vertical-align: top;\n",
       "    }\n",
       "\n",
       "    .dataframe thead th {\n",
       "        text-align: right;\n",
       "    }\n",
       "</style>\n",
       "<table border=\"1\" class=\"dataframe\">\n",
       "  <thead>\n",
       "    <tr style=\"text-align: right;\">\n",
       "      <th></th>\n",
       "      <th>b_region</th>\n",
       "      <th>s_region</th>\n",
       "      <th>date_a</th>\n",
       "      <th>value1</th>\n",
       "      <th>date_b</th>\n",
       "      <th>value2</th>\n",
       "    </tr>\n",
       "  </thead>\n",
       "  <tbody>\n",
       "    <tr>\n",
       "      <th>0</th>\n",
       "      <td>서울</td>\n",
       "      <td>서울강북</td>\n",
       "      <td>2014-03-03</td>\n",
       "      <td>77.3</td>\n",
       "      <td>2014-03-03</td>\n",
       "      <td>0.05</td>\n",
       "    </tr>\n",
       "    <tr>\n",
       "      <th>1</th>\n",
       "      <td>서울</td>\n",
       "      <td>서울강북</td>\n",
       "      <td>2014-03-10</td>\n",
       "      <td>77.3</td>\n",
       "      <td>2014-03-10</td>\n",
       "      <td>0.04</td>\n",
       "    </tr>\n",
       "    <tr>\n",
       "      <th>2</th>\n",
       "      <td>서울</td>\n",
       "      <td>서울강북</td>\n",
       "      <td>2014-03-17</td>\n",
       "      <td>77.3</td>\n",
       "      <td>2014-03-17</td>\n",
       "      <td>0.05</td>\n",
       "    </tr>\n",
       "    <tr>\n",
       "      <th>3</th>\n",
       "      <td>서울</td>\n",
       "      <td>서울강북</td>\n",
       "      <td>2014-03-24</td>\n",
       "      <td>77.3</td>\n",
       "      <td>2014-03-24</td>\n",
       "      <td>0.03</td>\n",
       "    </tr>\n",
       "    <tr>\n",
       "      <th>4</th>\n",
       "      <td>서울</td>\n",
       "      <td>서울강북</td>\n",
       "      <td>2014-03-31</td>\n",
       "      <td>77.4</td>\n",
       "      <td>2014-03-31</td>\n",
       "      <td>0.02</td>\n",
       "    </tr>\n",
       "    <tr>\n",
       "      <th>...</th>\n",
       "      <td>...</td>\n",
       "      <td>...</td>\n",
       "      <td>...</td>\n",
       "      <td>...</td>\n",
       "      <td>...</td>\n",
       "      <td>...</td>\n",
       "    </tr>\n",
       "    <tr>\n",
       "      <th>35691</th>\n",
       "      <td>경기</td>\n",
       "      <td>김포</td>\n",
       "      <td>2021-07-05</td>\n",
       "      <td>134.2</td>\n",
       "      <td>2021-07-05</td>\n",
       "      <td>0.15</td>\n",
       "    </tr>\n",
       "    <tr>\n",
       "      <th>35692</th>\n",
       "      <td>경기</td>\n",
       "      <td>양주</td>\n",
       "      <td>2021-07-05</td>\n",
       "      <td>117.3</td>\n",
       "      <td>2021-07-05</td>\n",
       "      <td>0.46</td>\n",
       "    </tr>\n",
       "    <tr>\n",
       "      <th>35693</th>\n",
       "      <td>경기</td>\n",
       "      <td>동두천</td>\n",
       "      <td>2021-07-05</td>\n",
       "      <td>120.9</td>\n",
       "      <td>2021-07-05</td>\n",
       "      <td>0.54</td>\n",
       "    </tr>\n",
       "    <tr>\n",
       "      <th>35694</th>\n",
       "      <td>경기</td>\n",
       "      <td>광주</td>\n",
       "      <td>2021-07-05</td>\n",
       "      <td>125.8</td>\n",
       "      <td>2021-07-05</td>\n",
       "      <td>0.67</td>\n",
       "    </tr>\n",
       "    <tr>\n",
       "      <th>35695</th>\n",
       "      <td>경기</td>\n",
       "      <td>화성</td>\n",
       "      <td>2021-07-05</td>\n",
       "      <td>129.3</td>\n",
       "      <td>2021-07-05</td>\n",
       "      <td>0.58</td>\n",
       "    </tr>\n",
       "  </tbody>\n",
       "</table>\n",
       "<p>35696 rows × 6 columns</p>\n",
       "</div>"
      ],
      "text/plain": [
       "      b_region s_region      date_a  value1      date_b  value2\n",
       "0           서울     서울강북  2014-03-03    77.3  2014-03-03    0.05\n",
       "1           서울     서울강북  2014-03-10    77.3  2014-03-10    0.04\n",
       "2           서울     서울강북  2014-03-17    77.3  2014-03-17    0.05\n",
       "3           서울     서울강북  2014-03-24    77.3  2014-03-24    0.03\n",
       "4           서울     서울강북  2014-03-31    77.4  2014-03-31    0.02\n",
       "...        ...      ...         ...     ...         ...     ...\n",
       "35691       경기       김포  2021-07-05   134.2  2021-07-05    0.15\n",
       "35692       경기       양주  2021-07-05   117.3  2021-07-05    0.46\n",
       "35693       경기      동두천  2021-07-05   120.9  2021-07-05    0.54\n",
       "35694       경기       광주  2021-07-05   125.8  2021-07-05    0.67\n",
       "35695       경기       화성  2021-07-05   129.3  2021-07-05    0.58\n",
       "\n",
       "[35696 rows x 6 columns]"
      ]
     },
     "execution_count": 3,
     "metadata": {},
     "output_type": "execute_result"
    }
   ],
   "source": [
    "tmp_df"
   ]
  },
  {
   "cell_type": "code",
   "execution_count": null,
   "id": "8bbe899f",
   "metadata": {},
   "outputs": [],
   "source": []
  }
 ],
 "metadata": {
  "kernelspec": {
   "display_name": "simon_env",
   "language": "python",
   "name": "simon_env"
  },
  "language_info": {
   "codemirror_mode": {
    "name": "ipython",
    "version": 3
   },
   "file_extension": ".py",
   "mimetype": "text/x-python",
   "name": "python",
   "nbconvert_exporter": "python",
   "pygments_lexer": "ipython3",
   "version": "3.7.10"
  }
 },
 "nbformat": 4,
 "nbformat_minor": 5
}
