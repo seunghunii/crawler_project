{
 "cells": [
  {
   "cell_type": "code",
   "execution_count": 22,
   "id": "9a5510da",
   "metadata": {
    "ExecuteTime": {
     "end_time": "2021-07-12T01:30:01.900950Z",
     "start_time": "2021-07-12T01:30:01.885989Z"
    }
   },
   "outputs": [],
   "source": [
    "import pandas as pd\n",
    "from selenium import webdriver\n",
    "import numpy as np\n",
    "from bs4 import BeautifulSoup\n",
    "import re\n",
    "import requests\n",
    "from time import sleep\n",
    "import json\n",
    "import warnings\n",
    "warnings.filterwarnings('ignore')"
   ]
  },
  {
   "cell_type": "code",
   "execution_count": 23,
   "id": "0c2ed3a5",
   "metadata": {
    "ExecuteTime": {
     "end_time": "2021-07-12T01:30:01.916907Z",
     "start_time": "2021-07-12T01:30:01.901948Z"
    }
   },
   "outputs": [],
   "source": [
    "dir_for_shinhan = 'C:/Users/shic/Desktop/shinhan_simon/chromedriver/chromedriver.exe'\n",
    "dir_for_seunghun = 'C:/Users/rsh15/Desktop/seunghuni/selenium/chromedriver.exe'"
   ]
  },
  {
   "cell_type": "code",
   "execution_count": 24,
   "id": "67ac80db",
   "metadata": {
    "ExecuteTime": {
     "end_time": "2021-07-12T01:30:01.932864Z",
     "start_time": "2021-07-12T01:30:01.918901Z"
    }
   },
   "outputs": [],
   "source": [
    "region_code = pd.read_csv('C:/Users/shic/Desktop/crawler_project/data_save/kb_land/region_code.csv')"
   ]
  },
  {
   "cell_type": "code",
   "execution_count": 25,
   "id": "87d65a86",
   "metadata": {
    "ExecuteTime": {
     "end_time": "2021-07-12T01:30:01.947825Z",
     "start_time": "2021-07-12T01:30:01.933862Z"
    }
   },
   "outputs": [
    {
     "data": {
      "text/html": [
       "<div>\n",
       "<style scoped>\n",
       "    .dataframe tbody tr th:only-of-type {\n",
       "        vertical-align: middle;\n",
       "    }\n",
       "\n",
       "    .dataframe tbody tr th {\n",
       "        vertical-align: top;\n",
       "    }\n",
       "\n",
       "    .dataframe thead th {\n",
       "        text-align: right;\n",
       "    }\n",
       "</style>\n",
       "<table border=\"1\" class=\"dataframe\">\n",
       "  <thead>\n",
       "    <tr style=\"text-align: right;\">\n",
       "      <th></th>\n",
       "      <th>big_region_code</th>\n",
       "      <th>big_region_name</th>\n",
       "      <th>small_region_code</th>\n",
       "      <th>small_region_name</th>\n",
       "    </tr>\n",
       "  </thead>\n",
       "  <tbody>\n",
       "    <tr>\n",
       "      <th>0</th>\n",
       "      <td>1100000000</td>\n",
       "      <td>서울</td>\n",
       "      <td>1199000000</td>\n",
       "      <td>서울강북</td>\n",
       "    </tr>\n",
       "    <tr>\n",
       "      <th>1</th>\n",
       "      <td>1100000000</td>\n",
       "      <td>서울</td>\n",
       "      <td>1130500000</td>\n",
       "      <td>서울강북구</td>\n",
       "    </tr>\n",
       "    <tr>\n",
       "      <th>2</th>\n",
       "      <td>1100000000</td>\n",
       "      <td>서울</td>\n",
       "      <td>1121500000</td>\n",
       "      <td>서울광진구</td>\n",
       "    </tr>\n",
       "    <tr>\n",
       "      <th>3</th>\n",
       "      <td>1100000000</td>\n",
       "      <td>서울</td>\n",
       "      <td>1135000000</td>\n",
       "      <td>서울노원구</td>\n",
       "    </tr>\n",
       "    <tr>\n",
       "      <th>4</th>\n",
       "      <td>1100000000</td>\n",
       "      <td>서울</td>\n",
       "      <td>1132000000</td>\n",
       "      <td>서울도봉구</td>\n",
       "    </tr>\n",
       "  </tbody>\n",
       "</table>\n",
       "</div>"
      ],
      "text/plain": [
       "   big_region_code big_region_name  small_region_code small_region_name\n",
       "0       1100000000              서울         1199000000              서울강북\n",
       "1       1100000000              서울         1130500000             서울강북구\n",
       "2       1100000000              서울         1121500000             서울광진구\n",
       "3       1100000000              서울         1135000000             서울노원구\n",
       "4       1100000000              서울         1132000000             서울도봉구"
      ]
     },
     "execution_count": 25,
     "metadata": {},
     "output_type": "execute_result"
    }
   ],
   "source": [
    "region_code = region_code[region_code['big_region_name'].isin(['서울'])]\n",
    "region_code.head(5)"
   ]
  },
  {
   "cell_type": "code",
   "execution_count": 26,
   "id": "80958fc3",
   "metadata": {
    "ExecuteTime": {
     "end_time": "2021-07-12T01:30:03.494677Z",
     "start_time": "2021-07-12T01:30:01.948821Z"
    }
   },
   "outputs": [],
   "source": [
    "driver = webdriver.Chrome(dir_for_shinhan)\n",
    "driver.maximize_window()\n",
    "driver.refresh()\n"
   ]
  },
  {
   "cell_type": "code",
   "execution_count": 27,
   "id": "a87a1c83",
   "metadata": {
    "ExecuteTime": {
     "end_time": "2021-07-12T01:35:36.149206Z",
     "start_time": "2021-07-12T01:30:03.496673Z"
    }
   },
   "outputs": [],
   "source": [
    "kb_list = []\n",
    "base_url = 'https://onland.kbstar.com/quics?page=C060737&%EB%B2%95%EC%A0%95%EB%8F%99%EB%8C%80%EC%A7%80%EC%97%AD%EC%BD%94%EB%93%9C={}&%EB%B2%95%EC%A0%95%EB%8F%99%EC%A4%91%EC%A7%80%EC%97%AD%EC%BD%94%EB%93%9C={}&%EA%B8%B0%EC%A4%80%EB%85%84={}&%EA%B8%B0%EC%A4%80%EC%9B%94={}&QSL=F'\n",
    "\n",
    "for year in range(2020,2022):\n",
    "    year = str(year)\n",
    "    for month in range(1,13):\n",
    "        if int(month) < 10:\n",
    "            month = '0' + str(month)\n",
    "        else:\n",
    "            month = str(month)\n",
    "        for region in region_code.iterrows():\n",
    "            # format은 대지역 코드, 중지역 코드, 년, 월 순.\n",
    "            tmp_url = base_url.format(region[1]['big_region_code'],region[1]['small_region_code'],year,month)\n",
    "            \n",
    "            # URL 접속\n",
    "            driver.get(url = tmp_url) \n",
    "            \n",
    "            # 그래프의 데이터 가져오기\n",
    "            soup = BeautifulSoup(driver.page_source,'html.parser')\n",
    "            \n",
    "            aa = re.search('var graphYn1 = [$](.+?);',driver.page_source,re.S).group(1)\n",
    "            aa = aa.replace(\".trim('[\",\"\").replace(\"') == '' ? false: true\",\"\").replace('Date.UTC(','')\n",
    "            aa = aa.split('], [')\n",
    "            \n",
    "            date_list_aa = []\n",
    "            data_list_aa = []\n",
    "            for k in aa:\n",
    "                tmpp = k.split('),')\n",
    "                data_wrangle = tmpp[0].split(', ')\n",
    "                data_wrangle[1] = str(int(data_wrangle[1]) + 1)\n",
    "                \n",
    "                date_list_aa.append(','.join(data_wrangle))\n",
    "                data_list_aa.append(float(tmpp[1].replace(']','')))\n",
    "                \n",
    "            bb = re.search('var graphYn2 = [$](.+?);',driver.page_source,re.S).group(1)\n",
    "            bb = bb.replace(\".trim('[\",\"\").replace(\"') == '' ? false: true\",\"\").replace('Date.UTC(','')\n",
    "            bb = bb.split('], [')\n",
    "            \n",
    "            date_list_bb = []\n",
    "            data_list_bb = []\n",
    "            for k in bb:\n",
    "                tmpp = k.split('),')\n",
    "                data_wrangle = tmpp[0].split(', ')\n",
    "                data_wrangle[1] = str(int(data_wrangle[1]) + 1)\n",
    "                \n",
    "                date_list_bb.append(','.join(data_wrangle))\n",
    "                data_list_bb.append(float(tmpp[1].replace(']','').replace(',','')))\n",
    "                \n",
    "            kb_list.append(pd.DataFrame({\n",
    "                'b_region' : region[1]['big_region_name'],\n",
    "                's_region' : region[1]['small_region_name'],\n",
    "                'date_a'   : pd.to_datetime(date_list_aa,format='%Y,%m,%d'),\n",
    "                'value1'   : data_list_aa,\n",
    "                'date_b'   : pd.to_datetime(date_list_bb,format='%Y,%m,%d'),\n",
    "                'value2'   : data_list_bb\n",
    "            }))"
   ]
  },
  {
   "cell_type": "code",
   "execution_count": 30,
   "id": "6e3074d7",
   "metadata": {
    "ExecuteTime": {
     "end_time": "2021-07-12T01:41:54.465413Z",
     "start_time": "2021-07-12T01:41:54.156773Z"
    }
   },
   "outputs": [],
   "source": [
    "df = pd.concat(kb_list,axis=0).drop_duplicates()\n",
    "df['date_a'] = pd.to_datetime(df['date_a'],format='%Y-%m-%d')\n",
    "df['date_b'] = pd.to_datetime(df['date_b'],format='%Y-%m-%d')"
   ]
  },
  {
   "cell_type": "code",
   "execution_count": 31,
   "id": "ff3744c2",
   "metadata": {
    "ExecuteTime": {
     "end_time": "2021-07-12T01:41:55.163602Z",
     "start_time": "2021-07-12T01:41:55.135676Z"
    }
   },
   "outputs": [
    {
     "data": {
      "text/html": [
       "<div>\n",
       "<style scoped>\n",
       "    .dataframe tbody tr th:only-of-type {\n",
       "        vertical-align: middle;\n",
       "    }\n",
       "\n",
       "    .dataframe tbody tr th {\n",
       "        vertical-align: top;\n",
       "    }\n",
       "\n",
       "    .dataframe thead th {\n",
       "        text-align: right;\n",
       "    }\n",
       "</style>\n",
       "<table border=\"1\" class=\"dataframe\">\n",
       "  <thead>\n",
       "    <tr style=\"text-align: right;\">\n",
       "      <th></th>\n",
       "      <th>b_region</th>\n",
       "      <th>s_region</th>\n",
       "      <th>date_a</th>\n",
       "      <th>value1</th>\n",
       "      <th>date_b</th>\n",
       "      <th>value2</th>\n",
       "    </tr>\n",
       "  </thead>\n",
       "  <tbody>\n",
       "    <tr>\n",
       "      <th>0</th>\n",
       "      <td>서울</td>\n",
       "      <td>서울강북</td>\n",
       "      <td>2019-02-25</td>\n",
       "      <td>99.9</td>\n",
       "      <td>2019-02-25</td>\n",
       "      <td>-0.01</td>\n",
       "    </tr>\n",
       "    <tr>\n",
       "      <th>1</th>\n",
       "      <td>서울</td>\n",
       "      <td>서울강북</td>\n",
       "      <td>2019-03-04</td>\n",
       "      <td>99.9</td>\n",
       "      <td>2019-03-04</td>\n",
       "      <td>-0.02</td>\n",
       "    </tr>\n",
       "    <tr>\n",
       "      <th>2</th>\n",
       "      <td>서울</td>\n",
       "      <td>서울강북</td>\n",
       "      <td>2019-03-11</td>\n",
       "      <td>99.9</td>\n",
       "      <td>2019-03-11</td>\n",
       "      <td>-0.02</td>\n",
       "    </tr>\n",
       "    <tr>\n",
       "      <th>3</th>\n",
       "      <td>서울</td>\n",
       "      <td>서울강북</td>\n",
       "      <td>2019-03-18</td>\n",
       "      <td>99.9</td>\n",
       "      <td>2019-03-18</td>\n",
       "      <td>-0.01</td>\n",
       "    </tr>\n",
       "    <tr>\n",
       "      <th>4</th>\n",
       "      <td>서울</td>\n",
       "      <td>서울강북</td>\n",
       "      <td>2019-03-25</td>\n",
       "      <td>99.9</td>\n",
       "      <td>2019-03-25</td>\n",
       "      <td>-0.01</td>\n",
       "    </tr>\n",
       "    <tr>\n",
       "      <th>...</th>\n",
       "      <td>...</td>\n",
       "      <td>...</td>\n",
       "      <td>...</td>\n",
       "      <td>...</td>\n",
       "      <td>...</td>\n",
       "      <td>...</td>\n",
       "    </tr>\n",
       "    <tr>\n",
       "      <th>45</th>\n",
       "      <td>서울</td>\n",
       "      <td>서울동작구</td>\n",
       "      <td>2021-07-05</td>\n",
       "      <td>130.2</td>\n",
       "      <td>2021-07-05</td>\n",
       "      <td>0.18</td>\n",
       "    </tr>\n",
       "    <tr>\n",
       "      <th>45</th>\n",
       "      <td>서울</td>\n",
       "      <td>서울서초구</td>\n",
       "      <td>2021-07-05</td>\n",
       "      <td>119.1</td>\n",
       "      <td>2021-07-05</td>\n",
       "      <td>0.29</td>\n",
       "    </tr>\n",
       "    <tr>\n",
       "      <th>45</th>\n",
       "      <td>서울</td>\n",
       "      <td>서울송파구</td>\n",
       "      <td>2021-07-05</td>\n",
       "      <td>126.9</td>\n",
       "      <td>2021-07-05</td>\n",
       "      <td>0.24</td>\n",
       "    </tr>\n",
       "    <tr>\n",
       "      <th>45</th>\n",
       "      <td>서울</td>\n",
       "      <td>서울양천구</td>\n",
       "      <td>2021-07-05</td>\n",
       "      <td>130.2</td>\n",
       "      <td>2021-07-05</td>\n",
       "      <td>0.34</td>\n",
       "    </tr>\n",
       "    <tr>\n",
       "      <th>45</th>\n",
       "      <td>서울</td>\n",
       "      <td>서울영등포구</td>\n",
       "      <td>2021-07-05</td>\n",
       "      <td>129.3</td>\n",
       "      <td>2021-07-05</td>\n",
       "      <td>0.27</td>\n",
       "    </tr>\n",
       "  </tbody>\n",
       "</table>\n",
       "<p>3213 rows × 6 columns</p>\n",
       "</div>"
      ],
      "text/plain": [
       "   b_region s_region     date_a  value1     date_b  value2\n",
       "0        서울     서울강북 2019-02-25    99.9 2019-02-25   -0.01\n",
       "1        서울     서울강북 2019-03-04    99.9 2019-03-04   -0.02\n",
       "2        서울     서울강북 2019-03-11    99.9 2019-03-11   -0.02\n",
       "3        서울     서울강북 2019-03-18    99.9 2019-03-18   -0.01\n",
       "4        서울     서울강북 2019-03-25    99.9 2019-03-25   -0.01\n",
       "..      ...      ...        ...     ...        ...     ...\n",
       "45       서울    서울동작구 2021-07-05   130.2 2021-07-05    0.18\n",
       "45       서울    서울서초구 2021-07-05   119.1 2021-07-05    0.29\n",
       "45       서울    서울송파구 2021-07-05   126.9 2021-07-05    0.24\n",
       "45       서울    서울양천구 2021-07-05   130.2 2021-07-05    0.34\n",
       "45       서울   서울영등포구 2021-07-05   129.3 2021-07-05    0.27\n",
       "\n",
       "[3213 rows x 6 columns]"
      ]
     },
     "execution_count": 31,
     "metadata": {},
     "output_type": "execute_result"
    }
   ],
   "source": [
    "df"
   ]
  },
  {
   "cell_type": "code",
   "execution_count": null,
   "id": "3e00c90c",
   "metadata": {},
   "outputs": [],
   "source": []
  }
 ],
 "metadata": {
  "kernelspec": {
   "display_name": "simon_env",
   "language": "python",
   "name": "simon_env"
  },
  "language_info": {
   "codemirror_mode": {
    "name": "ipython",
    "version": 3
   },
   "file_extension": ".py",
   "mimetype": "text/x-python",
   "name": "python",
   "nbconvert_exporter": "python",
   "pygments_lexer": "ipython3",
   "version": "3.7.10"
  }
 },
 "nbformat": 4,
 "nbformat_minor": 5
}
