{
 "cells": [
  {
   "cell_type": "code",
   "execution_count": 2,
   "id": "2aae3522",
   "metadata": {
    "ExecuteTime": {
     "end_time": "2021-07-12T00:43:39.691097Z",
     "start_time": "2021-07-12T00:43:39.006754Z"
    }
   },
   "outputs": [],
   "source": [
    "from selenium import webdriver\n",
    "import pandas as pd\n",
    "import numpy as np\n",
    "from bs4 import BeautifulSoup"
   ]
  },
  {
   "cell_type": "code",
   "execution_count": 3,
   "id": "ed63f314",
   "metadata": {
    "ExecuteTime": {
     "end_time": "2021-07-12T00:43:39.706540Z",
     "start_time": "2021-07-12T00:43:39.692096Z"
    }
   },
   "outputs": [],
   "source": [
    "urll = 'https://onland.kbstar.com/quics?page=C060737'"
   ]
  },
  {
   "cell_type": "code",
   "execution_count": 4,
   "id": "c5b4ea0d",
   "metadata": {
    "ExecuteTime": {
     "end_time": "2021-07-12T00:43:39.722565Z",
     "start_time": "2021-07-12T00:43:39.707542Z"
    }
   },
   "outputs": [],
   "source": [
    "dir_for_shinhan = 'C:/Users/shic/Desktop/shinhan_simon/chromedriver/chromedriver.exe'\n",
    "dir_for_seunghun = 'C:/Users/rsh15/Desktop/seunghuni/selenium/chromedriver.exe'"
   ]
  },
  {
   "cell_type": "code",
   "execution_count": 5,
   "id": "0be4eb6e",
   "metadata": {
    "ExecuteTime": {
     "end_time": "2021-07-12T00:43:41.219086Z",
     "start_time": "2021-07-12T00:43:39.723503Z"
    }
   },
   "outputs": [],
   "source": [
    "driver = webdriver.Chrome(dir_for_shinhan)\n",
    "driver.maximize_window()\n",
    "driver.refresh()"
   ]
  },
  {
   "cell_type": "code",
   "execution_count": 6,
   "id": "43a2e483",
   "metadata": {
    "ExecuteTime": {
     "end_time": "2021-07-12T00:43:43.158698Z",
     "start_time": "2021-07-12T00:43:41.221078Z"
    }
   },
   "outputs": [],
   "source": [
    "driver.get(urll)"
   ]
  },
  {
   "cell_type": "code",
   "execution_count": 7,
   "id": "582f4a47",
   "metadata": {
    "ExecuteTime": {
     "end_time": "2021-07-12T00:43:43.357170Z",
     "start_time": "2021-07-12T00:43:43.159695Z"
    }
   },
   "outputs": [
    {
     "data": {
      "text/html": [
       "<div>\n",
       "<style scoped>\n",
       "    .dataframe tbody tr th:only-of-type {\n",
       "        vertical-align: middle;\n",
       "    }\n",
       "\n",
       "    .dataframe tbody tr th {\n",
       "        vertical-align: top;\n",
       "    }\n",
       "\n",
       "    .dataframe thead th {\n",
       "        text-align: right;\n",
       "    }\n",
       "</style>\n",
       "<table border=\"1\" class=\"dataframe\">\n",
       "  <thead>\n",
       "    <tr style=\"text-align: right;\">\n",
       "      <th></th>\n",
       "      <th>big_region_code</th>\n",
       "      <th>big_region_name</th>\n",
       "    </tr>\n",
       "  </thead>\n",
       "  <tbody>\n",
       "    <tr>\n",
       "      <th>0</th>\n",
       "      <td>9800000000</td>\n",
       "      <td>전국</td>\n",
       "    </tr>\n",
       "    <tr>\n",
       "      <th>1</th>\n",
       "      <td>1100000000</td>\n",
       "      <td>서울</td>\n",
       "    </tr>\n",
       "    <tr>\n",
       "      <th>2</th>\n",
       "      <td>4100000000</td>\n",
       "      <td>경기</td>\n",
       "    </tr>\n",
       "    <tr>\n",
       "      <th>3</th>\n",
       "      <td>2800000000</td>\n",
       "      <td>인천</td>\n",
       "    </tr>\n",
       "    <tr>\n",
       "      <th>4</th>\n",
       "      <td>9803000000</td>\n",
       "      <td>수도권</td>\n",
       "    </tr>\n",
       "    <tr>\n",
       "      <th>5</th>\n",
       "      <td>2600000000</td>\n",
       "      <td>부산</td>\n",
       "    </tr>\n",
       "    <tr>\n",
       "      <th>6</th>\n",
       "      <td>2700000000</td>\n",
       "      <td>대구</td>\n",
       "    </tr>\n",
       "    <tr>\n",
       "      <th>7</th>\n",
       "      <td>2900000000</td>\n",
       "      <td>광주</td>\n",
       "    </tr>\n",
       "    <tr>\n",
       "      <th>8</th>\n",
       "      <td>3000000000</td>\n",
       "      <td>대전</td>\n",
       "    </tr>\n",
       "    <tr>\n",
       "      <th>9</th>\n",
       "      <td>3100000000</td>\n",
       "      <td>울산</td>\n",
       "    </tr>\n",
       "    <tr>\n",
       "      <th>10</th>\n",
       "      <td>9802000000</td>\n",
       "      <td>5개광역시</td>\n",
       "    </tr>\n",
       "    <tr>\n",
       "      <th>11</th>\n",
       "      <td>9801000000</td>\n",
       "      <td>6개광역시</td>\n",
       "    </tr>\n",
       "    <tr>\n",
       "      <th>12</th>\n",
       "      <td>3611000000</td>\n",
       "      <td>세종</td>\n",
       "    </tr>\n",
       "    <tr>\n",
       "      <th>13</th>\n",
       "      <td>4200000000</td>\n",
       "      <td>강원</td>\n",
       "    </tr>\n",
       "    <tr>\n",
       "      <th>14</th>\n",
       "      <td>4300000000</td>\n",
       "      <td>충북</td>\n",
       "    </tr>\n",
       "    <tr>\n",
       "      <th>15</th>\n",
       "      <td>4400000000</td>\n",
       "      <td>충남</td>\n",
       "    </tr>\n",
       "    <tr>\n",
       "      <th>16</th>\n",
       "      <td>4500000000</td>\n",
       "      <td>전북</td>\n",
       "    </tr>\n",
       "    <tr>\n",
       "      <th>17</th>\n",
       "      <td>4600000000</td>\n",
       "      <td>전남</td>\n",
       "    </tr>\n",
       "    <tr>\n",
       "      <th>18</th>\n",
       "      <td>4700000000</td>\n",
       "      <td>경북</td>\n",
       "    </tr>\n",
       "    <tr>\n",
       "      <th>19</th>\n",
       "      <td>4800000000</td>\n",
       "      <td>경남</td>\n",
       "    </tr>\n",
       "    <tr>\n",
       "      <th>20</th>\n",
       "      <td>5000000000</td>\n",
       "      <td>제주/서귀포</td>\n",
       "    </tr>\n",
       "    <tr>\n",
       "      <th>21</th>\n",
       "      <td>9804000000</td>\n",
       "      <td>기타지방</td>\n",
       "    </tr>\n",
       "  </tbody>\n",
       "</table>\n",
       "</div>"
      ],
      "text/plain": [
       "   big_region_code big_region_name\n",
       "0       9800000000              전국\n",
       "1       1100000000              서울\n",
       "2       4100000000              경기\n",
       "3       2800000000              인천\n",
       "4       9803000000             수도권\n",
       "5       2600000000              부산\n",
       "6       2700000000              대구\n",
       "7       2900000000              광주\n",
       "8       3000000000              대전\n",
       "9       3100000000              울산\n",
       "10      9802000000           5개광역시\n",
       "11      9801000000           6개광역시\n",
       "12      3611000000              세종\n",
       "13      4200000000              강원\n",
       "14      4300000000              충북\n",
       "15      4400000000              충남\n",
       "16      4500000000              전북\n",
       "17      4600000000              전남\n",
       "18      4700000000              경북\n",
       "19      4800000000              경남\n",
       "20      5000000000          제주/서귀포\n",
       "21      9804000000            기타지방"
      ]
     },
     "execution_count": 7,
     "metadata": {},
     "output_type": "execute_result"
    }
   ],
   "source": [
    "big_region_code = []\n",
    "big_region_name = []\n",
    "\n",
    "select_big_region = driver.find_element_by_id('법정동대지역코드')\n",
    "options = [x for x in select_big_region.find_elements_by_tag_name('option')]\n",
    "for element in options:\n",
    "    big_region_code.append(element.get_attribute('value'))\n",
    "    big_region_name.append(element.get_attribute('text'))\n",
    "    \n",
    "big_region_data = pd.DataFrame({\n",
    "    'big_region_code' : big_region_code,\n",
    "    'big_region_name' : big_region_name\n",
    "})\n",
    "big_region_data"
   ]
  },
  {
   "cell_type": "code",
   "execution_count": 8,
   "id": "02b03f6e",
   "metadata": {
    "ExecuteTime": {
     "end_time": "2021-07-12T00:43:53.003525Z",
     "start_time": "2021-07-12T00:43:43.358168Z"
    }
   },
   "outputs": [],
   "source": [
    "small_region_code = []\n",
    "small_region_name = []\n",
    "big_region_url = 'https://onland.kbstar.com/quics?page=C060737&%EB%B2%95%EC%A0%95%EB%8F%99%EB%8C%80%EC%A7%80%EC%97%AD%EC%BD%94%EB%93%9C={}'\n",
    "\n",
    "small_region_list = []\n",
    "for big_region in big_region_data.iterrows():\n",
    "\n",
    "    driver.get(big_region_url.format(str(big_region[1]['big_region_code'])))\n",
    "    select_small_region = driver.find_element_by_id('법정동중지역코드')\n",
    "    options = [x for x in select_small_region.find_elements_by_tag_name('option')]\n",
    "    for small_element in options:\n",
    "        small_region_code.append(small_element.get_attribute('value'))\n",
    "        small_region_name.append(small_element.get_attribute('text'))\n",
    "\n",
    "    small_region_tmp = pd.DataFrame({\n",
    "        'big_region_code'   : big_region[1]['big_region_code'],\n",
    "        'big_region_name'   : big_region[1]['big_region_name'],\n",
    "        'small_region_code' : small_region_code,\n",
    "        'small_region_name' : small_region_name\n",
    "    })\n",
    "    small_region_list.append(small_region_tmp)"
   ]
  },
  {
   "cell_type": "code",
   "execution_count": 9,
   "id": "b6025bca",
   "metadata": {
    "ExecuteTime": {
     "end_time": "2021-07-12T00:43:53.019484Z",
     "start_time": "2021-07-12T00:43:53.004524Z"
    }
   },
   "outputs": [
    {
     "data": {
      "text/html": [
       "<div>\n",
       "<style scoped>\n",
       "    .dataframe tbody tr th:only-of-type {\n",
       "        vertical-align: middle;\n",
       "    }\n",
       "\n",
       "    .dataframe tbody tr th {\n",
       "        vertical-align: top;\n",
       "    }\n",
       "\n",
       "    .dataframe thead th {\n",
       "        text-align: right;\n",
       "    }\n",
       "</style>\n",
       "<table border=\"1\" class=\"dataframe\">\n",
       "  <thead>\n",
       "    <tr style=\"text-align: right;\">\n",
       "      <th></th>\n",
       "      <th>big_region_code</th>\n",
       "      <th>big_region_name</th>\n",
       "      <th>small_region_code</th>\n",
       "      <th>small_region_name</th>\n",
       "    </tr>\n",
       "  </thead>\n",
       "  <tbody>\n",
       "    <tr>\n",
       "      <th>2</th>\n",
       "      <td>1100000000</td>\n",
       "      <td>서울</td>\n",
       "      <td>1199000000</td>\n",
       "      <td>서울강북</td>\n",
       "    </tr>\n",
       "    <tr>\n",
       "      <th>3</th>\n",
       "      <td>1100000000</td>\n",
       "      <td>서울</td>\n",
       "      <td>1130500000</td>\n",
       "      <td>서울강북구</td>\n",
       "    </tr>\n",
       "    <tr>\n",
       "      <th>4</th>\n",
       "      <td>1100000000</td>\n",
       "      <td>서울</td>\n",
       "      <td>1121500000</td>\n",
       "      <td>서울광진구</td>\n",
       "    </tr>\n",
       "    <tr>\n",
       "      <th>5</th>\n",
       "      <td>1100000000</td>\n",
       "      <td>서울</td>\n",
       "      <td>1135000000</td>\n",
       "      <td>서울노원구</td>\n",
       "    </tr>\n",
       "    <tr>\n",
       "      <th>6</th>\n",
       "      <td>1100000000</td>\n",
       "      <td>서울</td>\n",
       "      <td>1132000000</td>\n",
       "      <td>서울도봉구</td>\n",
       "    </tr>\n",
       "    <tr>\n",
       "      <th>...</th>\n",
       "      <td>...</td>\n",
       "      <td>...</td>\n",
       "      <td>...</td>\n",
       "      <td>...</td>\n",
       "    </tr>\n",
       "    <tr>\n",
       "      <th>196</th>\n",
       "      <td>9804000000</td>\n",
       "      <td>기타지방</td>\n",
       "      <td>4833000000</td>\n",
       "      <td>양산</td>\n",
       "    </tr>\n",
       "    <tr>\n",
       "      <th>197</th>\n",
       "      <td>9804000000</td>\n",
       "      <td>기타지방</td>\n",
       "      <td>4831000000</td>\n",
       "      <td>거제</td>\n",
       "    </tr>\n",
       "    <tr>\n",
       "      <th>198</th>\n",
       "      <td>9804000000</td>\n",
       "      <td>기타지방</td>\n",
       "      <td>4817000000</td>\n",
       "      <td>진주</td>\n",
       "    </tr>\n",
       "    <tr>\n",
       "      <th>199</th>\n",
       "      <td>9804000000</td>\n",
       "      <td>기타지방</td>\n",
       "      <td>4825000000</td>\n",
       "      <td>김해</td>\n",
       "    </tr>\n",
       "    <tr>\n",
       "      <th>200</th>\n",
       "      <td>9804000000</td>\n",
       "      <td>기타지방</td>\n",
       "      <td>4822000000</td>\n",
       "      <td>통영</td>\n",
       "    </tr>\n",
       "  </tbody>\n",
       "</table>\n",
       "<p>2536 rows × 4 columns</p>\n",
       "</div>"
      ],
      "text/plain": [
       "    big_region_code big_region_name small_region_code small_region_name\n",
       "2        1100000000              서울        1199000000              서울강북\n",
       "3        1100000000              서울        1130500000             서울강북구\n",
       "4        1100000000              서울        1121500000             서울광진구\n",
       "5        1100000000              서울        1135000000             서울노원구\n",
       "6        1100000000              서울        1132000000             서울도봉구\n",
       "..              ...             ...               ...               ...\n",
       "196      9804000000            기타지방        4833000000                양산\n",
       "197      9804000000            기타지방        4831000000                거제\n",
       "198      9804000000            기타지방        4817000000                진주\n",
       "199      9804000000            기타지방        4825000000                김해\n",
       "200      9804000000            기타지방        4822000000                통영\n",
       "\n",
       "[2536 rows x 4 columns]"
      ]
     },
     "execution_count": 9,
     "metadata": {},
     "output_type": "execute_result"
    }
   ],
   "source": [
    "small_region_data = pd.concat(small_region_list,axis=0)\n",
    "small_region_data = small_region_data[small_region_data['small_region_code']!='']\n",
    "small_region_data"
   ]
  },
  {
   "cell_type": "code",
   "execution_count": 10,
   "id": "9c5caad5",
   "metadata": {
    "ExecuteTime": {
     "end_time": "2021-07-12T00:43:53.034471Z",
     "start_time": "2021-07-12T00:43:53.020480Z"
    }
   },
   "outputs": [],
   "source": [
    "save_dir_for_shinhan = 'C:/Users/shic/Desktop/crawler_project/data_save/kb_land'"
   ]
  },
  {
   "cell_type": "code",
   "execution_count": 11,
   "id": "62783b10",
   "metadata": {
    "ExecuteTime": {
     "end_time": "2021-07-12T00:43:53.049986Z",
     "start_time": "2021-07-12T00:43:53.035470Z"
    }
   },
   "outputs": [],
   "source": [
    "#small_region_data.to_csv(save_dir_for_shinhan + '/region_code.csv',index=False)"
   ]
  }
 ],
 "metadata": {
  "kernelspec": {
   "display_name": "simon_env",
   "language": "python",
   "name": "simon_env"
  },
  "language_info": {
   "codemirror_mode": {
    "name": "ipython",
    "version": 3
   },
   "file_extension": ".py",
   "mimetype": "text/x-python",
   "name": "python",
   "nbconvert_exporter": "python",
   "pygments_lexer": "ipython3",
   "version": "3.7.10"
  }
 },
 "nbformat": 4,
 "nbformat_minor": 5
}
