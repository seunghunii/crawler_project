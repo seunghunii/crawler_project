{
 "cells": [
  {
   "cell_type": "code",
   "execution_count": 1,
   "metadata": {
    "ExecuteTime": {
     "end_time": "2021-07-26T23:52:10.488176Z",
     "start_time": "2021-07-26T23:52:08.629317Z"
    }
   },
   "outputs": [],
   "source": [
    "import pandas as pd\n",
    "from selenium import webdriver\n",
    "import numpy as np\n",
    "from bs4 import BeautifulSoup\n",
    "import re\n",
    "import requests\n",
    "from time import sleep\n",
    "import json\n",
    "import warnings\n",
    "warnings.filterwarnings('ignore')"
   ]
  },
  {
   "cell_type": "code",
   "execution_count": 3,
   "metadata": {
    "ExecuteTime": {
     "end_time": "2021-07-26T23:53:03.383994Z",
     "start_time": "2021-07-26T23:52:51.652425Z"
    }
   },
   "outputs": [],
   "source": [
    "dirr  = 'C:/Users/shic/Desktop/kb_land_req_text.csv'\n",
    "dataa = pd.read_csv(dirr).reset_index(drop=True)"
   ]
  },
  {
   "cell_type": "code",
   "execution_count": 4,
   "metadata": {
    "ExecuteTime": {
     "end_time": "2021-07-26T23:53:03.445849Z",
     "start_time": "2021-07-26T23:53:03.420889Z"
    }
   },
   "outputs": [
    {
     "data": {
      "text/html": [
       "<div>\n",
       "<style scoped>\n",
       "    .dataframe tbody tr th:only-of-type {\n",
       "        vertical-align: middle;\n",
       "    }\n",
       "\n",
       "    .dataframe tbody tr th {\n",
       "        vertical-align: top;\n",
       "    }\n",
       "\n",
       "    .dataframe thead th {\n",
       "        text-align: right;\n",
       "    }\n",
       "</style>\n",
       "<table border=\"1\" class=\"dataframe\">\n",
       "  <thead>\n",
       "    <tr style=\"text-align: right;\">\n",
       "      <th></th>\n",
       "      <th>year</th>\n",
       "      <th>month</th>\n",
       "      <th>region_b</th>\n",
       "      <th>region_s</th>\n",
       "      <th>req_text</th>\n",
       "    </tr>\n",
       "  </thead>\n",
       "  <tbody>\n",
       "    <tr>\n",
       "      <th>0</th>\n",
       "      <td>2012</td>\n",
       "      <td>1</td>\n",
       "      <td>서울</td>\n",
       "      <td>서울강북</td>\n",
       "      <td>&lt;!doctype html&gt;\\r\\n\\r\\n&lt;html lang=\"ko\"&gt;\\r\\n&lt;he...</td>\n",
       "    </tr>\n",
       "    <tr>\n",
       "      <th>1</th>\n",
       "      <td>2012</td>\n",
       "      <td>1</td>\n",
       "      <td>서울</td>\n",
       "      <td>서울강북구</td>\n",
       "      <td>&lt;!doctype html&gt;\\r\\n\\r\\n&lt;html lang=\"ko\"&gt;\\r\\n&lt;he...</td>\n",
       "    </tr>\n",
       "    <tr>\n",
       "      <th>2</th>\n",
       "      <td>2012</td>\n",
       "      <td>1</td>\n",
       "      <td>서울</td>\n",
       "      <td>서울광진구</td>\n",
       "      <td>&lt;!doctype html&gt;\\r\\n\\r\\n&lt;html lang=\"ko\"&gt;\\r\\n&lt;he...</td>\n",
       "    </tr>\n",
       "    <tr>\n",
       "      <th>3</th>\n",
       "      <td>2012</td>\n",
       "      <td>1</td>\n",
       "      <td>서울</td>\n",
       "      <td>서울노원구</td>\n",
       "      <td>&lt;!doctype html&gt;\\r\\n\\r\\n&lt;html lang=\"ko\"&gt;\\r\\n&lt;he...</td>\n",
       "    </tr>\n",
       "    <tr>\n",
       "      <th>4</th>\n",
       "      <td>2012</td>\n",
       "      <td>1</td>\n",
       "      <td>서울</td>\n",
       "      <td>서울도봉구</td>\n",
       "      <td>&lt;!doctype html&gt;\\r\\n\\r\\n&lt;html lang=\"ko\"&gt;\\r\\n&lt;he...</td>\n",
       "    </tr>\n",
       "    <tr>\n",
       "      <th>...</th>\n",
       "      <td>...</td>\n",
       "      <td>...</td>\n",
       "      <td>...</td>\n",
       "      <td>...</td>\n",
       "      <td>...</td>\n",
       "    </tr>\n",
       "    <tr>\n",
       "      <th>18577</th>\n",
       "      <td>2021</td>\n",
       "      <td>6</td>\n",
       "      <td>경남</td>\n",
       "      <td>양산</td>\n",
       "      <td>&lt;!doctype html&gt;\\r\\n\\r\\n&lt;html lang=\"ko\"&gt;\\r\\n&lt;he...</td>\n",
       "    </tr>\n",
       "    <tr>\n",
       "      <th>18578</th>\n",
       "      <td>2021</td>\n",
       "      <td>6</td>\n",
       "      <td>경남</td>\n",
       "      <td>거제</td>\n",
       "      <td>&lt;!doctype html&gt;\\r\\n\\r\\n&lt;html lang=\"ko\"&gt;\\r\\n&lt;he...</td>\n",
       "    </tr>\n",
       "    <tr>\n",
       "      <th>18579</th>\n",
       "      <td>2021</td>\n",
       "      <td>6</td>\n",
       "      <td>경남</td>\n",
       "      <td>진주</td>\n",
       "      <td>&lt;!doctype html&gt;\\r\\n\\r\\n&lt;html lang=\"ko\"&gt;\\r\\n&lt;he...</td>\n",
       "    </tr>\n",
       "    <tr>\n",
       "      <th>18580</th>\n",
       "      <td>2021</td>\n",
       "      <td>6</td>\n",
       "      <td>경남</td>\n",
       "      <td>김해</td>\n",
       "      <td>&lt;!doctype html&gt;\\r\\n\\r\\n&lt;html lang=\"ko\"&gt;\\r\\n&lt;he...</td>\n",
       "    </tr>\n",
       "    <tr>\n",
       "      <th>18581</th>\n",
       "      <td>2021</td>\n",
       "      <td>6</td>\n",
       "      <td>경남</td>\n",
       "      <td>통영</td>\n",
       "      <td>&lt;!doctype html&gt;\\r\\n\\r\\n&lt;html lang=\"ko\"&gt;\\r\\n&lt;he...</td>\n",
       "    </tr>\n",
       "  </tbody>\n",
       "</table>\n",
       "<p>18582 rows × 5 columns</p>\n",
       "</div>"
      ],
      "text/plain": [
       "       year  month region_b region_s  \\\n",
       "0      2012      1       서울     서울강북   \n",
       "1      2012      1       서울    서울강북구   \n",
       "2      2012      1       서울    서울광진구   \n",
       "3      2012      1       서울    서울노원구   \n",
       "4      2012      1       서울    서울도봉구   \n",
       "...     ...    ...      ...      ...   \n",
       "18577  2021      6       경남       양산   \n",
       "18578  2021      6       경남       거제   \n",
       "18579  2021      6       경남       진주   \n",
       "18580  2021      6       경남       김해   \n",
       "18581  2021      6       경남       통영   \n",
       "\n",
       "                                                req_text  \n",
       "0      <!doctype html>\\r\\n\\r\\n<html lang=\"ko\">\\r\\n<he...  \n",
       "1      <!doctype html>\\r\\n\\r\\n<html lang=\"ko\">\\r\\n<he...  \n",
       "2      <!doctype html>\\r\\n\\r\\n<html lang=\"ko\">\\r\\n<he...  \n",
       "3      <!doctype html>\\r\\n\\r\\n<html lang=\"ko\">\\r\\n<he...  \n",
       "4      <!doctype html>\\r\\n\\r\\n<html lang=\"ko\">\\r\\n<he...  \n",
       "...                                                  ...  \n",
       "18577  <!doctype html>\\r\\n\\r\\n<html lang=\"ko\">\\r\\n<he...  \n",
       "18578  <!doctype html>\\r\\n\\r\\n<html lang=\"ko\">\\r\\n<he...  \n",
       "18579  <!doctype html>\\r\\n\\r\\n<html lang=\"ko\">\\r\\n<he...  \n",
       "18580  <!doctype html>\\r\\n\\r\\n<html lang=\"ko\">\\r\\n<he...  \n",
       "18581  <!doctype html>\\r\\n\\r\\n<html lang=\"ko\">\\r\\n<he...  \n",
       "\n",
       "[18582 rows x 5 columns]"
      ]
     },
     "execution_count": 4,
     "metadata": {},
     "output_type": "execute_result"
    }
   ],
   "source": [
    "dataa"
   ]
  },
  {
   "cell_type": "code",
   "execution_count": 5,
   "metadata": {
    "ExecuteTime": {
     "end_time": "2021-07-26T23:53:03.477736Z",
     "start_time": "2021-07-26T23:53:03.462776Z"
    }
   },
   "outputs": [
    {
     "data": {
      "text/plain": [
       "0        <!doctype html>\\r\\n\\r\\n<html lang=\"ko\">\\r\\n<he...\n",
       "1        <!doctype html>\\r\\n\\r\\n<html lang=\"ko\">\\r\\n<he...\n",
       "2        <!doctype html>\\r\\n\\r\\n<html lang=\"ko\">\\r\\n<he...\n",
       "3        <!doctype html>\\r\\n\\r\\n<html lang=\"ko\">\\r\\n<he...\n",
       "4        <!doctype html>\\r\\n\\r\\n<html lang=\"ko\">\\r\\n<he...\n",
       "                               ...                        \n",
       "18577    <!doctype html>\\r\\n\\r\\n<html lang=\"ko\">\\r\\n<he...\n",
       "18578    <!doctype html>\\r\\n\\r\\n<html lang=\"ko\">\\r\\n<he...\n",
       "18579    <!doctype html>\\r\\n\\r\\n<html lang=\"ko\">\\r\\n<he...\n",
       "18580    <!doctype html>\\r\\n\\r\\n<html lang=\"ko\">\\r\\n<he...\n",
       "18581    <!doctype html>\\r\\n\\r\\n<html lang=\"ko\">\\r\\n<he...\n",
       "Name: req_text, Length: 18582, dtype: object"
      ]
     },
     "execution_count": 5,
     "metadata": {},
     "output_type": "execute_result"
    }
   ],
   "source": [
    "dataa['req_text']"
   ]
  },
  {
   "cell_type": "code",
   "execution_count": 6,
   "metadata": {
    "ExecuteTime": {
     "end_time": "2021-07-26T23:53:03.508512Z",
     "start_time": "2021-07-26T23:53:03.493885Z"
    }
   },
   "outputs": [],
   "source": [
    "def data_from_graph1(datum):\n",
    "    tmp_list = []\n",
    "    search_graph1 = re.search('var graphYn1 = [$](.+?);',datum[1]['req_text'],re.S)\n",
    "    \n",
    "    if search_graph1 is None:\n",
    "        return_df_without_data = pd.DataFrame({\n",
    "            'year'     : datum[1]['year'],\n",
    "            'month'    : datum[1]['month'],\n",
    "            'region_b' : datum[1]['region_b'],\n",
    "            'region_s' : datum[1]['region_s'],\n",
    "            'ref_date' : 0,\n",
    "            'jisu_v'   : 0,\n",
    "            'jisu_d'   : 0\n",
    "        },index=[0])\n",
    "        \n",
    "        tmp_list.append(return_df_without_data)\n",
    "    \n",
    "    else:\n",
    "        \n",
    "        jisu_split = search_graph1.group(1)\n",
    "        jisu_split = jisu_split.replace(\".trim('[\",\"\").replace(\"') == '' ? false: true\",\"\").replace('Date.UTC(','')\n",
    "        jisu_split = jisu_split.split('], [')\n",
    "    \n",
    "        date_list_jisu = []\n",
    "        data_list_jisu = []\n",
    "    \n",
    "        for jisu in jisu_split:\n",
    "            jisu_parser = jisu.split('), ')\n",
    "\n",
    "            jisu_date_parser = jisu_parser[0].replace(' ','').split(',')\n",
    "\n",
    "            date_list_jisu.append(','.join([\n",
    "                jisu_date_parser[0],\n",
    "                str(int(jisu_date_parser[1]) + 1),\n",
    "                jisu_date_parser[2]]))\n",
    "            \n",
    "            data_list_jisu.append(jisu_parser[1].replace(']','').replace(',',''))\n",
    "        \n",
    "        ref_date = re.search('<p class=\"date\">(.+?)</p>',datum[1]['req_text'])[0]\n",
    "        ref_date = re.sub('<.*?>','',ref_date,re.S)\n",
    "        \n",
    "        return_df_with_data = pd.DataFrame({\n",
    "            'year'     : datum[1]['year'],\n",
    "            'month'    : datum[1]['month'],\n",
    "            'region_b' : datum[1]['region_b'],\n",
    "            'region_s' : datum[1]['region_s'],\n",
    "            'ref_date' : ref_date,\n",
    "            'jisu_v'   : data_list_jisu,\n",
    "            'jisu_d'   : date_list_jisu \n",
    "        })\n",
    "        tmp_list.append(return_df_with_data)"
   ]
  },
  {
   "cell_type": "code",
   "execution_count": 52,
   "metadata": {
    "ExecuteTime": {
     "end_time": "2021-07-27T00:25:47.700177Z",
     "start_time": "2021-07-27T00:25:30.383613Z"
    }
   },
   "outputs": [],
   "source": [
    "def data_from_graph2(datum):\n",
    "    tmp_list2 = []\n",
    "    search_graph2_a = re.search('var graphYn2 = [$](.+?);',datum[1]['req_text'],re.S)\n",
    "    search_graph2_b = re.search(\"var graphYn2 = [$].trim\\(.{1,2}\\)\", datum[1]['req_text'], re.S)\n",
    "    \n",
    "    if (search_graph2_a is None) or (search_graph2_b is not None):\n",
    "        return_df_without_data = pd.DataFrame({\n",
    "            'year'     : datum[1]['year'],\n",
    "            'month'    : datum[1]['month'],\n",
    "            'region_b' : datum[1]['region_b'],\n",
    "            'region_s' : datum[1]['region_s'],\n",
    "            'ref_date' : 0,\n",
    "            'rate_v'   : 0,\n",
    "            'rate_d'   : 0\n",
    "        },index=[0])\n",
    "        \n",
    "        tmp_list2.append(return_df_without_data)\n",
    "    \n",
    "    else:\n",
    "    \n",
    "        rate_split = re.search('var graphYn2 = [$](.+?);', datum[1]['req_text'], re.S).group(1)\n",
    "        rate_split = rate_split.replace(\".trim('[\", \"\").replace(\"') == '' ? false: true\", \"\").replace('Date.UTC(', '')\n",
    "        rate_split = rate_split.split('], [')\n",
    "        \n",
    "        date_list_rate = []\n",
    "        data_list_rate = []\n",
    "        \n",
    "        for rate in rate_split:\n",
    "            rate_parser = rate.split('), ')\n",
    "\n",
    "            rate_date_parser = rate_parser[0].replace(' ','').split(',')\n",
    "\n",
    "            date_list_rate.append(','.join([\n",
    "                rate_date_parser[0],\n",
    "                str(int(rate_date_parser[1]) + 1),\n",
    "                rate_date_parser[2]]))\n",
    "            \n",
    "            data_list_rate.append(rate_parser[1].replace(']','').replace(',',''))\n",
    "            \n",
    "        ref_date = re.search('<p class=\"date\">(.+?)</p>',datum[1]['req_text'])[0]\n",
    "        ref_date = re.sub('<.*?>','',ref_date,re.S)\n",
    "        \n",
    "        return_df_with_data = pd.DataFrame({\n",
    "            'year'     : datum[1]['year'],\n",
    "            'month'    : datum[1]['month'],\n",
    "            'region_b' : datum[1]['region_b'],\n",
    "            'region_s' : datum[1]['region_s'],\n",
    "            'ref_date' : ref_date,\n",
    "            'rate_v'   : data_list_rate,\n",
    "            'rate_d'   : date_list_rate\n",
    "        })\n",
    "        \n",
    "        tmp_list2.append(return_df_with_data)\n",
    "                "
   ]
  },
  {
   "cell_type": "code",
   "execution_count": null,
   "metadata": {},
   "outputs": [],
   "source": []
  }
 ],
 "metadata": {
  "kernelspec": {
   "display_name": "simon_env",
   "language": "python",
   "name": "simon_env"
  },
  "language_info": {
   "codemirror_mode": {
    "name": "ipython",
    "version": 3
   },
   "file_extension": ".py",
   "mimetype": "text/x-python",
   "name": "python",
   "nbconvert_exporter": "python",
   "pygments_lexer": "ipython3",
   "version": "3.7.10"
  },
  "toc": {
   "base_numbering": 1,
   "nav_menu": {},
   "number_sections": true,
   "sideBar": true,
   "skip_h1_title": false,
   "title_cell": "Table of Contents",
   "title_sidebar": "Contents",
   "toc_cell": false,
   "toc_position": {},
   "toc_section_display": true,
   "toc_window_display": false
  },
  "varInspector": {
   "cols": {
    "lenName": 16,
    "lenType": 16,
    "lenVar": 40
   },
   "kernels_config": {
    "python": {
     "delete_cmd_postfix": "",
     "delete_cmd_prefix": "del ",
     "library": "var_list.py",
     "varRefreshCmd": "print(var_dic_list())"
    },
    "r": {
     "delete_cmd_postfix": ") ",
     "delete_cmd_prefix": "rm(",
     "library": "var_list.r",
     "varRefreshCmd": "cat(var_dic_list()) "
    }
   },
   "types_to_exclude": [
    "module",
    "function",
    "builtin_function_or_method",
    "instance",
    "_Feature"
   ],
   "window_display": false
  }
 },
 "nbformat": 4,
 "nbformat_minor": 4
}
