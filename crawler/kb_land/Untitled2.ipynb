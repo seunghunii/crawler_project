{
 "cells": [
  {
   "cell_type": "code",
   "execution_count": 1,
   "metadata": {
    "ExecuteTime": {
     "end_time": "2021-07-25T14:50:52.950556Z",
     "start_time": "2021-07-25T14:50:52.413065Z"
    }
   },
   "outputs": [],
   "source": [
    "import pandas as pd"
   ]
  },
  {
   "cell_type": "code",
   "execution_count": 2,
   "metadata": {
    "ExecuteTime": {
     "end_time": "2021-07-25T14:51:11.572258Z",
     "start_time": "2021-07-25T14:51:09.982166Z"
    }
   },
   "outputs": [],
   "source": [
    "dirr = 'C:/Users/rsh15/Desktop/seunghuni/crawler_project/data_save/kb_land/kb_land_req_text.csv'\n",
    "data = pd.read_csv(dirr)"
   ]
  },
  {
   "cell_type": "code",
   "execution_count": 4,
   "metadata": {
    "ExecuteTime": {
     "end_time": "2021-07-25T14:51:35.183084Z",
     "start_time": "2021-07-25T14:51:35.153196Z"
    }
   },
   "outputs": [
    {
     "data": {
      "text/html": [
       "<div>\n",
       "<style scoped>\n",
       "    .dataframe tbody tr th:only-of-type {\n",
       "        vertical-align: middle;\n",
       "    }\n",
       "\n",
       "    .dataframe tbody tr th {\n",
       "        vertical-align: top;\n",
       "    }\n",
       "\n",
       "    .dataframe thead th {\n",
       "        text-align: right;\n",
       "    }\n",
       "</style>\n",
       "<table border=\"1\" class=\"dataframe\">\n",
       "  <thead>\n",
       "    <tr style=\"text-align: right;\">\n",
       "      <th></th>\n",
       "      <th>year</th>\n",
       "      <th>month</th>\n",
       "      <th>region_b</th>\n",
       "      <th>region_s</th>\n",
       "      <th>req_text</th>\n",
       "    </tr>\n",
       "  </thead>\n",
       "  <tbody>\n",
       "    <tr>\n",
       "      <th>0</th>\n",
       "      <td>2012</td>\n",
       "      <td>1</td>\n",
       "      <td>서울</td>\n",
       "      <td>서울강북</td>\n",
       "      <td>&lt;!doctype html&gt;\\r\\n\\r\\n&lt;html lang=\"ko\"&gt;\\r\\n&lt;he...</td>\n",
       "    </tr>\n",
       "    <tr>\n",
       "      <th>163</th>\n",
       "      <td>2012</td>\n",
       "      <td>2</td>\n",
       "      <td>서울</td>\n",
       "      <td>서울강북</td>\n",
       "      <td>&lt;!doctype html&gt;\\r\\n\\r\\n&lt;html lang=\"ko\"&gt;\\r\\n&lt;he...</td>\n",
       "    </tr>\n",
       "    <tr>\n",
       "      <th>326</th>\n",
       "      <td>2012</td>\n",
       "      <td>3</td>\n",
       "      <td>서울</td>\n",
       "      <td>서울강북</td>\n",
       "      <td>&lt;!doctype html&gt;\\r\\n\\r\\n&lt;html lang=\"ko\"&gt;\\r\\n&lt;he...</td>\n",
       "    </tr>\n",
       "    <tr>\n",
       "      <th>489</th>\n",
       "      <td>2012</td>\n",
       "      <td>4</td>\n",
       "      <td>서울</td>\n",
       "      <td>서울강북</td>\n",
       "      <td>&lt;!doctype html&gt;\\r\\n\\r\\n&lt;html lang=\"ko\"&gt;\\r\\n&lt;he...</td>\n",
       "    </tr>\n",
       "    <tr>\n",
       "      <th>652</th>\n",
       "      <td>2012</td>\n",
       "      <td>5</td>\n",
       "      <td>서울</td>\n",
       "      <td>서울강북</td>\n",
       "      <td>&lt;!doctype html&gt;\\r\\n\\r\\n&lt;html lang=\"ko\"&gt;\\r\\n&lt;he...</td>\n",
       "    </tr>\n",
       "    <tr>\n",
       "      <th>815</th>\n",
       "      <td>2012</td>\n",
       "      <td>6</td>\n",
       "      <td>서울</td>\n",
       "      <td>서울강북</td>\n",
       "      <td>&lt;!doctype html&gt;\\r\\n\\r\\n&lt;html lang=\"ko\"&gt;\\r\\n&lt;he...</td>\n",
       "    </tr>\n",
       "    <tr>\n",
       "      <th>978</th>\n",
       "      <td>2012</td>\n",
       "      <td>7</td>\n",
       "      <td>서울</td>\n",
       "      <td>서울강북</td>\n",
       "      <td>&lt;!doctype html&gt;\\r\\n\\r\\n&lt;html lang=\"ko\"&gt;\\r\\n&lt;he...</td>\n",
       "    </tr>\n",
       "    <tr>\n",
       "      <th>1141</th>\n",
       "      <td>2012</td>\n",
       "      <td>8</td>\n",
       "      <td>서울</td>\n",
       "      <td>서울강북</td>\n",
       "      <td>&lt;!doctype html&gt;\\r\\n\\r\\n&lt;html lang=\"ko\"&gt;\\r\\n&lt;he...</td>\n",
       "    </tr>\n",
       "    <tr>\n",
       "      <th>1304</th>\n",
       "      <td>2012</td>\n",
       "      <td>9</td>\n",
       "      <td>서울</td>\n",
       "      <td>서울강북</td>\n",
       "      <td>&lt;!doctype html&gt;\\r\\n\\r\\n&lt;html lang=\"ko\"&gt;\\r\\n&lt;he...</td>\n",
       "    </tr>\n",
       "    <tr>\n",
       "      <th>1467</th>\n",
       "      <td>2012</td>\n",
       "      <td>10</td>\n",
       "      <td>서울</td>\n",
       "      <td>서울강북</td>\n",
       "      <td>&lt;!doctype html&gt;\\r\\n\\r\\n&lt;html lang=\"ko\"&gt;\\r\\n&lt;he...</td>\n",
       "    </tr>\n",
       "  </tbody>\n",
       "</table>\n",
       "</div>"
      ],
      "text/plain": [
       "      year  month region_b region_s  \\\n",
       "0     2012      1       서울     서울강북   \n",
       "163   2012      2       서울     서울강북   \n",
       "326   2012      3       서울     서울강북   \n",
       "489   2012      4       서울     서울강북   \n",
       "652   2012      5       서울     서울강북   \n",
       "815   2012      6       서울     서울강북   \n",
       "978   2012      7       서울     서울강북   \n",
       "1141  2012      8       서울     서울강북   \n",
       "1304  2012      9       서울     서울강북   \n",
       "1467  2012     10       서울     서울강북   \n",
       "\n",
       "                                               req_text  \n",
       "0     <!doctype html>\\r\\n\\r\\n<html lang=\"ko\">\\r\\n<he...  \n",
       "163   <!doctype html>\\r\\n\\r\\n<html lang=\"ko\">\\r\\n<he...  \n",
       "326   <!doctype html>\\r\\n\\r\\n<html lang=\"ko\">\\r\\n<he...  \n",
       "489   <!doctype html>\\r\\n\\r\\n<html lang=\"ko\">\\r\\n<he...  \n",
       "652   <!doctype html>\\r\\n\\r\\n<html lang=\"ko\">\\r\\n<he...  \n",
       "815   <!doctype html>\\r\\n\\r\\n<html lang=\"ko\">\\r\\n<he...  \n",
       "978   <!doctype html>\\r\\n\\r\\n<html lang=\"ko\">\\r\\n<he...  \n",
       "1141  <!doctype html>\\r\\n\\r\\n<html lang=\"ko\">\\r\\n<he...  \n",
       "1304  <!doctype html>\\r\\n\\r\\n<html lang=\"ko\">\\r\\n<he...  \n",
       "1467  <!doctype html>\\r\\n\\r\\n<html lang=\"ko\">\\r\\n<he...  "
      ]
     },
     "execution_count": 4,
     "metadata": {},
     "output_type": "execute_result"
    }
   ],
   "source": [
    "data[data['region_s'] == '서울강북']"
   ]
  },
  {
   "cell_type": "code",
   "execution_count": null,
   "metadata": {},
   "outputs": [],
   "source": []
  }
 ],
 "metadata": {
  "kernelspec": {
   "display_name": "simon_env",
   "language": "python",
   "name": "simon_env"
  },
  "language_info": {
   "codemirror_mode": {
    "name": "ipython",
    "version": 3
   },
   "file_extension": ".py",
   "mimetype": "text/x-python",
   "name": "python",
   "nbconvert_exporter": "python",
   "pygments_lexer": "ipython3",
   "version": "3.8.3"
  },
  "toc": {
   "base_numbering": 1,
   "nav_menu": {},
   "number_sections": true,
   "sideBar": true,
   "skip_h1_title": true,
   "title_cell": "Table of Contents",
   "title_sidebar": "Contents",
   "toc_cell": false,
   "toc_position": {},
   "toc_section_display": true,
   "toc_window_display": false
  },
  "varInspector": {
   "cols": {
    "lenName": 16,
    "lenType": 16,
    "lenVar": 40
   },
   "kernels_config": {
    "python": {
     "delete_cmd_postfix": "",
     "delete_cmd_prefix": "del ",
     "library": "var_list.py",
     "varRefreshCmd": "print(var_dic_list())"
    },
    "r": {
     "delete_cmd_postfix": ") ",
     "delete_cmd_prefix": "rm(",
     "library": "var_list.r",
     "varRefreshCmd": "cat(var_dic_list()) "
    }
   },
   "types_to_exclude": [
    "module",
    "function",
    "builtin_function_or_method",
    "instance",
    "_Feature"
   ],
   "window_display": false
  }
 },
 "nbformat": 4,
 "nbformat_minor": 4
}
