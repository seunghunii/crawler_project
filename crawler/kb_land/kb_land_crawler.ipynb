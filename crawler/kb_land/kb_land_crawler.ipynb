{
 "cells": [
  {
   "cell_type": "code",
   "execution_count": 22,
   "id": "9a5510da",
   "metadata": {
    "ExecuteTime": {
     "end_time": "2021-07-19T06:22:14.334618Z",
     "start_time": "2021-07-19T06:22:14.330629Z"
    }
   },
   "outputs": [],
   "source": [
    "import pandas as pd\n",
    "from selenium import webdriver\n",
    "import numpy as np\n",
    "from bs4 import BeautifulSoup\n",
    "import re\n",
    "import requests\n",
    "from time import sleep\n",
    "import json\n",
    "import warnings\n",
    "warnings.filterwarnings('ignore')"
   ]
  },
  {
   "cell_type": "code",
   "execution_count": 2,
   "id": "0c2ed3a5",
   "metadata": {
    "ExecuteTime": {
     "end_time": "2021-07-19T06:12:36.198221Z",
     "start_time": "2021-07-19T06:12:36.187149Z"
    }
   },
   "outputs": [],
   "source": [
    "dir_for_shinhan = 'C:/Users/shic/Desktop/shinhan_simon/chromedriver/chromedriver.exe'\n",
    "dir_for_seunghun = 'C:/Users/rsh15/Desktop/seunghuni/selenium/chromedriver.exe'"
   ]
  },
  {
   "cell_type": "code",
   "execution_count": 4,
   "id": "108f8d4c",
   "metadata": {
    "ExecuteTime": {
     "end_time": "2021-07-19T06:14:00.139251Z",
     "start_time": "2021-07-19T06:14:00.121302Z"
    }
   },
   "outputs": [],
   "source": [
    "header = {\n",
    "    'User-Agent':'Mozilla/5.0 (Windows NT 10.0; Win64; x64) AppleWebKit/537.36 (KHTML, like Gecko) Chrome/91.0.4472.124 Safari/537.36'\n",
    "}"
   ]
  },
  {
   "cell_type": "code",
   "execution_count": 11,
   "id": "d16f7664",
   "metadata": {
    "ExecuteTime": {
     "end_time": "2021-07-19T06:17:19.745183Z",
     "start_time": "2021-07-19T06:17:19.732248Z"
    }
   },
   "outputs": [],
   "source": [
    "pd.options.display.float_format = '{:.0f}'.format"
   ]
  },
  {
   "cell_type": "code",
   "execution_count": 14,
   "id": "67ac80db",
   "metadata": {
    "ExecuteTime": {
     "end_time": "2021-07-19T06:17:35.549777Z",
     "start_time": "2021-07-19T06:17:35.533847Z"
    }
   },
   "outputs": [
    {
     "data": {
      "text/html": [
       "<div>\n",
       "<style scoped>\n",
       "    .dataframe tbody tr th:only-of-type {\n",
       "        vertical-align: middle;\n",
       "    }\n",
       "\n",
       "    .dataframe tbody tr th {\n",
       "        vertical-align: top;\n",
       "    }\n",
       "\n",
       "    .dataframe thead th {\n",
       "        text-align: right;\n",
       "    }\n",
       "</style>\n",
       "<table border=\"1\" class=\"dataframe\">\n",
       "  <thead>\n",
       "    <tr style=\"text-align: right;\">\n",
       "      <th></th>\n",
       "      <th>big_region_code</th>\n",
       "      <th>big_region_name</th>\n",
       "      <th>small_region_code</th>\n",
       "      <th>small_region_name</th>\n",
       "    </tr>\n",
       "  </thead>\n",
       "  <tbody>\n",
       "    <tr>\n",
       "      <th>2</th>\n",
       "      <td>1100000000</td>\n",
       "      <td>서울</td>\n",
       "      <td>1199000000</td>\n",
       "      <td>서울강북</td>\n",
       "    </tr>\n",
       "    <tr>\n",
       "      <th>3</th>\n",
       "      <td>1100000000</td>\n",
       "      <td>서울</td>\n",
       "      <td>1130500000</td>\n",
       "      <td>서울강북구</td>\n",
       "    </tr>\n",
       "    <tr>\n",
       "      <th>4</th>\n",
       "      <td>1100000000</td>\n",
       "      <td>서울</td>\n",
       "      <td>1121500000</td>\n",
       "      <td>서울광진구</td>\n",
       "    </tr>\n",
       "    <tr>\n",
       "      <th>5</th>\n",
       "      <td>1100000000</td>\n",
       "      <td>서울</td>\n",
       "      <td>1135000000</td>\n",
       "      <td>서울노원구</td>\n",
       "    </tr>\n",
       "    <tr>\n",
       "      <th>6</th>\n",
       "      <td>1100000000</td>\n",
       "      <td>서울</td>\n",
       "      <td>1132000000</td>\n",
       "      <td>서울도봉구</td>\n",
       "    </tr>\n",
       "    <tr>\n",
       "      <th>...</th>\n",
       "      <td>...</td>\n",
       "      <td>...</td>\n",
       "      <td>...</td>\n",
       "      <td>...</td>\n",
       "    </tr>\n",
       "    <tr>\n",
       "      <th>178</th>\n",
       "      <td>4800000000</td>\n",
       "      <td>경남</td>\n",
       "      <td>4833000000</td>\n",
       "      <td>양산</td>\n",
       "    </tr>\n",
       "    <tr>\n",
       "      <th>179</th>\n",
       "      <td>4800000000</td>\n",
       "      <td>경남</td>\n",
       "      <td>4831000000</td>\n",
       "      <td>거제</td>\n",
       "    </tr>\n",
       "    <tr>\n",
       "      <th>180</th>\n",
       "      <td>4800000000</td>\n",
       "      <td>경남</td>\n",
       "      <td>4817000000</td>\n",
       "      <td>진주</td>\n",
       "    </tr>\n",
       "    <tr>\n",
       "      <th>181</th>\n",
       "      <td>4800000000</td>\n",
       "      <td>경남</td>\n",
       "      <td>4825000000</td>\n",
       "      <td>김해</td>\n",
       "    </tr>\n",
       "    <tr>\n",
       "      <th>182</th>\n",
       "      <td>4800000000</td>\n",
       "      <td>경남</td>\n",
       "      <td>4822000000</td>\n",
       "      <td>통영</td>\n",
       "    </tr>\n",
       "  </tbody>\n",
       "</table>\n",
       "<p>163 rows × 4 columns</p>\n",
       "</div>"
      ],
      "text/plain": [
       "     big_region_code big_region_name  small_region_code small_region_name\n",
       "2         1100000000              서울         1199000000              서울강북\n",
       "3         1100000000              서울         1130500000             서울강북구\n",
       "4         1100000000              서울         1121500000             서울광진구\n",
       "5         1100000000              서울         1135000000             서울노원구\n",
       "6         1100000000              서울         1132000000             서울도봉구\n",
       "..               ...             ...                ...               ...\n",
       "178       4800000000              경남         4833000000                양산\n",
       "179       4800000000              경남         4831000000                거제\n",
       "180       4800000000              경남         4817000000                진주\n",
       "181       4800000000              경남         4825000000                김해\n",
       "182       4800000000              경남         4822000000                통영\n",
       "\n",
       "[163 rows x 4 columns]"
      ]
     },
     "execution_count": 14,
     "metadata": {},
     "output_type": "execute_result"
    }
   ],
   "source": [
    "region_data = pd.read_csv('C:/Users/shic/Desktop/crawler_project/data_save/kb_land/region_code.csv')\n",
    "region_data = region_data[region_data['small_region_name']!='(전체)']\n",
    "region_data"
   ]
  },
  {
   "cell_type": "code",
   "execution_count": 18,
   "id": "6e383915",
   "metadata": {
    "ExecuteTime": {
     "end_time": "2021-07-19T06:18:18.032141Z",
     "start_time": "2021-07-19T06:18:18.026155Z"
    }
   },
   "outputs": [],
   "source": [
    "region_code = region_data[region_data['big_region_name'].isin(['서울','경기','인천'])]"
   ]
  },
  {
   "cell_type": "code",
   "execution_count": null,
   "id": "b471b8cf",
   "metadata": {},
   "outputs": [],
   "source": []
  },
  {
   "cell_type": "code",
   "execution_count": 33,
   "id": "c299010c",
   "metadata": {
    "ExecuteTime": {
     "end_time": "2021-07-19T07:40:26.067711Z",
     "start_time": "2021-07-19T06:36:58.198923Z"
    }
   },
   "outputs": [],
   "source": [
    "kb_list = []\n",
    "base_url = 'https://onland.kbstar.com/quics?page=C060737&%EB%B2%95%EC%A0%95%EB%8F%99%EB%8C%80%EC%A7%80%EC%97%AD%EC%BD%94%EB%93%9C={}&%EB%B2%95%EC%A0%95%EB%8F%99%EC%A4%91%EC%A7%80%EC%97%AD%EC%BD%94%EB%93%9C={}&%EA%B8%B0%EC%A4%80%EB%85%84={}&%EA%B8%B0%EC%A4%80%EC%9B%94={}&QSL=F'\n",
    "\n",
    "for year in range(2010,2022):\n",
    "    year = str(year)\n",
    "    for month in range(1,13):\n",
    "        if int(month) < 10:\n",
    "            month = '0' + str(month)\n",
    "        else:\n",
    "            month = str(month)\n",
    "        for region in region_code.iterrows():\n",
    "            # format은 대지역 코드, 중지역 코드, 년, 월 순.\n",
    "            tmp_url = base_url.format(int(region[1]['big_region_code']), #대지역코드\n",
    "                                      int(region[1]['small_region_code']), #중지역코드\n",
    "                                      year,month)\n",
    "            \n",
    "            # URL 접속\n",
    "            tmp_req = requests.get(tmp_url,headers=header)\n",
    "            \n",
    "            # 그래프의 데이터 가져오기\n",
    "            soup = BeautifulSoup(tmp_req.text,'html.parser')\n",
    "            \n",
    "            aa = re.search('var graphYn1 = [$](.+?);',tmp_req.text,re.S).group(1)\n",
    "            aa = aa.replace(\".trim('[\",\"\").replace(\"') == '' ? false: true\",\"\").replace('Date.UTC(','')\n",
    "            aa = aa.split('], [')\n",
    "            \n",
    "            date_list_aa = []\n",
    "            data_list_aa = []\n",
    "            \n",
    "            for k in aa:\n",
    "                tmpp = k.split('),')\n",
    "                data_wrangle = tmpp[0].split(', ')\n",
    "                data_wrangle[1] = str(int(data_wrangle[1]) + 1)\n",
    "                \n",
    "                date_list_aa.append(','.join(data_wrangle))\n",
    "                data_list_aa.append(float(tmpp[1].replace(']','')))\n",
    "                \n",
    "            bb = re.search('var graphYn2 = [$](.+?);',tmp_req.text,re.S).group(1)\n",
    "            bb = bb.replace(\".trim('[\",\"\").replace(\"') == '' ? false: true\",\"\").replace('Date.UTC(','')\n",
    "            bb = bb.split('], [')\n",
    "            \n",
    "            date_list_bb = []\n",
    "            data_list_bb = []\n",
    "            \n",
    "            for k in bb:\n",
    "                tmpp = k.split('),')\n",
    "                data_wrangle = tmpp[0].split(', ')\n",
    "                data_wrangle[1] = str(int(data_wrangle[1]) + 1)\n",
    "                \n",
    "                date_list_bb.append(','.join(data_wrangle))\n",
    "                data_list_bb.append(float(tmpp[1].replace(']','').replace(',','')))\n",
    "                \n",
    "            kb_list.append(pd.DataFrame({\n",
    "                'b_region' : region[1]['big_region_name'],\n",
    "                's_region' : region[1]['small_region_name'],\n",
    "                'date_a'   : pd.to_datetime(date_list_aa,format='%Y,%m,%d'),\n",
    "                'value1'   : data_list_aa,\n",
    "                'date_b'   : pd.to_datetime(date_list_bb,format='%Y,%m,%d'),\n",
    "                'value2'   : data_list_bb\n",
    "            }))\n",
    "            \n",
    "            # 일단 2021년 6월 까지의 데이터만 가져온다.\n",
    "            if year == '2021' and month == '06':\n",
    "                break"
   ]
  },
  {
   "cell_type": "code",
   "execution_count": 36,
   "id": "8424568d",
   "metadata": {
    "ExecuteTime": {
     "end_time": "2021-07-19T07:54:24.342044Z",
     "start_time": "2021-07-19T07:54:20.284178Z"
    }
   },
   "outputs": [],
   "source": [
    "df = pd.concat(kb_list,axis=0).drop_duplicates()\n",
    "df['date_a'] = pd.to_datetime(df['date_a'],format='%Y-%m-%d')\n",
    "df['date_b'] = pd.to_datetime(df['date_b'],format='%Y-%m-%d')"
   ]
  },
  {
   "cell_type": "code",
   "execution_count": 37,
   "id": "af5b81d0",
   "metadata": {
    "ExecuteTime": {
     "end_time": "2021-07-19T07:55:35.831152Z",
     "start_time": "2021-07-19T07:55:35.816593Z"
    }
   },
   "outputs": [],
   "source": [
    "dirr = \"C:/Users/shic/Desktop/crawler_project/data_save/\""
   ]
  },
  {
   "cell_type": "code",
   "execution_count": 38,
   "id": "017c313e",
   "metadata": {
    "ExecuteTime": {
     "end_time": "2021-07-19T07:56:48.378553Z",
     "start_time": "2021-07-19T07:56:47.640355Z"
    }
   },
   "outputs": [],
   "source": [
    "df.to_csv(dirr+'kb_land_tmp.csv',index=False)"
   ]
  },
  {
   "cell_type": "code",
   "execution_count": null,
   "id": "f63df4dc",
   "metadata": {},
   "outputs": [],
   "source": []
  }
 ],
 "metadata": {
  "kernelspec": {
   "display_name": "simon_env",
   "language": "python",
   "name": "simon_env"
  },
  "language_info": {
   "codemirror_mode": {
    "name": "ipython",
    "version": 3
   },
   "file_extension": ".py",
   "mimetype": "text/x-python",
   "name": "python",
   "nbconvert_exporter": "python",
   "pygments_lexer": "ipython3",
   "version": "3.7.10"
  },
  "varInspector": {
   "cols": {
    "lenName": 16,
    "lenType": 16,
    "lenVar": 40
   },
   "kernels_config": {
    "python": {
     "delete_cmd_postfix": "",
     "delete_cmd_prefix": "del ",
     "library": "var_list.py",
     "varRefreshCmd": "print(var_dic_list())"
    },
    "r": {
     "delete_cmd_postfix": ") ",
     "delete_cmd_prefix": "rm(",
     "library": "var_list.r",
     "varRefreshCmd": "cat(var_dic_list()) "
    }
   },
   "types_to_exclude": [
    "module",
    "function",
    "builtin_function_or_method",
    "instance",
    "_Feature"
   ],
   "window_display": false
  }
 },
 "nbformat": 4,
 "nbformat_minor": 5
}
