{
 "cells": [
  {
   "cell_type": "code",
   "execution_count": 1,
   "metadata": {
    "ExecuteTime": {
     "end_time": "2021-07-25T07:11:07.147401Z",
     "start_time": "2021-07-25T07:11:05.075377Z"
    }
   },
   "outputs": [],
   "source": [
    "import pandas as pd\n",
    "from selenium import webdriver\n",
    "import numpy as np\n",
    "from bs4 import BeautifulSoup\n",
    "import re\n",
    "import requests\n",
    "from time import sleep\n",
    "import json\n",
    "import multiprocessing as mp\n",
    "from multiprocessing import freeze_support"
   ]
  },
  {
   "cell_type": "code",
   "execution_count": 2,
   "metadata": {
    "ExecuteTime": {
     "end_time": "2021-07-25T07:11:10.626796Z",
     "start_time": "2021-07-25T07:11:10.615847Z"
    }
   },
   "outputs": [],
   "source": [
    "# basic params\n",
    "dir_for_shinhan = 'C:/Users/shic/Desktop/shinhan_simon/chromedriver/chromedriver.exe'\n",
    "dir_for_seunghun = 'C:/Users/rsh15/Desktop/seunghuni/selenium/chromedriver.exe'\n",
    "\n",
    "header = {\n",
    "    'User-Agent':'Mozilla/5.0 (Windows NT 10.0; Win64; x64) AppleWebKit/537.36 (KHTML, like Gecko) Chrome/91.0.4472.124 Safari/537.36'\n",
    "}\n",
    "\n",
    "crawler_shinhan = 'C:/Users/shic/Desktop/crawler_project/'\n",
    "crawler_seunghun = 'C:/Users/rsh15/Desktop/seunghuni/crawler_project/'"
   ]
  },
  {
   "cell_type": "code",
   "execution_count": 3,
   "metadata": {
    "ExecuteTime": {
     "end_time": "2021-07-25T07:11:15.221930Z",
     "start_time": "2021-07-25T07:11:15.209104Z"
    }
   },
   "outputs": [],
   "source": [
    "region_data = pd.read_csv(crawler_seunghun + 'data_save/kb_land/region_code.csv',\n",
    "                          dtype = {'big_region_code' : str,\n",
    "                                   'big_region_name' : str,\n",
    "                                   'small_region_code' : str,\n",
    "                                   'small_region_name' : str})\n",
    "region_data = region_data[region_data['small_region_name']!='(전체)']"
   ]
  },
  {
   "cell_type": "code",
   "execution_count": 4,
   "metadata": {
    "ExecuteTime": {
     "end_time": "2021-07-25T07:18:24.154248Z",
     "start_time": "2021-07-25T07:18:24.135264Z"
    }
   },
   "outputs": [],
   "source": [
    "# make date list([year,month])\n",
    "date_list = []\n",
    "for year in range(2012,2022):\n",
    "    year = str(year)\n",
    "    for month in range(1,13):\n",
    "        if int(month) < 10:\n",
    "            month = '0' + str(month)\n",
    "        else:\n",
    "            month = str(month)\n",
    "\n",
    "        if year == '2021' and month == '07':\n",
    "            break\n",
    "\n",
    "        date_list.append([year,month])"
   ]
  },
  {
   "cell_type": "code",
   "execution_count": 7,
   "metadata": {
    "ExecuteTime": {
     "end_time": "2021-07-25T07:18:53.076484Z",
     "start_time": "2021-07-25T07:18:53.070497Z"
    }
   },
   "outputs": [],
   "source": [
    "base_url = 'https://onland.kbstar.com/quics?page=C060737&%EB%B2%95%EC%A0%95%EB%8F%99%EB%8C%80%EC%A7%80%EC%97%AD%EC%BD%94%EB%93%9C={}&%EB%B2%95%EC%A0%95%EB%8F%99%EC%A4%91%EC%A7%80%EC%97%AD%EC%BD%94%EB%93%9C={}&%EA%B8%B0%EC%A4%80%EB%85%84={}&%EA%B8%B0%EC%A4%80%EC%9B%94={}&QSL=F'"
   ]
  },
  {
   "cell_type": "code",
   "execution_count": 9,
   "metadata": {
    "ExecuteTime": {
     "end_time": "2021-07-25T07:21:13.091246Z",
     "start_time": "2021-07-25T07:21:13.055267Z"
    }
   },
   "outputs": [
    {
     "data": {
      "text/html": [
       "<div>\n",
       "<style scoped>\n",
       "    .dataframe tbody tr th:only-of-type {\n",
       "        vertical-align: middle;\n",
       "    }\n",
       "\n",
       "    .dataframe tbody tr th {\n",
       "        vertical-align: top;\n",
       "    }\n",
       "\n",
       "    .dataframe thead th {\n",
       "        text-align: right;\n",
       "    }\n",
       "</style>\n",
       "<table border=\"1\" class=\"dataframe\">\n",
       "  <thead>\n",
       "    <tr style=\"text-align: right;\">\n",
       "      <th></th>\n",
       "      <th>big_region_code</th>\n",
       "      <th>big_region_name</th>\n",
       "      <th>small_region_code</th>\n",
       "      <th>small_region_name</th>\n",
       "    </tr>\n",
       "  </thead>\n",
       "  <tbody>\n",
       "    <tr>\n",
       "      <th>2</th>\n",
       "      <td>1100000000</td>\n",
       "      <td>서울</td>\n",
       "      <td>1199000000</td>\n",
       "      <td>서울강북</td>\n",
       "    </tr>\n",
       "    <tr>\n",
       "      <th>3</th>\n",
       "      <td>1100000000</td>\n",
       "      <td>서울</td>\n",
       "      <td>1130500000</td>\n",
       "      <td>서울강북구</td>\n",
       "    </tr>\n",
       "    <tr>\n",
       "      <th>4</th>\n",
       "      <td>1100000000</td>\n",
       "      <td>서울</td>\n",
       "      <td>1121500000</td>\n",
       "      <td>서울광진구</td>\n",
       "    </tr>\n",
       "    <tr>\n",
       "      <th>5</th>\n",
       "      <td>1100000000</td>\n",
       "      <td>서울</td>\n",
       "      <td>1135000000</td>\n",
       "      <td>서울노원구</td>\n",
       "    </tr>\n",
       "    <tr>\n",
       "      <th>6</th>\n",
       "      <td>1100000000</td>\n",
       "      <td>서울</td>\n",
       "      <td>1132000000</td>\n",
       "      <td>서울도봉구</td>\n",
       "    </tr>\n",
       "    <tr>\n",
       "      <th>...</th>\n",
       "      <td>...</td>\n",
       "      <td>...</td>\n",
       "      <td>...</td>\n",
       "      <td>...</td>\n",
       "    </tr>\n",
       "    <tr>\n",
       "      <th>178</th>\n",
       "      <td>4800000000</td>\n",
       "      <td>경남</td>\n",
       "      <td>4833000000</td>\n",
       "      <td>양산</td>\n",
       "    </tr>\n",
       "    <tr>\n",
       "      <th>179</th>\n",
       "      <td>4800000000</td>\n",
       "      <td>경남</td>\n",
       "      <td>4831000000</td>\n",
       "      <td>거제</td>\n",
       "    </tr>\n",
       "    <tr>\n",
       "      <th>180</th>\n",
       "      <td>4800000000</td>\n",
       "      <td>경남</td>\n",
       "      <td>4817000000</td>\n",
       "      <td>진주</td>\n",
       "    </tr>\n",
       "    <tr>\n",
       "      <th>181</th>\n",
       "      <td>4800000000</td>\n",
       "      <td>경남</td>\n",
       "      <td>4825000000</td>\n",
       "      <td>김해</td>\n",
       "    </tr>\n",
       "    <tr>\n",
       "      <th>182</th>\n",
       "      <td>4800000000</td>\n",
       "      <td>경남</td>\n",
       "      <td>4822000000</td>\n",
       "      <td>통영</td>\n",
       "    </tr>\n",
       "  </tbody>\n",
       "</table>\n",
       "<p>163 rows × 4 columns</p>\n",
       "</div>"
      ],
      "text/plain": [
       "    big_region_code big_region_name small_region_code small_region_name\n",
       "2        1100000000              서울        1199000000              서울강북\n",
       "3        1100000000              서울        1130500000             서울강북구\n",
       "4        1100000000              서울        1121500000             서울광진구\n",
       "5        1100000000              서울        1135000000             서울노원구\n",
       "6        1100000000              서울        1132000000             서울도봉구\n",
       "..              ...             ...               ...               ...\n",
       "178      4800000000              경남        4833000000                양산\n",
       "179      4800000000              경남        4831000000                거제\n",
       "180      4800000000              경남        4817000000                진주\n",
       "181      4800000000              경남        4825000000                김해\n",
       "182      4800000000              경남        4822000000                통영\n",
       "\n",
       "[163 rows x 4 columns]"
      ]
     },
     "execution_count": 9,
     "metadata": {},
     "output_type": "execute_result"
    }
   ],
   "source": [
    "region_data"
   ]
  },
  {
   "cell_type": "code",
   "execution_count": 158,
   "metadata": {
    "ExecuteTime": {
     "end_time": "2021-07-25T14:42:39.734010Z",
     "start_time": "2021-07-25T14:42:39.698106Z"
    }
   },
   "outputs": [],
   "source": [
    "def kb_land_crawler(dates):\n",
    "    year  = dates[0]\n",
    "    month = dates[1]\n",
    "\n",
    "    df_list = []\n",
    "    for region in region_data.iterrows():\n",
    "        tmp_url = base_url.format(region[1]['big_region_code'],  # 대지역코드\n",
    "                                  region[1]['small_region_code'],  # 중지역코드\n",
    "                                  year, month)\n",
    "\n",
    "        # URL 접속\n",
    "        tmp_req = requests.get(tmp_url, headers=header)\n",
    "\n",
    "        date_jisu_list = []\n",
    "        data_jisu_list = []\n",
    "        \n",
    "        parse_jisu = re.search(\"var graphYn1 = [$](.+?);\", tmp_req.text, re.S)\n",
    "        if parse_jisu is None:\n",
    "            date_jisu_list.append(0)\n",
    "            data_jisu_list.append(0)\n",
    "        else:\n",
    "            parse_jisu = re.search(\"var graphYn1 = [$](.+?);\", tmp_req.text, re.S)[0]\n",
    "            parse_jisu = re.findall(\"\\[(.*?)\\]\",parse_jisu)\n",
    "\n",
    "            for parsed in parse_jisu:\n",
    "                part_jisu = parsed.split('), ')\n",
    "\n",
    "                jisu_date_parser = part_jisu[0].replace('Date.UTC(','').split(', ')\n",
    "\n",
    "                date_jisu_list.append(','.join([jisu_date_parser[0],\n",
    "                                                str(int(jisu_date_parser[1]) + 1),\n",
    "                                                jisu_date_parser[2]]\n",
    "                                     ))\n",
    "                data_jisu_list.append(part_jisu[1])\n",
    "                \n",
    "        date_rate_list = []\n",
    "        data_rate_list = []\n",
    "\n",
    "        parse_rate = re.search('var graphYn2 = [$](.+?);', tmp_req.text, re.S)\n",
    "        if parse_rate is None:\n",
    "            date_rate_list.append(0)\n",
    "            date_rate_list.append(0)\n",
    "        else:\n",
    "            parse_rate = re.search('var graphYn2 = [$](.+?);', tmp_req.text, re.S)[0]\n",
    "            parse_rate = re.findall(\"\\[(.*?)\\]\",parse_rate[0])\n",
    "\n",
    "            for parsed in parse_rate:\n",
    "                part_rate = parsed.split('), ')\n",
    "\n",
    "                rate_date_parser = part_rate[0].replace('Date.UTC(','').split(', ')\n",
    "\n",
    "                date_rate_list.append(','.join([rate_date_parser[0],\n",
    "                                                str(int(rate_date_parser[1]) + 1),\n",
    "                                                rate_date_parser[2]]\n",
    "                                    ))\n",
    "                data_rate_list.append(part_rate[1])\n",
    "\n",
    "        #df_list.append(return_dataframe)\n",
    "    return data_jisu_list"
   ]
  },
  {
   "cell_type": "code",
   "execution_count": null,
   "metadata": {},
   "outputs": [],
   "source": []
  }
 ],
 "metadata": {
  "kernelspec": {
   "display_name": "simon_env",
   "language": "python",
   "name": "simon_env"
  },
  "language_info": {
   "codemirror_mode": {
    "name": "ipython",
    "version": 3
   },
   "file_extension": ".py",
   "mimetype": "text/x-python",
   "name": "python",
   "nbconvert_exporter": "python",
   "pygments_lexer": "ipython3",
   "version": "3.8.3"
  },
  "toc": {
   "base_numbering": 1,
   "nav_menu": {},
   "number_sections": true,
   "sideBar": true,
   "skip_h1_title": true,
   "title_cell": "Table of Contents",
   "title_sidebar": "Contents",
   "toc_cell": false,
   "toc_position": {},
   "toc_section_display": true,
   "toc_window_display": false
  },
  "varInspector": {
   "cols": {
    "lenName": 16,
    "lenType": 16,
    "lenVar": 40
   },
   "kernels_config": {
    "python": {
     "delete_cmd_postfix": "",
     "delete_cmd_prefix": "del ",
     "library": "var_list.py",
     "varRefreshCmd": "print(var_dic_list())"
    },
    "r": {
     "delete_cmd_postfix": ") ",
     "delete_cmd_prefix": "rm(",
     "library": "var_list.r",
     "varRefreshCmd": "cat(var_dic_list()) "
    }
   },
   "types_to_exclude": [
    "module",
    "function",
    "builtin_function_or_method",
    "instance",
    "_Feature"
   ],
   "window_display": false
  }
 },
 "nbformat": 4,
 "nbformat_minor": 4
}
