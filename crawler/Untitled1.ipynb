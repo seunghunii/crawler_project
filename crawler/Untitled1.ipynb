{
 "cells": [
  {
   "cell_type": "code",
   "execution_count": 2,
   "id": "1bfe5e69",
   "metadata": {
    "ExecuteTime": {
     "end_time": "2021-07-13T07:42:05.125700Z",
     "start_time": "2021-07-13T07:42:04.375800Z"
    }
   },
   "outputs": [],
   "source": [
    "import requests\n",
    "from selenium import webdriver\n",
    "import pandas as pd\n",
    "import numpy as np\n",
    "from bs4 import BeautifulSoup\n",
    "import json\n",
    "import re"
   ]
  },
  {
   "cell_type": "code",
   "execution_count": 3,
   "id": "e3c7b7d4",
   "metadata": {
    "ExecuteTime": {
     "end_time": "2021-07-13T07:42:05.562737Z",
     "start_time": "2021-07-13T07:42:05.547760Z"
    }
   },
   "outputs": [],
   "source": [
    "base_url = 'https://www.hf.go.kr/research/openapi/SttsApiTbl.do?'\n",
    "params   = 'Key=' + '1001fc80bb3c457ab3fb6d60b8c152db' +'&Type=' + 'json' +'&pIndex=' + '1' +'&pSize=' + '1000'\n"
   ]
  },
  {
   "cell_type": "code",
   "execution_count": 4,
   "id": "f4a0ca4b",
   "metadata": {
    "ExecuteTime": {
     "end_time": "2021-07-13T07:42:05.718684Z",
     "start_time": "2021-07-13T07:42:05.708710Z"
    }
   },
   "outputs": [],
   "source": [
    "dir_for_shinhan = 'C:/Users/shic/Desktop/shinhan_simon/chromedriver/chromedriver.exe'\n",
    "dir_for_seunghun = 'C:/Users/rsh15/Desktop/seunghuni/selenium/chromedriver.exe'"
   ]
  },
  {
   "cell_type": "code",
   "execution_count": 5,
   "id": "c1fad163",
   "metadata": {
    "ExecuteTime": {
     "end_time": "2021-07-13T07:42:07.357030Z",
     "start_time": "2021-07-13T07:42:06.015782Z"
    }
   },
   "outputs": [],
   "source": [
    "driver = webdriver.Chrome(dir_for_shinhan)"
   ]
  },
  {
   "cell_type": "code",
   "execution_count": 49,
   "id": "d1ee0b7e",
   "metadata": {
    "ExecuteTime": {
     "end_time": "2021-07-13T07:27:00.479586Z",
     "start_time": "2021-07-13T07:27:00.150468Z"
    }
   },
   "outputs": [],
   "source": [
    "driver.get(base_url + params)"
   ]
  }
 ],
 "metadata": {
  "kernelspec": {
   "display_name": "simon_env",
   "language": "python",
   "name": "simon_env"
  },
  "language_info": {
   "codemirror_mode": {
    "name": "ipython",
    "version": 3
   },
   "file_extension": ".py",
   "mimetype": "text/x-python",
   "name": "python",
   "nbconvert_exporter": "python",
   "pygments_lexer": "ipython3",
   "version": "3.7.10"
  }
 },
 "nbformat": 4,
 "nbformat_minor": 5
}
