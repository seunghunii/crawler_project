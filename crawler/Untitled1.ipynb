{
 "cells": [
  {
   "cell_type": "code",
   "execution_count": 3,
   "id": "1bfe5e69",
   "metadata": {
    "ExecuteTime": {
     "end_time": "2021-07-13T04:57:45.033777Z",
     "start_time": "2021-07-13T04:57:44.742951Z"
    }
   },
   "outputs": [],
   "source": [
    "import requests"
   ]
  },
  {
   "cell_type": "code",
   "execution_count": 11,
   "id": "b4fffbce",
   "metadata": {
    "ExecuteTime": {
     "end_time": "2021-07-13T05:01:47.289991Z",
     "start_time": "2021-07-13T05:01:47.284017Z"
    }
   },
   "outputs": [],
   "source": [
    "base_url = 'http://openapi.molit.go.kr/OpenAPI_ToolInstallPackage/service/rest/RTMSOBJSvc/getRTMSDataSvcAptTradeDev?serviceKey=nZ02njfqpkFjCD6jQrv%2FCCn43ncg6K1tezHyfRUKoUn972atAVkQ7lwQ52bdMcKCOgKhFHwLexdziz86tkg%2FpA%3D%3D&pageNo=1&numOfRows=10&LAWD_CD=11110&DEAL_YMD=201512'"
   ]
  },
  {
   "cell_type": "code",
   "execution_count": 12,
   "id": "dec68c68",
   "metadata": {
    "ExecuteTime": {
     "end_time": "2021-07-13T05:01:47.526976Z",
     "start_time": "2021-07-13T05:01:47.516023Z"
    }
   },
   "outputs": [
    {
     "data": {
      "text/plain": [
       "'http://openapi.molit.go.kr/OpenAPI_ToolInstallPackage/service/rest/RTMSOBJSvc/getRTMSDataSvcAptTrade?serviceKey=nZ02njfqpkFjCD6jQrv%2FCCn43ncg6K1tezHyfRUKoUn972atAVkQ7lwQ52bdMcKCOgKhFHwLexdziz86tkg%2FpA%3D%3D&pageNo=1&numOfRows=10&LAWD_CD=11110&DEAL_YMD=201512'"
      ]
     },
     "execution_count": 12,
     "metadata": {},
     "output_type": "execute_result"
    }
   ],
   "source": [
    "base_url"
   ]
  },
  {
   "cell_type": "code",
   "execution_count": 13,
   "id": "9ea652d8",
   "metadata": {
    "ExecuteTime": {
     "end_time": "2021-07-13T05:01:48.113493Z",
     "start_time": "2021-07-13T05:01:48.058698Z"
    }
   },
   "outputs": [
    {
     "data": {
      "text/plain": [
       "'<?xml version=\"1.0\" encoding=\"UTF-8\" standalone=\"yes\"?><response><header><resultCode>99</resultCode><resultMsg>NO OPENAPI SERVICE ERROR.</resultMsg></header></response>'"
      ]
     },
     "execution_count": 13,
     "metadata": {},
     "output_type": "execute_result"
    }
   ],
   "source": [
    "a = requests.get(base_url)\n",
    "a.text"
   ]
  },
  {
   "cell_type": "code",
   "execution_count": 10,
   "id": "1349b1fa",
   "metadata": {
    "ExecuteTime": {
     "end_time": "2021-07-13T04:59:28.042586Z",
     "start_time": "2021-07-13T04:59:27.992208Z"
    }
   },
   "outputs": [
    {
     "data": {
      "text/plain": [
       "<Response [405]>"
      ]
     },
     "execution_count": 10,
     "metadata": {},
     "output_type": "execute_result"
    }
   ],
   "source": [
    "a = requests.post(base_url)\n",
    "a"
   ]
  },
  {
   "cell_type": "code",
   "execution_count": null,
   "id": "4bffd589",
   "metadata": {},
   "outputs": [],
   "source": []
  }
 ],
 "metadata": {
  "kernelspec": {
   "display_name": "simon_env",
   "language": "python",
   "name": "simon_env"
  },
  "language_info": {
   "codemirror_mode": {
    "name": "ipython",
    "version": 3
   },
   "file_extension": ".py",
   "mimetype": "text/x-python",
   "name": "python",
   "nbconvert_exporter": "python",
   "pygments_lexer": "ipython3",
   "version": "3.7.10"
  }
 },
 "nbformat": 4,
 "nbformat_minor": 5
}
