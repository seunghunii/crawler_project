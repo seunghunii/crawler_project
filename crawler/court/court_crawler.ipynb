{
 "cells": [
  {
   "cell_type": "code",
   "execution_count": 1,
   "metadata": {
    "ExecuteTime": {
     "end_time": "2021-07-22T02:27:31.895484Z",
     "start_time": "2021-07-22T02:27:31.323976Z"
    }
   },
   "outputs": [],
   "source": [
    "import pandas as pd\n",
    "from selenium import webdriver\n",
    "from bs4 import BeautifulSoup\n",
    "from selenium.webdriver.common.alert import Alert\n",
    "import re\n",
    "from selenium.webdriver.support.ui import Select\n",
    "from time import sleep"
   ]
  },
  {
   "cell_type": "code",
   "execution_count": 2,
   "metadata": {
    "ExecuteTime": {
     "end_time": "2021-07-22T02:27:32.385045Z",
     "start_time": "2021-07-22T02:27:32.370085Z"
    }
   },
   "outputs": [],
   "source": [
    "dir_for_shinhan = 'C:/Users/shic/Desktop/shinhan_simon/chromedriver/chromedriver.exe'\n",
    "dir_for_seunghun = 'C:/Users/rsh15/Desktop/seunghuni/selenium/chromedriver.exe'"
   ]
  },
  {
   "cell_type": "code",
   "execution_count": 3,
   "metadata": {
    "ExecuteTime": {
     "end_time": "2021-07-22T02:27:35.186989Z",
     "start_time": "2021-07-22T02:27:32.851241Z"
    }
   },
   "outputs": [],
   "source": [
    "# chrome driver 지정해주고, 열어서 법원경매 사이트 접속\n",
    "driver = webdriver.Chrome(dir_for_shinhan)\n",
    "driver.get(url = 'http://www.courtauction.go.kr/RealUtilMaeTong.laf')\n",
    "\n",
    "# 시/도 옵션 목록 가져오고, 리스트로 만들기\n",
    "soup = BeautifulSoup(driver.page_source,'html.parser')\n",
    "big_regions = soup.find('select',{'id':'idSidoCode'}).find_all('option',{'value':re.compile('\\d')})\n",
    "big_regions = [k.text for k in big_regions]\n",
    "\n",
    "# 소재지 버튼 클릭\n",
    "driver.find_element_by_id('idBubwLocGubun2').click()\n",
    "\n",
    "# 창 maximize\n",
    "driver.maximize_window()"
   ]
  },
  {
   "cell_type": "code",
   "execution_count": 4,
   "metadata": {
    "ExecuteTime": {
     "end_time": "2021-07-22T02:27:40.506219Z",
     "start_time": "2021-07-22T02:27:40.490261Z"
    }
   },
   "outputs": [
    {
     "data": {
      "text/plain": [
       "['서울특별시',\n",
       " '부산광역시',\n",
       " '대구광역시',\n",
       " '인천광역시',\n",
       " '광주광역시',\n",
       " '대전광역시',\n",
       " '울산광역시',\n",
       " '세종특별자치시',\n",
       " '경기도',\n",
       " '강원도',\n",
       " '충청북도',\n",
       " '충청남도',\n",
       " '전라북도',\n",
       " '전라남도',\n",
       " '경상북도',\n",
       " '경상남도',\n",
       " '제주특별자치도']"
      ]
     },
     "execution_count": 4,
     "metadata": {},
     "output_type": "execute_result"
    }
   ],
   "source": [
    "big_regions"
   ]
  },
  {
   "cell_type": "markdown",
   "metadata": {},
   "source": [
    "각 시/도의 시/군/구별로 월별 데이터를 가져옴.   \n",
    "개별 데이터를 가져오는 것은 시간이 오래 걸리지 않으나, 경우의 수가 축적되며 상당히 오랜 시간이 걸림"
   ]
  },
  {
   "cell_type": "code",
   "execution_count": 5,
   "metadata": {
    "ExecuteTime": {
     "end_time": "2021-07-22T04:49:28.162384Z",
     "start_time": "2021-07-22T02:27:55.878466Z"
    }
   },
   "outputs": [
    {
     "name": "stdout",
     "output_type": "stream",
     "text": [
      "서울특별시 start.\n",
      "서울특별시 complete. 25 small countries.\n",
      "부산광역시 start.\n",
      "부산광역시 complete. 17 small countries.\n",
      "대구광역시 start.\n",
      "대구광역시 complete. 8 small countries.\n",
      "인천광역시 start.\n",
      "인천광역시 complete. 13 small countries.\n",
      "광주광역시 start.\n",
      "광주광역시 complete. 5 small countries.\n",
      "대전광역시 start.\n",
      "대전광역시 complete. 5 small countries.\n",
      "울산광역시 start.\n",
      "울산광역시 complete. 5 small countries.\n",
      "세종특별자치시 start.\n",
      "세종특별자치시 complete. 1 small countries.\n",
      "경기도 start.\n",
      "경기도 complete. 58 small countries.\n",
      "강원도 start.\n",
      "강원도 complete. 18 small countries.\n",
      "충청북도 start.\n",
      "충청북도 complete. 16 small countries.\n",
      "충청남도 start.\n",
      "충청남도 complete. 20 small countries.\n",
      "전라북도 start.\n",
      "전라북도 complete. 16 small countries.\n",
      "전라남도 start.\n",
      "전라남도 complete. 22 small countries.\n",
      "경상북도 start.\n",
      "경상북도 complete. 25 small countries.\n",
      "경상남도 start.\n",
      "경상남도 complete. 28 small countries.\n",
      "제주특별자치도 start.\n",
      "제주특별자치도 complete. 2 small countries.\n"
     ]
    }
   ],
   "source": [
    "regions_final = []\n",
    "for sido in big_regions:\n",
    "    print(sido,'start.')\n",
    "    # 한 시/도의 데이터프레임을 하나의 리스트에 담는다.\n",
    "    big_regions_list = []\n",
    "    \n",
    "    # 시/도 옵션 입력란 찾아서 넣어준다.\n",
    "    select1= driver.find_element_by_id('idSidoCode')\n",
    "    select1.send_keys(sido)\n",
    "    \n",
    "    # 시/도 옵션에 따라 바뀌는 시/군/구 데이터\n",
    "    soup = BeautifulSoup(driver.page_source,'html.parser')\n",
    "    small_regions = soup.find('select',{'id':'idSiguCode'}).find_all('option',{'value':re.compile('\\d')})\n",
    "    small_regions = [k.text.replace('\\n','') for k in small_regions]\n",
    "    \n",
    "    # 시/도 마다 시/군/구 데이터로 Loop\n",
    "    for sigu in small_regions:\n",
    "        select_sido = driver.find_element_by_id('idSidoCode')\n",
    "        select_sido.send_keys(sido)\n",
    "        \n",
    "        select_sigu = driver.find_element_by_id('idSiguCode')\n",
    "        select_sigu.send_keys(sigu)\n",
    "        \n",
    "        for year in range(2017,2022):\n",
    "            for month in range(1,13):\n",
    "                if (year==2021 and month > 6):\n",
    "                    break\n",
    "                \n",
    "                # send start year_month\n",
    "                select_start_year = driver.find_element_by_id('idSelStartYear')\n",
    "                select_start_year.send_keys(str(year))\n",
    "                \n",
    "                select_start_month = driver.find_element_by_id('idSelStartMnth')\n",
    "                select_start_month.send_keys(str(month))\n",
    "\n",
    "                # send enddd year_month\n",
    "                select_enddd_year = driver.find_element_by_id('idSelEndYear')\n",
    "                select_enddd_year.send_keys(str(year))\n",
    "                \n",
    "                select_enddd_month = driver.find_element_by_id('idSelEndMnth')\n",
    "                select_enddd_month.send_keys(str(month))\n",
    "                \n",
    "                # 조회버튼 클릭\n",
    "                driver.find_element_by_class_name('Ltbl_srch_btn').click()\n",
    "\n",
    "                # page_source 가져와서 테이블 파싱\n",
    "                soup = BeautifulSoup(driver.page_source,'html.parser')\n",
    "                parse_table = pd.read_html(driver.page_source)[0]\n",
    "\n",
    "                # parse_table에 시/도, 시/군/구 컬럼 추가\n",
    "                parse_table['sido'] = sido\n",
    "                parse_table['sigu'] = sigu\n",
    "                parse_table['year'] = year\n",
    "                \n",
    "                # 날짜 형식(월) 일원화\n",
    "                if len(str(month)) == 1:\n",
    "                    parse_table['month'] = '0'+str(month)\n",
    "                else:\n",
    "                    parse_table['month'] = str(month)\n",
    "        \n",
    "                # 시/도 리스트에 데이터프레임 추가\n",
    "                big_regions_list.append(parse_table)\n",
    "    print(sido,'complete.',len(small_regions),'small countries.')\n",
    "    \n",
    "    # 한 시/도 Loop가 끝나면 최종 리스트에 추가\n",
    "    regions_final.append(big_regions_list)"
   ]
  },
  {
   "cell_type": "code",
   "execution_count": 11,
   "metadata": {
    "ExecuteTime": {
     "end_time": "2021-07-22T05:10:01.142872Z",
     "start_time": "2021-07-22T05:09:55.586511Z"
    }
   },
   "outputs": [
    {
     "data": {
      "text/html": [
       "<div>\n",
       "<style scoped>\n",
       "    .dataframe tbody tr th:only-of-type {\n",
       "        vertical-align: middle;\n",
       "    }\n",
       "\n",
       "    .dataframe tbody tr th {\n",
       "        vertical-align: top;\n",
       "    }\n",
       "\n",
       "    .dataframe thead th {\n",
       "        text-align: right;\n",
       "    }\n",
       "</style>\n",
       "<table border=\"1\" class=\"dataframe\">\n",
       "  <thead>\n",
       "    <tr style=\"text-align: right;\">\n",
       "      <th></th>\n",
       "      <th>물건용도</th>\n",
       "      <th>물건용도.1</th>\n",
       "      <th>경매건수</th>\n",
       "      <th>매각건수</th>\n",
       "      <th>감정가(단위:원)</th>\n",
       "      <th>매각가(단위:원)</th>\n",
       "      <th>매각율</th>\n",
       "      <th>매각가율</th>\n",
       "      <th>sido</th>\n",
       "      <th>sigu</th>\n",
       "      <th>year</th>\n",
       "      <th>month</th>\n",
       "    </tr>\n",
       "  </thead>\n",
       "  <tbody>\n",
       "    <tr>\n",
       "      <th>0</th>\n",
       "      <td>아파트</td>\n",
       "      <td>아파트</td>\n",
       "      <td>7</td>\n",
       "      <td>7</td>\n",
       "      <td>9560988000</td>\n",
       "      <td>9163107000</td>\n",
       "      <td>100%</td>\n",
       "      <td>95.8%</td>\n",
       "      <td>서울특별시</td>\n",
       "      <td>강남구</td>\n",
       "      <td>2017</td>\n",
       "      <td>01</td>\n",
       "    </tr>\n",
       "    <tr>\n",
       "      <th>1</th>\n",
       "      <td>단독주택,다가구주택</td>\n",
       "      <td>단독주택</td>\n",
       "      <td>0</td>\n",
       "      <td>0</td>\n",
       "      <td>0</td>\n",
       "      <td>0</td>\n",
       "      <td>0%</td>\n",
       "      <td>0%</td>\n",
       "      <td>서울특별시</td>\n",
       "      <td>강남구</td>\n",
       "      <td>2017</td>\n",
       "      <td>01</td>\n",
       "    </tr>\n",
       "    <tr>\n",
       "      <th>2</th>\n",
       "      <td>단독주택,다가구주택</td>\n",
       "      <td>다가구주택</td>\n",
       "      <td>0</td>\n",
       "      <td>0</td>\n",
       "      <td>0</td>\n",
       "      <td>0</td>\n",
       "      <td>0%</td>\n",
       "      <td>0%</td>\n",
       "      <td>서울특별시</td>\n",
       "      <td>강남구</td>\n",
       "      <td>2017</td>\n",
       "      <td>01</td>\n",
       "    </tr>\n",
       "    <tr>\n",
       "      <th>3</th>\n",
       "      <td>단독주택,다가구주택</td>\n",
       "      <td>겸용</td>\n",
       "      <td>0</td>\n",
       "      <td>0</td>\n",
       "      <td>0</td>\n",
       "      <td>0</td>\n",
       "      <td>0%</td>\n",
       "      <td>0%</td>\n",
       "      <td>서울특별시</td>\n",
       "      <td>강남구</td>\n",
       "      <td>2017</td>\n",
       "      <td>01</td>\n",
       "    </tr>\n",
       "    <tr>\n",
       "      <th>4</th>\n",
       "      <td>단독주택,다가구주택</td>\n",
       "      <td>소계</td>\n",
       "      <td>0</td>\n",
       "      <td>0</td>\n",
       "      <td>0</td>\n",
       "      <td>0</td>\n",
       "      <td>0%</td>\n",
       "      <td>0%</td>\n",
       "      <td>서울특별시</td>\n",
       "      <td>강남구</td>\n",
       "      <td>2017</td>\n",
       "      <td>01</td>\n",
       "    </tr>\n",
       "    <tr>\n",
       "      <th>...</th>\n",
       "      <td>...</td>\n",
       "      <td>...</td>\n",
       "      <td>...</td>\n",
       "      <td>...</td>\n",
       "      <td>...</td>\n",
       "      <td>...</td>\n",
       "      <td>...</td>\n",
       "      <td>...</td>\n",
       "      <td>...</td>\n",
       "      <td>...</td>\n",
       "      <td>...</td>\n",
       "      <td>...</td>\n",
       "    </tr>\n",
       "    <tr>\n",
       "      <th>14</th>\n",
       "      <td>상가,오피스텔,근린시설</td>\n",
       "      <td>근린시설</td>\n",
       "      <td>0</td>\n",
       "      <td>0</td>\n",
       "      <td>0</td>\n",
       "      <td>0</td>\n",
       "      <td>0%</td>\n",
       "      <td>0%</td>\n",
       "      <td>제주특별자치도</td>\n",
       "      <td>제주시</td>\n",
       "      <td>2021</td>\n",
       "      <td>06</td>\n",
       "    </tr>\n",
       "    <tr>\n",
       "      <th>15</th>\n",
       "      <td>상가,오피스텔,근린시설</td>\n",
       "      <td>겸용</td>\n",
       "      <td>0</td>\n",
       "      <td>0</td>\n",
       "      <td>0</td>\n",
       "      <td>0</td>\n",
       "      <td>0%</td>\n",
       "      <td>0%</td>\n",
       "      <td>제주특별자치도</td>\n",
       "      <td>제주시</td>\n",
       "      <td>2021</td>\n",
       "      <td>06</td>\n",
       "    </tr>\n",
       "    <tr>\n",
       "      <th>16</th>\n",
       "      <td>상가,오피스텔,근린시설</td>\n",
       "      <td>소계</td>\n",
       "      <td>1</td>\n",
       "      <td>0</td>\n",
       "      <td>0</td>\n",
       "      <td>0</td>\n",
       "      <td>0%</td>\n",
       "      <td>0%</td>\n",
       "      <td>제주특별자치도</td>\n",
       "      <td>제주시</td>\n",
       "      <td>2021</td>\n",
       "      <td>06</td>\n",
       "    </tr>\n",
       "    <tr>\n",
       "      <th>17</th>\n",
       "      <td>기타</td>\n",
       "      <td>기타</td>\n",
       "      <td>0</td>\n",
       "      <td>0</td>\n",
       "      <td>0</td>\n",
       "      <td>0</td>\n",
       "      <td>0%</td>\n",
       "      <td>0%</td>\n",
       "      <td>제주특별자치도</td>\n",
       "      <td>제주시</td>\n",
       "      <td>2021</td>\n",
       "      <td>06</td>\n",
       "    </tr>\n",
       "    <tr>\n",
       "      <th>18</th>\n",
       "      <td>전체</td>\n",
       "      <td>전체</td>\n",
       "      <td>87</td>\n",
       "      <td>38</td>\n",
       "      <td>19072236090</td>\n",
       "      <td>13380669889</td>\n",
       "      <td>43.7%</td>\n",
       "      <td>70.2%</td>\n",
       "      <td>제주특별자치도</td>\n",
       "      <td>제주시</td>\n",
       "      <td>2021</td>\n",
       "      <td>06</td>\n",
       "    </tr>\n",
       "  </tbody>\n",
       "</table>\n",
       "<p>285624 rows × 12 columns</p>\n",
       "</div>"
      ],
      "text/plain": [
       "            물건용도 물건용도.1 경매건수 매각건수    감정가(단위:원)    매각가(단위:원)    매각율   매각가율  \\\n",
       "0            아파트    아파트    7    7   9560988000   9163107000   100%  95.8%   \n",
       "1     단독주택,다가구주택   단독주택    0    0            0            0     0%     0%   \n",
       "2     단독주택,다가구주택  다가구주택    0    0            0            0     0%     0%   \n",
       "3     단독주택,다가구주택     겸용    0    0            0            0     0%     0%   \n",
       "4     단독주택,다가구주택     소계    0    0            0            0     0%     0%   \n",
       "..           ...    ...  ...  ...          ...          ...    ...    ...   \n",
       "14  상가,오피스텔,근린시설   근린시설    0    0            0            0     0%     0%   \n",
       "15  상가,오피스텔,근린시설     겸용    0    0            0            0     0%     0%   \n",
       "16  상가,오피스텔,근린시설     소계    1    0            0            0     0%     0%   \n",
       "17            기타     기타    0    0            0            0     0%     0%   \n",
       "18            전체     전체   87   38  19072236090  13380669889  43.7%  70.2%   \n",
       "\n",
       "       sido sigu  year month  \n",
       "0     서울특별시  강남구  2017    01  \n",
       "1     서울특별시  강남구  2017    01  \n",
       "2     서울특별시  강남구  2017    01  \n",
       "3     서울특별시  강남구  2017    01  \n",
       "4     서울특별시  강남구  2017    01  \n",
       "..      ...  ...   ...   ...  \n",
       "14  제주특별자치도  제주시  2021    06  \n",
       "15  제주특별자치도  제주시  2021    06  \n",
       "16  제주특별자치도  제주시  2021    06  \n",
       "17  제주특별자치도  제주시  2021    06  \n",
       "18  제주특별자치도  제주시  2021    06  \n",
       "\n",
       "[285624 rows x 12 columns]"
      ]
     },
     "execution_count": 11,
     "metadata": {},
     "output_type": "execute_result"
    }
   ],
   "source": [
    "bind_list = [pd.concat(dd,axis=0) for dd in regions_final]\n",
    "df_court  = pd.concat(bind_list,axis=0)\n",
    "df_court"
   ]
  },
  {
   "cell_type": "code",
   "execution_count": 13,
   "metadata": {
    "ExecuteTime": {
     "end_time": "2021-07-22T05:13:37.744072Z",
     "start_time": "2021-07-22T05:13:37.734099Z"
    }
   },
   "outputs": [],
   "source": [
    "df_court.columns = ['물건용도_대분류','물건용도_소분류','경매건수','매각건수','감정가',\n",
    "                    '매각가','매각율','매각가율','시/도','시/군/구','시기_년','시기_월']"
   ]
  },
  {
   "cell_type": "code",
   "execution_count": null,
   "metadata": {},
   "outputs": [],
   "source": [
    "df_court.to_csv('C:/Users/shic/Desktop/crawler_project/data_save/courtauction/d')"
   ]
  }
 ],
 "metadata": {
  "kernelspec": {
   "display_name": "simon_env",
   "language": "python",
   "name": "simon_env"
  },
  "language_info": {
   "codemirror_mode": {
    "name": "ipython",
    "version": 3
   },
   "file_extension": ".py",
   "mimetype": "text/x-python",
   "name": "python",
   "nbconvert_exporter": "python",
   "pygments_lexer": "ipython3",
   "version": "3.7.10"
  },
  "toc": {
   "base_numbering": 1,
   "nav_menu": {},
   "number_sections": true,
   "sideBar": true,
   "skip_h1_title": true,
   "title_cell": "Table of Contents",
   "title_sidebar": "Contents",
   "toc_cell": false,
   "toc_position": {},
   "toc_section_display": true,
   "toc_window_display": false
  },
  "varInspector": {
   "cols": {
    "lenName": 16,
    "lenType": 16,
    "lenVar": 40
   },
   "kernels_config": {
    "python": {
     "delete_cmd_postfix": "",
     "delete_cmd_prefix": "del ",
     "library": "var_list.py",
     "varRefreshCmd": "print(var_dic_list())"
    },
    "r": {
     "delete_cmd_postfix": ") ",
     "delete_cmd_prefix": "rm(",
     "library": "var_list.r",
     "varRefreshCmd": "cat(var_dic_list()) "
    }
   },
   "types_to_exclude": [
    "module",
    "function",
    "builtin_function_or_method",
    "instance",
    "_Feature"
   ],
   "window_display": false
  }
 },
 "nbformat": 4,
 "nbformat_minor": 4
}
