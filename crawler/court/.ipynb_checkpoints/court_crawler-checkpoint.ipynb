{
 "cells": [
  {
   "cell_type": "code",
   "execution_count": 1,
   "metadata": {
    "ExecuteTime": {
     "end_time": "2021-07-07T14:35:27.737107Z",
     "start_time": "2021-07-07T14:35:27.727102Z"
    }
   },
   "outputs": [],
   "source": [
    "import pandas as pd\n",
    "from selenium import webdriver\n",
    "from bs4 import BeautifulSoup\n",
    "from selenium.webdriver.common.alert import Alert\n",
    "import re\n",
    "from selenium.webdriver.support.ui import Select\n",
    "from time import sleep"
   ]
  },
  {
   "cell_type": "code",
   "execution_count": 2,
   "metadata": {
    "ExecuteTime": {
     "end_time": "2021-07-07T14:35:29.996364Z",
     "start_time": "2021-07-07T14:35:29.984057Z"
    }
   },
   "outputs": [],
   "source": [
    "dir_for_shinhan = 'C:/Users/shic/Desktop/shinhan_simon/chromedriver/chromedriver.exe'\n",
    "dir_for_seunghun = 'C:/Users/rsh15/Desktop/seunghuni/selenium/chromedriver.exe'"
   ]
  },
  {
   "cell_type": "code",
   "execution_count": 3,
   "metadata": {
    "ExecuteTime": {
     "end_time": "2021-07-07T14:42:02.892876Z",
     "start_time": "2021-07-07T14:42:00.843035Z"
    }
   },
   "outputs": [],
   "source": [
    "# chrome driver 지정해주고, 열어서 법원경매 사이트 접속\n",
    "driver = webdriver.Chrome(dir_for_shinhan)\n",
    "driver.get(url = 'http://www.courtauction.go.kr/RealUtilMaeTong.laf')\n",
    "\n",
    "# 시/도 옵션 목록 가져오고, 리스트로 만들기\n",
    "soup = BeautifulSoup(driver.page_source,'html.parser')\n",
    "big_regions = soup.find('select',{'id':'idSidoCode'}).find_all('option',{'value':re.compile('\\d')})\n",
    "big_regions = [k.text for k in big_regions]\n",
    "\n",
    "# 소재지 버튼 클릭\n",
    "driver.find_element_by_id('idBubwLocGubun2').click()\n",
    "\n",
    "# 창 maximize\n",
    "driver.maximize_window()"
   ]
  },
  {
   "cell_type": "markdown",
   "metadata": {},
   "source": [
    "각 시/도의 시/군/구별로 월별 데이터를 가져옴.   \n",
    "개별 데이터를 가져오는 것은 시간이 오래 걸리지 않으나, 경우의 수가 축적되며 상당히 오랜 시간이 걸림"
   ]
  },
  {
   "cell_type": "code",
   "execution_count": 4,
   "metadata": {
    "ExecuteTime": {
     "end_time": "2021-07-07T15:41:00.941875Z",
     "start_time": "2021-07-07T14:47:54.390172Z"
    }
   },
   "outputs": [],
   "source": [
    "regions_final = []\n",
    "for sido in ['서울특별시','경기도']:\n",
    "    # 한 시/도의 데이터프레임을 하나의 리스트에 담는다.\n",
    "    big_regions_list = []\n",
    "    \n",
    "    # 시/도 옵션 입력란 찾아서 넣어준다.\n",
    "    select1= driver.find_element_by_id('idSidoCode')\n",
    "    select1.send_keys(sido)\n",
    "    \n",
    "    # 시/도 옵션에 따라 바뀌는 시/군/구 데이터\n",
    "    soup = BeautifulSoup(driver.page_source,'html.parser')\n",
    "    small_regions = soup.find('select',{'id':'idSiguCode'}).find_all('option',{'value':re.compile('\\d')})\n",
    "    small_regions = [k.text.replace('\\n','') for k in small_regions]\n",
    "    \n",
    "    # 시/도 마다 시/군/구 데이터로 Loop\n",
    "    for sigu in small_regions:\n",
    "        select_sido = driver.find_element_by_id('idSidoCode')\n",
    "        select_sido.send_keys(sido)\n",
    "        \n",
    "        select_sigu = driver.find_element_by_id('idSiguCode')\n",
    "        select_sigu.send_keys(sigu)\n",
    "        \n",
    "        for year in range(2010,2022):\n",
    "            for month in range(1,13):\n",
    "                if (year==2021 and month > 6):\n",
    "                    break\n",
    "                \n",
    "                # send start year_month\n",
    "                select_start_year = driver.find_element_by_id('idSelStartYear')\n",
    "                select_start_year.send_keys(str(year))\n",
    "                \n",
    "                select_start_month = driver.find_element_by_id('idSelStartMnth')\n",
    "                select_start_month.send_keys(str(month))\n",
    "\n",
    "                # send enddd year_month\n",
    "                select_enddd_year = driver.find_element_by_id('idSelEndYear')\n",
    "                select_enddd_year.send_keys(str(year))\n",
    "                \n",
    "                select_enddd_month = driver.find_element_by_id('idSelEndMnth')\n",
    "                select_enddd_month.send_keys(str(month))\n",
    "                \n",
    "                # 조회버튼 클릭\n",
    "                driver.find_element_by_class_name('Ltbl_srch_btn').click()\n",
    "\n",
    "                # page_source 가져와서 테이블 파싱\n",
    "                soup = BeautifulSoup(driver.page_source,'html.parser')\n",
    "                parse_table = pd.read_html(driver.page_source)[0]\n",
    "\n",
    "                # parse_table에 시/도, 시/군/구 컬럼 추가\n",
    "                parse_table['sido'] = sido\n",
    "                parse_table['sigu'] = sigu\n",
    "                parse_table['year'] = year\n",
    "                \n",
    "                if len(str(month)) == 1:\n",
    "                    parse_table['month'] = '0'+str(month)\n",
    "                else:\n",
    "                    parse_table['month'] = str(month)\n",
    "        \n",
    "                # 시/도 리스트에 데이터프레임 추가\n",
    "                big_regions_list.append(parse_table)\n",
    "    \n",
    "    # 한 시/도 Loop가 끝나면 최종 리스트에 추가\n",
    "    regions_final.append(big_regions_list)"
   ]
  },
  {
   "cell_type": "code",
   "execution_count": 6,
   "metadata": {},
   "outputs": [
    {
     "data": {
      "text/plain": [
       "2"
      ]
     },
     "execution_count": 6,
     "metadata": {},
     "output_type": "execute_result"
    }
   ],
   "source": [
    "len(regions_final)"
   ]
  },
  {
   "cell_type": "code",
   "execution_count": 16,
   "metadata": {},
   "outputs": [],
   "source": [
    "df_seoul   = pd.concat(regions_final[0],axis=0)\n",
    "df_gyeongi = pd.concat(regions_final[1],axis=0)\n",
    "df_bind    = pd.concat([df_seoul,df_gyeongi],axis=0)"
   ]
  },
  {
   "cell_type": "code",
   "execution_count": 17,
   "metadata": {},
   "outputs": [],
   "source": [
    "# save data to csv\n",
    "dirr = 'C:/Users/shic/Desktop/crawler_project/data_save/courtauction'\n",
    "df_seoul.to_csv(dirr+'/df_seoul.csv')\n",
    "df_gyeongi.to_csv(dirr+'/df_gyeongi.csv')\n",
    "df_bind.to_csv(dirr+'/df_bind.csv')"
   ]
  }
 ],
 "metadata": {
  "kernelspec": {
   "display_name": "simon_env",
   "language": "python",
   "name": "simon_env"
  },
  "language_info": {
   "codemirror_mode": {
    "name": "ipython",
    "version": 3
   },
   "file_extension": ".py",
   "mimetype": "text/x-python",
   "name": "python",
   "nbconvert_exporter": "python",
   "pygments_lexer": "ipython3",
   "version": "3.7.10"
  },
  "toc": {
   "base_numbering": 1,
   "nav_menu": {},
   "number_sections": true,
   "sideBar": true,
   "skip_h1_title": true,
   "title_cell": "Table of Contents",
   "title_sidebar": "Contents",
   "toc_cell": false,
   "toc_position": {},
   "toc_section_display": true,
   "toc_window_display": false
  },
  "varInspector": {
   "cols": {
    "lenName": 16,
    "lenType": 16,
    "lenVar": 40
   },
   "kernels_config": {
    "python": {
     "delete_cmd_postfix": "",
     "delete_cmd_prefix": "del ",
     "library": "var_list.py",
     "varRefreshCmd": "print(var_dic_list())"
    },
    "r": {
     "delete_cmd_postfix": ") ",
     "delete_cmd_prefix": "rm(",
     "library": "var_list.r",
     "varRefreshCmd": "cat(var_dic_list()) "
    }
   },
   "types_to_exclude": [
    "module",
    "function",
    "builtin_function_or_method",
    "instance",
    "_Feature"
   ],
   "window_display": false
  }
 },
 "nbformat": 4,
 "nbformat_minor": 4
}
