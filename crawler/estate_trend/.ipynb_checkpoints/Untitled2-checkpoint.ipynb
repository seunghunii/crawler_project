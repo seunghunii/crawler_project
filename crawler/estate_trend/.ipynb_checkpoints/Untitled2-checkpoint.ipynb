{
 "cells": [
  {
   "cell_type": "code",
   "execution_count": 1,
   "metadata": {
    "ExecuteTime": {
     "end_time": "2021-07-09T07:21:51.359740Z",
     "start_time": "2021-07-09T07:21:49.368815Z"
    }
   },
   "outputs": [],
   "source": [
    "import pandas as pd\n",
    "from selenium import webdriver\n",
    "from bs4 import BeautifulSoup\n",
    "from selenium.webdriver.common.alert import Alert\n",
    "import re\n",
    "from selenium.webdriver.support.ui import Select\n",
    "from time import sleep\n",
    "import requests\n",
    "import json\n",
    "import random\n",
    "import matplotlib.pyplot as plt\n",
    "import matplotlib as mpl\n",
    "import seaborn as sns"
   ]
  },
  {
   "cell_type": "code",
   "execution_count": 2,
   "metadata": {
    "ExecuteTime": {
     "end_time": "2021-07-09T07:14:53.558137Z",
     "start_time": "2021-07-09T07:14:53.550126Z"
    }
   },
   "outputs": [],
   "source": [
    "date_range = []\n",
    "for year in range(2012,2022):\n",
    "    for month in range(1,13):\n",
    "        year = str(year)\n",
    "        if month < 10:\n",
    "            month = '0' + str(month)\n",
    "        else:\n",
    "            month = str(month)\n",
    "        \n",
    "        string_bind = year+month\n",
    "        if string_bind == '202105':\n",
    "            break\n",
    "        else:\n",
    "            date_range.append(year+month)"
   ]
  },
  {
   "cell_type": "code",
   "execution_count": 3,
   "metadata": {
    "ExecuteTime": {
     "end_time": "2021-07-09T07:14:54.028794Z",
     "start_time": "2021-07-09T07:14:54.015829Z"
    }
   },
   "outputs": [],
   "source": [
    "urll = 'https://kosis.kr/openapi/statisticsData.do?method=getList&apiKey=Yjg5YjZmNTU0OThkMWNmYTE3MDY0ZWQzZjUyNjQ0YzY=&format=json&jsonVD=Y&userStatsId=rsh1502/390/DT_39002_02/2/1/20210709152529&prdSe=M&startPrdDe={}&endPrdDe={}'"
   ]
  },
  {
   "cell_type": "code",
   "execution_count": 4,
   "metadata": {
    "ExecuteTime": {
     "end_time": "2021-07-09T07:14:54.628958Z",
     "start_time": "2021-07-09T07:14:54.623976Z"
    }
   },
   "outputs": [],
   "source": [
    "dir_for_shinhan = 'C:/Users/shic/Desktop/shinhan_simon/chromedriver/chromedriver.exe'\n",
    "dir_for_seunghun = 'C:/Users/rsh15/Desktop/seunghuni/selenium/chromedriver.exe'"
   ]
  },
  {
   "cell_type": "code",
   "execution_count": 5,
   "metadata": {
    "ExecuteTime": {
     "end_time": "2021-07-09T07:14:56.546695Z",
     "start_time": "2021-07-09T07:14:55.232290Z"
    }
   },
   "outputs": [],
   "source": [
    "driver = webdriver.Chrome(dir_for_shinhan)"
   ]
  },
  {
   "cell_type": "code",
   "execution_count": 6,
   "metadata": {
    "ExecuteTime": {
     "end_time": "2021-07-09T07:20:28.160012Z",
     "start_time": "2021-07-09T07:15:00.846161Z"
    }
   },
   "outputs": [],
   "source": [
    "# 함수 실행 시간 5-6분 사이\n",
    "tmp_list = []\n",
    "for days in date_range:\n",
    "    one_url = urll.format(days,days)\n",
    "    \n",
    "    driver.get(one_url)\n",
    "    a = BeautifulSoup(driver.page_source,'html.parser')\n",
    "    a = a.find_all('body')[0].text\n",
    "    \n",
    "    if a == '{err:\"30\",errMsg:\"데이터가 존재하지 않습니다.\"}':\n",
    "        pass\n",
    "    else:\n",
    "        a_to_json = json.loads(a)\n",
    "        tmp_df = pd.DataFrame(a_to_json)\n",
    "        tmp_list.append(tmp_df)\n",
    "    \n",
    "    sleep(random.uniform(1,4))"
   ]
  },
  {
   "cell_type": "code",
   "execution_count": 7,
   "metadata": {
    "ExecuteTime": {
     "end_time": "2021-07-09T07:24:19.310469Z",
     "start_time": "2021-07-09T07:24:19.255324Z"
    }
   },
   "outputs": [
    {
     "data": {
      "text/html": [
       "<div>\n",
       "<style scoped>\n",
       "    .dataframe tbody tr th:only-of-type {\n",
       "        vertical-align: middle;\n",
       "    }\n",
       "\n",
       "    .dataframe tbody tr th {\n",
       "        vertical-align: top;\n",
       "    }\n",
       "\n",
       "    .dataframe thead th {\n",
       "        text-align: right;\n",
       "    }\n",
       "</style>\n",
       "<table border=\"1\" class=\"dataframe\">\n",
       "  <thead>\n",
       "    <tr style=\"text-align: right;\">\n",
       "      <th></th>\n",
       "      <th>DT</th>\n",
       "      <th>TBL_NM</th>\n",
       "      <th>PRD_SE</th>\n",
       "      <th>PRD_DE</th>\n",
       "      <th>C1</th>\n",
       "      <th>C1_NM</th>\n",
       "      <th>ITM_NM</th>\n",
       "      <th>TBL_ID</th>\n",
       "      <th>ITM_ID</th>\n",
       "      <th>ORG_ID</th>\n",
       "      <th>C1_OBJ_NM</th>\n",
       "    </tr>\n",
       "  </thead>\n",
       "  <tbody>\n",
       "    <tr>\n",
       "      <th>0</th>\n",
       "      <td>111.2</td>\n",
       "      <td>주택시장 소비심리지수</td>\n",
       "      <td>M</td>\n",
       "      <td>2012-01-01</td>\n",
       "      <td>K01</td>\n",
       "      <td>전국</td>\n",
       "      <td>주택시장소비심리지수</td>\n",
       "      <td>DT_39002_02</td>\n",
       "      <td>T1</td>\n",
       "      <td>390</td>\n",
       "      <td>시도별</td>\n",
       "    </tr>\n",
       "    <tr>\n",
       "      <th>1</th>\n",
       "      <td>106.0</td>\n",
       "      <td>주택시장 소비심리지수</td>\n",
       "      <td>M</td>\n",
       "      <td>2012-01-01</td>\n",
       "      <td>K02</td>\n",
       "      <td>수도권</td>\n",
       "      <td>주택시장소비심리지수</td>\n",
       "      <td>DT_39002_02</td>\n",
       "      <td>T1</td>\n",
       "      <td>390</td>\n",
       "      <td>시도별</td>\n",
       "    </tr>\n",
       "    <tr>\n",
       "      <th>2</th>\n",
       "      <td>107.8</td>\n",
       "      <td>주택시장 소비심리지수</td>\n",
       "      <td>M</td>\n",
       "      <td>2012-01-01</td>\n",
       "      <td>K0203</td>\n",
       "      <td>서울특별시</td>\n",
       "      <td>주택시장소비심리지수</td>\n",
       "      <td>DT_39002_02</td>\n",
       "      <td>T1</td>\n",
       "      <td>390</td>\n",
       "      <td>시도별</td>\n",
       "    </tr>\n",
       "    <tr>\n",
       "      <th>3</th>\n",
       "      <td>101.5</td>\n",
       "      <td>주택시장 소비심리지수</td>\n",
       "      <td>M</td>\n",
       "      <td>2012-01-01</td>\n",
       "      <td>K0204</td>\n",
       "      <td>인천광역시</td>\n",
       "      <td>주택시장소비심리지수</td>\n",
       "      <td>DT_39002_02</td>\n",
       "      <td>T1</td>\n",
       "      <td>390</td>\n",
       "      <td>시도별</td>\n",
       "    </tr>\n",
       "    <tr>\n",
       "      <th>4</th>\n",
       "      <td>105.9</td>\n",
       "      <td>주택시장 소비심리지수</td>\n",
       "      <td>M</td>\n",
       "      <td>2012-01-01</td>\n",
       "      <td>K0205</td>\n",
       "      <td>경기도</td>\n",
       "      <td>주택시장소비심리지수</td>\n",
       "      <td>DT_39002_02</td>\n",
       "      <td>T1</td>\n",
       "      <td>390</td>\n",
       "      <td>시도별</td>\n",
       "    </tr>\n",
       "    <tr>\n",
       "      <th>...</th>\n",
       "      <td>...</td>\n",
       "      <td>...</td>\n",
       "      <td>...</td>\n",
       "      <td>...</td>\n",
       "      <td>...</td>\n",
       "      <td>...</td>\n",
       "      <td>...</td>\n",
       "      <td>...</td>\n",
       "      <td>...</td>\n",
       "      <td>...</td>\n",
       "      <td>...</td>\n",
       "    </tr>\n",
       "    <tr>\n",
       "      <th>2069</th>\n",
       "      <td>112.1</td>\n",
       "      <td>주택시장 소비심리지수</td>\n",
       "      <td>M</td>\n",
       "      <td>2021-04-01</td>\n",
       "      <td>K0616</td>\n",
       "      <td>전라남도</td>\n",
       "      <td>주택시장소비심리지수</td>\n",
       "      <td>DT_39002_02</td>\n",
       "      <td>T1</td>\n",
       "      <td>390</td>\n",
       "      <td>시도별</td>\n",
       "    </tr>\n",
       "    <tr>\n",
       "      <th>2070</th>\n",
       "      <td>121.1</td>\n",
       "      <td>주택시장 소비심리지수</td>\n",
       "      <td>M</td>\n",
       "      <td>2021-04-01</td>\n",
       "      <td>K0617</td>\n",
       "      <td>경상북도</td>\n",
       "      <td>주택시장소비심리지수</td>\n",
       "      <td>DT_39002_02</td>\n",
       "      <td>T1</td>\n",
       "      <td>390</td>\n",
       "      <td>시도별</td>\n",
       "    </tr>\n",
       "    <tr>\n",
       "      <th>2071</th>\n",
       "      <td>115.4</td>\n",
       "      <td>주택시장 소비심리지수</td>\n",
       "      <td>M</td>\n",
       "      <td>2021-04-01</td>\n",
       "      <td>K0618</td>\n",
       "      <td>경상남도</td>\n",
       "      <td>주택시장소비심리지수</td>\n",
       "      <td>DT_39002_02</td>\n",
       "      <td>T1</td>\n",
       "      <td>390</td>\n",
       "      <td>시도별</td>\n",
       "    </tr>\n",
       "    <tr>\n",
       "      <th>2072</th>\n",
       "      <td>93.3</td>\n",
       "      <td>주택시장 소비심리지수</td>\n",
       "      <td>M</td>\n",
       "      <td>2021-04-01</td>\n",
       "      <td>k0619</td>\n",
       "      <td>세종특별자치시</td>\n",
       "      <td>주택시장소비심리지수</td>\n",
       "      <td>DT_39002_02</td>\n",
       "      <td>T1</td>\n",
       "      <td>390</td>\n",
       "      <td>시도별</td>\n",
       "    </tr>\n",
       "    <tr>\n",
       "      <th>2073</th>\n",
       "      <td>120.0</td>\n",
       "      <td>주택시장 소비심리지수</td>\n",
       "      <td>M</td>\n",
       "      <td>2021-04-01</td>\n",
       "      <td>k0620</td>\n",
       "      <td>제주특별자치도</td>\n",
       "      <td>주택시장소비심리지수</td>\n",
       "      <td>DT_39002_02</td>\n",
       "      <td>T1</td>\n",
       "      <td>390</td>\n",
       "      <td>시도별</td>\n",
       "    </tr>\n",
       "  </tbody>\n",
       "</table>\n",
       "<p>2074 rows × 11 columns</p>\n",
       "</div>"
      ],
      "text/plain": [
       "         DT       TBL_NM PRD_SE     PRD_DE     C1    C1_NM      ITM_NM  \\\n",
       "0     111.2  주택시장 소비심리지수      M 2012-01-01    K01       전국  주택시장소비심리지수   \n",
       "1     106.0  주택시장 소비심리지수      M 2012-01-01    K02      수도권  주택시장소비심리지수   \n",
       "2     107.8  주택시장 소비심리지수      M 2012-01-01  K0203    서울특별시  주택시장소비심리지수   \n",
       "3     101.5  주택시장 소비심리지수      M 2012-01-01  K0204    인천광역시  주택시장소비심리지수   \n",
       "4     105.9  주택시장 소비심리지수      M 2012-01-01  K0205      경기도  주택시장소비심리지수   \n",
       "...     ...          ...    ...        ...    ...      ...         ...   \n",
       "2069  112.1  주택시장 소비심리지수      M 2021-04-01  K0616     전라남도  주택시장소비심리지수   \n",
       "2070  121.1  주택시장 소비심리지수      M 2021-04-01  K0617     경상북도  주택시장소비심리지수   \n",
       "2071  115.4  주택시장 소비심리지수      M 2021-04-01  K0618     경상남도  주택시장소비심리지수   \n",
       "2072   93.3  주택시장 소비심리지수      M 2021-04-01  k0619  세종특별자치시  주택시장소비심리지수   \n",
       "2073  120.0  주택시장 소비심리지수      M 2021-04-01  k0620  제주특별자치도  주택시장소비심리지수   \n",
       "\n",
       "           TBL_ID ITM_ID ORG_ID C1_OBJ_NM  \n",
       "0     DT_39002_02     T1    390       시도별  \n",
       "1     DT_39002_02     T1    390       시도별  \n",
       "2     DT_39002_02     T1    390       시도별  \n",
       "3     DT_39002_02     T1    390       시도별  \n",
       "4     DT_39002_02     T1    390       시도별  \n",
       "...           ...    ...    ...       ...  \n",
       "2069  DT_39002_02     T1    390       시도별  \n",
       "2070  DT_39002_02     T1    390       시도별  \n",
       "2071  DT_39002_02     T1    390       시도별  \n",
       "2072  DT_39002_02     T1    390       시도별  \n",
       "2073  DT_39002_02     T1    390       시도별  \n",
       "\n",
       "[2074 rows x 11 columns]"
      ]
     },
     "execution_count": 7,
     "metadata": {},
     "output_type": "execute_result"
    }
   ],
   "source": [
    "df = pd.concat(tmp_list).reset_index(drop=True)\n",
    "df['PRD_DE'] = pd.to_datetime(df['PRD_DE'],format='%Y%m')\n",
    "df['DT'] = df['DT'].astype(float)\n",
    "df"
   ]
  },
  {
   "cell_type": "code",
   "execution_count": 8,
   "metadata": {
    "ExecuteTime": {
     "end_time": "2021-07-09T07:24:33.179023Z",
     "start_time": "2021-07-09T07:24:32.952893Z"
    }
   },
   "outputs": [
    {
     "data": {
      "text/plain": [
       "<AxesSubplot:xlabel='PRD_DE', ylabel='DT'>"
      ]
     },
     "execution_count": 8,
     "metadata": {},
     "output_type": "execute_result"
    },
    {
     "data": {
      "image/png": "[encoded data removed]",
      "text/plain": [
       "<Figure size 1296x576 with 1 Axes>"
      ]
     },
     "metadata": {
      "needs_background": "light"
     },
     "output_type": "display_data"
    }
   ],
   "source": [
    "plt.figure(figsize=(18,8))\n",
    "sns.lineplot(x='PRD_DE',y='DT',data=df[df['C1_NM']=='전국'])"
   ]
  },
  {
   "cell_type": "code",
   "execution_count": null,
   "metadata": {},
   "outputs": [],
   "source": []
  }
 ],
 "metadata": {
  "kernelspec": {
   "display_name": "simon_env",
   "language": "python",
   "name": "simon_env"
  },
  "language_info": {
   "codemirror_mode": {
    "name": "ipython",
    "version": 3
   },
   "file_extension": ".py",
   "mimetype": "text/x-python",
   "name": "python",
   "nbconvert_exporter": "python",
   "pygments_lexer": "ipython3",
   "version": "3.7.10"
  },
  "toc": {
   "base_numbering": 1,
   "nav_menu": {},
   "number_sections": true,
   "sideBar": true,
   "skip_h1_title": true,
   "title_cell": "Table of Contents",
   "title_sidebar": "Contents",
   "toc_cell": false,
   "toc_position": {},
   "toc_section_display": true,
   "toc_window_display": false
  },
  "varInspector": {
   "cols": {
    "lenName": 16,
    "lenType": 16,
    "lenVar": 40
   },
   "kernels_config": {
    "python": {
     "delete_cmd_postfix": "",
     "delete_cmd_prefix": "del ",
     "library": "var_list.py",
     "varRefreshCmd": "print(var_dic_list())"
    },
    "r": {
     "delete_cmd_postfix": ") ",
     "delete_cmd_prefix": "rm(",
     "library": "var_list.r",
     "varRefreshCmd": "cat(var_dic_list()) "
    }
   },
   "types_to_exclude": [
    "module",
    "function",
    "builtin_function_or_method",
    "instance",
    "_Feature"
   ],
   "window_display": false
  }
 },
 "nbformat": 4,
 "nbformat_minor": 4
}
