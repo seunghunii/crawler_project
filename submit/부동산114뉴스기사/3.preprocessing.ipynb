{
 "cells": [
  {
   "cell_type": "code",
   "execution_count": 13,
   "id": "9ebf08e7",
   "metadata": {
    "ExecuteTime": {
     "end_time": "2021-08-19T14:47:03.051746Z",
     "start_time": "2021-08-19T14:47:03.043734Z"
    }
   },
   "outputs": [],
   "source": [
    "import pandas as pd\n",
    "import warnings\n",
    "import re\n",
    "warnings.filterwarnings('ignore')"
   ]
  },
  {
   "cell_type": "code",
   "execution_count": 2,
   "id": "aa0de0d3",
   "metadata": {
    "ExecuteTime": {
     "end_time": "2021-08-19T14:46:31.067974Z",
     "start_time": "2021-08-19T14:46:31.058992Z"
    }
   },
   "outputs": [],
   "source": [
    "dirr = 'C:/Users/shic/Desktop/shinhan_simon/google_drive/crawler_data/estate_news/'\n",
    "dirr = 'C:/Users/rsh15/Google Drive/crawler_data/estate_news/'"
   ]
  },
  {
   "cell_type": "code",
   "execution_count": 3,
   "id": "286b9464",
   "metadata": {
    "ExecuteTime": {
     "end_time": "2021-08-19T14:46:47.087590Z",
     "start_time": "2021-08-19T14:46:43.189259Z"
    }
   },
   "outputs": [],
   "source": [
    "df = pd.read_csv(dirr + 'article_df2.csv')\n",
    "df_link = pd.read_csv(dirr + 'article_links.csv')"
   ]
  },
  {
   "cell_type": "code",
   "execution_count": 4,
   "id": "67c5ae0c",
   "metadata": {
    "ExecuteTime": {
     "end_time": "2021-08-19T14:46:48.964075Z",
     "start_time": "2021-08-19T14:46:48.941137Z"
    }
   },
   "outputs": [],
   "source": [
    "df = pd.concat([df,df_link],axis=1)"
   ]
  },
  {
   "cell_type": "code",
   "execution_count": 5,
   "id": "09014f98",
   "metadata": {
    "ExecuteTime": {
     "end_time": "2021-08-19T14:46:49.842144Z",
     "start_time": "2021-08-19T14:46:49.500375Z"
    }
   },
   "outputs": [],
   "source": [
    "df = df.drop_duplicates().sort_values('write_time')\n",
    "df = df[df['article_title'] != 'no article title']\n",
    "df = df.reset_index(drop=True)"
   ]
  },
  {
   "cell_type": "code",
   "execution_count": 6,
   "id": "b7066c72",
   "metadata": {
    "ExecuteTime": {
     "end_time": "2021-08-19T14:46:49.961805Z",
     "start_time": "2021-08-19T14:46:49.952828Z"
    }
   },
   "outputs": [],
   "source": [
    "df.columns = ['NEWS_TITLE_NM','NEWS_BODY_CNTT','drop_col','NTC_YMD','NEWS_URL']"
   ]
  },
  {
   "cell_type": "code",
   "execution_count": 7,
   "id": "592f68ca",
   "metadata": {
    "ExecuteTime": {
     "end_time": "2021-08-19T14:46:51.160798Z",
     "start_time": "2021-08-19T14:46:51.137821Z"
    }
   },
   "outputs": [],
   "source": [
    "df.loc[:,['NEWS_MEDIA_TP_CODE','PSTV_VCBLRY_CNT','NGTV_VCBLRY_CNT','PSTV_RPD_CNT','NGTV_RPD_CNT']] = 'NULL'\n",
    "df['KORLANG_ENG_TP_CODE'] = 0"
   ]
  },
  {
   "cell_type": "code",
   "execution_count": 8,
   "id": "1a9031ef",
   "metadata": {
    "ExecuteTime": {
     "end_time": "2021-08-19T14:46:52.019390Z",
     "start_time": "2021-08-19T14:46:51.972610Z"
    }
   },
   "outputs": [],
   "source": [
    "df = df[['NEWS_TITLE_NM','NTC_YMD','NEWS_MEDIA_TP_CODE','NEWS_BODY_CNTT','NEWS_URL','KORLANG_ENG_TP_CODE',\n",
    "         'PSTV_VCBLRY_CNT','NGTV_VCBLRY_CNT','PSTV_RPD_CNT','NGTV_RPD_CNT']]"
   ]
  },
  {
   "cell_type": "code",
   "execution_count": 9,
   "id": "7b8e63cd",
   "metadata": {
    "ExecuteTime": {
     "end_time": "2021-08-19T14:46:54.890711Z",
     "start_time": "2021-08-19T14:46:54.835407Z"
    }
   },
   "outputs": [],
   "source": [
    "df['NTC_YMD'] = df['NTC_YMD'].str.slice(stop=10)"
   ]
  },
  {
   "cell_type": "code",
   "execution_count": 14,
   "id": "1c8372ab",
   "metadata": {
    "ExecuteTime": {
     "end_time": "2021-08-19T14:47:05.842287Z",
     "start_time": "2021-08-19T14:47:05.825333Z"
    }
   },
   "outputs": [],
   "source": [
    "def news_article_preprocess(article_cnt):\n",
    "    content_txt = re.sub(r'[\\(\\[].*?[\\)\\]]','',article_cnt)\n",
    "    content_txt = re.sub('<.*?>','',content_txt)\n",
    "    content_txt = re.sub('＜.*?＞','',content_txt)\n",
    "    content_txt = re.sub('\\s{2,}','',content_txt)\n",
    "    content_txt = content_txt.replace('부동산114','')\n",
    "    return content_txt"
   ]
  },
  {
   "cell_type": "code",
   "execution_count": 23,
   "id": "37dba16c",
   "metadata": {
    "ExecuteTime": {
     "end_time": "2021-08-19T14:49:04.521367Z",
     "start_time": "2021-08-19T14:49:00.902038Z"
    }
   },
   "outputs": [],
   "source": [
    "df['NEWS_BODY_CNTT'] = df['NEWS_BODY_CNTT'].astype(str).map(news_article_preprocess)"
   ]
  },
  {
   "cell_type": "code",
   "execution_count": 24,
   "id": "31be5455",
   "metadata": {
    "ExecuteTime": {
     "end_time": "2021-08-19T14:49:05.073166Z",
     "start_time": "2021-08-19T14:49:05.032258Z"
    }
   },
   "outputs": [
    {
     "data": {
      "text/html": [
       "<div>\n",
       "<style scoped>\n",
       "    .dataframe tbody tr th:only-of-type {\n",
       "        vertical-align: middle;\n",
       "    }\n",
       "\n",
       "    .dataframe tbody tr th {\n",
       "        vertical-align: top;\n",
       "    }\n",
       "\n",
       "    .dataframe thead th {\n",
       "        text-align: right;\n",
       "    }\n",
       "</style>\n",
       "<table border=\"1\" class=\"dataframe\">\n",
       "  <thead>\n",
       "    <tr style=\"text-align: right;\">\n",
       "      <th></th>\n",
       "      <th>NEWS_TITLE_NM</th>\n",
       "      <th>NTC_YMD</th>\n",
       "      <th>NEWS_MEDIA_TP_CODE</th>\n",
       "      <th>NEWS_BODY_CNTT</th>\n",
       "      <th>NEWS_URL</th>\n",
       "      <th>KORLANG_ENG_TP_CODE</th>\n",
       "      <th>PSTV_VCBLRY_CNT</th>\n",
       "      <th>NGTV_VCBLRY_CNT</th>\n",
       "      <th>PSTV_RPD_CNT</th>\n",
       "      <th>NGTV_RPD_CNT</th>\n",
       "    </tr>\n",
       "  </thead>\n",
       "  <tbody>\n",
       "    <tr>\n",
       "      <th>0</th>\n",
       "      <td>[주간부동산] 매매·전세, 연말연시 맞아 `한산`</td>\n",
       "      <td>2012.01.01</td>\n",
       "      <td>NULL</td>\n",
       "      <td>- 매매, 서울 0.05%↓, 신도시 0.02%↓, 수도권 0.02%↓- 전세, 서...</td>\n",
       "      <td>https://news.naver.com/main/read.nhn?mode=LSD&amp;...</td>\n",
       "      <td>0</td>\n",
       "      <td>NULL</td>\n",
       "      <td>NULL</td>\n",
       "      <td>NULL</td>\n",
       "      <td>NULL</td>\n",
       "    </tr>\n",
       "    <tr>\n",
       "      <th>1</th>\n",
       "      <td>연말 거래 한산, 매매도 전세도 약세 지속</td>\n",
       "      <td>2012.01.01</td>\n",
       "      <td>NULL</td>\n",
       "      <td>서울 아파트 값이 2주 연속 하락세다. 2011년 마지막 주 시장은 비수기로 한산했...</td>\n",
       "      <td>https://news.naver.com/main/read.nhn?mode=LSD&amp;...</td>\n",
       "      <td>0</td>\n",
       "      <td>NULL</td>\n",
       "      <td>NULL</td>\n",
       "      <td>NULL</td>\n",
       "      <td>NULL</td>\n",
       "    </tr>\n",
       "    <tr>\n",
       "      <th>2</th>\n",
       "      <td>2012년 아파트 공급 줄고, 오피스텔 늘고</td>\n",
       "      <td>2012.01.01</td>\n",
       "      <td>NULL</td>\n",
       "      <td>새해에는 브랜드 아파트 공급은 작년보다 줄고, 대표적인 수익형부동산 상품인 오피스텔...</td>\n",
       "      <td>https://news.naver.com/main/read.nhn?mode=LSD&amp;...</td>\n",
       "      <td>0</td>\n",
       "      <td>NULL</td>\n",
       "      <td>NULL</td>\n",
       "      <td>NULL</td>\n",
       "      <td>NULL</td>\n",
       "    </tr>\n",
       "    <tr>\n",
       "      <th>3</th>\n",
       "      <td>수도권 집 한 채에 지방 아파트 몇 채 산다고?</td>\n",
       "      <td>2012.01.01</td>\n",
       "      <td>NULL</td>\n",
       "      <td>수도권 아파트 한 채 값에 지방 아파트 여러 채를 산다는 말도 옛말이 됐다. 지방 ...</td>\n",
       "      <td>https://news.naver.com/main/read.nhn?mode=LSD&amp;...</td>\n",
       "      <td>0</td>\n",
       "      <td>NULL</td>\n",
       "      <td>NULL</td>\n",
       "      <td>NULL</td>\n",
       "      <td>NULL</td>\n",
       "    </tr>\n",
       "    <tr>\n",
       "      <th>4</th>\n",
       "      <td>고급빌라 맞수 청담동 vs 한남동…“유엔빌리지(한남동) 살아요” ‘70억 펜트하우스...</td>\n",
       "      <td>2012.01.01</td>\n",
       "      <td>NULL</td>\n",
       "      <td>한남동 유엔빌리지. / 청담동 마크힐스. TV 드라마 속 부잣집에서 전화를 받는 사...</td>\n",
       "      <td>https://news.naver.com/main/read.nhn?mode=LSD&amp;...</td>\n",
       "      <td>0</td>\n",
       "      <td>NULL</td>\n",
       "      <td>NULL</td>\n",
       "      <td>NULL</td>\n",
       "      <td>NULL</td>\n",
       "    </tr>\n",
       "    <tr>\n",
       "      <th>...</th>\n",
       "      <td>...</td>\n",
       "      <td>...</td>\n",
       "      <td>...</td>\n",
       "      <td>...</td>\n",
       "      <td>...</td>\n",
       "      <td>...</td>\n",
       "      <td>...</td>\n",
       "      <td>...</td>\n",
       "      <td>...</td>\n",
       "      <td>...</td>\n",
       "    </tr>\n",
       "    <tr>\n",
       "      <th>45928</th>\n",
       "      <td>[분양캘린더]8월 첫째 주 1만4368가구 분양…견본주택 3곳 개관</td>\n",
       "      <td>2021.07.31</td>\n",
       "      <td>NULL</td>\n",
       "      <td>전국 20개 단지…일반분양 1만86가구 31일 에 따르면 8월 첫째 주에는 전국 2...</td>\n",
       "      <td>https://news.naver.com/main/read.naver?mode=LS...</td>\n",
       "      <td>0</td>\n",
       "      <td>NULL</td>\n",
       "      <td>NULL</td>\n",
       "      <td>NULL</td>\n",
       "      <td>NULL</td>\n",
       "    </tr>\n",
       "    <tr>\n",
       "      <th>45929</th>\n",
       "      <td>[부동산캘린더] 3기 신도시 사전청약 1순위 접수…분양시장 후끈</td>\n",
       "      <td>2021.07.31</td>\n",
       "      <td>NULL</td>\n",
       "      <td>김동규 기자 = 다음 주에는 3기 신도시 사전청약 1순위 접수를 비롯해 전국에서 ...</td>\n",
       "      <td>https://news.naver.com/main/read.naver?mode=LS...</td>\n",
       "      <td>0</td>\n",
       "      <td>NULL</td>\n",
       "      <td>NULL</td>\n",
       "      <td>NULL</td>\n",
       "      <td>NULL</td>\n",
       "    </tr>\n",
       "    <tr>\n",
       "      <th>45930</th>\n",
       "      <td>올 상반기 청약률 상위 단지는 초등학교 도보 통학권</td>\n",
       "      <td>2021.07.31</td>\n",
       "      <td>NULL</td>\n",
       "      <td>분양 시장 주 수요층 3040세대, 자녀 교육 우선안전한 통학 환경 선호해올해 상반...</td>\n",
       "      <td>https://news.naver.com/main/read.naver?mode=LS...</td>\n",
       "      <td>0</td>\n",
       "      <td>NULL</td>\n",
       "      <td>NULL</td>\n",
       "      <td>NULL</td>\n",
       "      <td>NULL</td>\n",
       "    </tr>\n",
       "    <tr>\n",
       "      <th>45931</th>\n",
       "      <td>집값에 치이고 전셋값에 또 치이고</td>\n",
       "      <td>2021.07.31</td>\n",
       "      <td>NULL</td>\n",
       "      <td>전셋값→집값 상승 악순환서울·수도권·지방까지 전셋값 상승 확산집값은 '고점 예고' ...</td>\n",
       "      <td>https://news.naver.com/main/read.naver?mode=LS...</td>\n",
       "      <td>0</td>\n",
       "      <td>NULL</td>\n",
       "      <td>NULL</td>\n",
       "      <td>NULL</td>\n",
       "      <td>NULL</td>\n",
       "    </tr>\n",
       "    <tr>\n",
       "      <th>45932</th>\n",
       "      <td>전셋값 폭등에 임대 아파트에 눈길… 호반건설, '호반써밋 그랜드파크 II, IV' 공급</td>\n",
       "      <td>2021.07.31</td>\n",
       "      <td>NULL</td>\n",
       "      <td>━최장 10년간 거주 가능… 교통, 생활 편의, 쾌적성 두루 갖춘 입지에 합리적인 ...</td>\n",
       "      <td>https://news.naver.com/main/read.naver?mode=LS...</td>\n",
       "      <td>0</td>\n",
       "      <td>NULL</td>\n",
       "      <td>NULL</td>\n",
       "      <td>NULL</td>\n",
       "      <td>NULL</td>\n",
       "    </tr>\n",
       "  </tbody>\n",
       "</table>\n",
       "<p>45933 rows × 10 columns</p>\n",
       "</div>"
      ],
      "text/plain": [
       "                                           NEWS_TITLE_NM     NTC_YMD  \\\n",
       "0                            [주간부동산] 매매·전세, 연말연시 맞아 `한산`  2012.01.01   \n",
       "1                                연말 거래 한산, 매매도 전세도 약세 지속  2012.01.01   \n",
       "2                               2012년 아파트 공급 줄고, 오피스텔 늘고  2012.01.01   \n",
       "3                             수도권 집 한 채에 지방 아파트 몇 채 산다고?  2012.01.01   \n",
       "4      고급빌라 맞수 청담동 vs 한남동…“유엔빌리지(한남동) 살아요” ‘70억 펜트하우스...  2012.01.01   \n",
       "...                                                  ...         ...   \n",
       "45928              [분양캘린더]8월 첫째 주 1만4368가구 분양…견본주택 3곳 개관  2021.07.31   \n",
       "45929                [부동산캘린더] 3기 신도시 사전청약 1순위 접수…분양시장 후끈  2021.07.31   \n",
       "45930                       올 상반기 청약률 상위 단지는 초등학교 도보 통학권  2021.07.31   \n",
       "45931                                 집값에 치이고 전셋값에 또 치이고  2021.07.31   \n",
       "45932   전셋값 폭등에 임대 아파트에 눈길… 호반건설, '호반써밋 그랜드파크 II, IV' 공급  2021.07.31   \n",
       "\n",
       "      NEWS_MEDIA_TP_CODE                                     NEWS_BODY_CNTT  \\\n",
       "0                   NULL  - 매매, 서울 0.05%↓, 신도시 0.02%↓, 수도권 0.02%↓- 전세, 서...   \n",
       "1                   NULL  서울 아파트 값이 2주 연속 하락세다. 2011년 마지막 주 시장은 비수기로 한산했...   \n",
       "2                   NULL  새해에는 브랜드 아파트 공급은 작년보다 줄고, 대표적인 수익형부동산 상품인 오피스텔...   \n",
       "3                   NULL  수도권 아파트 한 채 값에 지방 아파트 여러 채를 산다는 말도 옛말이 됐다. 지방 ...   \n",
       "4                   NULL  한남동 유엔빌리지. / 청담동 마크힐스. TV 드라마 속 부잣집에서 전화를 받는 사...   \n",
       "...                  ...                                                ...   \n",
       "45928               NULL  전국 20개 단지…일반분양 1만86가구 31일 에 따르면 8월 첫째 주에는 전국 2...   \n",
       "45929               NULL   김동규 기자 = 다음 주에는 3기 신도시 사전청약 1순위 접수를 비롯해 전국에서 ...   \n",
       "45930               NULL  분양 시장 주 수요층 3040세대, 자녀 교육 우선안전한 통학 환경 선호해올해 상반...   \n",
       "45931               NULL  전셋값→집값 상승 악순환서울·수도권·지방까지 전셋값 상승 확산집값은 '고점 예고' ...   \n",
       "45932               NULL  ━최장 10년간 거주 가능… 교통, 생활 편의, 쾌적성 두루 갖춘 입지에 합리적인 ...   \n",
       "\n",
       "                                                NEWS_URL  KORLANG_ENG_TP_CODE  \\\n",
       "0      https://news.naver.com/main/read.nhn?mode=LSD&...                    0   \n",
       "1      https://news.naver.com/main/read.nhn?mode=LSD&...                    0   \n",
       "2      https://news.naver.com/main/read.nhn?mode=LSD&...                    0   \n",
       "3      https://news.naver.com/main/read.nhn?mode=LSD&...                    0   \n",
       "4      https://news.naver.com/main/read.nhn?mode=LSD&...                    0   \n",
       "...                                                  ...                  ...   \n",
       "45928  https://news.naver.com/main/read.naver?mode=LS...                    0   \n",
       "45929  https://news.naver.com/main/read.naver?mode=LS...                    0   \n",
       "45930  https://news.naver.com/main/read.naver?mode=LS...                    0   \n",
       "45931  https://news.naver.com/main/read.naver?mode=LS...                    0   \n",
       "45932  https://news.naver.com/main/read.naver?mode=LS...                    0   \n",
       "\n",
       "      PSTV_VCBLRY_CNT NGTV_VCBLRY_CNT PSTV_RPD_CNT NGTV_RPD_CNT  \n",
       "0                NULL            NULL         NULL         NULL  \n",
       "1                NULL            NULL         NULL         NULL  \n",
       "2                NULL            NULL         NULL         NULL  \n",
       "3                NULL            NULL         NULL         NULL  \n",
       "4                NULL            NULL         NULL         NULL  \n",
       "...               ...             ...          ...          ...  \n",
       "45928            NULL            NULL         NULL         NULL  \n",
       "45929            NULL            NULL         NULL         NULL  \n",
       "45930            NULL            NULL         NULL         NULL  \n",
       "45931            NULL            NULL         NULL         NULL  \n",
       "45932            NULL            NULL         NULL         NULL  \n",
       "\n",
       "[45933 rows x 10 columns]"
      ]
     },
     "execution_count": 24,
     "metadata": {},
     "output_type": "execute_result"
    }
   ],
   "source": [
    "df"
   ]
  },
  {
   "cell_type": "code",
   "execution_count": 106,
   "id": "b0e69bef",
   "metadata": {
    "ExecuteTime": {
     "end_time": "2021-08-11T07:36:35.467924Z",
     "start_time": "2021-08-11T07:36:33.159786Z"
    }
   },
   "outputs": [],
   "source": [
    "df.to_csv(dirr + 'RAA_부동산114뉴스기사_유승훈_수정.csv',index=False,encoding='UTF-8-sig')"
   ]
  }
 ],
 "metadata": {
  "kernelspec": {
   "display_name": "simon_env",
   "language": "python",
   "name": "simon_env"
  },
  "language_info": {
   "codemirror_mode": {
    "name": "ipython",
    "version": 3
   },
   "file_extension": ".py",
   "mimetype": "text/x-python",
   "name": "python",
   "nbconvert_exporter": "python",
   "pygments_lexer": "ipython3",
   "version": "3.7.11"
  },
  "toc": {
   "base_numbering": 1,
   "nav_menu": {},
   "number_sections": true,
   "sideBar": true,
   "skip_h1_title": true,
   "title_cell": "Table of Contents",
   "title_sidebar": "Contents",
   "toc_cell": false,
   "toc_position": {},
   "toc_section_display": true,
   "toc_window_display": false
  },
  "varInspector": {
   "cols": {
    "lenName": 16,
    "lenType": 16,
    "lenVar": 40
   },
   "kernels_config": {
    "python": {
     "delete_cmd_postfix": "",
     "delete_cmd_prefix": "del ",
     "library": "var_list.py",
     "varRefreshCmd": "print(var_dic_list())"
    },
    "r": {
     "delete_cmd_postfix": ") ",
     "delete_cmd_prefix": "rm(",
     "library": "var_list.r",
     "varRefreshCmd": "cat(var_dic_list()) "
    }
   },
   "types_to_exclude": [
    "module",
    "function",
    "builtin_function_or_method",
    "instance",
    "_Feature"
   ],
   "window_display": false
  }
 },
 "nbformat": 4,
 "nbformat_minor": 5
}
