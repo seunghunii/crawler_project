{
 "cells": [
  {
   "cell_type": "code",
   "execution_count": 19,
   "metadata": {
    "ExecuteTime": {
     "end_time": "2021-08-06T05:20:15.879342Z",
     "start_time": "2021-08-06T05:20:15.864408Z"
    }
   },
   "outputs": [],
   "source": [
    "import pandas as pd\n",
    "from selenium import webdriver\n",
    "from bs4 import BeautifulSoup\n",
    "from selenium.webdriver.common.alert import Alert\n",
    "import re\n",
    "from selenium.webdriver.support.ui import Select\n",
    "from time import sleep\n",
    "import requests\n",
    "import json\n",
    "import random\n",
    "import matplotlib.pyplot as plt\n",
    "import matplotlib as mpl\n",
    "import seaborn as sns\n",
    "import warnings\n",
    "warnings.filterwarnings('ignore')"
   ]
  },
  {
   "cell_type": "code",
   "execution_count": 8,
   "metadata": {
    "ExecuteTime": {
     "end_time": "2021-08-06T05:14:54.786831Z",
     "start_time": "2021-08-06T05:14:54.779876Z"
    }
   },
   "outputs": [],
   "source": [
    "date_range = []\n",
    "for year in range(2012,2022):\n",
    "    for month in range(1,13):\n",
    "        year = str(year)\n",
    "        if month < 10:\n",
    "            month = '0' + str(month)\n",
    "        else:\n",
    "            month = str(month)\n",
    "        \n",
    "        string_bind = year+month\n",
    "        if string_bind == '202108':\n",
    "            break\n",
    "        else:\n",
    "            date_range.append(year+month)"
   ]
  },
  {
   "cell_type": "code",
   "execution_count": 9,
   "metadata": {
    "ExecuteTime": {
     "end_time": "2021-08-06T05:14:55.720064Z",
     "start_time": "2021-08-06T05:14:55.705376Z"
    }
   },
   "outputs": [],
   "source": [
    "urll = 'https://kosis.kr/openapi/statisticsData.do?method=getList&apiKey=Yjg5YjZmNTU0OThkMWNmYTE3MDY0ZWQzZjUyNjQ0YzY=&format=json&jsonVD=Y&userStatsId=rsh1502/390/DT_39002_02/2/1/20210709152529&prdSe=M&startPrdDe={}&endPrdDe={}'"
   ]
  },
  {
   "cell_type": "code",
   "execution_count": 10,
   "metadata": {
    "ExecuteTime": {
     "end_time": "2021-08-06T05:14:56.656942Z",
     "start_time": "2021-08-06T05:14:56.642136Z"
    }
   },
   "outputs": [],
   "source": [
    "dir_for_shinhan = 'C:/Users/shic/Desktop/shinhan_simon/chromedriver/chromedriver.exe'\n",
    "dir_for_seunghun = 'C:/Users/rsh15/Desktop/seunghuni/selenium/chromedriver.exe'"
   ]
  },
  {
   "cell_type": "code",
   "execution_count": 11,
   "metadata": {
    "ExecuteTime": {
     "end_time": "2021-08-06T05:14:58.957222Z",
     "start_time": "2021-08-06T05:14:57.591638Z"
    }
   },
   "outputs": [],
   "source": [
    "driver = webdriver.Chrome(dir_for_shinhan)"
   ]
  },
  {
   "cell_type": "code",
   "execution_count": 12,
   "metadata": {
    "ExecuteTime": {
     "end_time": "2021-08-06T05:18:40.990552Z",
     "start_time": "2021-08-06T05:15:01.944513Z"
    }
   },
   "outputs": [],
   "source": [
    "# 함수 실행 시간 5-6분 사이\n",
    "tmp_list = []\n",
    "for days in date_range:\n",
    "    one_url = urll.format(days,days)\n",
    "    \n",
    "    driver.get(one_url)\n",
    "    a = BeautifulSoup(driver.page_source,'html.parser')\n",
    "    a = a.find_all('body')[0].text\n",
    "    \n",
    "    if a == '{err:\"30\",errMsg:\"데이터가 존재하지 않습니다.\"}':\n",
    "        pass\n",
    "    else:\n",
    "        a_to_json = json.loads(a)\n",
    "        tmp_df = pd.DataFrame(a_to_json)\n",
    "        tmp_list.append(tmp_df)\n",
    "    \n",
    "    sleep(random.uniform(1,2.5))\n",
    "\n",
    "driver.close()"
   ]
  },
  {
   "cell_type": "code",
   "execution_count": 14,
   "metadata": {
    "ExecuteTime": {
     "end_time": "2021-08-06T05:18:55.045561Z",
     "start_time": "2021-08-06T05:18:55.011651Z"
    }
   },
   "outputs": [
    {
     "data": {
      "text/html": [
       "<div>\n",
       "<style scoped>\n",
       "    .dataframe tbody tr th:only-of-type {\n",
       "        vertical-align: middle;\n",
       "    }\n",
       "\n",
       "    .dataframe tbody tr th {\n",
       "        vertical-align: top;\n",
       "    }\n",
       "\n",
       "    .dataframe thead th {\n",
       "        text-align: right;\n",
       "    }\n",
       "</style>\n",
       "<table border=\"1\" class=\"dataframe\">\n",
       "  <thead>\n",
       "    <tr style=\"text-align: right;\">\n",
       "      <th></th>\n",
       "      <th>DT</th>\n",
       "      <th>TBL_NM</th>\n",
       "      <th>PRD_SE</th>\n",
       "      <th>PRD_DE</th>\n",
       "      <th>C1</th>\n",
       "      <th>C1_NM</th>\n",
       "      <th>ITM_NM</th>\n",
       "      <th>TBL_ID</th>\n",
       "      <th>ITM_ID</th>\n",
       "      <th>ORG_ID</th>\n",
       "      <th>C1_OBJ_NM</th>\n",
       "    </tr>\n",
       "  </thead>\n",
       "  <tbody>\n",
       "    <tr>\n",
       "      <th>0</th>\n",
       "      <td>111.2</td>\n",
       "      <td>주택시장 소비심리지수</td>\n",
       "      <td>M</td>\n",
       "      <td>2012-01-01</td>\n",
       "      <td>K01</td>\n",
       "      <td>전국</td>\n",
       "      <td>주택시장소비심리지수</td>\n",
       "      <td>DT_39002_02</td>\n",
       "      <td>T1</td>\n",
       "      <td>390</td>\n",
       "      <td>시도별</td>\n",
       "    </tr>\n",
       "    <tr>\n",
       "      <th>1</th>\n",
       "      <td>106.0</td>\n",
       "      <td>주택시장 소비심리지수</td>\n",
       "      <td>M</td>\n",
       "      <td>2012-01-01</td>\n",
       "      <td>K02</td>\n",
       "      <td>수도권</td>\n",
       "      <td>주택시장소비심리지수</td>\n",
       "      <td>DT_39002_02</td>\n",
       "      <td>T1</td>\n",
       "      <td>390</td>\n",
       "      <td>시도별</td>\n",
       "    </tr>\n",
       "    <tr>\n",
       "      <th>2</th>\n",
       "      <td>107.8</td>\n",
       "      <td>주택시장 소비심리지수</td>\n",
       "      <td>M</td>\n",
       "      <td>2012-01-01</td>\n",
       "      <td>K0203</td>\n",
       "      <td>서울특별시</td>\n",
       "      <td>주택시장소비심리지수</td>\n",
       "      <td>DT_39002_02</td>\n",
       "      <td>T1</td>\n",
       "      <td>390</td>\n",
       "      <td>시도별</td>\n",
       "    </tr>\n",
       "    <tr>\n",
       "      <th>3</th>\n",
       "      <td>101.5</td>\n",
       "      <td>주택시장 소비심리지수</td>\n",
       "      <td>M</td>\n",
       "      <td>2012-01-01</td>\n",
       "      <td>K0204</td>\n",
       "      <td>인천광역시</td>\n",
       "      <td>주택시장소비심리지수</td>\n",
       "      <td>DT_39002_02</td>\n",
       "      <td>T1</td>\n",
       "      <td>390</td>\n",
       "      <td>시도별</td>\n",
       "    </tr>\n",
       "    <tr>\n",
       "      <th>4</th>\n",
       "      <td>105.9</td>\n",
       "      <td>주택시장 소비심리지수</td>\n",
       "      <td>M</td>\n",
       "      <td>2012-01-01</td>\n",
       "      <td>K0205</td>\n",
       "      <td>경기도</td>\n",
       "      <td>주택시장소비심리지수</td>\n",
       "      <td>DT_39002_02</td>\n",
       "      <td>T1</td>\n",
       "      <td>390</td>\n",
       "      <td>시도별</td>\n",
       "    </tr>\n",
       "    <tr>\n",
       "      <th>...</th>\n",
       "      <td>...</td>\n",
       "      <td>...</td>\n",
       "      <td>...</td>\n",
       "      <td>...</td>\n",
       "      <td>...</td>\n",
       "      <td>...</td>\n",
       "      <td>...</td>\n",
       "      <td>...</td>\n",
       "      <td>...</td>\n",
       "      <td>...</td>\n",
       "      <td>...</td>\n",
       "    </tr>\n",
       "    <tr>\n",
       "      <th>2109</th>\n",
       "      <td>112.8</td>\n",
       "      <td>주택시장 소비심리지수</td>\n",
       "      <td>M</td>\n",
       "      <td>2021-06-01</td>\n",
       "      <td>K0616</td>\n",
       "      <td>전라남도</td>\n",
       "      <td>주택시장소비심리지수</td>\n",
       "      <td>DT_39002_02</td>\n",
       "      <td>T1</td>\n",
       "      <td>390</td>\n",
       "      <td>시도별</td>\n",
       "    </tr>\n",
       "    <tr>\n",
       "      <th>2110</th>\n",
       "      <td>123.1</td>\n",
       "      <td>주택시장 소비심리지수</td>\n",
       "      <td>M</td>\n",
       "      <td>2021-06-01</td>\n",
       "      <td>K0617</td>\n",
       "      <td>경상북도</td>\n",
       "      <td>주택시장소비심리지수</td>\n",
       "      <td>DT_39002_02</td>\n",
       "      <td>T1</td>\n",
       "      <td>390</td>\n",
       "      <td>시도별</td>\n",
       "    </tr>\n",
       "    <tr>\n",
       "      <th>2111</th>\n",
       "      <td>124.0</td>\n",
       "      <td>주택시장 소비심리지수</td>\n",
       "      <td>M</td>\n",
       "      <td>2021-06-01</td>\n",
       "      <td>K0618</td>\n",
       "      <td>경상남도</td>\n",
       "      <td>주택시장소비심리지수</td>\n",
       "      <td>DT_39002_02</td>\n",
       "      <td>T1</td>\n",
       "      <td>390</td>\n",
       "      <td>시도별</td>\n",
       "    </tr>\n",
       "    <tr>\n",
       "      <th>2112</th>\n",
       "      <td>98.6</td>\n",
       "      <td>주택시장 소비심리지수</td>\n",
       "      <td>M</td>\n",
       "      <td>2021-06-01</td>\n",
       "      <td>k0619</td>\n",
       "      <td>세종특별자치시</td>\n",
       "      <td>주택시장소비심리지수</td>\n",
       "      <td>DT_39002_02</td>\n",
       "      <td>T1</td>\n",
       "      <td>390</td>\n",
       "      <td>시도별</td>\n",
       "    </tr>\n",
       "    <tr>\n",
       "      <th>2113</th>\n",
       "      <td>131.4</td>\n",
       "      <td>주택시장 소비심리지수</td>\n",
       "      <td>M</td>\n",
       "      <td>2021-06-01</td>\n",
       "      <td>k0620</td>\n",
       "      <td>제주특별자치도</td>\n",
       "      <td>주택시장소비심리지수</td>\n",
       "      <td>DT_39002_02</td>\n",
       "      <td>T1</td>\n",
       "      <td>390</td>\n",
       "      <td>시도별</td>\n",
       "    </tr>\n",
       "  </tbody>\n",
       "</table>\n",
       "<p>2114 rows × 11 columns</p>\n",
       "</div>"
      ],
      "text/plain": [
       "         DT       TBL_NM PRD_SE     PRD_DE     C1    C1_NM      ITM_NM  \\\n",
       "0     111.2  주택시장 소비심리지수      M 2012-01-01    K01       전국  주택시장소비심리지수   \n",
       "1     106.0  주택시장 소비심리지수      M 2012-01-01    K02      수도권  주택시장소비심리지수   \n",
       "2     107.8  주택시장 소비심리지수      M 2012-01-01  K0203    서울특별시  주택시장소비심리지수   \n",
       "3     101.5  주택시장 소비심리지수      M 2012-01-01  K0204    인천광역시  주택시장소비심리지수   \n",
       "4     105.9  주택시장 소비심리지수      M 2012-01-01  K0205      경기도  주택시장소비심리지수   \n",
       "...     ...          ...    ...        ...    ...      ...         ...   \n",
       "2109  112.8  주택시장 소비심리지수      M 2021-06-01  K0616     전라남도  주택시장소비심리지수   \n",
       "2110  123.1  주택시장 소비심리지수      M 2021-06-01  K0617     경상북도  주택시장소비심리지수   \n",
       "2111  124.0  주택시장 소비심리지수      M 2021-06-01  K0618     경상남도  주택시장소비심리지수   \n",
       "2112   98.6  주택시장 소비심리지수      M 2021-06-01  k0619  세종특별자치시  주택시장소비심리지수   \n",
       "2113  131.4  주택시장 소비심리지수      M 2021-06-01  k0620  제주특별자치도  주택시장소비심리지수   \n",
       "\n",
       "           TBL_ID ITM_ID ORG_ID C1_OBJ_NM  \n",
       "0     DT_39002_02     T1    390       시도별  \n",
       "1     DT_39002_02     T1    390       시도별  \n",
       "2     DT_39002_02     T1    390       시도별  \n",
       "3     DT_39002_02     T1    390       시도별  \n",
       "4     DT_39002_02     T1    390       시도별  \n",
       "...           ...    ...    ...       ...  \n",
       "2109  DT_39002_02     T1    390       시도별  \n",
       "2110  DT_39002_02     T1    390       시도별  \n",
       "2111  DT_39002_02     T1    390       시도별  \n",
       "2112  DT_39002_02     T1    390       시도별  \n",
       "2113  DT_39002_02     T1    390       시도별  \n",
       "\n",
       "[2114 rows x 11 columns]"
      ]
     },
     "execution_count": 14,
     "metadata": {},
     "output_type": "execute_result"
    }
   ],
   "source": [
    "df = pd.concat(tmp_list).reset_index(drop=True)\n",
    "df['PRD_DE'] = pd.to_datetime(df['PRD_DE'],format='%Y%m')\n",
    "df['DT'] = df['DT'].astype(float)\n",
    "df"
   ]
  },
  {
   "cell_type": "markdown",
   "metadata": {},
   "source": [
    "전처리"
   ]
  },
  {
   "cell_type": "code",
   "execution_count": 16,
   "metadata": {
    "ExecuteTime": {
     "end_time": "2021-08-06T05:19:33.955723Z",
     "start_time": "2021-08-06T05:19:33.942760Z"
    }
   },
   "outputs": [],
   "source": [
    "df = df[['PRD_DE','C1_NM','PRD_SE','DT']]"
   ]
  },
  {
   "cell_type": "code",
   "execution_count": 20,
   "metadata": {
    "ExecuteTime": {
     "end_time": "2021-08-06T05:20:19.069471Z",
     "start_time": "2021-08-06T05:20:19.049524Z"
    }
   },
   "outputs": [],
   "source": [
    "df['PRD_DE'] = df['PRD_DE'].astype(str).str.replace(r'-','').str.slice(stop=6)\n",
    "df['PRD_SE'] = np.where(df['C1_NM'].isin(['전국','수도권','비수도권']),'Y','N')"
   ]
  },
  {
   "cell_type": "code",
   "execution_count": 21,
   "metadata": {
    "ExecuteTime": {
     "end_time": "2021-08-06T05:20:29.180693Z",
     "start_time": "2021-08-06T05:20:29.168755Z"
    }
   },
   "outputs": [
    {
     "data": {
      "text/html": [
       "<div>\n",
       "<style scoped>\n",
       "    .dataframe tbody tr th:only-of-type {\n",
       "        vertical-align: middle;\n",
       "    }\n",
       "\n",
       "    .dataframe tbody tr th {\n",
       "        vertical-align: top;\n",
       "    }\n",
       "\n",
       "    .dataframe thead th {\n",
       "        text-align: right;\n",
       "    }\n",
       "</style>\n",
       "<table border=\"1\" class=\"dataframe\">\n",
       "  <thead>\n",
       "    <tr style=\"text-align: right;\">\n",
       "      <th></th>\n",
       "      <th>BASE_YM</th>\n",
       "      <th>SIDONM</th>\n",
       "      <th>SUM_YN</th>\n",
       "      <th>M1_INDX_VALU</th>\n",
       "    </tr>\n",
       "  </thead>\n",
       "  <tbody>\n",
       "    <tr>\n",
       "      <th>0</th>\n",
       "      <td>201201</td>\n",
       "      <td>전국</td>\n",
       "      <td>Y</td>\n",
       "      <td>111.2</td>\n",
       "    </tr>\n",
       "    <tr>\n",
       "      <th>1</th>\n",
       "      <td>201201</td>\n",
       "      <td>수도권</td>\n",
       "      <td>Y</td>\n",
       "      <td>106.0</td>\n",
       "    </tr>\n",
       "    <tr>\n",
       "      <th>2</th>\n",
       "      <td>201201</td>\n",
       "      <td>서울특별시</td>\n",
       "      <td>N</td>\n",
       "      <td>107.8</td>\n",
       "    </tr>\n",
       "    <tr>\n",
       "      <th>3</th>\n",
       "      <td>201201</td>\n",
       "      <td>인천광역시</td>\n",
       "      <td>N</td>\n",
       "      <td>101.5</td>\n",
       "    </tr>\n",
       "    <tr>\n",
       "      <th>4</th>\n",
       "      <td>201201</td>\n",
       "      <td>경기도</td>\n",
       "      <td>N</td>\n",
       "      <td>105.9</td>\n",
       "    </tr>\n",
       "    <tr>\n",
       "      <th>...</th>\n",
       "      <td>...</td>\n",
       "      <td>...</td>\n",
       "      <td>...</td>\n",
       "      <td>...</td>\n",
       "    </tr>\n",
       "    <tr>\n",
       "      <th>2109</th>\n",
       "      <td>202106</td>\n",
       "      <td>전라남도</td>\n",
       "      <td>N</td>\n",
       "      <td>112.8</td>\n",
       "    </tr>\n",
       "    <tr>\n",
       "      <th>2110</th>\n",
       "      <td>202106</td>\n",
       "      <td>경상북도</td>\n",
       "      <td>N</td>\n",
       "      <td>123.1</td>\n",
       "    </tr>\n",
       "    <tr>\n",
       "      <th>2111</th>\n",
       "      <td>202106</td>\n",
       "      <td>경상남도</td>\n",
       "      <td>N</td>\n",
       "      <td>124.0</td>\n",
       "    </tr>\n",
       "    <tr>\n",
       "      <th>2112</th>\n",
       "      <td>202106</td>\n",
       "      <td>세종특별자치시</td>\n",
       "      <td>N</td>\n",
       "      <td>98.6</td>\n",
       "    </tr>\n",
       "    <tr>\n",
       "      <th>2113</th>\n",
       "      <td>202106</td>\n",
       "      <td>제주특별자치도</td>\n",
       "      <td>N</td>\n",
       "      <td>131.4</td>\n",
       "    </tr>\n",
       "  </tbody>\n",
       "</table>\n",
       "<p>2114 rows × 4 columns</p>\n",
       "</div>"
      ],
      "text/plain": [
       "     BASE_YM   SIDONM SUM_YN  M1_INDX_VALU\n",
       "0     201201       전국      Y         111.2\n",
       "1     201201      수도권      Y         106.0\n",
       "2     201201    서울특별시      N         107.8\n",
       "3     201201    인천광역시      N         101.5\n",
       "4     201201      경기도      N         105.9\n",
       "...      ...      ...    ...           ...\n",
       "2109  202106     전라남도      N         112.8\n",
       "2110  202106     경상북도      N         123.1\n",
       "2111  202106     경상남도      N         124.0\n",
       "2112  202106  세종특별자치시      N          98.6\n",
       "2113  202106  제주특별자치도      N         131.4\n",
       "\n",
       "[2114 rows x 4 columns]"
      ]
     },
     "execution_count": 21,
     "metadata": {},
     "output_type": "execute_result"
    }
   ],
   "source": [
    "df.columns = ['BASE_YM','SIDONM','SUM_YN','M1_INDX_VALU']\n",
    "df"
   ]
  },
  {
   "cell_type": "code",
   "execution_count": 22,
   "metadata": {
    "ExecuteTime": {
     "end_time": "2021-08-06T05:21:08.287665Z",
     "start_time": "2021-08-06T05:21:08.272705Z"
    }
   },
   "outputs": [],
   "source": [
    "dirr = 'C:/Users/shic/Desktop/shinhan_simon/google_drive/crawler_data/estate_trend/'\n",
    "df.to_csv(dirr + 'estate_trend_preprocessed.csv',index=0,encoding='UTF-8-sig')"
   ]
  }
 ],
 "metadata": {
  "kernelspec": {
   "display_name": "simon_env",
   "language": "python",
   "name": "simon_env"
  },
  "language_info": {
   "codemirror_mode": {
    "name": "ipython",
    "version": 3
   },
   "file_extension": ".py",
   "mimetype": "text/x-python",
   "name": "python",
   "nbconvert_exporter": "python",
   "pygments_lexer": "ipython3",
   "version": "3.7.11"
  },
  "toc": {
   "base_numbering": 1,
   "nav_menu": {},
   "number_sections": true,
   "sideBar": true,
   "skip_h1_title": true,
   "title_cell": "Table of Contents",
   "title_sidebar": "Contents",
   "toc_cell": false,
   "toc_position": {},
   "toc_section_display": true,
   "toc_window_display": false
  },
  "varInspector": {
   "cols": {
    "lenName": 16,
    "lenType": 16,
    "lenVar": 40
   },
   "kernels_config": {
    "python": {
     "delete_cmd_postfix": "",
     "delete_cmd_prefix": "del ",
     "library": "var_list.py",
     "varRefreshCmd": "print(var_dic_list())"
    },
    "r": {
     "delete_cmd_postfix": ") ",
     "delete_cmd_prefix": "rm(",
     "library": "var_list.r",
     "varRefreshCmd": "cat(var_dic_list()) "
    }
   },
   "types_to_exclude": [
    "module",
    "function",
    "builtin_function_or_method",
    "instance",
    "_Feature"
   ],
   "window_display": false
  }
 },
 "nbformat": 4,
 "nbformat_minor": 4
}
