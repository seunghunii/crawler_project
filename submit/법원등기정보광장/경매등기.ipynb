{
 "cells": [
  {
   "cell_type": "code",
   "execution_count": 1,
   "metadata": {
    "ExecuteTime": {
     "end_time": "2021-08-18T13:29:19.902378Z",
     "start_time": "2021-08-18T13:29:19.006704Z"
    }
   },
   "outputs": [],
   "source": [
    "import pandas as pd\n",
    "from selenium import webdriver\n",
    "from bs4 import BeautifulSoup\n",
    "import requests\n",
    "import json\n",
    "from random import uniform\n",
    "import time"
   ]
  },
  {
   "cell_type": "code",
   "execution_count": 2,
   "metadata": {
    "ExecuteTime": {
     "end_time": "2021-08-18T13:29:20.377076Z",
     "start_time": "2021-08-18T13:29:20.367068Z"
    }
   },
   "outputs": [],
   "source": [
    "dir_for_seunghun = 'C:/Users/rsh15/Desktop/seunghuni/selenium/chromedriver.exe'"
   ]
  },
  {
   "cell_type": "code",
   "execution_count": 3,
   "metadata": {
    "ExecuteTime": {
     "end_time": "2021-08-18T13:29:20.755665Z",
     "start_time": "2021-08-18T13:29:20.747687Z"
    }
   },
   "outputs": [],
   "source": [
    "urll = 'https://data.iros.go.kr/cr/rs/selectRgsCsTab.do'"
   ]
  },
  {
   "cell_type": "code",
   "execution_count": 4,
   "metadata": {
    "ExecuteTime": {
     "end_time": "2021-08-18T13:29:21.500453Z",
     "start_time": "2021-08-18T13:29:21.485497Z"
    }
   },
   "outputs": [],
   "source": [
    "headers = {\n",
    "    'Accept': 'application/json, text/javascript, */*; q=0.01',\n",
    "    'Accept-Encoding': 'gzip, deflate, br',\n",
    "    'Accept-Language': 'ko-KR,ko;q=0.9,en-US;q=0.8,en;q=0.7',\n",
    "    'Connection': 'keep-alive',\n",
    "    'Content-Length': '203',\n",
    "    'Content-Type': 'application/x-www-form-urlencoded; charset=UTF-8',\n",
    "    'Cookie': 'WMONID=VdzGSVmMDjU; stoken=Vy3zFySFx5FAS1zTyGIDx5FDEMO1zCy1629212191zPy86400zAy33zEyXshPwJiufQjx78uqKWSB99x7A70EbrDx78ZeUo1cM63aDYQ3eOiKcPEtj2bMVudHF1O3Tx78x2BcKx2FBmfPx2FcpWJlx2B9DRPtFgx3Dx3DzKyUFSx796x79tjLx2FQNb9ht9FM1582XSHYx2FfvjNHuVShcgZfHhQWWnOnSIYgEH71x2F2jQ1x7ArzSSy00003097071zUURy480e8c733be2bbc22b3fba072a3941dbzMyXR0P1SScDQox3Dz; JSESSIONID=VMsOwjDn06iu1xwFH3Er4F66DfWn3u3n0z2aYyPgawy1t3TTpe59mlXlm24HbAaC.RF9vdXRfZG9tYWluMS9nNDQwTTE=',\n",
    "    'Host': 'data.iros.go.kr',\n",
    "    'Origin': 'https://data.iros.go.kr',\n",
    "    'Referer': 'https://data.iros.go.kr/cr/rs/selectRgsCsDetl.do',\n",
    "    'sec-ch-ua': '\"Chromium\";v=\"92\", \" Not A;Brand\";v=\"99\", \"Google Chrome\";v=\"92\"',\n",
    "    'sec-ch-ua-mobile': '?0',\n",
    "    'Sec-Fetch-Dest': 'empty',\n",
    "    'Sec-Fetch-Mode': 'cors',\n",
    "    'Sec-Fetch-Site': 'same-origin',\n",
    "    'User-Agent': 'Mozilla/5.0 (Windows NT 10.0; Win64; x64) AppleWebKit/537.36 (KHTML, like Gecko) Chrome/92.0.4515.131 Safari/537.36',\n",
    "    'X-Requested-With': 'XMLHttpRequest'\n",
    "}"
   ]
  },
  {
   "cell_type": "code",
   "execution_count": 5,
   "metadata": {
    "ExecuteTime": {
     "end_time": "2021-08-18T13:29:22.094290Z",
     "start_time": "2021-08-18T13:29:22.075321Z"
    }
   },
   "outputs": [],
   "source": [
    "date_list = []\n",
    "for yy in range(2012,2022):\n",
    "    for mm in range(1,13):\n",
    "        if len(str(mm)) == 1:\n",
    "            mm_str = '0' + str(mm)\n",
    "            date_list.append(str(yy)+str(mm_str))\n",
    "        else:\n",
    "            date_list.append(str(yy)+str(mm))\n",
    "        \n",
    "        if yy==2021 and mm==7:\n",
    "            break"
   ]
  },
  {
   "cell_type": "code",
   "execution_count": 6,
   "metadata": {
    "ExecuteTime": {
     "end_time": "2021-08-18T13:29:22.734292Z",
     "start_time": "2021-08-18T13:29:22.716339Z"
    }
   },
   "outputs": [
    {
     "name": "stdout",
     "output_type": "stream",
     "text": [
      "201201\n",
      "202107\n"
     ]
    }
   ],
   "source": [
    "print(date_list[0])\n",
    "print(date_list[len(date_list)-1])"
   ]
  },
  {
   "cell_type": "code",
   "execution_count": 7,
   "metadata": {
    "ExecuteTime": {
     "end_time": "2021-08-18T13:29:23.930812Z",
     "start_time": "2021-08-18T13:29:23.917778Z"
    }
   },
   "outputs": [],
   "source": [
    "data = {\n",
    "    'rdata_seq' : '0000000048',\n",
    "    'search_real_cls': '13321',\n",
    "    'search_sql': 'm01',\n",
    "    'search_type': '02',\n",
    "    'search_start_date': '202102',\n",
    "    'search_end_date': '202102',\n",
    "    'search_regn_cls': '02',\n",
    "    'search_tab': 'grid',\n",
    "    'search_regn_name': '',\n",
    "    'search_bdata_age': '',\n",
    "    'search_sex': ''\n",
    "}"
   ]
  },
  {
   "cell_type": "code",
   "execution_count": 13,
   "metadata": {
    "ExecuteTime": {
     "end_time": "2021-08-17T17:44:39.713805Z",
     "start_time": "2021-08-17T16:37:29.769282Z"
    }
   },
   "outputs": [],
   "source": [
    "df_list = []\n",
    "for rdata_seq in ['0000000053','0000000048']:\n",
    "    for dd in date_list:\n",
    "        time.sleep(uniform(1,3))\n",
    "        for real_cls_code in ['','13311','13321','13323']: # 전체, 토지, 건물, 집합건물 순.\n",
    "            data['rdata_seq'] = rdata_seq\n",
    "            data['search_real_cls'] = real_cls_code\n",
    "            data['search_start_date'] = dd\n",
    "            data['search_end_date'] = dd\n",
    "\n",
    "            time.sleep(uniform(1,2))\n",
    "\n",
    "            reqq_text = requests.post(urll,headers=headers,data=data).text\n",
    "            tmp_df    = pd.DataFrame(json.loads(reqq_text)['dataList'])\n",
    "            \n",
    "            tmp_df['rdata_seq'] = rdata_seq\n",
    "            tmp_df['search_real_cls'] = real_cls_code\n",
    "            tmp_df['search_start_date'] = dd\n",
    "            tmp_df['search_end_date'] = dd\n",
    "\n",
    "            time.sleep(uniform(1,3))\n",
    "\n",
    "            df_list.append(tmp_df)"
   ]
  },
  {
   "cell_type": "code",
   "execution_count": 14,
   "metadata": {
    "ExecuteTime": {
     "end_time": "2021-08-17T17:44:46.013038Z",
     "start_time": "2021-08-17T17:44:45.103400Z"
    }
   },
   "outputs": [
    {
     "data": {
      "text/html": [
       "<div>\n",
       "<style scoped>\n",
       "    .dataframe tbody tr th:only-of-type {\n",
       "        vertical-align: middle;\n",
       "    }\n",
       "\n",
       "    .dataframe tbody tr th {\n",
       "        vertical-align: top;\n",
       "    }\n",
       "\n",
       "    .dataframe thead th {\n",
       "        text-align: right;\n",
       "    }\n",
       "</style>\n",
       "<table border=\"1\" class=\"dataframe\">\n",
       "  <thead>\n",
       "    <tr style=\"text-align: right;\">\n",
       "      <th></th>\n",
       "      <th>admin_regn1_name</th>\n",
       "      <th>bdata_age</th>\n",
       "      <th>sex</th>\n",
       "      <th>admin_regn2_name</th>\n",
       "      <th>tot</th>\n",
       "      <th>admin_regn1_cd</th>\n",
       "      <th>admin_regn2_cd</th>\n",
       "      <th>sex_cd</th>\n",
       "      <th>res_date</th>\n",
       "      <th>rdata_seq</th>\n",
       "      <th>search_real_cls</th>\n",
       "      <th>search_start_date</th>\n",
       "      <th>search_end_date</th>\n",
       "    </tr>\n",
       "  </thead>\n",
       "  <tbody>\n",
       "    <tr>\n",
       "      <th>0</th>\n",
       "      <td>서울특별시</td>\n",
       "      <td>19세~29세</td>\n",
       "      <td>여자</td>\n",
       "      <td>강남구</td>\n",
       "      <td>1</td>\n",
       "      <td>11</td>\n",
       "      <td>강남구</td>\n",
       "      <td>F</td>\n",
       "      <td>2012-01</td>\n",
       "      <td>0000000053</td>\n",
       "      <td></td>\n",
       "      <td>201201</td>\n",
       "      <td>201201</td>\n",
       "    </tr>\n",
       "    <tr>\n",
       "      <th>1</th>\n",
       "      <td>서울특별시</td>\n",
       "      <td>30세~39세</td>\n",
       "      <td>여자</td>\n",
       "      <td>강남구</td>\n",
       "      <td>4</td>\n",
       "      <td>11</td>\n",
       "      <td>강남구</td>\n",
       "      <td>F</td>\n",
       "      <td>2012-01</td>\n",
       "      <td>0000000053</td>\n",
       "      <td></td>\n",
       "      <td>201201</td>\n",
       "      <td>201201</td>\n",
       "    </tr>\n",
       "    <tr>\n",
       "      <th>2</th>\n",
       "      <td>서울특별시</td>\n",
       "      <td>50세~59세</td>\n",
       "      <td>여자</td>\n",
       "      <td>강남구</td>\n",
       "      <td>4</td>\n",
       "      <td>11</td>\n",
       "      <td>강남구</td>\n",
       "      <td>F</td>\n",
       "      <td>2012-01</td>\n",
       "      <td>0000000053</td>\n",
       "      <td></td>\n",
       "      <td>201201</td>\n",
       "      <td>201201</td>\n",
       "    </tr>\n",
       "    <tr>\n",
       "      <th>3</th>\n",
       "      <td>서울특별시</td>\n",
       "      <td>70세 이상</td>\n",
       "      <td>여자</td>\n",
       "      <td>강남구</td>\n",
       "      <td>1</td>\n",
       "      <td>11</td>\n",
       "      <td>강남구</td>\n",
       "      <td>F</td>\n",
       "      <td>2012-01</td>\n",
       "      <td>0000000053</td>\n",
       "      <td></td>\n",
       "      <td>201201</td>\n",
       "      <td>201201</td>\n",
       "    </tr>\n",
       "    <tr>\n",
       "      <th>4</th>\n",
       "      <td>서울특별시</td>\n",
       "      <td>40세~49세</td>\n",
       "      <td>남자</td>\n",
       "      <td>강남구</td>\n",
       "      <td>2</td>\n",
       "      <td>11</td>\n",
       "      <td>강남구</td>\n",
       "      <td>M</td>\n",
       "      <td>2012-01</td>\n",
       "      <td>0000000053</td>\n",
       "      <td></td>\n",
       "      <td>201201</td>\n",
       "      <td>201201</td>\n",
       "    </tr>\n",
       "    <tr>\n",
       "      <th>...</th>\n",
       "      <td>...</td>\n",
       "      <td>...</td>\n",
       "      <td>...</td>\n",
       "      <td>...</td>\n",
       "      <td>...</td>\n",
       "      <td>...</td>\n",
       "      <td>...</td>\n",
       "      <td>...</td>\n",
       "      <td>...</td>\n",
       "      <td>...</td>\n",
       "      <td>...</td>\n",
       "      <td>...</td>\n",
       "      <td>...</td>\n",
       "    </tr>\n",
       "    <tr>\n",
       "      <th>544212</th>\n",
       "      <td>경상남도</td>\n",
       "      <td>40세~49세</td>\n",
       "      <td>남자</td>\n",
       "      <td>창원시 의창구</td>\n",
       "      <td>1</td>\n",
       "      <td>48</td>\n",
       "      <td>창원시 의창구</td>\n",
       "      <td>M</td>\n",
       "      <td>2021-07</td>\n",
       "      <td>0000000048</td>\n",
       "      <td>13323</td>\n",
       "      <td>202107</td>\n",
       "      <td>202107</td>\n",
       "    </tr>\n",
       "    <tr>\n",
       "      <th>544213</th>\n",
       "      <td>경상남도</td>\n",
       "      <td>50세~59세</td>\n",
       "      <td>남자</td>\n",
       "      <td>창원시 진해구</td>\n",
       "      <td>1</td>\n",
       "      <td>48</td>\n",
       "      <td>창원시 진해구</td>\n",
       "      <td>M</td>\n",
       "      <td>2021-07</td>\n",
       "      <td>0000000048</td>\n",
       "      <td>13323</td>\n",
       "      <td>202107</td>\n",
       "      <td>202107</td>\n",
       "    </tr>\n",
       "    <tr>\n",
       "      <th>544214</th>\n",
       "      <td>제주특별자치도</td>\n",
       "      <td>50세~59세</td>\n",
       "      <td>여자</td>\n",
       "      <td>제주시</td>\n",
       "      <td>1</td>\n",
       "      <td>50</td>\n",
       "      <td>제주시</td>\n",
       "      <td>F</td>\n",
       "      <td>2021-07</td>\n",
       "      <td>0000000048</td>\n",
       "      <td>13323</td>\n",
       "      <td>202107</td>\n",
       "      <td>202107</td>\n",
       "    </tr>\n",
       "    <tr>\n",
       "      <th>544215</th>\n",
       "      <td>제주특별자치도</td>\n",
       "      <td>19세~29세</td>\n",
       "      <td>남자</td>\n",
       "      <td>제주시</td>\n",
       "      <td>1</td>\n",
       "      <td>50</td>\n",
       "      <td>제주시</td>\n",
       "      <td>M</td>\n",
       "      <td>2021-07</td>\n",
       "      <td>0000000048</td>\n",
       "      <td>13323</td>\n",
       "      <td>202107</td>\n",
       "      <td>202107</td>\n",
       "    </tr>\n",
       "    <tr>\n",
       "      <th>544216</th>\n",
       "      <td>제주특별자치도</td>\n",
       "      <td>50세~59세</td>\n",
       "      <td>남자</td>\n",
       "      <td>제주시</td>\n",
       "      <td>1</td>\n",
       "      <td>50</td>\n",
       "      <td>제주시</td>\n",
       "      <td>M</td>\n",
       "      <td>2021-07</td>\n",
       "      <td>0000000048</td>\n",
       "      <td>13323</td>\n",
       "      <td>202107</td>\n",
       "      <td>202107</td>\n",
       "    </tr>\n",
       "  </tbody>\n",
       "</table>\n",
       "<p>544217 rows × 13 columns</p>\n",
       "</div>"
      ],
      "text/plain": [
       "       admin_regn1_name bdata_age sex admin_regn2_name  tot admin_regn1_cd  \\\n",
       "0                 서울특별시   19세~29세  여자              강남구    1             11   \n",
       "1                 서울특별시   30세~39세  여자              강남구    4             11   \n",
       "2                 서울특별시   50세~59세  여자              강남구    4             11   \n",
       "3                 서울특별시    70세 이상  여자              강남구    1             11   \n",
       "4                 서울특별시   40세~49세  남자              강남구    2             11   \n",
       "...                 ...       ...  ..              ...  ...            ...   \n",
       "544212             경상남도   40세~49세  남자          창원시 의창구    1             48   \n",
       "544213             경상남도   50세~59세  남자          창원시 진해구    1             48   \n",
       "544214          제주특별자치도   50세~59세  여자              제주시    1             50   \n",
       "544215          제주특별자치도   19세~29세  남자              제주시    1             50   \n",
       "544216          제주특별자치도   50세~59세  남자              제주시    1             50   \n",
       "\n",
       "       admin_regn2_cd sex_cd res_date   rdata_seq search_real_cls  \\\n",
       "0                 강남구      F  2012-01  0000000053                   \n",
       "1                 강남구      F  2012-01  0000000053                   \n",
       "2                 강남구      F  2012-01  0000000053                   \n",
       "3                 강남구      F  2012-01  0000000053                   \n",
       "4                 강남구      M  2012-01  0000000053                   \n",
       "...               ...    ...      ...         ...             ...   \n",
       "544212        창원시 의창구      M  2021-07  0000000048           13323   \n",
       "544213        창원시 진해구      M  2021-07  0000000048           13323   \n",
       "544214            제주시      F  2021-07  0000000048           13323   \n",
       "544215            제주시      M  2021-07  0000000048           13323   \n",
       "544216            제주시      M  2021-07  0000000048           13323   \n",
       "\n",
       "       search_start_date search_end_date  \n",
       "0                 201201          201201  \n",
       "1                 201201          201201  \n",
       "2                 201201          201201  \n",
       "3                 201201          201201  \n",
       "4                 201201          201201  \n",
       "...                  ...             ...  \n",
       "544212            202107          202107  \n",
       "544213            202107          202107  \n",
       "544214            202107          202107  \n",
       "544215            202107          202107  \n",
       "544216            202107          202107  \n",
       "\n",
       "[544217 rows x 13 columns]"
      ]
     },
     "execution_count": 14,
     "metadata": {},
     "output_type": "execute_result"
    }
   ],
   "source": [
    "df_bind = pd.concat(df_list).reset_index(drop=True)\n",
    "df_bind"
   ]
  },
  {
   "cell_type": "code",
   "execution_count": 15,
   "metadata": {
    "ExecuteTime": {
     "end_time": "2021-08-17T17:44:53.586725Z",
     "start_time": "2021-08-17T17:44:51.012286Z"
    }
   },
   "outputs": [],
   "source": [
    "df_bind.to_csv('C:/Users/rsh15/Google Drive/crawler_data/estate_registration/auction_count_by_age.csv',index=False,encoding='UTF-8-sig')"
   ]
  }
 ],
 "metadata": {
  "kernelspec": {
   "display_name": "simon_env",
   "language": "python",
   "name": "simon_env"
  },
  "language_info": {
   "codemirror_mode": {
    "name": "ipython",
    "version": 3
   },
   "file_extension": ".py",
   "mimetype": "text/x-python",
   "name": "python",
   "nbconvert_exporter": "python",
   "pygments_lexer": "ipython3",
   "version": "3.7.11"
  },
  "toc": {
   "base_numbering": 1,
   "nav_menu": {},
   "number_sections": true,
   "sideBar": true,
   "skip_h1_title": true,
   "title_cell": "Table of Contents",
   "title_sidebar": "Contents",
   "toc_cell": false,
   "toc_position": {},
   "toc_section_display": true,
   "toc_window_display": false
  },
  "varInspector": {
   "cols": {
    "lenName": 16,
    "lenType": 16,
    "lenVar": 40
   },
   "kernels_config": {
    "python": {
     "delete_cmd_postfix": "",
     "delete_cmd_prefix": "del ",
     "library": "var_list.py",
     "varRefreshCmd": "print(var_dic_list())"
    },
    "r": {
     "delete_cmd_postfix": ") ",
     "delete_cmd_prefix": "rm(",
     "library": "var_list.r",
     "varRefreshCmd": "cat(var_dic_list()) "
    }
   },
   "types_to_exclude": [
    "module",
    "function",
    "builtin_function_or_method",
    "instance",
    "_Feature"
   ],
   "window_display": false
  }
 },
 "nbformat": 4,
 "nbformat_minor": 4
}
