{
 "cells": [
  {
   "cell_type": "code",
   "execution_count": 1,
   "metadata": {
    "ExecuteTime": {
     "end_time": "2021-07-21T05:11:07.695033Z",
     "start_time": "2021-07-21T05:11:07.132805Z"
    }
   },
   "outputs": [],
   "source": [
    "from selenium import webdriver\n",
    "import pandas as pd\n",
    "import numpy as np\n",
    "from bs4 import BeautifulSoup\n",
    "import time"
   ]
  },
  {
   "cell_type": "code",
   "execution_count": 2,
   "metadata": {
    "ExecuteTime": {
     "end_time": "2021-07-21T05:11:07.710750Z",
     "start_time": "2021-07-21T05:11:07.696033Z"
    }
   },
   "outputs": [],
   "source": [
    "urll = 'https://onland.kbstar.com/quics?page=C060737'"
   ]
  },
  {
   "cell_type": "code",
   "execution_count": 3,
   "metadata": {
    "ExecuteTime": {
     "end_time": "2021-07-21T05:11:07.725755Z",
     "start_time": "2021-07-21T05:11:07.716776Z"
    }
   },
   "outputs": [],
   "source": [
    "dir_for_shinhan = 'C:/Users/shic/Desktop/shinhan_simon/chromedriver/chromedriver.exe'\n",
    "dir_for_seunghun = 'C:/Users/rsh15/Desktop/seunghuni/selenium/chromedriver.exe'"
   ]
  },
  {
   "cell_type": "code",
   "execution_count": 4,
   "metadata": {
    "ExecuteTime": {
     "end_time": "2021-07-21T05:11:09.318803Z",
     "start_time": "2021-07-21T05:11:07.729709Z"
    }
   },
   "outputs": [],
   "source": [
    "driver = webdriver.Chrome(dir_for_shinhan)\n",
    "driver.maximize_window()\n",
    "driver.refresh()"
   ]
  },
  {
   "cell_type": "code",
   "execution_count": 5,
   "metadata": {
    "ExecuteTime": {
     "end_time": "2021-07-21T05:11:10.328301Z",
     "start_time": "2021-07-21T05:11:09.319800Z"
    }
   },
   "outputs": [],
   "source": [
    "driver.get(urll)"
   ]
  },
  {
   "cell_type": "code",
   "execution_count": 6,
   "metadata": {
    "ExecuteTime": {
     "end_time": "2021-07-21T05:11:10.528765Z",
     "start_time": "2021-07-21T05:11:10.329298Z"
    }
   },
   "outputs": [
    {
     "data": {
      "text/html": [
       "<div>\n",
       "<style scoped>\n",
       "    .dataframe tbody tr th:only-of-type {\n",
       "        vertical-align: middle;\n",
       "    }\n",
       "\n",
       "    .dataframe tbody tr th {\n",
       "        vertical-align: top;\n",
       "    }\n",
       "\n",
       "    .dataframe thead th {\n",
       "        text-align: right;\n",
       "    }\n",
       "</style>\n",
       "<table border=\"1\" class=\"dataframe\">\n",
       "  <thead>\n",
       "    <tr style=\"text-align: right;\">\n",
       "      <th></th>\n",
       "      <th>big_region_code</th>\n",
       "      <th>big_region_name</th>\n",
       "    </tr>\n",
       "  </thead>\n",
       "  <tbody>\n",
       "    <tr>\n",
       "      <th>0</th>\n",
       "      <td>9800000000</td>\n",
       "      <td>전국</td>\n",
       "    </tr>\n",
       "    <tr>\n",
       "      <th>1</th>\n",
       "      <td>1100000000</td>\n",
       "      <td>서울</td>\n",
       "    </tr>\n",
       "    <tr>\n",
       "      <th>2</th>\n",
       "      <td>4100000000</td>\n",
       "      <td>경기</td>\n",
       "    </tr>\n",
       "    <tr>\n",
       "      <th>3</th>\n",
       "      <td>2800000000</td>\n",
       "      <td>인천</td>\n",
       "    </tr>\n",
       "    <tr>\n",
       "      <th>4</th>\n",
       "      <td>9803000000</td>\n",
       "      <td>수도권</td>\n",
       "    </tr>\n",
       "    <tr>\n",
       "      <th>5</th>\n",
       "      <td>2600000000</td>\n",
       "      <td>부산</td>\n",
       "    </tr>\n",
       "    <tr>\n",
       "      <th>6</th>\n",
       "      <td>2700000000</td>\n",
       "      <td>대구</td>\n",
       "    </tr>\n",
       "    <tr>\n",
       "      <th>7</th>\n",
       "      <td>2900000000</td>\n",
       "      <td>광주</td>\n",
       "    </tr>\n",
       "    <tr>\n",
       "      <th>8</th>\n",
       "      <td>3000000000</td>\n",
       "      <td>대전</td>\n",
       "    </tr>\n",
       "    <tr>\n",
       "      <th>9</th>\n",
       "      <td>3100000000</td>\n",
       "      <td>울산</td>\n",
       "    </tr>\n",
       "    <tr>\n",
       "      <th>10</th>\n",
       "      <td>9802000000</td>\n",
       "      <td>5개광역시</td>\n",
       "    </tr>\n",
       "    <tr>\n",
       "      <th>11</th>\n",
       "      <td>9801000000</td>\n",
       "      <td>6개광역시</td>\n",
       "    </tr>\n",
       "    <tr>\n",
       "      <th>12</th>\n",
       "      <td>3611000000</td>\n",
       "      <td>세종</td>\n",
       "    </tr>\n",
       "    <tr>\n",
       "      <th>13</th>\n",
       "      <td>4200000000</td>\n",
       "      <td>강원</td>\n",
       "    </tr>\n",
       "    <tr>\n",
       "      <th>14</th>\n",
       "      <td>4300000000</td>\n",
       "      <td>충북</td>\n",
       "    </tr>\n",
       "    <tr>\n",
       "      <th>15</th>\n",
       "      <td>4400000000</td>\n",
       "      <td>충남</td>\n",
       "    </tr>\n",
       "    <tr>\n",
       "      <th>16</th>\n",
       "      <td>4500000000</td>\n",
       "      <td>전북</td>\n",
       "    </tr>\n",
       "    <tr>\n",
       "      <th>17</th>\n",
       "      <td>4600000000</td>\n",
       "      <td>전남</td>\n",
       "    </tr>\n",
       "    <tr>\n",
       "      <th>18</th>\n",
       "      <td>4700000000</td>\n",
       "      <td>경북</td>\n",
       "    </tr>\n",
       "    <tr>\n",
       "      <th>19</th>\n",
       "      <td>4800000000</td>\n",
       "      <td>경남</td>\n",
       "    </tr>\n",
       "    <tr>\n",
       "      <th>20</th>\n",
       "      <td>5000000000</td>\n",
       "      <td>제주/서귀포</td>\n",
       "    </tr>\n",
       "    <tr>\n",
       "      <th>21</th>\n",
       "      <td>9804000000</td>\n",
       "      <td>기타지방</td>\n",
       "    </tr>\n",
       "  </tbody>\n",
       "</table>\n",
       "</div>"
      ],
      "text/plain": [
       "   big_region_code big_region_name\n",
       "0       9800000000              전국\n",
       "1       1100000000              서울\n",
       "2       4100000000              경기\n",
       "3       2800000000              인천\n",
       "4       9803000000             수도권\n",
       "5       2600000000              부산\n",
       "6       2700000000              대구\n",
       "7       2900000000              광주\n",
       "8       3000000000              대전\n",
       "9       3100000000              울산\n",
       "10      9802000000           5개광역시\n",
       "11      9801000000           6개광역시\n",
       "12      3611000000              세종\n",
       "13      4200000000              강원\n",
       "14      4300000000              충북\n",
       "15      4400000000              충남\n",
       "16      4500000000              전북\n",
       "17      4600000000              전남\n",
       "18      4700000000              경북\n",
       "19      4800000000              경남\n",
       "20      5000000000          제주/서귀포\n",
       "21      9804000000            기타지방"
      ]
     },
     "execution_count": 6,
     "metadata": {},
     "output_type": "execute_result"
    }
   ],
   "source": [
    "big_region_code = []\n",
    "big_region_name = []\n",
    "\n",
    "select_big_region = driver.find_element_by_id('법정동대지역코드')\n",
    "options = [x for x in select_big_region.find_elements_by_tag_name('option')]\n",
    "for element in options:\n",
    "    big_region_code.append(element.get_attribute('value'))\n",
    "    big_region_name.append(element.get_attribute('text'))\n",
    "    \n",
    "big_region_data = pd.DataFrame({\n",
    "    'big_region_code' : big_region_code,\n",
    "    'big_region_name' : big_region_name\n",
    "})\n",
    "big_region_data"
   ]
  },
  {
   "cell_type": "code",
   "execution_count": 7,
   "metadata": {
    "ExecuteTime": {
     "end_time": "2021-07-21T05:12:27.289047Z",
     "start_time": "2021-07-21T05:11:10.530760Z"
    }
   },
   "outputs": [],
   "source": [
    "big_region_url = 'https://onland.kbstar.com/quics?page=C060737&%EB%B2%95%EC%A0%95%EB%8F%99%EB%8C%80%EC%A7%80%EC%97%AD%EC%BD%94%EB%93%9C={}'\n",
    "\n",
    "small_region_list = []\n",
    "for big_region in big_region_data.iterrows():\n",
    "    \n",
    "    small_region_code = []\n",
    "    small_region_name = []\n",
    "\n",
    "    driver.get(big_region_url.format(str(big_region[1]['big_region_code'])))\n",
    "    \n",
    "    time.sleep(3)\n",
    "    \n",
    "    select_small_region = driver.find_element_by_id('법정동중지역코드')\n",
    "    options = [x for x in select_small_region.find_elements_by_tag_name('option')]\n",
    "    for small_element in options:\n",
    "        small_region_code.append(small_element.get_attribute('value'))\n",
    "        small_region_name.append(small_element.get_attribute('text'))\n",
    "\n",
    "    small_region_tmp = pd.DataFrame({\n",
    "        'big_region_code'   : big_region[1]['big_region_code'],\n",
    "        'big_region_name'   : big_region[1]['big_region_name'],\n",
    "        'small_region_code' : small_region_code,\n",
    "        'small_region_name' : small_region_name\n",
    "    })\n",
    "    small_region_list.append(small_region_tmp)\n",
    "\n",
    "driver.close()"
   ]
  },
  {
   "cell_type": "code",
   "execution_count": 18,
   "metadata": {
    "ExecuteTime": {
     "end_time": "2021-07-21T05:18:04.793146Z",
     "start_time": "2021-07-21T05:18:04.777188Z"
    },
    "scrolled": false
   },
   "outputs": [
    {
     "data": {
      "text/html": [
       "<div>\n",
       "<style scoped>\n",
       "    .dataframe tbody tr th:only-of-type {\n",
       "        vertical-align: middle;\n",
       "    }\n",
       "\n",
       "    .dataframe tbody tr th {\n",
       "        vertical-align: top;\n",
       "    }\n",
       "\n",
       "    .dataframe thead th {\n",
       "        text-align: right;\n",
       "    }\n",
       "</style>\n",
       "<table border=\"1\" class=\"dataframe\">\n",
       "  <thead>\n",
       "    <tr style=\"text-align: right;\">\n",
       "      <th></th>\n",
       "      <th>big_region_code</th>\n",
       "      <th>big_region_name</th>\n",
       "      <th>small_region_code</th>\n",
       "      <th>small_region_name</th>\n",
       "    </tr>\n",
       "  </thead>\n",
       "  <tbody>\n",
       "    <tr>\n",
       "      <th>0</th>\n",
       "      <td>9800000000</td>\n",
       "      <td>전국</td>\n",
       "      <td></td>\n",
       "      <td>(전체)</td>\n",
       "    </tr>\n",
       "    <tr>\n",
       "      <th>0</th>\n",
       "      <td>1100000000</td>\n",
       "      <td>서울</td>\n",
       "      <td></td>\n",
       "      <td>(전체)</td>\n",
       "    </tr>\n",
       "    <tr>\n",
       "      <th>1</th>\n",
       "      <td>1100000000</td>\n",
       "      <td>서울</td>\n",
       "      <td>1199000000</td>\n",
       "      <td>서울강북</td>\n",
       "    </tr>\n",
       "    <tr>\n",
       "      <th>2</th>\n",
       "      <td>1100000000</td>\n",
       "      <td>서울</td>\n",
       "      <td>1130500000</td>\n",
       "      <td>서울강북구</td>\n",
       "    </tr>\n",
       "    <tr>\n",
       "      <th>3</th>\n",
       "      <td>1100000000</td>\n",
       "      <td>서울</td>\n",
       "      <td>1121500000</td>\n",
       "      <td>서울광진구</td>\n",
       "    </tr>\n",
       "    <tr>\n",
       "      <th>...</th>\n",
       "      <td>...</td>\n",
       "      <td>...</td>\n",
       "      <td>...</td>\n",
       "      <td>...</td>\n",
       "    </tr>\n",
       "    <tr>\n",
       "      <th>9</th>\n",
       "      <td>4800000000</td>\n",
       "      <td>경남</td>\n",
       "      <td>4817000000</td>\n",
       "      <td>진주</td>\n",
       "    </tr>\n",
       "    <tr>\n",
       "      <th>10</th>\n",
       "      <td>4800000000</td>\n",
       "      <td>경남</td>\n",
       "      <td>4825000000</td>\n",
       "      <td>김해</td>\n",
       "    </tr>\n",
       "    <tr>\n",
       "      <th>11</th>\n",
       "      <td>4800000000</td>\n",
       "      <td>경남</td>\n",
       "      <td>4822000000</td>\n",
       "      <td>통영</td>\n",
       "    </tr>\n",
       "    <tr>\n",
       "      <th>0</th>\n",
       "      <td>5000000000</td>\n",
       "      <td>제주/서귀포</td>\n",
       "      <td></td>\n",
       "      <td>(전체)</td>\n",
       "    </tr>\n",
       "    <tr>\n",
       "      <th>0</th>\n",
       "      <td>9804000000</td>\n",
       "      <td>기타지방</td>\n",
       "      <td></td>\n",
       "      <td>(전체)</td>\n",
       "    </tr>\n",
       "  </tbody>\n",
       "</table>\n",
       "<p>185 rows × 4 columns</p>\n",
       "</div>"
      ],
      "text/plain": [
       "   big_region_code big_region_name small_region_code small_region_name\n",
       "0       9800000000              전국                                (전체)\n",
       "0       1100000000              서울                                (전체)\n",
       "1       1100000000              서울        1199000000              서울강북\n",
       "2       1100000000              서울        1130500000             서울강북구\n",
       "3       1100000000              서울        1121500000             서울광진구\n",
       "..             ...             ...               ...               ...\n",
       "9       4800000000              경남        4817000000                진주\n",
       "10      4800000000              경남        4825000000                김해\n",
       "11      4800000000              경남        4822000000                통영\n",
       "0       5000000000          제주/서귀포                                (전체)\n",
       "0       9804000000            기타지방                                (전체)\n",
       "\n",
       "[185 rows x 4 columns]"
      ]
     },
     "execution_count": 18,
     "metadata": {},
     "output_type": "execute_result"
    }
   ],
   "source": [
    "kb_regions = pd.concat(small_region_list,axis=0)\n",
    "kb_regions['big_region_code'] = kb_regions['big_region_code'].astype(str)\n",
    "kb_regions['small_region_code'] = kb_regions['small_region_code'].astype(str)\n",
    "kb_regions.loc[kb_regions['small_region_name'] == '(전체)','small_region_code'] = ' '\n",
    "kb_regions"
   ]
  },
  {
   "cell_type": "code",
   "execution_count": 19,
   "metadata": {
    "ExecuteTime": {
     "end_time": "2021-07-21T05:18:07.939331Z",
     "start_time": "2021-07-21T05:18:07.920384Z"
    }
   },
   "outputs": [],
   "source": [
    "dirr = 'C:/Users/shic/Desktop/crawler_project/data_save/kb_land/'\n",
    "kb_regions.to_csv(dirr+'region_code.csv',index=False)"
   ]
  }
 ],
 "metadata": {
  "kernelspec": {
   "display_name": "simon_env",
   "language": "python",
   "name": "simon_env"
  },
  "language_info": {
   "codemirror_mode": {
    "name": "ipython",
    "version": 3
   },
   "file_extension": ".py",
   "mimetype": "text/x-python",
   "name": "python",
   "nbconvert_exporter": "python",
   "pygments_lexer": "ipython3",
   "version": "3.8.11"
  },
  "toc": {
   "base_numbering": 1,
   "nav_menu": {},
   "number_sections": true,
   "sideBar": true,
   "skip_h1_title": false,
   "title_cell": "Table of Contents",
   "title_sidebar": "Contents",
   "toc_cell": false,
   "toc_position": {},
   "toc_section_display": true,
   "toc_window_display": false
  },
  "varInspector": {
   "cols": {
    "lenName": 16,
    "lenType": 16,
    "lenVar": 40
   },
   "kernels_config": {
    "python": {
     "delete_cmd_postfix": "",
     "delete_cmd_prefix": "del ",
     "library": "var_list.py",
     "varRefreshCmd": "print(var_dic_list())"
    },
    "r": {
     "delete_cmd_postfix": ") ",
     "delete_cmd_prefix": "rm(",
     "library": "var_list.r",
     "varRefreshCmd": "cat(var_dic_list()) "
    }
   },
   "types_to_exclude": [
    "module",
    "function",
    "builtin_function_or_method",
    "instance",
    "_Feature"
   ],
   "window_display": false
  }
 },
 "nbformat": 4,
 "nbformat_minor": 5
}
