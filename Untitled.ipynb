{
 "cells": [
  {
   "cell_type": "code",
   "execution_count": 1,
   "metadata": {
    "ExecuteTime": {
     "end_time": "2021-07-08T07:15:21.131681Z",
     "start_time": "2021-07-08T07:15:19.816864Z"
    }
   },
   "outputs": [],
   "source": [
    "import requests\n",
    "import pandas as pd"
   ]
  },
  {
   "cell_type": "code",
   "execution_count": 9,
   "metadata": {
    "ExecuteTime": {
     "end_time": "2021-07-08T07:17:26.025978Z",
     "start_time": "2021-07-08T07:17:26.018119Z"
    }
   },
   "outputs": [],
   "source": [
    "urll = 'https://kosis.kr/openapi/statisticsData.do?method=getList&apiKey=Yjg5YjZmNTU0OThkMWNmYTE3MDY0ZWQzZjUyNjQ0YzY=&format=json&jsonVD=Y&userStatsId=rsh1502/390/DT_39002_02/2/1/20210708161103&prdSe=M&startPrdDe=202101&endPrdDe=202101'"
   ]
  },
  {
   "cell_type": "code",
   "execution_count": 10,
   "metadata": {
    "ExecuteTime": {
     "end_time": "2021-07-08T07:17:26.641271Z",
     "start_time": "2021-07-08T07:17:26.296911Z"
    }
   },
   "outputs": [],
   "source": [
    "a = requests.get(urll)"
   ]
  },
  {
   "cell_type": "code",
   "execution_count": 11,
   "metadata": {
    "ExecuteTime": {
     "end_time": "2021-07-08T07:17:26.738161Z",
     "start_time": "2021-07-08T07:17:26.724854Z"
    }
   },
   "outputs": [
    {
     "data": {
      "text/plain": [
       "'[{\"DT\":\"127.8\",\"TBL_NM\":\"주택시장 소비심리지수\",\"PRD_SE\":\"M\",\"PRD_DE\":\"202101\",\"C1\":\"K01\",\"C1_NM\":\"전국\",\"ITM_NM\":\"주택시장소비심리지수\",\"TBL_ID\":\"DT_39002_02\",\"ITM_ID\":\"T1\",\"ORG_ID\":\"390\",\"C1_OBJ_NM\":\"시도별\"},{\"DT\":\"131.5\",\"TBL_NM\":\"주택시장 소비심리지수\",\"PRD_SE\":\"M\",\"PRD_DE\":\"202101\",\"C1\":\"K02\",\"C1_NM\":\"수도권\",\"ITM_NM\":\"주택시장소비심리지수\",\"TBL_ID\":\"DT_39002_02\",\"ITM_ID\":\"T1\",\"ORG_ID\":\"390\",\"C1_OBJ_NM\":\"시도별\"},{\"DT\":\"131.7\",\"TBL_NM\":\"주택시장 소비심리지수\",\"PRD_SE\":\"M\",\"PRD_DE\":\"202101\",\"C1\":\"K0203\",\"C1_NM\":\"서울특별시\",\"ITM_NM\":\"주택시장소비심리지수\",\"TBL_ID\":\"DT_39002_02\",\"ITM_ID\":\"T1\",\"ORG_ID\":\"390\",\"C1_OBJ_NM\":\"시도별\"},{\"DT\":\"129.2\",\"TBL_NM\":\"주택시장 소비심리지수\",\"PRD_SE\":\"M\",\"PRD_DE\":\"202101\",\"C1\":\"K0204\",\"C1_NM\":\"인천광역시\",\"ITM_NM\":\"주택시장소비심리지수\",\"TBL_ID\":\"DT_39002_02\",\"ITM_ID\":\"T1\",\"ORG_ID\":\"390\",\"C1_OBJ_NM\":\"시도별\"},{\"DT\":\"131.8\",\"TBL_NM\":\"주택시장 소비심리지수\",\"PRD_SE\":\"M\",\"PRD_DE\":\"202101\",\"C1\":\"K0205\",\"C1_NM\":\"경기도\",\"ITM_NM\":\"주택시장소비심리지수\",\"TBL_ID\":\"DT_39002_02\",\"ITM_ID\":\"T1\",\"ORG_ID\":\"390\",\"C1_OBJ_NM\":\"시도별\"},{\"DT\":\"123.4\",\"TBL_NM\":\"주택시장 소비심리지수\",\"PRD_SE\":\"M\",\"PRD_DE\":\"202101\",\"C1\":\"K06\",\"C1_NM\":\"비수도권\",\"ITM_NM\":\"주택시장소비심리지수\",\"TBL_ID\":\"DT_39002_02\",\"ITM_ID\":\"T1\",\"ORG_ID\":\"390\",\"C1_OBJ_NM\":\"시도별\"},{\"DT\":\"117.4\",\"TBL_NM\":\"주택시장 소비심리지수\",\"PRD_SE\":\"M\",\"PRD_DE\":\"202101\",\"C1\":\"K0607\",\"C1_NM\":\"부산광역시\",\"ITM_NM\":\"주택시장소비심리지수\",\"TBL_ID\":\"DT_39002_02\",\"ITM_ID\":\"T1\",\"ORG_ID\":\"390\",\"C1_OBJ_NM\":\"시도별\"},{\"DT\":\"128.4\",\"TBL_NM\":\"주택시장 소비심리지수\",\"PRD_SE\":\"M\",\"PRD_DE\":\"202101\",\"C1\":\"K0608\",\"C1_NM\":\"대구광역시\",\"ITM_NM\":\"주택시장소비심리지수\",\"TBL_ID\":\"DT_39002_02\",\"ITM_ID\":\"T1\",\"ORG_ID\":\"390\",\"C1_OBJ_NM\":\"시도별\"},{\"DT\":\"119.9\",\"TBL_NM\":\"주택시장 소비심리지수\",\"PRD_SE\":\"M\",\"PRD_DE\":\"202101\",\"C1\":\"K0609\",\"C1_NM\":\"광주광역시\",\"ITM_NM\":\"주택시장소비심리지수\",\"TBL_ID\":\"DT_39002_02\",\"ITM_ID\":\"T1\",\"ORG_ID\":\"390\",\"C1_OBJ_NM\":\"시도별\"},{\"DT\":\"130.5\",\"TBL_NM\":\"주택시장 소비심리지수\",\"PRD_SE\":\"M\",\"PRD_DE\":\"202101\",\"C1\":\"K0610\",\"C1_NM\":\"대전광역시\",\"ITM_NM\":\"주택시장소비심리지수\",\"TBL_ID\":\"DT_39002_02\",\"ITM_ID\":\"T1\",\"ORG_ID\":\"390\",\"C1_OBJ_NM\":\"시도별\"},{\"DT\":\"123.9\",\"TBL_NM\":\"주택시장 소비심리지수\",\"PRD_SE\":\"M\",\"PRD_DE\":\"202101\",\"C1\":\"K0611\",\"C1_NM\":\"울산광역시\",\"ITM_NM\":\"주택시장소비심리지수\",\"TBL_ID\":\"DT_39002_02\",\"ITM_ID\":\"T1\",\"ORG_ID\":\"390\",\"C1_OBJ_NM\":\"시도별\"},{\"DT\":\"137.1\",\"TBL_NM\":\"주택시장 소비심리지수\",\"PRD_SE\":\"M\",\"PRD_DE\":\"202101\",\"C1\":\"K0612\",\"C1_NM\":\"강원도\",\"ITM_NM\":\"주택시장소비심리지수\",\"TBL_ID\":\"DT_39002_02\",\"ITM_ID\":\"T1\",\"ORG_ID\":\"390\",\"C1_OBJ_NM\":\"시도별\"},{\"DT\":\"127.2\",\"TBL_NM\":\"주택시장 소비심리지수\",\"PRD_SE\":\"M\",\"PRD_DE\":\"202101\",\"C1\":\"K0613\",\"C1_NM\":\"충청북도\",\"ITM_NM\":\"주택시장소비심리지수\",\"TBL_ID\":\"DT_39002_02\",\"ITM_ID\":\"T1\",\"ORG_ID\":\"390\",\"C1_OBJ_NM\":\"시도별\"},{\"DT\":\"136.4\",\"TBL_NM\":\"주택시장 소비심리지수\",\"PRD_SE\":\"M\",\"PRD_DE\":\"202101\",\"C1\":\"K0614\",\"C1_NM\":\"충청남도\",\"ITM_NM\":\"주택시장소비심리지수\",\"TBL_ID\":\"DT_39002_02\",\"ITM_ID\":\"T1\",\"ORG_ID\":\"390\",\"C1_OBJ_NM\":\"시도별\"},{\"DT\":\"123.2\",\"TBL_NM\":\"주택시장 소비심리지수\",\"PRD_SE\":\"M\",\"PRD_DE\":\"202101\",\"C1\":\"K0615\",\"C1_NM\":\"전라북도\",\"ITM_NM\":\"주택시장소비심리지수\",\"TBL_ID\":\"DT_39002_02\",\"ITM_ID\":\"T1\",\"ORG_ID\":\"390\",\"C1_OBJ_NM\":\"시도별\"},{\"DT\":\"121.7\",\"TBL_NM\":\"주택시장 소비심리지수\",\"PRD_SE\":\"M\",\"PRD_DE\":\"202101\",\"C1\":\"K0616\",\"C1_NM\":\"전라남도\",\"ITM_NM\":\"주택시장소비심리지수\",\"TBL_ID\":\"DT_39002_02\",\"ITM_ID\":\"T1\",\"ORG_ID\":\"390\",\"C1_OBJ_NM\":\"시도별\"},{\"DT\":\"123.4\",\"TBL_NM\":\"주택시장 소비심리지수\",\"PRD_SE\":\"M\",\"PRD_DE\":\"202101\",\"C1\":\"K0617\",\"C1_NM\":\"경상북도\",\"ITM_NM\":\"주택시장소비심리지수\",\"TBL_ID\":\"DT_39002_02\",\"ITM_ID\":\"T1\",\"ORG_ID\":\"390\",\"C1_OBJ_NM\":\"시도별\"},{\"DT\":\"115.7\",\"TBL_NM\":\"주택시장 소비심리지수\",\"PRD_SE\":\"M\",\"PRD_DE\":\"202101\",\"C1\":\"K0618\",\"C1_NM\":\"경상남도\",\"ITM_NM\":\"주택시장소비심리지수\",\"TBL_ID\":\"DT_39002_02\",\"ITM_ID\":\"T1\",\"ORG_ID\":\"390\",\"C1_OBJ_NM\":\"시도별\"},{\"DT\":\"125.5\",\"TBL_NM\":\"주택시장 소비심리지수\",\"PRD_SE\":\"M\",\"PRD_DE\":\"202101\",\"C1\":\"k0619\",\"C1_NM\":\"세종특별자치시\",\"ITM_NM\":\"주택시장소비심리지수\",\"TBL_ID\":\"DT_39002_02\",\"ITM_ID\":\"T1\",\"ORG_ID\":\"390\",\"C1_OBJ_NM\":\"시도별\"},{\"DT\":\"117.5\",\"TBL_NM\":\"주택시장 소비심리지수\",\"PRD_SE\":\"M\",\"PRD_DE\":\"202101\",\"C1\":\"k0620\",\"C1_NM\":\"제주특별자치도\",\"ITM_NM\":\"주택시장소비심리지수\",\"TBL_ID\":\"DT_39002_02\",\"ITM_ID\":\"T1\",\"ORG_ID\":\"390\",\"C1_OBJ_NM\":\"시도별\"}]'"
      ]
     },
     "execution_count": 11,
     "metadata": {},
     "output_type": "execute_result"
    }
   ],
   "source": [
    "a.text"
   ]
  },
  {
   "cell_type": "code",
   "execution_count": 21,
   "metadata": {
    "ExecuteTime": {
     "end_time": "2021-07-08T07:18:22.383688Z",
     "start_time": "2021-07-08T07:18:22.364762Z"
    }
   },
   "outputs": [],
   "source": [
    "urll2 = 'https://kosis.kr/openapi/statisticsData.do?method=getList&apiKey=Yjg5YjZmNTU0OThkMWNmYTE3MDY0ZWQzZjUyNjQ0YzY=&format=json&jsonVD=Y&userStatsId=rsh1502/390/DT_39002_02/2/1/20210708161103&prdSe=M&startPrdDe=202104&endPrdDe=202104'"
   ]
  },
  {
   "cell_type": "code",
   "execution_count": 22,
   "metadata": {
    "ExecuteTime": {
     "end_time": "2021-07-08T07:18:23.164681Z",
     "start_time": "2021-07-08T07:18:22.782867Z"
    }
   },
   "outputs": [],
   "source": [
    "b = requests.get(urll2)"
   ]
  },
  {
   "cell_type": "code",
   "execution_count": 23,
   "metadata": {
    "ExecuteTime": {
     "end_time": "2021-07-08T07:18:23.314311Z",
     "start_time": "2021-07-08T07:18:23.302099Z"
    }
   },
   "outputs": [
    {
     "data": {
      "text/plain": [
       "'[{\"DT\":\"119.4\",\"TBL_NM\":\"주택시장 소비심리지수\",\"PRD_SE\":\"M\",\"PRD_DE\":\"202104\",\"C1\":\"K01\",\"C1_NM\":\"전국\",\"ITM_NM\":\"주택시장소비심리지수\",\"TBL_ID\":\"DT_39002_02\",\"ITM_ID\":\"T1\",\"ORG_ID\":\"390\",\"C1_OBJ_NM\":\"시도별\"},{\"DT\":\"121.8\",\"TBL_NM\":\"주택시장 소비심리지수\",\"PRD_SE\":\"M\",\"PRD_DE\":\"202104\",\"C1\":\"K02\",\"C1_NM\":\"수도권\",\"ITM_NM\":\"주택시장소비심리지수\",\"TBL_ID\":\"DT_39002_02\",\"ITM_ID\":\"T1\",\"ORG_ID\":\"390\",\"C1_OBJ_NM\":\"시도별\"},{\"DT\":\"118.2\",\"TBL_NM\":\"주택시장 소비심리지수\",\"PRD_SE\":\"M\",\"PRD_DE\":\"202104\",\"C1\":\"K0203\",\"C1_NM\":\"서울특별시\",\"ITM_NM\":\"주택시장소비심리지수\",\"TBL_ID\":\"DT_39002_02\",\"ITM_ID\":\"T1\",\"ORG_ID\":\"390\",\"C1_OBJ_NM\":\"시도별\"},{\"DT\":\"131.7\",\"TBL_NM\":\"주택시장 소비심리지수\",\"PRD_SE\":\"M\",\"PRD_DE\":\"202104\",\"C1\":\"K0204\",\"C1_NM\":\"인천광역시\",\"ITM_NM\":\"주택시장소비심리지수\",\"TBL_ID\":\"DT_39002_02\",\"ITM_ID\":\"T1\",\"ORG_ID\":\"390\",\"C1_OBJ_NM\":\"시도별\"},{\"DT\":\"121.6\",\"TBL_NM\":\"주택시장 소비심리지수\",\"PRD_SE\":\"M\",\"PRD_DE\":\"202104\",\"C1\":\"K0205\",\"C1_NM\":\"경기도\",\"ITM_NM\":\"주택시장소비심리지수\",\"TBL_ID\":\"DT_39002_02\",\"ITM_ID\":\"T1\",\"ORG_ID\":\"390\",\"C1_OBJ_NM\":\"시도별\"},{\"DT\":\"117.5\",\"TBL_NM\":\"주택시장 소비심리지수\",\"PRD_SE\":\"M\",\"PRD_DE\":\"202104\",\"C1\":\"K06\",\"C1_NM\":\"비수도권\",\"ITM_NM\":\"주택시장소비심리지수\",\"TBL_ID\":\"DT_39002_02\",\"ITM_ID\":\"T1\",\"ORG_ID\":\"390\",\"C1_OBJ_NM\":\"시도별\"},{\"DT\":\"116.2\",\"TBL_NM\":\"주택시장 소비심리지수\",\"PRD_SE\":\"M\",\"PRD_DE\":\"202104\",\"C1\":\"K0607\",\"C1_NM\":\"부산광역시\",\"ITM_NM\":\"주택시장소비심리지수\",\"TBL_ID\":\"DT_39002_02\",\"ITM_ID\":\"T1\",\"ORG_ID\":\"390\",\"C1_OBJ_NM\":\"시도별\"},{\"DT\":\"113.7\",\"TBL_NM\":\"주택시장 소비심리지수\",\"PRD_SE\":\"M\",\"PRD_DE\":\"202104\",\"C1\":\"K0608\",\"C1_NM\":\"대구광역시\",\"ITM_NM\":\"주택시장소비심리지수\",\"TBL_ID\":\"DT_39002_02\",\"ITM_ID\":\"T1\",\"ORG_ID\":\"390\",\"C1_OBJ_NM\":\"시도별\"},{\"DT\":\"112.8\",\"TBL_NM\":\"주택시장 소비심리지수\",\"PRD_SE\":\"M\",\"PRD_DE\":\"202104\",\"C1\":\"K0609\",\"C1_NM\":\"광주광역시\",\"ITM_NM\":\"주택시장소비심리지수\",\"TBL_ID\":\"DT_39002_02\",\"ITM_ID\":\"T1\",\"ORG_ID\":\"390\",\"C1_OBJ_NM\":\"시도별\"},{\"DT\":\"125.2\",\"TBL_NM\":\"주택시장 소비심리지수\",\"PRD_SE\":\"M\",\"PRD_DE\":\"202104\",\"C1\":\"K0610\",\"C1_NM\":\"대전광역시\",\"ITM_NM\":\"주택시장소비심리지수\",\"TBL_ID\":\"DT_39002_02\",\"ITM_ID\":\"T1\",\"ORG_ID\":\"390\",\"C1_OBJ_NM\":\"시도별\"},{\"DT\":\"110.6\",\"TBL_NM\":\"주택시장 소비심리지수\",\"PRD_SE\":\"M\",\"PRD_DE\":\"202104\",\"C1\":\"K0611\",\"C1_NM\":\"울산광역시\",\"ITM_NM\":\"주택시장소비심리지수\",\"TBL_ID\":\"DT_39002_02\",\"ITM_ID\":\"T1\",\"ORG_ID\":\"390\",\"C1_OBJ_NM\":\"시도별\"},{\"DT\":\"126.8\",\"TBL_NM\":\"주택시장 소비심리지수\",\"PRD_SE\":\"M\",\"PRD_DE\":\"202104\",\"C1\":\"K0612\",\"C1_NM\":\"강원도\",\"ITM_NM\":\"주택시장소비심리지수\",\"TBL_ID\":\"DT_39002_02\",\"ITM_ID\":\"T1\",\"ORG_ID\":\"390\",\"C1_OBJ_NM\":\"시도별\"},{\"DT\":\"121.6\",\"TBL_NM\":\"주택시장 소비심리지수\",\"PRD_SE\":\"M\",\"PRD_DE\":\"202104\",\"C1\":\"K0613\",\"C1_NM\":\"충청북도\",\"ITM_NM\":\"주택시장소비심리지수\",\"TBL_ID\":\"DT_39002_02\",\"ITM_ID\":\"T1\",\"ORG_ID\":\"390\",\"C1_OBJ_NM\":\"시도별\"},{\"DT\":\"131.9\",\"TBL_NM\":\"주택시장 소비심리지수\",\"PRD_SE\":\"M\",\"PRD_DE\":\"202104\",\"C1\":\"K0614\",\"C1_NM\":\"충청남도\",\"ITM_NM\":\"주택시장소비심리지수\",\"TBL_ID\":\"DT_39002_02\",\"ITM_ID\":\"T1\",\"ORG_ID\":\"390\",\"C1_OBJ_NM\":\"시도별\"},{\"DT\":\"125.9\",\"TBL_NM\":\"주택시장 소비심리지수\",\"PRD_SE\":\"M\",\"PRD_DE\":\"202104\",\"C1\":\"K0615\",\"C1_NM\":\"전라북도\",\"ITM_NM\":\"주택시장소비심리지수\",\"TBL_ID\":\"DT_39002_02\",\"ITM_ID\":\"T1\",\"ORG_ID\":\"390\",\"C1_OBJ_NM\":\"시도별\"},{\"DT\":\"112.1\",\"TBL_NM\":\"주택시장 소비심리지수\",\"PRD_SE\":\"M\",\"PRD_DE\":\"202104\",\"C1\":\"K0616\",\"C1_NM\":\"전라남도\",\"ITM_NM\":\"주택시장소비심리지수\",\"TBL_ID\":\"DT_39002_02\",\"ITM_ID\":\"T1\",\"ORG_ID\":\"390\",\"C1_OBJ_NM\":\"시도별\"},{\"DT\":\"121.1\",\"TBL_NM\":\"주택시장 소비심리지수\",\"PRD_SE\":\"M\",\"PRD_DE\":\"202104\",\"C1\":\"K0617\",\"C1_NM\":\"경상북도\",\"ITM_NM\":\"주택시장소비심리지수\",\"TBL_ID\":\"DT_39002_02\",\"ITM_ID\":\"T1\",\"ORG_ID\":\"390\",\"C1_OBJ_NM\":\"시도별\"},{\"DT\":\"115.4\",\"TBL_NM\":\"주택시장 소비심리지수\",\"PRD_SE\":\"M\",\"PRD_DE\":\"202104\",\"C1\":\"K0618\",\"C1_NM\":\"경상남도\",\"ITM_NM\":\"주택시장소비심리지수\",\"TBL_ID\":\"DT_39002_02\",\"ITM_ID\":\"T1\",\"ORG_ID\":\"390\",\"C1_OBJ_NM\":\"시도별\"},{\"DT\":\"93.3\",\"TBL_NM\":\"주택시장 소비심리지수\",\"PRD_SE\":\"M\",\"PRD_DE\":\"202104\",\"C1\":\"k0619\",\"C1_NM\":\"세종특별자치시\",\"ITM_NM\":\"주택시장소비심리지수\",\"TBL_ID\":\"DT_39002_02\",\"ITM_ID\":\"T1\",\"ORG_ID\":\"390\",\"C1_OBJ_NM\":\"시도별\"},{\"DT\":\"120\",\"TBL_NM\":\"주택시장 소비심리지수\",\"PRD_SE\":\"M\",\"PRD_DE\":\"202104\",\"C1\":\"k0620\",\"C1_NM\":\"제주특별자치도\",\"ITM_NM\":\"주택시장소비심리지수\",\"TBL_ID\":\"DT_39002_02\",\"ITM_ID\":\"T1\",\"ORG_ID\":\"390\",\"C1_OBJ_NM\":\"시도별\"}]'"
      ]
     },
     "execution_count": 23,
     "metadata": {},
     "output_type": "execute_result"
    }
   ],
   "source": [
    "b.text"
   ]
  },
  {
   "cell_type": "code",
   "execution_count": 24,
   "metadata": {
    "ExecuteTime": {
     "end_time": "2021-07-08T07:18:23.828031Z",
     "start_time": "2021-07-08T07:18:23.820049Z"
    }
   },
   "outputs": [
    {
     "data": {
      "text/plain": [
       "False"
      ]
     },
     "execution_count": 24,
     "metadata": {},
     "output_type": "execute_result"
    }
   ],
   "source": [
    "a.text == b.text"
   ]
  },
  {
   "cell_type": "code",
   "execution_count": null,
   "metadata": {},
   "outputs": [],
   "source": []
  }
 ],
 "metadata": {
  "kernelspec": {
   "display_name": "simon_env",
   "language": "python",
   "name": "simon_env"
  },
  "language_info": {
   "codemirror_mode": {
    "name": "ipython",
    "version": 3
   },
   "file_extension": ".py",
   "mimetype": "text/x-python",
   "name": "python",
   "nbconvert_exporter": "python",
   "pygments_lexer": "ipython3",
   "version": "3.8.8"
  },
  "toc": {
   "base_numbering": 1,
   "nav_menu": {},
   "number_sections": true,
   "sideBar": true,
   "skip_h1_title": true,
   "title_cell": "Table of Contents",
   "title_sidebar": "Contents",
   "toc_cell": false,
   "toc_position": {},
   "toc_section_display": true,
   "toc_window_display": false
  },
  "varInspector": {
   "cols": {
    "lenName": 16,
    "lenType": 16,
    "lenVar": 40
   },
   "kernels_config": {
    "python": {
     "delete_cmd_postfix": "",
     "delete_cmd_prefix": "del ",
     "library": "var_list.py",
     "varRefreshCmd": "print(var_dic_list())"
    },
    "r": {
     "delete_cmd_postfix": ") ",
     "delete_cmd_prefix": "rm(",
     "library": "var_list.r",
     "varRefreshCmd": "cat(var_dic_list()) "
    }
   },
   "types_to_exclude": [
    "module",
    "function",
    "builtin_function_or_method",
    "instance",
    "_Feature"
   ],
   "window_display": false
  }
 },
 "nbformat": 4,
 "nbformat_minor": 4
}
