{
 "cells": [
  {
   "cell_type": "code",
   "execution_count": 1,
   "id": "0d4f3180",
   "metadata": {
    "ExecuteTime": {
     "end_time": "2021-07-28T23:02:01.596612Z",
     "start_time": "2021-07-28T23:02:00.983279Z"
    }
   },
   "outputs": [
    {
     "ename": "IndexError",
     "evalue": "list index out of range",
     "output_type": "error",
     "traceback": [
      "\u001b[1;31m---------------------------------------------------------------------------\u001b[0m",
      "\u001b[1;31mIndexError\u001b[0m                                Traceback (most recent call last)",
      "\u001b[1;32m<ipython-input-1-752d856e0490>\u001b[0m in \u001b[0;36m<module>\u001b[1;34m\u001b[0m\n\u001b[0;32m     13\u001b[0m \u001b[1;33m\u001b[0m\u001b[0m\n\u001b[0;32m     14\u001b[0m \u001b[0mcode_data_list\u001b[0m \u001b[1;33m=\u001b[0m \u001b[0mglob\u001b[0m\u001b[1;33m(\u001b[0m\u001b[1;34m'C:/Users/shic/Desktop/crawler_project/data_save/stock_price/*.csv'\u001b[0m\u001b[1;33m)\u001b[0m\u001b[1;33m\u001b[0m\u001b[1;33m\u001b[0m\u001b[0m\n\u001b[1;32m---> 15\u001b[1;33m \u001b[0mkosdaq\u001b[0m \u001b[1;33m=\u001b[0m \u001b[0mpd\u001b[0m\u001b[1;33m.\u001b[0m\u001b[0mread_csv\u001b[0m\u001b[1;33m(\u001b[0m\u001b[0mcode_data_list\u001b[0m\u001b[1;33m[\u001b[0m\u001b[1;36m0\u001b[0m\u001b[1;33m]\u001b[0m\u001b[1;33m,\u001b[0m\u001b[0mencoding\u001b[0m\u001b[1;33m=\u001b[0m\u001b[1;34m'CP949'\u001b[0m\u001b[1;33m)\u001b[0m\u001b[1;33m\u001b[0m\u001b[1;33m\u001b[0m\u001b[0m\n\u001b[0m\u001b[0;32m     16\u001b[0m \u001b[0mkospi\u001b[0m  \u001b[1;33m=\u001b[0m \u001b[0mpd\u001b[0m\u001b[1;33m.\u001b[0m\u001b[0mread_csv\u001b[0m\u001b[1;33m(\u001b[0m\u001b[0mcode_data_list\u001b[0m\u001b[1;33m[\u001b[0m\u001b[1;36m1\u001b[0m\u001b[1;33m]\u001b[0m\u001b[1;33m,\u001b[0m\u001b[0mencoding\u001b[0m\u001b[1;33m=\u001b[0m\u001b[1;34m'CP949'\u001b[0m\u001b[1;33m)\u001b[0m\u001b[1;33m\u001b[0m\u001b[1;33m\u001b[0m\u001b[0m\n\u001b[0;32m     17\u001b[0m \u001b[1;33m\u001b[0m\u001b[0m\n",
      "\u001b[1;31mIndexError\u001b[0m: list index out of range"
     ]
    }
   ],
   "source": [
    "import pandas as pd\n",
    "import numpy as np\n",
    "import requests\n",
    "from bs4 import BeautifulSoup\n",
    "from glob import glob\n",
    "import random\n",
    "import multiprocessing as mp\n",
    "import time\n",
    "\n",
    "header = {\n",
    "    'User-Agent':'Mozilla/5.0 (Windows NT 10.0; Win64; x64) AppleWebKit/537.36 (KHTML, like Gecko) Chrome/91.0.4472.124 Safari/537.36'\n",
    "}\n",
    "\n",
    "code_data_list = glob('C:/Users/shic/Desktop/crawler_project/data_save/stock_price/*.csv')\n",
    "kosdaq = pd.read_csv(code_data_list[0],encoding='CP949')\n",
    "kospi  = pd.read_csv(code_data_list[1],encoding='CP949')\n",
    "\n",
    "# 종목 코드와 page number를 반복해가면서 kospi, kosdaq url 생성.\n",
    "urls_list_kosdaq = []\n",
    "for kosdaq_rows in kosdaq.iterrows():\n",
    "    for page_num in range(1,250):\n",
    "        code = kosdaq_rows[1]['종목코드']\n",
    "        bind_url = 'https://finance.naver.com/item/sise_day.nhn?code=' + code + '&page=' + str(page_num)\n",
    "        urls_list_kosdaq.append([code,'kosdaq',bind_url])\n",
    "\n",
    "urls_list_kospi = []\n",
    "for kospi_rows in kospi.iterrows():\n",
    "    for page_num in range(1,250):\n",
    "        code = kospi_rows[1]['종목코드']\n",
    "        bind_url = 'https://finance.naver.com/item/sise_day.nhn?code=' + code + '&page=' + str(page_num)\n",
    "        urls_list_kospi.append([code,'kospi',bind_url])\n",
    "\n",
    "urls_list_bind = urls_list_kosdaq + urls_list_kospi"
   ]
  },
  {
   "cell_type": "code",
   "execution_count": null,
   "id": "c6ccb405",
   "metadata": {},
   "outputs": [],
   "source": []
  }
 ],
 "metadata": {
  "kernelspec": {
   "display_name": "simon_env",
   "language": "python",
   "name": "simon_env"
  },
  "language_info": {
   "codemirror_mode": {
    "name": "ipython",
    "version": 3
   },
   "file_extension": ".py",
   "mimetype": "text/x-python",
   "name": "python",
   "nbconvert_exporter": "python",
   "pygments_lexer": "ipython3",
   "version": "3.7.10"
  },
  "varInspector": {
   "cols": {
    "lenName": 16,
    "lenType": 16,
    "lenVar": 40
   },
   "kernels_config": {
    "python": {
     "delete_cmd_postfix": "",
     "delete_cmd_prefix": "del ",
     "library": "var_list.py",
     "varRefreshCmd": "print(var_dic_list())"
    },
    "r": {
     "delete_cmd_postfix": ") ",
     "delete_cmd_prefix": "rm(",
     "library": "var_list.r",
     "varRefreshCmd": "cat(var_dic_list()) "
    }
   },
   "types_to_exclude": [
    "module",
    "function",
    "builtin_function_or_method",
    "instance",
    "_Feature"
   ],
   "window_display": false
  }
 },
 "nbformat": 4,
 "nbformat_minor": 5
}
