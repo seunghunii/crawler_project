{
 "cells": [
  {
   "cell_type": "code",
   "execution_count": 18,
   "id": "cd8ebb37",
   "metadata": {
    "ExecuteTime": {
     "end_time": "2021-07-19T04:47:32.786541Z",
     "start_time": "2021-07-19T04:47:32.768589Z"
    }
   },
   "outputs": [],
   "source": [
    "import pandas as pd\n",
    "import glob\n",
    "import os\n",
    "import re\n",
    "from IPython.core.interactiveshell import InteractiveShell\n",
    "InteractiveShell.ast_node_interactivity = 'all'"
   ]
  },
  {
   "cell_type": "code",
   "execution_count": 19,
   "id": "b8b4db6b",
   "metadata": {
    "ExecuteTime": {
     "end_time": "2021-07-19T04:47:33.019006Z",
     "start_time": "2021-07-19T04:47:33.008006Z"
    }
   },
   "outputs": [],
   "source": [
    "dirr = 'C:/Users/shic/Desktop/crawler_project/data_save/'"
   ]
  },
  {
   "cell_type": "code",
   "execution_count": 78,
   "id": "8f063364",
   "metadata": {
    "ExecuteTime": {
     "end_time": "2021-07-19T05:10:44.950680Z",
     "start_time": "2021-07-19T05:10:44.931731Z"
    }
   },
   "outputs": [
    {
     "data": {
      "text/plain": [
       "['courtauction/df_court.csv',\n",
       " 'estate_trend/estate_trend.csv',\n",
       " 'kb_land/kb_land_df.csv',\n",
       " 'taxx/jaesan_df.csv',\n",
       " 'taxx/jongbu_df.csv']"
      ]
     },
     "execution_count": 78,
     "metadata": {},
     "output_type": "execute_result"
    }
   ],
   "source": [
    "list_files = ['courtauction/df_court.csv',\n",
    "              'estate_trend/estate_trend.csv',\n",
    "              'kb_land/kb_land_df.csv',\n",
    "              'taxx/jaesan_df.csv','taxx/jongbu_df.csv']\n",
    "list_files"
   ]
  },
  {
   "cell_type": "code",
   "execution_count": 79,
   "id": "a5d4a201",
   "metadata": {
    "ExecuteTime": {
     "end_time": "2021-07-19T05:10:45.436336Z",
     "start_time": "2021-07-19T05:10:45.218120Z"
    }
   },
   "outputs": [],
   "source": [
    "df_court     = pd.read_csv(dirr + list_files[0])\n",
    "estate_trend = pd.read_csv(dirr + list_files[1])\n",
    "kb_land      = pd.read_csv(dirr + list_files[2])\n",
    "jaesan_df    = pd.read_csv(dirr + list_files[3])\n",
    "jongbu_df    = pd.read_csv(dirr + list_files[4])"
   ]
  },
  {
   "cell_type": "code",
   "execution_count": 80,
   "id": "a726f136",
   "metadata": {
    "ExecuteTime": {
     "end_time": "2021-07-19T05:10:46.683015Z",
     "start_time": "2021-07-19T05:10:46.660076Z"
    }
   },
   "outputs": [
    {
     "data": {
      "text/plain": [
       "array(['서울특별시', '경기도', '인천광역시'], dtype=object)"
      ]
     },
     "execution_count": 80,
     "metadata": {},
     "output_type": "execute_result"
    },
    {
     "data": {
      "text/plain": [
       "array(['전국', '수도권', '서울특별시', '인천광역시', '경기도', '비수도권', '부산광역시', '대구광역시',\n",
       "       '광주광역시', '대전광역시', '울산광역시', '강원도', '충청북도', '충청남도', '전라북도', '전라남도',\n",
       "       '경상북도', '경상남도', '세종특별자치시', '제주특별자치도'], dtype=object)"
      ]
     },
     "execution_count": 80,
     "metadata": {},
     "output_type": "execute_result"
    }
   ],
   "source": [
    "df_court['sido'].unique()\n",
    "estate_trend['C1_NM'].unique()"
   ]
  },
  {
   "cell_type": "code",
   "execution_count": 81,
   "id": "cdbd8a35",
   "metadata": {
    "ExecuteTime": {
     "end_time": "2021-07-19T05:10:47.180003Z",
     "start_time": "2021-07-19T05:10:47.157067Z"
    }
   },
   "outputs": [
    {
     "name": "stdout",
     "output_type": "stream",
     "text": [
      "['서울특별시' '경기도' '인천광역시']\n",
      "['강남구' '강동구' '강북구' '강서구' '관악구' '광진구' '구로구' '금천구' '노원구' '도봉구' '동대문구' '동작구'\n",
      " '마포구' '서대문구' '서초구' '성동구' '성북구' '송파구' '양천구' '영등포구' '용산구' '은평구' '종로구' '중구'\n",
      " '중랑구' '가평군' '고양시' '고양시 덕양구' '고양시 일산구' '고양시 일산동구' '고양시 일산서구' '과천시' '광명시'\n",
      " '광주시' '구리시' '군포시' '김포시' '남양주시' '동두천시' '부천시' '부천시 남구' '부천시 소사구' '부천시 오정구'\n",
      " '부천시 원미구' '부천시 중구' '성남시' '성남시 분당구' '성남시 수정구' '성남시 중원구' '수원시' '수원시 권선구'\n",
      " '수원시 영통구' '수원시 장안구' '수원시 팔달구' '시흥시' '안산시' '안산시 단원구' '안산시 상록구' '안성군' '안성시'\n",
      " '안양시' '안양시 동안구' '안양시 만안구' '양주시' '양평군' '여주군' '여주시' '연천군' '오산시' '용인시'\n",
      " '용인시 기흥구' '용인시 수지구' '용인시 처인구' '의왕시' '의정부시' '이천시' '파주시' '평택군' '평택시' '포천시'\n",
      " '하남시' '화성시' '강화군' '계양구' '남구' '남동구' '동구' '미추홀구' '부평구' '북구' '서구' '연수구'\n",
      " '옹진군']\n"
     ]
    }
   ],
   "source": [
    "print(df_court['sido'].unique())\n",
    "print(df_court['sigu'].unique())"
   ]
  },
  {
   "cell_type": "code",
   "execution_count": 82,
   "id": "15e148c4",
   "metadata": {
    "ExecuteTime": {
     "end_time": "2021-07-19T05:10:47.741485Z",
     "start_time": "2021-07-19T05:10:47.716552Z"
    }
   },
   "outputs": [
    {
     "name": "stdout",
     "output_type": "stream",
     "text": [
      "['서울' '경기' '인천']\n",
      "['서울강북' '서울강북구' '서울광진구' '서울노원구' '서울도봉구' '서울동대문구' '서울마포구' '서울서대문구' '서울성동구'\n",
      " '서울성북구' '서울용산구' '서울은평구' '서울종로구' '서울중구' '서울중랑구' '서울강남' '서울강남구' '서울강동구'\n",
      " '서울강서구' '서울관악구' '서울구로구' '서울금천구' '서울동작구' '서울서초구' '서울송파구' '서울양천구' '서울영등포구'\n",
      " '수원' '수원장안구' '수원권선구' '수원팔달구' '수원영통구' '성남' '성남수정구' '성남중원구' '성남분당구' '고양'\n",
      " '고양덕양구' '고양일산동구' '고양일산서구' '안양' '안양만안구' '안양동안구' '부천' '의정부' '광명' '평택' '안산'\n",
      " '안산단원구' '안산상록구' '과천' '구리' '남양주' '용인' '용인처인구' '용인기흥구' '용인수지구' '시흥' '군포'\n",
      " '의왕' '하남' '오산' '파주' '이천' '안성' '김포' '양주' '동두천' '광주' '화성' '인천중구' '인천동구'\n",
      " '인천미추홀구' '인천연수구' '인천남동구' '인천부평구' '인천계양구' '인천서구']\n"
     ]
    }
   ],
   "source": [
    "print(kb_land['b_region'].unique())\n",
    "print(kb_land['s_region'].unique())"
   ]
  },
  {
   "cell_type": "code",
   "execution_count": 83,
   "id": "c5eeea35",
   "metadata": {
    "ExecuteTime": {
     "end_time": "2021-07-19T05:10:48.503238Z",
     "start_time": "2021-07-19T05:10:48.414317Z"
    }
   },
   "outputs": [],
   "source": [
    "kb_land['b_region'] = kb_land['b_region'].replace({'서울':'서울특별시',\n",
    "                                                   '경기':'경기도',\n",
    "                                                   '인천':'인천광역시'})\n",
    "kb_land['s_region'] = [re.sub('서울|인천','',region) for region in kb_land['s_region']]"
   ]
  },
  {
   "cell_type": "code",
   "execution_count": 89,
   "id": "18b27b4b",
   "metadata": {
    "ExecuteTime": {
     "end_time": "2021-07-19T05:19:43.425213Z",
     "start_time": "2021-07-19T05:19:43.409255Z"
    }
   },
   "outputs": [
    {
     "data": {
      "text/plain": [
       "'수원시 |안양시 장안구'"
      ]
     },
     "execution_count": 89,
     "metadata": {},
     "output_type": "execute_result"
    }
   ],
   "source": [
    "re.sub('수원|안양','수원시 |안양시 ',kb_land['s_region'][2530])"
   ]
  },
  {
   "cell_type": "code",
   "execution_count": 86,
   "id": "8dedc8a2",
   "metadata": {
    "ExecuteTime": {
     "end_time": "2021-07-19T05:12:50.498766Z",
     "start_time": "2021-07-19T05:12:50.474831Z"
    }
   },
   "outputs": [
    {
     "data": {
      "text/html": [
       "<div>\n",
       "<style scoped>\n",
       "    .dataframe tbody tr th:only-of-type {\n",
       "        vertical-align: middle;\n",
       "    }\n",
       "\n",
       "    .dataframe tbody tr th {\n",
       "        vertical-align: top;\n",
       "    }\n",
       "\n",
       "    .dataframe thead th {\n",
       "        text-align: right;\n",
       "    }\n",
       "</style>\n",
       "<table border=\"1\" class=\"dataframe\">\n",
       "  <thead>\n",
       "    <tr style=\"text-align: right;\">\n",
       "      <th></th>\n",
       "      <th>b_region</th>\n",
       "      <th>s_region</th>\n",
       "      <th>date_a</th>\n",
       "      <th>value1</th>\n",
       "      <th>date_b</th>\n",
       "      <th>value2</th>\n",
       "    </tr>\n",
       "  </thead>\n",
       "  <tbody>\n",
       "    <tr>\n",
       "      <th>2530</th>\n",
       "      <td>경기도</td>\n",
       "      <td>수원장안구</td>\n",
       "      <td>2014-03-03</td>\n",
       "      <td>88.6</td>\n",
       "      <td>2014-03-03</td>\n",
       "      <td>0.18</td>\n",
       "    </tr>\n",
       "    <tr>\n",
       "      <th>2531</th>\n",
       "      <td>경기도</td>\n",
       "      <td>수원장안구</td>\n",
       "      <td>2014-03-10</td>\n",
       "      <td>88.7</td>\n",
       "      <td>2014-03-10</td>\n",
       "      <td>0.20</td>\n",
       "    </tr>\n",
       "    <tr>\n",
       "      <th>2532</th>\n",
       "      <td>경기도</td>\n",
       "      <td>수원장안구</td>\n",
       "      <td>2014-03-17</td>\n",
       "      <td>88.7</td>\n",
       "      <td>2014-03-17</td>\n",
       "      <td>0.11</td>\n",
       "    </tr>\n",
       "    <tr>\n",
       "      <th>2533</th>\n",
       "      <td>경기도</td>\n",
       "      <td>수원장안구</td>\n",
       "      <td>2014-03-24</td>\n",
       "      <td>88.7</td>\n",
       "      <td>2014-03-24</td>\n",
       "      <td>0.01</td>\n",
       "    </tr>\n",
       "    <tr>\n",
       "      <th>2534</th>\n",
       "      <td>경기도</td>\n",
       "      <td>수원장안구</td>\n",
       "      <td>2014-03-31</td>\n",
       "      <td>88.8</td>\n",
       "      <td>2014-03-31</td>\n",
       "      <td>0.01</td>\n",
       "    </tr>\n",
       "    <tr>\n",
       "      <th>...</th>\n",
       "      <td>...</td>\n",
       "      <td>...</td>\n",
       "      <td>...</td>\n",
       "      <td>...</td>\n",
       "      <td>...</td>\n",
       "      <td>...</td>\n",
       "    </tr>\n",
       "    <tr>\n",
       "      <th>63748</th>\n",
       "      <td>경기도</td>\n",
       "      <td>수원장안구</td>\n",
       "      <td>2021-06-28</td>\n",
       "      <td>135.6</td>\n",
       "      <td>2021-06-28</td>\n",
       "      <td>0.40</td>\n",
       "    </tr>\n",
       "    <tr>\n",
       "      <th>64025</th>\n",
       "      <td>인천광역시</td>\n",
       "      <td>수원장안구</td>\n",
       "      <td>2021-06-07</td>\n",
       "      <td>133.2</td>\n",
       "      <td>2021-06-07</td>\n",
       "      <td>0.89</td>\n",
       "    </tr>\n",
       "    <tr>\n",
       "      <th>64026</th>\n",
       "      <td>인천광역시</td>\n",
       "      <td>수원장안구</td>\n",
       "      <td>2021-06-14</td>\n",
       "      <td>134.2</td>\n",
       "      <td>2021-06-14</td>\n",
       "      <td>0.72</td>\n",
       "    </tr>\n",
       "    <tr>\n",
       "      <th>64027</th>\n",
       "      <td>인천광역시</td>\n",
       "      <td>수원장안구</td>\n",
       "      <td>2021-06-21</td>\n",
       "      <td>135.1</td>\n",
       "      <td>2021-06-21</td>\n",
       "      <td>0.69</td>\n",
       "    </tr>\n",
       "    <tr>\n",
       "      <th>64028</th>\n",
       "      <td>인천광역시</td>\n",
       "      <td>수원장안구</td>\n",
       "      <td>2021-06-28</td>\n",
       "      <td>135.6</td>\n",
       "      <td>2021-06-28</td>\n",
       "      <td>0.40</td>\n",
       "    </tr>\n",
       "  </tbody>\n",
       "</table>\n",
       "<p>734 rows × 6 columns</p>\n",
       "</div>"
      ],
      "text/plain": [
       "      b_region s_region      date_a  value1      date_b  value2\n",
       "2530       경기도    수원장안구  2014-03-03    88.6  2014-03-03    0.18\n",
       "2531       경기도    수원장안구  2014-03-10    88.7  2014-03-10    0.20\n",
       "2532       경기도    수원장안구  2014-03-17    88.7  2014-03-17    0.11\n",
       "2533       경기도    수원장안구  2014-03-24    88.7  2014-03-24    0.01\n",
       "2534       경기도    수원장안구  2014-03-31    88.8  2014-03-31    0.01\n",
       "...        ...      ...         ...     ...         ...     ...\n",
       "63748      경기도    수원장안구  2021-06-28   135.6  2021-06-28    0.40\n",
       "64025    인천광역시    수원장안구  2021-06-07   133.2  2021-06-07    0.89\n",
       "64026    인천광역시    수원장안구  2021-06-14   134.2  2021-06-14    0.72\n",
       "64027    인천광역시    수원장안구  2021-06-21   135.1  2021-06-21    0.69\n",
       "64028    인천광역시    수원장안구  2021-06-28   135.6  2021-06-28    0.40\n",
       "\n",
       "[734 rows x 6 columns]"
      ]
     },
     "execution_count": 86,
     "metadata": {},
     "output_type": "execute_result"
    }
   ],
   "source": [
    "kb_land[kb_land['s_region']=='수원장안구']"
   ]
  },
  {
   "cell_type": "code",
   "execution_count": 88,
   "id": "82808c20",
   "metadata": {
    "ExecuteTime": {
     "end_time": "2021-07-19T05:13:41.095394Z",
     "start_time": "2021-07-19T05:13:41.077442Z"
    }
   },
   "outputs": [
    {
     "data": {
      "text/plain": [
       "array(['강북', '강북구', '광진구', '노원구', '도봉구', '동대문구', '마포구', '서대문구', '성동구',\n",
       "       '성북구', '용산구', '은평구', '종로구', '중구', '중랑구', '강남', '강남구', '강동구', '강서구',\n",
       "       '관악구', '구로구', '금천구', '동작구', '서초구', '송파구', '양천구', '영등포구', '수원',\n",
       "       '수원장안구', '수원권선구', '수원팔달구', '수원영통구', '성남', '성남수정구', '성남중원구',\n",
       "       '성남분당구', '고양', '고양덕양구', '고양일산동구', '고양일산서구', '안양', '안양만안구', '안양동안구',\n",
       "       '부천', '의정부', '광명', '평택', '안산', '안산단원구', '안산상록구', '과천', '구리', '남양주',\n",
       "       '용인', '용인처인구', '용인기흥구', '용인수지구', '시흥', '군포', '의왕', '하남', '오산',\n",
       "       '파주', '이천', '안성', '김포', '양주', '동두천', '광주', '화성', '동구', '미추홀구',\n",
       "       '연수구', '남동구', '부평구', '계양구', '서구'], dtype=object)"
      ]
     },
     "execution_count": 88,
     "metadata": {},
     "output_type": "execute_result"
    }
   ],
   "source": [
    "kb_land[kb_land['b_region']=='인천광역시']['s_region'].unique()"
   ]
  },
  {
   "cell_type": "code",
   "execution_count": 69,
   "id": "52117996",
   "metadata": {
    "ExecuteTime": {
     "end_time": "2021-07-19T05:06:59.337815Z",
     "start_time": "2021-07-19T05:06:59.278947Z"
    }
   },
   "outputs": [
    {
     "data": {
      "text/plain": [
       "array(['강북', '강북구', '광진구', '노원구', '도봉구', '동대문구', '마포구', '서대문구', '성동구',\n",
       "       '성북구', '용산구', '은평구', '종로구', '중구', '중랑구', '강남', '강남구', '강동구', '강서구',\n",
       "       '관악구', '구로구', '금천구', '동작구', '서초구', '송파구', '양천구', '영등포구', '수원시 ',\n",
       "       '수원장안구', '수원권선구', '수원팔달구', '수원영통구', '성남시 ', '성남수정구', '성남중원구',\n",
       "       '성남분당구', '고양시 ', '고양덕양구', '고양일산동구', '고양일산서구', '안양시 ', '안양만안구',\n",
       "       '안양동안구', '부천', '의정부', '광명', '평택', '안산시 ', '안산단원구', '안산상록구', '과천',\n",
       "       '구리', '남양주', '용인시 ', '용인처인구', '용인기흥구', '용인수지구', '시흥', '군포', '의왕',\n",
       "       '하남', '오산', '파주', '이천', '안성', '김포', '양주', '동두천', '광주', '화성', '동구',\n",
       "       '미추홀구', '연수구', '남동구', '부평구', '계양구', '서구'], dtype=object)"
      ]
     },
     "execution_count": 69,
     "metadata": {},
     "output_type": "execute_result"
    }
   ],
   "source": [
    "kb_land.replace(ab_sigu)['s_region'].unique()"
   ]
  },
  {
   "cell_type": "code",
   "execution_count": 37,
   "id": "3fb9fd6b",
   "metadata": {
    "ExecuteTime": {
     "end_time": "2021-07-19T04:52:47.744681Z",
     "start_time": "2021-07-19T04:52:47.730721Z"
    }
   },
   "outputs": [
    {
     "data": {
      "text/plain": [
       "array(['가평군', '고양시', '고양시 덕양구', '고양시 일산구', '고양시 일산동구', '고양시 일산서구', '과천시',\n",
       "       '광명시', '광주시', '구리시', '군포시', '김포시', '남양주시', '동두천시', '부천시', '부천시 남구',\n",
       "       '부천시 소사구', '부천시 오정구', '부천시 원미구', '부천시 중구', '성남시', '성남시 분당구',\n",
       "       '성남시 수정구', '성남시 중원구', '수원시', '수원시 권선구', '수원시 영통구', '수원시 장안구',\n",
       "       '수원시 팔달구', '시흥시', '안산시', '안산시 단원구', '안산시 상록구', '안성군', '안성시', '안양시',\n",
       "       '안양시 동안구', '안양시 만안구', '양주시', '양평군', '여주군', '여주시', '연천군', '오산시',\n",
       "       '용인시', '용인시 기흥구', '용인시 수지구', '용인시 처인구', '의왕시', '의정부시', '이천시',\n",
       "       '파주시', '평택군', '평택시', '포천시', '하남시', '화성시', '강화군', '남구', '북구', '옹진군'],\n",
       "      dtype=object)"
      ]
     },
     "execution_count": 37,
     "metadata": {},
     "output_type": "execute_result"
    }
   ],
   "source": [
    "df_court['sigu'][-df_court['sigu'].isin(kb_land['s_region'])].unique()"
   ]
  },
  {
   "cell_type": "code",
   "execution_count": 38,
   "id": "27d4caa8",
   "metadata": {
    "ExecuteTime": {
     "end_time": "2021-07-19T04:52:48.181878Z",
     "start_time": "2021-07-19T04:52:48.157943Z"
    }
   },
   "outputs": [
    {
     "data": {
      "text/plain": [
       "array(['강북', '강남', '수원', '수원장안구', '수원권선구', '수원팔달구', '수원영통구', '성남',\n",
       "       '성남수정구', '성남중원구', '성남분당구', '고양', '고양덕양구', '고양일산동구', '고양일산서구', '안양',\n",
       "       '안양만안구', '안양동안구', '부천', '의정부', '광명', '평택', '안산', '안산단원구', '안산상록구',\n",
       "       '과천', '구리', '남양주', '용인', '용인처인구', '용인기흥구', '용인수지구', '시흥', '군포',\n",
       "       '의왕', '하남', '오산', '파주', '이천', '안성', '김포', '양주', '동두천', '광주', '화성'],\n",
       "      dtype=object)"
      ]
     },
     "execution_count": 38,
     "metadata": {},
     "output_type": "execute_result"
    }
   ],
   "source": [
    "kb_land['s_region'][-kb_land['s_region'].isin(df_court['sigu'])].unique()"
   ]
  }
 ],
 "metadata": {
  "kernelspec": {
   "display_name": "simon_env",
   "language": "python",
   "name": "simon_env"
  },
  "language_info": {
   "codemirror_mode": {
    "name": "ipython",
    "version": 3
   },
   "file_extension": ".py",
   "mimetype": "text/x-python",
   "name": "python",
   "nbconvert_exporter": "python",
   "pygments_lexer": "ipython3",
   "version": "3.7.10"
  },
  "varInspector": {
   "cols": {
    "lenName": 16,
    "lenType": 16,
    "lenVar": 40
   },
   "kernels_config": {
    "python": {
     "delete_cmd_postfix": "",
     "delete_cmd_prefix": "del ",
     "library": "var_list.py",
     "varRefreshCmd": "print(var_dic_list())"
    },
    "r": {
     "delete_cmd_postfix": ") ",
     "delete_cmd_prefix": "rm(",
     "library": "var_list.r",
     "varRefreshCmd": "cat(var_dic_list()) "
    }
   },
   "types_to_exclude": [
    "module",
    "function",
    "builtin_function_or_method",
    "instance",
    "_Feature"
   ],
   "window_display": false
  }
 },
 "nbformat": 4,
 "nbformat_minor": 5
}
