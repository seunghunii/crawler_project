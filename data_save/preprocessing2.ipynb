{
 "cells": [
  {
   "cell_type": "code",
   "execution_count": 13,
   "id": "cd8ebb37",
   "metadata": {
    "ExecuteTime": {
     "end_time": "2021-07-21T06:54:39.896679Z",
     "start_time": "2021-07-21T06:54:39.891693Z"
    }
   },
   "outputs": [],
   "source": [
    "import pandas as pd\n",
    "import glob\n",
    "import os\n",
    "import re\n",
    "from IPython.core.interactiveshell import InteractiveShell\n",
    "InteractiveShell.ast_node_interactivity = 'all'"
   ]
  },
  {
   "cell_type": "code",
   "execution_count": 14,
   "id": "b8b4db6b",
   "metadata": {
    "ExecuteTime": {
     "end_time": "2021-07-21T06:54:39.912638Z",
     "start_time": "2021-07-21T06:54:39.897677Z"
    }
   },
   "outputs": [],
   "source": [
    "dirr = 'C:/Users/shic/Desktop/crawler_project/data_save/'"
   ]
  },
  {
   "cell_type": "code",
   "execution_count": 15,
   "id": "8f063364",
   "metadata": {
    "ExecuteTime": {
     "end_time": "2021-07-21T06:54:39.928595Z",
     "start_time": "2021-07-21T06:54:39.914634Z"
    }
   },
   "outputs": [
    {
     "data": {
      "text/plain": [
       "['courtauction/df_court.csv',\n",
       " 'estate_trend/estate_trend.csv',\n",
       " 'kb_land/kb_land_df.csv',\n",
       " 'taxx/jaesan_df.csv',\n",
       " 'taxx/jongbu_df.csv']"
      ]
     },
     "execution_count": 15,
     "metadata": {},
     "output_type": "execute_result"
    }
   ],
   "source": [
    "list_files = ['courtauction/df_court.csv',\n",
    "              'estate_trend/estate_trend.csv',\n",
    "              'kb_land/kb_land_df.csv',\n",
    "              'taxx/jaesan_df.csv','taxx/jongbu_df.csv']\n",
    "list_files"
   ]
  },
  {
   "cell_type": "code",
   "execution_count": 16,
   "id": "a5d4a201",
   "metadata": {
    "ExecuteTime": {
     "end_time": "2021-07-21T06:54:40.160973Z",
     "start_time": "2021-07-21T06:54:39.930590Z"
    }
   },
   "outputs": [],
   "source": [
    "df_court     = pd.read_csv(dirr + list_files[0])\n",
    "estate_trend = pd.read_csv(dirr + list_files[1])\n",
    "kb_land      = pd.read_csv(dirr + list_files[2])\n",
    "jaesan_df    = pd.read_csv(dirr + list_files[3])\n",
    "jongbu_df    = pd.read_csv(dirr + list_files[4])"
   ]
  },
  {
   "cell_type": "code",
   "execution_count": 17,
   "id": "a726f136",
   "metadata": {
    "ExecuteTime": {
     "end_time": "2021-07-21T06:54:40.175962Z",
     "start_time": "2021-07-21T06:54:40.161971Z"
    }
   },
   "outputs": [
    {
     "data": {
      "text/plain": [
       "array(['서울특별시', '경기도', '인천광역시'], dtype=object)"
      ]
     },
     "execution_count": 17,
     "metadata": {},
     "output_type": "execute_result"
    },
    {
     "data": {
      "text/plain": [
       "array(['전국', '수도권', '서울특별시', '인천광역시', '경기도', '비수도권', '부산광역시', '대구광역시',\n",
       "       '광주광역시', '대전광역시', '울산광역시', '강원도', '충청북도', '충청남도', '전라북도', '전라남도',\n",
       "       '경상북도', '경상남도', '세종특별자치시', '제주특별자치도'], dtype=object)"
      ]
     },
     "execution_count": 17,
     "metadata": {},
     "output_type": "execute_result"
    }
   ],
   "source": [
    "df_court['sido'].unique()\n",
    "estate_trend['C1_NM'].unique()"
   ]
  },
  {
   "cell_type": "code",
   "execution_count": 18,
   "id": "cdbd8a35",
   "metadata": {
    "ExecuteTime": {
     "end_time": "2021-07-21T06:54:40.190896Z",
     "start_time": "2021-07-21T06:54:40.176931Z"
    }
   },
   "outputs": [
    {
     "name": "stdout",
     "output_type": "stream",
     "text": [
      "['서울특별시' '경기도' '인천광역시']\n",
      "['강남구' '강동구' '강북구' '강서구' '관악구' '광진구' '구로구' '금천구' '노원구' '도봉구' '동대문구' '동작구'\n",
      " '마포구' '서대문구' '서초구' '성동구' '성북구' '송파구' '양천구' '영등포구' '용산구' '은평구' '종로구' '중구'\n",
      " '중랑구' '가평군' '고양시' '고양시 덕양구' '고양시 일산구' '고양시 일산동구' '고양시 일산서구' '과천시' '광명시'\n",
      " '광주시' '구리시' '군포시' '김포시' '남양주시' '동두천시' '부천시' '부천시 남구' '부천시 소사구' '부천시 오정구'\n",
      " '부천시 원미구' '부천시 중구' '성남시' '성남시 분당구' '성남시 수정구' '성남시 중원구' '수원시' '수원시 권선구'\n",
      " '수원시 영통구' '수원시 장안구' '수원시 팔달구' '시흥시' '안산시' '안산시 단원구' '안산시 상록구' '안성군' '안성시'\n",
      " '안양시' '안양시 동안구' '안양시 만안구' '양주시' '양평군' '여주군' '여주시' '연천군' '오산시' '용인시'\n",
      " '용인시 기흥구' '용인시 수지구' '용인시 처인구' '의왕시' '의정부시' '이천시' '파주시' '평택군' '평택시' '포천시'\n",
      " '하남시' '화성시' '강화군' '계양구' '남구' '남동구' '동구' '미추홀구' '부평구' '북구' '서구' '연수구'\n",
      " '옹진군']\n"
     ]
    }
   ],
   "source": [
    "print(df_court['sido'].unique())\n",
    "print(df_court['sigu'].unique())"
   ]
  },
  {
   "cell_type": "code",
   "execution_count": 19,
   "id": "15e148c4",
   "metadata": {
    "ExecuteTime": {
     "end_time": "2021-07-21T06:54:40.206851Z",
     "start_time": "2021-07-21T06:54:40.192890Z"
    }
   },
   "outputs": [
    {
     "name": "stdout",
     "output_type": "stream",
     "text": [
      "['서울' '경기' '인천']\n",
      "['서울강북' '서울강북구' '서울광진구' '서울노원구' '서울도봉구' '서울동대문구' '서울마포구' '서울서대문구' '서울성동구'\n",
      " '서울성북구' '서울용산구' '서울은평구' '서울종로구' '서울중구' '서울중랑구' '서울강남' '서울강남구' '서울강동구'\n",
      " '서울강서구' '서울관악구' '서울구로구' '서울금천구' '서울동작구' '서울서초구' '서울송파구' '서울양천구' '서울영등포구'\n",
      " '수원' '수원장안구' '수원권선구' '수원팔달구' '수원영통구' '성남' '성남수정구' '성남중원구' '성남분당구' '고양'\n",
      " '고양덕양구' '고양일산동구' '고양일산서구' '안양' '안양만안구' '안양동안구' '부천' '의정부' '광명' '평택' '안산'\n",
      " '안산단원구' '안산상록구' '과천' '구리' '남양주' '용인' '용인처인구' '용인기흥구' '용인수지구' '시흥' '군포'\n",
      " '의왕' '하남' '오산' '파주' '이천' '안성' '김포' '양주' '동두천' '광주' '화성' '인천중구' '인천동구'\n",
      " '인천미추홀구' '인천연수구' '인천남동구' '인천부평구' '인천계양구' '인천서구']\n"
     ]
    }
   ],
   "source": [
    "print(kb_land['b_region'].unique())\n",
    "print(kb_land['s_region'].unique())"
   ]
  },
  {
   "cell_type": "code",
   "execution_count": 20,
   "id": "c5eeea35",
   "metadata": {
    "ExecuteTime": {
     "end_time": "2021-07-21T06:54:40.298606Z",
     "start_time": "2021-07-21T06:54:40.208846Z"
    }
   },
   "outputs": [],
   "source": [
    "kb_land['b_region'] = kb_land['b_region'].replace({'서울':'서울특별시',\n",
    "                                                   '경기':'경기도',\n",
    "                                                   '인천':'인천광역시'})\n",
    "kb_land['s_region'] = [re.sub('서울|인천','',region) for region in kb_land['s_region']]"
   ]
  },
  {
   "cell_type": "code",
   "execution_count": 21,
   "id": "102c74c3",
   "metadata": {
    "ExecuteTime": {
     "end_time": "2021-07-21T06:54:57.778327Z",
     "start_time": "2021-07-21T06:54:57.763368Z"
    }
   },
   "outputs": [
    {
     "data": {
      "text/plain": [
       "array(['강북', '강북구', '광진구', '노원구', '도봉구', '동대문구', '마포구', '서대문구', '성동구',\n",
       "       '성북구', '용산구', '은평구', '종로구', '중구', '중랑구', '강남', '강남구', '강동구', '강서구',\n",
       "       '관악구', '구로구', '금천구', '동작구', '서초구', '송파구', '양천구', '영등포구', '수원',\n",
       "       '수원장안구', '수원권선구', '수원팔달구', '수원영통구', '성남', '성남수정구', '성남중원구',\n",
       "       '성남분당구', '고양', '고양덕양구', '고양일산동구', '고양일산서구', '안양', '안양만안구', '안양동안구',\n",
       "       '부천', '의정부', '광명', '평택', '안산', '안산단원구', '안산상록구', '과천', '구리', '남양주',\n",
       "       '용인', '용인처인구', '용인기흥구', '용인수지구', '시흥', '군포', '의왕', '하남', '오산',\n",
       "       '파주', '이천', '안성', '김포', '양주', '동두천', '광주', '화성', '동구', '미추홀구',\n",
       "       '연수구', '남동구', '부평구', '계양구', '서구'], dtype=object)"
      ]
     },
     "execution_count": 21,
     "metadata": {},
     "output_type": "execute_result"
    }
   ],
   "source": [
    "kb_land['s_region'].unique()"
   ]
  },
  {
   "cell_type": "code",
   "execution_count": 22,
   "id": "57e7bc6c",
   "metadata": {
    "ExecuteTime": {
     "end_time": "2021-07-21T06:55:22.946304Z",
     "start_time": "2021-07-21T06:55:22.934336Z"
    }
   },
   "outputs": [
    {
     "data": {
      "text/plain": [
       "array(['강남구', '강동구', '강북구', '강서구', '관악구', '광진구', '구로구', '금천구', '노원구',\n",
       "       '도봉구', '동대문구', '동작구', '마포구', '서대문구', '서초구', '성동구', '성북구', '송파구',\n",
       "       '양천구', '영등포구', '용산구', '은평구', '종로구', '중구', '중랑구', '가평군', '고양시',\n",
       "       '고양시 덕양구', '고양시 일산구', '고양시 일산동구', '고양시 일산서구', '과천시', '광명시', '광주시',\n",
       "       '구리시', '군포시', '김포시', '남양주시', '동두천시', '부천시', '부천시 남구', '부천시 소사구',\n",
       "       '부천시 오정구', '부천시 원미구', '부천시 중구', '성남시', '성남시 분당구', '성남시 수정구',\n",
       "       '성남시 중원구', '수원시', '수원시 권선구', '수원시 영통구', '수원시 장안구', '수원시 팔달구',\n",
       "       '시흥시', '안산시', '안산시 단원구', '안산시 상록구', '안성군', '안성시', '안양시', '안양시 동안구',\n",
       "       '안양시 만안구', '양주시', '양평군', '여주군', '여주시', '연천군', '오산시', '용인시',\n",
       "       '용인시 기흥구', '용인시 수지구', '용인시 처인구', '의왕시', '의정부시', '이천시', '파주시',\n",
       "       '평택군', '평택시', '포천시', '하남시', '화성시', '강화군', '계양구', '남구', '남동구', '동구',\n",
       "       '미추홀구', '부평구', '북구', '서구', '연수구', '옹진군'], dtype=object)"
      ]
     },
     "execution_count": 22,
     "metadata": {},
     "output_type": "execute_result"
    }
   ],
   "source": [
    "df_court['sigu'].unique()"
   ]
  },
  {
   "cell_type": "code",
   "execution_count": 23,
   "id": "7cc0a861",
   "metadata": {
    "ExecuteTime": {
     "end_time": "2021-07-21T07:04:05.506320Z",
     "start_time": "2021-07-21T07:04:05.153311Z"
    }
   },
   "outputs": [
    {
     "data": {
      "text/plain": [
       "array(['강북', '강북구', '광진구', '노원구', '도봉구', '동대문구', '마포구', '서대문구', '성동구',\n",
       "       '성북구', '용산구', '은평구', '종로구', '중구', '중랑구', '강남', '강남구', '강동구', '강서구',\n",
       "       '관악구', '구로구', '금천구', '동작구', '서초구', '송파구', '양천구', '영등포구', '수원시 ',\n",
       "       '수원시 장안구', '수원시 권선구', '수원시 팔달구', '수원시 영통구', '성남시 ', '성남시 수정구',\n",
       "       '성남시 중원구', '성남시 분당구', '고양시 ', '고양시 덕양구', '고양시 일산동구', '고양시 일산서구',\n",
       "       '안양시 ', '안양시 만안구', '안양시 동안구', '부천', '의정부', '광명', '평택', '안산',\n",
       "       '안산단원구', '안산상록구', '과천', '구리', '남양주', '용인시 ', '용인시 처인구', '용인시 기흥구',\n",
       "       '용인시 수지구', '시흥', '군포', '의왕', '하남', '오산', '파주', '이천', '안성', '김포',\n",
       "       '양주', '동두천', '광주', '화성', '동구', '미추홀구', '연수구', '남동구', '부평구', '계양구',\n",
       "       '서구'], dtype=object)"
      ]
     },
     "execution_count": 23,
     "metadata": {},
     "output_type": "execute_result"
    }
   ],
   "source": [
    "kb_land.replace({'s_region':{\n",
    "    '고양':'고양시 ',\n",
    "    '수원':'수원시 ',\n",
    "    '성남':'성남시 ',\n",
    "    '용인':'용인시 ',\n",
    "    '안양':'안양시 '\n",
    "}},regex=True)['s_region'].unique()"
   ]
  },
  {
   "cell_type": "code",
   "execution_count": 24,
   "id": "ce12bf89",
   "metadata": {
    "ExecuteTime": {
     "end_time": "2021-07-21T07:05:19.532923Z",
     "start_time": "2021-07-21T07:05:19.127008Z"
    }
   },
   "outputs": [
    {
     "data": {
      "text/html": [
       "<div>\n",
       "<style scoped>\n",
       "    .dataframe tbody tr th:only-of-type {\n",
       "        vertical-align: middle;\n",
       "    }\n",
       "\n",
       "    .dataframe tbody tr th {\n",
       "        vertical-align: top;\n",
       "    }\n",
       "\n",
       "    .dataframe thead th {\n",
       "        text-align: right;\n",
       "    }\n",
       "</style>\n",
       "<table border=\"1\" class=\"dataframe\">\n",
       "  <thead>\n",
       "    <tr style=\"text-align: right;\">\n",
       "      <th></th>\n",
       "      <th>entered_year</th>\n",
       "      <th>entered_month</th>\n",
       "      <th>big_region_name</th>\n",
       "      <th>small_region_name</th>\n",
       "      <th>date_list_jisu</th>\n",
       "      <th>data_list_jisu</th>\n",
       "      <th>date_list_rate</th>\n",
       "      <th>data_list_rate</th>\n",
       "    </tr>\n",
       "  </thead>\n",
       "  <tbody>\n",
       "    <tr>\n",
       "      <th>0</th>\n",
       "      <td>2010</td>\n",
       "      <td>1</td>\n",
       "      <td>서울</td>\n",
       "      <td>서울강북</td>\n",
       "      <td>2009,3,2</td>\n",
       "      <td>82.2</td>\n",
       "      <td>2009,3,2</td>\n",
       "      <td>-0.11</td>\n",
       "    </tr>\n",
       "    <tr>\n",
       "      <th>1</th>\n",
       "      <td>2010</td>\n",
       "      <td>1</td>\n",
       "      <td>서울</td>\n",
       "      <td>서울강북</td>\n",
       "      <td>2009,3,9</td>\n",
       "      <td>82.0</td>\n",
       "      <td>2009,3,9</td>\n",
       "      <td>-0.09</td>\n",
       "    </tr>\n",
       "    <tr>\n",
       "      <th>2</th>\n",
       "      <td>2010</td>\n",
       "      <td>1</td>\n",
       "      <td>서울</td>\n",
       "      <td>서울강북</td>\n",
       "      <td>2009,3,16</td>\n",
       "      <td>82.0</td>\n",
       "      <td>2009,3,16</td>\n",
       "      <td>-0.15</td>\n",
       "    </tr>\n",
       "    <tr>\n",
       "      <th>3</th>\n",
       "      <td>2010</td>\n",
       "      <td>1</td>\n",
       "      <td>서울</td>\n",
       "      <td>서울강북</td>\n",
       "      <td>2009,3,23</td>\n",
       "      <td>82.0</td>\n",
       "      <td>2009,3,23</td>\n",
       "      <td>-0.06</td>\n",
       "    </tr>\n",
       "    <tr>\n",
       "      <th>4</th>\n",
       "      <td>2010</td>\n",
       "      <td>1</td>\n",
       "      <td>서울</td>\n",
       "      <td>서울강북</td>\n",
       "      <td>2009,3,30</td>\n",
       "      <td>82.0</td>\n",
       "      <td>2009,3,30</td>\n",
       "      <td>-0.04</td>\n",
       "    </tr>\n",
       "    <tr>\n",
       "      <th>...</th>\n",
       "      <td>...</td>\n",
       "      <td>...</td>\n",
       "      <td>...</td>\n",
       "      <td>...</td>\n",
       "      <td>...</td>\n",
       "      <td>...</td>\n",
       "      <td>...</td>\n",
       "      <td>...</td>\n",
       "    </tr>\n",
       "    <tr>\n",
       "      <th>499819</th>\n",
       "      <td>2021</td>\n",
       "      <td>6</td>\n",
       "      <td>인천</td>\n",
       "      <td>인천서구</td>\n",
       "      <td>2021,5,31</td>\n",
       "      <td>123.9</td>\n",
       "      <td>2021,5,31</td>\n",
       "      <td>0.37</td>\n",
       "    </tr>\n",
       "    <tr>\n",
       "      <th>499820</th>\n",
       "      <td>2021</td>\n",
       "      <td>6</td>\n",
       "      <td>인천</td>\n",
       "      <td>인천서구</td>\n",
       "      <td>2021,6,7</td>\n",
       "      <td>124.7</td>\n",
       "      <td>2021,6,7</td>\n",
       "      <td>0.69</td>\n",
       "    </tr>\n",
       "    <tr>\n",
       "      <th>499821</th>\n",
       "      <td>2021</td>\n",
       "      <td>6</td>\n",
       "      <td>인천</td>\n",
       "      <td>인천서구</td>\n",
       "      <td>2021,6,14</td>\n",
       "      <td>125.4</td>\n",
       "      <td>2021,6,14</td>\n",
       "      <td>0.58</td>\n",
       "    </tr>\n",
       "    <tr>\n",
       "      <th>499822</th>\n",
       "      <td>2021</td>\n",
       "      <td>6</td>\n",
       "      <td>인천</td>\n",
       "      <td>인천서구</td>\n",
       "      <td>2021,6,21</td>\n",
       "      <td>125.9</td>\n",
       "      <td>2021,6,21</td>\n",
       "      <td>0.37</td>\n",
       "    </tr>\n",
       "    <tr>\n",
       "      <th>499823</th>\n",
       "      <td>2021</td>\n",
       "      <td>6</td>\n",
       "      <td>인천</td>\n",
       "      <td>인천서구</td>\n",
       "      <td>2021,6,28</td>\n",
       "      <td>127.0</td>\n",
       "      <td>2021,6,28</td>\n",
       "      <td>0.90</td>\n",
       "    </tr>\n",
       "  </tbody>\n",
       "</table>\n",
       "<p>499824 rows × 8 columns</p>\n",
       "</div>"
      ],
      "text/plain": [
       "        entered_year  entered_month big_region_name small_region_name  \\\n",
       "0               2010              1              서울              서울강북   \n",
       "1               2010              1              서울              서울강북   \n",
       "2               2010              1              서울              서울강북   \n",
       "3               2010              1              서울              서울강북   \n",
       "4               2010              1              서울              서울강북   \n",
       "...              ...            ...             ...               ...   \n",
       "499819          2021              6              인천              인천서구   \n",
       "499820          2021              6              인천              인천서구   \n",
       "499821          2021              6              인천              인천서구   \n",
       "499822          2021              6              인천              인천서구   \n",
       "499823          2021              6              인천              인천서구   \n",
       "\n",
       "       date_list_jisu  data_list_jisu date_list_rate  data_list_rate  \n",
       "0            2009,3,2            82.2       2009,3,2           -0.11  \n",
       "1            2009,3,9            82.0       2009,3,9           -0.09  \n",
       "2           2009,3,16            82.0      2009,3,16           -0.15  \n",
       "3           2009,3,23            82.0      2009,3,23           -0.06  \n",
       "4           2009,3,30            82.0      2009,3,30           -0.04  \n",
       "...               ...             ...            ...             ...  \n",
       "499819      2021,5,31           123.9      2021,5,31            0.37  \n",
       "499820       2021,6,7           124.7       2021,6,7            0.69  \n",
       "499821      2021,6,14           125.4      2021,6,14            0.58  \n",
       "499822      2021,6,21           125.9      2021,6,21            0.37  \n",
       "499823      2021,6,28           127.0      2021,6,28            0.90  \n",
       "\n",
       "[499824 rows x 8 columns]"
      ]
     },
     "execution_count": 24,
     "metadata": {},
     "output_type": "execute_result"
    }
   ],
   "source": [
    "kk = pd.read_csv('C:/Users/shic/Desktop/crawler_project/data_save/kb_land/kb_land_mp.csv')\n",
    "kk"
   ]
  },
  {
   "cell_type": "code",
   "execution_count": 25,
   "id": "2093d27a",
   "metadata": {
    "ExecuteTime": {
     "end_time": "2021-07-21T07:10:26.465250Z",
     "start_time": "2021-07-21T07:10:26.435331Z"
    }
   },
   "outputs": [
    {
     "name": "stdout",
     "output_type": "stream",
     "text": [
      "error with date 2011,9,31\n",
      "error with date 2012,11,31\n",
      "error with date 2016,9,31\n",
      "error with date 2018,11,31\n"
     ]
    }
   ],
   "source": [
    "for dd in kk['date_list_jisu'].unique():\n",
    "    try:\n",
    "        a = pd.to_datetime(dd,format='%Y,%m,%d')\n",
    "    except:\n",
    "        print('error with date',dd)"
   ]
  },
  {
   "cell_type": "code",
   "execution_count": 27,
   "id": "2bcedea6",
   "metadata": {},
   "outputs": [
    {
     "data": {
      "text/html": [
       "<div>\n",
       "<style scoped>\n",
       "    .dataframe tbody tr th:only-of-type {\n",
       "        vertical-align: middle;\n",
       "    }\n",
       "\n",
       "    .dataframe tbody tr th {\n",
       "        vertical-align: top;\n",
       "    }\n",
       "\n",
       "    .dataframe thead th {\n",
       "        text-align: right;\n",
       "    }\n",
       "</style>\n",
       "<table border=\"1\" class=\"dataframe\">\n",
       "  <thead>\n",
       "    <tr style=\"text-align: right;\">\n",
       "      <th></th>\n",
       "      <th>entered_year</th>\n",
       "      <th>entered_month</th>\n",
       "      <th>big_region_name</th>\n",
       "      <th>small_region_name</th>\n",
       "      <th>date_list_jisu</th>\n",
       "      <th>data_list_jisu</th>\n",
       "      <th>date_list_rate</th>\n",
       "      <th>data_list_rate</th>\n",
       "    </tr>\n",
       "  </thead>\n",
       "  <tbody>\n",
       "    <tr>\n",
       "      <th>77187</th>\n",
       "      <td>2011</td>\n",
       "      <td>10</td>\n",
       "      <td>서울</td>\n",
       "      <td>서울강북</td>\n",
       "      <td>2011,9,31</td>\n",
       "      <td>81.8</td>\n",
       "      <td>2011,9,31</td>\n",
       "      <td>-0.03</td>\n",
       "    </tr>\n",
       "    <tr>\n",
       "      <th>77233</th>\n",
       "      <td>2011</td>\n",
       "      <td>10</td>\n",
       "      <td>서울</td>\n",
       "      <td>서울강북구</td>\n",
       "      <td>2011,9,31</td>\n",
       "      <td>85.8</td>\n",
       "      <td>2011,9,31</td>\n",
       "      <td>-0.08</td>\n",
       "    </tr>\n",
       "    <tr>\n",
       "      <th>77279</th>\n",
       "      <td>2011</td>\n",
       "      <td>10</td>\n",
       "      <td>서울</td>\n",
       "      <td>서울광진구</td>\n",
       "      <td>2011,9,31</td>\n",
       "      <td>80.6</td>\n",
       "      <td>2011,9,31</td>\n",
       "      <td>-0.03</td>\n",
       "    </tr>\n",
       "    <tr>\n",
       "      <th>77325</th>\n",
       "      <td>2011</td>\n",
       "      <td>10</td>\n",
       "      <td>서울</td>\n",
       "      <td>서울노원구</td>\n",
       "      <td>2011,9,31</td>\n",
       "      <td>82.5</td>\n",
       "      <td>2011,9,31</td>\n",
       "      <td>-0.07</td>\n",
       "    </tr>\n",
       "    <tr>\n",
       "      <th>77371</th>\n",
       "      <td>2011</td>\n",
       "      <td>10</td>\n",
       "      <td>서울</td>\n",
       "      <td>서울도봉구</td>\n",
       "      <td>2011,9,31</td>\n",
       "      <td>84.0</td>\n",
       "      <td>2011,9,31</td>\n",
       "      <td>-0.01</td>\n",
       "    </tr>\n",
       "    <tr>\n",
       "      <th>...</th>\n",
       "      <td>...</td>\n",
       "      <td>...</td>\n",
       "      <td>...</td>\n",
       "      <td>...</td>\n",
       "      <td>...</td>\n",
       "      <td>...</td>\n",
       "      <td>...</td>\n",
       "      <td>...</td>\n",
       "    </tr>\n",
       "    <tr>\n",
       "      <th>431344</th>\n",
       "      <td>2019</td>\n",
       "      <td>11</td>\n",
       "      <td>인천</td>\n",
       "      <td>인천연수구</td>\n",
       "      <td>2018,11,31</td>\n",
       "      <td>100.0</td>\n",
       "      <td>2018,11,31</td>\n",
       "      <td>0.00</td>\n",
       "    </tr>\n",
       "    <tr>\n",
       "      <th>431390</th>\n",
       "      <td>2019</td>\n",
       "      <td>11</td>\n",
       "      <td>인천</td>\n",
       "      <td>인천남동구</td>\n",
       "      <td>2018,11,31</td>\n",
       "      <td>100.0</td>\n",
       "      <td>2018,11,31</td>\n",
       "      <td>0.00</td>\n",
       "    </tr>\n",
       "    <tr>\n",
       "      <th>431436</th>\n",
       "      <td>2019</td>\n",
       "      <td>11</td>\n",
       "      <td>인천</td>\n",
       "      <td>인천부평구</td>\n",
       "      <td>2018,11,31</td>\n",
       "      <td>100.0</td>\n",
       "      <td>2018,11,31</td>\n",
       "      <td>0.00</td>\n",
       "    </tr>\n",
       "    <tr>\n",
       "      <th>431482</th>\n",
       "      <td>2019</td>\n",
       "      <td>11</td>\n",
       "      <td>인천</td>\n",
       "      <td>인천계양구</td>\n",
       "      <td>2018,11,31</td>\n",
       "      <td>99.8</td>\n",
       "      <td>2018,11,31</td>\n",
       "      <td>0.03</td>\n",
       "    </tr>\n",
       "    <tr>\n",
       "      <th>431528</th>\n",
       "      <td>2019</td>\n",
       "      <td>11</td>\n",
       "      <td>인천</td>\n",
       "      <td>인천서구</td>\n",
       "      <td>2018,11,31</td>\n",
       "      <td>100.0</td>\n",
       "      <td>2018,11,31</td>\n",
       "      <td>0.00</td>\n",
       "    </tr>\n",
       "  </tbody>\n",
       "</table>\n",
       "<p>3744 rows × 8 columns</p>\n",
       "</div>"
      ],
      "text/plain": [
       "        entered_year  entered_month big_region_name small_region_name  \\\n",
       "77187           2011             10              서울              서울강북   \n",
       "77233           2011             10              서울             서울강북구   \n",
       "77279           2011             10              서울             서울광진구   \n",
       "77325           2011             10              서울             서울노원구   \n",
       "77371           2011             10              서울             서울도봉구   \n",
       "...              ...            ...             ...               ...   \n",
       "431344          2019             11              인천             인천연수구   \n",
       "431390          2019             11              인천             인천남동구   \n",
       "431436          2019             11              인천             인천부평구   \n",
       "431482          2019             11              인천             인천계양구   \n",
       "431528          2019             11              인천              인천서구   \n",
       "\n",
       "       date_list_jisu  data_list_jisu date_list_rate  data_list_rate  \n",
       "77187       2011,9,31            81.8      2011,9,31           -0.03  \n",
       "77233       2011,9,31            85.8      2011,9,31           -0.08  \n",
       "77279       2011,9,31            80.6      2011,9,31           -0.03  \n",
       "77325       2011,9,31            82.5      2011,9,31           -0.07  \n",
       "77371       2011,9,31            84.0      2011,9,31           -0.01  \n",
       "...               ...             ...            ...             ...  \n",
       "431344     2018,11,31           100.0     2018,11,31            0.00  \n",
       "431390     2018,11,31           100.0     2018,11,31            0.00  \n",
       "431436     2018,11,31           100.0     2018,11,31            0.00  \n",
       "431482     2018,11,31            99.8     2018,11,31            0.03  \n",
       "431528     2018,11,31           100.0     2018,11,31            0.00  \n",
       "\n",
       "[3744 rows x 8 columns]"
      ]
     },
     "execution_count": 27,
     "metadata": {},
     "output_type": "execute_result"
    }
   ],
   "source": [
    "kk.loc[kk['date_list_jisu'].isin(['2011,9,31','2012,11,31','2016,9,31','2018,11,31']),:]"
   ]
  },
  {
   "cell_type": "raw",
   "id": "d2d52d7f",
   "metadata": {},
   "source": []
  }
 ],
 "metadata": {
  "kernelspec": {
   "display_name": "simon_env",
   "language": "python",
   "name": "simon_env"
  },
  "language_info": {
   "codemirror_mode": {
    "name": "ipython",
    "version": 3
   },
   "file_extension": ".py",
   "mimetype": "text/x-python",
   "name": "python",
   "nbconvert_exporter": "python",
   "pygments_lexer": "ipython3",
   "version": "3.7.10"
  },
  "varInspector": {
   "cols": {
    "lenName": 16,
    "lenType": 16,
    "lenVar": 40
   },
   "kernels_config": {
    "python": {
     "delete_cmd_postfix": "",
     "delete_cmd_prefix": "del ",
     "library": "var_list.py",
     "varRefreshCmd": "print(var_dic_list())"
    },
    "r": {
     "delete_cmd_postfix": ") ",
     "delete_cmd_prefix": "rm(",
     "library": "var_list.r",
     "varRefreshCmd": "cat(var_dic_list()) "
    }
   },
   "types_to_exclude": [
    "module",
    "function",
    "builtin_function_or_method",
    "instance",
    "_Feature"
   ],
   "window_display": false
  }
 },
 "nbformat": 4,
 "nbformat_minor": 5
}
