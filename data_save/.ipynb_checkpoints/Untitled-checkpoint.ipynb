{
 "cells": [
  {
   "cell_type": "code",
   "execution_count": 17,
   "id": "cd8ebb37",
   "metadata": {
    "ExecuteTime": {
     "end_time": "2021-07-14T01:18:22.657673Z",
     "start_time": "2021-07-14T01:18:22.647705Z"
    }
   },
   "outputs": [],
   "source": [
    "import pandas as pd\n",
    "import glob\n",
    "import os\n",
    "from IPython.core.interactiveshell import InteractiveShell\n",
    "InteractiveShell.ast_node_interactivity = 'all'"
   ]
  },
  {
   "cell_type": "code",
   "execution_count": 9,
   "id": "b8b4db6b",
   "metadata": {
    "ExecuteTime": {
     "end_time": "2021-07-14T01:11:59.449998Z",
     "start_time": "2021-07-14T01:11:59.446010Z"
    }
   },
   "outputs": [],
   "source": [
    "dirr = 'C:/Users/shic/Desktop/crawler_project/data_save/'"
   ]
  },
  {
   "cell_type": "code",
   "execution_count": 13,
   "id": "8f063364",
   "metadata": {
    "ExecuteTime": {
     "end_time": "2021-07-14T01:14:59.518862Z",
     "start_time": "2021-07-14T01:14:59.512874Z"
    }
   },
   "outputs": [
    {
     "data": {
      "text/plain": [
       "['courtauction/df_court.csv',\n",
       " 'estate_trend/estate_trend.csv',\n",
       " 'kb_land/kb_land_df.csv',\n",
       " 'taxx/jaesan_df.csv',\n",
       " 'taxx/jongbu_df.csv']"
      ]
     },
     "execution_count": 13,
     "metadata": {},
     "output_type": "execute_result"
    }
   ],
   "source": [
    "list_files = ['courtauction/df_court.csv',\n",
    "              'estate_trend/estate_trend.csv',\n",
    "              'kb_land/kb_land_df.csv',\n",
    "              'taxx/jaesan_df.csv','taxx/jongbu_df.csv']\n",
    "list_files"
   ]
  },
  {
   "cell_type": "code",
   "execution_count": 22,
   "id": "a5d4a201",
   "metadata": {
    "ExecuteTime": {
     "end_time": "2021-07-14T01:20:36.006978Z",
     "start_time": "2021-07-14T01:20:35.810229Z"
    }
   },
   "outputs": [],
   "source": [
    "df_court     = pd.read_csv(dirr + list_files[0])\n",
    "estate_trend = pd.read_csv(dirr + list_files[1])\n",
    "kb_land      = pd.read_csv(dirr + list_files[2])\n",
    "jaesan_df    = pd.read_csv(dirr + list_files[3])\n",
    "jongbu_df    = pd.read_csv(dirr + list_files[4])"
   ]
  },
  {
   "cell_type": "code",
   "execution_count": 18,
   "id": "a726f136",
   "metadata": {
    "ExecuteTime": {
     "end_time": "2021-07-14T01:18:26.065571Z",
     "start_time": "2021-07-14T01:18:26.053631Z"
    }
   },
   "outputs": [
    {
     "data": {
      "text/plain": [
       "array(['서울특별시', '경기도', '인천광역시'], dtype=object)"
      ]
     },
     "execution_count": 18,
     "metadata": {},
     "output_type": "execute_result"
    },
    {
     "data": {
      "text/plain": [
       "array(['전국', '수도권', '서울특별시', '인천광역시', '경기도', '비수도권', '부산광역시', '대구광역시',\n",
       "       '광주광역시', '대전광역시', '울산광역시', '강원도', '충청북도', '충청남도', '전라북도', '전라남도',\n",
       "       '경상북도', '경상남도', '세종특별자치시', '제주특별자치도'], dtype=object)"
      ]
     },
     "execution_count": 18,
     "metadata": {},
     "output_type": "execute_result"
    }
   ],
   "source": [
    "df_court['sido'].unique()\n",
    "estate_trend['C1_NM'].unique()"
   ]
  },
  {
   "cell_type": "code",
   "execution_count": 25,
   "id": "cdbd8a35",
   "metadata": {
    "ExecuteTime": {
     "end_time": "2021-07-14T01:20:52.633042Z",
     "start_time": "2021-07-14T01:20:52.623067Z"
    }
   },
   "outputs": [
    {
     "data": {
      "text/plain": [
       "array(['서울', '경기'], dtype=object)"
      ]
     },
     "execution_count": 25,
     "metadata": {},
     "output_type": "execute_result"
    }
   ],
   "source": [
    "kb_land['b_region'].unique()"
   ]
  },
  {
   "cell_type": "code",
   "execution_count": 26,
   "id": "76ce7e6c",
   "metadata": {
    "ExecuteTime": {
     "end_time": "2021-07-14T01:26:55.824562Z",
     "start_time": "2021-07-14T01:26:55.812595Z"
    }
   },
   "outputs": [
    {
     "data": {
      "text/html": [
       "<div>\n",
       "<style scoped>\n",
       "    .dataframe tbody tr th:only-of-type {\n",
       "        vertical-align: middle;\n",
       "    }\n",
       "\n",
       "    .dataframe tbody tr th {\n",
       "        vertical-align: top;\n",
       "    }\n",
       "\n",
       "    .dataframe thead th {\n",
       "        text-align: right;\n",
       "    }\n",
       "</style>\n",
       "<table border=\"1\" class=\"dataframe\">\n",
       "  <thead>\n",
       "    <tr style=\"text-align: right;\">\n",
       "      <th></th>\n",
       "      <th>time</th>\n",
       "      <th>taxx</th>\n",
       "    </tr>\n",
       "  </thead>\n",
       "  <tbody>\n",
       "    <tr>\n",
       "      <th>0</th>\n",
       "      <td>2010-01-01</td>\n",
       "      <td>387</td>\n",
       "    </tr>\n",
       "    <tr>\n",
       "      <th>1</th>\n",
       "      <td>2010-02-01</td>\n",
       "      <td>1214</td>\n",
       "    </tr>\n",
       "    <tr>\n",
       "      <th>2</th>\n",
       "      <td>2010-03-01</td>\n",
       "      <td>1871</td>\n",
       "    </tr>\n",
       "    <tr>\n",
       "      <th>3</th>\n",
       "      <td>2010-04-01</td>\n",
       "      <td>2372</td>\n",
       "    </tr>\n",
       "    <tr>\n",
       "      <th>4</th>\n",
       "      <td>2010-05-01</td>\n",
       "      <td>2944</td>\n",
       "    </tr>\n",
       "    <tr>\n",
       "      <th>...</th>\n",
       "      <td>...</td>\n",
       "      <td>...</td>\n",
       "    </tr>\n",
       "    <tr>\n",
       "      <th>127</th>\n",
       "      <td>2020-08-01</td>\n",
       "      <td>12098</td>\n",
       "    </tr>\n",
       "    <tr>\n",
       "      <th>128</th>\n",
       "      <td>2020-09-01</td>\n",
       "      <td>14011</td>\n",
       "    </tr>\n",
       "    <tr>\n",
       "      <th>129</th>\n",
       "      <td>2020-10-01</td>\n",
       "      <td>16284</td>\n",
       "    </tr>\n",
       "    <tr>\n",
       "      <th>130</th>\n",
       "      <td>2020-11-01</td>\n",
       "      <td>18128</td>\n",
       "    </tr>\n",
       "    <tr>\n",
       "      <th>131</th>\n",
       "      <td>2020-12-01</td>\n",
       "      <td>22735</td>\n",
       "    </tr>\n",
       "  </tbody>\n",
       "</table>\n",
       "<p>132 rows × 2 columns</p>\n",
       "</div>"
      ],
      "text/plain": [
       "           time   taxx\n",
       "0    2010-01-01    387\n",
       "1    2010-02-01   1214\n",
       "2    2010-03-01   1871\n",
       "3    2010-04-01   2372\n",
       "4    2010-05-01   2944\n",
       "..          ...    ...\n",
       "127  2020-08-01  12098\n",
       "128  2020-09-01  14011\n",
       "129  2020-10-01  16284\n",
       "130  2020-11-01  18128\n",
       "131  2020-12-01  22735\n",
       "\n",
       "[132 rows x 2 columns]"
      ]
     },
     "execution_count": 26,
     "metadata": {},
     "output_type": "execute_result"
    }
   ],
   "source": [
    "jaesan_df"
   ]
  },
  {
   "cell_type": "code",
   "execution_count": null,
   "id": "15e148c4",
   "metadata": {},
   "outputs": [],
   "source": []
  }
 ],
 "metadata": {
  "kernelspec": {
   "display_name": "simon_env",
   "language": "python",
   "name": "simon_env"
  },
  "language_info": {
   "codemirror_mode": {
    "name": "ipython",
    "version": 3
   },
   "file_extension": ".py",
   "mimetype": "text/x-python",
   "name": "python",
   "nbconvert_exporter": "python",
   "pygments_lexer": "ipython3",
   "version": "3.7.10"
  }
 },
 "nbformat": 4,
 "nbformat_minor": 5
}
