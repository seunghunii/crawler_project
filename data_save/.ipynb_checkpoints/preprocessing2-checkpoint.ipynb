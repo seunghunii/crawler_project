{
 "cells": [
  {
   "cell_type": "code",
   "execution_count": 199,
   "id": "cd8ebb37",
   "metadata": {
    "ExecuteTime": {
     "end_time": "2021-07-22T02:09:41.743017Z",
     "start_time": "2021-07-22T02:09:41.735039Z"
    }
   },
   "outputs": [],
   "source": [
    "import pandas as pd\n",
    "import glob\n",
    "import os\n",
    "import re\n",
    "from IPython.core.interactiveshell import InteractiveShell\n",
    "InteractiveShell.ast_node_interactivity = 'all'"
   ]
  },
  {
   "cell_type": "code",
   "execution_count": 200,
   "id": "b8b4db6b",
   "metadata": {
    "ExecuteTime": {
     "end_time": "2021-07-22T02:09:41.757977Z",
     "start_time": "2021-07-22T02:09:41.744015Z"
    }
   },
   "outputs": [],
   "source": [
    "dirr = 'C:/Users/shic/Desktop/crawler_project/data_save/'"
   ]
  },
  {
   "cell_type": "code",
   "execution_count": 201,
   "id": "8f063364",
   "metadata": {
    "ExecuteTime": {
     "end_time": "2021-07-22T02:09:41.773964Z",
     "start_time": "2021-07-22T02:09:41.758975Z"
    }
   },
   "outputs": [
    {
     "data": {
      "text/plain": [
       "['courtauction/df_court.csv',\n",
       " 'estate_trend/estate_trend.csv',\n",
       " 'kb_land/kb_land_mp.csv',\n",
       " 'taxx/jaesan_df.csv',\n",
       " 'taxx/jongbu_df.csv']"
      ]
     },
     "execution_count": 201,
     "metadata": {},
     "output_type": "execute_result"
    }
   ],
   "source": [
    "list_files = ['courtauction/df_court.csv',\n",
    "              'estate_trend/estate_trend.csv',\n",
    "              'kb_land/kb_land_mp.csv',\n",
    "              'taxx/jaesan_df.csv','taxx/jongbu_df.csv']\n",
    "list_files"
   ]
  },
  {
   "cell_type": "code",
   "execution_count": 202,
   "id": "a5d4a201",
   "metadata": {
    "ExecuteTime": {
     "end_time": "2021-07-22T02:09:42.311810Z",
     "start_time": "2021-07-22T02:09:41.774931Z"
    }
   },
   "outputs": [],
   "source": [
    "df_court     = pd.read_csv(dirr + list_files[0])\n",
    "estate_trend = pd.read_csv(dirr + list_files[1])\n",
    "kb_land      = pd.read_csv(dirr + list_files[2])\n",
    "jaesan_df    = pd.read_csv(dirr + list_files[3])\n",
    "jongbu_df    = pd.read_csv(dirr + list_files[4])"
   ]
  },
  {
   "cell_type": "code",
   "execution_count": 203,
   "id": "a726f136",
   "metadata": {
    "ExecuteTime": {
     "end_time": "2021-07-22T02:09:42.327647Z",
     "start_time": "2021-07-22T02:09:42.312809Z"
    }
   },
   "outputs": [
    {
     "data": {
      "text/plain": [
       "array(['서울특별시', '경기도', '인천광역시'], dtype=object)"
      ]
     },
     "execution_count": 203,
     "metadata": {},
     "output_type": "execute_result"
    },
    {
     "data": {
      "text/plain": [
       "array(['전국', '수도권', '서울특별시', '인천광역시', '경기도', '비수도권', '부산광역시', '대구광역시',\n",
       "       '광주광역시', '대전광역시', '울산광역시', '강원도', '충청북도', '충청남도', '전라북도', '전라남도',\n",
       "       '경상북도', '경상남도', '세종특별자치시', '제주특별자치도'], dtype=object)"
      ]
     },
     "execution_count": 203,
     "metadata": {},
     "output_type": "execute_result"
    }
   ],
   "source": [
    "df_court['sido'].unique()\n",
    "estate_trend['C1_NM'].unique()"
   ]
  },
  {
   "cell_type": "code",
   "execution_count": 204,
   "id": "cdbd8a35",
   "metadata": {
    "ExecuteTime": {
     "end_time": "2021-07-22T02:09:42.343024Z",
     "start_time": "2021-07-22T02:09:42.328403Z"
    }
   },
   "outputs": [
    {
     "name": "stdout",
     "output_type": "stream",
     "text": [
      "['서울특별시' '경기도' '인천광역시']\n",
      "['강남구' '강동구' '강북구' '강서구' '관악구' '광진구' '구로구' '금천구' '노원구' '도봉구' '동대문구' '동작구'\n",
      " '마포구' '서대문구' '서초구' '성동구' '성북구' '송파구' '양천구' '영등포구' '용산구' '은평구' '종로구' '중구'\n",
      " '중랑구' '가평군' '고양시' '고양시 덕양구' '고양시 일산구' '고양시 일산동구' '고양시 일산서구' '과천시' '광명시'\n",
      " '광주시' '구리시' '군포시' '김포시' '남양주시' '동두천시' '부천시' '부천시 남구' '부천시 소사구' '부천시 오정구'\n",
      " '부천시 원미구' '부천시 중구' '성남시' '성남시 분당구' '성남시 수정구' '성남시 중원구' '수원시' '수원시 권선구'\n",
      " '수원시 영통구' '수원시 장안구' '수원시 팔달구' '시흥시' '안산시' '안산시 단원구' '안산시 상록구' '안성군' '안성시'\n",
      " '안양시' '안양시 동안구' '안양시 만안구' '양주시' '양평군' '여주군' '여주시' '연천군' '오산시' '용인시'\n",
      " '용인시 기흥구' '용인시 수지구' '용인시 처인구' '의왕시' '의정부시' '이천시' '파주시' '평택군' '평택시' '포천시'\n",
      " '하남시' '화성시' '강화군' '계양구' '남구' '남동구' '동구' '미추홀구' '부평구' '북구' '서구' '연수구'\n",
      " '옹진군']\n"
     ]
    }
   ],
   "source": [
    "print(df_court['sido'].unique())\n",
    "print(df_court['sigu'].unique())"
   ]
  },
  {
   "cell_type": "code",
   "execution_count": 205,
   "id": "07ac8f3d",
   "metadata": {
    "ExecuteTime": {
     "end_time": "2021-07-22T02:09:42.359016Z",
     "start_time": "2021-07-22T02:09:42.344021Z"
    }
   },
   "outputs": [
    {
     "data": {
      "text/plain": [
       "Index(['entered_year', 'entered_month', 'big_region_name', 'small_region_name',\n",
       "       'date_list_jisu', 'data_list_jisu', 'date_list_rate', 'data_list_rate'],\n",
       "      dtype='object')"
      ]
     },
     "execution_count": 205,
     "metadata": {},
     "output_type": "execute_result"
    }
   ],
   "source": [
    "kb_land.columns"
   ]
  },
  {
   "cell_type": "code",
   "execution_count": 206,
   "id": "15e148c4",
   "metadata": {
    "ExecuteTime": {
     "end_time": "2021-07-22T02:09:42.423012Z",
     "start_time": "2021-07-22T02:09:42.361011Z"
    }
   },
   "outputs": [
    {
     "name": "stdout",
     "output_type": "stream",
     "text": [
      "['서울' '경기' '인천']\n",
      "['서울강북' '서울강북구' '서울광진구' '서울노원구' '서울도봉구' '서울동대문구' '서울마포구' '서울서대문구' '서울성동구'\n",
      " '서울성북구' '서울용산구' '서울은평구' '서울종로구' '서울중구' '서울중랑구' '서울강남' '서울강남구' '서울강동구'\n",
      " '서울강서구' '서울관악구' '서울구로구' '서울금천구' '서울동작구' '서울서초구' '서울송파구' '서울양천구' '서울영등포구'\n",
      " '수원' '수원장안구' '수원권선구' '수원팔달구' '수원영통구' '성남' '성남수정구' '성남중원구' '성남분당구' '고양'\n",
      " '고양덕양구' '고양일산동구' '고양일산서구' '안양' '안양만안구' '안양동안구' '부천' '의정부' '광명' '평택' '안산'\n",
      " '안산단원구' '안산상록구' '과천' '구리' '남양주' '용인' '용인처인구' '용인기흥구' '용인수지구' '시흥' '군포'\n",
      " '의왕' '하남' '오산' '파주' '이천' '안성' '김포' '양주' '동두천' '광주' '화성' '인천중구' '인천동구'\n",
      " '인천미추홀구' '인천연수구' '인천남동구' '인천부평구' '인천계양구' '인천서구']\n"
     ]
    }
   ],
   "source": [
    "print(kb_land['big_region_name'].unique())\n",
    "print(kb_land['small_region_name'].unique())"
   ]
  },
  {
   "cell_type": "code",
   "execution_count": 207,
   "id": "c5eeea35",
   "metadata": {
    "ExecuteTime": {
     "end_time": "2021-07-22T02:09:46.253770Z",
     "start_time": "2021-07-22T02:09:42.426964Z"
    }
   },
   "outputs": [],
   "source": [
    "kb_land['big_region_name'] = kb_land['big_region_name'].replace({'서울':'서울특별시',\n",
    "                                                   '경기':'경기도',\n",
    "                                                   '인천':'인천광역시'})\n",
    "kb_land['small_region_name'] = [re.sub('서울|인천','',region) for region in kb_land['small_region_name']]\n",
    "kb_land['small_region_name'] = kb_land.replace({\n",
    "    'small_region_name':{'고양':'고양시 ',\n",
    "                         '수원':'수원시 ',\n",
    "                         '안산':'안산시 ',\n",
    "                         '성남':'성남시 ',\n",
    "                         '용인':'용인시 ',\n",
    "                         '안양':'안양시 '}},regex=True)['small_region_name']\n",
    "kb_land['small_region_name'] = kb_land['small_region_name'].str.strip()"
   ]
  },
  {
   "cell_type": "code",
   "execution_count": 208,
   "id": "e3bd8170",
   "metadata": {
    "ExecuteTime": {
     "end_time": "2021-07-22T02:09:57.272300Z",
     "start_time": "2021-07-22T02:09:46.254729Z"
    }
   },
   "outputs": [],
   "source": [
    "to_replace = kb_land['small_region_name'][-kb_land['small_region_name'].isin(df_court['sigu'])].unique().tolist()\n",
    "replace_dict = {}\n",
    "for rep in to_replace:\n",
    "    if rep == '강북' or rep == '강남':\n",
    "        replace_dict[rep] = str(rep) + '구'\n",
    "    else:\n",
    "        replace_dict[rep] = str(rep) + '시'\n",
    "kb_land['small_region_name'] = kb_land.replace({\n",
    "    'small_region_name' : replace_dict\n",
    "},regex=True)['small_region_name']"
   ]
  },
  {
   "cell_type": "code",
   "execution_count": 209,
   "id": "57e7bc6c",
   "metadata": {
    "ExecuteTime": {
     "end_time": "2021-07-22T02:09:57.318259Z",
     "start_time": "2021-07-22T02:09:57.273269Z"
    }
   },
   "outputs": [
    {
     "data": {
      "text/html": [
       "<div>\n",
       "<style scoped>\n",
       "    .dataframe tbody tr th:only-of-type {\n",
       "        vertical-align: middle;\n",
       "    }\n",
       "\n",
       "    .dataframe tbody tr th {\n",
       "        vertical-align: top;\n",
       "    }\n",
       "\n",
       "    .dataframe thead th {\n",
       "        text-align: right;\n",
       "    }\n",
       "</style>\n",
       "<table border=\"1\" class=\"dataframe\">\n",
       "  <thead>\n",
       "    <tr style=\"text-align: right;\">\n",
       "      <th></th>\n",
       "      <th>entered_year</th>\n",
       "      <th>entered_month</th>\n",
       "      <th>big_region_name</th>\n",
       "      <th>small_region_name</th>\n",
       "      <th>date_list_jisu</th>\n",
       "      <th>data_list_jisu</th>\n",
       "      <th>date_list_rate</th>\n",
       "      <th>data_list_rate</th>\n",
       "    </tr>\n",
       "  </thead>\n",
       "  <tbody>\n",
       "    <tr>\n",
       "      <th>48</th>\n",
       "      <td>2010</td>\n",
       "      <td>1</td>\n",
       "      <td>서울특별시</td>\n",
       "      <td>강북구구</td>\n",
       "      <td>2009,3,2</td>\n",
       "      <td>88.3</td>\n",
       "      <td>2009,3,2</td>\n",
       "      <td>0.00</td>\n",
       "    </tr>\n",
       "    <tr>\n",
       "      <th>49</th>\n",
       "      <td>2010</td>\n",
       "      <td>1</td>\n",
       "      <td>서울특별시</td>\n",
       "      <td>강북구구</td>\n",
       "      <td>2009,3,9</td>\n",
       "      <td>88.1</td>\n",
       "      <td>2009,3,9</td>\n",
       "      <td>-0.41</td>\n",
       "    </tr>\n",
       "    <tr>\n",
       "      <th>50</th>\n",
       "      <td>2010</td>\n",
       "      <td>1</td>\n",
       "      <td>서울특별시</td>\n",
       "      <td>강북구구</td>\n",
       "      <td>2009,3,16</td>\n",
       "      <td>88.0</td>\n",
       "      <td>2009,3,16</td>\n",
       "      <td>-0.28</td>\n",
       "    </tr>\n",
       "    <tr>\n",
       "      <th>51</th>\n",
       "      <td>2010</td>\n",
       "      <td>1</td>\n",
       "      <td>서울특별시</td>\n",
       "      <td>강북구구</td>\n",
       "      <td>2009,3,23</td>\n",
       "      <td>88.0</td>\n",
       "      <td>2009,3,23</td>\n",
       "      <td>-0.05</td>\n",
       "    </tr>\n",
       "    <tr>\n",
       "      <th>52</th>\n",
       "      <td>2010</td>\n",
       "      <td>1</td>\n",
       "      <td>서울특별시</td>\n",
       "      <td>강북구구</td>\n",
       "      <td>2009,3,30</td>\n",
       "      <td>88.0</td>\n",
       "      <td>2009,3,30</td>\n",
       "      <td>-0.01</td>\n",
       "    </tr>\n",
       "    <tr>\n",
       "      <th>...</th>\n",
       "      <td>...</td>\n",
       "      <td>...</td>\n",
       "      <td>...</td>\n",
       "      <td>...</td>\n",
       "      <td>...</td>\n",
       "      <td>...</td>\n",
       "      <td>...</td>\n",
       "      <td>...</td>\n",
       "    </tr>\n",
       "    <tr>\n",
       "      <th>498669</th>\n",
       "      <td>2021</td>\n",
       "      <td>6</td>\n",
       "      <td>경기도</td>\n",
       "      <td>남양주시시</td>\n",
       "      <td>2021,5,31</td>\n",
       "      <td>137.5</td>\n",
       "      <td>2021,5,31</td>\n",
       "      <td>0.61</td>\n",
       "    </tr>\n",
       "    <tr>\n",
       "      <th>498670</th>\n",
       "      <td>2021</td>\n",
       "      <td>6</td>\n",
       "      <td>경기도</td>\n",
       "      <td>남양주시시</td>\n",
       "      <td>2021,6,7</td>\n",
       "      <td>138.4</td>\n",
       "      <td>2021,6,7</td>\n",
       "      <td>0.62</td>\n",
       "    </tr>\n",
       "    <tr>\n",
       "      <th>498671</th>\n",
       "      <td>2021</td>\n",
       "      <td>6</td>\n",
       "      <td>경기도</td>\n",
       "      <td>남양주시시</td>\n",
       "      <td>2021,6,14</td>\n",
       "      <td>139.2</td>\n",
       "      <td>2021,6,14</td>\n",
       "      <td>0.62</td>\n",
       "    </tr>\n",
       "    <tr>\n",
       "      <th>498672</th>\n",
       "      <td>2021</td>\n",
       "      <td>6</td>\n",
       "      <td>경기도</td>\n",
       "      <td>남양주시시</td>\n",
       "      <td>2021,6,21</td>\n",
       "      <td>139.5</td>\n",
       "      <td>2021,6,21</td>\n",
       "      <td>0.19</td>\n",
       "    </tr>\n",
       "    <tr>\n",
       "      <th>498673</th>\n",
       "      <td>2021</td>\n",
       "      <td>6</td>\n",
       "      <td>경기도</td>\n",
       "      <td>남양주시시</td>\n",
       "      <td>2021,6,28</td>\n",
       "      <td>140.1</td>\n",
       "      <td>2021,6,28</td>\n",
       "      <td>0.44</td>\n",
       "    </tr>\n",
       "  </tbody>\n",
       "</table>\n",
       "<p>19224 rows × 8 columns</p>\n",
       "</div>"
      ],
      "text/plain": [
       "        entered_year  entered_month big_region_name small_region_name  \\\n",
       "48              2010              1           서울특별시              강북구구   \n",
       "49              2010              1           서울특별시              강북구구   \n",
       "50              2010              1           서울특별시              강북구구   \n",
       "51              2010              1           서울특별시              강북구구   \n",
       "52              2010              1           서울특별시              강북구구   \n",
       "...              ...            ...             ...               ...   \n",
       "498669          2021              6             경기도             남양주시시   \n",
       "498670          2021              6             경기도             남양주시시   \n",
       "498671          2021              6             경기도             남양주시시   \n",
       "498672          2021              6             경기도             남양주시시   \n",
       "498673          2021              6             경기도             남양주시시   \n",
       "\n",
       "       date_list_jisu  data_list_jisu date_list_rate  data_list_rate  \n",
       "48           2009,3,2            88.3       2009,3,2            0.00  \n",
       "49           2009,3,9            88.1       2009,3,9           -0.41  \n",
       "50          2009,3,16            88.0      2009,3,16           -0.28  \n",
       "51          2009,3,23            88.0      2009,3,23           -0.05  \n",
       "52          2009,3,30            88.0      2009,3,30           -0.01  \n",
       "...               ...             ...            ...             ...  \n",
       "498669      2021,5,31           137.5      2021,5,31            0.61  \n",
       "498670       2021,6,7           138.4       2021,6,7            0.62  \n",
       "498671      2021,6,14           139.2      2021,6,14            0.62  \n",
       "498672      2021,6,21           139.5      2021,6,21            0.19  \n",
       "498673      2021,6,28           140.1      2021,6,28            0.44  \n",
       "\n",
       "[19224 rows x 8 columns]"
      ]
     },
     "execution_count": 209,
     "metadata": {},
     "output_type": "execute_result"
    }
   ],
   "source": [
    "kb_land[-kb_land['small_region_name'].isin(df_court['sigu'])]"
   ]
  },
  {
   "cell_type": "code",
   "execution_count": null,
   "id": "e5e7278e",
   "metadata": {},
   "outputs": [],
   "source": []
  }
 ],
 "metadata": {
  "kernelspec": {
   "display_name": "simon_env",
   "language": "python",
   "name": "simon_env"
  },
  "language_info": {
   "codemirror_mode": {
    "name": "ipython",
    "version": 3
   },
   "file_extension": ".py",
   "mimetype": "text/x-python",
   "name": "python",
   "nbconvert_exporter": "python",
   "pygments_lexer": "ipython3",
   "version": "3.7.10"
  },
  "varInspector": {
   "cols": {
    "lenName": 16,
    "lenType": 16,
    "lenVar": 40
   },
   "kernels_config": {
    "python": {
     "delete_cmd_postfix": "",
     "delete_cmd_prefix": "del ",
     "library": "var_list.py",
     "varRefreshCmd": "print(var_dic_list())"
    },
    "r": {
     "delete_cmd_postfix": ") ",
     "delete_cmd_prefix": "rm(",
     "library": "var_list.r",
     "varRefreshCmd": "cat(var_dic_list()) "
    }
   },
   "types_to_exclude": [
    "module",
    "function",
    "builtin_function_or_method",
    "instance",
    "_Feature"
   ],
   "window_display": false
  }
 },
 "nbformat": 4,
 "nbformat_minor": 5
}
