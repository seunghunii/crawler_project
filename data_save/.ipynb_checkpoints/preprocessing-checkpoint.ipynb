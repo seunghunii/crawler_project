{
 "cells": [
  {
   "cell_type": "code",
   "execution_count": 20,
   "id": "cd8ebb37",
   "metadata": {
    "ExecuteTime": {
     "end_time": "2021-07-14T05:19:46.950882Z",
     "start_time": "2021-07-14T05:19:46.935922Z"
    }
   },
   "outputs": [],
   "source": [
    "import pandas as pd\n",
    "import glob\n",
    "import os\n",
    "import re\n",
    "from IPython.core.interactiveshell import InteractiveShell\n",
    "InteractiveShell.ast_node_interactivity = 'all'"
   ]
  },
  {
   "cell_type": "code",
   "execution_count": 2,
   "id": "b8b4db6b",
   "metadata": {
    "ExecuteTime": {
     "end_time": "2021-07-14T05:08:09.747318Z",
     "start_time": "2021-07-14T05:08:09.729705Z"
    }
   },
   "outputs": [],
   "source": [
    "dirr = 'C:/Users/shic/Desktop/crawler_project/data_save/'"
   ]
  },
  {
   "cell_type": "code",
   "execution_count": 3,
   "id": "8f063364",
   "metadata": {
    "ExecuteTime": {
     "end_time": "2021-07-14T05:08:09.904344Z",
     "start_time": "2021-07-14T05:08:09.895369Z"
    }
   },
   "outputs": [
    {
     "data": {
      "text/plain": [
       "['courtauction/df_court.csv',\n",
       " 'estate_trend/estate_trend.csv',\n",
       " 'kb_land/kb_land_df.csv',\n",
       " 'taxx/jaesan_df.csv',\n",
       " 'taxx/jongbu_df.csv']"
      ]
     },
     "execution_count": 3,
     "metadata": {},
     "output_type": "execute_result"
    }
   ],
   "source": [
    "list_files = ['courtauction/df_court.csv',\n",
    "              'estate_trend/estate_trend.csv',\n",
    "              'kb_land/kb_land_df.csv',\n",
    "              'taxx/jaesan_df.csv','taxx/jongbu_df.csv']\n",
    "list_files"
   ]
  },
  {
   "cell_type": "code",
   "execution_count": 4,
   "id": "a5d4a201",
   "metadata": {
    "ExecuteTime": {
     "end_time": "2021-07-14T05:08:10.512087Z",
     "start_time": "2021-07-14T05:08:10.286000Z"
    }
   },
   "outputs": [],
   "source": [
    "df_court     = pd.read_csv(dirr + list_files[0])\n",
    "estate_trend = pd.read_csv(dirr + list_files[1])\n",
    "kb_land      = pd.read_csv(dirr + list_files[2])\n",
    "jaesan_df    = pd.read_csv(dirr + list_files[3])\n",
    "jongbu_df    = pd.read_csv(dirr + list_files[4])"
   ]
  },
  {
   "cell_type": "code",
   "execution_count": 5,
   "id": "a726f136",
   "metadata": {
    "ExecuteTime": {
     "end_time": "2021-07-14T05:08:11.399751Z",
     "start_time": "2021-07-14T05:08:11.377152Z"
    }
   },
   "outputs": [
    {
     "data": {
      "text/plain": [
       "array(['서울특별시', '경기도', '인천광역시'], dtype=object)"
      ]
     },
     "execution_count": 5,
     "metadata": {},
     "output_type": "execute_result"
    },
    {
     "data": {
      "text/plain": [
       "array(['전국', '수도권', '서울특별시', '인천광역시', '경기도', '비수도권', '부산광역시', '대구광역시',\n",
       "       '광주광역시', '대전광역시', '울산광역시', '강원도', '충청북도', '충청남도', '전라북도', '전라남도',\n",
       "       '경상북도', '경상남도', '세종특별자치시', '제주특별자치도'], dtype=object)"
      ]
     },
     "execution_count": 5,
     "metadata": {},
     "output_type": "execute_result"
    }
   ],
   "source": [
    "df_court['sido'].unique()\n",
    "estate_trend['C1_NM'].unique()"
   ]
  },
  {
   "cell_type": "code",
   "execution_count": 14,
   "id": "cdbd8a35",
   "metadata": {
    "ExecuteTime": {
     "end_time": "2021-07-14T05:16:05.377176Z",
     "start_time": "2021-07-14T05:16:05.347256Z"
    }
   },
   "outputs": [
    {
     "name": "stdout",
     "output_type": "stream",
     "text": [
      "['서울특별시' '경기도' '인천광역시']\n",
      "['강남구' '강동구' '강북구' '강서구' '관악구' '광진구' '구로구' '금천구' '노원구' '도봉구' '동대문구' '동작구'\n",
      " '마포구' '서대문구' '서초구' '성동구' '성북구' '송파구' '양천구' '영등포구' '용산구' '은평구' '종로구' '중구'\n",
      " '중랑구' '가평군' '고양시' '고양시 덕양구' '고양시 일산구' '고양시 일산동구' '고양시 일산서구' '과천시' '광명시'\n",
      " '광주시' '구리시' '군포시' '김포시' '남양주시' '동두천시' '부천시' '부천시 남구' '부천시 소사구' '부천시 오정구'\n",
      " '부천시 원미구' '부천시 중구' '성남시' '성남시 분당구' '성남시 수정구' '성남시 중원구' '수원시' '수원시 권선구'\n",
      " '수원시 영통구' '수원시 장안구' '수원시 팔달구' '시흥시' '안산시' '안산시 단원구' '안산시 상록구' '안성군' '안성시'\n",
      " '안양시' '안양시 동안구' '안양시 만안구' '양주시' '양평군' '여주군' '여주시' '연천군' '오산시' '용인시'\n",
      " '용인시 기흥구' '용인시 수지구' '용인시 처인구' '의왕시' '의정부시' '이천시' '파주시' '평택군' '평택시' '포천시'\n",
      " '하남시' '화성시' '강화군' '계양구' '남구' '남동구' '동구' '미추홀구' '부평구' '북구' '서구' '연수구'\n",
      " '옹진군']\n"
     ]
    }
   ],
   "source": [
    "print(df_court['sido'].unique())\n",
    "print(df_court['sigu'].unique())"
   ]
  },
  {
   "cell_type": "code",
   "execution_count": 15,
   "id": "15e148c4",
   "metadata": {
    "ExecuteTime": {
     "end_time": "2021-07-14T05:16:30.633001Z",
     "start_time": "2021-07-14T05:16:30.618040Z"
    }
   },
   "outputs": [
    {
     "name": "stdout",
     "output_type": "stream",
     "text": [
      "['서울' '경기' '인천']\n",
      "['서울강북' '서울강북구' '서울광진구' '서울노원구' '서울도봉구' '서울동대문구' '서울마포구' '서울서대문구' '서울성동구'\n",
      " '서울성북구' '서울용산구' '서울은평구' '서울종로구' '서울중구' '서울중랑구' '서울강남' '서울강남구' '서울강동구'\n",
      " '서울강서구' '서울관악구' '서울구로구' '서울금천구' '서울동작구' '서울서초구' '서울송파구' '서울양천구' '서울영등포구'\n",
      " '수원' '수원장안구' '수원권선구' '수원팔달구' '수원영통구' '성남' '성남수정구' '성남중원구' '성남분당구' '고양'\n",
      " '고양덕양구' '고양일산동구' '고양일산서구' '안양' '안양만안구' '안양동안구' '부천' '의정부' '광명' '평택' '안산'\n",
      " '안산단원구' '안산상록구' '과천' '구리' '남양주' '용인' '용인처인구' '용인기흥구' '용인수지구' '시흥' '군포'\n",
      " '의왕' '하남' '오산' '파주' '이천' '안성' '김포' '양주' '동두천' '광주' '화성' '인천중구' '인천동구'\n",
      " '인천미추홀구' '인천연수구' '인천남동구' '인천부평구' '인천계양구' '인천서구']\n"
     ]
    }
   ],
   "source": [
    "print(kb_land['b_region'].unique())\n",
    "print(kb_land['s_region'].unique())"
   ]
  },
  {
   "cell_type": "code",
   "execution_count": 19,
   "id": "c5eeea35",
   "metadata": {
    "ExecuteTime": {
     "end_time": "2021-07-14T05:18:31.976005Z",
     "start_time": "2021-07-14T05:18:31.961097Z"
    }
   },
   "outputs": [],
   "source": [
    "kb_land['b_region'] = kb_land['b_region'].replace({'서울':'서울특별시',\n",
    "                                                   '경기':'경기도',\n",
    "                                                   '인천':'인천광역시'})"
   ]
  },
  {
   "cell_type": "code",
   "execution_count": 24,
   "id": "1a30cf59",
   "metadata": {
    "ExecuteTime": {
     "end_time": "2021-07-14T05:31:07.855979Z",
     "start_time": "2021-07-14T05:31:07.849989Z"
    }
   },
   "outputs": [
    {
     "data": {
      "text/plain": [
       "'강북'"
      ]
     },
     "execution_count": 24,
     "metadata": {},
     "output_type": "execute_result"
    }
   ],
   "source": [
    "re.sub('서울|경기|인천','',kb_land['s_region'][0])"
   ]
  },
  {
   "cell_type": "code",
   "execution_count": 27,
   "id": "3fb9fd6b",
   "metadata": {
    "ExecuteTime": {
     "end_time": "2021-07-14T05:36:58.238890Z",
     "start_time": "2021-07-14T05:36:58.214954Z"
    }
   },
   "outputs": [
    {
     "data": {
      "text/plain": [
       "array(['강남구', '강동구', '강북구', '강서구', '관악구', '광진구', '구로구', '금천구', '노원구',\n",
       "       '도봉구', '동대문구', '동작구', '마포구', '서대문구', '서초구', '성동구', '성북구', '송파구',\n",
       "       '양천구', '영등포구', '용산구', '은평구', '종로구', '중구', '중랑구', '가평군', '고양시',\n",
       "       '고양시 덕양구', '고양시 일산구', '고양시 일산동구', '고양시 일산서구', '과천시', '광명시', '광주시',\n",
       "       '구리시', '군포시', '김포시', '남양주시', '동두천시', '부천시', '부천시 남구', '부천시 소사구',\n",
       "       '부천시 오정구', '부천시 원미구', '부천시 중구', '성남시', '성남시 분당구', '성남시 수정구',\n",
       "       '성남시 중원구', '수원시', '수원시 권선구', '수원시 영통구', '수원시 장안구', '수원시 팔달구',\n",
       "       '시흥시', '안산시', '안산시 단원구', '안산시 상록구', '안성군', '안성시', '안양시', '안양시 동안구',\n",
       "       '안양시 만안구', '양주시', '양평군', '여주군', '여주시', '연천군', '오산시', '용인시',\n",
       "       '용인시 기흥구', '용인시 수지구', '용인시 처인구', '의왕시', '의정부시', '이천시', '파주시',\n",
       "       '평택군', '평택시', '포천시', '하남시', '화성시', '강화군', '계양구', '남구', '남동구', '동구',\n",
       "       '미추홀구', '부평구', '북구', '서구', '연수구', '옹진군'], dtype=object)"
      ]
     },
     "execution_count": 27,
     "metadata": {},
     "output_type": "execute_result"
    }
   ],
   "source": [
    "df_court['sigu'][-df_court['sigu'].isin(kb_land['s_region'])].unique()"
   ]
  },
  {
   "cell_type": "code",
   "execution_count": 29,
   "id": "27d4caa8",
   "metadata": {
    "ExecuteTime": {
     "end_time": "2021-07-14T05:39:30.694423Z",
     "start_time": "2021-07-14T05:39:30.675473Z"
    }
   },
   "outputs": [
    {
     "data": {
      "text/plain": [
       "array(['서울강북', '서울강북구', '서울광진구', '서울노원구', '서울도봉구', '서울동대문구', '서울마포구',\n",
       "       '서울서대문구', '서울성동구', '서울성북구', '서울용산구', '서울은평구', '서울종로구', '서울중구',\n",
       "       '서울중랑구', '서울강남', '서울강남구', '서울강동구', '서울강서구', '서울관악구', '서울구로구',\n",
       "       '서울금천구', '서울동작구', '서울서초구', '서울송파구', '서울양천구', '서울영등포구', '수원',\n",
       "       '수원장안구', '수원권선구', '수원팔달구', '수원영통구', '성남', '성남수정구', '성남중원구',\n",
       "       '성남분당구', '고양', '고양덕양구', '고양일산동구', '고양일산서구', '안양', '안양만안구', '안양동안구',\n",
       "       '부천', '의정부', '광명', '평택', '안산', '안산단원구', '안산상록구', '과천', '구리', '남양주',\n",
       "       '용인', '용인처인구', '용인기흥구', '용인수지구', '시흥', '군포', '의왕', '하남', '오산',\n",
       "       '파주', '이천', '안성', '김포', '양주', '동두천', '광주', '화성', '인천중구', '인천동구',\n",
       "       '인천미추홀구', '인천연수구', '인천남동구', '인천부평구', '인천계양구', '인천서구'], dtype=object)"
      ]
     },
     "execution_count": 29,
     "metadata": {},
     "output_type": "execute_result"
    }
   ],
   "source": [
    "kb_land['s_region'][-kb_land['s_region'].isin(df_court['sigu'])].unique()"
   ]
  },
  {
   "cell_type": "code",
   "execution_count": null,
   "id": "40d894ca",
   "metadata": {},
   "outputs": [],
   "source": []
  }
 ],
 "metadata": {
  "kernelspec": {
   "display_name": "simon_env",
   "language": "python",
   "name": "simon_env"
  },
  "language_info": {
   "codemirror_mode": {
    "name": "ipython",
    "version": 3
   },
   "file_extension": ".py",
   "mimetype": "text/x-python",
   "name": "python",
   "nbconvert_exporter": "python",
   "pygments_lexer": "ipython3",
   "version": "3.7.10"
  }
 },
 "nbformat": 4,
 "nbformat_minor": 5
}
