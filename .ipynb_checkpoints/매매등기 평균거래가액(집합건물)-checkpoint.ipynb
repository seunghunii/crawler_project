{
 "cells": [
  {
   "cell_type": "code",
   "execution_count": 10,
   "metadata": {
    "ExecuteTime": {
     "end_time": "2021-08-18T13:20:18.236313Z",
     "start_time": "2021-08-18T13:20:18.222354Z"
    }
   },
   "outputs": [],
   "source": [
    "import pandas as pd\n",
    "from selenium import webdriver\n",
    "from bs4 import BeautifulSoup\n",
    "import requests\n",
    "import json\n",
    "from random import uniform\n",
    "import time"
   ]
  },
  {
   "cell_type": "code",
   "execution_count": 11,
   "metadata": {
    "ExecuteTime": {
     "end_time": "2021-08-18T13:20:18.251271Z",
     "start_time": "2021-08-18T13:20:18.240271Z"
    }
   },
   "outputs": [],
   "source": [
    "dir_for_seunghun = 'C:/Users/rsh15/Desktop/seunghuni/selenium/chromedriver.exe'"
   ]
  },
  {
   "cell_type": "code",
   "execution_count": 12,
   "metadata": {
    "ExecuteTime": {
     "end_time": "2021-08-18T13:20:18.266202Z",
     "start_time": "2021-08-18T13:20:18.255229Z"
    }
   },
   "outputs": [],
   "source": [
    "urll = 'https://data.iros.go.kr/cr/rs/selectRgsCsTab.do'"
   ]
  },
  {
   "cell_type": "code",
   "execution_count": 13,
   "metadata": {
    "ExecuteTime": {
     "end_time": "2021-08-18T13:20:18.281162Z",
     "start_time": "2021-08-18T13:20:18.270190Z"
    }
   },
   "outputs": [],
   "source": [
    "headers = {\n",
    "    'Accept': 'application/json, text/javascript, */*; q=0.01',\n",
    "    'Accept-Encoding': 'gzip, deflate, br',\n",
    "    'Accept-Language': 'ko-KR,ko;q=0.9,en-US;q=0.8,en;q=0.7',\n",
    "    'Connection': 'keep-alive',\n",
    "    'Content-Length': '203',\n",
    "    'Content-Type': 'application/x-www-form-urlencoded; charset=UTF-8',\n",
    "    'Cookie': 'WMONID=VdzGSVmMDjU; stoken=Vy3zFySFx5FAS1zTyGIDx5FDEMO1zCy1629212191zPy86400zAy33zEyXshPwJiufQjx78uqKWSB99x7A70EbrDx78ZeUo1cM63aDYQ3eOiKcPEtj2bMVudHF1O3Tx78x2BcKx2FBmfPx2FcpWJlx2B9DRPtFgx3Dx3DzKyUFSx796x79tjLx2FQNb9ht9FM1582XSHYx2FfvjNHuVShcgZfHhQWWnOnSIYgEH71x2F2jQ1x7ArzSSy00003097071zUURy480e8c733be2bbc22b3fba072a3941dbzMyXR0P1SScDQox3Dz; JSESSIONID=VMsOwjDn06iu1xwFH3Er4F66DfWn3u3n0z2aYyPgawy1t3TTpe59mlXlm24HbAaC.RF9vdXRfZG9tYWluMS9nNDQwTTE=',\n",
    "    'Host': 'data.iros.go.kr',\n",
    "    'Origin': 'https://data.iros.go.kr',\n",
    "    'Referer': 'https://data.iros.go.kr/cr/rs/selectRgsCsDetl.do',\n",
    "    'sec-ch-ua': '\"Chromium\";v=\"92\", \" Not A;Brand\";v=\"99\", \"Google Chrome\";v=\"92\"',\n",
    "    'sec-ch-ua-mobile': '?0',\n",
    "    'Sec-Fetch-Dest': 'empty',\n",
    "    'Sec-Fetch-Mode': 'cors',\n",
    "    'Sec-Fetch-Site': 'same-origin',\n",
    "    'User-Agent': 'Mozilla/5.0 (Windows NT 10.0; Win64; x64) AppleWebKit/537.36 (KHTML, like Gecko) Chrome/92.0.4515.131 Safari/537.36',\n",
    "    'X-Requested-With': 'XMLHttpRequest'\n",
    "}"
   ]
  },
  {
   "cell_type": "code",
   "execution_count": 14,
   "metadata": {
    "ExecuteTime": {
     "end_time": "2021-08-18T13:20:18.311083Z",
     "start_time": "2021-08-18T13:20:18.286149Z"
    }
   },
   "outputs": [],
   "source": [
    "date_list = []\n",
    "for yy in range(2012,2022):\n",
    "    for mm in range(1,13):\n",
    "        if len(str(mm)) == 1:\n",
    "            mm_str = '0' + str(mm)\n",
    "            date_list.append(str(yy)+str(mm_str))\n",
    "        else:\n",
    "            date_list.append(str(yy)+str(mm))\n",
    "        \n",
    "        if yy==2021 and mm==7:\n",
    "            break"
   ]
  },
  {
   "cell_type": "code",
   "execution_count": 15,
   "metadata": {
    "ExecuteTime": {
     "end_time": "2021-08-18T13:20:18.326048Z",
     "start_time": "2021-08-18T13:20:18.314072Z"
    }
   },
   "outputs": [
    {
     "name": "stdout",
     "output_type": "stream",
     "text": [
      "201201\n",
      "202107\n"
     ]
    }
   ],
   "source": [
    "print(date_list[0])\n",
    "print(date_list[len(date_list)-1])"
   ]
  },
  {
   "cell_type": "code",
   "execution_count": 16,
   "metadata": {
    "ExecuteTime": {
     "end_time": "2021-08-18T13:20:18.341003Z",
     "start_time": "2021-08-18T13:20:18.330032Z"
    }
   },
   "outputs": [],
   "source": [
    "data = {\n",
    "    'rdata_seq' : '0000000030',\n",
    "    'search_sql' : 'm01',\n",
    "    'search_type' : '02',\n",
    "    'search_start_date' : '202102',\n",
    "    'search_end_date' : '202107',\n",
    "    'search_regn_cls' : '02',\n",
    "    'search_tab' : 'grid',\n",
    "    'search_regn_name' : ''\n",
    "}"
   ]
  },
  {
   "cell_type": "code",
   "execution_count": 17,
   "metadata": {
    "ExecuteTime": {
     "end_time": "2021-08-18T13:31:30.009243Z",
     "start_time": "2021-08-18T13:20:18.347981Z"
    }
   },
   "outputs": [],
   "source": [
    "df_list = []\n",
    "for dd in date_list:\n",
    "    time.sleep(uniform(1,3))\n",
    "    \n",
    "    data['search_start_date'] = dd\n",
    "    data['search_end_date'] = dd\n",
    "\n",
    "    time.sleep(uniform(1,2))\n",
    "\n",
    "    reqq_text = requests.post(urll,headers=headers,data=data).text\n",
    "    tmp_df    = pd.DataFrame(json.loads(reqq_text)['dataList'])\n",
    "\n",
    "    tmp_df['search_start_date'] = dd\n",
    "    tmp_df['search_end_date'] = dd\n",
    "\n",
    "    time.sleep(uniform(1,3))\n",
    "\n",
    "    df_list.append(tmp_df)"
   ]
  },
  {
   "cell_type": "code",
   "execution_count": 18,
   "metadata": {
    "ExecuteTime": {
     "end_time": "2021-08-18T13:31:30.219652Z",
     "start_time": "2021-08-18T13:31:30.012199Z"
    }
   },
   "outputs": [
    {
     "data": {
      "text/html": [
       "<div>\n",
       "<style scoped>\n",
       "    .dataframe tbody tr th:only-of-type {\n",
       "        vertical-align: middle;\n",
       "    }\n",
       "\n",
       "    .dataframe tbody tr th {\n",
       "        vertical-align: top;\n",
       "    }\n",
       "\n",
       "    .dataframe thead th {\n",
       "        text-align: right;\n",
       "    }\n",
       "</style>\n",
       "<table border=\"1\" class=\"dataframe\">\n",
       "  <thead>\n",
       "    <tr style=\"text-align: right;\">\n",
       "      <th></th>\n",
       "      <th>admin_regn1_name</th>\n",
       "      <th>admin_regn2_name</th>\n",
       "      <th>admin_regn1_cd</th>\n",
       "      <th>admin_regn2_cd</th>\n",
       "      <th>tot1</th>\n",
       "      <th>res_date</th>\n",
       "      <th>tot2</th>\n",
       "      <th>search_start_date</th>\n",
       "      <th>search_end_date</th>\n",
       "    </tr>\n",
       "  </thead>\n",
       "  <tbody>\n",
       "    <tr>\n",
       "      <th>0</th>\n",
       "      <td>서울특별시</td>\n",
       "      <td>강남구</td>\n",
       "      <td>11</td>\n",
       "      <td>강남구</td>\n",
       "      <td>8511188</td>\n",
       "      <td>2012-01</td>\n",
       "      <td>128</td>\n",
       "      <td>201201</td>\n",
       "      <td>201201</td>\n",
       "    </tr>\n",
       "    <tr>\n",
       "      <th>1</th>\n",
       "      <td>서울특별시</td>\n",
       "      <td>강동구</td>\n",
       "      <td>11</td>\n",
       "      <td>강동구</td>\n",
       "      <td>6376436</td>\n",
       "      <td>2012-01</td>\n",
       "      <td>123</td>\n",
       "      <td>201201</td>\n",
       "      <td>201201</td>\n",
       "    </tr>\n",
       "    <tr>\n",
       "      <th>2</th>\n",
       "      <td>서울특별시</td>\n",
       "      <td>강북구</td>\n",
       "      <td>11</td>\n",
       "      <td>강북구</td>\n",
       "      <td>3401652</td>\n",
       "      <td>2012-01</td>\n",
       "      <td>63</td>\n",
       "      <td>201201</td>\n",
       "      <td>201201</td>\n",
       "    </tr>\n",
       "    <tr>\n",
       "      <th>3</th>\n",
       "      <td>서울특별시</td>\n",
       "      <td>강서구</td>\n",
       "      <td>11</td>\n",
       "      <td>강서구</td>\n",
       "      <td>3711284</td>\n",
       "      <td>2012-01</td>\n",
       "      <td>169</td>\n",
       "      <td>201201</td>\n",
       "      <td>201201</td>\n",
       "    </tr>\n",
       "    <tr>\n",
       "      <th>4</th>\n",
       "      <td>서울특별시</td>\n",
       "      <td>관악구</td>\n",
       "      <td>11</td>\n",
       "      <td>관악구</td>\n",
       "      <td>4351614</td>\n",
       "      <td>2012-01</td>\n",
       "      <td>81</td>\n",
       "      <td>201201</td>\n",
       "      <td>201201</td>\n",
       "    </tr>\n",
       "    <tr>\n",
       "      <th>...</th>\n",
       "      <td>...</td>\n",
       "      <td>...</td>\n",
       "      <td>...</td>\n",
       "      <td>...</td>\n",
       "      <td>...</td>\n",
       "      <td>...</td>\n",
       "      <td>...</td>\n",
       "      <td>...</td>\n",
       "      <td>...</td>\n",
       "    </tr>\n",
       "    <tr>\n",
       "      <th>28600</th>\n",
       "      <td>경상남도</td>\n",
       "      <td>함안군</td>\n",
       "      <td>48</td>\n",
       "      <td>함안군</td>\n",
       "      <td>1813659</td>\n",
       "      <td>2021-07</td>\n",
       "      <td>47</td>\n",
       "      <td>202107</td>\n",
       "      <td>202107</td>\n",
       "    </tr>\n",
       "    <tr>\n",
       "      <th>28601</th>\n",
       "      <td>경상남도</td>\n",
       "      <td>함양군</td>\n",
       "      <td>48</td>\n",
       "      <td>함양군</td>\n",
       "      <td>1926557</td>\n",
       "      <td>2021-07</td>\n",
       "      <td>9</td>\n",
       "      <td>202107</td>\n",
       "      <td>202107</td>\n",
       "    </tr>\n",
       "    <tr>\n",
       "      <th>28602</th>\n",
       "      <td>경상남도</td>\n",
       "      <td>합천군</td>\n",
       "      <td>48</td>\n",
       "      <td>합천군</td>\n",
       "      <td>3187101</td>\n",
       "      <td>2021-07</td>\n",
       "      <td>17</td>\n",
       "      <td>202107</td>\n",
       "      <td>202107</td>\n",
       "    </tr>\n",
       "    <tr>\n",
       "      <th>28603</th>\n",
       "      <td>제주특별자치도</td>\n",
       "      <td>서귀포시</td>\n",
       "      <td>50</td>\n",
       "      <td>서귀포시</td>\n",
       "      <td>4956775</td>\n",
       "      <td>2021-07</td>\n",
       "      <td>314</td>\n",
       "      <td>202107</td>\n",
       "      <td>202107</td>\n",
       "    </tr>\n",
       "    <tr>\n",
       "      <th>28604</th>\n",
       "      <td>제주특별자치도</td>\n",
       "      <td>제주시</td>\n",
       "      <td>50</td>\n",
       "      <td>제주시</td>\n",
       "      <td>4204038</td>\n",
       "      <td>2021-07</td>\n",
       "      <td>648</td>\n",
       "      <td>202107</td>\n",
       "      <td>202107</td>\n",
       "    </tr>\n",
       "  </tbody>\n",
       "</table>\n",
       "<p>28605 rows × 9 columns</p>\n",
       "</div>"
      ],
      "text/plain": [
       "      admin_regn1_name admin_regn2_name admin_regn1_cd admin_regn2_cd  \\\n",
       "0                서울특별시              강남구             11            강남구   \n",
       "1                서울특별시              강동구             11            강동구   \n",
       "2                서울특별시              강북구             11            강북구   \n",
       "3                서울특별시              강서구             11            강서구   \n",
       "4                서울특별시              관악구             11            관악구   \n",
       "...                ...              ...            ...            ...   \n",
       "28600             경상남도              함안군             48            함안군   \n",
       "28601             경상남도              함양군             48            함양군   \n",
       "28602             경상남도              합천군             48            합천군   \n",
       "28603          제주특별자치도             서귀포시             50           서귀포시   \n",
       "28604          제주특별자치도              제주시             50            제주시   \n",
       "\n",
       "          tot1 res_date  tot2 search_start_date search_end_date  \n",
       "0      8511188  2012-01   128            201201          201201  \n",
       "1      6376436  2012-01   123            201201          201201  \n",
       "2      3401652  2012-01    63            201201          201201  \n",
       "3      3711284  2012-01   169            201201          201201  \n",
       "4      4351614  2012-01    81            201201          201201  \n",
       "...        ...      ...   ...               ...             ...  \n",
       "28600  1813659  2021-07    47            202107          202107  \n",
       "28601  1926557  2021-07     9            202107          202107  \n",
       "28602  3187101  2021-07    17            202107          202107  \n",
       "28603  4956775  2021-07   314            202107          202107  \n",
       "28604  4204038  2021-07   648            202107          202107  \n",
       "\n",
       "[28605 rows x 9 columns]"
      ]
     },
     "execution_count": 18,
     "metadata": {},
     "output_type": "execute_result"
    }
   ],
   "source": [
    "df_bind = pd.concat(df_list).reset_index(drop=True)\n",
    "df_bind"
   ]
  },
  {
   "cell_type": "code",
   "execution_count": 19,
   "metadata": {
    "ExecuteTime": {
     "end_time": "2021-08-18T13:31:30.385070Z",
     "start_time": "2021-08-18T13:31:30.223634Z"
    }
   },
   "outputs": [],
   "source": [
    "df_bind.to_csv('C:/Users/rsh15/Google Drive/crawler_data/regist_trade_avg_price.csv',index=False,encoding='UTF-8-sig')"
   ]
  }
 ],
 "metadata": {
  "kernelspec": {
   "display_name": "simon_env",
   "language": "python",
   "name": "simon_env"
  },
  "language_info": {
   "codemirror_mode": {
    "name": "ipython",
    "version": 3
   },
   "file_extension": ".py",
   "mimetype": "text/x-python",
   "name": "python",
   "nbconvert_exporter": "python",
   "pygments_lexer": "ipython3",
   "version": "3.8.11"
  },
  "toc": {
   "base_numbering": 1,
   "nav_menu": {},
   "number_sections": true,
   "sideBar": true,
   "skip_h1_title": true,
   "title_cell": "Table of Contents",
   "title_sidebar": "Contents",
   "toc_cell": false,
   "toc_position": {},
   "toc_section_display": true,
   "toc_window_display": false
  },
  "varInspector": {
   "cols": {
    "lenName": 16,
    "lenType": 16,
    "lenVar": 40
   },
   "kernels_config": {
    "python": {
     "delete_cmd_postfix": "",
     "delete_cmd_prefix": "del ",
     "library": "var_list.py",
     "varRefreshCmd": "print(var_dic_list())"
    },
    "r": {
     "delete_cmd_postfix": ") ",
     "delete_cmd_prefix": "rm(",
     "library": "var_list.r",
     "varRefreshCmd": "cat(var_dic_list()) "
    }
   },
   "types_to_exclude": [
    "module",
    "function",
    "builtin_function_or_method",
    "instance",
    "_Feature"
   ],
   "window_display": false
  }
 },
 "nbformat": 4,
 "nbformat_minor": 4
}
