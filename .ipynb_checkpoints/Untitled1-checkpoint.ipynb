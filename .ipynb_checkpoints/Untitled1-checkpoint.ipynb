{
 "cells": [
  {
   "cell_type": "code",
   "execution_count": 22,
   "id": "058f1ca9",
   "metadata": {
    "ExecuteTime": {
     "end_time": "2021-07-07T14:11:56.830588Z",
     "start_time": "2021-07-07T14:11:56.820602Z"
    }
   },
   "outputs": [],
   "source": [
    "import pandas as pd\n",
    "from selenium import webdriver\n",
    "from bs4 import BeautifulSoup\n",
    "from selenium.webdriver.common.alert import Alert\n",
    "import re\n",
    "from selenium.webdriver.support.ui import Select\n",
    "from time import sleep"
   ]
  },
  {
   "cell_type": "code",
   "execution_count": 23,
   "id": "3a9f687b",
   "metadata": {
    "ExecuteTime": {
     "end_time": "2021-07-07T14:11:56.845587Z",
     "start_time": "2021-07-07T14:11:56.834584Z"
    }
   },
   "outputs": [],
   "source": [
    "dir_for_shinhan = 'C:/Users/shic/Desktop/shinhan_simon/chromedriver/chromedriver.exe'\n",
    "dir_for_seunghun = 'C:/Users/rsh15/Desktop/seunghuni/selenium/chromedriver.exe'"
   ]
  },
  {
   "cell_type": "code",
   "execution_count": 24,
   "id": "35587c8f",
   "metadata": {
    "ExecuteTime": {
     "end_time": "2021-07-07T14:11:58.675446Z",
     "start_time": "2021-07-07T14:11:56.849525Z"
    }
   },
   "outputs": [],
   "source": [
    "driver = webdriver.Chrome(dir_for_shinhan)\n",
    "driver.get(url = 'http://www.courtauction.go.kr/RealUtilMaeTong.laf')"
   ]
  },
  {
   "cell_type": "code",
   "execution_count": 25,
   "id": "a148bb67",
   "metadata": {
    "ExecuteTime": {
     "end_time": "2021-07-07T14:11:58.750244Z",
     "start_time": "2021-07-07T14:11:58.680433Z"
    }
   },
   "outputs": [],
   "source": [
    "# 소재지 버튼 찾아서 클릭\n",
    "driver.find_element_by_id('idBubwLocGubun2').click()"
   ]
  },
  {
   "cell_type": "code",
   "execution_count": 26,
   "id": "648813d9",
   "metadata": {
    "ExecuteTime": {
     "end_time": "2021-07-07T14:11:58.810095Z",
     "start_time": "2021-07-07T14:11:58.752240Z"
    }
   },
   "outputs": [
    {
     "data": {
      "text/plain": [
       "['서울특별시',\n",
       " '부산광역시',\n",
       " '대구광역시',\n",
       " '인천광역시',\n",
       " '광주광역시',\n",
       " '대전광역시',\n",
       " '울산광역시',\n",
       " '세종특별자치시',\n",
       " '경기도',\n",
       " '강원도',\n",
       " '충청북도',\n",
       " '충청남도',\n",
       " '전라북도',\n",
       " '전라남도',\n",
       " '경상북도',\n",
       " '경상남도',\n",
       " '제주특별자치도']"
      ]
     },
     "execution_count": 26,
     "metadata": {},
     "output_type": "execute_result"
    }
   ],
   "source": [
    "soup = BeautifulSoup(driver.page_source,'html.parser')\n",
    "big_regions = soup.find('select',{'id':'idSidoCode'}).find_all('option',{'value':re.compile('\\d')})\n",
    "big_regions = [k.text for k in big_regions]\n",
    "big_regions"
   ]
  },
  {
   "cell_type": "code",
   "execution_count": 27,
   "id": "d08ced6f",
   "metadata": {
    "ExecuteTime": {
     "end_time": "2021-07-07T14:11:58.914806Z",
     "start_time": "2021-07-07T14:11:58.812080Z"
    }
   },
   "outputs": [],
   "source": [
    "select1= driver.find_element_by_id('idSidoCode')\n",
    "select1.send_keys(big_regions[8]) # 경기도"
   ]
  },
  {
   "cell_type": "code",
   "execution_count": 28,
   "id": "430685e3",
   "metadata": {
    "ExecuteTime": {
     "end_time": "2021-07-07T14:11:58.989640Z",
     "start_time": "2021-07-07T14:11:58.917799Z"
    }
   },
   "outputs": [
    {
     "data": {
      "text/plain": [
       "['가평군',\n",
       " '고양시',\n",
       " '고양시 덕양구',\n",
       " '고양시 일산구',\n",
       " '고양시 일산동구',\n",
       " '고양시 일산서구',\n",
       " '과천시',\n",
       " '광명시',\n",
       " '광주시',\n",
       " '구리시',\n",
       " '군포시',\n",
       " '김포시',\n",
       " '남양주시',\n",
       " '동두천시',\n",
       " '부천시',\n",
       " '부천시 남구',\n",
       " '부천시 소사구',\n",
       " '부천시 오정구',\n",
       " '부천시 원미구',\n",
       " '부천시 중구',\n",
       " '성남시',\n",
       " '성남시 분당구',\n",
       " '성남시 수정구',\n",
       " '성남시 중원구',\n",
       " '수원시',\n",
       " '수원시 권선구',\n",
       " '수원시 영통구',\n",
       " '수원시 장안구',\n",
       " '수원시 팔달구',\n",
       " '시흥시',\n",
       " '안산시',\n",
       " '안산시 단원구',\n",
       " '안산시 상록구',\n",
       " '안성군',\n",
       " '안성시',\n",
       " '안양시',\n",
       " '안양시 동안구',\n",
       " '안양시 만안구',\n",
       " '양주시',\n",
       " '양평군',\n",
       " '여주군',\n",
       " '여주시',\n",
       " '연천군',\n",
       " '오산시',\n",
       " '용인시',\n",
       " '용인시 기흥구',\n",
       " '용인시 수지구',\n",
       " '용인시 처인구',\n",
       " '의왕시',\n",
       " '의정부시',\n",
       " '이천시',\n",
       " '파주시',\n",
       " '파주시',\n",
       " '평택군',\n",
       " '평택시',\n",
       " '포천시',\n",
       " '하남시',\n",
       " '화성시']"
      ]
     },
     "execution_count": 28,
     "metadata": {},
     "output_type": "execute_result"
    }
   ],
   "source": [
    "soup = BeautifulSoup(driver.page_source,'html.parser')\n",
    "small_regions = soup.find('select',{'id':'idSiguCode'}).find_all('option',{'value':re.compile('\\d')})\n",
    "small_regions = [k.text.replace('\\n','') for k in small_regions]\n",
    "small_regions"
   ]
  },
  {
   "cell_type": "code",
   "execution_count": 29,
   "id": "00198ef3",
   "metadata": {
    "ExecuteTime": {
     "end_time": "2021-07-07T14:11:59.064406Z",
     "start_time": "2021-07-07T14:11:58.993594Z"
    }
   },
   "outputs": [],
   "source": [
    "select2 = driver.find_element_by_id('idSiguCode')\n",
    "select2.send_keys(small_regions[30]) # 안산시"
   ]
  },
  {
   "cell_type": "code",
   "execution_count": 30,
   "id": "ecdbe7d6",
   "metadata": {
    "ExecuteTime": {
     "end_time": "2021-07-07T14:11:59.441174Z",
     "start_time": "2021-07-07T14:11:59.069393Z"
    }
   },
   "outputs": [],
   "source": [
    "driver.find_element_by_class_name('Ltbl_srch_btn').click()"
   ]
  },
  {
   "cell_type": "code",
   "execution_count": 31,
   "id": "fc4b73b7",
   "metadata": {
    "ExecuteTime": {
     "end_time": "2021-07-07T14:12:02.466453Z",
     "start_time": "2021-07-07T14:11:59.444160Z"
    }
   },
   "outputs": [],
   "source": [
    "sleep(3)"
   ]
  },
  {
   "cell_type": "code",
   "execution_count": 32,
   "id": "67c9aa09",
   "metadata": {
    "ExecuteTime": {
     "end_time": "2021-07-07T14:12:02.556213Z",
     "start_time": "2021-07-07T14:12:02.469445Z"
    }
   },
   "outputs": [],
   "source": [
    "soup = BeautifulSoup(driver.page_source,'html.parser')\n",
    "parse_table = soup.find_all('table',class_='Ltbl_list')"
   ]
  },
  {
   "cell_type": "code",
   "execution_count": 33,
   "id": "64bbb0b6",
   "metadata": {
    "ExecuteTime": {
     "end_time": "2021-07-07T14:12:02.571174Z",
     "start_time": "2021-07-07T14:12:02.559206Z"
    }
   },
   "outputs": [
    {
     "data": {
      "text/plain": [
       "7"
      ]
     },
     "execution_count": 33,
     "metadata": {},
     "output_type": "execute_result"
    }
   ],
   "source": [
    "len(parse_table[0])"
   ]
  },
  {
   "cell_type": "code",
   "execution_count": 34,
   "id": "09004f56",
   "metadata": {
    "ExecuteTime": {
     "end_time": "2021-07-07T14:12:02.645987Z",
     "start_time": "2021-07-07T14:12:02.574166Z"
    }
   },
   "outputs": [
    {
     "data": {
      "text/html": [
       "<div>\n",
       "<style scoped>\n",
       "    .dataframe tbody tr th:only-of-type {\n",
       "        vertical-align: middle;\n",
       "    }\n",
       "\n",
       "    .dataframe tbody tr th {\n",
       "        vertical-align: top;\n",
       "    }\n",
       "\n",
       "    .dataframe thead th {\n",
       "        text-align: right;\n",
       "    }\n",
       "</style>\n",
       "<table border=\"1\" class=\"dataframe\">\n",
       "  <thead>\n",
       "    <tr style=\"text-align: right;\">\n",
       "      <th></th>\n",
       "      <th>물건용도</th>\n",
       "      <th>물건용도.1</th>\n",
       "      <th>경매건수</th>\n",
       "      <th>매각건수</th>\n",
       "      <th>감정가(단위:원)</th>\n",
       "      <th>매각가(단위:원)</th>\n",
       "      <th>매각율</th>\n",
       "      <th>매각가율</th>\n",
       "    </tr>\n",
       "  </thead>\n",
       "  <tbody>\n",
       "    <tr>\n",
       "      <th>0</th>\n",
       "      <td>아파트</td>\n",
       "      <td>아파트</td>\n",
       "      <td>0</td>\n",
       "      <td>0</td>\n",
       "      <td>0</td>\n",
       "      <td>0</td>\n",
       "      <td>0%</td>\n",
       "      <td>0%</td>\n",
       "    </tr>\n",
       "    <tr>\n",
       "      <th>1</th>\n",
       "      <td>단독주택,다가구주택</td>\n",
       "      <td>단독주택</td>\n",
       "      <td>0</td>\n",
       "      <td>0</td>\n",
       "      <td>0</td>\n",
       "      <td>0</td>\n",
       "      <td>0%</td>\n",
       "      <td>0%</td>\n",
       "    </tr>\n",
       "    <tr>\n",
       "      <th>2</th>\n",
       "      <td>단독주택,다가구주택</td>\n",
       "      <td>다가구주택</td>\n",
       "      <td>0</td>\n",
       "      <td>0</td>\n",
       "      <td>0</td>\n",
       "      <td>0</td>\n",
       "      <td>0%</td>\n",
       "      <td>0%</td>\n",
       "    </tr>\n",
       "    <tr>\n",
       "      <th>3</th>\n",
       "      <td>단독주택,다가구주택</td>\n",
       "      <td>겸용</td>\n",
       "      <td>0</td>\n",
       "      <td>0</td>\n",
       "      <td>0</td>\n",
       "      <td>0</td>\n",
       "      <td>0%</td>\n",
       "      <td>0%</td>\n",
       "    </tr>\n",
       "    <tr>\n",
       "      <th>4</th>\n",
       "      <td>단독주택,다가구주택</td>\n",
       "      <td>소계</td>\n",
       "      <td>0</td>\n",
       "      <td>0</td>\n",
       "      <td>0</td>\n",
       "      <td>0</td>\n",
       "      <td>0%</td>\n",
       "      <td>0%</td>\n",
       "    </tr>\n",
       "    <tr>\n",
       "      <th>5</th>\n",
       "      <td>연립주택,다세대</td>\n",
       "      <td>연립주택,다세대</td>\n",
       "      <td>0</td>\n",
       "      <td>0</td>\n",
       "      <td>0</td>\n",
       "      <td>0</td>\n",
       "      <td>0%</td>\n",
       "      <td>0%</td>\n",
       "    </tr>\n",
       "    <tr>\n",
       "      <th>6</th>\n",
       "      <td>대지,임야,전답</td>\n",
       "      <td>대지</td>\n",
       "      <td>0</td>\n",
       "      <td>0</td>\n",
       "      <td>0</td>\n",
       "      <td>0</td>\n",
       "      <td>0%</td>\n",
       "      <td>0%</td>\n",
       "    </tr>\n",
       "    <tr>\n",
       "      <th>7</th>\n",
       "      <td>대지,임야,전답</td>\n",
       "      <td>임야</td>\n",
       "      <td>0</td>\n",
       "      <td>0</td>\n",
       "      <td>0</td>\n",
       "      <td>0</td>\n",
       "      <td>0%</td>\n",
       "      <td>0%</td>\n",
       "    </tr>\n",
       "    <tr>\n",
       "      <th>8</th>\n",
       "      <td>대지,임야,전답</td>\n",
       "      <td>전답</td>\n",
       "      <td>0</td>\n",
       "      <td>0</td>\n",
       "      <td>0</td>\n",
       "      <td>0</td>\n",
       "      <td>0%</td>\n",
       "      <td>0%</td>\n",
       "    </tr>\n",
       "    <tr>\n",
       "      <th>9</th>\n",
       "      <td>대지,임야,전답</td>\n",
       "      <td>겸용</td>\n",
       "      <td>0</td>\n",
       "      <td>0</td>\n",
       "      <td>0</td>\n",
       "      <td>0</td>\n",
       "      <td>0%</td>\n",
       "      <td>0%</td>\n",
       "    </tr>\n",
       "    <tr>\n",
       "      <th>10</th>\n",
       "      <td>대지,임야,전답</td>\n",
       "      <td>소계</td>\n",
       "      <td>0</td>\n",
       "      <td>0</td>\n",
       "      <td>0</td>\n",
       "      <td>0</td>\n",
       "      <td>0%</td>\n",
       "      <td>0%</td>\n",
       "    </tr>\n",
       "    <tr>\n",
       "      <th>11</th>\n",
       "      <td>자동차,중기</td>\n",
       "      <td>자동차,중기</td>\n",
       "      <td>0</td>\n",
       "      <td>0</td>\n",
       "      <td>0</td>\n",
       "      <td>0</td>\n",
       "      <td>0%</td>\n",
       "      <td>0%</td>\n",
       "    </tr>\n",
       "    <tr>\n",
       "      <th>12</th>\n",
       "      <td>상가,오피스텔,근린시설</td>\n",
       "      <td>상가</td>\n",
       "      <td>0</td>\n",
       "      <td>0</td>\n",
       "      <td>0</td>\n",
       "      <td>0</td>\n",
       "      <td>0%</td>\n",
       "      <td>0%</td>\n",
       "    </tr>\n",
       "    <tr>\n",
       "      <th>13</th>\n",
       "      <td>상가,오피스텔,근린시설</td>\n",
       "      <td>오피스텔</td>\n",
       "      <td>0</td>\n",
       "      <td>0</td>\n",
       "      <td>0</td>\n",
       "      <td>0</td>\n",
       "      <td>0%</td>\n",
       "      <td>0%</td>\n",
       "    </tr>\n",
       "    <tr>\n",
       "      <th>14</th>\n",
       "      <td>상가,오피스텔,근린시설</td>\n",
       "      <td>근린시설</td>\n",
       "      <td>0</td>\n",
       "      <td>0</td>\n",
       "      <td>0</td>\n",
       "      <td>0</td>\n",
       "      <td>0%</td>\n",
       "      <td>0%</td>\n",
       "    </tr>\n",
       "    <tr>\n",
       "      <th>15</th>\n",
       "      <td>상가,오피스텔,근린시설</td>\n",
       "      <td>겸용</td>\n",
       "      <td>0</td>\n",
       "      <td>0</td>\n",
       "      <td>0</td>\n",
       "      <td>0</td>\n",
       "      <td>0%</td>\n",
       "      <td>0%</td>\n",
       "    </tr>\n",
       "    <tr>\n",
       "      <th>16</th>\n",
       "      <td>상가,오피스텔,근린시설</td>\n",
       "      <td>소계</td>\n",
       "      <td>0</td>\n",
       "      <td>0</td>\n",
       "      <td>0</td>\n",
       "      <td>0</td>\n",
       "      <td>0%</td>\n",
       "      <td>0%</td>\n",
       "    </tr>\n",
       "    <tr>\n",
       "      <th>17</th>\n",
       "      <td>기타</td>\n",
       "      <td>기타</td>\n",
       "      <td>0</td>\n",
       "      <td>0</td>\n",
       "      <td>0</td>\n",
       "      <td>0</td>\n",
       "      <td>0%</td>\n",
       "      <td>0%</td>\n",
       "    </tr>\n",
       "    <tr>\n",
       "      <th>18</th>\n",
       "      <td>전체</td>\n",
       "      <td>전체</td>\n",
       "      <td>0</td>\n",
       "      <td>0</td>\n",
       "      <td>0</td>\n",
       "      <td>0</td>\n",
       "      <td>0%</td>\n",
       "      <td>0%</td>\n",
       "    </tr>\n",
       "  </tbody>\n",
       "</table>\n",
       "</div>"
      ],
      "text/plain": [
       "            물건용도    물건용도.1  경매건수  매각건수  감정가(단위:원)  매각가(단위:원) 매각율 매각가율\n",
       "0            아파트       아파트     0     0          0          0  0%   0%\n",
       "1     단독주택,다가구주택      단독주택     0     0          0          0  0%   0%\n",
       "2     단독주택,다가구주택     다가구주택     0     0          0          0  0%   0%\n",
       "3     단독주택,다가구주택        겸용     0     0          0          0  0%   0%\n",
       "4     단독주택,다가구주택        소계     0     0          0          0  0%   0%\n",
       "5       연립주택,다세대  연립주택,다세대     0     0          0          0  0%   0%\n",
       "6       대지,임야,전답        대지     0     0          0          0  0%   0%\n",
       "7       대지,임야,전답        임야     0     0          0          0  0%   0%\n",
       "8       대지,임야,전답        전답     0     0          0          0  0%   0%\n",
       "9       대지,임야,전답        겸용     0     0          0          0  0%   0%\n",
       "10      대지,임야,전답        소계     0     0          0          0  0%   0%\n",
       "11        자동차,중기    자동차,중기     0     0          0          0  0%   0%\n",
       "12  상가,오피스텔,근린시설        상가     0     0          0          0  0%   0%\n",
       "13  상가,오피스텔,근린시설      오피스텔     0     0          0          0  0%   0%\n",
       "14  상가,오피스텔,근린시설      근린시설     0     0          0          0  0%   0%\n",
       "15  상가,오피스텔,근린시설        겸용     0     0          0          0  0%   0%\n",
       "16  상가,오피스텔,근린시설        소계     0     0          0          0  0%   0%\n",
       "17            기타        기타     0     0          0          0  0%   0%\n",
       "18            전체        전체     0     0          0          0  0%   0%"
      ]
     },
     "execution_count": 34,
     "metadata": {},
     "output_type": "execute_result"
    }
   ],
   "source": [
    "pd.read_html(driver.page_source)[0]"
   ]
  },
  {
   "cell_type": "code",
   "execution_count": null,
   "id": "6c93228a",
   "metadata": {},
   "outputs": [],
   "source": [
    "idSelStartYear\n",
    "idSelStartMnth\n",
    "idSelEndYear\n",
    "idSelEndMnth"
   ]
  },
  {
   "cell_type": "code",
   "execution_count": 36,
   "id": "015610d3",
   "metadata": {
    "ExecuteTime": {
     "end_time": "2021-07-07T14:13:31.655145Z",
     "start_time": "2021-07-07T14:13:31.539871Z"
    }
   },
   "outputs": [],
   "source": [
    "# start-end 년/월은 동일하게\n",
    "select3 = driver.find_element_by_id('idSelStartYear')\n",
    "select4 = driver.find_element_by_id('idSelEndYear')\n",
    "select3.send_keys('2020')\n",
    "select4.send_keys('2020')"
   ]
  },
  {
   "cell_type": "code",
   "execution_count": 55,
   "id": "26e695e7",
   "metadata": {
    "ExecuteTime": {
     "end_time": "2021-07-07T14:25:29.658946Z",
     "start_time": "2021-07-07T14:25:29.645981Z"
    }
   },
   "outputs": [],
   "source": [
    "tmpp = []\n",
    "for year in range(2010,2022):\n",
    "    for month in range(1,13):\n",
    "        if year==2021 and month > 6:\n",
    "            break\n",
    "        tmpp.append(str(year)+str(month))"
   ]
  },
  {
   "cell_type": "code",
   "execution_count": 54,
   "id": "0d90f1cf",
   "metadata": {
    "ExecuteTime": {
     "end_time": "2021-07-07T14:23:08.989977Z",
     "start_time": "2021-07-07T14:23:08.974039Z"
    }
   },
   "outputs": [
    {
     "data": {
      "text/plain": [
       "'2021-7'"
      ]
     },
     "execution_count": 54,
     "metadata": {},
     "output_type": "execute_result"
    }
   ],
   "source": [
    "str(year) + '-' + str(month)"
   ]
  },
  {
   "cell_type": "code",
   "execution_count": 56,
   "id": "ae1623e9",
   "metadata": {
    "ExecuteTime": {
     "end_time": "2021-07-07T14:25:33.784928Z",
     "start_time": "2021-07-07T14:25:33.771952Z"
    }
   },
   "outputs": [
    {
     "data": {
      "text/plain": [
       "138"
      ]
     },
     "execution_count": 56,
     "metadata": {},
     "output_type": "execute_result"
    }
   ],
   "source": [
    "len(tmpp)"
   ]
  },
  {
   "cell_type": "code",
   "execution_count": null,
   "id": "0c939f0d",
   "metadata": {},
   "outputs": [],
   "source": []
  }
 ],
 "metadata": {
  "kernelspec": {
   "display_name": "simon_env",
   "language": "python",
   "name": "simon_env"
  },
  "language_info": {
   "codemirror_mode": {
    "name": "ipython",
    "version": 3
   },
   "file_extension": ".py",
   "mimetype": "text/x-python",
   "name": "python",
   "nbconvert_exporter": "python",
   "pygments_lexer": "ipython3",
   "version": "3.7.10"
  },
  "toc": {
   "base_numbering": 1,
   "nav_menu": {},
   "number_sections": true,
   "sideBar": true,
   "skip_h1_title": true,
   "title_cell": "Table of Contents",
   "title_sidebar": "Contents",
   "toc_cell": false,
   "toc_position": {},
   "toc_section_display": true,
   "toc_window_display": false
  },
  "varInspector": {
   "cols": {
    "lenName": 16,
    "lenType": 16,
    "lenVar": 40
   },
   "kernels_config": {
    "python": {
     "delete_cmd_postfix": "",
     "delete_cmd_prefix": "del ",
     "library": "var_list.py",
     "varRefreshCmd": "print(var_dic_list())"
    },
    "r": {
     "delete_cmd_postfix": ") ",
     "delete_cmd_prefix": "rm(",
     "library": "var_list.r",
     "varRefreshCmd": "cat(var_dic_list()) "
    }
   },
   "types_to_exclude": [
    "module",
    "function",
    "builtin_function_or_method",
    "instance",
    "_Feature"
   ],
   "window_display": false
  }
 },
 "nbformat": 4,
 "nbformat_minor": 5
}
