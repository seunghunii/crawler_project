{
 "cells": [
  {
   "cell_type": "code",
   "execution_count": 12,
   "metadata": {
    "ExecuteTime": {
     "end_time": "2021-07-07T12:46:15.716756Z",
     "start_time": "2021-07-07T12:46:15.699801Z"
    }
   },
   "outputs": [],
   "source": [
    "import pandas as pd\n",
    "from selenium import webdriver\n",
    "from bs4 import BeautifulSoup\n",
    "from selenium.webdriver.common.alert import Alert\n",
    "import re\n",
    "from selenium.webdriver.support.ui import Select\n",
    "from time import sleep"
   ]
  },
  {
   "cell_type": "code",
   "execution_count": 3,
   "metadata": {
    "ExecuteTime": {
     "end_time": "2021-07-07T12:42:52.947931Z",
     "start_time": "2021-07-07T12:42:52.939987Z"
    }
   },
   "outputs": [],
   "source": [
    "dir_for_shinhan = 'C:/Users/shic/Desktop/shinhan_simon/chromedriver/chromedriver.exe'\n",
    "dir_for_seunghun = 'C:/Users/rsh15/Desktop/seunghuni/selenium/chromedriver.exe'"
   ]
  },
  {
   "cell_type": "code",
   "execution_count": 4,
   "metadata": {
    "ExecuteTime": {
     "end_time": "2021-07-07T12:45:25.828035Z",
     "start_time": "2021-07-07T12:45:23.992519Z"
    }
   },
   "outputs": [],
   "source": [
    "driver = webdriver.Chrome(dir_for_seunghun)\n",
    "driver.get(url = 'http://www.courtauction.go.kr/RealUtilMaeTong.laf')"
   ]
  },
  {
   "cell_type": "code",
   "execution_count": 5,
   "metadata": {
    "ExecuteTime": {
     "end_time": "2021-07-07T12:45:31.777371Z",
     "start_time": "2021-07-07T12:45:31.688898Z"
    }
   },
   "outputs": [],
   "source": [
    "# 소재지 버튼 찾아서 클릭\n",
    "driver.find_element_by_id('idBubwLocGubun2').click()"
   ]
  },
  {
   "cell_type": "code",
   "execution_count": 6,
   "metadata": {
    "ExecuteTime": {
     "end_time": "2021-07-07T12:45:34.245622Z",
     "start_time": "2021-07-07T12:45:34.171789Z"
    }
   },
   "outputs": [
    {
     "data": {
      "text/plain": [
       "['서울특별시',\n",
       " '부산광역시',\n",
       " '대구광역시',\n",
       " '인천광역시',\n",
       " '광주광역시',\n",
       " '대전광역시',\n",
       " '울산광역시',\n",
       " '세종특별자치시',\n",
       " '경기도',\n",
       " '강원도',\n",
       " '충청북도',\n",
       " '충청남도',\n",
       " '전라북도',\n",
       " '전라남도',\n",
       " '경상북도',\n",
       " '경상남도',\n",
       " '제주특별자치도']"
      ]
     },
     "execution_count": 6,
     "metadata": {},
     "output_type": "execute_result"
    }
   ],
   "source": [
    "soup = BeautifulSoup(driver.page_source,'html.parser')\n",
    "big_regions = soup.find('select',{'id':'idSidoCode'}).find_all('option',{'value':re.compile('\\d')})\n",
    "big_regions = [k.text for k in big_regions]\n",
    "big_regions"
   ]
  },
  {
   "cell_type": "code",
   "execution_count": 7,
   "metadata": {
    "ExecuteTime": {
     "end_time": "2021-07-07T12:45:35.599534Z",
     "start_time": "2021-07-07T12:45:35.466256Z"
    }
   },
   "outputs": [],
   "source": [
    "select1= driver.find_element_by_id('idSidoCode')\n",
    "select1.send_keys(big_regions[8]) # 경기도"
   ]
  },
  {
   "cell_type": "code",
   "execution_count": 8,
   "metadata": {
    "ExecuteTime": {
     "end_time": "2021-07-07T12:45:37.265668Z",
     "start_time": "2021-07-07T12:45:37.194823Z"
    }
   },
   "outputs": [
    {
     "data": {
      "text/plain": [
       "['가평군',\n",
       " '고양시',\n",
       " '고양시 덕양구',\n",
       " '고양시 일산구',\n",
       " '고양시 일산동구',\n",
       " '고양시 일산서구',\n",
       " '과천시',\n",
       " '광명시',\n",
       " '광주시',\n",
       " '구리시',\n",
       " '군포시',\n",
       " '김포시',\n",
       " '남양주시',\n",
       " '동두천시',\n",
       " '부천시',\n",
       " '부천시 남구',\n",
       " '부천시 소사구',\n",
       " '부천시 오정구',\n",
       " '부천시 원미구',\n",
       " '부천시 중구',\n",
       " '성남시',\n",
       " '성남시 분당구',\n",
       " '성남시 수정구',\n",
       " '성남시 중원구',\n",
       " '수원시',\n",
       " '수원시 권선구',\n",
       " '수원시 영통구',\n",
       " '수원시 장안구',\n",
       " '수원시 팔달구',\n",
       " '시흥시',\n",
       " '안산시',\n",
       " '안산시 단원구',\n",
       " '안산시 상록구',\n",
       " '안성군',\n",
       " '안성시',\n",
       " '안양시',\n",
       " '안양시 동안구',\n",
       " '안양시 만안구',\n",
       " '양주시',\n",
       " '양평군',\n",
       " '여주군',\n",
       " '여주시',\n",
       " '연천군',\n",
       " '오산시',\n",
       " '용인시',\n",
       " '용인시 기흥구',\n",
       " '용인시 수지구',\n",
       " '용인시 처인구',\n",
       " '의왕시',\n",
       " '의정부시',\n",
       " '이천시',\n",
       " '파주시',\n",
       " '파주시',\n",
       " '평택군',\n",
       " '평택시',\n",
       " '포천시',\n",
       " '하남시',\n",
       " '화성시']"
      ]
     },
     "execution_count": 8,
     "metadata": {},
     "output_type": "execute_result"
    }
   ],
   "source": [
    "soup = BeautifulSoup(driver.page_source,'html.parser')\n",
    "small_regions = soup.find('select',{'id':'idSiguCode'}).find_all('option',{'value':re.compile('\\d')})\n",
    "small_regions = [k.text.replace('\\n','') for k in small_regions]\n",
    "small_regions"
   ]
  },
  {
   "cell_type": "code",
   "execution_count": 10,
   "metadata": {
    "ExecuteTime": {
     "end_time": "2021-07-07T12:46:00.323741Z",
     "start_time": "2021-07-07T12:46:00.265145Z"
    }
   },
   "outputs": [],
   "source": [
    "select2 = driver.find_element_by_id('idSiguCode')\n",
    "select2.send_keys(small_regions[30]) # 안산시"
   ]
  },
  {
   "cell_type": "code",
   "execution_count": 11,
   "metadata": {
    "ExecuteTime": {
     "end_time": "2021-07-07T12:46:02.638758Z",
     "start_time": "2021-07-07T12:46:01.322651Z"
    }
   },
   "outputs": [],
   "source": [
    "driver.find_element_by_class_name('Ltbl_srch_btn').click()"
   ]
  },
  {
   "cell_type": "code",
   "execution_count": 13,
   "metadata": {
    "ExecuteTime": {
     "end_time": "2021-07-07T12:46:25.531858Z",
     "start_time": "2021-07-07T12:46:22.506279Z"
    }
   },
   "outputs": [],
   "source": [
    "sleep(3)"
   ]
  },
  {
   "cell_type": "code",
   "execution_count": 14,
   "metadata": {
    "ExecuteTime": {
     "end_time": "2021-07-07T12:46:29.964033Z",
     "start_time": "2021-07-07T12:46:29.858766Z"
    }
   },
   "outputs": [],
   "source": [
    "soup = BeautifulSoup(driver.page_source,'html.parser')\n",
    "parse_table = soup.find_all('table',class_='Ltbl_list')"
   ]
  },
  {
   "cell_type": "code",
   "execution_count": 15,
   "metadata": {
    "ExecuteTime": {
     "end_time": "2021-07-07T12:46:30.761819Z",
     "start_time": "2021-07-07T12:46:30.744868Z"
    }
   },
   "outputs": [
    {
     "data": {
      "text/plain": [
       "7"
      ]
     },
     "execution_count": 15,
     "metadata": {},
     "output_type": "execute_result"
    }
   ],
   "source": [
    "len(parse_table[0])"
   ]
  },
  {
   "cell_type": "code",
   "execution_count": 21,
   "metadata": {
    "ExecuteTime": {
     "end_time": "2021-07-07T12:52:15.342112Z",
     "start_time": "2021-07-07T12:52:15.282941Z"
    }
   },
   "outputs": [
    {
     "data": {
      "text/html": [
       "<div>\n",
       "<style scoped>\n",
       "    .dataframe tbody tr th:only-of-type {\n",
       "        vertical-align: middle;\n",
       "    }\n",
       "\n",
       "    .dataframe tbody tr th {\n",
       "        vertical-align: top;\n",
       "    }\n",
       "\n",
       "    .dataframe thead th {\n",
       "        text-align: right;\n",
       "    }\n",
       "</style>\n",
       "<table border=\"1\" class=\"dataframe\">\n",
       "  <thead>\n",
       "    <tr style=\"text-align: right;\">\n",
       "      <th></th>\n",
       "      <th>물건용도</th>\n",
       "      <th>물건용도.1</th>\n",
       "      <th>경매건수</th>\n",
       "      <th>매각건수</th>\n",
       "      <th>감정가(단위:원)</th>\n",
       "      <th>매각가(단위:원)</th>\n",
       "      <th>매각율</th>\n",
       "      <th>매각가율</th>\n",
       "    </tr>\n",
       "  </thead>\n",
       "  <tbody>\n",
       "    <tr>\n",
       "      <th>0</th>\n",
       "      <td>아파트</td>\n",
       "      <td>아파트</td>\n",
       "      <td>91</td>\n",
       "      <td>59</td>\n",
       "      <td>18047000000</td>\n",
       "      <td>19108331407</td>\n",
       "      <td>64.8%</td>\n",
       "      <td>105.9%</td>\n",
       "    </tr>\n",
       "    <tr>\n",
       "      <th>1</th>\n",
       "      <td>단독주택,다가구주택</td>\n",
       "      <td>단독주택</td>\n",
       "      <td>10</td>\n",
       "      <td>4</td>\n",
       "      <td>1877908180</td>\n",
       "      <td>1337849000</td>\n",
       "      <td>40%</td>\n",
       "      <td>71.2%</td>\n",
       "    </tr>\n",
       "    <tr>\n",
       "      <th>2</th>\n",
       "      <td>단독주택,다가구주택</td>\n",
       "      <td>다가구주택</td>\n",
       "      <td>1</td>\n",
       "      <td>0</td>\n",
       "      <td>0</td>\n",
       "      <td>0</td>\n",
       "      <td>0%</td>\n",
       "      <td>0%</td>\n",
       "    </tr>\n",
       "    <tr>\n",
       "      <th>3</th>\n",
       "      <td>단독주택,다가구주택</td>\n",
       "      <td>겸용</td>\n",
       "      <td>14</td>\n",
       "      <td>5</td>\n",
       "      <td>2112645140</td>\n",
       "      <td>1524785900</td>\n",
       "      <td>35.7%</td>\n",
       "      <td>72.2%</td>\n",
       "    </tr>\n",
       "    <tr>\n",
       "      <th>4</th>\n",
       "      <td>단독주택,다가구주택</td>\n",
       "      <td>소계</td>\n",
       "      <td>25</td>\n",
       "      <td>9</td>\n",
       "      <td>3990553320</td>\n",
       "      <td>2862634900</td>\n",
       "      <td>36%</td>\n",
       "      <td>71.7%</td>\n",
       "    </tr>\n",
       "    <tr>\n",
       "      <th>5</th>\n",
       "      <td>연립주택,다세대</td>\n",
       "      <td>연립주택,다세대</td>\n",
       "      <td>168</td>\n",
       "      <td>51</td>\n",
       "      <td>7843217600</td>\n",
       "      <td>5826268118</td>\n",
       "      <td>30.4%</td>\n",
       "      <td>74.3%</td>\n",
       "    </tr>\n",
       "    <tr>\n",
       "      <th>6</th>\n",
       "      <td>대지,임야,전답</td>\n",
       "      <td>대지</td>\n",
       "      <td>6</td>\n",
       "      <td>4</td>\n",
       "      <td>845497360</td>\n",
       "      <td>685379000</td>\n",
       "      <td>66.7%</td>\n",
       "      <td>81.1%</td>\n",
       "    </tr>\n",
       "    <tr>\n",
       "      <th>7</th>\n",
       "      <td>대지,임야,전답</td>\n",
       "      <td>임야</td>\n",
       "      <td>27</td>\n",
       "      <td>12</td>\n",
       "      <td>4843345070</td>\n",
       "      <td>3095738777</td>\n",
       "      <td>44.4%</td>\n",
       "      <td>63.9%</td>\n",
       "    </tr>\n",
       "    <tr>\n",
       "      <th>8</th>\n",
       "      <td>대지,임야,전답</td>\n",
       "      <td>전답</td>\n",
       "      <td>34</td>\n",
       "      <td>19</td>\n",
       "      <td>4362263000</td>\n",
       "      <td>4193818800</td>\n",
       "      <td>55.9%</td>\n",
       "      <td>96.1%</td>\n",
       "    </tr>\n",
       "    <tr>\n",
       "      <th>9</th>\n",
       "      <td>대지,임야,전답</td>\n",
       "      <td>겸용</td>\n",
       "      <td>11</td>\n",
       "      <td>6</td>\n",
       "      <td>1200646000</td>\n",
       "      <td>891603100</td>\n",
       "      <td>54.5%</td>\n",
       "      <td>74.3%</td>\n",
       "    </tr>\n",
       "    <tr>\n",
       "      <th>10</th>\n",
       "      <td>대지,임야,전답</td>\n",
       "      <td>소계</td>\n",
       "      <td>78</td>\n",
       "      <td>41</td>\n",
       "      <td>11251751430</td>\n",
       "      <td>8866539677</td>\n",
       "      <td>52.6%</td>\n",
       "      <td>78.8%</td>\n",
       "    </tr>\n",
       "    <tr>\n",
       "      <th>11</th>\n",
       "      <td>자동차,중기</td>\n",
       "      <td>자동차,중기</td>\n",
       "      <td>0</td>\n",
       "      <td>0</td>\n",
       "      <td>0</td>\n",
       "      <td>0</td>\n",
       "      <td>0%</td>\n",
       "      <td>0%</td>\n",
       "    </tr>\n",
       "    <tr>\n",
       "      <th>12</th>\n",
       "      <td>상가,오피스텔,근린시설</td>\n",
       "      <td>상가</td>\n",
       "      <td>2</td>\n",
       "      <td>2</td>\n",
       "      <td>627000000</td>\n",
       "      <td>702000000</td>\n",
       "      <td>100%</td>\n",
       "      <td>112%</td>\n",
       "    </tr>\n",
       "    <tr>\n",
       "      <th>13</th>\n",
       "      <td>상가,오피스텔,근린시설</td>\n",
       "      <td>오피스텔</td>\n",
       "      <td>4</td>\n",
       "      <td>2</td>\n",
       "      <td>202000000</td>\n",
       "      <td>171700000</td>\n",
       "      <td>50%</td>\n",
       "      <td>85%</td>\n",
       "    </tr>\n",
       "    <tr>\n",
       "      <th>14</th>\n",
       "      <td>상가,오피스텔,근린시설</td>\n",
       "      <td>근린시설</td>\n",
       "      <td>9</td>\n",
       "      <td>4</td>\n",
       "      <td>2519303750</td>\n",
       "      <td>2614079999</td>\n",
       "      <td>44.4%</td>\n",
       "      <td>103.8%</td>\n",
       "    </tr>\n",
       "    <tr>\n",
       "      <th>15</th>\n",
       "      <td>상가,오피스텔,근린시설</td>\n",
       "      <td>겸용</td>\n",
       "      <td>96</td>\n",
       "      <td>29</td>\n",
       "      <td>17850272000</td>\n",
       "      <td>10117239700</td>\n",
       "      <td>30.2%</td>\n",
       "      <td>56.7%</td>\n",
       "    </tr>\n",
       "    <tr>\n",
       "      <th>16</th>\n",
       "      <td>상가,오피스텔,근린시설</td>\n",
       "      <td>소계</td>\n",
       "      <td>111</td>\n",
       "      <td>37</td>\n",
       "      <td>21198575750</td>\n",
       "      <td>13605019699</td>\n",
       "      <td>33.3%</td>\n",
       "      <td>64.2%</td>\n",
       "    </tr>\n",
       "    <tr>\n",
       "      <th>17</th>\n",
       "      <td>기타</td>\n",
       "      <td>기타</td>\n",
       "      <td>0</td>\n",
       "      <td>0</td>\n",
       "      <td>0</td>\n",
       "      <td>0</td>\n",
       "      <td>0%</td>\n",
       "      <td>0%</td>\n",
       "    </tr>\n",
       "    <tr>\n",
       "      <th>18</th>\n",
       "      <td>전체</td>\n",
       "      <td>전체</td>\n",
       "      <td>473</td>\n",
       "      <td>197</td>\n",
       "      <td>62331098100</td>\n",
       "      <td>50268793801</td>\n",
       "      <td>41.6%</td>\n",
       "      <td>80.6%</td>\n",
       "    </tr>\n",
       "  </tbody>\n",
       "</table>\n",
       "</div>"
      ],
      "text/plain": [
       "            물건용도    물건용도.1  경매건수  매각건수    감정가(단위:원)    매각가(단위:원)    매각율  \\\n",
       "0            아파트       아파트    91    59  18047000000  19108331407  64.8%   \n",
       "1     단독주택,다가구주택      단독주택    10     4   1877908180   1337849000    40%   \n",
       "2     단독주택,다가구주택     다가구주택     1     0            0            0     0%   \n",
       "3     단독주택,다가구주택        겸용    14     5   2112645140   1524785900  35.7%   \n",
       "4     단독주택,다가구주택        소계    25     9   3990553320   2862634900    36%   \n",
       "5       연립주택,다세대  연립주택,다세대   168    51   7843217600   5826268118  30.4%   \n",
       "6       대지,임야,전답        대지     6     4    845497360    685379000  66.7%   \n",
       "7       대지,임야,전답        임야    27    12   4843345070   3095738777  44.4%   \n",
       "8       대지,임야,전답        전답    34    19   4362263000   4193818800  55.9%   \n",
       "9       대지,임야,전답        겸용    11     6   1200646000    891603100  54.5%   \n",
       "10      대지,임야,전답        소계    78    41  11251751430   8866539677  52.6%   \n",
       "11        자동차,중기    자동차,중기     0     0            0            0     0%   \n",
       "12  상가,오피스텔,근린시설        상가     2     2    627000000    702000000   100%   \n",
       "13  상가,오피스텔,근린시설      오피스텔     4     2    202000000    171700000    50%   \n",
       "14  상가,오피스텔,근린시설      근린시설     9     4   2519303750   2614079999  44.4%   \n",
       "15  상가,오피스텔,근린시설        겸용    96    29  17850272000  10117239700  30.2%   \n",
       "16  상가,오피스텔,근린시설        소계   111    37  21198575750  13605019699  33.3%   \n",
       "17            기타        기타     0     0            0            0     0%   \n",
       "18            전체        전체   473   197  62331098100  50268793801  41.6%   \n",
       "\n",
       "      매각가율  \n",
       "0   105.9%  \n",
       "1    71.2%  \n",
       "2       0%  \n",
       "3    72.2%  \n",
       "4    71.7%  \n",
       "5    74.3%  \n",
       "6    81.1%  \n",
       "7    63.9%  \n",
       "8    96.1%  \n",
       "9    74.3%  \n",
       "10   78.8%  \n",
       "11      0%  \n",
       "12    112%  \n",
       "13     85%  \n",
       "14  103.8%  \n",
       "15   56.7%  \n",
       "16   64.2%  \n",
       "17      0%  \n",
       "18   80.6%  "
      ]
     },
     "execution_count": 21,
     "metadata": {},
     "output_type": "execute_result"
    }
   ],
   "source": [
    "pd.read_html(driver.page_source)[0]"
   ]
  },
  {
   "cell_type": "code",
   "execution_count": null,
   "metadata": {},
   "outputs": [],
   "source": []
  }
 ],
 "metadata": {
  "kernelspec": {
   "display_name": "simon_env",
   "language": "python",
   "name": "simon_env"
  },
  "language_info": {
   "codemirror_mode": {
    "name": "ipython",
    "version": 3
   },
   "file_extension": ".py",
   "mimetype": "text/x-python",
   "name": "python",
   "nbconvert_exporter": "python",
   "pygments_lexer": "ipython3",
   "version": "3.8.8"
  },
  "toc": {
   "base_numbering": 1,
   "nav_menu": {},
   "number_sections": true,
   "sideBar": true,
   "skip_h1_title": true,
   "title_cell": "Table of Contents",
   "title_sidebar": "Contents",
   "toc_cell": false,
   "toc_position": {},
   "toc_section_display": true,
   "toc_window_display": false
  },
  "varInspector": {
   "cols": {
    "lenName": 16,
    "lenType": 16,
    "lenVar": 40
   },
   "kernels_config": {
    "python": {
     "delete_cmd_postfix": "",
     "delete_cmd_prefix": "del ",
     "library": "var_list.py",
     "varRefreshCmd": "print(var_dic_list())"
    },
    "r": {
     "delete_cmd_postfix": ") ",
     "delete_cmd_prefix": "rm(",
     "library": "var_list.r",
     "varRefreshCmd": "cat(var_dic_list()) "
    }
   },
   "types_to_exclude": [
    "module",
    "function",
    "builtin_function_or_method",
    "instance",
    "_Feature"
   ],
   "window_display": false
  }
 },
 "nbformat": 4,
 "nbformat_minor": 5
}
